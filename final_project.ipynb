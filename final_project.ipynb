{
 "cells": [
  {
   "cell_type": "code",
   "execution_count": 2,
   "metadata": {},
   "outputs": [],
   "source": [
    "import matplotlib.pyplot as plt\n",
    "import numpy as np\n",
    "import os"
   ]
  },
  {
   "cell_type": "code",
   "execution_count": 3,
   "metadata": {},
   "outputs": [],
   "source": [
    "import joblib\n",
    "from skimage.io import imread\n",
    "from skimage.transform import resize\n",
    " \n",
    "def resize_all(src, pklname, width=360, height=180):\n",
    "    \"\"\"\n",
    "    load images from path, resize them and write them as arrays to a dictionary, \n",
    "    together with labels and metadata. The dictionary is written to a pickle file \n",
    "    named '{pklname}_{width}x{height}px.pkl'.\n",
    "     \n",
    "    Parameter\n",
    "    ---------\n",
    "    src: str\n",
    "        path to data\n",
    "    pklname: str\n",
    "        path to output file\n",
    "    width: int\n",
    "        target width of the image in pixels\n",
    "    include: set[str]\n",
    "        set containing str\n",
    "    \"\"\"\n",
    "     \n",
    "    height = height if height is not None else width\n",
    "     \n",
    "    data = dict()\n",
    "    data['description'] = 'resized ({0}x{1})animal images in rgb'.format(int(width), int(height))\n",
    "    data['label'] = []\n",
    "    data['filename'] = []\n",
    "    data['data'] = []   \n",
    "     \n",
    "    pklname = f\"{pklname}_{width}x{height}px.pkl\"\n",
    " \n",
    "    # read all images in PATH, resize and write to DESTINATION_PATH\n",
    "    for subdir in os.listdir(src):\n",
    "        # if subdir in include:\n",
    "        #     print(subdir)\n",
    "        current_path = os.path.join(src, subdir)\n",
    " \n",
    "        for file in os.listdir(current_path):\n",
    "            if file[-4:] in {'jpeg'}:\n",
    "                im = imread(os.path.join(current_path, file))\n",
    "                im = resize(im, (width, height)) #[:,:,::-1]\n",
    "                data['label'].append(subdir)\n",
    "                data['filename'].append(file)\n",
    "                data['data'].append(im)\n",
    " \n",
    "        joblib.dump(data, pklname)"
   ]
  },
  {
   "cell_type": "code",
   "execution_count": 4,
   "metadata": {},
   "outputs": [],
   "source": [
    "resize_all('/home/ducanh/project_master/final_project_cv/converted_dataset','/home/ducanh/project_master/final_project_cv/project_cv/sklearn_result' )"
   ]
  },
  {
   "cell_type": "code",
   "execution_count": 4,
   "metadata": {},
   "outputs": [
    {
     "data": {
      "text/plain": [
       "['0', '3', '1', '2', '4', '5']"
      ]
     },
     "execution_count": 4,
     "metadata": {},
     "output_type": "execute_result"
    }
   ],
   "source": [
    "data_path = fr'{os.getenv(\"HOME\")}/project_master/final_project_cv/converted_dataset'\n",
    "os.listdir(data_path)"
   ]
  },
  {
   "cell_type": "code",
   "execution_count": 5,
   "metadata": {},
   "outputs": [],
   "source": [
    "data = joblib.load('sklearn_result_360x180px.pkl')\n",
    "X = np.array(data['data'])\n",
    "y = np.array(data['label'])"
   ]
  },
  {
   "cell_type": "code",
   "execution_count": 6,
   "metadata": {},
   "outputs": [
    {
     "name": "stdout",
     "output_type": "stream",
     "text": [
      "(2373, 360, 180, 3)\n"
     ]
    }
   ],
   "source": [
    "print(X.shape)"
   ]
  },
  {
   "cell_type": "code",
   "execution_count": 7,
   "metadata": {},
   "outputs": [
    {
     "name": "stderr",
     "output_type": "stream",
     "text": [
      "/tmp/ipykernel_62901/119216922.py:6: FutureWarning: `multichannel` is a deprecated argument name for `hog`. It will be removed in version 1.0. Please use `channel_axis` instead.\n",
      "  fed, dog_hog_img = hog(\n"
     ]
    }
   ],
   "source": [
    "from skimage.feature import hog\n",
    "from skimage.io import imread\n",
    "from skimage.transform import rescale\n",
    "descriptors = []\n",
    "for x in X:\n",
    "    fed, dog_hog_img = hog(\n",
    "        x, pixels_per_cell=(8,8), \n",
    "        cells_per_block=(2, 2), \n",
    "        orientations=9, \n",
    "        visualize=True, \n",
    "        block_norm='L2', \n",
    "        multichannel=True)\n",
    "    descriptors.append(fed)\n",
    "\n",
    "descriptors = np.array(descriptors)\n"
   ]
  },
  {
   "cell_type": "code",
   "execution_count": null,
   "metadata": {},
   "outputs": [
    {
     "name": "stdout",
     "output_type": "stream",
     "text": [
      "(2373, 10404)\n"
     ]
    }
   ],
   "source": [
    "# print(len(descriptors))\n",
    "# print(len(y))\n",
    "print(descriptors.shape)"
   ]
  },
  {
   "cell_type": "code",
   "execution_count": null,
   "metadata": {},
   "outputs": [],
   "source": [
    "\n",
    "from sklearn import svm\n",
    "from sklearn.metrics import accuracy_score\n",
    "import ConfusionMatrixDisplay\n",
    "\n",
    "\n",
    "\n",
    "def train(index, X_train, X_test, y_train, y_test):\n",
    "    print(\"-------------------------------------\")\n",
    "    print(f\"Running Train {index}\")\n",
    "    #Create a svm Classifier\n",
    "    clf = svm.SVC(kernel='rbf',decision_function_shape = 'ovr', break_ties=True, probability=True) # Linear Kernel\n",
    "\n",
    "    #Train the model using the training sets\n",
    "    clf.fit(X_train, y_train)\n",
    "\n",
    "    #Predict the response for test dataset\n",
    "    y_pred = clf.predict(X_test)\n",
    "\n",
    "    acc = accuracy_score(y_test, y_pred)\n",
    "    print(f\"Accuracy: {acc}\")\n",
    "    clf.predict_proba(X_test)\n",
    "    ConfusionMatrixDisplay.from_predictions(y_test, y_pred)\n",
    "    plt.show()\n",
    "    plt.savefig(f'conf_mat_{index}.png')\n",
    "    print(\"Saving confusion matrix\")\n",
    "    \n",
    "    joblib.dump(clf, f'model_name_{index}.npy')\n"
   ]
  },
  {
   "cell_type": "code",
   "execution_count": null,
   "metadata": {},
   "outputs": [],
   "source": [
    "from sklearn.model_selection import train_test_split\n",
    "\n",
    "X, X_test, y, y_test = train_test_split(\n",
    "     X, y, test_size=0.2, random_state=42)"
   ]
  },
  {
   "cell_type": "code",
   "execution_count": null,
   "metadata": {},
   "outputs": [],
   "source": [
    "from sklearn.model_selection import KFold\n",
    "\n",
    "kf = KFold(n_splits=5, random_state=42, shuffle=True)\n",
    "for i, train_index, val_index in enumerate(kf.split(X)):\n",
    "    print(\"TRAIN:\", train_index, \"VAL:\", val_index)\n",
    "    X_train, X_val = X[train_index], X[val_index]\n",
    "    y_train, y_val = y[train_index], y[val_index]\n",
    "\n",
    "    train(i, X_train, X_val, y_train, y_val)\n",
    "    "
   ]
  },
  {
   "cell_type": "code",
   "execution_count": 13,
   "metadata": {},
   "outputs": [
    {
     "name": "stderr",
     "output_type": "stream",
     "text": [
      "/tmp/ipykernel_62901/1983484597.py:42: FutureWarning: `multichannel` is a deprecated argument name for `pyramid_gaussian`. It will be removed in version 1.0. Please use `channel_axis` instead.\n",
      "  for resized in pyramid_gaussian(img, downscale=2,multichannel = True): # loop over each layer of the image that you take!\n",
      "/tmp/ipykernel_62901/1983484597.py:49: FutureWarning: `multichannel` is a deprecated argument name for `hog`. It will be removed in version 1.0. Please use `channel_axis` instead.\n",
      "  fds, img_hog = hog(\n",
      "/tmp/ipykernel_62901/1983484597.py:49: FutureWarning: `multichannel` is a deprecated argument name for `hog`. It will be removed in version 1.0. Please use `channel_axis` instead.\n",
      "  fds, img_hog = hog(\n"
     ]
    },
    {
     "name": "stdout",
     "output_type": "stream",
     "text": [
      "Detection:: Location -> (0, 0)\n",
      "Scale ->  0 | Confidence Score 0.7687738704315673 \n",
      "\n",
      "Detection:: Location -> (20, 0)\n",
      "Scale ->  0 | Confidence Score 0.7535402675402052 \n",
      "\n"
     ]
    },
    {
     "name": "stderr",
     "output_type": "stream",
     "text": [
      "/tmp/ipykernel_62901/1983484597.py:49: FutureWarning: `multichannel` is a deprecated argument name for `hog`. It will be removed in version 1.0. Please use `channel_axis` instead.\n",
      "  fds, img_hog = hog(\n",
      "/tmp/ipykernel_62901/1983484597.py:49: FutureWarning: `multichannel` is a deprecated argument name for `hog`. It will be removed in version 1.0. Please use `channel_axis` instead.\n",
      "  fds, img_hog = hog(\n"
     ]
    },
    {
     "name": "stdout",
     "output_type": "stream",
     "text": [
      "Detection:: Location -> (40, 0)\n",
      "Scale ->  0 | Confidence Score 0.7720873104505651 \n",
      "\n",
      "Detection:: Location -> (60, 0)\n",
      "Scale ->  0 | Confidence Score 0.7498258667432512 \n",
      "\n"
     ]
    },
    {
     "name": "stderr",
     "output_type": "stream",
     "text": [
      "/tmp/ipykernel_62901/1983484597.py:49: FutureWarning: `multichannel` is a deprecated argument name for `hog`. It will be removed in version 1.0. Please use `channel_axis` instead.\n",
      "  fds, img_hog = hog(\n",
      "/tmp/ipykernel_62901/1983484597.py:49: FutureWarning: `multichannel` is a deprecated argument name for `hog`. It will be removed in version 1.0. Please use `channel_axis` instead.\n",
      "  fds, img_hog = hog(\n"
     ]
    },
    {
     "name": "stdout",
     "output_type": "stream",
     "text": [
      "Detection:: Location -> (80, 0)\n",
      "Scale ->  0 | Confidence Score 0.6832436655704274 \n",
      "\n",
      "Detection:: Location -> (100, 0)\n",
      "Scale ->  0 | Confidence Score 0.6332811125071914 \n",
      "\n"
     ]
    },
    {
     "name": "stderr",
     "output_type": "stream",
     "text": [
      "/tmp/ipykernel_62901/1983484597.py:49: FutureWarning: `multichannel` is a deprecated argument name for `hog`. It will be removed in version 1.0. Please use `channel_axis` instead.\n",
      "  fds, img_hog = hog(\n",
      "/tmp/ipykernel_62901/1983484597.py:49: FutureWarning: `multichannel` is a deprecated argument name for `hog`. It will be removed in version 1.0. Please use `channel_axis` instead.\n",
      "  fds, img_hog = hog(\n",
      "/tmp/ipykernel_62901/1983484597.py:49: FutureWarning: `multichannel` is a deprecated argument name for `hog`. It will be removed in version 1.0. Please use `channel_axis` instead.\n",
      "  fds, img_hog = hog(\n",
      "/tmp/ipykernel_62901/1983484597.py:49: FutureWarning: `multichannel` is a deprecated argument name for `hog`. It will be removed in version 1.0. Please use `channel_axis` instead.\n",
      "  fds, img_hog = hog(\n",
      "/tmp/ipykernel_62901/1983484597.py:49: FutureWarning: `multichannel` is a deprecated argument name for `hog`. It will be removed in version 1.0. Please use `channel_axis` instead.\n",
      "  fds, img_hog = hog(\n",
      "/tmp/ipykernel_62901/1983484597.py:49: FutureWarning: `multichannel` is a deprecated argument name for `hog`. It will be removed in version 1.0. Please use `channel_axis` instead.\n",
      "  fds, img_hog = hog(\n",
      "/tmp/ipykernel_62901/1983484597.py:49: FutureWarning: `multichannel` is a deprecated argument name for `hog`. It will be removed in version 1.0. Please use `channel_axis` instead.\n",
      "  fds, img_hog = hog(\n",
      "/tmp/ipykernel_62901/1983484597.py:49: FutureWarning: `multichannel` is a deprecated argument name for `hog`. It will be removed in version 1.0. Please use `channel_axis` instead.\n",
      "  fds, img_hog = hog(\n",
      "/tmp/ipykernel_62901/1983484597.py:49: FutureWarning: `multichannel` is a deprecated argument name for `hog`. It will be removed in version 1.0. Please use `channel_axis` instead.\n",
      "  fds, img_hog = hog(\n",
      "/tmp/ipykernel_62901/1983484597.py:49: FutureWarning: `multichannel` is a deprecated argument name for `hog`. It will be removed in version 1.0. Please use `channel_axis` instead.\n",
      "  fds, img_hog = hog(\n",
      "/tmp/ipykernel_62901/1983484597.py:49: FutureWarning: `multichannel` is a deprecated argument name for `hog`. It will be removed in version 1.0. Please use `channel_axis` instead.\n",
      "  fds, img_hog = hog(\n",
      "/tmp/ipykernel_62901/1983484597.py:49: FutureWarning: `multichannel` is a deprecated argument name for `hog`. It will be removed in version 1.0. Please use `channel_axis` instead.\n",
      "  fds, img_hog = hog(\n",
      "/tmp/ipykernel_62901/1983484597.py:49: FutureWarning: `multichannel` is a deprecated argument name for `hog`. It will be removed in version 1.0. Please use `channel_axis` instead.\n",
      "  fds, img_hog = hog(\n",
      "/tmp/ipykernel_62901/1983484597.py:49: FutureWarning: `multichannel` is a deprecated argument name for `hog`. It will be removed in version 1.0. Please use `channel_axis` instead.\n",
      "  fds, img_hog = hog(\n",
      "/tmp/ipykernel_62901/1983484597.py:49: FutureWarning: `multichannel` is a deprecated argument name for `hog`. It will be removed in version 1.0. Please use `channel_axis` instead.\n",
      "  fds, img_hog = hog(\n",
      "/tmp/ipykernel_62901/1983484597.py:49: FutureWarning: `multichannel` is a deprecated argument name for `hog`. It will be removed in version 1.0. Please use `channel_axis` instead.\n",
      "  fds, img_hog = hog(\n",
      "/tmp/ipykernel_62901/1983484597.py:49: FutureWarning: `multichannel` is a deprecated argument name for `hog`. It will be removed in version 1.0. Please use `channel_axis` instead.\n",
      "  fds, img_hog = hog(\n",
      "/tmp/ipykernel_62901/1983484597.py:49: FutureWarning: `multichannel` is a deprecated argument name for `hog`. It will be removed in version 1.0. Please use `channel_axis` instead.\n",
      "  fds, img_hog = hog(\n",
      "/tmp/ipykernel_62901/1983484597.py:49: FutureWarning: `multichannel` is a deprecated argument name for `hog`. It will be removed in version 1.0. Please use `channel_axis` instead.\n",
      "  fds, img_hog = hog(\n",
      "/tmp/ipykernel_62901/1983484597.py:49: FutureWarning: `multichannel` is a deprecated argument name for `hog`. It will be removed in version 1.0. Please use `channel_axis` instead.\n",
      "  fds, img_hog = hog(\n",
      "/tmp/ipykernel_62901/1983484597.py:49: FutureWarning: `multichannel` is a deprecated argument name for `hog`. It will be removed in version 1.0. Please use `channel_axis` instead.\n",
      "  fds, img_hog = hog(\n",
      "/tmp/ipykernel_62901/1983484597.py:49: FutureWarning: `multichannel` is a deprecated argument name for `hog`. It will be removed in version 1.0. Please use `channel_axis` instead.\n",
      "  fds, img_hog = hog(\n",
      "/tmp/ipykernel_62901/1983484597.py:49: FutureWarning: `multichannel` is a deprecated argument name for `hog`. It will be removed in version 1.0. Please use `channel_axis` instead.\n",
      "  fds, img_hog = hog(\n",
      "/tmp/ipykernel_62901/1983484597.py:49: FutureWarning: `multichannel` is a deprecated argument name for `hog`. It will be removed in version 1.0. Please use `channel_axis` instead.\n",
      "  fds, img_hog = hog(\n",
      "/tmp/ipykernel_62901/1983484597.py:49: FutureWarning: `multichannel` is a deprecated argument name for `hog`. It will be removed in version 1.0. Please use `channel_axis` instead.\n",
      "  fds, img_hog = hog(\n",
      "/tmp/ipykernel_62901/1983484597.py:49: FutureWarning: `multichannel` is a deprecated argument name for `hog`. It will be removed in version 1.0. Please use `channel_axis` instead.\n",
      "  fds, img_hog = hog(\n",
      "/tmp/ipykernel_62901/1983484597.py:49: FutureWarning: `multichannel` is a deprecated argument name for `hog`. It will be removed in version 1.0. Please use `channel_axis` instead.\n",
      "  fds, img_hog = hog(\n",
      "/tmp/ipykernel_62901/1983484597.py:49: FutureWarning: `multichannel` is a deprecated argument name for `hog`. It will be removed in version 1.0. Please use `channel_axis` instead.\n",
      "  fds, img_hog = hog(\n",
      "/tmp/ipykernel_62901/1983484597.py:49: FutureWarning: `multichannel` is a deprecated argument name for `hog`. It will be removed in version 1.0. Please use `channel_axis` instead.\n",
      "  fds, img_hog = hog(\n",
      "/tmp/ipykernel_62901/1983484597.py:49: FutureWarning: `multichannel` is a deprecated argument name for `hog`. It will be removed in version 1.0. Please use `channel_axis` instead.\n",
      "  fds, img_hog = hog(\n"
     ]
    },
    {
     "name": "stdout",
     "output_type": "stream",
     "text": [
      "Detection:: Location -> (700, 0)\n",
      "Scale ->  0 | Confidence Score 0.602023123939631 \n",
      "\n"
     ]
    },
    {
     "name": "stderr",
     "output_type": "stream",
     "text": [
      "/tmp/ipykernel_62901/1983484597.py:49: FutureWarning: `multichannel` is a deprecated argument name for `hog`. It will be removed in version 1.0. Please use `channel_axis` instead.\n",
      "  fds, img_hog = hog(\n",
      "/tmp/ipykernel_62901/1983484597.py:49: FutureWarning: `multichannel` is a deprecated argument name for `hog`. It will be removed in version 1.0. Please use `channel_axis` instead.\n",
      "  fds, img_hog = hog(\n",
      "/tmp/ipykernel_62901/1983484597.py:49: FutureWarning: `multichannel` is a deprecated argument name for `hog`. It will be removed in version 1.0. Please use `channel_axis` instead.\n",
      "  fds, img_hog = hog(\n",
      "/tmp/ipykernel_62901/1983484597.py:49: FutureWarning: `multichannel` is a deprecated argument name for `hog`. It will be removed in version 1.0. Please use `channel_axis` instead.\n",
      "  fds, img_hog = hog(\n",
      "/tmp/ipykernel_62901/1983484597.py:49: FutureWarning: `multichannel` is a deprecated argument name for `hog`. It will be removed in version 1.0. Please use `channel_axis` instead.\n",
      "  fds, img_hog = hog(\n",
      "/tmp/ipykernel_62901/1983484597.py:49: FutureWarning: `multichannel` is a deprecated argument name for `hog`. It will be removed in version 1.0. Please use `channel_axis` instead.\n",
      "  fds, img_hog = hog(\n",
      "/tmp/ipykernel_62901/1983484597.py:49: FutureWarning: `multichannel` is a deprecated argument name for `hog`. It will be removed in version 1.0. Please use `channel_axis` instead.\n",
      "  fds, img_hog = hog(\n",
      "/tmp/ipykernel_62901/1983484597.py:49: FutureWarning: `multichannel` is a deprecated argument name for `hog`. It will be removed in version 1.0. Please use `channel_axis` instead.\n",
      "  fds, img_hog = hog(\n",
      "/tmp/ipykernel_62901/1983484597.py:49: FutureWarning: `multichannel` is a deprecated argument name for `hog`. It will be removed in version 1.0. Please use `channel_axis` instead.\n",
      "  fds, img_hog = hog(\n",
      "/tmp/ipykernel_62901/1983484597.py:49: FutureWarning: `multichannel` is a deprecated argument name for `hog`. It will be removed in version 1.0. Please use `channel_axis` instead.\n",
      "  fds, img_hog = hog(\n"
     ]
    },
    {
     "name": "stdout",
     "output_type": "stream",
     "text": [
      "Detection:: Location -> (880, 0)\n",
      "Scale ->  0 | Confidence Score 0.6036290090680199 \n",
      "\n",
      "Detection:: Location -> (900, 0)\n",
      "Scale ->  0 | Confidence Score 0.659227489515463 \n",
      "\n"
     ]
    },
    {
     "name": "stderr",
     "output_type": "stream",
     "text": [
      "/tmp/ipykernel_62901/1983484597.py:49: FutureWarning: `multichannel` is a deprecated argument name for `hog`. It will be removed in version 1.0. Please use `channel_axis` instead.\n",
      "  fds, img_hog = hog(\n",
      "/tmp/ipykernel_62901/1983484597.py:49: FutureWarning: `multichannel` is a deprecated argument name for `hog`. It will be removed in version 1.0. Please use `channel_axis` instead.\n",
      "  fds, img_hog = hog(\n"
     ]
    },
    {
     "name": "stdout",
     "output_type": "stream",
     "text": [
      "Detection:: Location -> (920, 0)\n",
      "Scale ->  0 | Confidence Score 0.7257542304617054 \n",
      "\n",
      "Detection:: Location -> (0, 20)\n",
      "Scale ->  0 | Confidence Score 0.7681697806292974 \n",
      "\n"
     ]
    },
    {
     "name": "stderr",
     "output_type": "stream",
     "text": [
      "/tmp/ipykernel_62901/1983484597.py:49: FutureWarning: `multichannel` is a deprecated argument name for `hog`. It will be removed in version 1.0. Please use `channel_axis` instead.\n",
      "  fds, img_hog = hog(\n",
      "/tmp/ipykernel_62901/1983484597.py:49: FutureWarning: `multichannel` is a deprecated argument name for `hog`. It will be removed in version 1.0. Please use `channel_axis` instead.\n",
      "  fds, img_hog = hog(\n"
     ]
    },
    {
     "name": "stdout",
     "output_type": "stream",
     "text": [
      "Detection:: Location -> (20, 20)\n",
      "Scale ->  0 | Confidence Score 0.7609449045768549 \n",
      "\n",
      "Detection:: Location -> (40, 20)\n",
      "Scale ->  0 | Confidence Score 0.7315410717527183 \n",
      "\n"
     ]
    },
    {
     "name": "stderr",
     "output_type": "stream",
     "text": [
      "/tmp/ipykernel_62901/1983484597.py:49: FutureWarning: `multichannel` is a deprecated argument name for `hog`. It will be removed in version 1.0. Please use `channel_axis` instead.\n",
      "  fds, img_hog = hog(\n",
      "/tmp/ipykernel_62901/1983484597.py:49: FutureWarning: `multichannel` is a deprecated argument name for `hog`. It will be removed in version 1.0. Please use `channel_axis` instead.\n",
      "  fds, img_hog = hog(\n"
     ]
    },
    {
     "name": "stdout",
     "output_type": "stream",
     "text": [
      "Detection:: Location -> (60, 20)\n",
      "Scale ->  0 | Confidence Score 0.6657349681772317 \n",
      "\n",
      "Detection:: Location -> (80, 20)\n",
      "Scale ->  0 | Confidence Score 0.6746584137914845 \n",
      "\n"
     ]
    },
    {
     "name": "stderr",
     "output_type": "stream",
     "text": [
      "/tmp/ipykernel_62901/1983484597.py:49: FutureWarning: `multichannel` is a deprecated argument name for `hog`. It will be removed in version 1.0. Please use `channel_axis` instead.\n",
      "  fds, img_hog = hog(\n",
      "/tmp/ipykernel_62901/1983484597.py:49: FutureWarning: `multichannel` is a deprecated argument name for `hog`. It will be removed in version 1.0. Please use `channel_axis` instead.\n",
      "  fds, img_hog = hog(\n",
      "/tmp/ipykernel_62901/1983484597.py:49: FutureWarning: `multichannel` is a deprecated argument name for `hog`. It will be removed in version 1.0. Please use `channel_axis` instead.\n",
      "  fds, img_hog = hog(\n",
      "/tmp/ipykernel_62901/1983484597.py:49: FutureWarning: `multichannel` is a deprecated argument name for `hog`. It will be removed in version 1.0. Please use `channel_axis` instead.\n",
      "  fds, img_hog = hog(\n",
      "/tmp/ipykernel_62901/1983484597.py:49: FutureWarning: `multichannel` is a deprecated argument name for `hog`. It will be removed in version 1.0. Please use `channel_axis` instead.\n",
      "  fds, img_hog = hog(\n",
      "/tmp/ipykernel_62901/1983484597.py:49: FutureWarning: `multichannel` is a deprecated argument name for `hog`. It will be removed in version 1.0. Please use `channel_axis` instead.\n",
      "  fds, img_hog = hog(\n",
      "/tmp/ipykernel_62901/1983484597.py:49: FutureWarning: `multichannel` is a deprecated argument name for `hog`. It will be removed in version 1.0. Please use `channel_axis` instead.\n",
      "  fds, img_hog = hog(\n",
      "/tmp/ipykernel_62901/1983484597.py:49: FutureWarning: `multichannel` is a deprecated argument name for `hog`. It will be removed in version 1.0. Please use `channel_axis` instead.\n",
      "  fds, img_hog = hog(\n",
      "/tmp/ipykernel_62901/1983484597.py:49: FutureWarning: `multichannel` is a deprecated argument name for `hog`. It will be removed in version 1.0. Please use `channel_axis` instead.\n",
      "  fds, img_hog = hog(\n",
      "/tmp/ipykernel_62901/1983484597.py:49: FutureWarning: `multichannel` is a deprecated argument name for `hog`. It will be removed in version 1.0. Please use `channel_axis` instead.\n",
      "  fds, img_hog = hog(\n",
      "/tmp/ipykernel_62901/1983484597.py:49: FutureWarning: `multichannel` is a deprecated argument name for `hog`. It will be removed in version 1.0. Please use `channel_axis` instead.\n",
      "  fds, img_hog = hog(\n",
      "/tmp/ipykernel_62901/1983484597.py:49: FutureWarning: `multichannel` is a deprecated argument name for `hog`. It will be removed in version 1.0. Please use `channel_axis` instead.\n",
      "  fds, img_hog = hog(\n"
     ]
    },
    {
     "name": "stdout",
     "output_type": "stream",
     "text": [
      "Detection:: Location -> (300, 20)\n",
      "Scale ->  0 | Confidence Score 0.667813583894959 \n",
      "\n",
      "Detection:: Location -> (320, 20)\n",
      "Scale ->  0 | Confidence Score 0.6688786760433196 \n",
      "\n"
     ]
    },
    {
     "name": "stderr",
     "output_type": "stream",
     "text": [
      "/tmp/ipykernel_62901/1983484597.py:49: FutureWarning: `multichannel` is a deprecated argument name for `hog`. It will be removed in version 1.0. Please use `channel_axis` instead.\n",
      "  fds, img_hog = hog(\n",
      "/tmp/ipykernel_62901/1983484597.py:49: FutureWarning: `multichannel` is a deprecated argument name for `hog`. It will be removed in version 1.0. Please use `channel_axis` instead.\n",
      "  fds, img_hog = hog(\n"
     ]
    },
    {
     "name": "stdout",
     "output_type": "stream",
     "text": [
      "Detection:: Location -> (340, 20)\n",
      "Scale ->  0 | Confidence Score 0.7040445780338149 \n",
      "\n",
      "Detection:: Location -> (360, 20)\n",
      "Scale ->  0 | Confidence Score 0.613822744448264 \n",
      "\n"
     ]
    },
    {
     "name": "stderr",
     "output_type": "stream",
     "text": [
      "/tmp/ipykernel_62901/1983484597.py:49: FutureWarning: `multichannel` is a deprecated argument name for `hog`. It will be removed in version 1.0. Please use `channel_axis` instead.\n",
      "  fds, img_hog = hog(\n",
      "/tmp/ipykernel_62901/1983484597.py:49: FutureWarning: `multichannel` is a deprecated argument name for `hog`. It will be removed in version 1.0. Please use `channel_axis` instead.\n",
      "  fds, img_hog = hog(\n"
     ]
    },
    {
     "name": "stdout",
     "output_type": "stream",
     "text": [
      "Detection:: Location -> (380, 20)\n",
      "Scale ->  0 | Confidence Score 0.6194384881434856 \n",
      "\n",
      "Detection:: Location -> (400, 20)\n",
      "Scale ->  0 | Confidence Score 0.6826767879166689 \n",
      "\n"
     ]
    },
    {
     "name": "stderr",
     "output_type": "stream",
     "text": [
      "/tmp/ipykernel_62901/1983484597.py:49: FutureWarning: `multichannel` is a deprecated argument name for `hog`. It will be removed in version 1.0. Please use `channel_axis` instead.\n",
      "  fds, img_hog = hog(\n",
      "/tmp/ipykernel_62901/1983484597.py:49: FutureWarning: `multichannel` is a deprecated argument name for `hog`. It will be removed in version 1.0. Please use `channel_axis` instead.\n",
      "  fds, img_hog = hog(\n"
     ]
    },
    {
     "name": "stdout",
     "output_type": "stream",
     "text": [
      "Detection:: Location -> (420, 20)\n",
      "Scale ->  0 | Confidence Score 0.6481399732741074 \n",
      "\n"
     ]
    },
    {
     "name": "stderr",
     "output_type": "stream",
     "text": [
      "/tmp/ipykernel_62901/1983484597.py:49: FutureWarning: `multichannel` is a deprecated argument name for `hog`. It will be removed in version 1.0. Please use `channel_axis` instead.\n",
      "  fds, img_hog = hog(\n",
      "/tmp/ipykernel_62901/1983484597.py:49: FutureWarning: `multichannel` is a deprecated argument name for `hog`. It will be removed in version 1.0. Please use `channel_axis` instead.\n",
      "  fds, img_hog = hog(\n"
     ]
    },
    {
     "name": "stdout",
     "output_type": "stream",
     "text": [
      "Detection:: Location -> (460, 20)\n",
      "Scale ->  0 | Confidence Score 0.6055416696980352 \n",
      "\n",
      "Detection:: Location -> (480, 20)\n",
      "Scale ->  0 | Confidence Score 0.6847944558509584 \n",
      "\n"
     ]
    },
    {
     "name": "stderr",
     "output_type": "stream",
     "text": [
      "/tmp/ipykernel_62901/1983484597.py:49: FutureWarning: `multichannel` is a deprecated argument name for `hog`. It will be removed in version 1.0. Please use `channel_axis` instead.\n",
      "  fds, img_hog = hog(\n",
      "/tmp/ipykernel_62901/1983484597.py:49: FutureWarning: `multichannel` is a deprecated argument name for `hog`. It will be removed in version 1.0. Please use `channel_axis` instead.\n",
      "  fds, img_hog = hog(\n"
     ]
    },
    {
     "name": "stdout",
     "output_type": "stream",
     "text": [
      "Detection:: Location -> (500, 20)\n",
      "Scale ->  0 | Confidence Score 0.6697097351284771 \n",
      "\n",
      "Detection:: Location -> (520, 20)\n",
      "Scale ->  0 | Confidence Score 0.7154006987946788 \n",
      "\n"
     ]
    },
    {
     "name": "stderr",
     "output_type": "stream",
     "text": [
      "/tmp/ipykernel_62901/1983484597.py:49: FutureWarning: `multichannel` is a deprecated argument name for `hog`. It will be removed in version 1.0. Please use `channel_axis` instead.\n",
      "  fds, img_hog = hog(\n",
      "/tmp/ipykernel_62901/1983484597.py:49: FutureWarning: `multichannel` is a deprecated argument name for `hog`. It will be removed in version 1.0. Please use `channel_axis` instead.\n",
      "  fds, img_hog = hog(\n"
     ]
    },
    {
     "name": "stdout",
     "output_type": "stream",
     "text": [
      "Detection:: Location -> (540, 20)\n",
      "Scale ->  0 | Confidence Score 0.6729024697676286 \n",
      "\n",
      "Detection:: Location -> (560, 20)\n",
      "Scale ->  0 | Confidence Score 0.6841517888848463 \n",
      "\n"
     ]
    },
    {
     "name": "stderr",
     "output_type": "stream",
     "text": [
      "/tmp/ipykernel_62901/1983484597.py:49: FutureWarning: `multichannel` is a deprecated argument name for `hog`. It will be removed in version 1.0. Please use `channel_axis` instead.\n",
      "  fds, img_hog = hog(\n",
      "/tmp/ipykernel_62901/1983484597.py:49: FutureWarning: `multichannel` is a deprecated argument name for `hog`. It will be removed in version 1.0. Please use `channel_axis` instead.\n",
      "  fds, img_hog = hog(\n"
     ]
    },
    {
     "name": "stdout",
     "output_type": "stream",
     "text": [
      "Detection:: Location -> (580, 20)\n",
      "Scale ->  0 | Confidence Score 0.7654656260461182 \n",
      "\n",
      "Detection:: Location -> (600, 20)\n",
      "Scale ->  0 | Confidence Score 0.7557571857349497 \n",
      "\n"
     ]
    },
    {
     "name": "stderr",
     "output_type": "stream",
     "text": [
      "/tmp/ipykernel_62901/1983484597.py:49: FutureWarning: `multichannel` is a deprecated argument name for `hog`. It will be removed in version 1.0. Please use `channel_axis` instead.\n",
      "  fds, img_hog = hog(\n",
      "/tmp/ipykernel_62901/1983484597.py:49: FutureWarning: `multichannel` is a deprecated argument name for `hog`. It will be removed in version 1.0. Please use `channel_axis` instead.\n",
      "  fds, img_hog = hog(\n"
     ]
    },
    {
     "name": "stdout",
     "output_type": "stream",
     "text": [
      "Detection:: Location -> (620, 20)\n",
      "Scale ->  0 | Confidence Score 0.7890984573697805 \n",
      "\n",
      "Detection:: Location -> (640, 20)\n",
      "Scale ->  0 | Confidence Score 0.8085539913922974 \n",
      "\n"
     ]
    },
    {
     "name": "stderr",
     "output_type": "stream",
     "text": [
      "/tmp/ipykernel_62901/1983484597.py:49: FutureWarning: `multichannel` is a deprecated argument name for `hog`. It will be removed in version 1.0. Please use `channel_axis` instead.\n",
      "  fds, img_hog = hog(\n"
     ]
    },
    {
     "name": "stdout",
     "output_type": "stream",
     "text": [
      "Detection:: Location -> (660, 20)\n",
      "Scale ->  0 | Confidence Score 0.8040173503631719 \n",
      "\n",
      "Detection:: Location -> (680, 20)\n",
      "Scale ->  0 | Confidence Score 0.7972728705389032 \n",
      "\n"
     ]
    },
    {
     "name": "stderr",
     "output_type": "stream",
     "text": [
      "/tmp/ipykernel_62901/1983484597.py:49: FutureWarning: `multichannel` is a deprecated argument name for `hog`. It will be removed in version 1.0. Please use `channel_axis` instead.\n",
      "  fds, img_hog = hog(\n",
      "/tmp/ipykernel_62901/1983484597.py:49: FutureWarning: `multichannel` is a deprecated argument name for `hog`. It will be removed in version 1.0. Please use `channel_axis` instead.\n",
      "  fds, img_hog = hog(\n"
     ]
    },
    {
     "name": "stdout",
     "output_type": "stream",
     "text": [
      "Detection:: Location -> (700, 20)\n",
      "Scale ->  0 | Confidence Score 0.7777334038310996 \n",
      "\n",
      "Detection:: Location -> (720, 20)\n",
      "Scale ->  0 | Confidence Score 0.7919381989712705 \n",
      "\n"
     ]
    },
    {
     "name": "stderr",
     "output_type": "stream",
     "text": [
      "/tmp/ipykernel_62901/1983484597.py:49: FutureWarning: `multichannel` is a deprecated argument name for `hog`. It will be removed in version 1.0. Please use `channel_axis` instead.\n",
      "  fds, img_hog = hog(\n",
      "/tmp/ipykernel_62901/1983484597.py:49: FutureWarning: `multichannel` is a deprecated argument name for `hog`. It will be removed in version 1.0. Please use `channel_axis` instead.\n",
      "  fds, img_hog = hog(\n"
     ]
    },
    {
     "name": "stdout",
     "output_type": "stream",
     "text": [
      "Detection:: Location -> (740, 20)\n",
      "Scale ->  0 | Confidence Score 0.835816390817206 \n",
      "\n",
      "Detection:: Location -> (760, 20)\n",
      "Scale ->  0 | Confidence Score 0.8323058414943227 \n",
      "\n"
     ]
    },
    {
     "name": "stderr",
     "output_type": "stream",
     "text": [
      "/tmp/ipykernel_62901/1983484597.py:49: FutureWarning: `multichannel` is a deprecated argument name for `hog`. It will be removed in version 1.0. Please use `channel_axis` instead.\n",
      "  fds, img_hog = hog(\n",
      "/tmp/ipykernel_62901/1983484597.py:49: FutureWarning: `multichannel` is a deprecated argument name for `hog`. It will be removed in version 1.0. Please use `channel_axis` instead.\n",
      "  fds, img_hog = hog(\n"
     ]
    },
    {
     "name": "stdout",
     "output_type": "stream",
     "text": [
      "Detection:: Location -> (780, 20)\n",
      "Scale ->  0 | Confidence Score 0.8114646020464783 \n",
      "\n",
      "Detection:: Location -> (800, 20)\n",
      "Scale ->  0 | Confidence Score 0.7724585693812245 \n",
      "\n"
     ]
    },
    {
     "name": "stderr",
     "output_type": "stream",
     "text": [
      "/tmp/ipykernel_62901/1983484597.py:49: FutureWarning: `multichannel` is a deprecated argument name for `hog`. It will be removed in version 1.0. Please use `channel_axis` instead.\n",
      "  fds, img_hog = hog(\n",
      "/tmp/ipykernel_62901/1983484597.py:49: FutureWarning: `multichannel` is a deprecated argument name for `hog`. It will be removed in version 1.0. Please use `channel_axis` instead.\n",
      "  fds, img_hog = hog(\n"
     ]
    },
    {
     "name": "stdout",
     "output_type": "stream",
     "text": [
      "Detection:: Location -> (820, 20)\n",
      "Scale ->  0 | Confidence Score 0.6707419681517054 \n",
      "\n"
     ]
    },
    {
     "name": "stderr",
     "output_type": "stream",
     "text": [
      "/tmp/ipykernel_62901/1983484597.py:49: FutureWarning: `multichannel` is a deprecated argument name for `hog`. It will be removed in version 1.0. Please use `channel_axis` instead.\n",
      "  fds, img_hog = hog(\n",
      "/tmp/ipykernel_62901/1983484597.py:49: FutureWarning: `multichannel` is a deprecated argument name for `hog`. It will be removed in version 1.0. Please use `channel_axis` instead.\n",
      "  fds, img_hog = hog(\n",
      "/tmp/ipykernel_62901/1983484597.py:49: FutureWarning: `multichannel` is a deprecated argument name for `hog`. It will be removed in version 1.0. Please use `channel_axis` instead.\n",
      "  fds, img_hog = hog(\n",
      "/tmp/ipykernel_62901/1983484597.py:49: FutureWarning: `multichannel` is a deprecated argument name for `hog`. It will be removed in version 1.0. Please use `channel_axis` instead.\n",
      "  fds, img_hog = hog(\n",
      "/tmp/ipykernel_62901/1983484597.py:49: FutureWarning: `multichannel` is a deprecated argument name for `hog`. It will be removed in version 1.0. Please use `channel_axis` instead.\n",
      "  fds, img_hog = hog(\n",
      "/tmp/ipykernel_62901/1983484597.py:49: FutureWarning: `multichannel` is a deprecated argument name for `hog`. It will be removed in version 1.0. Please use `channel_axis` instead.\n",
      "  fds, img_hog = hog(\n"
     ]
    },
    {
     "name": "stdout",
     "output_type": "stream",
     "text": [
      "Detection:: Location -> (0, 40)\n",
      "Scale ->  0 | Confidence Score 0.7516200944369495 \n",
      "\n"
     ]
    },
    {
     "name": "stderr",
     "output_type": "stream",
     "text": [
      "/tmp/ipykernel_62901/1983484597.py:49: FutureWarning: `multichannel` is a deprecated argument name for `hog`. It will be removed in version 1.0. Please use `channel_axis` instead.\n",
      "  fds, img_hog = hog(\n"
     ]
    },
    {
     "name": "stdout",
     "output_type": "stream",
     "text": [
      "Detection:: Location -> (20, 40)\n",
      "Scale ->  0 | Confidence Score 0.737711792338528 \n",
      "\n",
      "Detection:: Location -> (40, 40)\n",
      "Scale ->  0 | Confidence Score 0.7101529618293774 \n",
      "\n"
     ]
    },
    {
     "name": "stderr",
     "output_type": "stream",
     "text": [
      "/tmp/ipykernel_62901/1983484597.py:49: FutureWarning: `multichannel` is a deprecated argument name for `hog`. It will be removed in version 1.0. Please use `channel_axis` instead.\n",
      "  fds, img_hog = hog(\n",
      "/tmp/ipykernel_62901/1983484597.py:49: FutureWarning: `multichannel` is a deprecated argument name for `hog`. It will be removed in version 1.0. Please use `channel_axis` instead.\n",
      "  fds, img_hog = hog(\n"
     ]
    },
    {
     "name": "stdout",
     "output_type": "stream",
     "text": [
      "Detection:: Location -> (60, 40)\n",
      "Scale ->  0 | Confidence Score 0.6598893124770002 \n",
      "\n"
     ]
    },
    {
     "name": "stderr",
     "output_type": "stream",
     "text": [
      "/tmp/ipykernel_62901/1983484597.py:49: FutureWarning: `multichannel` is a deprecated argument name for `hog`. It will be removed in version 1.0. Please use `channel_axis` instead.\n",
      "  fds, img_hog = hog(\n"
     ]
    },
    {
     "name": "stdout",
     "output_type": "stream",
     "text": [
      "Detection:: Location -> (80, 40)\n",
      "Scale ->  0 | Confidence Score 0.6496990213925374 \n",
      "\n"
     ]
    },
    {
     "name": "stderr",
     "output_type": "stream",
     "text": [
      "/tmp/ipykernel_62901/1983484597.py:49: FutureWarning: `multichannel` is a deprecated argument name for `hog`. It will be removed in version 1.0. Please use `channel_axis` instead.\n",
      "  fds, img_hog = hog(\n",
      "/tmp/ipykernel_62901/1983484597.py:49: FutureWarning: `multichannel` is a deprecated argument name for `hog`. It will be removed in version 1.0. Please use `channel_axis` instead.\n",
      "  fds, img_hog = hog(\n",
      "/tmp/ipykernel_62901/1983484597.py:49: FutureWarning: `multichannel` is a deprecated argument name for `hog`. It will be removed in version 1.0. Please use `channel_axis` instead.\n",
      "  fds, img_hog = hog(\n",
      "/tmp/ipykernel_62901/1983484597.py:49: FutureWarning: `multichannel` is a deprecated argument name for `hog`. It will be removed in version 1.0. Please use `channel_axis` instead.\n",
      "  fds, img_hog = hog(\n",
      "/tmp/ipykernel_62901/1983484597.py:49: FutureWarning: `multichannel` is a deprecated argument name for `hog`. It will be removed in version 1.0. Please use `channel_axis` instead.\n",
      "  fds, img_hog = hog(\n",
      "/tmp/ipykernel_62901/1983484597.py:49: FutureWarning: `multichannel` is a deprecated argument name for `hog`. It will be removed in version 1.0. Please use `channel_axis` instead.\n",
      "  fds, img_hog = hog(\n",
      "/tmp/ipykernel_62901/1983484597.py:49: FutureWarning: `multichannel` is a deprecated argument name for `hog`. It will be removed in version 1.0. Please use `channel_axis` instead.\n",
      "  fds, img_hog = hog(\n",
      "/tmp/ipykernel_62901/1983484597.py:49: FutureWarning: `multichannel` is a deprecated argument name for `hog`. It will be removed in version 1.0. Please use `channel_axis` instead.\n",
      "  fds, img_hog = hog(\n",
      "/tmp/ipykernel_62901/1983484597.py:49: FutureWarning: `multichannel` is a deprecated argument name for `hog`. It will be removed in version 1.0. Please use `channel_axis` instead.\n",
      "  fds, img_hog = hog(\n",
      "/tmp/ipykernel_62901/1983484597.py:49: FutureWarning: `multichannel` is a deprecated argument name for `hog`. It will be removed in version 1.0. Please use `channel_axis` instead.\n",
      "  fds, img_hog = hog(\n",
      "/tmp/ipykernel_62901/1983484597.py:49: FutureWarning: `multichannel` is a deprecated argument name for `hog`. It will be removed in version 1.0. Please use `channel_axis` instead.\n",
      "  fds, img_hog = hog(\n"
     ]
    },
    {
     "name": "stdout",
     "output_type": "stream",
     "text": [
      "Detection:: Location -> (300, 40)\n",
      "Scale ->  0 | Confidence Score 0.6208773786099894 \n",
      "\n"
     ]
    },
    {
     "name": "stderr",
     "output_type": "stream",
     "text": [
      "/tmp/ipykernel_62901/1983484597.py:49: FutureWarning: `multichannel` is a deprecated argument name for `hog`. It will be removed in version 1.0. Please use `channel_axis` instead.\n",
      "  fds, img_hog = hog(\n",
      "/tmp/ipykernel_62901/1983484597.py:49: FutureWarning: `multichannel` is a deprecated argument name for `hog`. It will be removed in version 1.0. Please use `channel_axis` instead.\n",
      "  fds, img_hog = hog(\n"
     ]
    },
    {
     "name": "stdout",
     "output_type": "stream",
     "text": [
      "Detection:: Location -> (340, 40)\n",
      "Scale ->  0 | Confidence Score 0.658591573302385 \n",
      "\n"
     ]
    },
    {
     "name": "stderr",
     "output_type": "stream",
     "text": [
      "/tmp/ipykernel_62901/1983484597.py:49: FutureWarning: `multichannel` is a deprecated argument name for `hog`. It will be removed in version 1.0. Please use `channel_axis` instead.\n",
      "  fds, img_hog = hog(\n"
     ]
    },
    {
     "name": "stdout",
     "output_type": "stream",
     "text": [
      "Detection:: Location -> (360, 40)\n",
      "Scale ->  0 | Confidence Score 0.6549250543264601 \n",
      "\n",
      "Detection:: Location -> (380, 40)\n",
      "Scale ->  0 | Confidence Score 0.6310606891180731 \n",
      "\n"
     ]
    },
    {
     "name": "stderr",
     "output_type": "stream",
     "text": [
      "/tmp/ipykernel_62901/1983484597.py:49: FutureWarning: `multichannel` is a deprecated argument name for `hog`. It will be removed in version 1.0. Please use `channel_axis` instead.\n",
      "  fds, img_hog = hog(\n",
      "/tmp/ipykernel_62901/1983484597.py:49: FutureWarning: `multichannel` is a deprecated argument name for `hog`. It will be removed in version 1.0. Please use `channel_axis` instead.\n",
      "  fds, img_hog = hog(\n",
      "/tmp/ipykernel_62901/1983484597.py:49: FutureWarning: `multichannel` is a deprecated argument name for `hog`. It will be removed in version 1.0. Please use `channel_axis` instead.\n",
      "  fds, img_hog = hog(\n",
      "/tmp/ipykernel_62901/1983484597.py:49: FutureWarning: `multichannel` is a deprecated argument name for `hog`. It will be removed in version 1.0. Please use `channel_axis` instead.\n",
      "  fds, img_hog = hog(\n",
      "/tmp/ipykernel_62901/1983484597.py:49: FutureWarning: `multichannel` is a deprecated argument name for `hog`. It will be removed in version 1.0. Please use `channel_axis` instead.\n",
      "  fds, img_hog = hog(\n",
      "/tmp/ipykernel_62901/1983484597.py:49: FutureWarning: `multichannel` is a deprecated argument name for `hog`. It will be removed in version 1.0. Please use `channel_axis` instead.\n",
      "  fds, img_hog = hog(\n"
     ]
    },
    {
     "name": "stdout",
     "output_type": "stream",
     "text": [
      "Detection:: Location -> (460, 40)\n",
      "Scale ->  0 | Confidence Score 0.6553721097779899 \n",
      "\n",
      "Detection:: Location -> (480, 40)\n",
      "Scale ->  0 | Confidence Score 0.6352120532057125 \n",
      "\n"
     ]
    },
    {
     "name": "stderr",
     "output_type": "stream",
     "text": [
      "/tmp/ipykernel_62901/1983484597.py:49: FutureWarning: `multichannel` is a deprecated argument name for `hog`. It will be removed in version 1.0. Please use `channel_axis` instead.\n",
      "  fds, img_hog = hog(\n",
      "/tmp/ipykernel_62901/1983484597.py:49: FutureWarning: `multichannel` is a deprecated argument name for `hog`. It will be removed in version 1.0. Please use `channel_axis` instead.\n",
      "  fds, img_hog = hog(\n"
     ]
    },
    {
     "name": "stdout",
     "output_type": "stream",
     "text": [
      "Detection:: Location -> (500, 40)\n",
      "Scale ->  0 | Confidence Score 0.697958609079288 \n",
      "\n",
      "Detection:: Location -> (520, 40)\n",
      "Scale ->  0 | Confidence Score 0.6224295210636863 \n",
      "\n"
     ]
    },
    {
     "name": "stderr",
     "output_type": "stream",
     "text": [
      "/tmp/ipykernel_62901/1983484597.py:49: FutureWarning: `multichannel` is a deprecated argument name for `hog`. It will be removed in version 1.0. Please use `channel_axis` instead.\n",
      "  fds, img_hog = hog(\n",
      "/tmp/ipykernel_62901/1983484597.py:49: FutureWarning: `multichannel` is a deprecated argument name for `hog`. It will be removed in version 1.0. Please use `channel_axis` instead.\n",
      "  fds, img_hog = hog(\n"
     ]
    },
    {
     "name": "stdout",
     "output_type": "stream",
     "text": [
      "Detection:: Location -> (540, 40)\n",
      "Scale ->  0 | Confidence Score 0.647513851581636 \n",
      "\n",
      "Detection:: Location -> (560, 40)\n",
      "Scale ->  0 | Confidence Score 0.646519725576487 \n",
      "\n"
     ]
    },
    {
     "name": "stderr",
     "output_type": "stream",
     "text": [
      "/tmp/ipykernel_62901/1983484597.py:49: FutureWarning: `multichannel` is a deprecated argument name for `hog`. It will be removed in version 1.0. Please use `channel_axis` instead.\n",
      "  fds, img_hog = hog(\n",
      "/tmp/ipykernel_62901/1983484597.py:49: FutureWarning: `multichannel` is a deprecated argument name for `hog`. It will be removed in version 1.0. Please use `channel_axis` instead.\n",
      "  fds, img_hog = hog(\n"
     ]
    },
    {
     "name": "stdout",
     "output_type": "stream",
     "text": [
      "Detection:: Location -> (580, 40)\n",
      "Scale ->  0 | Confidence Score 0.7249039155367456 \n",
      "\n",
      "Detection:: Location -> (600, 40)\n",
      "Scale ->  0 | Confidence Score 0.7352388711922874 \n",
      "\n"
     ]
    },
    {
     "name": "stderr",
     "output_type": "stream",
     "text": [
      "/tmp/ipykernel_62901/1983484597.py:49: FutureWarning: `multichannel` is a deprecated argument name for `hog`. It will be removed in version 1.0. Please use `channel_axis` instead.\n",
      "  fds, img_hog = hog(\n"
     ]
    },
    {
     "name": "stdout",
     "output_type": "stream",
     "text": [
      "Detection:: Location -> (620, 40)\n",
      "Scale ->  0 | Confidence Score 0.8035177342954146 \n",
      "\n",
      "Detection:: Location -> (640, 40)\n",
      "Scale ->  0 | Confidence Score 0.7272216093853521 \n",
      "\n"
     ]
    },
    {
     "name": "stderr",
     "output_type": "stream",
     "text": [
      "/tmp/ipykernel_62901/1983484597.py:49: FutureWarning: `multichannel` is a deprecated argument name for `hog`. It will be removed in version 1.0. Please use `channel_axis` instead.\n",
      "  fds, img_hog = hog(\n",
      "/tmp/ipykernel_62901/1983484597.py:49: FutureWarning: `multichannel` is a deprecated argument name for `hog`. It will be removed in version 1.0. Please use `channel_axis` instead.\n",
      "  fds, img_hog = hog(\n"
     ]
    },
    {
     "name": "stdout",
     "output_type": "stream",
     "text": [
      "Detection:: Location -> (660, 40)\n",
      "Scale ->  0 | Confidence Score 0.7627569257381026 \n",
      "\n",
      "Detection:: Location -> (680, 40)\n",
      "Scale ->  0 | Confidence Score 0.783413595141656 \n",
      "\n"
     ]
    },
    {
     "name": "stderr",
     "output_type": "stream",
     "text": [
      "/tmp/ipykernel_62901/1983484597.py:49: FutureWarning: `multichannel` is a deprecated argument name for `hog`. It will be removed in version 1.0. Please use `channel_axis` instead.\n",
      "  fds, img_hog = hog(\n",
      "/tmp/ipykernel_62901/1983484597.py:49: FutureWarning: `multichannel` is a deprecated argument name for `hog`. It will be removed in version 1.0. Please use `channel_axis` instead.\n",
      "  fds, img_hog = hog(\n"
     ]
    },
    {
     "name": "stdout",
     "output_type": "stream",
     "text": [
      "Detection:: Location -> (700, 40)\n",
      "Scale ->  0 | Confidence Score 0.7870059546676115 \n",
      "\n",
      "Detection:: Location -> (720, 40)\n",
      "Scale ->  0 | Confidence Score 0.7847136614012646 \n",
      "\n"
     ]
    },
    {
     "name": "stderr",
     "output_type": "stream",
     "text": [
      "/tmp/ipykernel_62901/1983484597.py:49: FutureWarning: `multichannel` is a deprecated argument name for `hog`. It will be removed in version 1.0. Please use `channel_axis` instead.\n",
      "  fds, img_hog = hog(\n",
      "/tmp/ipykernel_62901/1983484597.py:49: FutureWarning: `multichannel` is a deprecated argument name for `hog`. It will be removed in version 1.0. Please use `channel_axis` instead.\n",
      "  fds, img_hog = hog(\n"
     ]
    },
    {
     "name": "stdout",
     "output_type": "stream",
     "text": [
      "Detection:: Location -> (740, 40)\n",
      "Scale ->  0 | Confidence Score 0.830020398877724 \n",
      "\n",
      "Detection:: Location -> (760, 40)\n",
      "Scale ->  0 | Confidence Score 0.803530577285037 \n",
      "\n"
     ]
    },
    {
     "name": "stderr",
     "output_type": "stream",
     "text": [
      "/tmp/ipykernel_62901/1983484597.py:49: FutureWarning: `multichannel` is a deprecated argument name for `hog`. It will be removed in version 1.0. Please use `channel_axis` instead.\n",
      "  fds, img_hog = hog(\n",
      "/tmp/ipykernel_62901/1983484597.py:49: FutureWarning: `multichannel` is a deprecated argument name for `hog`. It will be removed in version 1.0. Please use `channel_axis` instead.\n",
      "  fds, img_hog = hog(\n"
     ]
    },
    {
     "name": "stdout",
     "output_type": "stream",
     "text": [
      "Detection:: Location -> (780, 40)\n",
      "Scale ->  0 | Confidence Score 0.8243997709242427 \n",
      "\n",
      "Detection:: Location -> (800, 40)\n",
      "Scale ->  0 | Confidence Score 0.7862395183646373 \n",
      "\n"
     ]
    },
    {
     "name": "stderr",
     "output_type": "stream",
     "text": [
      "/tmp/ipykernel_62901/1983484597.py:49: FutureWarning: `multichannel` is a deprecated argument name for `hog`. It will be removed in version 1.0. Please use `channel_axis` instead.\n",
      "  fds, img_hog = hog(\n",
      "/tmp/ipykernel_62901/1983484597.py:49: FutureWarning: `multichannel` is a deprecated argument name for `hog`. It will be removed in version 1.0. Please use `channel_axis` instead.\n",
      "  fds, img_hog = hog(\n"
     ]
    },
    {
     "name": "stdout",
     "output_type": "stream",
     "text": [
      "Detection:: Location -> (820, 40)\n",
      "Scale ->  0 | Confidence Score 0.7150879416501361 \n",
      "\n",
      "Detection:: Location -> (840, 40)\n",
      "Scale ->  0 | Confidence Score 0.6040454281603376 \n",
      "\n"
     ]
    },
    {
     "name": "stderr",
     "output_type": "stream",
     "text": [
      "/tmp/ipykernel_62901/1983484597.py:49: FutureWarning: `multichannel` is a deprecated argument name for `hog`. It will be removed in version 1.0. Please use `channel_axis` instead.\n",
      "  fds, img_hog = hog(\n",
      "/tmp/ipykernel_62901/1983484597.py:49: FutureWarning: `multichannel` is a deprecated argument name for `hog`. It will be removed in version 1.0. Please use `channel_axis` instead.\n",
      "  fds, img_hog = hog(\n",
      "/tmp/ipykernel_62901/1983484597.py:49: FutureWarning: `multichannel` is a deprecated argument name for `hog`. It will be removed in version 1.0. Please use `channel_axis` instead.\n",
      "  fds, img_hog = hog(\n",
      "/tmp/ipykernel_62901/1983484597.py:49: FutureWarning: `multichannel` is a deprecated argument name for `hog`. It will be removed in version 1.0. Please use `channel_axis` instead.\n",
      "  fds, img_hog = hog(\n",
      "/tmp/ipykernel_62901/1983484597.py:49: FutureWarning: `multichannel` is a deprecated argument name for `hog`. It will be removed in version 1.0. Please use `channel_axis` instead.\n",
      "  fds, img_hog = hog(\n",
      "/tmp/ipykernel_62901/1983484597.py:49: FutureWarning: `multichannel` is a deprecated argument name for `hog`. It will be removed in version 1.0. Please use `channel_axis` instead.\n",
      "  fds, img_hog = hog(\n"
     ]
    },
    {
     "name": "stdout",
     "output_type": "stream",
     "text": [
      "Detection:: Location -> (0, 60)\n",
      "Scale ->  0 | Confidence Score 0.761899986307644 \n",
      "\n",
      "Detection:: Location -> (20, 60)\n",
      "Scale ->  0 | Confidence Score 0.7005536458210314 \n",
      "\n"
     ]
    },
    {
     "name": "stderr",
     "output_type": "stream",
     "text": [
      "/tmp/ipykernel_62901/1983484597.py:49: FutureWarning: `multichannel` is a deprecated argument name for `hog`. It will be removed in version 1.0. Please use `channel_axis` instead.\n",
      "  fds, img_hog = hog(\n",
      "/tmp/ipykernel_62901/1983484597.py:49: FutureWarning: `multichannel` is a deprecated argument name for `hog`. It will be removed in version 1.0. Please use `channel_axis` instead.\n",
      "  fds, img_hog = hog(\n"
     ]
    },
    {
     "name": "stdout",
     "output_type": "stream",
     "text": [
      "Detection:: Location -> (40, 60)\n",
      "Scale ->  0 | Confidence Score 0.6969149028541862 \n",
      "\n"
     ]
    },
    {
     "name": "stderr",
     "output_type": "stream",
     "text": [
      "/tmp/ipykernel_62901/1983484597.py:49: FutureWarning: `multichannel` is a deprecated argument name for `hog`. It will be removed in version 1.0. Please use `channel_axis` instead.\n",
      "  fds, img_hog = hog(\n",
      "/tmp/ipykernel_62901/1983484597.py:49: FutureWarning: `multichannel` is a deprecated argument name for `hog`. It will be removed in version 1.0. Please use `channel_axis` instead.\n",
      "  fds, img_hog = hog(\n",
      "/tmp/ipykernel_62901/1983484597.py:49: FutureWarning: `multichannel` is a deprecated argument name for `hog`. It will be removed in version 1.0. Please use `channel_axis` instead.\n",
      "  fds, img_hog = hog(\n",
      "/tmp/ipykernel_62901/1983484597.py:49: FutureWarning: `multichannel` is a deprecated argument name for `hog`. It will be removed in version 1.0. Please use `channel_axis` instead.\n",
      "  fds, img_hog = hog(\n",
      "/tmp/ipykernel_62901/1983484597.py:49: FutureWarning: `multichannel` is a deprecated argument name for `hog`. It will be removed in version 1.0. Please use `channel_axis` instead.\n",
      "  fds, img_hog = hog(\n",
      "/tmp/ipykernel_62901/1983484597.py:49: FutureWarning: `multichannel` is a deprecated argument name for `hog`. It will be removed in version 1.0. Please use `channel_axis` instead.\n",
      "  fds, img_hog = hog(\n",
      "/tmp/ipykernel_62901/1983484597.py:49: FutureWarning: `multichannel` is a deprecated argument name for `hog`. It will be removed in version 1.0. Please use `channel_axis` instead.\n",
      "  fds, img_hog = hog(\n",
      "/tmp/ipykernel_62901/1983484597.py:49: FutureWarning: `multichannel` is a deprecated argument name for `hog`. It will be removed in version 1.0. Please use `channel_axis` instead.\n",
      "  fds, img_hog = hog(\n",
      "/tmp/ipykernel_62901/1983484597.py:49: FutureWarning: `multichannel` is a deprecated argument name for `hog`. It will be removed in version 1.0. Please use `channel_axis` instead.\n",
      "  fds, img_hog = hog(\n",
      "/tmp/ipykernel_62901/1983484597.py:49: FutureWarning: `multichannel` is a deprecated argument name for `hog`. It will be removed in version 1.0. Please use `channel_axis` instead.\n",
      "  fds, img_hog = hog(\n",
      "/tmp/ipykernel_62901/1983484597.py:49: FutureWarning: `multichannel` is a deprecated argument name for `hog`. It will be removed in version 1.0. Please use `channel_axis` instead.\n",
      "  fds, img_hog = hog(\n",
      "/tmp/ipykernel_62901/1983484597.py:49: FutureWarning: `multichannel` is a deprecated argument name for `hog`. It will be removed in version 1.0. Please use `channel_axis` instead.\n",
      "  fds, img_hog = hog(\n"
     ]
    },
    {
     "name": "stdout",
     "output_type": "stream",
     "text": [
      "Detection:: Location -> (280, 60)\n",
      "Scale ->  0 | Confidence Score 0.6283539870354077 \n",
      "\n",
      "Detection:: Location -> (300, 60)\n",
      "Scale ->  0 | Confidence Score 0.689997857515652 \n",
      "\n"
     ]
    },
    {
     "name": "stderr",
     "output_type": "stream",
     "text": [
      "/tmp/ipykernel_62901/1983484597.py:49: FutureWarning: `multichannel` is a deprecated argument name for `hog`. It will be removed in version 1.0. Please use `channel_axis` instead.\n",
      "  fds, img_hog = hog(\n",
      "/tmp/ipykernel_62901/1983484597.py:49: FutureWarning: `multichannel` is a deprecated argument name for `hog`. It will be removed in version 1.0. Please use `channel_axis` instead.\n",
      "  fds, img_hog = hog(\n"
     ]
    },
    {
     "name": "stdout",
     "output_type": "stream",
     "text": [
      "Detection:: Location -> (320, 60)\n",
      "Scale ->  0 | Confidence Score 0.6832117607492488 \n",
      "\n",
      "Detection:: Location -> (340, 60)\n",
      "Scale ->  0 | Confidence Score 0.6935946540527514 \n",
      "\n"
     ]
    },
    {
     "name": "stderr",
     "output_type": "stream",
     "text": [
      "/tmp/ipykernel_62901/1983484597.py:49: FutureWarning: `multichannel` is a deprecated argument name for `hog`. It will be removed in version 1.0. Please use `channel_axis` instead.\n",
      "  fds, img_hog = hog(\n",
      "/tmp/ipykernel_62901/1983484597.py:49: FutureWarning: `multichannel` is a deprecated argument name for `hog`. It will be removed in version 1.0. Please use `channel_axis` instead.\n",
      "  fds, img_hog = hog(\n",
      "/tmp/ipykernel_62901/1983484597.py:49: FutureWarning: `multichannel` is a deprecated argument name for `hog`. It will be removed in version 1.0. Please use `channel_axis` instead.\n",
      "  fds, img_hog = hog(\n",
      "/tmp/ipykernel_62901/1983484597.py:49: FutureWarning: `multichannel` is a deprecated argument name for `hog`. It will be removed in version 1.0. Please use `channel_axis` instead.\n",
      "  fds, img_hog = hog(\n"
     ]
    },
    {
     "name": "stdout",
     "output_type": "stream",
     "text": [
      "Detection:: Location -> (380, 60)\n",
      "Scale ->  0 | Confidence Score 0.6033144746749961 \n",
      "\n"
     ]
    },
    {
     "name": "stderr",
     "output_type": "stream",
     "text": [
      "/tmp/ipykernel_62901/1983484597.py:49: FutureWarning: `multichannel` is a deprecated argument name for `hog`. It will be removed in version 1.0. Please use `channel_axis` instead.\n",
      "  fds, img_hog = hog(\n",
      "/tmp/ipykernel_62901/1983484597.py:49: FutureWarning: `multichannel` is a deprecated argument name for `hog`. It will be removed in version 1.0. Please use `channel_axis` instead.\n",
      "  fds, img_hog = hog(\n",
      "/tmp/ipykernel_62901/1983484597.py:49: FutureWarning: `multichannel` is a deprecated argument name for `hog`. It will be removed in version 1.0. Please use `channel_axis` instead.\n",
      "  fds, img_hog = hog(\n",
      "/tmp/ipykernel_62901/1983484597.py:49: FutureWarning: `multichannel` is a deprecated argument name for `hog`. It will be removed in version 1.0. Please use `channel_axis` instead.\n",
      "  fds, img_hog = hog(\n"
     ]
    },
    {
     "name": "stdout",
     "output_type": "stream",
     "text": [
      "Detection:: Location -> (460, 60)\n",
      "Scale ->  0 | Confidence Score 0.6179776687736606 \n",
      "\n",
      "Detection:: Location -> (480, 60)\n",
      "Scale ->  0 | Confidence Score 0.6800794906393288 \n",
      "\n"
     ]
    },
    {
     "name": "stderr",
     "output_type": "stream",
     "text": [
      "/tmp/ipykernel_62901/1983484597.py:49: FutureWarning: `multichannel` is a deprecated argument name for `hog`. It will be removed in version 1.0. Please use `channel_axis` instead.\n",
      "  fds, img_hog = hog(\n",
      "/tmp/ipykernel_62901/1983484597.py:49: FutureWarning: `multichannel` is a deprecated argument name for `hog`. It will be removed in version 1.0. Please use `channel_axis` instead.\n",
      "  fds, img_hog = hog(\n"
     ]
    },
    {
     "name": "stdout",
     "output_type": "stream",
     "text": [
      "Detection:: Location -> (500, 60)\n",
      "Scale ->  0 | Confidence Score 0.6826936511939024 \n",
      "\n",
      "Detection:: Location -> (520, 60)\n",
      "Scale ->  0 | Confidence Score 0.6574920562418478 \n",
      "\n"
     ]
    },
    {
     "name": "stderr",
     "output_type": "stream",
     "text": [
      "/tmp/ipykernel_62901/1983484597.py:49: FutureWarning: `multichannel` is a deprecated argument name for `hog`. It will be removed in version 1.0. Please use `channel_axis` instead.\n",
      "  fds, img_hog = hog(\n",
      "/tmp/ipykernel_62901/1983484597.py:49: FutureWarning: `multichannel` is a deprecated argument name for `hog`. It will be removed in version 1.0. Please use `channel_axis` instead.\n",
      "  fds, img_hog = hog(\n"
     ]
    },
    {
     "name": "stdout",
     "output_type": "stream",
     "text": [
      "Detection:: Location -> (540, 60)\n",
      "Scale ->  0 | Confidence Score 0.6429896094241844 \n",
      "\n",
      "Detection:: Location -> (560, 60)\n",
      "Scale ->  0 | Confidence Score 0.6549113617976897 \n",
      "\n"
     ]
    },
    {
     "name": "stderr",
     "output_type": "stream",
     "text": [
      "/tmp/ipykernel_62901/1983484597.py:49: FutureWarning: `multichannel` is a deprecated argument name for `hog`. It will be removed in version 1.0. Please use `channel_axis` instead.\n",
      "  fds, img_hog = hog(\n",
      "/tmp/ipykernel_62901/1983484597.py:49: FutureWarning: `multichannel` is a deprecated argument name for `hog`. It will be removed in version 1.0. Please use `channel_axis` instead.\n",
      "  fds, img_hog = hog(\n"
     ]
    },
    {
     "name": "stdout",
     "output_type": "stream",
     "text": [
      "Detection:: Location -> (580, 60)\n",
      "Scale ->  0 | Confidence Score 0.7304483089041333 \n",
      "\n",
      "Detection:: Location -> (600, 60)\n",
      "Scale ->  0 | Confidence Score 0.6916846565467183 \n",
      "\n"
     ]
    },
    {
     "name": "stderr",
     "output_type": "stream",
     "text": [
      "/tmp/ipykernel_62901/1983484597.py:49: FutureWarning: `multichannel` is a deprecated argument name for `hog`. It will be removed in version 1.0. Please use `channel_axis` instead.\n",
      "  fds, img_hog = hog(\n",
      "/tmp/ipykernel_62901/1983484597.py:49: FutureWarning: `multichannel` is a deprecated argument name for `hog`. It will be removed in version 1.0. Please use `channel_axis` instead.\n",
      "  fds, img_hog = hog(\n"
     ]
    },
    {
     "name": "stdout",
     "output_type": "stream",
     "text": [
      "Detection:: Location -> (620, 60)\n",
      "Scale ->  0 | Confidence Score 0.7424347945640438 \n",
      "\n",
      "Detection:: Location -> (640, 60)\n",
      "Scale ->  0 | Confidence Score 0.7880371001032895 \n",
      "\n"
     ]
    },
    {
     "name": "stderr",
     "output_type": "stream",
     "text": [
      "/tmp/ipykernel_62901/1983484597.py:49: FutureWarning: `multichannel` is a deprecated argument name for `hog`. It will be removed in version 1.0. Please use `channel_axis` instead.\n",
      "  fds, img_hog = hog(\n",
      "/tmp/ipykernel_62901/1983484597.py:49: FutureWarning: `multichannel` is a deprecated argument name for `hog`. It will be removed in version 1.0. Please use `channel_axis` instead.\n",
      "  fds, img_hog = hog(\n"
     ]
    },
    {
     "name": "stdout",
     "output_type": "stream",
     "text": [
      "Detection:: Location -> (660, 60)\n",
      "Scale ->  0 | Confidence Score 0.7981714876422537 \n",
      "\n",
      "Detection:: Location -> (680, 60)\n",
      "Scale ->  0 | Confidence Score 0.7686472588662561 \n",
      "\n"
     ]
    },
    {
     "name": "stderr",
     "output_type": "stream",
     "text": [
      "/tmp/ipykernel_62901/1983484597.py:49: FutureWarning: `multichannel` is a deprecated argument name for `hog`. It will be removed in version 1.0. Please use `channel_axis` instead.\n",
      "  fds, img_hog = hog(\n",
      "/tmp/ipykernel_62901/1983484597.py:49: FutureWarning: `multichannel` is a deprecated argument name for `hog`. It will be removed in version 1.0. Please use `channel_axis` instead.\n",
      "  fds, img_hog = hog(\n"
     ]
    },
    {
     "name": "stdout",
     "output_type": "stream",
     "text": [
      "Detection:: Location -> (700, 60)\n",
      "Scale ->  0 | Confidence Score 0.7686083541038227 \n",
      "\n",
      "Detection:: Location -> (720, 60)\n",
      "Scale ->  0 | Confidence Score 0.7516135311625848 \n",
      "\n"
     ]
    },
    {
     "name": "stderr",
     "output_type": "stream",
     "text": [
      "/tmp/ipykernel_62901/1983484597.py:49: FutureWarning: `multichannel` is a deprecated argument name for `hog`. It will be removed in version 1.0. Please use `channel_axis` instead.\n",
      "  fds, img_hog = hog(\n",
      "/tmp/ipykernel_62901/1983484597.py:49: FutureWarning: `multichannel` is a deprecated argument name for `hog`. It will be removed in version 1.0. Please use `channel_axis` instead.\n",
      "  fds, img_hog = hog(\n"
     ]
    },
    {
     "name": "stdout",
     "output_type": "stream",
     "text": [
      "Detection:: Location -> (740, 60)\n",
      "Scale ->  0 | Confidence Score 0.8101100269378004 \n",
      "\n",
      "Detection:: Location -> (760, 60)\n",
      "Scale ->  0 | Confidence Score 0.8178509295013999 \n",
      "\n"
     ]
    },
    {
     "name": "stderr",
     "output_type": "stream",
     "text": [
      "/tmp/ipykernel_62901/1983484597.py:49: FutureWarning: `multichannel` is a deprecated argument name for `hog`. It will be removed in version 1.0. Please use `channel_axis` instead.\n",
      "  fds, img_hog = hog(\n",
      "/tmp/ipykernel_62901/1983484597.py:49: FutureWarning: `multichannel` is a deprecated argument name for `hog`. It will be removed in version 1.0. Please use `channel_axis` instead.\n",
      "  fds, img_hog = hog(\n"
     ]
    },
    {
     "name": "stdout",
     "output_type": "stream",
     "text": [
      "Detection:: Location -> (780, 60)\n",
      "Scale ->  0 | Confidence Score 0.8349505930726265 \n",
      "\n",
      "Detection:: Location -> (800, 60)\n",
      "Scale ->  0 | Confidence Score 0.8077939350151733 \n",
      "\n"
     ]
    },
    {
     "name": "stderr",
     "output_type": "stream",
     "text": [
      "/tmp/ipykernel_62901/1983484597.py:49: FutureWarning: `multichannel` is a deprecated argument name for `hog`. It will be removed in version 1.0. Please use `channel_axis` instead.\n",
      "  fds, img_hog = hog(\n",
      "/tmp/ipykernel_62901/1983484597.py:49: FutureWarning: `multichannel` is a deprecated argument name for `hog`. It will be removed in version 1.0. Please use `channel_axis` instead.\n",
      "  fds, img_hog = hog(\n"
     ]
    },
    {
     "name": "stdout",
     "output_type": "stream",
     "text": [
      "Detection:: Location -> (820, 60)\n",
      "Scale ->  0 | Confidence Score 0.7646329626218902 \n",
      "\n",
      "Detection:: Location -> (840, 60)\n",
      "Scale ->  0 | Confidence Score 0.6865083786192151 \n",
      "\n"
     ]
    },
    {
     "name": "stderr",
     "output_type": "stream",
     "text": [
      "/tmp/ipykernel_62901/1983484597.py:49: FutureWarning: `multichannel` is a deprecated argument name for `hog`. It will be removed in version 1.0. Please use `channel_axis` instead.\n",
      "  fds, img_hog = hog(\n",
      "/tmp/ipykernel_62901/1983484597.py:49: FutureWarning: `multichannel` is a deprecated argument name for `hog`. It will be removed in version 1.0. Please use `channel_axis` instead.\n",
      "  fds, img_hog = hog(\n"
     ]
    },
    {
     "name": "stdout",
     "output_type": "stream",
     "text": [
      "Detection:: Location -> (860, 60)\n",
      "Scale ->  0 | Confidence Score 0.6644729191523389 \n",
      "\n"
     ]
    },
    {
     "name": "stderr",
     "output_type": "stream",
     "text": [
      "/tmp/ipykernel_62901/1983484597.py:49: FutureWarning: `multichannel` is a deprecated argument name for `hog`. It will be removed in version 1.0. Please use `channel_axis` instead.\n",
      "  fds, img_hog = hog(\n",
      "/tmp/ipykernel_62901/1983484597.py:49: FutureWarning: `multichannel` is a deprecated argument name for `hog`. It will be removed in version 1.0. Please use `channel_axis` instead.\n",
      "  fds, img_hog = hog(\n",
      "/tmp/ipykernel_62901/1983484597.py:49: FutureWarning: `multichannel` is a deprecated argument name for `hog`. It will be removed in version 1.0. Please use `channel_axis` instead.\n",
      "  fds, img_hog = hog(\n",
      "/tmp/ipykernel_62901/1983484597.py:49: FutureWarning: `multichannel` is a deprecated argument name for `hog`. It will be removed in version 1.0. Please use `channel_axis` instead.\n",
      "  fds, img_hog = hog(\n"
     ]
    },
    {
     "name": "stdout",
     "output_type": "stream",
     "text": [
      "Detection:: Location -> (0, 80)\n",
      "Scale ->  0 | Confidence Score 0.7443072923947823 \n",
      "\n",
      "Detection:: Location -> (20, 80)\n",
      "Scale ->  0 | Confidence Score 0.696818307184132 \n",
      "\n"
     ]
    },
    {
     "name": "stderr",
     "output_type": "stream",
     "text": [
      "/tmp/ipykernel_62901/1983484597.py:49: FutureWarning: `multichannel` is a deprecated argument name for `hog`. It will be removed in version 1.0. Please use `channel_axis` instead.\n",
      "  fds, img_hog = hog(\n",
      "/tmp/ipykernel_62901/1983484597.py:49: FutureWarning: `multichannel` is a deprecated argument name for `hog`. It will be removed in version 1.0. Please use `channel_axis` instead.\n",
      "  fds, img_hog = hog(\n"
     ]
    },
    {
     "name": "stdout",
     "output_type": "stream",
     "text": [
      "Detection:: Location -> (40, 80)\n",
      "Scale ->  0 | Confidence Score 0.6991379051847645 \n",
      "\n",
      "Detection:: Location -> (60, 80)\n",
      "Scale ->  0 | Confidence Score 0.640540050920052 \n",
      "\n"
     ]
    },
    {
     "name": "stderr",
     "output_type": "stream",
     "text": [
      "/tmp/ipykernel_62901/1983484597.py:49: FutureWarning: `multichannel` is a deprecated argument name for `hog`. It will be removed in version 1.0. Please use `channel_axis` instead.\n",
      "  fds, img_hog = hog(\n",
      "/tmp/ipykernel_62901/1983484597.py:49: FutureWarning: `multichannel` is a deprecated argument name for `hog`. It will be removed in version 1.0. Please use `channel_axis` instead.\n",
      "  fds, img_hog = hog(\n"
     ]
    },
    {
     "name": "stdout",
     "output_type": "stream",
     "text": [
      "Detection:: Location -> (80, 80)\n",
      "Scale ->  0 | Confidence Score 0.6128597624340791 \n",
      "\n"
     ]
    },
    {
     "name": "stderr",
     "output_type": "stream",
     "text": [
      "/tmp/ipykernel_62901/1983484597.py:49: FutureWarning: `multichannel` is a deprecated argument name for `hog`. It will be removed in version 1.0. Please use `channel_axis` instead.\n",
      "  fds, img_hog = hog(\n",
      "/tmp/ipykernel_62901/1983484597.py:49: FutureWarning: `multichannel` is a deprecated argument name for `hog`. It will be removed in version 1.0. Please use `channel_axis` instead.\n",
      "  fds, img_hog = hog(\n",
      "/tmp/ipykernel_62901/1983484597.py:49: FutureWarning: `multichannel` is a deprecated argument name for `hog`. It will be removed in version 1.0. Please use `channel_axis` instead.\n",
      "  fds, img_hog = hog(\n",
      "/tmp/ipykernel_62901/1983484597.py:49: FutureWarning: `multichannel` is a deprecated argument name for `hog`. It will be removed in version 1.0. Please use `channel_axis` instead.\n",
      "  fds, img_hog = hog(\n",
      "/tmp/ipykernel_62901/1983484597.py:49: FutureWarning: `multichannel` is a deprecated argument name for `hog`. It will be removed in version 1.0. Please use `channel_axis` instead.\n",
      "  fds, img_hog = hog(\n",
      "/tmp/ipykernel_62901/1983484597.py:49: FutureWarning: `multichannel` is a deprecated argument name for `hog`. It will be removed in version 1.0. Please use `channel_axis` instead.\n",
      "  fds, img_hog = hog(\n",
      "/tmp/ipykernel_62901/1983484597.py:49: FutureWarning: `multichannel` is a deprecated argument name for `hog`. It will be removed in version 1.0. Please use `channel_axis` instead.\n",
      "  fds, img_hog = hog(\n",
      "/tmp/ipykernel_62901/1983484597.py:49: FutureWarning: `multichannel` is a deprecated argument name for `hog`. It will be removed in version 1.0. Please use `channel_axis` instead.\n",
      "  fds, img_hog = hog(\n",
      "/tmp/ipykernel_62901/1983484597.py:49: FutureWarning: `multichannel` is a deprecated argument name for `hog`. It will be removed in version 1.0. Please use `channel_axis` instead.\n",
      "  fds, img_hog = hog(\n",
      "/tmp/ipykernel_62901/1983484597.py:49: FutureWarning: `multichannel` is a deprecated argument name for `hog`. It will be removed in version 1.0. Please use `channel_axis` instead.\n",
      "  fds, img_hog = hog(\n"
     ]
    },
    {
     "name": "stdout",
     "output_type": "stream",
     "text": [
      "Detection:: Location -> (280, 80)\n",
      "Scale ->  0 | Confidence Score 0.6585404375753815 \n",
      "\n",
      "Detection:: Location -> (300, 80)\n",
      "Scale ->  0 | Confidence Score 0.6587252775564117 \n",
      "\n"
     ]
    },
    {
     "name": "stderr",
     "output_type": "stream",
     "text": [
      "/tmp/ipykernel_62901/1983484597.py:49: FutureWarning: `multichannel` is a deprecated argument name for `hog`. It will be removed in version 1.0. Please use `channel_axis` instead.\n",
      "  fds, img_hog = hog(\n",
      "/tmp/ipykernel_62901/1983484597.py:49: FutureWarning: `multichannel` is a deprecated argument name for `hog`. It will be removed in version 1.0. Please use `channel_axis` instead.\n",
      "  fds, img_hog = hog(\n"
     ]
    },
    {
     "name": "stdout",
     "output_type": "stream",
     "text": [
      "Detection:: Location -> (320, 80)\n",
      "Scale ->  0 | Confidence Score 0.6785385792913307 \n",
      "\n",
      "Detection:: Location -> (340, 80)\n",
      "Scale ->  0 | Confidence Score 0.7021080236066641 \n",
      "\n"
     ]
    },
    {
     "name": "stderr",
     "output_type": "stream",
     "text": [
      "/tmp/ipykernel_62901/1983484597.py:49: FutureWarning: `multichannel` is a deprecated argument name for `hog`. It will be removed in version 1.0. Please use `channel_axis` instead.\n",
      "  fds, img_hog = hog(\n",
      "/tmp/ipykernel_62901/1983484597.py:49: FutureWarning: `multichannel` is a deprecated argument name for `hog`. It will be removed in version 1.0. Please use `channel_axis` instead.\n",
      "  fds, img_hog = hog(\n"
     ]
    },
    {
     "name": "stdout",
     "output_type": "stream",
     "text": [
      "Detection:: Location -> (360, 80)\n",
      "Scale ->  0 | Confidence Score 0.6760957459894572 \n",
      "\n",
      "Detection:: Location -> (380, 80)\n",
      "Scale ->  0 | Confidence Score 0.6460525988000628 \n",
      "\n"
     ]
    },
    {
     "name": "stderr",
     "output_type": "stream",
     "text": [
      "/tmp/ipykernel_62901/1983484597.py:49: FutureWarning: `multichannel` is a deprecated argument name for `hog`. It will be removed in version 1.0. Please use `channel_axis` instead.\n",
      "  fds, img_hog = hog(\n",
      "/tmp/ipykernel_62901/1983484597.py:49: FutureWarning: `multichannel` is a deprecated argument name for `hog`. It will be removed in version 1.0. Please use `channel_axis` instead.\n",
      "  fds, img_hog = hog(\n"
     ]
    },
    {
     "name": "stdout",
     "output_type": "stream",
     "text": [
      "Detection:: Location -> (400, 80)\n",
      "Scale ->  0 | Confidence Score 0.6233805220325331 \n",
      "\n",
      "Detection:: Location -> (420, 80)\n",
      "Scale ->  0 | Confidence Score 0.6288276002513274 \n",
      "\n"
     ]
    },
    {
     "name": "stderr",
     "output_type": "stream",
     "text": [
      "/tmp/ipykernel_62901/1983484597.py:49: FutureWarning: `multichannel` is a deprecated argument name for `hog`. It will be removed in version 1.0. Please use `channel_axis` instead.\n",
      "  fds, img_hog = hog(\n",
      "/tmp/ipykernel_62901/1983484597.py:49: FutureWarning: `multichannel` is a deprecated argument name for `hog`. It will be removed in version 1.0. Please use `channel_axis` instead.\n",
      "  fds, img_hog = hog(\n"
     ]
    },
    {
     "name": "stdout",
     "output_type": "stream",
     "text": [
      "Detection:: Location -> (440, 80)\n",
      "Scale ->  0 | Confidence Score 0.668164925039374 \n",
      "\n",
      "Detection:: Location -> (460, 80)\n",
      "Scale ->  0 | Confidence Score 0.7466262998807998 \n",
      "\n"
     ]
    },
    {
     "name": "stderr",
     "output_type": "stream",
     "text": [
      "/tmp/ipykernel_62901/1983484597.py:49: FutureWarning: `multichannel` is a deprecated argument name for `hog`. It will be removed in version 1.0. Please use `channel_axis` instead.\n",
      "  fds, img_hog = hog(\n"
     ]
    },
    {
     "name": "stdout",
     "output_type": "stream",
     "text": [
      "Detection:: Location -> (480, 80)\n",
      "Scale ->  0 | Confidence Score 0.6676079596708493 \n",
      "\n",
      "Detection:: Location -> (500, 80)\n",
      "Scale ->  0 | Confidence Score 0.7267055951904887 \n",
      "\n"
     ]
    },
    {
     "name": "stderr",
     "output_type": "stream",
     "text": [
      "/tmp/ipykernel_62901/1983484597.py:49: FutureWarning: `multichannel` is a deprecated argument name for `hog`. It will be removed in version 1.0. Please use `channel_axis` instead.\n",
      "  fds, img_hog = hog(\n",
      "/tmp/ipykernel_62901/1983484597.py:49: FutureWarning: `multichannel` is a deprecated argument name for `hog`. It will be removed in version 1.0. Please use `channel_axis` instead.\n",
      "  fds, img_hog = hog(\n"
     ]
    },
    {
     "name": "stdout",
     "output_type": "stream",
     "text": [
      "Detection:: Location -> (520, 80)\n",
      "Scale ->  0 | Confidence Score 0.617369048381692 \n",
      "\n",
      "Detection:: Location -> (540, 80)\n",
      "Scale ->  0 | Confidence Score 0.6622994226737263 \n",
      "\n"
     ]
    },
    {
     "name": "stderr",
     "output_type": "stream",
     "text": [
      "/tmp/ipykernel_62901/1983484597.py:49: FutureWarning: `multichannel` is a deprecated argument name for `hog`. It will be removed in version 1.0. Please use `channel_axis` instead.\n",
      "  fds, img_hog = hog(\n",
      "/tmp/ipykernel_62901/1983484597.py:49: FutureWarning: `multichannel` is a deprecated argument name for `hog`. It will be removed in version 1.0. Please use `channel_axis` instead.\n",
      "  fds, img_hog = hog(\n"
     ]
    },
    {
     "name": "stdout",
     "output_type": "stream",
     "text": [
      "Detection:: Location -> (560, 80)\n",
      "Scale ->  0 | Confidence Score 0.7246720254943193 \n",
      "\n",
      "Detection:: Location -> (580, 80)\n",
      "Scale ->  0 | Confidence Score 0.7638010180686453 \n",
      "\n"
     ]
    },
    {
     "name": "stderr",
     "output_type": "stream",
     "text": [
      "/tmp/ipykernel_62901/1983484597.py:49: FutureWarning: `multichannel` is a deprecated argument name for `hog`. It will be removed in version 1.0. Please use `channel_axis` instead.\n",
      "  fds, img_hog = hog(\n",
      "/tmp/ipykernel_62901/1983484597.py:49: FutureWarning: `multichannel` is a deprecated argument name for `hog`. It will be removed in version 1.0. Please use `channel_axis` instead.\n",
      "  fds, img_hog = hog(\n"
     ]
    },
    {
     "name": "stdout",
     "output_type": "stream",
     "text": [
      "Detection:: Location -> (600, 80)\n",
      "Scale ->  0 | Confidence Score 0.7815659133794005 \n",
      "\n",
      "Detection:: Location -> (620, 80)\n",
      "Scale ->  0 | Confidence Score 0.7503543294646177 \n",
      "\n"
     ]
    },
    {
     "name": "stderr",
     "output_type": "stream",
     "text": [
      "/tmp/ipykernel_62901/1983484597.py:49: FutureWarning: `multichannel` is a deprecated argument name for `hog`. It will be removed in version 1.0. Please use `channel_axis` instead.\n",
      "  fds, img_hog = hog(\n",
      "/tmp/ipykernel_62901/1983484597.py:49: FutureWarning: `multichannel` is a deprecated argument name for `hog`. It will be removed in version 1.0. Please use `channel_axis` instead.\n",
      "  fds, img_hog = hog(\n"
     ]
    },
    {
     "name": "stdout",
     "output_type": "stream",
     "text": [
      "Detection:: Location -> (640, 80)\n",
      "Scale ->  0 | Confidence Score 0.7328705571316125 \n",
      "\n",
      "Detection:: Location -> (660, 80)\n",
      "Scale ->  0 | Confidence Score 0.7626082307666483 \n",
      "\n"
     ]
    },
    {
     "name": "stderr",
     "output_type": "stream",
     "text": [
      "/tmp/ipykernel_62901/1983484597.py:49: FutureWarning: `multichannel` is a deprecated argument name for `hog`. It will be removed in version 1.0. Please use `channel_axis` instead.\n",
      "  fds, img_hog = hog(\n",
      "/tmp/ipykernel_62901/1983484597.py:49: FutureWarning: `multichannel` is a deprecated argument name for `hog`. It will be removed in version 1.0. Please use `channel_axis` instead.\n",
      "  fds, img_hog = hog(\n"
     ]
    },
    {
     "name": "stdout",
     "output_type": "stream",
     "text": [
      "Detection:: Location -> (680, 80)\n",
      "Scale ->  0 | Confidence Score 0.7706783050277273 \n",
      "\n",
      "Detection:: Location -> (700, 80)\n",
      "Scale ->  0 | Confidence Score 0.671794513785745 \n",
      "\n"
     ]
    },
    {
     "name": "stderr",
     "output_type": "stream",
     "text": [
      "/tmp/ipykernel_62901/1983484597.py:49: FutureWarning: `multichannel` is a deprecated argument name for `hog`. It will be removed in version 1.0. Please use `channel_axis` instead.\n",
      "  fds, img_hog = hog(\n",
      "/tmp/ipykernel_62901/1983484597.py:49: FutureWarning: `multichannel` is a deprecated argument name for `hog`. It will be removed in version 1.0. Please use `channel_axis` instead.\n",
      "  fds, img_hog = hog(\n"
     ]
    },
    {
     "name": "stdout",
     "output_type": "stream",
     "text": [
      "Detection:: Location -> (720, 80)\n",
      "Scale ->  0 | Confidence Score 0.7053578713208035 \n",
      "\n",
      "Detection:: Location -> (740, 80)\n",
      "Scale ->  0 | Confidence Score 0.7129532971698372 \n",
      "\n"
     ]
    },
    {
     "name": "stderr",
     "output_type": "stream",
     "text": [
      "/tmp/ipykernel_62901/1983484597.py:49: FutureWarning: `multichannel` is a deprecated argument name for `hog`. It will be removed in version 1.0. Please use `channel_axis` instead.\n",
      "  fds, img_hog = hog(\n",
      "/tmp/ipykernel_62901/1983484597.py:49: FutureWarning: `multichannel` is a deprecated argument name for `hog`. It will be removed in version 1.0. Please use `channel_axis` instead.\n",
      "  fds, img_hog = hog(\n"
     ]
    },
    {
     "name": "stdout",
     "output_type": "stream",
     "text": [
      "Detection:: Location -> (760, 80)\n",
      "Scale ->  0 | Confidence Score 0.778317194105082 \n",
      "\n",
      "Detection:: Location -> (780, 80)\n",
      "Scale ->  0 | Confidence Score 0.7984525376724964 \n",
      "\n"
     ]
    },
    {
     "name": "stderr",
     "output_type": "stream",
     "text": [
      "/tmp/ipykernel_62901/1983484597.py:49: FutureWarning: `multichannel` is a deprecated argument name for `hog`. It will be removed in version 1.0. Please use `channel_axis` instead.\n",
      "  fds, img_hog = hog(\n",
      "/tmp/ipykernel_62901/1983484597.py:49: FutureWarning: `multichannel` is a deprecated argument name for `hog`. It will be removed in version 1.0. Please use `channel_axis` instead.\n",
      "  fds, img_hog = hog(\n"
     ]
    },
    {
     "name": "stdout",
     "output_type": "stream",
     "text": [
      "Detection:: Location -> (800, 80)\n",
      "Scale ->  0 | Confidence Score 0.787552752969635 \n",
      "\n",
      "Detection:: Location -> (820, 80)\n",
      "Scale ->  0 | Confidence Score 0.7452883288484995 \n",
      "\n"
     ]
    },
    {
     "name": "stderr",
     "output_type": "stream",
     "text": [
      "/tmp/ipykernel_62901/1983484597.py:49: FutureWarning: `multichannel` is a deprecated argument name for `hog`. It will be removed in version 1.0. Please use `channel_axis` instead.\n",
      "  fds, img_hog = hog(\n",
      "/tmp/ipykernel_62901/1983484597.py:49: FutureWarning: `multichannel` is a deprecated argument name for `hog`. It will be removed in version 1.0. Please use `channel_axis` instead.\n",
      "  fds, img_hog = hog(\n"
     ]
    },
    {
     "name": "stdout",
     "output_type": "stream",
     "text": [
      "Detection:: Location -> (840, 80)\n",
      "Scale ->  0 | Confidence Score 0.6402515110533364 \n",
      "\n",
      "Detection:: Location -> (860, 80)\n",
      "Scale ->  0 | Confidence Score 0.6824035103620216 \n",
      "\n"
     ]
    },
    {
     "name": "stderr",
     "output_type": "stream",
     "text": [
      "/tmp/ipykernel_62901/1983484597.py:49: FutureWarning: `multichannel` is a deprecated argument name for `hog`. It will be removed in version 1.0. Please use `channel_axis` instead.\n",
      "  fds, img_hog = hog(\n",
      "/tmp/ipykernel_62901/1983484597.py:49: FutureWarning: `multichannel` is a deprecated argument name for `hog`. It will be removed in version 1.0. Please use `channel_axis` instead.\n",
      "  fds, img_hog = hog(\n",
      "/tmp/ipykernel_62901/1983484597.py:49: FutureWarning: `multichannel` is a deprecated argument name for `hog`. It will be removed in version 1.0. Please use `channel_axis` instead.\n",
      "  fds, img_hog = hog(\n",
      "/tmp/ipykernel_62901/1983484597.py:49: FutureWarning: `multichannel` is a deprecated argument name for `hog`. It will be removed in version 1.0. Please use `channel_axis` instead.\n",
      "  fds, img_hog = hog(\n",
      "/tmp/ipykernel_62901/1983484597.py:49: FutureWarning: `multichannel` is a deprecated argument name for `hog`. It will be removed in version 1.0. Please use `channel_axis` instead.\n",
      "  fds, img_hog = hog(\n",
      "/tmp/ipykernel_62901/1983484597.py:49: FutureWarning: `multichannel` is a deprecated argument name for `hog`. It will be removed in version 1.0. Please use `channel_axis` instead.\n",
      "  fds, img_hog = hog(\n"
     ]
    },
    {
     "name": "stdout",
     "output_type": "stream",
     "text": [
      "Detection:: Location -> (0, 100)\n",
      "Scale ->  0 | Confidence Score 0.7165149856985286 \n",
      "\n",
      "Detection:: Location -> (20, 100)\n",
      "Scale ->  0 | Confidence Score 0.6502685734483489 \n",
      "\n"
     ]
    },
    {
     "name": "stderr",
     "output_type": "stream",
     "text": [
      "/tmp/ipykernel_62901/1983484597.py:49: FutureWarning: `multichannel` is a deprecated argument name for `hog`. It will be removed in version 1.0. Please use `channel_axis` instead.\n",
      "  fds, img_hog = hog(\n",
      "/tmp/ipykernel_62901/1983484597.py:49: FutureWarning: `multichannel` is a deprecated argument name for `hog`. It will be removed in version 1.0. Please use `channel_axis` instead.\n",
      "  fds, img_hog = hog(\n"
     ]
    },
    {
     "name": "stdout",
     "output_type": "stream",
     "text": [
      "Detection:: Location -> (40, 100)\n",
      "Scale ->  0 | Confidence Score 0.6576807635778819 \n",
      "\n"
     ]
    },
    {
     "name": "stderr",
     "output_type": "stream",
     "text": [
      "/tmp/ipykernel_62901/1983484597.py:49: FutureWarning: `multichannel` is a deprecated argument name for `hog`. It will be removed in version 1.0. Please use `channel_axis` instead.\n",
      "  fds, img_hog = hog(\n",
      "/tmp/ipykernel_62901/1983484597.py:49: FutureWarning: `multichannel` is a deprecated argument name for `hog`. It will be removed in version 1.0. Please use `channel_axis` instead.\n",
      "  fds, img_hog = hog(\n"
     ]
    },
    {
     "name": "stdout",
     "output_type": "stream",
     "text": [
      "Detection:: Location -> (80, 100)\n",
      "Scale ->  0 | Confidence Score 0.6034358571151327 \n",
      "\n"
     ]
    },
    {
     "name": "stderr",
     "output_type": "stream",
     "text": [
      "/tmp/ipykernel_62901/1983484597.py:49: FutureWarning: `multichannel` is a deprecated argument name for `hog`. It will be removed in version 1.0. Please use `channel_axis` instead.\n",
      "  fds, img_hog = hog(\n",
      "/tmp/ipykernel_62901/1983484597.py:49: FutureWarning: `multichannel` is a deprecated argument name for `hog`. It will be removed in version 1.0. Please use `channel_axis` instead.\n",
      "  fds, img_hog = hog(\n",
      "/tmp/ipykernel_62901/1983484597.py:49: FutureWarning: `multichannel` is a deprecated argument name for `hog`. It will be removed in version 1.0. Please use `channel_axis` instead.\n",
      "  fds, img_hog = hog(\n",
      "/tmp/ipykernel_62901/1983484597.py:49: FutureWarning: `multichannel` is a deprecated argument name for `hog`. It will be removed in version 1.0. Please use `channel_axis` instead.\n",
      "  fds, img_hog = hog(\n",
      "/tmp/ipykernel_62901/1983484597.py:49: FutureWarning: `multichannel` is a deprecated argument name for `hog`. It will be removed in version 1.0. Please use `channel_axis` instead.\n",
      "  fds, img_hog = hog(\n",
      "/tmp/ipykernel_62901/1983484597.py:49: FutureWarning: `multichannel` is a deprecated argument name for `hog`. It will be removed in version 1.0. Please use `channel_axis` instead.\n",
      "  fds, img_hog = hog(\n",
      "/tmp/ipykernel_62901/1983484597.py:49: FutureWarning: `multichannel` is a deprecated argument name for `hog`. It will be removed in version 1.0. Please use `channel_axis` instead.\n",
      "  fds, img_hog = hog(\n",
      "/tmp/ipykernel_62901/1983484597.py:49: FutureWarning: `multichannel` is a deprecated argument name for `hog`. It will be removed in version 1.0. Please use `channel_axis` instead.\n",
      "  fds, img_hog = hog(\n"
     ]
    },
    {
     "name": "stdout",
     "output_type": "stream",
     "text": [
      "Detection:: Location -> (260, 100)\n",
      "Scale ->  0 | Confidence Score 0.6036664313389201 \n",
      "\n",
      "Detection:: Location -> (280, 100)\n",
      "Scale ->  0 | Confidence Score 0.6728368322860558 \n",
      "\n"
     ]
    },
    {
     "name": "stderr",
     "output_type": "stream",
     "text": [
      "/tmp/ipykernel_62901/1983484597.py:49: FutureWarning: `multichannel` is a deprecated argument name for `hog`. It will be removed in version 1.0. Please use `channel_axis` instead.\n",
      "  fds, img_hog = hog(\n",
      "/tmp/ipykernel_62901/1983484597.py:49: FutureWarning: `multichannel` is a deprecated argument name for `hog`. It will be removed in version 1.0. Please use `channel_axis` instead.\n",
      "  fds, img_hog = hog(\n"
     ]
    },
    {
     "name": "stdout",
     "output_type": "stream",
     "text": [
      "Detection:: Location -> (300, 100)\n",
      "Scale ->  0 | Confidence Score 0.739953590340396 \n",
      "\n",
      "Detection:: Location -> (320, 100)\n",
      "Scale ->  0 | Confidence Score 0.6798192523487729 \n",
      "\n"
     ]
    },
    {
     "name": "stderr",
     "output_type": "stream",
     "text": [
      "/tmp/ipykernel_62901/1983484597.py:49: FutureWarning: `multichannel` is a deprecated argument name for `hog`. It will be removed in version 1.0. Please use `channel_axis` instead.\n",
      "  fds, img_hog = hog(\n",
      "/tmp/ipykernel_62901/1983484597.py:49: FutureWarning: `multichannel` is a deprecated argument name for `hog`. It will be removed in version 1.0. Please use `channel_axis` instead.\n",
      "  fds, img_hog = hog(\n"
     ]
    },
    {
     "name": "stdout",
     "output_type": "stream",
     "text": [
      "Detection:: Location -> (340, 100)\n",
      "Scale ->  0 | Confidence Score 0.6831434330321926 \n",
      "\n",
      "Detection:: Location -> (360, 100)\n",
      "Scale ->  0 | Confidence Score 0.6543103229969213 \n",
      "\n"
     ]
    },
    {
     "name": "stderr",
     "output_type": "stream",
     "text": [
      "/tmp/ipykernel_62901/1983484597.py:49: FutureWarning: `multichannel` is a deprecated argument name for `hog`. It will be removed in version 1.0. Please use `channel_axis` instead.\n",
      "  fds, img_hog = hog(\n",
      "/tmp/ipykernel_62901/1983484597.py:49: FutureWarning: `multichannel` is a deprecated argument name for `hog`. It will be removed in version 1.0. Please use `channel_axis` instead.\n",
      "  fds, img_hog = hog(\n"
     ]
    },
    {
     "name": "stdout",
     "output_type": "stream",
     "text": [
      "Detection:: Location -> (380, 100)\n",
      "Scale ->  0 | Confidence Score 0.7350959854013354 \n",
      "\n",
      "Detection:: Location -> (400, 100)\n",
      "Scale ->  0 | Confidence Score 0.7148387219341761 \n",
      "\n"
     ]
    },
    {
     "name": "stderr",
     "output_type": "stream",
     "text": [
      "/tmp/ipykernel_62901/1983484597.py:49: FutureWarning: `multichannel` is a deprecated argument name for `hog`. It will be removed in version 1.0. Please use `channel_axis` instead.\n",
      "  fds, img_hog = hog(\n",
      "/tmp/ipykernel_62901/1983484597.py:49: FutureWarning: `multichannel` is a deprecated argument name for `hog`. It will be removed in version 1.0. Please use `channel_axis` instead.\n",
      "  fds, img_hog = hog(\n"
     ]
    },
    {
     "name": "stdout",
     "output_type": "stream",
     "text": [
      "Detection:: Location -> (420, 100)\n",
      "Scale ->  0 | Confidence Score 0.7115845288199715 \n",
      "\n",
      "Detection:: Location -> (440, 100)\n",
      "Scale ->  0 | Confidence Score 0.6929062323401071 \n",
      "\n"
     ]
    },
    {
     "name": "stderr",
     "output_type": "stream",
     "text": [
      "/tmp/ipykernel_62901/1983484597.py:49: FutureWarning: `multichannel` is a deprecated argument name for `hog`. It will be removed in version 1.0. Please use `channel_axis` instead.\n",
      "  fds, img_hog = hog(\n",
      "/tmp/ipykernel_62901/1983484597.py:49: FutureWarning: `multichannel` is a deprecated argument name for `hog`. It will be removed in version 1.0. Please use `channel_axis` instead.\n",
      "  fds, img_hog = hog(\n"
     ]
    },
    {
     "name": "stdout",
     "output_type": "stream",
     "text": [
      "Detection:: Location -> (460, 100)\n",
      "Scale ->  0 | Confidence Score 0.7248477546628835 \n",
      "\n",
      "Detection:: Location -> (480, 100)\n",
      "Scale ->  0 | Confidence Score 0.638021485394791 \n",
      "\n"
     ]
    },
    {
     "name": "stderr",
     "output_type": "stream",
     "text": [
      "/tmp/ipykernel_62901/1983484597.py:49: FutureWarning: `multichannel` is a deprecated argument name for `hog`. It will be removed in version 1.0. Please use `channel_axis` instead.\n",
      "  fds, img_hog = hog(\n",
      "/tmp/ipykernel_62901/1983484597.py:49: FutureWarning: `multichannel` is a deprecated argument name for `hog`. It will be removed in version 1.0. Please use `channel_axis` instead.\n",
      "  fds, img_hog = hog(\n"
     ]
    },
    {
     "name": "stdout",
     "output_type": "stream",
     "text": [
      "Detection:: Location -> (500, 100)\n",
      "Scale ->  0 | Confidence Score 0.7334411611789909 \n",
      "\n",
      "Detection:: Location -> (520, 100)\n",
      "Scale ->  0 | Confidence Score 0.7161146916943109 \n",
      "\n"
     ]
    },
    {
     "name": "stderr",
     "output_type": "stream",
     "text": [
      "/tmp/ipykernel_62901/1983484597.py:49: FutureWarning: `multichannel` is a deprecated argument name for `hog`. It will be removed in version 1.0. Please use `channel_axis` instead.\n",
      "  fds, img_hog = hog(\n",
      "/tmp/ipykernel_62901/1983484597.py:49: FutureWarning: `multichannel` is a deprecated argument name for `hog`. It will be removed in version 1.0. Please use `channel_axis` instead.\n",
      "  fds, img_hog = hog(\n"
     ]
    },
    {
     "name": "stdout",
     "output_type": "stream",
     "text": [
      "Detection:: Location -> (540, 100)\n",
      "Scale ->  0 | Confidence Score 0.7352057054501351 \n",
      "\n",
      "Detection:: Location -> (560, 100)\n",
      "Scale ->  0 | Confidence Score 0.7368441955680647 \n",
      "\n"
     ]
    },
    {
     "name": "stderr",
     "output_type": "stream",
     "text": [
      "/tmp/ipykernel_62901/1983484597.py:49: FutureWarning: `multichannel` is a deprecated argument name for `hog`. It will be removed in version 1.0. Please use `channel_axis` instead.\n",
      "  fds, img_hog = hog(\n",
      "/tmp/ipykernel_62901/1983484597.py:49: FutureWarning: `multichannel` is a deprecated argument name for `hog`. It will be removed in version 1.0. Please use `channel_axis` instead.\n",
      "  fds, img_hog = hog(\n"
     ]
    },
    {
     "name": "stdout",
     "output_type": "stream",
     "text": [
      "Detection:: Location -> (580, 100)\n",
      "Scale ->  0 | Confidence Score 0.769249747384747 \n",
      "\n",
      "Detection:: Location -> (600, 100)\n",
      "Scale ->  0 | Confidence Score 0.7303163888545232 \n",
      "\n"
     ]
    },
    {
     "name": "stderr",
     "output_type": "stream",
     "text": [
      "/tmp/ipykernel_62901/1983484597.py:49: FutureWarning: `multichannel` is a deprecated argument name for `hog`. It will be removed in version 1.0. Please use `channel_axis` instead.\n",
      "  fds, img_hog = hog(\n",
      "/tmp/ipykernel_62901/1983484597.py:49: FutureWarning: `multichannel` is a deprecated argument name for `hog`. It will be removed in version 1.0. Please use `channel_axis` instead.\n",
      "  fds, img_hog = hog(\n"
     ]
    },
    {
     "name": "stdout",
     "output_type": "stream",
     "text": [
      "Detection:: Location -> (620, 100)\n",
      "Scale ->  0 | Confidence Score 0.7293418709879007 \n",
      "\n",
      "Detection:: Location -> (640, 100)\n",
      "Scale ->  0 | Confidence Score 0.7703458828306683 \n",
      "\n"
     ]
    },
    {
     "name": "stderr",
     "output_type": "stream",
     "text": [
      "/tmp/ipykernel_62901/1983484597.py:49: FutureWarning: `multichannel` is a deprecated argument name for `hog`. It will be removed in version 1.0. Please use `channel_axis` instead.\n",
      "  fds, img_hog = hog(\n",
      "/tmp/ipykernel_62901/1983484597.py:49: FutureWarning: `multichannel` is a deprecated argument name for `hog`. It will be removed in version 1.0. Please use `channel_axis` instead.\n",
      "  fds, img_hog = hog(\n"
     ]
    },
    {
     "name": "stdout",
     "output_type": "stream",
     "text": [
      "Detection:: Location -> (660, 100)\n",
      "Scale ->  0 | Confidence Score 0.746329467241677 \n",
      "\n",
      "Detection:: Location -> (680, 100)\n",
      "Scale ->  0 | Confidence Score 0.7896986896982976 \n",
      "\n"
     ]
    },
    {
     "name": "stderr",
     "output_type": "stream",
     "text": [
      "/tmp/ipykernel_62901/1983484597.py:49: FutureWarning: `multichannel` is a deprecated argument name for `hog`. It will be removed in version 1.0. Please use `channel_axis` instead.\n",
      "  fds, img_hog = hog(\n",
      "/tmp/ipykernel_62901/1983484597.py:49: FutureWarning: `multichannel` is a deprecated argument name for `hog`. It will be removed in version 1.0. Please use `channel_axis` instead.\n",
      "  fds, img_hog = hog(\n"
     ]
    },
    {
     "name": "stdout",
     "output_type": "stream",
     "text": [
      "Detection:: Location -> (700, 100)\n",
      "Scale ->  0 | Confidence Score 0.7316244915449515 \n",
      "\n"
     ]
    },
    {
     "name": "stderr",
     "output_type": "stream",
     "text": [
      "/tmp/ipykernel_62901/1983484597.py:49: FutureWarning: `multichannel` is a deprecated argument name for `hog`. It will be removed in version 1.0. Please use `channel_axis` instead.\n",
      "  fds, img_hog = hog(\n"
     ]
    },
    {
     "name": "stdout",
     "output_type": "stream",
     "text": [
      "Detection:: Location -> (720, 100)\n",
      "Scale ->  0 | Confidence Score 0.6971120795939469 \n",
      "\n",
      "Detection:: Location -> (740, 100)\n",
      "Scale ->  0 | Confidence Score 0.7001010879429559 \n",
      "\n"
     ]
    },
    {
     "name": "stderr",
     "output_type": "stream",
     "text": [
      "/tmp/ipykernel_62901/1983484597.py:49: FutureWarning: `multichannel` is a deprecated argument name for `hog`. It will be removed in version 1.0. Please use `channel_axis` instead.\n",
      "  fds, img_hog = hog(\n",
      "/tmp/ipykernel_62901/1983484597.py:49: FutureWarning: `multichannel` is a deprecated argument name for `hog`. It will be removed in version 1.0. Please use `channel_axis` instead.\n",
      "  fds, img_hog = hog(\n"
     ]
    },
    {
     "name": "stdout",
     "output_type": "stream",
     "text": [
      "Detection:: Location -> (760, 100)\n",
      "Scale ->  0 | Confidence Score 0.7447053109149855 \n",
      "\n",
      "Detection:: Location -> (780, 100)\n",
      "Scale ->  0 | Confidence Score 0.7746611218678837 \n",
      "\n"
     ]
    },
    {
     "name": "stderr",
     "output_type": "stream",
     "text": [
      "/tmp/ipykernel_62901/1983484597.py:49: FutureWarning: `multichannel` is a deprecated argument name for `hog`. It will be removed in version 1.0. Please use `channel_axis` instead.\n",
      "  fds, img_hog = hog(\n",
      "/tmp/ipykernel_62901/1983484597.py:49: FutureWarning: `multichannel` is a deprecated argument name for `hog`. It will be removed in version 1.0. Please use `channel_axis` instead.\n",
      "  fds, img_hog = hog(\n"
     ]
    },
    {
     "name": "stdout",
     "output_type": "stream",
     "text": [
      "Detection:: Location -> (800, 100)\n",
      "Scale ->  0 | Confidence Score 0.8179657514522636 \n",
      "\n",
      "Detection:: Location -> (820, 100)\n",
      "Scale ->  0 | Confidence Score 0.8111488023330448 \n",
      "\n"
     ]
    },
    {
     "name": "stderr",
     "output_type": "stream",
     "text": [
      "/tmp/ipykernel_62901/1983484597.py:49: FutureWarning: `multichannel` is a deprecated argument name for `hog`. It will be removed in version 1.0. Please use `channel_axis` instead.\n",
      "  fds, img_hog = hog(\n",
      "/tmp/ipykernel_62901/1983484597.py:49: FutureWarning: `multichannel` is a deprecated argument name for `hog`. It will be removed in version 1.0. Please use `channel_axis` instead.\n",
      "  fds, img_hog = hog(\n"
     ]
    },
    {
     "name": "stdout",
     "output_type": "stream",
     "text": [
      "Detection:: Location -> (840, 100)\n",
      "Scale ->  0 | Confidence Score 0.7333633924708767 \n",
      "\n",
      "Detection:: Location -> (860, 100)\n",
      "Scale ->  0 | Confidence Score 0.6790512143645091 \n",
      "\n"
     ]
    },
    {
     "name": "stderr",
     "output_type": "stream",
     "text": [
      "/tmp/ipykernel_62901/1983484597.py:49: FutureWarning: `multichannel` is a deprecated argument name for `hog`. It will be removed in version 1.0. Please use `channel_axis` instead.\n",
      "  fds, img_hog = hog(\n",
      "/tmp/ipykernel_62901/1983484597.py:49: FutureWarning: `multichannel` is a deprecated argument name for `hog`. It will be removed in version 1.0. Please use `channel_axis` instead.\n",
      "  fds, img_hog = hog(\n",
      "/tmp/ipykernel_62901/1983484597.py:49: FutureWarning: `multichannel` is a deprecated argument name for `hog`. It will be removed in version 1.0. Please use `channel_axis` instead.\n",
      "  fds, img_hog = hog(\n",
      "/tmp/ipykernel_62901/1983484597.py:49: FutureWarning: `multichannel` is a deprecated argument name for `hog`. It will be removed in version 1.0. Please use `channel_axis` instead.\n",
      "  fds, img_hog = hog(\n",
      "/tmp/ipykernel_62901/1983484597.py:49: FutureWarning: `multichannel` is a deprecated argument name for `hog`. It will be removed in version 1.0. Please use `channel_axis` instead.\n",
      "  fds, img_hog = hog(\n",
      "/tmp/ipykernel_62901/1983484597.py:49: FutureWarning: `multichannel` is a deprecated argument name for `hog`. It will be removed in version 1.0. Please use `channel_axis` instead.\n",
      "  fds, img_hog = hog(\n"
     ]
    },
    {
     "name": "stdout",
     "output_type": "stream",
     "text": [
      "Detection:: Location -> (0, 120)\n",
      "Scale ->  0 | Confidence Score 0.7305528903924688 \n",
      "\n",
      "Detection:: Location -> (20, 120)\n",
      "Scale ->  0 | Confidence Score 0.689908580905913 \n",
      "\n"
     ]
    },
    {
     "name": "stderr",
     "output_type": "stream",
     "text": [
      "/tmp/ipykernel_62901/1983484597.py:49: FutureWarning: `multichannel` is a deprecated argument name for `hog`. It will be removed in version 1.0. Please use `channel_axis` instead.\n",
      "  fds, img_hog = hog(\n",
      "/tmp/ipykernel_62901/1983484597.py:49: FutureWarning: `multichannel` is a deprecated argument name for `hog`. It will be removed in version 1.0. Please use `channel_axis` instead.\n",
      "  fds, img_hog = hog(\n"
     ]
    },
    {
     "name": "stdout",
     "output_type": "stream",
     "text": [
      "Detection:: Location -> (40, 120)\n",
      "Scale ->  0 | Confidence Score 0.6623748002327238 \n",
      "\n"
     ]
    },
    {
     "name": "stderr",
     "output_type": "stream",
     "text": [
      "/tmp/ipykernel_62901/1983484597.py:49: FutureWarning: `multichannel` is a deprecated argument name for `hog`. It will be removed in version 1.0. Please use `channel_axis` instead.\n",
      "  fds, img_hog = hog(\n",
      "/tmp/ipykernel_62901/1983484597.py:49: FutureWarning: `multichannel` is a deprecated argument name for `hog`. It will be removed in version 1.0. Please use `channel_axis` instead.\n",
      "  fds, img_hog = hog(\n",
      "/tmp/ipykernel_62901/1983484597.py:49: FutureWarning: `multichannel` is a deprecated argument name for `hog`. It will be removed in version 1.0. Please use `channel_axis` instead.\n",
      "  fds, img_hog = hog(\n",
      "/tmp/ipykernel_62901/1983484597.py:49: FutureWarning: `multichannel` is a deprecated argument name for `hog`. It will be removed in version 1.0. Please use `channel_axis` instead.\n",
      "  fds, img_hog = hog(\n",
      "/tmp/ipykernel_62901/1983484597.py:49: FutureWarning: `multichannel` is a deprecated argument name for `hog`. It will be removed in version 1.0. Please use `channel_axis` instead.\n",
      "  fds, img_hog = hog(\n",
      "/tmp/ipykernel_62901/1983484597.py:49: FutureWarning: `multichannel` is a deprecated argument name for `hog`. It will be removed in version 1.0. Please use `channel_axis` instead.\n",
      "  fds, img_hog = hog(\n",
      "/tmp/ipykernel_62901/1983484597.py:49: FutureWarning: `multichannel` is a deprecated argument name for `hog`. It will be removed in version 1.0. Please use `channel_axis` instead.\n",
      "  fds, img_hog = hog(\n",
      "/tmp/ipykernel_62901/1983484597.py:49: FutureWarning: `multichannel` is a deprecated argument name for `hog`. It will be removed in version 1.0. Please use `channel_axis` instead.\n",
      "  fds, img_hog = hog(\n",
      "/tmp/ipykernel_62901/1983484597.py:49: FutureWarning: `multichannel` is a deprecated argument name for `hog`. It will be removed in version 1.0. Please use `channel_axis` instead.\n",
      "  fds, img_hog = hog(\n",
      "/tmp/ipykernel_62901/1983484597.py:49: FutureWarning: `multichannel` is a deprecated argument name for `hog`. It will be removed in version 1.0. Please use `channel_axis` instead.\n",
      "  fds, img_hog = hog(\n",
      "/tmp/ipykernel_62901/1983484597.py:49: FutureWarning: `multichannel` is a deprecated argument name for `hog`. It will be removed in version 1.0. Please use `channel_axis` instead.\n",
      "  fds, img_hog = hog(\n",
      "/tmp/ipykernel_62901/1983484597.py:49: FutureWarning: `multichannel` is a deprecated argument name for `hog`. It will be removed in version 1.0. Please use `channel_axis` instead.\n",
      "  fds, img_hog = hog(\n"
     ]
    },
    {
     "name": "stdout",
     "output_type": "stream",
     "text": [
      "Detection:: Location -> (280, 120)\n",
      "Scale ->  0 | Confidence Score 0.6383312465662154 \n",
      "\n",
      "Detection:: Location -> (300, 120)\n",
      "Scale ->  0 | Confidence Score 0.6563605262225438 \n",
      "\n"
     ]
    },
    {
     "name": "stderr",
     "output_type": "stream",
     "text": [
      "/tmp/ipykernel_62901/1983484597.py:49: FutureWarning: `multichannel` is a deprecated argument name for `hog`. It will be removed in version 1.0. Please use `channel_axis` instead.\n",
      "  fds, img_hog = hog(\n",
      "/tmp/ipykernel_62901/1983484597.py:49: FutureWarning: `multichannel` is a deprecated argument name for `hog`. It will be removed in version 1.0. Please use `channel_axis` instead.\n",
      "  fds, img_hog = hog(\n"
     ]
    },
    {
     "name": "stdout",
     "output_type": "stream",
     "text": [
      "Detection:: Location -> (320, 120)\n",
      "Scale ->  0 | Confidence Score 0.6425077517393735 \n",
      "\n",
      "Detection:: Location -> (340, 120)\n",
      "Scale ->  0 | Confidence Score 0.6729326710013502 \n",
      "\n"
     ]
    },
    {
     "name": "stderr",
     "output_type": "stream",
     "text": [
      "/tmp/ipykernel_62901/1983484597.py:49: FutureWarning: `multichannel` is a deprecated argument name for `hog`. It will be removed in version 1.0. Please use `channel_axis` instead.\n",
      "  fds, img_hog = hog(\n",
      "/tmp/ipykernel_62901/1983484597.py:49: FutureWarning: `multichannel` is a deprecated argument name for `hog`. It will be removed in version 1.0. Please use `channel_axis` instead.\n",
      "  fds, img_hog = hog(\n"
     ]
    },
    {
     "name": "stdout",
     "output_type": "stream",
     "text": [
      "Detection:: Location -> (360, 120)\n",
      "Scale ->  0 | Confidence Score 0.7035259684675086 \n",
      "\n",
      "Detection:: Location -> (380, 120)\n",
      "Scale ->  0 | Confidence Score 0.7125005704141777 \n",
      "\n"
     ]
    },
    {
     "name": "stderr",
     "output_type": "stream",
     "text": [
      "/tmp/ipykernel_62901/1983484597.py:49: FutureWarning: `multichannel` is a deprecated argument name for `hog`. It will be removed in version 1.0. Please use `channel_axis` instead.\n",
      "  fds, img_hog = hog(\n"
     ]
    },
    {
     "name": "stdout",
     "output_type": "stream",
     "text": [
      "Detection:: Location -> (400, 120)\n",
      "Scale ->  0 | Confidence Score 0.6511005458587309 \n",
      "\n",
      "Detection:: Location -> (420, 120)\n",
      "Scale ->  0 | Confidence Score 0.6497723156342188 \n",
      "\n"
     ]
    },
    {
     "name": "stderr",
     "output_type": "stream",
     "text": [
      "/tmp/ipykernel_62901/1983484597.py:49: FutureWarning: `multichannel` is a deprecated argument name for `hog`. It will be removed in version 1.0. Please use `channel_axis` instead.\n",
      "  fds, img_hog = hog(\n",
      "/tmp/ipykernel_62901/1983484597.py:49: FutureWarning: `multichannel` is a deprecated argument name for `hog`. It will be removed in version 1.0. Please use `channel_axis` instead.\n",
      "  fds, img_hog = hog(\n"
     ]
    },
    {
     "name": "stdout",
     "output_type": "stream",
     "text": [
      "Detection:: Location -> (440, 120)\n",
      "Scale ->  0 | Confidence Score 0.6512154797672938 \n",
      "\n",
      "Detection:: Location -> (460, 120)\n",
      "Scale ->  0 | Confidence Score 0.6348931072543631 \n",
      "\n"
     ]
    },
    {
     "name": "stderr",
     "output_type": "stream",
     "text": [
      "/tmp/ipykernel_62901/1983484597.py:49: FutureWarning: `multichannel` is a deprecated argument name for `hog`. It will be removed in version 1.0. Please use `channel_axis` instead.\n",
      "  fds, img_hog = hog(\n",
      "/tmp/ipykernel_62901/1983484597.py:49: FutureWarning: `multichannel` is a deprecated argument name for `hog`. It will be removed in version 1.0. Please use `channel_axis` instead.\n",
      "  fds, img_hog = hog(\n"
     ]
    },
    {
     "name": "stdout",
     "output_type": "stream",
     "text": [
      "Detection:: Location -> (480, 120)\n",
      "Scale ->  0 | Confidence Score 0.6703076113891848 \n",
      "\n",
      "Detection:: Location -> (500, 120)\n",
      "Scale ->  0 | Confidence Score 0.6528281291733414 \n",
      "\n"
     ]
    },
    {
     "name": "stderr",
     "output_type": "stream",
     "text": [
      "/tmp/ipykernel_62901/1983484597.py:49: FutureWarning: `multichannel` is a deprecated argument name for `hog`. It will be removed in version 1.0. Please use `channel_axis` instead.\n",
      "  fds, img_hog = hog(\n",
      "/tmp/ipykernel_62901/1983484597.py:49: FutureWarning: `multichannel` is a deprecated argument name for `hog`. It will be removed in version 1.0. Please use `channel_axis` instead.\n",
      "  fds, img_hog = hog(\n"
     ]
    },
    {
     "name": "stdout",
     "output_type": "stream",
     "text": [
      "Detection:: Location -> (520, 120)\n",
      "Scale ->  0 | Confidence Score 0.6446084174600498 \n",
      "\n",
      "Detection:: Location -> (540, 120)\n",
      "Scale ->  0 | Confidence Score 0.7151103942801856 \n",
      "\n"
     ]
    },
    {
     "name": "stderr",
     "output_type": "stream",
     "text": [
      "/tmp/ipykernel_62901/1983484597.py:49: FutureWarning: `multichannel` is a deprecated argument name for `hog`. It will be removed in version 1.0. Please use `channel_axis` instead.\n",
      "  fds, img_hog = hog(\n",
      "/tmp/ipykernel_62901/1983484597.py:49: FutureWarning: `multichannel` is a deprecated argument name for `hog`. It will be removed in version 1.0. Please use `channel_axis` instead.\n",
      "  fds, img_hog = hog(\n"
     ]
    },
    {
     "name": "stdout",
     "output_type": "stream",
     "text": [
      "Detection:: Location -> (560, 120)\n",
      "Scale ->  0 | Confidence Score 0.6643403683307403 \n",
      "\n",
      "Detection:: Location -> (580, 120)\n",
      "Scale ->  0 | Confidence Score 0.6605909883538849 \n",
      "\n"
     ]
    },
    {
     "name": "stderr",
     "output_type": "stream",
     "text": [
      "/tmp/ipykernel_62901/1983484597.py:49: FutureWarning: `multichannel` is a deprecated argument name for `hog`. It will be removed in version 1.0. Please use `channel_axis` instead.\n",
      "  fds, img_hog = hog(\n",
      "/tmp/ipykernel_62901/1983484597.py:49: FutureWarning: `multichannel` is a deprecated argument name for `hog`. It will be removed in version 1.0. Please use `channel_axis` instead.\n",
      "  fds, img_hog = hog(\n"
     ]
    },
    {
     "name": "stdout",
     "output_type": "stream",
     "text": [
      "Detection:: Location -> (600, 120)\n",
      "Scale ->  0 | Confidence Score 0.6731788382048283 \n",
      "\n",
      "Detection:: Location -> (620, 120)\n",
      "Scale ->  0 | Confidence Score 0.7329721769298199 \n",
      "\n"
     ]
    },
    {
     "name": "stderr",
     "output_type": "stream",
     "text": [
      "/tmp/ipykernel_62901/1983484597.py:49: FutureWarning: `multichannel` is a deprecated argument name for `hog`. It will be removed in version 1.0. Please use `channel_axis` instead.\n",
      "  fds, img_hog = hog(\n",
      "/tmp/ipykernel_62901/1983484597.py:49: FutureWarning: `multichannel` is a deprecated argument name for `hog`. It will be removed in version 1.0. Please use `channel_axis` instead.\n",
      "  fds, img_hog = hog(\n"
     ]
    },
    {
     "name": "stdout",
     "output_type": "stream",
     "text": [
      "Detection:: Location -> (640, 120)\n",
      "Scale ->  0 | Confidence Score 0.7036911686040418 \n",
      "\n",
      "Detection:: Location -> (660, 120)\n",
      "Scale ->  0 | Confidence Score 0.6849795529464906 \n",
      "\n"
     ]
    },
    {
     "name": "stderr",
     "output_type": "stream",
     "text": [
      "/tmp/ipykernel_62901/1983484597.py:49: FutureWarning: `multichannel` is a deprecated argument name for `hog`. It will be removed in version 1.0. Please use `channel_axis` instead.\n",
      "  fds, img_hog = hog(\n",
      "/tmp/ipykernel_62901/1983484597.py:49: FutureWarning: `multichannel` is a deprecated argument name for `hog`. It will be removed in version 1.0. Please use `channel_axis` instead.\n",
      "  fds, img_hog = hog(\n"
     ]
    },
    {
     "name": "stdout",
     "output_type": "stream",
     "text": [
      "Detection:: Location -> (680, 120)\n",
      "Scale ->  0 | Confidence Score 0.6457863336789383 \n",
      "\n",
      "Detection:: Location -> (700, 120)\n",
      "Scale ->  0 | Confidence Score 0.7110374085024745 \n",
      "\n"
     ]
    },
    {
     "name": "stderr",
     "output_type": "stream",
     "text": [
      "/tmp/ipykernel_62901/1983484597.py:49: FutureWarning: `multichannel` is a deprecated argument name for `hog`. It will be removed in version 1.0. Please use `channel_axis` instead.\n",
      "  fds, img_hog = hog(\n",
      "/tmp/ipykernel_62901/1983484597.py:49: FutureWarning: `multichannel` is a deprecated argument name for `hog`. It will be removed in version 1.0. Please use `channel_axis` instead.\n",
      "  fds, img_hog = hog(\n"
     ]
    },
    {
     "name": "stdout",
     "output_type": "stream",
     "text": [
      "Detection:: Location -> (720, 120)\n",
      "Scale ->  0 | Confidence Score 0.668571451240325 \n",
      "\n",
      "Detection:: Location -> (740, 120)\n",
      "Scale ->  0 | Confidence Score 0.7253179244807597 \n",
      "\n"
     ]
    },
    {
     "name": "stderr",
     "output_type": "stream",
     "text": [
      "/tmp/ipykernel_62901/1983484597.py:49: FutureWarning: `multichannel` is a deprecated argument name for `hog`. It will be removed in version 1.0. Please use `channel_axis` instead.\n",
      "  fds, img_hog = hog(\n",
      "/tmp/ipykernel_62901/1983484597.py:49: FutureWarning: `multichannel` is a deprecated argument name for `hog`. It will be removed in version 1.0. Please use `channel_axis` instead.\n",
      "  fds, img_hog = hog(\n"
     ]
    },
    {
     "name": "stdout",
     "output_type": "stream",
     "text": [
      "Detection:: Location -> (760, 120)\n",
      "Scale ->  0 | Confidence Score 0.7346429919381535 \n",
      "\n",
      "Detection:: Location -> (780, 120)\n",
      "Scale ->  0 | Confidence Score 0.7036326901154634 \n",
      "\n"
     ]
    },
    {
     "name": "stderr",
     "output_type": "stream",
     "text": [
      "/tmp/ipykernel_62901/1983484597.py:49: FutureWarning: `multichannel` is a deprecated argument name for `hog`. It will be removed in version 1.0. Please use `channel_axis` instead.\n",
      "  fds, img_hog = hog(\n",
      "/tmp/ipykernel_62901/1983484597.py:49: FutureWarning: `multichannel` is a deprecated argument name for `hog`. It will be removed in version 1.0. Please use `channel_axis` instead.\n",
      "  fds, img_hog = hog(\n"
     ]
    },
    {
     "name": "stdout",
     "output_type": "stream",
     "text": [
      "Detection:: Location -> (800, 120)\n",
      "Scale ->  0 | Confidence Score 0.6945344422608419 \n",
      "\n",
      "Detection:: Location -> (820, 120)\n",
      "Scale ->  0 | Confidence Score 0.722220377345378 \n",
      "\n"
     ]
    },
    {
     "name": "stderr",
     "output_type": "stream",
     "text": [
      "/tmp/ipykernel_62901/1983484597.py:49: FutureWarning: `multichannel` is a deprecated argument name for `hog`. It will be removed in version 1.0. Please use `channel_axis` instead.\n",
      "  fds, img_hog = hog(\n",
      "/tmp/ipykernel_62901/1983484597.py:49: FutureWarning: `multichannel` is a deprecated argument name for `hog`. It will be removed in version 1.0. Please use `channel_axis` instead.\n",
      "  fds, img_hog = hog(\n"
     ]
    },
    {
     "name": "stdout",
     "output_type": "stream",
     "text": [
      "Detection:: Location -> (840, 120)\n",
      "Scale ->  0 | Confidence Score 0.6474730427165175 \n",
      "\n",
      "Detection:: Location -> (860, 120)\n",
      "Scale ->  0 | Confidence Score 0.6661236024746913 \n",
      "\n"
     ]
    },
    {
     "name": "stderr",
     "output_type": "stream",
     "text": [
      "/tmp/ipykernel_62901/1983484597.py:49: FutureWarning: `multichannel` is a deprecated argument name for `hog`. It will be removed in version 1.0. Please use `channel_axis` instead.\n",
      "  fds, img_hog = hog(\n",
      "/tmp/ipykernel_62901/1983484597.py:49: FutureWarning: `multichannel` is a deprecated argument name for `hog`. It will be removed in version 1.0. Please use `channel_axis` instead.\n",
      "  fds, img_hog = hog(\n",
      "/tmp/ipykernel_62901/1983484597.py:49: FutureWarning: `multichannel` is a deprecated argument name for `hog`. It will be removed in version 1.0. Please use `channel_axis` instead.\n",
      "  fds, img_hog = hog(\n",
      "/tmp/ipykernel_62901/1983484597.py:49: FutureWarning: `multichannel` is a deprecated argument name for `hog`. It will be removed in version 1.0. Please use `channel_axis` instead.\n",
      "  fds, img_hog = hog(\n",
      "/tmp/ipykernel_62901/1983484597.py:49: FutureWarning: `multichannel` is a deprecated argument name for `hog`. It will be removed in version 1.0. Please use `channel_axis` instead.\n",
      "  fds, img_hog = hog(\n",
      "/tmp/ipykernel_62901/1983484597.py:49: FutureWarning: `multichannel` is a deprecated argument name for `hog`. It will be removed in version 1.0. Please use `channel_axis` instead.\n",
      "  fds, img_hog = hog(\n"
     ]
    },
    {
     "name": "stdout",
     "output_type": "stream",
     "text": [
      "Detection:: Location -> (0, 140)\n",
      "Scale ->  0 | Confidence Score 0.7196149692560343 \n",
      "\n",
      "Detection:: Location -> (20, 140)\n",
      "Scale ->  0 | Confidence Score 0.641619346549539 \n",
      "\n"
     ]
    },
    {
     "name": "stderr",
     "output_type": "stream",
     "text": [
      "/tmp/ipykernel_62901/1983484597.py:49: FutureWarning: `multichannel` is a deprecated argument name for `hog`. It will be removed in version 1.0. Please use `channel_axis` instead.\n",
      "  fds, img_hog = hog(\n",
      "/tmp/ipykernel_62901/1983484597.py:49: FutureWarning: `multichannel` is a deprecated argument name for `hog`. It will be removed in version 1.0. Please use `channel_axis` instead.\n",
      "  fds, img_hog = hog(\n",
      "/tmp/ipykernel_62901/1983484597.py:49: FutureWarning: `multichannel` is a deprecated argument name for `hog`. It will be removed in version 1.0. Please use `channel_axis` instead.\n",
      "  fds, img_hog = hog(\n",
      "/tmp/ipykernel_62901/1983484597.py:49: FutureWarning: `multichannel` is a deprecated argument name for `hog`. It will be removed in version 1.0. Please use `channel_axis` instead.\n",
      "  fds, img_hog = hog(\n",
      "/tmp/ipykernel_62901/1983484597.py:49: FutureWarning: `multichannel` is a deprecated argument name for `hog`. It will be removed in version 1.0. Please use `channel_axis` instead.\n",
      "  fds, img_hog = hog(\n",
      "/tmp/ipykernel_62901/1983484597.py:49: FutureWarning: `multichannel` is a deprecated argument name for `hog`. It will be removed in version 1.0. Please use `channel_axis` instead.\n",
      "  fds, img_hog = hog(\n",
      "/tmp/ipykernel_62901/1983484597.py:49: FutureWarning: `multichannel` is a deprecated argument name for `hog`. It will be removed in version 1.0. Please use `channel_axis` instead.\n",
      "  fds, img_hog = hog(\n",
      "/tmp/ipykernel_62901/1983484597.py:49: FutureWarning: `multichannel` is a deprecated argument name for `hog`. It will be removed in version 1.0. Please use `channel_axis` instead.\n",
      "  fds, img_hog = hog(\n",
      "/tmp/ipykernel_62901/1983484597.py:49: FutureWarning: `multichannel` is a deprecated argument name for `hog`. It will be removed in version 1.0. Please use `channel_axis` instead.\n",
      "  fds, img_hog = hog(\n",
      "/tmp/ipykernel_62901/1983484597.py:49: FutureWarning: `multichannel` is a deprecated argument name for `hog`. It will be removed in version 1.0. Please use `channel_axis` instead.\n",
      "  fds, img_hog = hog(\n",
      "/tmp/ipykernel_62901/1983484597.py:49: FutureWarning: `multichannel` is a deprecated argument name for `hog`. It will be removed in version 1.0. Please use `channel_axis` instead.\n",
      "  fds, img_hog = hog(\n",
      "/tmp/ipykernel_62901/1983484597.py:49: FutureWarning: `multichannel` is a deprecated argument name for `hog`. It will be removed in version 1.0. Please use `channel_axis` instead.\n",
      "  fds, img_hog = hog(\n",
      "/tmp/ipykernel_62901/1983484597.py:49: FutureWarning: `multichannel` is a deprecated argument name for `hog`. It will be removed in version 1.0. Please use `channel_axis` instead.\n",
      "  fds, img_hog = hog(\n"
     ]
    },
    {
     "name": "stdout",
     "output_type": "stream",
     "text": [
      "Detection:: Location -> (280, 140)\n",
      "Scale ->  0 | Confidence Score 0.6752041130491979 \n",
      "\n"
     ]
    },
    {
     "name": "stderr",
     "output_type": "stream",
     "text": [
      "/tmp/ipykernel_62901/1983484597.py:49: FutureWarning: `multichannel` is a deprecated argument name for `hog`. It will be removed in version 1.0. Please use `channel_axis` instead.\n",
      "  fds, img_hog = hog(\n"
     ]
    },
    {
     "name": "stdout",
     "output_type": "stream",
     "text": [
      "Detection:: Location -> (300, 140)\n",
      "Scale ->  0 | Confidence Score 0.6866285764250976 \n",
      "\n",
      "Detection:: Location -> (320, 140)\n",
      "Scale ->  0 | Confidence Score 0.6738891979126075 \n",
      "\n"
     ]
    },
    {
     "name": "stderr",
     "output_type": "stream",
     "text": [
      "/tmp/ipykernel_62901/1983484597.py:49: FutureWarning: `multichannel` is a deprecated argument name for `hog`. It will be removed in version 1.0. Please use `channel_axis` instead.\n",
      "  fds, img_hog = hog(\n",
      "/tmp/ipykernel_62901/1983484597.py:49: FutureWarning: `multichannel` is a deprecated argument name for `hog`. It will be removed in version 1.0. Please use `channel_axis` instead.\n",
      "  fds, img_hog = hog(\n"
     ]
    },
    {
     "name": "stdout",
     "output_type": "stream",
     "text": [
      "Detection:: Location -> (340, 140)\n",
      "Scale ->  0 | Confidence Score 0.6886376208394254 \n",
      "\n",
      "Detection:: Location -> (360, 140)\n",
      "Scale ->  0 | Confidence Score 0.7010885274350452 \n",
      "\n"
     ]
    },
    {
     "name": "stderr",
     "output_type": "stream",
     "text": [
      "/tmp/ipykernel_62901/1983484597.py:49: FutureWarning: `multichannel` is a deprecated argument name for `hog`. It will be removed in version 1.0. Please use `channel_axis` instead.\n",
      "  fds, img_hog = hog(\n",
      "/tmp/ipykernel_62901/1983484597.py:49: FutureWarning: `multichannel` is a deprecated argument name for `hog`. It will be removed in version 1.0. Please use `channel_axis` instead.\n",
      "  fds, img_hog = hog(\n"
     ]
    },
    {
     "name": "stdout",
     "output_type": "stream",
     "text": [
      "Detection:: Location -> (380, 140)\n",
      "Scale ->  0 | Confidence Score 0.7401312077755184 \n",
      "\n",
      "Detection:: Location -> (400, 140)\n",
      "Scale ->  0 | Confidence Score 0.696395964662576 \n",
      "\n"
     ]
    },
    {
     "name": "stderr",
     "output_type": "stream",
     "text": [
      "/tmp/ipykernel_62901/1983484597.py:49: FutureWarning: `multichannel` is a deprecated argument name for `hog`. It will be removed in version 1.0. Please use `channel_axis` instead.\n",
      "  fds, img_hog = hog(\n",
      "/tmp/ipykernel_62901/1983484597.py:49: FutureWarning: `multichannel` is a deprecated argument name for `hog`. It will be removed in version 1.0. Please use `channel_axis` instead.\n",
      "  fds, img_hog = hog(\n"
     ]
    },
    {
     "name": "stdout",
     "output_type": "stream",
     "text": [
      "Detection:: Location -> (420, 140)\n",
      "Scale ->  0 | Confidence Score 0.6196933635607687 \n",
      "\n"
     ]
    },
    {
     "name": "stderr",
     "output_type": "stream",
     "text": [
      "/tmp/ipykernel_62901/1983484597.py:49: FutureWarning: `multichannel` is a deprecated argument name for `hog`. It will be removed in version 1.0. Please use `channel_axis` instead.\n",
      "  fds, img_hog = hog(\n",
      "/tmp/ipykernel_62901/1983484597.py:49: FutureWarning: `multichannel` is a deprecated argument name for `hog`. It will be removed in version 1.0. Please use `channel_axis` instead.\n",
      "  fds, img_hog = hog(\n"
     ]
    },
    {
     "name": "stdout",
     "output_type": "stream",
     "text": [
      "Detection:: Location -> (460, 140)\n",
      "Scale ->  0 | Confidence Score 0.6863947151940293 \n",
      "\n",
      "Detection:: Location -> (480, 140)\n",
      "Scale ->  0 | Confidence Score 0.6578292478946576 \n",
      "\n"
     ]
    },
    {
     "name": "stderr",
     "output_type": "stream",
     "text": [
      "/tmp/ipykernel_62901/1983484597.py:49: FutureWarning: `multichannel` is a deprecated argument name for `hog`. It will be removed in version 1.0. Please use `channel_axis` instead.\n",
      "  fds, img_hog = hog(\n",
      "/tmp/ipykernel_62901/1983484597.py:49: FutureWarning: `multichannel` is a deprecated argument name for `hog`. It will be removed in version 1.0. Please use `channel_axis` instead.\n",
      "  fds, img_hog = hog(\n"
     ]
    },
    {
     "name": "stdout",
     "output_type": "stream",
     "text": [
      "Detection:: Location -> (500, 140)\n",
      "Scale ->  0 | Confidence Score 0.6660657000570626 \n",
      "\n",
      "Detection:: Location -> (520, 140)\n",
      "Scale ->  0 | Confidence Score 0.7289827289671518 \n",
      "\n"
     ]
    },
    {
     "name": "stderr",
     "output_type": "stream",
     "text": [
      "/tmp/ipykernel_62901/1983484597.py:49: FutureWarning: `multichannel` is a deprecated argument name for `hog`. It will be removed in version 1.0. Please use `channel_axis` instead.\n",
      "  fds, img_hog = hog(\n",
      "/tmp/ipykernel_62901/1983484597.py:49: FutureWarning: `multichannel` is a deprecated argument name for `hog`. It will be removed in version 1.0. Please use `channel_axis` instead.\n",
      "  fds, img_hog = hog(\n"
     ]
    },
    {
     "name": "stdout",
     "output_type": "stream",
     "text": [
      "Detection:: Location -> (540, 140)\n",
      "Scale ->  0 | Confidence Score 0.697338085628035 \n",
      "\n",
      "Detection:: Location -> (560, 140)\n",
      "Scale ->  0 | Confidence Score 0.702618724126351 \n",
      "\n"
     ]
    },
    {
     "name": "stderr",
     "output_type": "stream",
     "text": [
      "/tmp/ipykernel_62901/1983484597.py:49: FutureWarning: `multichannel` is a deprecated argument name for `hog`. It will be removed in version 1.0. Please use `channel_axis` instead.\n",
      "  fds, img_hog = hog(\n",
      "/tmp/ipykernel_62901/1983484597.py:49: FutureWarning: `multichannel` is a deprecated argument name for `hog`. It will be removed in version 1.0. Please use `channel_axis` instead.\n",
      "  fds, img_hog = hog(\n"
     ]
    },
    {
     "name": "stdout",
     "output_type": "stream",
     "text": [
      "Detection:: Location -> (580, 140)\n",
      "Scale ->  0 | Confidence Score 0.6910300496830327 \n",
      "\n",
      "Detection:: Location -> (600, 140)\n",
      "Scale ->  0 | Confidence Score 0.6653466024323209 \n",
      "\n"
     ]
    },
    {
     "name": "stderr",
     "output_type": "stream",
     "text": [
      "/tmp/ipykernel_62901/1983484597.py:49: FutureWarning: `multichannel` is a deprecated argument name for `hog`. It will be removed in version 1.0. Please use `channel_axis` instead.\n",
      "  fds, img_hog = hog(\n",
      "/tmp/ipykernel_62901/1983484597.py:49: FutureWarning: `multichannel` is a deprecated argument name for `hog`. It will be removed in version 1.0. Please use `channel_axis` instead.\n",
      "  fds, img_hog = hog(\n"
     ]
    },
    {
     "name": "stdout",
     "output_type": "stream",
     "text": [
      "Detection:: Location -> (620, 140)\n",
      "Scale ->  0 | Confidence Score 0.6865422873914717 \n",
      "\n"
     ]
    },
    {
     "name": "stderr",
     "output_type": "stream",
     "text": [
      "/tmp/ipykernel_62901/1983484597.py:49: FutureWarning: `multichannel` is a deprecated argument name for `hog`. It will be removed in version 1.0. Please use `channel_axis` instead.\n",
      "  fds, img_hog = hog(\n",
      "/tmp/ipykernel_62901/1983484597.py:49: FutureWarning: `multichannel` is a deprecated argument name for `hog`. It will be removed in version 1.0. Please use `channel_axis` instead.\n",
      "  fds, img_hog = hog(\n"
     ]
    },
    {
     "name": "stdout",
     "output_type": "stream",
     "text": [
      "Detection:: Location -> (660, 140)\n",
      "Scale ->  0 | Confidence Score 0.6483588922380209 \n",
      "\n",
      "Detection:: Location -> (680, 140)\n",
      "Scale ->  0 | Confidence Score 0.6931777309978465 \n",
      "\n"
     ]
    },
    {
     "name": "stderr",
     "output_type": "stream",
     "text": [
      "/tmp/ipykernel_62901/1983484597.py:49: FutureWarning: `multichannel` is a deprecated argument name for `hog`. It will be removed in version 1.0. Please use `channel_axis` instead.\n",
      "  fds, img_hog = hog(\n",
      "/tmp/ipykernel_62901/1983484597.py:49: FutureWarning: `multichannel` is a deprecated argument name for `hog`. It will be removed in version 1.0. Please use `channel_axis` instead.\n",
      "  fds, img_hog = hog(\n"
     ]
    },
    {
     "name": "stdout",
     "output_type": "stream",
     "text": [
      "Detection:: Location -> (700, 140)\n",
      "Scale ->  0 | Confidence Score 0.6924497370802488 \n",
      "\n",
      "Detection:: Location -> (720, 140)\n",
      "Scale ->  0 | Confidence Score 0.6967429309975669 \n",
      "\n"
     ]
    },
    {
     "name": "stderr",
     "output_type": "stream",
     "text": [
      "/tmp/ipykernel_62901/1983484597.py:49: FutureWarning: `multichannel` is a deprecated argument name for `hog`. It will be removed in version 1.0. Please use `channel_axis` instead.\n",
      "  fds, img_hog = hog(\n",
      "/tmp/ipykernel_62901/1983484597.py:49: FutureWarning: `multichannel` is a deprecated argument name for `hog`. It will be removed in version 1.0. Please use `channel_axis` instead.\n",
      "  fds, img_hog = hog(\n"
     ]
    },
    {
     "name": "stdout",
     "output_type": "stream",
     "text": [
      "Detection:: Location -> (740, 140)\n",
      "Scale ->  0 | Confidence Score 0.6637126565569569 \n",
      "\n",
      "Detection:: Location -> (760, 140)\n",
      "Scale ->  0 | Confidence Score 0.7362276141305314 \n",
      "\n"
     ]
    },
    {
     "name": "stderr",
     "output_type": "stream",
     "text": [
      "/tmp/ipykernel_62901/1983484597.py:49: FutureWarning: `multichannel` is a deprecated argument name for `hog`. It will be removed in version 1.0. Please use `channel_axis` instead.\n",
      "  fds, img_hog = hog(\n",
      "/tmp/ipykernel_62901/1983484597.py:49: FutureWarning: `multichannel` is a deprecated argument name for `hog`. It will be removed in version 1.0. Please use `channel_axis` instead.\n",
      "  fds, img_hog = hog(\n"
     ]
    },
    {
     "name": "stdout",
     "output_type": "stream",
     "text": [
      "Detection:: Location -> (780, 140)\n",
      "Scale ->  0 | Confidence Score 0.7078447563057023 \n",
      "\n",
      "Detection:: Location -> (800, 140)\n",
      "Scale ->  0 | Confidence Score 0.655412067515111 \n",
      "\n"
     ]
    },
    {
     "name": "stderr",
     "output_type": "stream",
     "text": [
      "/tmp/ipykernel_62901/1983484597.py:49: FutureWarning: `multichannel` is a deprecated argument name for `hog`. It will be removed in version 1.0. Please use `channel_axis` instead.\n",
      "  fds, img_hog = hog(\n",
      "/tmp/ipykernel_62901/1983484597.py:49: FutureWarning: `multichannel` is a deprecated argument name for `hog`. It will be removed in version 1.0. Please use `channel_axis` instead.\n",
      "  fds, img_hog = hog(\n"
     ]
    },
    {
     "name": "stdout",
     "output_type": "stream",
     "text": [
      "Detection:: Location -> (820, 140)\n",
      "Scale ->  0 | Confidence Score 0.7114788994713577 \n",
      "\n",
      "Detection:: Location -> (840, 140)\n",
      "Scale ->  0 | Confidence Score 0.7075923745719281 \n",
      "\n"
     ]
    },
    {
     "name": "stderr",
     "output_type": "stream",
     "text": [
      "/tmp/ipykernel_62901/1983484597.py:49: FutureWarning: `multichannel` is a deprecated argument name for `hog`. It will be removed in version 1.0. Please use `channel_axis` instead.\n",
      "  fds, img_hog = hog(\n",
      "/tmp/ipykernel_62901/1983484597.py:49: FutureWarning: `multichannel` is a deprecated argument name for `hog`. It will be removed in version 1.0. Please use `channel_axis` instead.\n",
      "  fds, img_hog = hog(\n"
     ]
    },
    {
     "name": "stdout",
     "output_type": "stream",
     "text": [
      "Detection:: Location -> (860, 140)\n",
      "Scale ->  0 | Confidence Score 0.6920994817726187 \n",
      "\n"
     ]
    },
    {
     "name": "stderr",
     "output_type": "stream",
     "text": [
      "/tmp/ipykernel_62901/1983484597.py:49: FutureWarning: `multichannel` is a deprecated argument name for `hog`. It will be removed in version 1.0. Please use `channel_axis` instead.\n",
      "  fds, img_hog = hog(\n",
      "/tmp/ipykernel_62901/1983484597.py:49: FutureWarning: `multichannel` is a deprecated argument name for `hog`. It will be removed in version 1.0. Please use `channel_axis` instead.\n",
      "  fds, img_hog = hog(\n",
      "/tmp/ipykernel_62901/1983484597.py:49: FutureWarning: `multichannel` is a deprecated argument name for `hog`. It will be removed in version 1.0. Please use `channel_axis` instead.\n",
      "  fds, img_hog = hog(\n",
      "/tmp/ipykernel_62901/1983484597.py:49: FutureWarning: `multichannel` is a deprecated argument name for `hog`. It will be removed in version 1.0. Please use `channel_axis` instead.\n",
      "  fds, img_hog = hog(\n"
     ]
    },
    {
     "name": "stdout",
     "output_type": "stream",
     "text": [
      "Detection:: Location -> (0, 160)\n",
      "Scale ->  0 | Confidence Score 0.706660219516807 \n",
      "\n"
     ]
    },
    {
     "name": "stderr",
     "output_type": "stream",
     "text": [
      "/tmp/ipykernel_62901/1983484597.py:49: FutureWarning: `multichannel` is a deprecated argument name for `hog`. It will be removed in version 1.0. Please use `channel_axis` instead.\n",
      "  fds, img_hog = hog(\n",
      "/tmp/ipykernel_62901/1983484597.py:49: FutureWarning: `multichannel` is a deprecated argument name for `hog`. It will be removed in version 1.0. Please use `channel_axis` instead.\n",
      "  fds, img_hog = hog(\n",
      "/tmp/ipykernel_62901/1983484597.py:49: FutureWarning: `multichannel` is a deprecated argument name for `hog`. It will be removed in version 1.0. Please use `channel_axis` instead.\n",
      "  fds, img_hog = hog(\n",
      "/tmp/ipykernel_62901/1983484597.py:49: FutureWarning: `multichannel` is a deprecated argument name for `hog`. It will be removed in version 1.0. Please use `channel_axis` instead.\n",
      "  fds, img_hog = hog(\n",
      "/tmp/ipykernel_62901/1983484597.py:49: FutureWarning: `multichannel` is a deprecated argument name for `hog`. It will be removed in version 1.0. Please use `channel_axis` instead.\n",
      "  fds, img_hog = hog(\n",
      "/tmp/ipykernel_62901/1983484597.py:49: FutureWarning: `multichannel` is a deprecated argument name for `hog`. It will be removed in version 1.0. Please use `channel_axis` instead.\n",
      "  fds, img_hog = hog(\n",
      "/tmp/ipykernel_62901/1983484597.py:49: FutureWarning: `multichannel` is a deprecated argument name for `hog`. It will be removed in version 1.0. Please use `channel_axis` instead.\n",
      "  fds, img_hog = hog(\n",
      "/tmp/ipykernel_62901/1983484597.py:49: FutureWarning: `multichannel` is a deprecated argument name for `hog`. It will be removed in version 1.0. Please use `channel_axis` instead.\n",
      "  fds, img_hog = hog(\n",
      "/tmp/ipykernel_62901/1983484597.py:49: FutureWarning: `multichannel` is a deprecated argument name for `hog`. It will be removed in version 1.0. Please use `channel_axis` instead.\n",
      "  fds, img_hog = hog(\n",
      "/tmp/ipykernel_62901/1983484597.py:49: FutureWarning: `multichannel` is a deprecated argument name for `hog`. It will be removed in version 1.0. Please use `channel_axis` instead.\n",
      "  fds, img_hog = hog(\n",
      "/tmp/ipykernel_62901/1983484597.py:49: FutureWarning: `multichannel` is a deprecated argument name for `hog`. It will be removed in version 1.0. Please use `channel_axis` instead.\n",
      "  fds, img_hog = hog(\n",
      "/tmp/ipykernel_62901/1983484597.py:49: FutureWarning: `multichannel` is a deprecated argument name for `hog`. It will be removed in version 1.0. Please use `channel_axis` instead.\n",
      "  fds, img_hog = hog(\n",
      "/tmp/ipykernel_62901/1983484597.py:49: FutureWarning: `multichannel` is a deprecated argument name for `hog`. It will be removed in version 1.0. Please use `channel_axis` instead.\n",
      "  fds, img_hog = hog(\n",
      "/tmp/ipykernel_62901/1983484597.py:49: FutureWarning: `multichannel` is a deprecated argument name for `hog`. It will be removed in version 1.0. Please use `channel_axis` instead.\n",
      "  fds, img_hog = hog(\n"
     ]
    },
    {
     "name": "stdout",
     "output_type": "stream",
     "text": [
      "Detection:: Location -> (260, 160)\n",
      "Scale ->  0 | Confidence Score 0.650945244508829 \n",
      "\n",
      "Detection:: Location -> (280, 160)\n",
      "Scale ->  0 | Confidence Score 0.6159673120606316 \n",
      "\n"
     ]
    },
    {
     "name": "stderr",
     "output_type": "stream",
     "text": [
      "/tmp/ipykernel_62901/1983484597.py:49: FutureWarning: `multichannel` is a deprecated argument name for `hog`. It will be removed in version 1.0. Please use `channel_axis` instead.\n",
      "  fds, img_hog = hog(\n",
      "/tmp/ipykernel_62901/1983484597.py:49: FutureWarning: `multichannel` is a deprecated argument name for `hog`. It will be removed in version 1.0. Please use `channel_axis` instead.\n",
      "  fds, img_hog = hog(\n"
     ]
    },
    {
     "name": "stdout",
     "output_type": "stream",
     "text": [
      "Detection:: Location -> (300, 160)\n",
      "Scale ->  0 | Confidence Score 0.6814024637672967 \n",
      "\n",
      "Detection:: Location -> (320, 160)\n",
      "Scale ->  0 | Confidence Score 0.6438650345338958 \n",
      "\n"
     ]
    },
    {
     "name": "stderr",
     "output_type": "stream",
     "text": [
      "/tmp/ipykernel_62901/1983484597.py:49: FutureWarning: `multichannel` is a deprecated argument name for `hog`. It will be removed in version 1.0. Please use `channel_axis` instead.\n",
      "  fds, img_hog = hog(\n",
      "/tmp/ipykernel_62901/1983484597.py:49: FutureWarning: `multichannel` is a deprecated argument name for `hog`. It will be removed in version 1.0. Please use `channel_axis` instead.\n",
      "  fds, img_hog = hog(\n"
     ]
    },
    {
     "name": "stdout",
     "output_type": "stream",
     "text": [
      "Detection:: Location -> (340, 160)\n",
      "Scale ->  0 | Confidence Score 0.6820583254033897 \n",
      "\n",
      "Detection:: Location -> (360, 160)\n",
      "Scale ->  0 | Confidence Score 0.7211275009382032 \n",
      "\n"
     ]
    },
    {
     "name": "stderr",
     "output_type": "stream",
     "text": [
      "/tmp/ipykernel_62901/1983484597.py:49: FutureWarning: `multichannel` is a deprecated argument name for `hog`. It will be removed in version 1.0. Please use `channel_axis` instead.\n",
      "  fds, img_hog = hog(\n",
      "/tmp/ipykernel_62901/1983484597.py:49: FutureWarning: `multichannel` is a deprecated argument name for `hog`. It will be removed in version 1.0. Please use `channel_axis` instead.\n",
      "  fds, img_hog = hog(\n"
     ]
    },
    {
     "name": "stdout",
     "output_type": "stream",
     "text": [
      "Detection:: Location -> (380, 160)\n",
      "Scale ->  0 | Confidence Score 0.7067451672955795 \n",
      "\n",
      "Detection:: Location -> (400, 160)\n",
      "Scale ->  0 | Confidence Score 0.615793181581012 \n",
      "\n"
     ]
    },
    {
     "name": "stderr",
     "output_type": "stream",
     "text": [
      "/tmp/ipykernel_62901/1983484597.py:49: FutureWarning: `multichannel` is a deprecated argument name for `hog`. It will be removed in version 1.0. Please use `channel_axis` instead.\n",
      "  fds, img_hog = hog(\n",
      "/tmp/ipykernel_62901/1983484597.py:49: FutureWarning: `multichannel` is a deprecated argument name for `hog`. It will be removed in version 1.0. Please use `channel_axis` instead.\n",
      "  fds, img_hog = hog(\n"
     ]
    },
    {
     "name": "stdout",
     "output_type": "stream",
     "text": [
      "Detection:: Location -> (420, 160)\n",
      "Scale ->  0 | Confidence Score 0.6328683588376784 \n",
      "\n",
      "Detection:: Location -> (440, 160)\n",
      "Scale ->  0 | Confidence Score 0.6680695986588395 \n",
      "\n"
     ]
    },
    {
     "name": "stderr",
     "output_type": "stream",
     "text": [
      "/tmp/ipykernel_62901/1983484597.py:49: FutureWarning: `multichannel` is a deprecated argument name for `hog`. It will be removed in version 1.0. Please use `channel_axis` instead.\n",
      "  fds, img_hog = hog(\n"
     ]
    },
    {
     "name": "stdout",
     "output_type": "stream",
     "text": [
      "Detection:: Location -> (460, 160)\n",
      "Scale ->  0 | Confidence Score 0.6595382994280595 \n",
      "\n",
      "Detection:: Location -> (480, 160)\n",
      "Scale ->  0 | Confidence Score 0.6751100684229274 \n",
      "\n"
     ]
    },
    {
     "name": "stderr",
     "output_type": "stream",
     "text": [
      "/tmp/ipykernel_62901/1983484597.py:49: FutureWarning: `multichannel` is a deprecated argument name for `hog`. It will be removed in version 1.0. Please use `channel_axis` instead.\n",
      "  fds, img_hog = hog(\n",
      "/tmp/ipykernel_62901/1983484597.py:49: FutureWarning: `multichannel` is a deprecated argument name for `hog`. It will be removed in version 1.0. Please use `channel_axis` instead.\n",
      "  fds, img_hog = hog(\n"
     ]
    },
    {
     "name": "stdout",
     "output_type": "stream",
     "text": [
      "Detection:: Location -> (500, 160)\n",
      "Scale ->  0 | Confidence Score 0.7410138606445965 \n",
      "\n",
      "Detection:: Location -> (520, 160)\n",
      "Scale ->  0 | Confidence Score 0.7041650531177776 \n",
      "\n"
     ]
    },
    {
     "name": "stderr",
     "output_type": "stream",
     "text": [
      "/tmp/ipykernel_62901/1983484597.py:49: FutureWarning: `multichannel` is a deprecated argument name for `hog`. It will be removed in version 1.0. Please use `channel_axis` instead.\n",
      "  fds, img_hog = hog(\n",
      "/tmp/ipykernel_62901/1983484597.py:49: FutureWarning: `multichannel` is a deprecated argument name for `hog`. It will be removed in version 1.0. Please use `channel_axis` instead.\n",
      "  fds, img_hog = hog(\n"
     ]
    },
    {
     "name": "stdout",
     "output_type": "stream",
     "text": [
      "Detection:: Location -> (540, 160)\n",
      "Scale ->  0 | Confidence Score 0.6879487592490495 \n",
      "\n",
      "Detection:: Location -> (560, 160)\n",
      "Scale ->  0 | Confidence Score 0.6345205660105834 \n",
      "\n"
     ]
    },
    {
     "name": "stderr",
     "output_type": "stream",
     "text": [
      "/tmp/ipykernel_62901/1983484597.py:49: FutureWarning: `multichannel` is a deprecated argument name for `hog`. It will be removed in version 1.0. Please use `channel_axis` instead.\n",
      "  fds, img_hog = hog(\n",
      "/tmp/ipykernel_62901/1983484597.py:49: FutureWarning: `multichannel` is a deprecated argument name for `hog`. It will be removed in version 1.0. Please use `channel_axis` instead.\n",
      "  fds, img_hog = hog(\n"
     ]
    },
    {
     "name": "stdout",
     "output_type": "stream",
     "text": [
      "Detection:: Location -> (580, 160)\n",
      "Scale ->  0 | Confidence Score 0.6202253357332896 \n",
      "\n",
      "Detection:: Location -> (600, 160)\n",
      "Scale ->  0 | Confidence Score 0.659618874400954 \n",
      "\n"
     ]
    },
    {
     "name": "stderr",
     "output_type": "stream",
     "text": [
      "/tmp/ipykernel_62901/1983484597.py:49: FutureWarning: `multichannel` is a deprecated argument name for `hog`. It will be removed in version 1.0. Please use `channel_axis` instead.\n",
      "  fds, img_hog = hog(\n",
      "/tmp/ipykernel_62901/1983484597.py:49: FutureWarning: `multichannel` is a deprecated argument name for `hog`. It will be removed in version 1.0. Please use `channel_axis` instead.\n",
      "  fds, img_hog = hog(\n"
     ]
    },
    {
     "name": "stdout",
     "output_type": "stream",
     "text": [
      "Detection:: Location -> (620, 160)\n",
      "Scale ->  0 | Confidence Score 0.684837527206791 \n",
      "\n",
      "Detection:: Location -> (640, 160)\n",
      "Scale ->  0 | Confidence Score 0.7222002707268682 \n",
      "\n"
     ]
    },
    {
     "name": "stderr",
     "output_type": "stream",
     "text": [
      "/tmp/ipykernel_62901/1983484597.py:49: FutureWarning: `multichannel` is a deprecated argument name for `hog`. It will be removed in version 1.0. Please use `channel_axis` instead.\n",
      "  fds, img_hog = hog(\n",
      "/tmp/ipykernel_62901/1983484597.py:49: FutureWarning: `multichannel` is a deprecated argument name for `hog`. It will be removed in version 1.0. Please use `channel_axis` instead.\n",
      "  fds, img_hog = hog(\n"
     ]
    },
    {
     "name": "stdout",
     "output_type": "stream",
     "text": [
      "Detection:: Location -> (660, 160)\n",
      "Scale ->  0 | Confidence Score 0.6794424233898224 \n",
      "\n",
      "Detection:: Location -> (680, 160)\n",
      "Scale ->  0 | Confidence Score 0.6902427578049087 \n",
      "\n"
     ]
    },
    {
     "name": "stderr",
     "output_type": "stream",
     "text": [
      "/tmp/ipykernel_62901/1983484597.py:49: FutureWarning: `multichannel` is a deprecated argument name for `hog`. It will be removed in version 1.0. Please use `channel_axis` instead.\n",
      "  fds, img_hog = hog(\n",
      "/tmp/ipykernel_62901/1983484597.py:49: FutureWarning: `multichannel` is a deprecated argument name for `hog`. It will be removed in version 1.0. Please use `channel_axis` instead.\n",
      "  fds, img_hog = hog(\n"
     ]
    },
    {
     "name": "stdout",
     "output_type": "stream",
     "text": [
      "Detection:: Location -> (700, 160)\n",
      "Scale ->  0 | Confidence Score 0.717451754182341 \n",
      "\n",
      "Detection:: Location -> (720, 160)\n",
      "Scale ->  0 | Confidence Score 0.6708537746519007 \n",
      "\n"
     ]
    },
    {
     "name": "stderr",
     "output_type": "stream",
     "text": [
      "/tmp/ipykernel_62901/1983484597.py:49: FutureWarning: `multichannel` is a deprecated argument name for `hog`. It will be removed in version 1.0. Please use `channel_axis` instead.\n",
      "  fds, img_hog = hog(\n",
      "/tmp/ipykernel_62901/1983484597.py:49: FutureWarning: `multichannel` is a deprecated argument name for `hog`. It will be removed in version 1.0. Please use `channel_axis` instead.\n",
      "  fds, img_hog = hog(\n"
     ]
    },
    {
     "name": "stdout",
     "output_type": "stream",
     "text": [
      "Detection:: Location -> (740, 160)\n",
      "Scale ->  0 | Confidence Score 0.6132327499939446 \n",
      "\n",
      "Detection:: Location -> (760, 160)\n",
      "Scale ->  0 | Confidence Score 0.6142384564341374 \n",
      "\n"
     ]
    },
    {
     "name": "stderr",
     "output_type": "stream",
     "text": [
      "/tmp/ipykernel_62901/1983484597.py:49: FutureWarning: `multichannel` is a deprecated argument name for `hog`. It will be removed in version 1.0. Please use `channel_axis` instead.\n",
      "  fds, img_hog = hog(\n",
      "/tmp/ipykernel_62901/1983484597.py:49: FutureWarning: `multichannel` is a deprecated argument name for `hog`. It will be removed in version 1.0. Please use `channel_axis` instead.\n",
      "  fds, img_hog = hog(\n",
      "/tmp/ipykernel_62901/1983484597.py:49: FutureWarning: `multichannel` is a deprecated argument name for `hog`. It will be removed in version 1.0. Please use `channel_axis` instead.\n",
      "  fds, img_hog = hog(\n",
      "/tmp/ipykernel_62901/1983484597.py:49: FutureWarning: `multichannel` is a deprecated argument name for `hog`. It will be removed in version 1.0. Please use `channel_axis` instead.\n",
      "  fds, img_hog = hog(\n"
     ]
    },
    {
     "name": "stdout",
     "output_type": "stream",
     "text": [
      "Detection:: Location -> (800, 160)\n",
      "Scale ->  0 | Confidence Score 0.6952383518546312 \n",
      "\n",
      "Detection:: Location -> (820, 160)\n",
      "Scale ->  0 | Confidence Score 0.7463910880984039 \n",
      "\n"
     ]
    },
    {
     "name": "stderr",
     "output_type": "stream",
     "text": [
      "/tmp/ipykernel_62901/1983484597.py:49: FutureWarning: `multichannel` is a deprecated argument name for `hog`. It will be removed in version 1.0. Please use `channel_axis` instead.\n",
      "  fds, img_hog = hog(\n",
      "/tmp/ipykernel_62901/1983484597.py:49: FutureWarning: `multichannel` is a deprecated argument name for `hog`. It will be removed in version 1.0. Please use `channel_axis` instead.\n",
      "  fds, img_hog = hog(\n"
     ]
    },
    {
     "name": "stdout",
     "output_type": "stream",
     "text": [
      "Detection:: Location -> (840, 160)\n",
      "Scale ->  0 | Confidence Score 0.7029089765482963 \n",
      "\n",
      "Detection:: Location -> (860, 160)\n",
      "Scale ->  0 | Confidence Score 0.6603286708105217 \n",
      "\n"
     ]
    },
    {
     "name": "stderr",
     "output_type": "stream",
     "text": [
      "/tmp/ipykernel_62901/1983484597.py:49: FutureWarning: `multichannel` is a deprecated argument name for `hog`. It will be removed in version 1.0. Please use `channel_axis` instead.\n",
      "  fds, img_hog = hog(\n",
      "/tmp/ipykernel_62901/1983484597.py:49: FutureWarning: `multichannel` is a deprecated argument name for `hog`. It will be removed in version 1.0. Please use `channel_axis` instead.\n",
      "  fds, img_hog = hog(\n",
      "/tmp/ipykernel_62901/1983484597.py:49: FutureWarning: `multichannel` is a deprecated argument name for `hog`. It will be removed in version 1.0. Please use `channel_axis` instead.\n",
      "  fds, img_hog = hog(\n",
      "/tmp/ipykernel_62901/1983484597.py:49: FutureWarning: `multichannel` is a deprecated argument name for `hog`. It will be removed in version 1.0. Please use `channel_axis` instead.\n",
      "  fds, img_hog = hog(\n",
      "/tmp/ipykernel_62901/1983484597.py:49: FutureWarning: `multichannel` is a deprecated argument name for `hog`. It will be removed in version 1.0. Please use `channel_axis` instead.\n",
      "  fds, img_hog = hog(\n",
      "/tmp/ipykernel_62901/1983484597.py:49: FutureWarning: `multichannel` is a deprecated argument name for `hog`. It will be removed in version 1.0. Please use `channel_axis` instead.\n",
      "  fds, img_hog = hog(\n",
      "/tmp/ipykernel_62901/1983484597.py:49: FutureWarning: `multichannel` is a deprecated argument name for `hog`. It will be removed in version 1.0. Please use `channel_axis` instead.\n",
      "  fds, img_hog = hog(\n",
      "/tmp/ipykernel_62901/1983484597.py:49: FutureWarning: `multichannel` is a deprecated argument name for `hog`. It will be removed in version 1.0. Please use `channel_axis` instead.\n",
      "  fds, img_hog = hog(\n",
      "/tmp/ipykernel_62901/1983484597.py:49: FutureWarning: `multichannel` is a deprecated argument name for `hog`. It will be removed in version 1.0. Please use `channel_axis` instead.\n",
      "  fds, img_hog = hog(\n",
      "/tmp/ipykernel_62901/1983484597.py:49: FutureWarning: `multichannel` is a deprecated argument name for `hog`. It will be removed in version 1.0. Please use `channel_axis` instead.\n",
      "  fds, img_hog = hog(\n",
      "/tmp/ipykernel_62901/1983484597.py:49: FutureWarning: `multichannel` is a deprecated argument name for `hog`. It will be removed in version 1.0. Please use `channel_axis` instead.\n",
      "  fds, img_hog = hog(\n",
      "/tmp/ipykernel_62901/1983484597.py:49: FutureWarning: `multichannel` is a deprecated argument name for `hog`. It will be removed in version 1.0. Please use `channel_axis` instead.\n",
      "  fds, img_hog = hog(\n"
     ]
    },
    {
     "name": "stdout",
     "output_type": "stream",
     "text": [
      "Detection:: Location -> (160, 180)\n",
      "Scale ->  0 | Confidence Score 0.6274833333259217 \n",
      "\n"
     ]
    },
    {
     "name": "stderr",
     "output_type": "stream",
     "text": [
      "/tmp/ipykernel_62901/1983484597.py:49: FutureWarning: `multichannel` is a deprecated argument name for `hog`. It will be removed in version 1.0. Please use `channel_axis` instead.\n",
      "  fds, img_hog = hog(\n",
      "/tmp/ipykernel_62901/1983484597.py:49: FutureWarning: `multichannel` is a deprecated argument name for `hog`. It will be removed in version 1.0. Please use `channel_axis` instead.\n",
      "  fds, img_hog = hog(\n"
     ]
    },
    {
     "name": "stdout",
     "output_type": "stream",
     "text": [
      "Detection:: Location -> (200, 180)\n",
      "Scale ->  0 | Confidence Score 0.6746609453009023 \n",
      "\n",
      "Detection:: Location -> (220, 180)\n",
      "Scale ->  0 | Confidence Score 0.6489780853123905 \n",
      "\n"
     ]
    },
    {
     "name": "stderr",
     "output_type": "stream",
     "text": [
      "/tmp/ipykernel_62901/1983484597.py:49: FutureWarning: `multichannel` is a deprecated argument name for `hog`. It will be removed in version 1.0. Please use `channel_axis` instead.\n",
      "  fds, img_hog = hog(\n",
      "/tmp/ipykernel_62901/1983484597.py:49: FutureWarning: `multichannel` is a deprecated argument name for `hog`. It will be removed in version 1.0. Please use `channel_axis` instead.\n",
      "  fds, img_hog = hog(\n"
     ]
    },
    {
     "name": "stdout",
     "output_type": "stream",
     "text": [
      "Detection:: Location -> (240, 180)\n",
      "Scale ->  0 | Confidence Score 0.6209017565106275 \n",
      "\n",
      "Detection:: Location -> (260, 180)\n",
      "Scale ->  0 | Confidence Score 0.6086162109732206 \n",
      "\n"
     ]
    },
    {
     "name": "stderr",
     "output_type": "stream",
     "text": [
      "/tmp/ipykernel_62901/1983484597.py:49: FutureWarning: `multichannel` is a deprecated argument name for `hog`. It will be removed in version 1.0. Please use `channel_axis` instead.\n",
      "  fds, img_hog = hog(\n",
      "/tmp/ipykernel_62901/1983484597.py:49: FutureWarning: `multichannel` is a deprecated argument name for `hog`. It will be removed in version 1.0. Please use `channel_axis` instead.\n",
      "  fds, img_hog = hog(\n"
     ]
    },
    {
     "name": "stdout",
     "output_type": "stream",
     "text": [
      "Detection:: Location -> (280, 180)\n",
      "Scale ->  0 | Confidence Score 0.6810498168466509 \n",
      "\n",
      "Detection:: Location -> (300, 180)\n",
      "Scale ->  0 | Confidence Score 0.6419341802465108 \n",
      "\n"
     ]
    },
    {
     "name": "stderr",
     "output_type": "stream",
     "text": [
      "/tmp/ipykernel_62901/1983484597.py:49: FutureWarning: `multichannel` is a deprecated argument name for `hog`. It will be removed in version 1.0. Please use `channel_axis` instead.\n",
      "  fds, img_hog = hog(\n",
      "/tmp/ipykernel_62901/1983484597.py:49: FutureWarning: `multichannel` is a deprecated argument name for `hog`. It will be removed in version 1.0. Please use `channel_axis` instead.\n",
      "  fds, img_hog = hog(\n"
     ]
    },
    {
     "name": "stdout",
     "output_type": "stream",
     "text": [
      "Detection:: Location -> (320, 180)\n",
      "Scale ->  0 | Confidence Score 0.63386899506703 \n",
      "\n",
      "Detection:: Location -> (340, 180)\n",
      "Scale ->  0 | Confidence Score 0.6528832816383572 \n",
      "\n"
     ]
    },
    {
     "name": "stderr",
     "output_type": "stream",
     "text": [
      "/tmp/ipykernel_62901/1983484597.py:49: FutureWarning: `multichannel` is a deprecated argument name for `hog`. It will be removed in version 1.0. Please use `channel_axis` instead.\n",
      "  fds, img_hog = hog(\n",
      "/tmp/ipykernel_62901/1983484597.py:49: FutureWarning: `multichannel` is a deprecated argument name for `hog`. It will be removed in version 1.0. Please use `channel_axis` instead.\n",
      "  fds, img_hog = hog(\n"
     ]
    },
    {
     "name": "stdout",
     "output_type": "stream",
     "text": [
      "Detection:: Location -> (360, 180)\n",
      "Scale ->  0 | Confidence Score 0.6042762478946831 \n",
      "\n",
      "Detection:: Location -> (380, 180)\n",
      "Scale ->  0 | Confidence Score 0.7051425167916463 \n",
      "\n"
     ]
    },
    {
     "name": "stderr",
     "output_type": "stream",
     "text": [
      "/tmp/ipykernel_62901/1983484597.py:49: FutureWarning: `multichannel` is a deprecated argument name for `hog`. It will be removed in version 1.0. Please use `channel_axis` instead.\n",
      "  fds, img_hog = hog(\n",
      "/tmp/ipykernel_62901/1983484597.py:49: FutureWarning: `multichannel` is a deprecated argument name for `hog`. It will be removed in version 1.0. Please use `channel_axis` instead.\n",
      "  fds, img_hog = hog(\n"
     ]
    },
    {
     "name": "stdout",
     "output_type": "stream",
     "text": [
      "Detection:: Location -> (400, 180)\n",
      "Scale ->  0 | Confidence Score 0.7108891543505135 \n",
      "\n",
      "Detection:: Location -> (420, 180)\n",
      "Scale ->  0 | Confidence Score 0.6993738355209238 \n",
      "\n"
     ]
    },
    {
     "name": "stderr",
     "output_type": "stream",
     "text": [
      "/tmp/ipykernel_62901/1983484597.py:49: FutureWarning: `multichannel` is a deprecated argument name for `hog`. It will be removed in version 1.0. Please use `channel_axis` instead.\n",
      "  fds, img_hog = hog(\n",
      "/tmp/ipykernel_62901/1983484597.py:49: FutureWarning: `multichannel` is a deprecated argument name for `hog`. It will be removed in version 1.0. Please use `channel_axis` instead.\n",
      "  fds, img_hog = hog(\n"
     ]
    },
    {
     "name": "stdout",
     "output_type": "stream",
     "text": [
      "Detection:: Location -> (440, 180)\n",
      "Scale ->  0 | Confidence Score 0.6918705025045896 \n",
      "\n",
      "Detection:: Location -> (460, 180)\n",
      "Scale ->  0 | Confidence Score 0.7426029428202567 \n",
      "\n"
     ]
    },
    {
     "name": "stderr",
     "output_type": "stream",
     "text": [
      "/tmp/ipykernel_62901/1983484597.py:49: FutureWarning: `multichannel` is a deprecated argument name for `hog`. It will be removed in version 1.0. Please use `channel_axis` instead.\n",
      "  fds, img_hog = hog(\n",
      "/tmp/ipykernel_62901/1983484597.py:49: FutureWarning: `multichannel` is a deprecated argument name for `hog`. It will be removed in version 1.0. Please use `channel_axis` instead.\n",
      "  fds, img_hog = hog(\n"
     ]
    },
    {
     "name": "stdout",
     "output_type": "stream",
     "text": [
      "Detection:: Location -> (480, 180)\n",
      "Scale ->  0 | Confidence Score 0.6678141207607239 \n",
      "\n",
      "Detection:: Location -> (500, 180)\n",
      "Scale ->  0 | Confidence Score 0.6587552840734167 \n",
      "\n"
     ]
    },
    {
     "name": "stderr",
     "output_type": "stream",
     "text": [
      "/tmp/ipykernel_62901/1983484597.py:49: FutureWarning: `multichannel` is a deprecated argument name for `hog`. It will be removed in version 1.0. Please use `channel_axis` instead.\n",
      "  fds, img_hog = hog(\n",
      "/tmp/ipykernel_62901/1983484597.py:49: FutureWarning: `multichannel` is a deprecated argument name for `hog`. It will be removed in version 1.0. Please use `channel_axis` instead.\n",
      "  fds, img_hog = hog(\n"
     ]
    },
    {
     "name": "stdout",
     "output_type": "stream",
     "text": [
      "Detection:: Location -> (520, 180)\n",
      "Scale ->  0 | Confidence Score 0.6786377521275679 \n",
      "\n",
      "Detection:: Location -> (540, 180)\n",
      "Scale ->  0 | Confidence Score 0.7198218129933367 \n",
      "\n"
     ]
    },
    {
     "name": "stderr",
     "output_type": "stream",
     "text": [
      "/tmp/ipykernel_62901/1983484597.py:49: FutureWarning: `multichannel` is a deprecated argument name for `hog`. It will be removed in version 1.0. Please use `channel_axis` instead.\n",
      "  fds, img_hog = hog(\n",
      "/tmp/ipykernel_62901/1983484597.py:49: FutureWarning: `multichannel` is a deprecated argument name for `hog`. It will be removed in version 1.0. Please use `channel_axis` instead.\n",
      "  fds, img_hog = hog(\n"
     ]
    },
    {
     "name": "stdout",
     "output_type": "stream",
     "text": [
      "Detection:: Location -> (560, 180)\n",
      "Scale ->  0 | Confidence Score 0.7083835774936124 \n",
      "\n"
     ]
    },
    {
     "name": "stderr",
     "output_type": "stream",
     "text": [
      "/tmp/ipykernel_62901/1983484597.py:49: FutureWarning: `multichannel` is a deprecated argument name for `hog`. It will be removed in version 1.0. Please use `channel_axis` instead.\n",
      "  fds, img_hog = hog(\n"
     ]
    },
    {
     "name": "stdout",
     "output_type": "stream",
     "text": [
      "Detection:: Location -> (580, 180)\n",
      "Scale ->  0 | Confidence Score 0.7163289741019524 \n",
      "\n"
     ]
    },
    {
     "name": "stderr",
     "output_type": "stream",
     "text": [
      "/tmp/ipykernel_62901/1983484597.py:49: FutureWarning: `multichannel` is a deprecated argument name for `hog`. It will be removed in version 1.0. Please use `channel_axis` instead.\n",
      "  fds, img_hog = hog(\n"
     ]
    },
    {
     "name": "stdout",
     "output_type": "stream",
     "text": [
      "Detection:: Location -> (600, 180)\n",
      "Scale ->  0 | Confidence Score 0.729428662582144 \n",
      "\n"
     ]
    },
    {
     "name": "stderr",
     "output_type": "stream",
     "text": [
      "/tmp/ipykernel_62901/1983484597.py:49: FutureWarning: `multichannel` is a deprecated argument name for `hog`. It will be removed in version 1.0. Please use `channel_axis` instead.\n",
      "  fds, img_hog = hog(\n"
     ]
    },
    {
     "name": "stdout",
     "output_type": "stream",
     "text": [
      "Detection:: Location -> (620, 180)\n",
      "Scale ->  0 | Confidence Score 0.7836551279336248 \n",
      "\n",
      "Detection:: Location -> (640, 180)\n",
      "Scale ->  0 | Confidence Score 0.7292427827248703 \n",
      "\n"
     ]
    },
    {
     "name": "stderr",
     "output_type": "stream",
     "text": [
      "/tmp/ipykernel_62901/1983484597.py:49: FutureWarning: `multichannel` is a deprecated argument name for `hog`. It will be removed in version 1.0. Please use `channel_axis` instead.\n",
      "  fds, img_hog = hog(\n",
      "/tmp/ipykernel_62901/1983484597.py:49: FutureWarning: `multichannel` is a deprecated argument name for `hog`. It will be removed in version 1.0. Please use `channel_axis` instead.\n",
      "  fds, img_hog = hog(\n"
     ]
    },
    {
     "name": "stdout",
     "output_type": "stream",
     "text": [
      "Detection:: Location -> (660, 180)\n",
      "Scale ->  0 | Confidence Score 0.7484141505309259 \n",
      "\n",
      "Detection:: Location -> (680, 180)\n",
      "Scale ->  0 | Confidence Score 0.6952457322216591 \n",
      "\n"
     ]
    },
    {
     "name": "stderr",
     "output_type": "stream",
     "text": [
      "/tmp/ipykernel_62901/1983484597.py:49: FutureWarning: `multichannel` is a deprecated argument name for `hog`. It will be removed in version 1.0. Please use `channel_axis` instead.\n",
      "  fds, img_hog = hog(\n",
      "/tmp/ipykernel_62901/1983484597.py:49: FutureWarning: `multichannel` is a deprecated argument name for `hog`. It will be removed in version 1.0. Please use `channel_axis` instead.\n",
      "  fds, img_hog = hog(\n"
     ]
    },
    {
     "name": "stdout",
     "output_type": "stream",
     "text": [
      "Detection:: Location -> (700, 180)\n",
      "Scale ->  0 | Confidence Score 0.7281707469854697 \n",
      "\n",
      "Detection:: Location -> (720, 180)\n",
      "Scale ->  0 | Confidence Score 0.6858827784731959 \n",
      "\n"
     ]
    },
    {
     "name": "stderr",
     "output_type": "stream",
     "text": [
      "/tmp/ipykernel_62901/1983484597.py:49: FutureWarning: `multichannel` is a deprecated argument name for `hog`. It will be removed in version 1.0. Please use `channel_axis` instead.\n",
      "  fds, img_hog = hog(\n",
      "/tmp/ipykernel_62901/1983484597.py:49: FutureWarning: `multichannel` is a deprecated argument name for `hog`. It will be removed in version 1.0. Please use `channel_axis` instead.\n",
      "  fds, img_hog = hog(\n"
     ]
    },
    {
     "name": "stdout",
     "output_type": "stream",
     "text": [
      "Detection:: Location -> (740, 180)\n",
      "Scale ->  0 | Confidence Score 0.7079161937407591 \n",
      "\n",
      "Detection:: Location -> (760, 180)\n",
      "Scale ->  0 | Confidence Score 0.7498072794747691 \n",
      "\n"
     ]
    },
    {
     "name": "stderr",
     "output_type": "stream",
     "text": [
      "/tmp/ipykernel_62901/1983484597.py:49: FutureWarning: `multichannel` is a deprecated argument name for `hog`. It will be removed in version 1.0. Please use `channel_axis` instead.\n",
      "  fds, img_hog = hog(\n",
      "/tmp/ipykernel_62901/1983484597.py:49: FutureWarning: `multichannel` is a deprecated argument name for `hog`. It will be removed in version 1.0. Please use `channel_axis` instead.\n",
      "  fds, img_hog = hog(\n"
     ]
    },
    {
     "name": "stdout",
     "output_type": "stream",
     "text": [
      "Detection:: Location -> (780, 180)\n",
      "Scale ->  0 | Confidence Score 0.7295642828789984 \n",
      "\n",
      "Detection:: Location -> (800, 180)\n",
      "Scale ->  0 | Confidence Score 0.6930816608299806 \n",
      "\n"
     ]
    },
    {
     "name": "stderr",
     "output_type": "stream",
     "text": [
      "/tmp/ipykernel_62901/1983484597.py:49: FutureWarning: `multichannel` is a deprecated argument name for `hog`. It will be removed in version 1.0. Please use `channel_axis` instead.\n",
      "  fds, img_hog = hog(\n",
      "/tmp/ipykernel_62901/1983484597.py:49: FutureWarning: `multichannel` is a deprecated argument name for `hog`. It will be removed in version 1.0. Please use `channel_axis` instead.\n",
      "  fds, img_hog = hog(\n"
     ]
    },
    {
     "name": "stdout",
     "output_type": "stream",
     "text": [
      "Detection:: Location -> (820, 180)\n",
      "Scale ->  0 | Confidence Score 0.664241250826216 \n",
      "\n",
      "Detection:: Location -> (840, 180)\n",
      "Scale ->  0 | Confidence Score 0.6498898286126292 \n",
      "\n"
     ]
    },
    {
     "name": "stderr",
     "output_type": "stream",
     "text": [
      "/tmp/ipykernel_62901/1983484597.py:49: FutureWarning: `multichannel` is a deprecated argument name for `hog`. It will be removed in version 1.0. Please use `channel_axis` instead.\n",
      "  fds, img_hog = hog(\n",
      "/tmp/ipykernel_62901/1983484597.py:49: FutureWarning: `multichannel` is a deprecated argument name for `hog`. It will be removed in version 1.0. Please use `channel_axis` instead.\n",
      "  fds, img_hog = hog(\n"
     ]
    },
    {
     "name": "stdout",
     "output_type": "stream",
     "text": [
      "Detection:: Location -> (860, 180)\n",
      "Scale ->  0 | Confidence Score 0.6883884390421728 \n",
      "\n"
     ]
    },
    {
     "name": "stderr",
     "output_type": "stream",
     "text": [
      "/tmp/ipykernel_62901/1983484597.py:49: FutureWarning: `multichannel` is a deprecated argument name for `hog`. It will be removed in version 1.0. Please use `channel_axis` instead.\n",
      "  fds, img_hog = hog(\n",
      "/tmp/ipykernel_62901/1983484597.py:49: FutureWarning: `multichannel` is a deprecated argument name for `hog`. It will be removed in version 1.0. Please use `channel_axis` instead.\n",
      "  fds, img_hog = hog(\n",
      "/tmp/ipykernel_62901/1983484597.py:49: FutureWarning: `multichannel` is a deprecated argument name for `hog`. It will be removed in version 1.0. Please use `channel_axis` instead.\n",
      "  fds, img_hog = hog(\n",
      "/tmp/ipykernel_62901/1983484597.py:49: FutureWarning: `multichannel` is a deprecated argument name for `hog`. It will be removed in version 1.0. Please use `channel_axis` instead.\n",
      "  fds, img_hog = hog(\n",
      "/tmp/ipykernel_62901/1983484597.py:49: FutureWarning: `multichannel` is a deprecated argument name for `hog`. It will be removed in version 1.0. Please use `channel_axis` instead.\n",
      "  fds, img_hog = hog(\n",
      "/tmp/ipykernel_62901/1983484597.py:49: FutureWarning: `multichannel` is a deprecated argument name for `hog`. It will be removed in version 1.0. Please use `channel_axis` instead.\n",
      "  fds, img_hog = hog(\n",
      "/tmp/ipykernel_62901/1983484597.py:49: FutureWarning: `multichannel` is a deprecated argument name for `hog`. It will be removed in version 1.0. Please use `channel_axis` instead.\n",
      "  fds, img_hog = hog(\n",
      "/tmp/ipykernel_62901/1983484597.py:49: FutureWarning: `multichannel` is a deprecated argument name for `hog`. It will be removed in version 1.0. Please use `channel_axis` instead.\n",
      "  fds, img_hog = hog(\n",
      "/tmp/ipykernel_62901/1983484597.py:49: FutureWarning: `multichannel` is a deprecated argument name for `hog`. It will be removed in version 1.0. Please use `channel_axis` instead.\n",
      "  fds, img_hog = hog(\n",
      "/tmp/ipykernel_62901/1983484597.py:49: FutureWarning: `multichannel` is a deprecated argument name for `hog`. It will be removed in version 1.0. Please use `channel_axis` instead.\n",
      "  fds, img_hog = hog(\n",
      "/tmp/ipykernel_62901/1983484597.py:49: FutureWarning: `multichannel` is a deprecated argument name for `hog`. It will be removed in version 1.0. Please use `channel_axis` instead.\n",
      "  fds, img_hog = hog(\n"
     ]
    },
    {
     "name": "stdout",
     "output_type": "stream",
     "text": [
      "Detection:: Location -> (140, 200)\n",
      "Scale ->  0 | Confidence Score 0.6160102746408613 \n",
      "\n"
     ]
    },
    {
     "name": "stderr",
     "output_type": "stream",
     "text": [
      "/tmp/ipykernel_62901/1983484597.py:49: FutureWarning: `multichannel` is a deprecated argument name for `hog`. It will be removed in version 1.0. Please use `channel_axis` instead.\n",
      "  fds, img_hog = hog(\n"
     ]
    },
    {
     "name": "stdout",
     "output_type": "stream",
     "text": [
      "Detection:: Location -> (160, 200)\n",
      "Scale ->  0 | Confidence Score 0.6328799864402739 \n",
      "\n",
      "Detection:: Location -> (180, 200)\n",
      "Scale ->  0 | Confidence Score 0.7162568823239923 \n",
      "\n"
     ]
    },
    {
     "name": "stderr",
     "output_type": "stream",
     "text": [
      "/tmp/ipykernel_62901/1983484597.py:49: FutureWarning: `multichannel` is a deprecated argument name for `hog`. It will be removed in version 1.0. Please use `channel_axis` instead.\n",
      "  fds, img_hog = hog(\n",
      "/tmp/ipykernel_62901/1983484597.py:49: FutureWarning: `multichannel` is a deprecated argument name for `hog`. It will be removed in version 1.0. Please use `channel_axis` instead.\n",
      "  fds, img_hog = hog(\n"
     ]
    },
    {
     "name": "stdout",
     "output_type": "stream",
     "text": [
      "Detection:: Location -> (200, 200)\n",
      "Scale ->  0 | Confidence Score 0.6475582467960996 \n",
      "\n",
      "Detection:: Location -> (220, 200)\n",
      "Scale ->  0 | Confidence Score 0.6501117175300728 \n",
      "\n"
     ]
    },
    {
     "name": "stderr",
     "output_type": "stream",
     "text": [
      "/tmp/ipykernel_62901/1983484597.py:49: FutureWarning: `multichannel` is a deprecated argument name for `hog`. It will be removed in version 1.0. Please use `channel_axis` instead.\n",
      "  fds, img_hog = hog(\n",
      "/tmp/ipykernel_62901/1983484597.py:49: FutureWarning: `multichannel` is a deprecated argument name for `hog`. It will be removed in version 1.0. Please use `channel_axis` instead.\n",
      "  fds, img_hog = hog(\n"
     ]
    },
    {
     "name": "stdout",
     "output_type": "stream",
     "text": [
      "Detection:: Location -> (240, 200)\n",
      "Scale ->  0 | Confidence Score 0.6292676441280624 \n",
      "\n",
      "Detection:: Location -> (260, 200)\n",
      "Scale ->  0 | Confidence Score 0.6872920133737535 \n",
      "\n"
     ]
    },
    {
     "name": "stderr",
     "output_type": "stream",
     "text": [
      "/tmp/ipykernel_62901/1983484597.py:49: FutureWarning: `multichannel` is a deprecated argument name for `hog`. It will be removed in version 1.0. Please use `channel_axis` instead.\n",
      "  fds, img_hog = hog(\n",
      "/tmp/ipykernel_62901/1983484597.py:49: FutureWarning: `multichannel` is a deprecated argument name for `hog`. It will be removed in version 1.0. Please use `channel_axis` instead.\n",
      "  fds, img_hog = hog(\n",
      "/tmp/ipykernel_62901/1983484597.py:49: FutureWarning: `multichannel` is a deprecated argument name for `hog`. It will be removed in version 1.0. Please use `channel_axis` instead.\n",
      "  fds, img_hog = hog(\n",
      "/tmp/ipykernel_62901/1983484597.py:49: FutureWarning: `multichannel` is a deprecated argument name for `hog`. It will be removed in version 1.0. Please use `channel_axis` instead.\n",
      "  fds, img_hog = hog(\n"
     ]
    },
    {
     "name": "stdout",
     "output_type": "stream",
     "text": [
      "Detection:: Location -> (300, 200)\n",
      "Scale ->  0 | Confidence Score 0.7142138079910816 \n",
      "\n",
      "Detection:: Location -> (320, 200)\n",
      "Scale ->  0 | Confidence Score 0.6994534891306914 \n",
      "\n"
     ]
    },
    {
     "name": "stderr",
     "output_type": "stream",
     "text": [
      "/tmp/ipykernel_62901/1983484597.py:49: FutureWarning: `multichannel` is a deprecated argument name for `hog`. It will be removed in version 1.0. Please use `channel_axis` instead.\n",
      "  fds, img_hog = hog(\n",
      "/tmp/ipykernel_62901/1983484597.py:49: FutureWarning: `multichannel` is a deprecated argument name for `hog`. It will be removed in version 1.0. Please use `channel_axis` instead.\n",
      "  fds, img_hog = hog(\n"
     ]
    },
    {
     "name": "stdout",
     "output_type": "stream",
     "text": [
      "Detection:: Location -> (340, 200)\n",
      "Scale ->  0 | Confidence Score 0.6892183329702043 \n",
      "\n",
      "Detection:: Location -> (360, 200)\n",
      "Scale ->  0 | Confidence Score 0.709728533368415 \n",
      "\n"
     ]
    },
    {
     "name": "stderr",
     "output_type": "stream",
     "text": [
      "/tmp/ipykernel_62901/1983484597.py:49: FutureWarning: `multichannel` is a deprecated argument name for `hog`. It will be removed in version 1.0. Please use `channel_axis` instead.\n",
      "  fds, img_hog = hog(\n",
      "/tmp/ipykernel_62901/1983484597.py:49: FutureWarning: `multichannel` is a deprecated argument name for `hog`. It will be removed in version 1.0. Please use `channel_axis` instead.\n",
      "  fds, img_hog = hog(\n"
     ]
    },
    {
     "name": "stdout",
     "output_type": "stream",
     "text": [
      "Detection:: Location -> (380, 200)\n",
      "Scale ->  0 | Confidence Score 0.7402852967430565 \n",
      "\n",
      "Detection:: Location -> (400, 200)\n",
      "Scale ->  0 | Confidence Score 0.6860896945303026 \n",
      "\n"
     ]
    },
    {
     "name": "stderr",
     "output_type": "stream",
     "text": [
      "/tmp/ipykernel_62901/1983484597.py:49: FutureWarning: `multichannel` is a deprecated argument name for `hog`. It will be removed in version 1.0. Please use `channel_axis` instead.\n",
      "  fds, img_hog = hog(\n",
      "/tmp/ipykernel_62901/1983484597.py:49: FutureWarning: `multichannel` is a deprecated argument name for `hog`. It will be removed in version 1.0. Please use `channel_axis` instead.\n",
      "  fds, img_hog = hog(\n"
     ]
    },
    {
     "name": "stdout",
     "output_type": "stream",
     "text": [
      "Detection:: Location -> (420, 200)\n",
      "Scale ->  0 | Confidence Score 0.7014851276289598 \n",
      "\n",
      "Detection:: Location -> (440, 200)\n",
      "Scale ->  0 | Confidence Score 0.6654503575538581 \n",
      "\n"
     ]
    },
    {
     "name": "stderr",
     "output_type": "stream",
     "text": [
      "/tmp/ipykernel_62901/1983484597.py:49: FutureWarning: `multichannel` is a deprecated argument name for `hog`. It will be removed in version 1.0. Please use `channel_axis` instead.\n",
      "  fds, img_hog = hog(\n",
      "/tmp/ipykernel_62901/1983484597.py:49: FutureWarning: `multichannel` is a deprecated argument name for `hog`. It will be removed in version 1.0. Please use `channel_axis` instead.\n",
      "  fds, img_hog = hog(\n"
     ]
    },
    {
     "name": "stdout",
     "output_type": "stream",
     "text": [
      "Detection:: Location -> (460, 200)\n",
      "Scale ->  0 | Confidence Score 0.6894470139601467 \n",
      "\n",
      "Detection:: Location -> (480, 200)\n",
      "Scale ->  0 | Confidence Score 0.6683183728203096 \n",
      "\n"
     ]
    },
    {
     "name": "stderr",
     "output_type": "stream",
     "text": [
      "/tmp/ipykernel_62901/1983484597.py:49: FutureWarning: `multichannel` is a deprecated argument name for `hog`. It will be removed in version 1.0. Please use `channel_axis` instead.\n",
      "  fds, img_hog = hog(\n",
      "/tmp/ipykernel_62901/1983484597.py:49: FutureWarning: `multichannel` is a deprecated argument name for `hog`. It will be removed in version 1.0. Please use `channel_axis` instead.\n",
      "  fds, img_hog = hog(\n"
     ]
    },
    {
     "name": "stdout",
     "output_type": "stream",
     "text": [
      "Detection:: Location -> (500, 200)\n",
      "Scale ->  0 | Confidence Score 0.6915587024092715 \n",
      "\n",
      "Detection:: Location -> (520, 200)\n",
      "Scale ->  0 | Confidence Score 0.7108279909528561 \n",
      "\n"
     ]
    },
    {
     "name": "stderr",
     "output_type": "stream",
     "text": [
      "/tmp/ipykernel_62901/1983484597.py:49: FutureWarning: `multichannel` is a deprecated argument name for `hog`. It will be removed in version 1.0. Please use `channel_axis` instead.\n",
      "  fds, img_hog = hog(\n",
      "/tmp/ipykernel_62901/1983484597.py:49: FutureWarning: `multichannel` is a deprecated argument name for `hog`. It will be removed in version 1.0. Please use `channel_axis` instead.\n",
      "  fds, img_hog = hog(\n"
     ]
    },
    {
     "name": "stdout",
     "output_type": "stream",
     "text": [
      "Detection:: Location -> (540, 200)\n",
      "Scale ->  0 | Confidence Score 0.7405163296629607 \n",
      "\n",
      "Detection:: Location -> (560, 200)\n",
      "Scale ->  0 | Confidence Score 0.7609452508103798 \n",
      "\n"
     ]
    },
    {
     "name": "stderr",
     "output_type": "stream",
     "text": [
      "/tmp/ipykernel_62901/1983484597.py:49: FutureWarning: `multichannel` is a deprecated argument name for `hog`. It will be removed in version 1.0. Please use `channel_axis` instead.\n",
      "  fds, img_hog = hog(\n",
      "/tmp/ipykernel_62901/1983484597.py:49: FutureWarning: `multichannel` is a deprecated argument name for `hog`. It will be removed in version 1.0. Please use `channel_axis` instead.\n",
      "  fds, img_hog = hog(\n"
     ]
    },
    {
     "name": "stdout",
     "output_type": "stream",
     "text": [
      "Detection:: Location -> (580, 200)\n",
      "Scale ->  0 | Confidence Score 0.7723237901499044 \n",
      "\n",
      "Detection:: Location -> (600, 200)\n",
      "Scale ->  0 | Confidence Score 0.721046067616415 \n",
      "\n"
     ]
    },
    {
     "name": "stderr",
     "output_type": "stream",
     "text": [
      "/tmp/ipykernel_62901/1983484597.py:49: FutureWarning: `multichannel` is a deprecated argument name for `hog`. It will be removed in version 1.0. Please use `channel_axis` instead.\n",
      "  fds, img_hog = hog(\n",
      "/tmp/ipykernel_62901/1983484597.py:49: FutureWarning: `multichannel` is a deprecated argument name for `hog`. It will be removed in version 1.0. Please use `channel_axis` instead.\n",
      "  fds, img_hog = hog(\n"
     ]
    },
    {
     "name": "stdout",
     "output_type": "stream",
     "text": [
      "Detection:: Location -> (620, 200)\n",
      "Scale ->  0 | Confidence Score 0.7254487449619436 \n",
      "\n",
      "Detection:: Location -> (640, 200)\n",
      "Scale ->  0 | Confidence Score 0.7228053227988354 \n",
      "\n"
     ]
    },
    {
     "name": "stderr",
     "output_type": "stream",
     "text": [
      "/tmp/ipykernel_62901/1983484597.py:49: FutureWarning: `multichannel` is a deprecated argument name for `hog`. It will be removed in version 1.0. Please use `channel_axis` instead.\n",
      "  fds, img_hog = hog(\n",
      "/tmp/ipykernel_62901/1983484597.py:49: FutureWarning: `multichannel` is a deprecated argument name for `hog`. It will be removed in version 1.0. Please use `channel_axis` instead.\n",
      "  fds, img_hog = hog(\n"
     ]
    },
    {
     "name": "stdout",
     "output_type": "stream",
     "text": [
      "Detection:: Location -> (660, 200)\n",
      "Scale ->  0 | Confidence Score 0.7018806424347299 \n",
      "\n",
      "Detection:: Location -> (680, 200)\n",
      "Scale ->  0 | Confidence Score 0.6246519308253272 \n",
      "\n"
     ]
    },
    {
     "name": "stderr",
     "output_type": "stream",
     "text": [
      "/tmp/ipykernel_62901/1983484597.py:49: FutureWarning: `multichannel` is a deprecated argument name for `hog`. It will be removed in version 1.0. Please use `channel_axis` instead.\n",
      "  fds, img_hog = hog(\n"
     ]
    },
    {
     "name": "stdout",
     "output_type": "stream",
     "text": [
      "Detection:: Location -> (700, 200)\n",
      "Scale ->  0 | Confidence Score 0.7095978873380826 \n",
      "\n",
      "Detection:: Location -> (720, 200)\n",
      "Scale ->  0 | Confidence Score 0.7269115696136107 \n",
      "\n"
     ]
    },
    {
     "name": "stderr",
     "output_type": "stream",
     "text": [
      "/tmp/ipykernel_62901/1983484597.py:49: FutureWarning: `multichannel` is a deprecated argument name for `hog`. It will be removed in version 1.0. Please use `channel_axis` instead.\n",
      "  fds, img_hog = hog(\n",
      "/tmp/ipykernel_62901/1983484597.py:49: FutureWarning: `multichannel` is a deprecated argument name for `hog`. It will be removed in version 1.0. Please use `channel_axis` instead.\n",
      "  fds, img_hog = hog(\n"
     ]
    },
    {
     "name": "stdout",
     "output_type": "stream",
     "text": [
      "Detection:: Location -> (740, 200)\n",
      "Scale ->  0 | Confidence Score 0.760791753154799 \n",
      "\n",
      "Detection:: Location -> (760, 200)\n",
      "Scale ->  0 | Confidence Score 0.7324592464453235 \n",
      "\n"
     ]
    },
    {
     "name": "stderr",
     "output_type": "stream",
     "text": [
      "/tmp/ipykernel_62901/1983484597.py:49: FutureWarning: `multichannel` is a deprecated argument name for `hog`. It will be removed in version 1.0. Please use `channel_axis` instead.\n",
      "  fds, img_hog = hog(\n",
      "/tmp/ipykernel_62901/1983484597.py:49: FutureWarning: `multichannel` is a deprecated argument name for `hog`. It will be removed in version 1.0. Please use `channel_axis` instead.\n",
      "  fds, img_hog = hog(\n"
     ]
    },
    {
     "name": "stdout",
     "output_type": "stream",
     "text": [
      "Detection:: Location -> (780, 200)\n",
      "Scale ->  0 | Confidence Score 0.784497215719037 \n",
      "\n",
      "Detection:: Location -> (800, 200)\n",
      "Scale ->  0 | Confidence Score 0.672795118752398 \n",
      "\n"
     ]
    },
    {
     "name": "stderr",
     "output_type": "stream",
     "text": [
      "/tmp/ipykernel_62901/1983484597.py:49: FutureWarning: `multichannel` is a deprecated argument name for `hog`. It will be removed in version 1.0. Please use `channel_axis` instead.\n",
      "  fds, img_hog = hog(\n",
      "/tmp/ipykernel_62901/1983484597.py:49: FutureWarning: `multichannel` is a deprecated argument name for `hog`. It will be removed in version 1.0. Please use `channel_axis` instead.\n",
      "  fds, img_hog = hog(\n"
     ]
    },
    {
     "name": "stdout",
     "output_type": "stream",
     "text": [
      "Detection:: Location -> (820, 200)\n",
      "Scale ->  0 | Confidence Score 0.6929662859197309 \n",
      "\n"
     ]
    },
    {
     "name": "stderr",
     "output_type": "stream",
     "text": [
      "/tmp/ipykernel_62901/1983484597.py:49: FutureWarning: `multichannel` is a deprecated argument name for `hog`. It will be removed in version 1.0. Please use `channel_axis` instead.\n",
      "  fds, img_hog = hog(\n",
      "/tmp/ipykernel_62901/1983484597.py:49: FutureWarning: `multichannel` is a deprecated argument name for `hog`. It will be removed in version 1.0. Please use `channel_axis` instead.\n",
      "  fds, img_hog = hog(\n"
     ]
    },
    {
     "name": "stdout",
     "output_type": "stream",
     "text": [
      "Detection:: Location -> (860, 200)\n",
      "Scale ->  0 | Confidence Score 0.7187331144002866 \n",
      "\n"
     ]
    },
    {
     "name": "stderr",
     "output_type": "stream",
     "text": [
      "/tmp/ipykernel_62901/1983484597.py:49: FutureWarning: `multichannel` is a deprecated argument name for `hog`. It will be removed in version 1.0. Please use `channel_axis` instead.\n",
      "  fds, img_hog = hog(\n",
      "/tmp/ipykernel_62901/1983484597.py:49: FutureWarning: `multichannel` is a deprecated argument name for `hog`. It will be removed in version 1.0. Please use `channel_axis` instead.\n",
      "  fds, img_hog = hog(\n",
      "/tmp/ipykernel_62901/1983484597.py:49: FutureWarning: `multichannel` is a deprecated argument name for `hog`. It will be removed in version 1.0. Please use `channel_axis` instead.\n",
      "  fds, img_hog = hog(\n",
      "/tmp/ipykernel_62901/1983484597.py:49: FutureWarning: `multichannel` is a deprecated argument name for `hog`. It will be removed in version 1.0. Please use `channel_axis` instead.\n",
      "  fds, img_hog = hog(\n",
      "/tmp/ipykernel_62901/1983484597.py:49: FutureWarning: `multichannel` is a deprecated argument name for `hog`. It will be removed in version 1.0. Please use `channel_axis` instead.\n",
      "  fds, img_hog = hog(\n",
      "/tmp/ipykernel_62901/1983484597.py:49: FutureWarning: `multichannel` is a deprecated argument name for `hog`. It will be removed in version 1.0. Please use `channel_axis` instead.\n",
      "  fds, img_hog = hog(\n"
     ]
    },
    {
     "name": "stdout",
     "output_type": "stream",
     "text": [
      "Detection:: Location -> (20, 220)\n",
      "Scale ->  0 | Confidence Score 0.6249132740741842 \n",
      "\n",
      "Detection:: Location -> (40, 220)\n",
      "Scale ->  0 | Confidence Score 0.6248161794535767 \n",
      "\n"
     ]
    },
    {
     "name": "stderr",
     "output_type": "stream",
     "text": [
      "/tmp/ipykernel_62901/1983484597.py:49: FutureWarning: `multichannel` is a deprecated argument name for `hog`. It will be removed in version 1.0. Please use `channel_axis` instead.\n",
      "  fds, img_hog = hog(\n",
      "/tmp/ipykernel_62901/1983484597.py:49: FutureWarning: `multichannel` is a deprecated argument name for `hog`. It will be removed in version 1.0. Please use `channel_axis` instead.\n",
      "  fds, img_hog = hog(\n"
     ]
    },
    {
     "name": "stdout",
     "output_type": "stream",
     "text": [
      "Detection:: Location -> (60, 220)\n",
      "Scale ->  0 | Confidence Score 0.6629562649694153 \n",
      "\n",
      "Detection:: Location -> (80, 220)\n",
      "Scale ->  0 | Confidence Score 0.6707100287955936 \n",
      "\n"
     ]
    },
    {
     "name": "stderr",
     "output_type": "stream",
     "text": [
      "/tmp/ipykernel_62901/1983484597.py:49: FutureWarning: `multichannel` is a deprecated argument name for `hog`. It will be removed in version 1.0. Please use `channel_axis` instead.\n",
      "  fds, img_hog = hog(\n",
      "/tmp/ipykernel_62901/1983484597.py:49: FutureWarning: `multichannel` is a deprecated argument name for `hog`. It will be removed in version 1.0. Please use `channel_axis` instead.\n",
      "  fds, img_hog = hog(\n"
     ]
    },
    {
     "name": "stdout",
     "output_type": "stream",
     "text": [
      "Detection:: Location -> (100, 220)\n",
      "Scale ->  0 | Confidence Score 0.6863778231896971 \n",
      "\n",
      "Detection:: Location -> (120, 220)\n",
      "Scale ->  0 | Confidence Score 0.6832626345142605 \n",
      "\n"
     ]
    },
    {
     "name": "stderr",
     "output_type": "stream",
     "text": [
      "/tmp/ipykernel_62901/1983484597.py:49: FutureWarning: `multichannel` is a deprecated argument name for `hog`. It will be removed in version 1.0. Please use `channel_axis` instead.\n",
      "  fds, img_hog = hog(\n",
      "/tmp/ipykernel_62901/1983484597.py:49: FutureWarning: `multichannel` is a deprecated argument name for `hog`. It will be removed in version 1.0. Please use `channel_axis` instead.\n",
      "  fds, img_hog = hog(\n"
     ]
    },
    {
     "name": "stdout",
     "output_type": "stream",
     "text": [
      "Detection:: Location -> (140, 220)\n",
      "Scale ->  0 | Confidence Score 0.7410668671096221 \n",
      "\n",
      "Detection:: Location -> (160, 220)\n",
      "Scale ->  0 | Confidence Score 0.7281848017412066 \n",
      "\n"
     ]
    },
    {
     "name": "stderr",
     "output_type": "stream",
     "text": [
      "/tmp/ipykernel_62901/1983484597.py:49: FutureWarning: `multichannel` is a deprecated argument name for `hog`. It will be removed in version 1.0. Please use `channel_axis` instead.\n",
      "  fds, img_hog = hog(\n"
     ]
    },
    {
     "name": "stdout",
     "output_type": "stream",
     "text": [
      "Detection:: Location -> (180, 220)\n",
      "Scale ->  0 | Confidence Score 0.7473993292905815 \n",
      "\n",
      "Detection:: Location -> (200, 220)\n",
      "Scale ->  0 | Confidence Score 0.6678390394455638 \n",
      "\n"
     ]
    },
    {
     "name": "stderr",
     "output_type": "stream",
     "text": [
      "/tmp/ipykernel_62901/1983484597.py:49: FutureWarning: `multichannel` is a deprecated argument name for `hog`. It will be removed in version 1.0. Please use `channel_axis` instead.\n",
      "  fds, img_hog = hog(\n",
      "/tmp/ipykernel_62901/1983484597.py:49: FutureWarning: `multichannel` is a deprecated argument name for `hog`. It will be removed in version 1.0. Please use `channel_axis` instead.\n",
      "  fds, img_hog = hog(\n"
     ]
    },
    {
     "name": "stdout",
     "output_type": "stream",
     "text": [
      "Detection:: Location -> (220, 220)\n",
      "Scale ->  0 | Confidence Score 0.709358431315807 \n",
      "\n",
      "Detection:: Location -> (240, 220)\n",
      "Scale ->  0 | Confidence Score 0.7186498525425526 \n",
      "\n"
     ]
    },
    {
     "name": "stderr",
     "output_type": "stream",
     "text": [
      "/tmp/ipykernel_62901/1983484597.py:49: FutureWarning: `multichannel` is a deprecated argument name for `hog`. It will be removed in version 1.0. Please use `channel_axis` instead.\n",
      "  fds, img_hog = hog(\n",
      "/tmp/ipykernel_62901/1983484597.py:49: FutureWarning: `multichannel` is a deprecated argument name for `hog`. It will be removed in version 1.0. Please use `channel_axis` instead.\n",
      "  fds, img_hog = hog(\n"
     ]
    },
    {
     "name": "stdout",
     "output_type": "stream",
     "text": [
      "Detection:: Location -> (260, 220)\n",
      "Scale ->  0 | Confidence Score 0.6801734354235336 \n",
      "\n",
      "Detection:: Location -> (280, 220)\n",
      "Scale ->  0 | Confidence Score 0.7267794796748731 \n",
      "\n"
     ]
    },
    {
     "name": "stderr",
     "output_type": "stream",
     "text": [
      "/tmp/ipykernel_62901/1983484597.py:49: FutureWarning: `multichannel` is a deprecated argument name for `hog`. It will be removed in version 1.0. Please use `channel_axis` instead.\n",
      "  fds, img_hog = hog(\n",
      "/tmp/ipykernel_62901/1983484597.py:49: FutureWarning: `multichannel` is a deprecated argument name for `hog`. It will be removed in version 1.0. Please use `channel_axis` instead.\n",
      "  fds, img_hog = hog(\n"
     ]
    },
    {
     "name": "stdout",
     "output_type": "stream",
     "text": [
      "Detection:: Location -> (300, 220)\n",
      "Scale ->  0 | Confidence Score 0.7230293484848883 \n",
      "\n"
     ]
    },
    {
     "name": "stderr",
     "output_type": "stream",
     "text": [
      "/tmp/ipykernel_62901/1983484597.py:49: FutureWarning: `multichannel` is a deprecated argument name for `hog`. It will be removed in version 1.0. Please use `channel_axis` instead.\n",
      "  fds, img_hog = hog(\n"
     ]
    },
    {
     "name": "stdout",
     "output_type": "stream",
     "text": [
      "Detection:: Location -> (320, 220)\n",
      "Scale ->  0 | Confidence Score 0.7346172653516216 \n",
      "\n"
     ]
    },
    {
     "name": "stderr",
     "output_type": "stream",
     "text": [
      "/tmp/ipykernel_62901/1983484597.py:49: FutureWarning: `multichannel` is a deprecated argument name for `hog`. It will be removed in version 1.0. Please use `channel_axis` instead.\n",
      "  fds, img_hog = hog(\n"
     ]
    },
    {
     "name": "stdout",
     "output_type": "stream",
     "text": [
      "Detection:: Location -> (340, 220)\n",
      "Scale ->  0 | Confidence Score 0.7202932464993689 \n",
      "\n"
     ]
    },
    {
     "name": "stderr",
     "output_type": "stream",
     "text": [
      "/tmp/ipykernel_62901/1983484597.py:49: FutureWarning: `multichannel` is a deprecated argument name for `hog`. It will be removed in version 1.0. Please use `channel_axis` instead.\n",
      "  fds, img_hog = hog(\n"
     ]
    },
    {
     "name": "stdout",
     "output_type": "stream",
     "text": [
      "Detection:: Location -> (360, 220)\n",
      "Scale ->  0 | Confidence Score 0.7468120919667393 \n",
      "\n"
     ]
    },
    {
     "name": "stderr",
     "output_type": "stream",
     "text": [
      "/tmp/ipykernel_62901/1983484597.py:49: FutureWarning: `multichannel` is a deprecated argument name for `hog`. It will be removed in version 1.0. Please use `channel_axis` instead.\n",
      "  fds, img_hog = hog(\n"
     ]
    },
    {
     "name": "stdout",
     "output_type": "stream",
     "text": [
      "Detection:: Location -> (380, 220)\n",
      "Scale ->  0 | Confidence Score 0.716642874347156 \n",
      "\n"
     ]
    },
    {
     "name": "stderr",
     "output_type": "stream",
     "text": [
      "/tmp/ipykernel_62901/1983484597.py:49: FutureWarning: `multichannel` is a deprecated argument name for `hog`. It will be removed in version 1.0. Please use `channel_axis` instead.\n",
      "  fds, img_hog = hog(\n"
     ]
    },
    {
     "name": "stdout",
     "output_type": "stream",
     "text": [
      "Detection:: Location -> (400, 220)\n",
      "Scale ->  0 | Confidence Score 0.7190591848309794 \n",
      "\n"
     ]
    },
    {
     "name": "stderr",
     "output_type": "stream",
     "text": [
      "/tmp/ipykernel_62901/1983484597.py:49: FutureWarning: `multichannel` is a deprecated argument name for `hog`. It will be removed in version 1.0. Please use `channel_axis` instead.\n",
      "  fds, img_hog = hog(\n"
     ]
    },
    {
     "name": "stdout",
     "output_type": "stream",
     "text": [
      "Detection:: Location -> (420, 220)\n",
      "Scale ->  0 | Confidence Score 0.7403506888384521 \n",
      "\n"
     ]
    },
    {
     "name": "stderr",
     "output_type": "stream",
     "text": [
      "/tmp/ipykernel_62901/1983484597.py:49: FutureWarning: `multichannel` is a deprecated argument name for `hog`. It will be removed in version 1.0. Please use `channel_axis` instead.\n",
      "  fds, img_hog = hog(\n"
     ]
    },
    {
     "name": "stdout",
     "output_type": "stream",
     "text": [
      "Detection:: Location -> (440, 220)\n",
      "Scale ->  0 | Confidence Score 0.7424435639911031 \n",
      "\n"
     ]
    },
    {
     "name": "stderr",
     "output_type": "stream",
     "text": [
      "/tmp/ipykernel_62901/1983484597.py:49: FutureWarning: `multichannel` is a deprecated argument name for `hog`. It will be removed in version 1.0. Please use `channel_axis` instead.\n",
      "  fds, img_hog = hog(\n"
     ]
    },
    {
     "name": "stdout",
     "output_type": "stream",
     "text": [
      "Detection:: Location -> (460, 220)\n",
      "Scale ->  0 | Confidence Score 0.7021574097104971 \n",
      "\n"
     ]
    },
    {
     "name": "stderr",
     "output_type": "stream",
     "text": [
      "/tmp/ipykernel_62901/1983484597.py:49: FutureWarning: `multichannel` is a deprecated argument name for `hog`. It will be removed in version 1.0. Please use `channel_axis` instead.\n",
      "  fds, img_hog = hog(\n"
     ]
    },
    {
     "name": "stdout",
     "output_type": "stream",
     "text": [
      "Detection:: Location -> (480, 220)\n",
      "Scale ->  0 | Confidence Score 0.7308276972133585 \n",
      "\n",
      "Detection:: Location -> (500, 220)\n",
      "Scale ->  0 | Confidence Score 0.7713929643441098 \n",
      "\n"
     ]
    },
    {
     "name": "stderr",
     "output_type": "stream",
     "text": [
      "/tmp/ipykernel_62901/1983484597.py:49: FutureWarning: `multichannel` is a deprecated argument name for `hog`. It will be removed in version 1.0. Please use `channel_axis` instead.\n",
      "  fds, img_hog = hog(\n",
      "/tmp/ipykernel_62901/1983484597.py:49: FutureWarning: `multichannel` is a deprecated argument name for `hog`. It will be removed in version 1.0. Please use `channel_axis` instead.\n",
      "  fds, img_hog = hog(\n"
     ]
    },
    {
     "name": "stdout",
     "output_type": "stream",
     "text": [
      "Detection:: Location -> (520, 220)\n",
      "Scale ->  0 | Confidence Score 0.800965252545371 \n",
      "\n",
      "Detection:: Location -> (540, 220)\n",
      "Scale ->  0 | Confidence Score 0.8152861117279695 \n",
      "\n"
     ]
    },
    {
     "name": "stderr",
     "output_type": "stream",
     "text": [
      "/tmp/ipykernel_62901/1983484597.py:49: FutureWarning: `multichannel` is a deprecated argument name for `hog`. It will be removed in version 1.0. Please use `channel_axis` instead.\n",
      "  fds, img_hog = hog(\n",
      "/tmp/ipykernel_62901/1983484597.py:49: FutureWarning: `multichannel` is a deprecated argument name for `hog`. It will be removed in version 1.0. Please use `channel_axis` instead.\n",
      "  fds, img_hog = hog(\n"
     ]
    },
    {
     "name": "stdout",
     "output_type": "stream",
     "text": [
      "Detection:: Location -> (560, 220)\n",
      "Scale ->  0 | Confidence Score 0.8043186937177577 \n",
      "\n",
      "Detection:: Location -> (580, 220)\n",
      "Scale ->  0 | Confidence Score 0.836948650179171 \n",
      "\n"
     ]
    },
    {
     "name": "stderr",
     "output_type": "stream",
     "text": [
      "/tmp/ipykernel_62901/1983484597.py:49: FutureWarning: `multichannel` is a deprecated argument name for `hog`. It will be removed in version 1.0. Please use `channel_axis` instead.\n",
      "  fds, img_hog = hog(\n",
      "/tmp/ipykernel_62901/1983484597.py:49: FutureWarning: `multichannel` is a deprecated argument name for `hog`. It will be removed in version 1.0. Please use `channel_axis` instead.\n",
      "  fds, img_hog = hog(\n"
     ]
    },
    {
     "name": "stdout",
     "output_type": "stream",
     "text": [
      "Detection:: Location -> (600, 220)\n",
      "Scale ->  0 | Confidence Score 0.7732060511231679 \n",
      "\n",
      "Detection:: Location -> (620, 220)\n",
      "Scale ->  0 | Confidence Score 0.7806896930357836 \n",
      "\n"
     ]
    },
    {
     "name": "stderr",
     "output_type": "stream",
     "text": [
      "/tmp/ipykernel_62901/1983484597.py:49: FutureWarning: `multichannel` is a deprecated argument name for `hog`. It will be removed in version 1.0. Please use `channel_axis` instead.\n",
      "  fds, img_hog = hog(\n",
      "/tmp/ipykernel_62901/1983484597.py:49: FutureWarning: `multichannel` is a deprecated argument name for `hog`. It will be removed in version 1.0. Please use `channel_axis` instead.\n",
      "  fds, img_hog = hog(\n"
     ]
    },
    {
     "name": "stdout",
     "output_type": "stream",
     "text": [
      "Detection:: Location -> (640, 220)\n",
      "Scale ->  0 | Confidence Score 0.7229822359008746 \n",
      "\n",
      "Detection:: Location -> (660, 220)\n",
      "Scale ->  0 | Confidence Score 0.7640194572796452 \n",
      "\n"
     ]
    },
    {
     "name": "stderr",
     "output_type": "stream",
     "text": [
      "/tmp/ipykernel_62901/1983484597.py:49: FutureWarning: `multichannel` is a deprecated argument name for `hog`. It will be removed in version 1.0. Please use `channel_axis` instead.\n",
      "  fds, img_hog = hog(\n",
      "/tmp/ipykernel_62901/1983484597.py:49: FutureWarning: `multichannel` is a deprecated argument name for `hog`. It will be removed in version 1.0. Please use `channel_axis` instead.\n",
      "  fds, img_hog = hog(\n"
     ]
    },
    {
     "name": "stdout",
     "output_type": "stream",
     "text": [
      "Detection:: Location -> (680, 220)\n",
      "Scale ->  0 | Confidence Score 0.7490675477511957 \n",
      "\n"
     ]
    },
    {
     "name": "stderr",
     "output_type": "stream",
     "text": [
      "/tmp/ipykernel_62901/1983484597.py:49: FutureWarning: `multichannel` is a deprecated argument name for `hog`. It will be removed in version 1.0. Please use `channel_axis` instead.\n",
      "  fds, img_hog = hog(\n"
     ]
    },
    {
     "name": "stdout",
     "output_type": "stream",
     "text": [
      "Detection:: Location -> (700, 220)\n",
      "Scale ->  0 | Confidence Score 0.7639245182191147 \n",
      "\n"
     ]
    },
    {
     "name": "stderr",
     "output_type": "stream",
     "text": [
      "/tmp/ipykernel_62901/1983484597.py:49: FutureWarning: `multichannel` is a deprecated argument name for `hog`. It will be removed in version 1.0. Please use `channel_axis` instead.\n",
      "  fds, img_hog = hog(\n"
     ]
    },
    {
     "name": "stdout",
     "output_type": "stream",
     "text": [
      "Detection:: Location -> (720, 220)\n",
      "Scale ->  0 | Confidence Score 0.7694507019542866 \n",
      "\n"
     ]
    },
    {
     "name": "stderr",
     "output_type": "stream",
     "text": [
      "/tmp/ipykernel_62901/1983484597.py:49: FutureWarning: `multichannel` is a deprecated argument name for `hog`. It will be removed in version 1.0. Please use `channel_axis` instead.\n",
      "  fds, img_hog = hog(\n"
     ]
    },
    {
     "name": "stdout",
     "output_type": "stream",
     "text": [
      "Detection:: Location -> (740, 220)\n",
      "Scale ->  0 | Confidence Score 0.774503135283006 \n",
      "\n"
     ]
    },
    {
     "name": "stderr",
     "output_type": "stream",
     "text": [
      "/tmp/ipykernel_62901/1983484597.py:49: FutureWarning: `multichannel` is a deprecated argument name for `hog`. It will be removed in version 1.0. Please use `channel_axis` instead.\n",
      "  fds, img_hog = hog(\n"
     ]
    },
    {
     "name": "stdout",
     "output_type": "stream",
     "text": [
      "Detection:: Location -> (760, 220)\n",
      "Scale ->  0 | Confidence Score 0.7373957638864517 \n",
      "\n"
     ]
    },
    {
     "name": "stderr",
     "output_type": "stream",
     "text": [
      "/tmp/ipykernel_62901/1983484597.py:49: FutureWarning: `multichannel` is a deprecated argument name for `hog`. It will be removed in version 1.0. Please use `channel_axis` instead.\n",
      "  fds, img_hog = hog(\n"
     ]
    },
    {
     "name": "stdout",
     "output_type": "stream",
     "text": [
      "Detection:: Location -> (780, 220)\n",
      "Scale ->  0 | Confidence Score 0.7435191825308876 \n",
      "\n"
     ]
    },
    {
     "name": "stderr",
     "output_type": "stream",
     "text": [
      "/tmp/ipykernel_62901/1983484597.py:49: FutureWarning: `multichannel` is a deprecated argument name for `hog`. It will be removed in version 1.0. Please use `channel_axis` instead.\n",
      "  fds, img_hog = hog(\n"
     ]
    },
    {
     "name": "stdout",
     "output_type": "stream",
     "text": [
      "Detection:: Location -> (800, 220)\n",
      "Scale ->  0 | Confidence Score 0.7011751150271416 \n",
      "\n"
     ]
    },
    {
     "name": "stderr",
     "output_type": "stream",
     "text": [
      "/tmp/ipykernel_62901/1983484597.py:49: FutureWarning: `multichannel` is a deprecated argument name for `hog`. It will be removed in version 1.0. Please use `channel_axis` instead.\n",
      "  fds, img_hog = hog(\n"
     ]
    },
    {
     "name": "stdout",
     "output_type": "stream",
     "text": [
      "Detection:: Location -> (820, 220)\n",
      "Scale ->  0 | Confidence Score 0.7037649185301786 \n",
      "\n"
     ]
    },
    {
     "name": "stderr",
     "output_type": "stream",
     "text": [
      "/tmp/ipykernel_62901/1983484597.py:49: FutureWarning: `multichannel` is a deprecated argument name for `hog`. It will be removed in version 1.0. Please use `channel_axis` instead.\n",
      "  fds, img_hog = hog(\n"
     ]
    },
    {
     "name": "stdout",
     "output_type": "stream",
     "text": [
      "Detection:: Location -> (840, 220)\n",
      "Scale ->  0 | Confidence Score 0.7140210209594321 \n",
      "\n",
      "Detection:: Location -> (860, 220)\n",
      "Scale ->  0 | Confidence Score 0.7058827139631269 \n",
      "\n"
     ]
    },
    {
     "name": "stderr",
     "output_type": "stream",
     "text": [
      "/tmp/ipykernel_62901/1983484597.py:49: FutureWarning: `multichannel` is a deprecated argument name for `hog`. It will be removed in version 1.0. Please use `channel_axis` instead.\n",
      "  fds, img_hog = hog(\n",
      "/tmp/ipykernel_62901/1983484597.py:49: FutureWarning: `multichannel` is a deprecated argument name for `hog`. It will be removed in version 1.0. Please use `channel_axis` instead.\n",
      "  fds, img_hog = hog(\n"
     ]
    },
    {
     "name": "stdout",
     "output_type": "stream",
     "text": [
      "Detection:: Location -> (880, 220)\n",
      "Scale ->  0 | Confidence Score 0.6249687229224516 \n",
      "\n"
     ]
    },
    {
     "name": "stderr",
     "output_type": "stream",
     "text": [
      "/tmp/ipykernel_62901/1983484597.py:49: FutureWarning: `multichannel` is a deprecated argument name for `hog`. It will be removed in version 1.0. Please use `channel_axis` instead.\n",
      "  fds, img_hog = hog(\n",
      "/tmp/ipykernel_62901/1983484597.py:49: FutureWarning: `multichannel` is a deprecated argument name for `hog`. It will be removed in version 1.0. Please use `channel_axis` instead.\n",
      "  fds, img_hog = hog(\n",
      "/tmp/ipykernel_62901/1983484597.py:49: FutureWarning: `multichannel` is a deprecated argument name for `hog`. It will be removed in version 1.0. Please use `channel_axis` instead.\n",
      "  fds, img_hog = hog(\n",
      "/tmp/ipykernel_62901/1983484597.py:49: FutureWarning: `multichannel` is a deprecated argument name for `hog`. It will be removed in version 1.0. Please use `channel_axis` instead.\n",
      "  fds, img_hog = hog(\n"
     ]
    },
    {
     "name": "stdout",
     "output_type": "stream",
     "text": [
      "Detection:: Location -> (20, 240)\n",
      "Scale ->  0 | Confidence Score 0.6366159992156765 \n",
      "\n",
      "Detection:: Location -> (40, 240)\n",
      "Scale ->  0 | Confidence Score 0.6706930283754194 \n",
      "\n"
     ]
    },
    {
     "name": "stderr",
     "output_type": "stream",
     "text": [
      "/tmp/ipykernel_62901/1983484597.py:49: FutureWarning: `multichannel` is a deprecated argument name for `hog`. It will be removed in version 1.0. Please use `channel_axis` instead.\n",
      "  fds, img_hog = hog(\n",
      "/tmp/ipykernel_62901/1983484597.py:49: FutureWarning: `multichannel` is a deprecated argument name for `hog`. It will be removed in version 1.0. Please use `channel_axis` instead.\n",
      "  fds, img_hog = hog(\n"
     ]
    },
    {
     "name": "stdout",
     "output_type": "stream",
     "text": [
      "Detection:: Location -> (60, 240)\n",
      "Scale ->  0 | Confidence Score 0.7251669081009642 \n",
      "\n",
      "Detection:: Location -> (80, 240)\n",
      "Scale ->  0 | Confidence Score 0.7560230956734906 \n",
      "\n"
     ]
    },
    {
     "name": "stderr",
     "output_type": "stream",
     "text": [
      "/tmp/ipykernel_62901/1983484597.py:49: FutureWarning: `multichannel` is a deprecated argument name for `hog`. It will be removed in version 1.0. Please use `channel_axis` instead.\n",
      "  fds, img_hog = hog(\n",
      "/tmp/ipykernel_62901/1983484597.py:49: FutureWarning: `multichannel` is a deprecated argument name for `hog`. It will be removed in version 1.0. Please use `channel_axis` instead.\n",
      "  fds, img_hog = hog(\n"
     ]
    },
    {
     "name": "stdout",
     "output_type": "stream",
     "text": [
      "Detection:: Location -> (100, 240)\n",
      "Scale ->  0 | Confidence Score 0.7465690205140653 \n",
      "\n",
      "Detection:: Location -> (120, 240)\n",
      "Scale ->  0 | Confidence Score 0.7051218839323605 \n",
      "\n"
     ]
    },
    {
     "name": "stderr",
     "output_type": "stream",
     "text": [
      "/tmp/ipykernel_62901/1983484597.py:49: FutureWarning: `multichannel` is a deprecated argument name for `hog`. It will be removed in version 1.0. Please use `channel_axis` instead.\n",
      "  fds, img_hog = hog(\n",
      "/tmp/ipykernel_62901/1983484597.py:49: FutureWarning: `multichannel` is a deprecated argument name for `hog`. It will be removed in version 1.0. Please use `channel_axis` instead.\n",
      "  fds, img_hog = hog(\n"
     ]
    },
    {
     "name": "stdout",
     "output_type": "stream",
     "text": [
      "Detection:: Location -> (140, 240)\n",
      "Scale ->  0 | Confidence Score 0.7541944692969326 \n",
      "\n",
      "Detection:: Location -> (160, 240)\n",
      "Scale ->  0 | Confidence Score 0.7412689970339793 \n",
      "\n"
     ]
    },
    {
     "name": "stderr",
     "output_type": "stream",
     "text": [
      "/tmp/ipykernel_62901/1983484597.py:49: FutureWarning: `multichannel` is a deprecated argument name for `hog`. It will be removed in version 1.0. Please use `channel_axis` instead.\n",
      "  fds, img_hog = hog(\n",
      "/tmp/ipykernel_62901/1983484597.py:49: FutureWarning: `multichannel` is a deprecated argument name for `hog`. It will be removed in version 1.0. Please use `channel_axis` instead.\n",
      "  fds, img_hog = hog(\n"
     ]
    },
    {
     "name": "stdout",
     "output_type": "stream",
     "text": [
      "Detection:: Location -> (180, 240)\n",
      "Scale ->  0 | Confidence Score 0.7249289308600113 \n",
      "\n",
      "Detection:: Location -> (200, 240)\n",
      "Scale ->  0 | Confidence Score 0.6573730916445993 \n",
      "\n"
     ]
    },
    {
     "name": "stderr",
     "output_type": "stream",
     "text": [
      "/tmp/ipykernel_62901/1983484597.py:49: FutureWarning: `multichannel` is a deprecated argument name for `hog`. It will be removed in version 1.0. Please use `channel_axis` instead.\n",
      "  fds, img_hog = hog(\n",
      "/tmp/ipykernel_62901/1983484597.py:49: FutureWarning: `multichannel` is a deprecated argument name for `hog`. It will be removed in version 1.0. Please use `channel_axis` instead.\n",
      "  fds, img_hog = hog(\n"
     ]
    },
    {
     "name": "stdout",
     "output_type": "stream",
     "text": [
      "Detection:: Location -> (220, 240)\n",
      "Scale ->  0 | Confidence Score 0.6808298273555363 \n",
      "\n",
      "Detection:: Location -> (240, 240)\n",
      "Scale ->  0 | Confidence Score 0.7501694132230672 \n",
      "\n"
     ]
    },
    {
     "name": "stderr",
     "output_type": "stream",
     "text": [
      "/tmp/ipykernel_62901/1983484597.py:49: FutureWarning: `multichannel` is a deprecated argument name for `hog`. It will be removed in version 1.0. Please use `channel_axis` instead.\n",
      "  fds, img_hog = hog(\n",
      "/tmp/ipykernel_62901/1983484597.py:49: FutureWarning: `multichannel` is a deprecated argument name for `hog`. It will be removed in version 1.0. Please use `channel_axis` instead.\n",
      "  fds, img_hog = hog(\n"
     ]
    },
    {
     "name": "stdout",
     "output_type": "stream",
     "text": [
      "Detection:: Location -> (260, 240)\n",
      "Scale ->  0 | Confidence Score 0.7601153292089391 \n",
      "\n",
      "Detection:: Location -> (280, 240)\n",
      "Scale ->  0 | Confidence Score 0.6749442058069256 \n",
      "\n"
     ]
    },
    {
     "name": "stderr",
     "output_type": "stream",
     "text": [
      "/tmp/ipykernel_62901/1983484597.py:49: FutureWarning: `multichannel` is a deprecated argument name for `hog`. It will be removed in version 1.0. Please use `channel_axis` instead.\n",
      "  fds, img_hog = hog(\n",
      "/tmp/ipykernel_62901/1983484597.py:49: FutureWarning: `multichannel` is a deprecated argument name for `hog`. It will be removed in version 1.0. Please use `channel_axis` instead.\n",
      "  fds, img_hog = hog(\n"
     ]
    },
    {
     "name": "stdout",
     "output_type": "stream",
     "text": [
      "Detection:: Location -> (300, 240)\n",
      "Scale ->  0 | Confidence Score 0.709454034027834 \n",
      "\n"
     ]
    },
    {
     "name": "stderr",
     "output_type": "stream",
     "text": [
      "/tmp/ipykernel_62901/1983484597.py:49: FutureWarning: `multichannel` is a deprecated argument name for `hog`. It will be removed in version 1.0. Please use `channel_axis` instead.\n",
      "  fds, img_hog = hog(\n"
     ]
    },
    {
     "name": "stdout",
     "output_type": "stream",
     "text": [
      "Detection:: Location -> (320, 240)\n",
      "Scale ->  0 | Confidence Score 0.7214878065943103 \n",
      "\n"
     ]
    },
    {
     "name": "stderr",
     "output_type": "stream",
     "text": [
      "/tmp/ipykernel_62901/1983484597.py:49: FutureWarning: `multichannel` is a deprecated argument name for `hog`. It will be removed in version 1.0. Please use `channel_axis` instead.\n",
      "  fds, img_hog = hog(\n"
     ]
    },
    {
     "name": "stdout",
     "output_type": "stream",
     "text": [
      "Detection:: Location -> (340, 240)\n",
      "Scale ->  0 | Confidence Score 0.7050512841547691 \n",
      "\n",
      "Detection:: Location -> (360, 240)\n",
      "Scale ->  0 | Confidence Score 0.648519571362132 \n",
      "\n"
     ]
    },
    {
     "name": "stderr",
     "output_type": "stream",
     "text": [
      "/tmp/ipykernel_62901/1983484597.py:49: FutureWarning: `multichannel` is a deprecated argument name for `hog`. It will be removed in version 1.0. Please use `channel_axis` instead.\n",
      "  fds, img_hog = hog(\n",
      "/tmp/ipykernel_62901/1983484597.py:49: FutureWarning: `multichannel` is a deprecated argument name for `hog`. It will be removed in version 1.0. Please use `channel_axis` instead.\n",
      "  fds, img_hog = hog(\n"
     ]
    },
    {
     "name": "stdout",
     "output_type": "stream",
     "text": [
      "Detection:: Location -> (380, 240)\n",
      "Scale ->  0 | Confidence Score 0.6865817823234923 \n",
      "\n"
     ]
    },
    {
     "name": "stderr",
     "output_type": "stream",
     "text": [
      "/tmp/ipykernel_62901/1983484597.py:49: FutureWarning: `multichannel` is a deprecated argument name for `hog`. It will be removed in version 1.0. Please use `channel_axis` instead.\n",
      "  fds, img_hog = hog(\n"
     ]
    },
    {
     "name": "stdout",
     "output_type": "stream",
     "text": [
      "Detection:: Location -> (400, 240)\n",
      "Scale ->  0 | Confidence Score 0.6774140174149976 \n",
      "\n"
     ]
    },
    {
     "name": "stderr",
     "output_type": "stream",
     "text": [
      "/tmp/ipykernel_62901/1983484597.py:49: FutureWarning: `multichannel` is a deprecated argument name for `hog`. It will be removed in version 1.0. Please use `channel_axis` instead.\n",
      "  fds, img_hog = hog(\n"
     ]
    },
    {
     "name": "stdout",
     "output_type": "stream",
     "text": [
      "Detection:: Location -> (420, 240)\n",
      "Scale ->  0 | Confidence Score 0.7381620421114694 \n",
      "\n"
     ]
    },
    {
     "name": "stderr",
     "output_type": "stream",
     "text": [
      "/tmp/ipykernel_62901/1983484597.py:49: FutureWarning: `multichannel` is a deprecated argument name for `hog`. It will be removed in version 1.0. Please use `channel_axis` instead.\n",
      "  fds, img_hog = hog(\n"
     ]
    },
    {
     "name": "stdout",
     "output_type": "stream",
     "text": [
      "Detection:: Location -> (440, 240)\n",
      "Scale ->  0 | Confidence Score 0.6811432081140084 \n",
      "\n"
     ]
    },
    {
     "name": "stderr",
     "output_type": "stream",
     "text": [
      "/tmp/ipykernel_62901/1983484597.py:49: FutureWarning: `multichannel` is a deprecated argument name for `hog`. It will be removed in version 1.0. Please use `channel_axis` instead.\n",
      "  fds, img_hog = hog(\n"
     ]
    },
    {
     "name": "stdout",
     "output_type": "stream",
     "text": [
      "Detection:: Location -> (460, 240)\n",
      "Scale ->  0 | Confidence Score 0.7345319282037681 \n",
      "\n",
      "Detection:: Location -> (480, 240)\n",
      "Scale ->  0 | Confidence Score 0.664479488510654 \n",
      "\n"
     ]
    },
    {
     "name": "stderr",
     "output_type": "stream",
     "text": [
      "/tmp/ipykernel_62901/1983484597.py:49: FutureWarning: `multichannel` is a deprecated argument name for `hog`. It will be removed in version 1.0. Please use `channel_axis` instead.\n",
      "  fds, img_hog = hog(\n",
      "/tmp/ipykernel_62901/1983484597.py:49: FutureWarning: `multichannel` is a deprecated argument name for `hog`. It will be removed in version 1.0. Please use `channel_axis` instead.\n",
      "  fds, img_hog = hog(\n"
     ]
    },
    {
     "name": "stdout",
     "output_type": "stream",
     "text": [
      "Detection:: Location -> (500, 240)\n",
      "Scale ->  0 | Confidence Score 0.7635612501082925 \n",
      "\n",
      "Detection:: Location -> (520, 240)\n",
      "Scale ->  0 | Confidence Score 0.7082697341708155 \n",
      "\n"
     ]
    },
    {
     "name": "stderr",
     "output_type": "stream",
     "text": [
      "/tmp/ipykernel_62901/1983484597.py:49: FutureWarning: `multichannel` is a deprecated argument name for `hog`. It will be removed in version 1.0. Please use `channel_axis` instead.\n",
      "  fds, img_hog = hog(\n",
      "/tmp/ipykernel_62901/1983484597.py:49: FutureWarning: `multichannel` is a deprecated argument name for `hog`. It will be removed in version 1.0. Please use `channel_axis` instead.\n",
      "  fds, img_hog = hog(\n"
     ]
    },
    {
     "name": "stdout",
     "output_type": "stream",
     "text": [
      "Detection:: Location -> (540, 240)\n",
      "Scale ->  0 | Confidence Score 0.7317937812374111 \n",
      "\n",
      "Detection:: Location -> (560, 240)\n",
      "Scale ->  0 | Confidence Score 0.7400335279510066 \n",
      "\n"
     ]
    },
    {
     "name": "stderr",
     "output_type": "stream",
     "text": [
      "/tmp/ipykernel_62901/1983484597.py:49: FutureWarning: `multichannel` is a deprecated argument name for `hog`. It will be removed in version 1.0. Please use `channel_axis` instead.\n",
      "  fds, img_hog = hog(\n",
      "/tmp/ipykernel_62901/1983484597.py:49: FutureWarning: `multichannel` is a deprecated argument name for `hog`. It will be removed in version 1.0. Please use `channel_axis` instead.\n",
      "  fds, img_hog = hog(\n"
     ]
    },
    {
     "name": "stdout",
     "output_type": "stream",
     "text": [
      "Detection:: Location -> (580, 240)\n",
      "Scale ->  0 | Confidence Score 0.7727892783198801 \n",
      "\n"
     ]
    },
    {
     "name": "stderr",
     "output_type": "stream",
     "text": [
      "/tmp/ipykernel_62901/1983484597.py:49: FutureWarning: `multichannel` is a deprecated argument name for `hog`. It will be removed in version 1.0. Please use `channel_axis` instead.\n",
      "  fds, img_hog = hog(\n"
     ]
    },
    {
     "name": "stdout",
     "output_type": "stream",
     "text": [
      "Detection:: Location -> (600, 240)\n",
      "Scale ->  0 | Confidence Score 0.739778585445798 \n",
      "\n",
      "Detection:: Location -> (620, 240)\n",
      "Scale ->  0 | Confidence Score 0.7478614958827998 \n",
      "\n"
     ]
    },
    {
     "name": "stderr",
     "output_type": "stream",
     "text": [
      "/tmp/ipykernel_62901/1983484597.py:49: FutureWarning: `multichannel` is a deprecated argument name for `hog`. It will be removed in version 1.0. Please use `channel_axis` instead.\n",
      "  fds, img_hog = hog(\n",
      "/tmp/ipykernel_62901/1983484597.py:49: FutureWarning: `multichannel` is a deprecated argument name for `hog`. It will be removed in version 1.0. Please use `channel_axis` instead.\n",
      "  fds, img_hog = hog(\n"
     ]
    },
    {
     "name": "stdout",
     "output_type": "stream",
     "text": [
      "Detection:: Location -> (640, 240)\n",
      "Scale ->  0 | Confidence Score 0.7288406817693656 \n",
      "\n"
     ]
    },
    {
     "name": "stderr",
     "output_type": "stream",
     "text": [
      "/tmp/ipykernel_62901/1983484597.py:49: FutureWarning: `multichannel` is a deprecated argument name for `hog`. It will be removed in version 1.0. Please use `channel_axis` instead.\n",
      "  fds, img_hog = hog(\n"
     ]
    },
    {
     "name": "stdout",
     "output_type": "stream",
     "text": [
      "Detection:: Location -> (660, 240)\n",
      "Scale ->  0 | Confidence Score 0.7401055405664422 \n",
      "\n"
     ]
    },
    {
     "name": "stderr",
     "output_type": "stream",
     "text": [
      "/tmp/ipykernel_62901/1983484597.py:49: FutureWarning: `multichannel` is a deprecated argument name for `hog`. It will be removed in version 1.0. Please use `channel_axis` instead.\n",
      "  fds, img_hog = hog(\n"
     ]
    },
    {
     "name": "stdout",
     "output_type": "stream",
     "text": [
      "Detection:: Location -> (680, 240)\n",
      "Scale ->  0 | Confidence Score 0.6849535972890258 \n",
      "\n"
     ]
    },
    {
     "name": "stderr",
     "output_type": "stream",
     "text": [
      "/tmp/ipykernel_62901/1983484597.py:49: FutureWarning: `multichannel` is a deprecated argument name for `hog`. It will be removed in version 1.0. Please use `channel_axis` instead.\n",
      "  fds, img_hog = hog(\n"
     ]
    },
    {
     "name": "stdout",
     "output_type": "stream",
     "text": [
      "Detection:: Location -> (700, 240)\n",
      "Scale ->  0 | Confidence Score 0.7768853505014792 \n",
      "\n"
     ]
    },
    {
     "name": "stderr",
     "output_type": "stream",
     "text": [
      "/tmp/ipykernel_62901/1983484597.py:49: FutureWarning: `multichannel` is a deprecated argument name for `hog`. It will be removed in version 1.0. Please use `channel_axis` instead.\n",
      "  fds, img_hog = hog(\n"
     ]
    },
    {
     "name": "stdout",
     "output_type": "stream",
     "text": [
      "Detection:: Location -> (720, 240)\n",
      "Scale ->  0 | Confidence Score 0.7349976749693496 \n",
      "\n",
      "Detection:: Location -> (740, 240)\n",
      "Scale ->  0 | Confidence Score 0.7838143793938932 \n",
      "\n"
     ]
    },
    {
     "name": "stderr",
     "output_type": "stream",
     "text": [
      "/tmp/ipykernel_62901/1983484597.py:49: FutureWarning: `multichannel` is a deprecated argument name for `hog`. It will be removed in version 1.0. Please use `channel_axis` instead.\n",
      "  fds, img_hog = hog(\n",
      "/tmp/ipykernel_62901/1983484597.py:49: FutureWarning: `multichannel` is a deprecated argument name for `hog`. It will be removed in version 1.0. Please use `channel_axis` instead.\n",
      "  fds, img_hog = hog(\n"
     ]
    },
    {
     "name": "stdout",
     "output_type": "stream",
     "text": [
      "Detection:: Location -> (760, 240)\n",
      "Scale ->  0 | Confidence Score 0.7463209656521943 \n",
      "\n",
      "Detection:: Location -> (780, 240)\n",
      "Scale ->  0 | Confidence Score 0.7328146126871812 \n",
      "\n"
     ]
    },
    {
     "name": "stderr",
     "output_type": "stream",
     "text": [
      "/tmp/ipykernel_62901/1983484597.py:49: FutureWarning: `multichannel` is a deprecated argument name for `hog`. It will be removed in version 1.0. Please use `channel_axis` instead.\n",
      "  fds, img_hog = hog(\n",
      "/tmp/ipykernel_62901/1983484597.py:49: FutureWarning: `multichannel` is a deprecated argument name for `hog`. It will be removed in version 1.0. Please use `channel_axis` instead.\n",
      "  fds, img_hog = hog(\n"
     ]
    },
    {
     "name": "stdout",
     "output_type": "stream",
     "text": [
      "Detection:: Location -> (800, 240)\n",
      "Scale ->  0 | Confidence Score 0.7241321277471917 \n",
      "\n",
      "Detection:: Location -> (820, 240)\n",
      "Scale ->  0 | Confidence Score 0.715416444215241 \n",
      "\n"
     ]
    },
    {
     "name": "stderr",
     "output_type": "stream",
     "text": [
      "/tmp/ipykernel_62901/1983484597.py:49: FutureWarning: `multichannel` is a deprecated argument name for `hog`. It will be removed in version 1.0. Please use `channel_axis` instead.\n",
      "  fds, img_hog = hog(\n",
      "/tmp/ipykernel_62901/1983484597.py:49: FutureWarning: `multichannel` is a deprecated argument name for `hog`. It will be removed in version 1.0. Please use `channel_axis` instead.\n",
      "  fds, img_hog = hog(\n"
     ]
    },
    {
     "name": "stdout",
     "output_type": "stream",
     "text": [
      "Detection:: Location -> (840, 240)\n",
      "Scale ->  0 | Confidence Score 0.64507912242404 \n",
      "\n",
      "Detection:: Location -> (860, 240)\n",
      "Scale ->  0 | Confidence Score 0.7068664192494114 \n",
      "\n"
     ]
    },
    {
     "name": "stderr",
     "output_type": "stream",
     "text": [
      "/tmp/ipykernel_62901/1983484597.py:49: FutureWarning: `multichannel` is a deprecated argument name for `hog`. It will be removed in version 1.0. Please use `channel_axis` instead.\n",
      "  fds, img_hog = hog(\n",
      "/tmp/ipykernel_62901/1983484597.py:49: FutureWarning: `multichannel` is a deprecated argument name for `hog`. It will be removed in version 1.0. Please use `channel_axis` instead.\n",
      "  fds, img_hog = hog(\n"
     ]
    },
    {
     "name": "stdout",
     "output_type": "stream",
     "text": [
      "Detection:: Location -> (880, 240)\n",
      "Scale ->  0 | Confidence Score 0.6202233540401051 \n",
      "\n",
      "Detection:: Location -> (900, 240)\n",
      "Scale ->  0 | Confidence Score 0.6068398325664355 \n",
      "\n"
     ]
    },
    {
     "name": "stderr",
     "output_type": "stream",
     "text": [
      "/tmp/ipykernel_62901/1983484597.py:49: FutureWarning: `multichannel` is a deprecated argument name for `hog`. It will be removed in version 1.0. Please use `channel_axis` instead.\n",
      "  fds, img_hog = hog(\n",
      "/tmp/ipykernel_62901/1983484597.py:49: FutureWarning: `multichannel` is a deprecated argument name for `hog`. It will be removed in version 1.0. Please use `channel_axis` instead.\n",
      "  fds, img_hog = hog(\n",
      "/tmp/ipykernel_62901/1983484597.py:49: FutureWarning: `multichannel` is a deprecated argument name for `hog`. It will be removed in version 1.0. Please use `channel_axis` instead.\n",
      "  fds, img_hog = hog(\n",
      "/tmp/ipykernel_62901/1983484597.py:49: FutureWarning: `multichannel` is a deprecated argument name for `hog`. It will be removed in version 1.0. Please use `channel_axis` instead.\n",
      "  fds, img_hog = hog(\n",
      "/tmp/ipykernel_62901/1983484597.py:49: FutureWarning: `multichannel` is a deprecated argument name for `hog`. It will be removed in version 1.0. Please use `channel_axis` instead.\n",
      "  fds, img_hog = hog(\n",
      "/tmp/ipykernel_62901/1983484597.py:49: FutureWarning: `multichannel` is a deprecated argument name for `hog`. It will be removed in version 1.0. Please use `channel_axis` instead.\n",
      "  fds, img_hog = hog(\n"
     ]
    },
    {
     "name": "stdout",
     "output_type": "stream",
     "text": [
      "Detection:: Location -> (40, 260)\n",
      "Scale ->  0 | Confidence Score 0.6266126063086286 \n",
      "\n",
      "Detection:: Location -> (60, 260)\n",
      "Scale ->  0 | Confidence Score 0.7371766567875336 \n",
      "\n"
     ]
    },
    {
     "name": "stderr",
     "output_type": "stream",
     "text": [
      "/tmp/ipykernel_62901/1983484597.py:49: FutureWarning: `multichannel` is a deprecated argument name for `hog`. It will be removed in version 1.0. Please use `channel_axis` instead.\n",
      "  fds, img_hog = hog(\n"
     ]
    },
    {
     "name": "stdout",
     "output_type": "stream",
     "text": [
      "Detection:: Location -> (80, 260)\n",
      "Scale ->  0 | Confidence Score 0.769232182895551 \n",
      "\n",
      "Detection:: Location -> (100, 260)\n",
      "Scale ->  0 | Confidence Score 0.7370913994654071 \n",
      "\n"
     ]
    },
    {
     "name": "stderr",
     "output_type": "stream",
     "text": [
      "/tmp/ipykernel_62901/1983484597.py:49: FutureWarning: `multichannel` is a deprecated argument name for `hog`. It will be removed in version 1.0. Please use `channel_axis` instead.\n",
      "  fds, img_hog = hog(\n",
      "/tmp/ipykernel_62901/1983484597.py:49: FutureWarning: `multichannel` is a deprecated argument name for `hog`. It will be removed in version 1.0. Please use `channel_axis` instead.\n",
      "  fds, img_hog = hog(\n"
     ]
    },
    {
     "name": "stdout",
     "output_type": "stream",
     "text": [
      "Detection:: Location -> (120, 260)\n",
      "Scale ->  0 | Confidence Score 0.750874415739327 \n",
      "\n",
      "Detection:: Location -> (140, 260)\n",
      "Scale ->  0 | Confidence Score 0.7020351306511982 \n",
      "\n"
     ]
    },
    {
     "name": "stderr",
     "output_type": "stream",
     "text": [
      "/tmp/ipykernel_62901/1983484597.py:49: FutureWarning: `multichannel` is a deprecated argument name for `hog`. It will be removed in version 1.0. Please use `channel_axis` instead.\n",
      "  fds, img_hog = hog(\n",
      "/tmp/ipykernel_62901/1983484597.py:49: FutureWarning: `multichannel` is a deprecated argument name for `hog`. It will be removed in version 1.0. Please use `channel_axis` instead.\n",
      "  fds, img_hog = hog(\n"
     ]
    },
    {
     "name": "stdout",
     "output_type": "stream",
     "text": [
      "Detection:: Location -> (160, 260)\n",
      "Scale ->  0 | Confidence Score 0.7190224776071608 \n",
      "\n"
     ]
    },
    {
     "name": "stderr",
     "output_type": "stream",
     "text": [
      "/tmp/ipykernel_62901/1983484597.py:49: FutureWarning: `multichannel` is a deprecated argument name for `hog`. It will be removed in version 1.0. Please use `channel_axis` instead.\n",
      "  fds, img_hog = hog(\n"
     ]
    },
    {
     "name": "stdout",
     "output_type": "stream",
     "text": [
      "Detection:: Location -> (180, 260)\n",
      "Scale ->  0 | Confidence Score 0.7090164853553486 \n",
      "\n",
      "Detection:: Location -> (200, 260)\n",
      "Scale ->  0 | Confidence Score 0.6787358208925557 \n",
      "\n"
     ]
    },
    {
     "name": "stderr",
     "output_type": "stream",
     "text": [
      "/tmp/ipykernel_62901/1983484597.py:49: FutureWarning: `multichannel` is a deprecated argument name for `hog`. It will be removed in version 1.0. Please use `channel_axis` instead.\n",
      "  fds, img_hog = hog(\n",
      "/tmp/ipykernel_62901/1983484597.py:49: FutureWarning: `multichannel` is a deprecated argument name for `hog`. It will be removed in version 1.0. Please use `channel_axis` instead.\n",
      "  fds, img_hog = hog(\n"
     ]
    },
    {
     "name": "stdout",
     "output_type": "stream",
     "text": [
      "Detection:: Location -> (220, 260)\n",
      "Scale ->  0 | Confidence Score 0.7366723387703711 \n",
      "\n",
      "Detection:: Location -> (240, 260)\n",
      "Scale ->  0 | Confidence Score 0.7586934583909591 \n",
      "\n"
     ]
    },
    {
     "name": "stderr",
     "output_type": "stream",
     "text": [
      "/tmp/ipykernel_62901/1983484597.py:49: FutureWarning: `multichannel` is a deprecated argument name for `hog`. It will be removed in version 1.0. Please use `channel_axis` instead.\n",
      "  fds, img_hog = hog(\n",
      "/tmp/ipykernel_62901/1983484597.py:49: FutureWarning: `multichannel` is a deprecated argument name for `hog`. It will be removed in version 1.0. Please use `channel_axis` instead.\n",
      "  fds, img_hog = hog(\n"
     ]
    },
    {
     "name": "stdout",
     "output_type": "stream",
     "text": [
      "Detection:: Location -> (260, 260)\n",
      "Scale ->  0 | Confidence Score 0.6890586539733656 \n",
      "\n",
      "Detection:: Location -> (280, 260)\n",
      "Scale ->  0 | Confidence Score 0.7025589637760529 \n",
      "\n"
     ]
    },
    {
     "name": "stderr",
     "output_type": "stream",
     "text": [
      "/tmp/ipykernel_62901/1983484597.py:49: FutureWarning: `multichannel` is a deprecated argument name for `hog`. It will be removed in version 1.0. Please use `channel_axis` instead.\n",
      "  fds, img_hog = hog(\n",
      "/tmp/ipykernel_62901/1983484597.py:49: FutureWarning: `multichannel` is a deprecated argument name for `hog`. It will be removed in version 1.0. Please use `channel_axis` instead.\n",
      "  fds, img_hog = hog(\n"
     ]
    },
    {
     "name": "stdout",
     "output_type": "stream",
     "text": [
      "Detection:: Location -> (300, 260)\n",
      "Scale ->  0 | Confidence Score 0.7757989497020665 \n",
      "\n",
      "Detection:: Location -> (320, 260)\n",
      "Scale ->  0 | Confidence Score 0.7301985783934144 \n",
      "\n"
     ]
    },
    {
     "name": "stderr",
     "output_type": "stream",
     "text": [
      "/tmp/ipykernel_62901/1983484597.py:49: FutureWarning: `multichannel` is a deprecated argument name for `hog`. It will be removed in version 1.0. Please use `channel_axis` instead.\n",
      "  fds, img_hog = hog(\n",
      "/tmp/ipykernel_62901/1983484597.py:49: FutureWarning: `multichannel` is a deprecated argument name for `hog`. It will be removed in version 1.0. Please use `channel_axis` instead.\n",
      "  fds, img_hog = hog(\n"
     ]
    },
    {
     "name": "stdout",
     "output_type": "stream",
     "text": [
      "Detection:: Location -> (340, 260)\n",
      "Scale ->  0 | Confidence Score 0.6856329213176428 \n",
      "\n",
      "Detection:: Location -> (360, 260)\n",
      "Scale ->  0 | Confidence Score 0.6754179217743457 \n",
      "\n"
     ]
    },
    {
     "name": "stderr",
     "output_type": "stream",
     "text": [
      "/tmp/ipykernel_62901/1983484597.py:49: FutureWarning: `multichannel` is a deprecated argument name for `hog`. It will be removed in version 1.0. Please use `channel_axis` instead.\n",
      "  fds, img_hog = hog(\n",
      "/tmp/ipykernel_62901/1983484597.py:49: FutureWarning: `multichannel` is a deprecated argument name for `hog`. It will be removed in version 1.0. Please use `channel_axis` instead.\n",
      "  fds, img_hog = hog(\n"
     ]
    },
    {
     "name": "stdout",
     "output_type": "stream",
     "text": [
      "Detection:: Location -> (380, 260)\n",
      "Scale ->  0 | Confidence Score 0.7350949363314623 \n",
      "\n",
      "Detection:: Location -> (400, 260)\n",
      "Scale ->  0 | Confidence Score 0.7035821185165247 \n",
      "\n"
     ]
    },
    {
     "name": "stderr",
     "output_type": "stream",
     "text": [
      "/tmp/ipykernel_62901/1983484597.py:49: FutureWarning: `multichannel` is a deprecated argument name for `hog`. It will be removed in version 1.0. Please use `channel_axis` instead.\n",
      "  fds, img_hog = hog(\n",
      "/tmp/ipykernel_62901/1983484597.py:49: FutureWarning: `multichannel` is a deprecated argument name for `hog`. It will be removed in version 1.0. Please use `channel_axis` instead.\n",
      "  fds, img_hog = hog(\n"
     ]
    },
    {
     "name": "stdout",
     "output_type": "stream",
     "text": [
      "Detection:: Location -> (420, 260)\n",
      "Scale ->  0 | Confidence Score 0.7639269110497592 \n",
      "\n",
      "Detection:: Location -> (440, 260)\n",
      "Scale ->  0 | Confidence Score 0.6931082491556577 \n",
      "\n"
     ]
    },
    {
     "name": "stderr",
     "output_type": "stream",
     "text": [
      "/tmp/ipykernel_62901/1983484597.py:49: FutureWarning: `multichannel` is a deprecated argument name for `hog`. It will be removed in version 1.0. Please use `channel_axis` instead.\n",
      "  fds, img_hog = hog(\n",
      "/tmp/ipykernel_62901/1983484597.py:49: FutureWarning: `multichannel` is a deprecated argument name for `hog`. It will be removed in version 1.0. Please use `channel_axis` instead.\n",
      "  fds, img_hog = hog(\n"
     ]
    },
    {
     "name": "stdout",
     "output_type": "stream",
     "text": [
      "Detection:: Location -> (460, 260)\n",
      "Scale ->  0 | Confidence Score 0.7518911452536898 \n",
      "\n",
      "Detection:: Location -> (480, 260)\n",
      "Scale ->  0 | Confidence Score 0.7462319624956534 \n",
      "\n"
     ]
    },
    {
     "name": "stderr",
     "output_type": "stream",
     "text": [
      "/tmp/ipykernel_62901/1983484597.py:49: FutureWarning: `multichannel` is a deprecated argument name for `hog`. It will be removed in version 1.0. Please use `channel_axis` instead.\n",
      "  fds, img_hog = hog(\n",
      "/tmp/ipykernel_62901/1983484597.py:49: FutureWarning: `multichannel` is a deprecated argument name for `hog`. It will be removed in version 1.0. Please use `channel_axis` instead.\n",
      "  fds, img_hog = hog(\n"
     ]
    },
    {
     "name": "stdout",
     "output_type": "stream",
     "text": [
      "Detection:: Location -> (500, 260)\n",
      "Scale ->  0 | Confidence Score 0.7324569146903572 \n",
      "\n",
      "Detection:: Location -> (520, 260)\n",
      "Scale ->  0 | Confidence Score 0.7260802548508952 \n",
      "\n"
     ]
    },
    {
     "name": "stderr",
     "output_type": "stream",
     "text": [
      "/tmp/ipykernel_62901/1983484597.py:49: FutureWarning: `multichannel` is a deprecated argument name for `hog`. It will be removed in version 1.0. Please use `channel_axis` instead.\n",
      "  fds, img_hog = hog(\n",
      "/tmp/ipykernel_62901/1983484597.py:49: FutureWarning: `multichannel` is a deprecated argument name for `hog`. It will be removed in version 1.0. Please use `channel_axis` instead.\n",
      "  fds, img_hog = hog(\n"
     ]
    },
    {
     "name": "stdout",
     "output_type": "stream",
     "text": [
      "Detection:: Location -> (540, 260)\n",
      "Scale ->  0 | Confidence Score 0.7392776443156446 \n",
      "\n",
      "Detection:: Location -> (560, 260)\n",
      "Scale ->  0 | Confidence Score 0.7656847299784875 \n",
      "\n"
     ]
    },
    {
     "name": "stderr",
     "output_type": "stream",
     "text": [
      "/tmp/ipykernel_62901/1983484597.py:49: FutureWarning: `multichannel` is a deprecated argument name for `hog`. It will be removed in version 1.0. Please use `channel_axis` instead.\n",
      "  fds, img_hog = hog(\n",
      "/tmp/ipykernel_62901/1983484597.py:49: FutureWarning: `multichannel` is a deprecated argument name for `hog`. It will be removed in version 1.0. Please use `channel_axis` instead.\n",
      "  fds, img_hog = hog(\n"
     ]
    },
    {
     "name": "stdout",
     "output_type": "stream",
     "text": [
      "Detection:: Location -> (580, 260)\n",
      "Scale ->  0 | Confidence Score 0.7566825721718733 \n",
      "\n",
      "Detection:: Location -> (600, 260)\n",
      "Scale ->  0 | Confidence Score 0.7234082031807761 \n",
      "\n"
     ]
    },
    {
     "name": "stderr",
     "output_type": "stream",
     "text": [
      "/tmp/ipykernel_62901/1983484597.py:49: FutureWarning: `multichannel` is a deprecated argument name for `hog`. It will be removed in version 1.0. Please use `channel_axis` instead.\n",
      "  fds, img_hog = hog(\n",
      "/tmp/ipykernel_62901/1983484597.py:49: FutureWarning: `multichannel` is a deprecated argument name for `hog`. It will be removed in version 1.0. Please use `channel_axis` instead.\n",
      "  fds, img_hog = hog(\n"
     ]
    },
    {
     "name": "stdout",
     "output_type": "stream",
     "text": [
      "Detection:: Location -> (620, 260)\n",
      "Scale ->  0 | Confidence Score 0.7571189262277868 \n",
      "\n",
      "Detection:: Location -> (640, 260)\n",
      "Scale ->  0 | Confidence Score 0.712868898098098 \n",
      "\n"
     ]
    },
    {
     "name": "stderr",
     "output_type": "stream",
     "text": [
      "/tmp/ipykernel_62901/1983484597.py:49: FutureWarning: `multichannel` is a deprecated argument name for `hog`. It will be removed in version 1.0. Please use `channel_axis` instead.\n",
      "  fds, img_hog = hog(\n",
      "/tmp/ipykernel_62901/1983484597.py:49: FutureWarning: `multichannel` is a deprecated argument name for `hog`. It will be removed in version 1.0. Please use `channel_axis` instead.\n",
      "  fds, img_hog = hog(\n"
     ]
    },
    {
     "name": "stdout",
     "output_type": "stream",
     "text": [
      "Detection:: Location -> (660, 260)\n",
      "Scale ->  0 | Confidence Score 0.7507965366469075 \n",
      "\n",
      "Detection:: Location -> (680, 260)\n",
      "Scale ->  0 | Confidence Score 0.7361086168713744 \n",
      "\n"
     ]
    },
    {
     "name": "stderr",
     "output_type": "stream",
     "text": [
      "/tmp/ipykernel_62901/1983484597.py:49: FutureWarning: `multichannel` is a deprecated argument name for `hog`. It will be removed in version 1.0. Please use `channel_axis` instead.\n",
      "  fds, img_hog = hog(\n",
      "/tmp/ipykernel_62901/1983484597.py:49: FutureWarning: `multichannel` is a deprecated argument name for `hog`. It will be removed in version 1.0. Please use `channel_axis` instead.\n",
      "  fds, img_hog = hog(\n"
     ]
    },
    {
     "name": "stdout",
     "output_type": "stream",
     "text": [
      "Detection:: Location -> (700, 260)\n",
      "Scale ->  0 | Confidence Score 0.7797558360097182 \n",
      "\n",
      "Detection:: Location -> (720, 260)\n",
      "Scale ->  0 | Confidence Score 0.7305385815663483 \n",
      "\n"
     ]
    },
    {
     "name": "stderr",
     "output_type": "stream",
     "text": [
      "/tmp/ipykernel_62901/1983484597.py:49: FutureWarning: `multichannel` is a deprecated argument name for `hog`. It will be removed in version 1.0. Please use `channel_axis` instead.\n",
      "  fds, img_hog = hog(\n",
      "/tmp/ipykernel_62901/1983484597.py:49: FutureWarning: `multichannel` is a deprecated argument name for `hog`. It will be removed in version 1.0. Please use `channel_axis` instead.\n",
      "  fds, img_hog = hog(\n"
     ]
    },
    {
     "name": "stdout",
     "output_type": "stream",
     "text": [
      "Detection:: Location -> (740, 260)\n",
      "Scale ->  0 | Confidence Score 0.7632652439145285 \n",
      "\n",
      "Detection:: Location -> (760, 260)\n",
      "Scale ->  0 | Confidence Score 0.734227371128326 \n",
      "\n"
     ]
    },
    {
     "name": "stderr",
     "output_type": "stream",
     "text": [
      "/tmp/ipykernel_62901/1983484597.py:49: FutureWarning: `multichannel` is a deprecated argument name for `hog`. It will be removed in version 1.0. Please use `channel_axis` instead.\n",
      "  fds, img_hog = hog(\n",
      "/tmp/ipykernel_62901/1983484597.py:49: FutureWarning: `multichannel` is a deprecated argument name for `hog`. It will be removed in version 1.0. Please use `channel_axis` instead.\n",
      "  fds, img_hog = hog(\n"
     ]
    },
    {
     "name": "stdout",
     "output_type": "stream",
     "text": [
      "Detection:: Location -> (780, 260)\n",
      "Scale ->  0 | Confidence Score 0.7433461481883756 \n",
      "\n",
      "Detection:: Location -> (800, 260)\n",
      "Scale ->  0 | Confidence Score 0.7032427765737805 \n",
      "\n"
     ]
    },
    {
     "name": "stderr",
     "output_type": "stream",
     "text": [
      "/tmp/ipykernel_62901/1983484597.py:49: FutureWarning: `multichannel` is a deprecated argument name for `hog`. It will be removed in version 1.0. Please use `channel_axis` instead.\n",
      "  fds, img_hog = hog(\n",
      "/tmp/ipykernel_62901/1983484597.py:49: FutureWarning: `multichannel` is a deprecated argument name for `hog`. It will be removed in version 1.0. Please use `channel_axis` instead.\n",
      "  fds, img_hog = hog(\n"
     ]
    },
    {
     "name": "stdout",
     "output_type": "stream",
     "text": [
      "Detection:: Location -> (820, 260)\n",
      "Scale ->  0 | Confidence Score 0.6825667933031822 \n",
      "\n"
     ]
    },
    {
     "name": "stderr",
     "output_type": "stream",
     "text": [
      "/tmp/ipykernel_62901/1983484597.py:49: FutureWarning: `multichannel` is a deprecated argument name for `hog`. It will be removed in version 1.0. Please use `channel_axis` instead.\n",
      "  fds, img_hog = hog(\n"
     ]
    },
    {
     "name": "stdout",
     "output_type": "stream",
     "text": [
      "Detection:: Location -> (840, 260)\n",
      "Scale ->  0 | Confidence Score 0.629907665476755 \n",
      "\n"
     ]
    },
    {
     "name": "stderr",
     "output_type": "stream",
     "text": [
      "/tmp/ipykernel_62901/1983484597.py:49: FutureWarning: `multichannel` is a deprecated argument name for `hog`. It will be removed in version 1.0. Please use `channel_axis` instead.\n",
      "  fds, img_hog = hog(\n"
     ]
    },
    {
     "name": "stdout",
     "output_type": "stream",
     "text": [
      "Detection:: Location -> (860, 260)\n",
      "Scale ->  0 | Confidence Score 0.7331407359017224 \n",
      "\n"
     ]
    },
    {
     "name": "stderr",
     "output_type": "stream",
     "text": [
      "/tmp/ipykernel_62901/1983484597.py:49: FutureWarning: `multichannel` is a deprecated argument name for `hog`. It will be removed in version 1.0. Please use `channel_axis` instead.\n",
      "  fds, img_hog = hog(\n"
     ]
    },
    {
     "name": "stdout",
     "output_type": "stream",
     "text": [
      "Detection:: Location -> (880, 260)\n",
      "Scale ->  0 | Confidence Score 0.6807163360502397 \n",
      "\n"
     ]
    },
    {
     "name": "stderr",
     "output_type": "stream",
     "text": [
      "/tmp/ipykernel_62901/1983484597.py:49: FutureWarning: `multichannel` is a deprecated argument name for `hog`. It will be removed in version 1.0. Please use `channel_axis` instead.\n",
      "  fds, img_hog = hog(\n",
      "/tmp/ipykernel_62901/1983484597.py:49: FutureWarning: `multichannel` is a deprecated argument name for `hog`. It will be removed in version 1.0. Please use `channel_axis` instead.\n",
      "  fds, img_hog = hog(\n",
      "/tmp/ipykernel_62901/1983484597.py:49: FutureWarning: `multichannel` is a deprecated argument name for `hog`. It will be removed in version 1.0. Please use `channel_axis` instead.\n",
      "  fds, img_hog = hog(\n",
      "/tmp/ipykernel_62901/1983484597.py:49: FutureWarning: `multichannel` is a deprecated argument name for `hog`. It will be removed in version 1.0. Please use `channel_axis` instead.\n",
      "  fds, img_hog = hog(\n",
      "/tmp/ipykernel_62901/1983484597.py:49: FutureWarning: `multichannel` is a deprecated argument name for `hog`. It will be removed in version 1.0. Please use `channel_axis` instead.\n",
      "  fds, img_hog = hog(\n"
     ]
    },
    {
     "name": "stdout",
     "output_type": "stream",
     "text": [
      "Detection:: Location -> (40, 280)\n",
      "Scale ->  0 | Confidence Score 0.6653230963400745 \n",
      "\n",
      "Detection:: Location -> (60, 280)\n",
      "Scale ->  0 | Confidence Score 0.7736196467984564 \n",
      "\n"
     ]
    },
    {
     "name": "stderr",
     "output_type": "stream",
     "text": [
      "/tmp/ipykernel_62901/1983484597.py:49: FutureWarning: `multichannel` is a deprecated argument name for `hog`. It will be removed in version 1.0. Please use `channel_axis` instead.\n",
      "  fds, img_hog = hog(\n",
      "/tmp/ipykernel_62901/1983484597.py:49: FutureWarning: `multichannel` is a deprecated argument name for `hog`. It will be removed in version 1.0. Please use `channel_axis` instead.\n",
      "  fds, img_hog = hog(\n"
     ]
    },
    {
     "name": "stdout",
     "output_type": "stream",
     "text": [
      "Detection:: Location -> (80, 280)\n",
      "Scale ->  0 | Confidence Score 0.7863626710377589 \n",
      "\n",
      "Detection:: Location -> (100, 280)\n",
      "Scale ->  0 | Confidence Score 0.7700797972757919 \n",
      "\n"
     ]
    },
    {
     "name": "stderr",
     "output_type": "stream",
     "text": [
      "/tmp/ipykernel_62901/1983484597.py:49: FutureWarning: `multichannel` is a deprecated argument name for `hog`. It will be removed in version 1.0. Please use `channel_axis` instead.\n",
      "  fds, img_hog = hog(\n",
      "/tmp/ipykernel_62901/1983484597.py:49: FutureWarning: `multichannel` is a deprecated argument name for `hog`. It will be removed in version 1.0. Please use `channel_axis` instead.\n",
      "  fds, img_hog = hog(\n"
     ]
    },
    {
     "name": "stdout",
     "output_type": "stream",
     "text": [
      "Detection:: Location -> (120, 280)\n",
      "Scale ->  0 | Confidence Score 0.7598708181705698 \n",
      "\n",
      "Detection:: Location -> (140, 280)\n",
      "Scale ->  0 | Confidence Score 0.7499160147068146 \n",
      "\n"
     ]
    },
    {
     "name": "stderr",
     "output_type": "stream",
     "text": [
      "/tmp/ipykernel_62901/1983484597.py:49: FutureWarning: `multichannel` is a deprecated argument name for `hog`. It will be removed in version 1.0. Please use `channel_axis` instead.\n",
      "  fds, img_hog = hog(\n",
      "/tmp/ipykernel_62901/1983484597.py:49: FutureWarning: `multichannel` is a deprecated argument name for `hog`. It will be removed in version 1.0. Please use `channel_axis` instead.\n",
      "  fds, img_hog = hog(\n"
     ]
    },
    {
     "name": "stdout",
     "output_type": "stream",
     "text": [
      "Detection:: Location -> (160, 280)\n",
      "Scale ->  0 | Confidence Score 0.7138469272264957 \n",
      "\n",
      "Detection:: Location -> (180, 280)\n",
      "Scale ->  0 | Confidence Score 0.6980813057547639 \n",
      "\n"
     ]
    },
    {
     "name": "stderr",
     "output_type": "stream",
     "text": [
      "/tmp/ipykernel_62901/1983484597.py:49: FutureWarning: `multichannel` is a deprecated argument name for `hog`. It will be removed in version 1.0. Please use `channel_axis` instead.\n",
      "  fds, img_hog = hog(\n",
      "/tmp/ipykernel_62901/1983484597.py:49: FutureWarning: `multichannel` is a deprecated argument name for `hog`. It will be removed in version 1.0. Please use `channel_axis` instead.\n",
      "  fds, img_hog = hog(\n"
     ]
    },
    {
     "name": "stdout",
     "output_type": "stream",
     "text": [
      "Detection:: Location -> (200, 280)\n",
      "Scale ->  0 | Confidence Score 0.6796871425738686 \n",
      "\n",
      "Detection:: Location -> (220, 280)\n",
      "Scale ->  0 | Confidence Score 0.7278695728009708 \n",
      "\n"
     ]
    },
    {
     "name": "stderr",
     "output_type": "stream",
     "text": [
      "/tmp/ipykernel_62901/1983484597.py:49: FutureWarning: `multichannel` is a deprecated argument name for `hog`. It will be removed in version 1.0. Please use `channel_axis` instead.\n",
      "  fds, img_hog = hog(\n",
      "/tmp/ipykernel_62901/1983484597.py:49: FutureWarning: `multichannel` is a deprecated argument name for `hog`. It will be removed in version 1.0. Please use `channel_axis` instead.\n",
      "  fds, img_hog = hog(\n"
     ]
    },
    {
     "name": "stdout",
     "output_type": "stream",
     "text": [
      "Detection:: Location -> (240, 280)\n",
      "Scale ->  0 | Confidence Score 0.6941698405503653 \n",
      "\n",
      "Detection:: Location -> (260, 280)\n",
      "Scale ->  0 | Confidence Score 0.7295616833473633 \n",
      "\n"
     ]
    },
    {
     "name": "stderr",
     "output_type": "stream",
     "text": [
      "/tmp/ipykernel_62901/1983484597.py:49: FutureWarning: `multichannel` is a deprecated argument name for `hog`. It will be removed in version 1.0. Please use `channel_axis` instead.\n",
      "  fds, img_hog = hog(\n",
      "/tmp/ipykernel_62901/1983484597.py:49: FutureWarning: `multichannel` is a deprecated argument name for `hog`. It will be removed in version 1.0. Please use `channel_axis` instead.\n",
      "  fds, img_hog = hog(\n"
     ]
    },
    {
     "name": "stdout",
     "output_type": "stream",
     "text": [
      "Detection:: Location -> (280, 280)\n",
      "Scale ->  0 | Confidence Score 0.6860943109856237 \n",
      "\n",
      "Detection:: Location -> (300, 280)\n",
      "Scale ->  0 | Confidence Score 0.6773316410714335 \n",
      "\n"
     ]
    },
    {
     "name": "stderr",
     "output_type": "stream",
     "text": [
      "/tmp/ipykernel_62901/1983484597.py:49: FutureWarning: `multichannel` is a deprecated argument name for `hog`. It will be removed in version 1.0. Please use `channel_axis` instead.\n",
      "  fds, img_hog = hog(\n",
      "/tmp/ipykernel_62901/1983484597.py:49: FutureWarning: `multichannel` is a deprecated argument name for `hog`. It will be removed in version 1.0. Please use `channel_axis` instead.\n",
      "  fds, img_hog = hog(\n"
     ]
    },
    {
     "name": "stdout",
     "output_type": "stream",
     "text": [
      "Detection:: Location -> (320, 280)\n",
      "Scale ->  0 | Confidence Score 0.6941193710273134 \n",
      "\n",
      "Detection:: Location -> (340, 280)\n",
      "Scale ->  0 | Confidence Score 0.7004918320471499 \n",
      "\n"
     ]
    },
    {
     "name": "stderr",
     "output_type": "stream",
     "text": [
      "/tmp/ipykernel_62901/1983484597.py:49: FutureWarning: `multichannel` is a deprecated argument name for `hog`. It will be removed in version 1.0. Please use `channel_axis` instead.\n",
      "  fds, img_hog = hog(\n",
      "/tmp/ipykernel_62901/1983484597.py:49: FutureWarning: `multichannel` is a deprecated argument name for `hog`. It will be removed in version 1.0. Please use `channel_axis` instead.\n",
      "  fds, img_hog = hog(\n"
     ]
    },
    {
     "name": "stdout",
     "output_type": "stream",
     "text": [
      "Detection:: Location -> (360, 280)\n",
      "Scale ->  0 | Confidence Score 0.6742729915781016 \n",
      "\n",
      "Detection:: Location -> (380, 280)\n",
      "Scale ->  0 | Confidence Score 0.7074901603897371 \n",
      "\n"
     ]
    },
    {
     "name": "stderr",
     "output_type": "stream",
     "text": [
      "/tmp/ipykernel_62901/1983484597.py:49: FutureWarning: `multichannel` is a deprecated argument name for `hog`. It will be removed in version 1.0. Please use `channel_axis` instead.\n",
      "  fds, img_hog = hog(\n",
      "/tmp/ipykernel_62901/1983484597.py:49: FutureWarning: `multichannel` is a deprecated argument name for `hog`. It will be removed in version 1.0. Please use `channel_axis` instead.\n",
      "  fds, img_hog = hog(\n"
     ]
    },
    {
     "name": "stdout",
     "output_type": "stream",
     "text": [
      "Detection:: Location -> (400, 280)\n",
      "Scale ->  0 | Confidence Score 0.6911558721131269 \n",
      "\n",
      "Detection:: Location -> (420, 280)\n",
      "Scale ->  0 | Confidence Score 0.7149301139727996 \n",
      "\n"
     ]
    },
    {
     "name": "stderr",
     "output_type": "stream",
     "text": [
      "/tmp/ipykernel_62901/1983484597.py:49: FutureWarning: `multichannel` is a deprecated argument name for `hog`. It will be removed in version 1.0. Please use `channel_axis` instead.\n",
      "  fds, img_hog = hog(\n",
      "/tmp/ipykernel_62901/1983484597.py:49: FutureWarning: `multichannel` is a deprecated argument name for `hog`. It will be removed in version 1.0. Please use `channel_axis` instead.\n",
      "  fds, img_hog = hog(\n"
     ]
    },
    {
     "name": "stdout",
     "output_type": "stream",
     "text": [
      "Detection:: Location -> (440, 280)\n",
      "Scale ->  0 | Confidence Score 0.6092461088847225 \n",
      "\n",
      "Detection:: Location -> (460, 280)\n",
      "Scale ->  0 | Confidence Score 0.7002743265115161 \n",
      "\n"
     ]
    },
    {
     "name": "stderr",
     "output_type": "stream",
     "text": [
      "/tmp/ipykernel_62901/1983484597.py:49: FutureWarning: `multichannel` is a deprecated argument name for `hog`. It will be removed in version 1.0. Please use `channel_axis` instead.\n",
      "  fds, img_hog = hog(\n",
      "/tmp/ipykernel_62901/1983484597.py:49: FutureWarning: `multichannel` is a deprecated argument name for `hog`. It will be removed in version 1.0. Please use `channel_axis` instead.\n",
      "  fds, img_hog = hog(\n"
     ]
    },
    {
     "name": "stdout",
     "output_type": "stream",
     "text": [
      "Detection:: Location -> (480, 280)\n",
      "Scale ->  0 | Confidence Score 0.6789427780119849 \n",
      "\n",
      "Detection:: Location -> (500, 280)\n",
      "Scale ->  0 | Confidence Score 0.7022481277031154 \n",
      "\n"
     ]
    },
    {
     "name": "stderr",
     "output_type": "stream",
     "text": [
      "/tmp/ipykernel_62901/1983484597.py:49: FutureWarning: `multichannel` is a deprecated argument name for `hog`. It will be removed in version 1.0. Please use `channel_axis` instead.\n",
      "  fds, img_hog = hog(\n",
      "/tmp/ipykernel_62901/1983484597.py:49: FutureWarning: `multichannel` is a deprecated argument name for `hog`. It will be removed in version 1.0. Please use `channel_axis` instead.\n",
      "  fds, img_hog = hog(\n"
     ]
    },
    {
     "name": "stdout",
     "output_type": "stream",
     "text": [
      "Detection:: Location -> (520, 280)\n",
      "Scale ->  0 | Confidence Score 0.7220106263467754 \n",
      "\n",
      "Detection:: Location -> (540, 280)\n",
      "Scale ->  0 | Confidence Score 0.727246947504629 \n",
      "\n"
     ]
    },
    {
     "name": "stderr",
     "output_type": "stream",
     "text": [
      "/tmp/ipykernel_62901/1983484597.py:49: FutureWarning: `multichannel` is a deprecated argument name for `hog`. It will be removed in version 1.0. Please use `channel_axis` instead.\n",
      "  fds, img_hog = hog(\n",
      "/tmp/ipykernel_62901/1983484597.py:49: FutureWarning: `multichannel` is a deprecated argument name for `hog`. It will be removed in version 1.0. Please use `channel_axis` instead.\n",
      "  fds, img_hog = hog(\n",
      "/tmp/ipykernel_62901/1983484597.py:49: FutureWarning: `multichannel` is a deprecated argument name for `hog`. It will be removed in version 1.0. Please use `channel_axis` instead.\n",
      "  fds, img_hog = hog(\n",
      "/tmp/ipykernel_62901/1983484597.py:49: FutureWarning: `multichannel` is a deprecated argument name for `hog`. It will be removed in version 1.0. Please use `channel_axis` instead.\n",
      "  fds, img_hog = hog(\n"
     ]
    },
    {
     "name": "stdout",
     "output_type": "stream",
     "text": [
      "Detection:: Location -> (580, 280)\n",
      "Scale ->  0 | Confidence Score 0.6472157392163392 \n",
      "\n",
      "Detection:: Location -> (600, 280)\n",
      "Scale ->  0 | Confidence Score 0.6313780626900869 \n",
      "\n"
     ]
    },
    {
     "name": "stderr",
     "output_type": "stream",
     "text": [
      "/tmp/ipykernel_62901/1983484597.py:49: FutureWarning: `multichannel` is a deprecated argument name for `hog`. It will be removed in version 1.0. Please use `channel_axis` instead.\n",
      "  fds, img_hog = hog(\n"
     ]
    },
    {
     "name": "stdout",
     "output_type": "stream",
     "text": [
      "Detection:: Location -> (620, 280)\n",
      "Scale ->  0 | Confidence Score 0.6559515951680939 \n",
      "\n",
      "Detection:: Location -> (640, 280)\n",
      "Scale ->  0 | Confidence Score 0.607375356059027 \n",
      "\n"
     ]
    },
    {
     "name": "stderr",
     "output_type": "stream",
     "text": [
      "/tmp/ipykernel_62901/1983484597.py:49: FutureWarning: `multichannel` is a deprecated argument name for `hog`. It will be removed in version 1.0. Please use `channel_axis` instead.\n",
      "  fds, img_hog = hog(\n",
      "/tmp/ipykernel_62901/1983484597.py:49: FutureWarning: `multichannel` is a deprecated argument name for `hog`. It will be removed in version 1.0. Please use `channel_axis` instead.\n",
      "  fds, img_hog = hog(\n"
     ]
    },
    {
     "name": "stdout",
     "output_type": "stream",
     "text": [
      "Detection:: Location -> (660, 280)\n",
      "Scale ->  0 | Confidence Score 0.6816090960069545 \n",
      "\n",
      "Detection:: Location -> (680, 280)\n",
      "Scale ->  0 | Confidence Score 0.7395369283854116 \n",
      "\n"
     ]
    },
    {
     "name": "stderr",
     "output_type": "stream",
     "text": [
      "/tmp/ipykernel_62901/1983484597.py:49: FutureWarning: `multichannel` is a deprecated argument name for `hog`. It will be removed in version 1.0. Please use `channel_axis` instead.\n",
      "  fds, img_hog = hog(\n",
      "/tmp/ipykernel_62901/1983484597.py:49: FutureWarning: `multichannel` is a deprecated argument name for `hog`. It will be removed in version 1.0. Please use `channel_axis` instead.\n",
      "  fds, img_hog = hog(\n"
     ]
    },
    {
     "name": "stdout",
     "output_type": "stream",
     "text": [
      "Detection:: Location -> (700, 280)\n",
      "Scale ->  0 | Confidence Score 0.7085476494379808 \n",
      "\n",
      "Detection:: Location -> (720, 280)\n",
      "Scale ->  0 | Confidence Score 0.6351122042498751 \n",
      "\n"
     ]
    },
    {
     "name": "stderr",
     "output_type": "stream",
     "text": [
      "/tmp/ipykernel_62901/1983484597.py:49: FutureWarning: `multichannel` is a deprecated argument name for `hog`. It will be removed in version 1.0. Please use `channel_axis` instead.\n",
      "  fds, img_hog = hog(\n",
      "/tmp/ipykernel_62901/1983484597.py:49: FutureWarning: `multichannel` is a deprecated argument name for `hog`. It will be removed in version 1.0. Please use `channel_axis` instead.\n",
      "  fds, img_hog = hog(\n"
     ]
    },
    {
     "name": "stdout",
     "output_type": "stream",
     "text": [
      "Detection:: Location -> (740, 280)\n",
      "Scale ->  0 | Confidence Score 0.6192642878536831 \n",
      "\n"
     ]
    },
    {
     "name": "stderr",
     "output_type": "stream",
     "text": [
      "/tmp/ipykernel_62901/1983484597.py:49: FutureWarning: `multichannel` is a deprecated argument name for `hog`. It will be removed in version 1.0. Please use `channel_axis` instead.\n",
      "  fds, img_hog = hog(\n",
      "/tmp/ipykernel_62901/1983484597.py:49: FutureWarning: `multichannel` is a deprecated argument name for `hog`. It will be removed in version 1.0. Please use `channel_axis` instead.\n",
      "  fds, img_hog = hog(\n",
      "/tmp/ipykernel_62901/1983484597.py:49: FutureWarning: `multichannel` is a deprecated argument name for `hog`. It will be removed in version 1.0. Please use `channel_axis` instead.\n",
      "  fds, img_hog = hog(\n"
     ]
    },
    {
     "name": "stdout",
     "output_type": "stream",
     "text": [
      "Detection:: Location -> (780, 280)\n",
      "Scale ->  0 | Confidence Score 0.6407454447733347 \n",
      "\n"
     ]
    },
    {
     "name": "stderr",
     "output_type": "stream",
     "text": [
      "/tmp/ipykernel_62901/1983484597.py:49: FutureWarning: `multichannel` is a deprecated argument name for `hog`. It will be removed in version 1.0. Please use `channel_axis` instead.\n",
      "  fds, img_hog = hog(\n",
      "/tmp/ipykernel_62901/1983484597.py:49: FutureWarning: `multichannel` is a deprecated argument name for `hog`. It will be removed in version 1.0. Please use `channel_axis` instead.\n",
      "  fds, img_hog = hog(\n"
     ]
    },
    {
     "name": "stdout",
     "output_type": "stream",
     "text": [
      "Detection:: Location -> (820, 280)\n",
      "Scale ->  0 | Confidence Score 0.6998418912243146 \n",
      "\n",
      "Detection:: Location -> (840, 280)\n",
      "Scale ->  0 | Confidence Score 0.7355507178226846 \n",
      "\n"
     ]
    },
    {
     "name": "stderr",
     "output_type": "stream",
     "text": [
      "/tmp/ipykernel_62901/1983484597.py:49: FutureWarning: `multichannel` is a deprecated argument name for `hog`. It will be removed in version 1.0. Please use `channel_axis` instead.\n",
      "  fds, img_hog = hog(\n",
      "/tmp/ipykernel_62901/1983484597.py:49: FutureWarning: `multichannel` is a deprecated argument name for `hog`. It will be removed in version 1.0. Please use `channel_axis` instead.\n",
      "  fds, img_hog = hog(\n"
     ]
    },
    {
     "name": "stdout",
     "output_type": "stream",
     "text": [
      "Detection:: Location -> (860, 280)\n",
      "Scale ->  0 | Confidence Score 0.6555602523715311 \n",
      "\n"
     ]
    },
    {
     "name": "stderr",
     "output_type": "stream",
     "text": [
      "/tmp/ipykernel_62901/1983484597.py:49: FutureWarning: `multichannel` is a deprecated argument name for `hog`. It will be removed in version 1.0. Please use `channel_axis` instead.\n",
      "  fds, img_hog = hog(\n",
      "/tmp/ipykernel_62901/1983484597.py:49: FutureWarning: `multichannel` is a deprecated argument name for `hog`. It will be removed in version 1.0. Please use `channel_axis` instead.\n",
      "  fds, img_hog = hog(\n",
      "/tmp/ipykernel_62901/1983484597.py:49: FutureWarning: `multichannel` is a deprecated argument name for `hog`. It will be removed in version 1.0. Please use `channel_axis` instead.\n",
      "  fds, img_hog = hog(\n",
      "/tmp/ipykernel_62901/1983484597.py:49: FutureWarning: `multichannel` is a deprecated argument name for `hog`. It will be removed in version 1.0. Please use `channel_axis` instead.\n",
      "  fds, img_hog = hog(\n"
     ]
    },
    {
     "name": "stdout",
     "output_type": "stream",
     "text": [
      "Detection:: Location -> (20, 300)\n",
      "Scale ->  0 | Confidence Score 0.7038322347845543 \n",
      "\n",
      "Detection:: Location -> (40, 300)\n",
      "Scale ->  0 | Confidence Score 0.798832817069894 \n",
      "\n"
     ]
    },
    {
     "name": "stderr",
     "output_type": "stream",
     "text": [
      "/tmp/ipykernel_62901/1983484597.py:49: FutureWarning: `multichannel` is a deprecated argument name for `hog`. It will be removed in version 1.0. Please use `channel_axis` instead.\n",
      "  fds, img_hog = hog(\n",
      "/tmp/ipykernel_62901/1983484597.py:49: FutureWarning: `multichannel` is a deprecated argument name for `hog`. It will be removed in version 1.0. Please use `channel_axis` instead.\n",
      "  fds, img_hog = hog(\n"
     ]
    },
    {
     "name": "stdout",
     "output_type": "stream",
     "text": [
      "Detection:: Location -> (60, 300)\n",
      "Scale ->  0 | Confidence Score 0.8158831998307259 \n",
      "\n",
      "Detection:: Location -> (80, 300)\n",
      "Scale ->  0 | Confidence Score 0.7820878093524996 \n",
      "\n"
     ]
    },
    {
     "name": "stderr",
     "output_type": "stream",
     "text": [
      "/tmp/ipykernel_62901/1983484597.py:49: FutureWarning: `multichannel` is a deprecated argument name for `hog`. It will be removed in version 1.0. Please use `channel_axis` instead.\n",
      "  fds, img_hog = hog(\n",
      "/tmp/ipykernel_62901/1983484597.py:49: FutureWarning: `multichannel` is a deprecated argument name for `hog`. It will be removed in version 1.0. Please use `channel_axis` instead.\n",
      "  fds, img_hog = hog(\n"
     ]
    },
    {
     "name": "stdout",
     "output_type": "stream",
     "text": [
      "Detection:: Location -> (100, 300)\n",
      "Scale ->  0 | Confidence Score 0.7976624502680572 \n",
      "\n",
      "Detection:: Location -> (120, 300)\n",
      "Scale ->  0 | Confidence Score 0.8025394461613015 \n",
      "\n"
     ]
    },
    {
     "name": "stderr",
     "output_type": "stream",
     "text": [
      "/tmp/ipykernel_62901/1983484597.py:49: FutureWarning: `multichannel` is a deprecated argument name for `hog`. It will be removed in version 1.0. Please use `channel_axis` instead.\n",
      "  fds, img_hog = hog(\n",
      "/tmp/ipykernel_62901/1983484597.py:49: FutureWarning: `multichannel` is a deprecated argument name for `hog`. It will be removed in version 1.0. Please use `channel_axis` instead.\n",
      "  fds, img_hog = hog(\n"
     ]
    },
    {
     "name": "stdout",
     "output_type": "stream",
     "text": [
      "Detection:: Location -> (140, 300)\n",
      "Scale ->  0 | Confidence Score 0.7953298957266067 \n",
      "\n",
      "Detection:: Location -> (160, 300)\n",
      "Scale ->  0 | Confidence Score 0.7923593414052592 \n",
      "\n"
     ]
    },
    {
     "name": "stderr",
     "output_type": "stream",
     "text": [
      "/tmp/ipykernel_62901/1983484597.py:49: FutureWarning: `multichannel` is a deprecated argument name for `hog`. It will be removed in version 1.0. Please use `channel_axis` instead.\n",
      "  fds, img_hog = hog(\n",
      "/tmp/ipykernel_62901/1983484597.py:49: FutureWarning: `multichannel` is a deprecated argument name for `hog`. It will be removed in version 1.0. Please use `channel_axis` instead.\n",
      "  fds, img_hog = hog(\n"
     ]
    },
    {
     "name": "stdout",
     "output_type": "stream",
     "text": [
      "Detection:: Location -> (180, 300)\n",
      "Scale ->  0 | Confidence Score 0.7927242785191098 \n",
      "\n",
      "Detection:: Location -> (200, 300)\n",
      "Scale ->  0 | Confidence Score 0.7426928491778472 \n",
      "\n"
     ]
    },
    {
     "name": "stderr",
     "output_type": "stream",
     "text": [
      "/tmp/ipykernel_62901/1983484597.py:49: FutureWarning: `multichannel` is a deprecated argument name for `hog`. It will be removed in version 1.0. Please use `channel_axis` instead.\n",
      "  fds, img_hog = hog(\n",
      "/tmp/ipykernel_62901/1983484597.py:49: FutureWarning: `multichannel` is a deprecated argument name for `hog`. It will be removed in version 1.0. Please use `channel_axis` instead.\n",
      "  fds, img_hog = hog(\n"
     ]
    },
    {
     "name": "stdout",
     "output_type": "stream",
     "text": [
      "Detection:: Location -> (220, 300)\n",
      "Scale ->  0 | Confidence Score 0.7405669960954542 \n",
      "\n",
      "Detection:: Location -> (240, 300)\n",
      "Scale ->  0 | Confidence Score 0.6947664875437987 \n",
      "\n"
     ]
    },
    {
     "name": "stderr",
     "output_type": "stream",
     "text": [
      "/tmp/ipykernel_62901/1983484597.py:49: FutureWarning: `multichannel` is a deprecated argument name for `hog`. It will be removed in version 1.0. Please use `channel_axis` instead.\n",
      "  fds, img_hog = hog(\n",
      "/tmp/ipykernel_62901/1983484597.py:49: FutureWarning: `multichannel` is a deprecated argument name for `hog`. It will be removed in version 1.0. Please use `channel_axis` instead.\n",
      "  fds, img_hog = hog(\n"
     ]
    },
    {
     "name": "stdout",
     "output_type": "stream",
     "text": [
      "Detection:: Location -> (260, 300)\n",
      "Scale ->  0 | Confidence Score 0.7627542449931437 \n",
      "\n",
      "Detection:: Location -> (280, 300)\n",
      "Scale ->  0 | Confidence Score 0.6976324063461575 \n",
      "\n"
     ]
    },
    {
     "name": "stderr",
     "output_type": "stream",
     "text": [
      "/tmp/ipykernel_62901/1983484597.py:49: FutureWarning: `multichannel` is a deprecated argument name for `hog`. It will be removed in version 1.0. Please use `channel_axis` instead.\n",
      "  fds, img_hog = hog(\n",
      "/tmp/ipykernel_62901/1983484597.py:49: FutureWarning: `multichannel` is a deprecated argument name for `hog`. It will be removed in version 1.0. Please use `channel_axis` instead.\n",
      "  fds, img_hog = hog(\n"
     ]
    },
    {
     "name": "stdout",
     "output_type": "stream",
     "text": [
      "Detection:: Location -> (300, 300)\n",
      "Scale ->  0 | Confidence Score 0.6979423216207263 \n",
      "\n",
      "Detection:: Location -> (320, 300)\n",
      "Scale ->  0 | Confidence Score 0.7131805117953599 \n",
      "\n"
     ]
    },
    {
     "name": "stderr",
     "output_type": "stream",
     "text": [
      "/tmp/ipykernel_62901/1983484597.py:49: FutureWarning: `multichannel` is a deprecated argument name for `hog`. It will be removed in version 1.0. Please use `channel_axis` instead.\n",
      "  fds, img_hog = hog(\n",
      "/tmp/ipykernel_62901/1983484597.py:49: FutureWarning: `multichannel` is a deprecated argument name for `hog`. It will be removed in version 1.0. Please use `channel_axis` instead.\n",
      "  fds, img_hog = hog(\n"
     ]
    },
    {
     "name": "stdout",
     "output_type": "stream",
     "text": [
      "Detection:: Location -> (340, 300)\n",
      "Scale ->  0 | Confidence Score 0.6985277452257049 \n",
      "\n",
      "Detection:: Location -> (360, 300)\n",
      "Scale ->  0 | Confidence Score 0.7236442733775776 \n",
      "\n"
     ]
    },
    {
     "name": "stderr",
     "output_type": "stream",
     "text": [
      "/tmp/ipykernel_62901/1983484597.py:49: FutureWarning: `multichannel` is a deprecated argument name for `hog`. It will be removed in version 1.0. Please use `channel_axis` instead.\n",
      "  fds, img_hog = hog(\n",
      "/tmp/ipykernel_62901/1983484597.py:49: FutureWarning: `multichannel` is a deprecated argument name for `hog`. It will be removed in version 1.0. Please use `channel_axis` instead.\n",
      "  fds, img_hog = hog(\n"
     ]
    },
    {
     "name": "stdout",
     "output_type": "stream",
     "text": [
      "Detection:: Location -> (380, 300)\n",
      "Scale ->  0 | Confidence Score 0.7453031498825468 \n",
      "\n",
      "Detection:: Location -> (400, 300)\n",
      "Scale ->  0 | Confidence Score 0.6359896177017605 \n",
      "\n"
     ]
    },
    {
     "name": "stderr",
     "output_type": "stream",
     "text": [
      "/tmp/ipykernel_62901/1983484597.py:49: FutureWarning: `multichannel` is a deprecated argument name for `hog`. It will be removed in version 1.0. Please use `channel_axis` instead.\n",
      "  fds, img_hog = hog(\n",
      "/tmp/ipykernel_62901/1983484597.py:49: FutureWarning: `multichannel` is a deprecated argument name for `hog`. It will be removed in version 1.0. Please use `channel_axis` instead.\n",
      "  fds, img_hog = hog(\n"
     ]
    },
    {
     "name": "stdout",
     "output_type": "stream",
     "text": [
      "Detection:: Location -> (420, 300)\n",
      "Scale ->  0 | Confidence Score 0.6301933875648953 \n",
      "\n",
      "Detection:: Location -> (440, 300)\n",
      "Scale ->  0 | Confidence Score 0.6501697143867368 \n",
      "\n"
     ]
    },
    {
     "name": "stderr",
     "output_type": "stream",
     "text": [
      "/tmp/ipykernel_62901/1983484597.py:49: FutureWarning: `multichannel` is a deprecated argument name for `hog`. It will be removed in version 1.0. Please use `channel_axis` instead.\n",
      "  fds, img_hog = hog(\n",
      "/tmp/ipykernel_62901/1983484597.py:49: FutureWarning: `multichannel` is a deprecated argument name for `hog`. It will be removed in version 1.0. Please use `channel_axis` instead.\n",
      "  fds, img_hog = hog(\n"
     ]
    },
    {
     "name": "stdout",
     "output_type": "stream",
     "text": [
      "Detection:: Location -> (460, 300)\n",
      "Scale ->  0 | Confidence Score 0.7226490052340924 \n",
      "\n",
      "Detection:: Location -> (480, 300)\n",
      "Scale ->  0 | Confidence Score 0.6946640143489345 \n",
      "\n"
     ]
    },
    {
     "name": "stderr",
     "output_type": "stream",
     "text": [
      "/tmp/ipykernel_62901/1983484597.py:49: FutureWarning: `multichannel` is a deprecated argument name for `hog`. It will be removed in version 1.0. Please use `channel_axis` instead.\n",
      "  fds, img_hog = hog(\n",
      "/tmp/ipykernel_62901/1983484597.py:49: FutureWarning: `multichannel` is a deprecated argument name for `hog`. It will be removed in version 1.0. Please use `channel_axis` instead.\n",
      "  fds, img_hog = hog(\n"
     ]
    },
    {
     "name": "stdout",
     "output_type": "stream",
     "text": [
      "Detection:: Location -> (500, 300)\n",
      "Scale ->  0 | Confidence Score 0.6948769722618221 \n",
      "\n",
      "Detection:: Location -> (520, 300)\n",
      "Scale ->  0 | Confidence Score 0.6598517506801326 \n",
      "\n"
     ]
    },
    {
     "name": "stderr",
     "output_type": "stream",
     "text": [
      "/tmp/ipykernel_62901/1983484597.py:49: FutureWarning: `multichannel` is a deprecated argument name for `hog`. It will be removed in version 1.0. Please use `channel_axis` instead.\n",
      "  fds, img_hog = hog(\n",
      "/tmp/ipykernel_62901/1983484597.py:49: FutureWarning: `multichannel` is a deprecated argument name for `hog`. It will be removed in version 1.0. Please use `channel_axis` instead.\n",
      "  fds, img_hog = hog(\n"
     ]
    },
    {
     "name": "stdout",
     "output_type": "stream",
     "text": [
      "Detection:: Location -> (540, 300)\n",
      "Scale ->  0 | Confidence Score 0.6892229062374448 \n",
      "\n",
      "Detection:: Location -> (560, 300)\n",
      "Scale ->  0 | Confidence Score 0.6390308588676072 \n",
      "\n"
     ]
    },
    {
     "name": "stderr",
     "output_type": "stream",
     "text": [
      "/tmp/ipykernel_62901/1983484597.py:49: FutureWarning: `multichannel` is a deprecated argument name for `hog`. It will be removed in version 1.0. Please use `channel_axis` instead.\n",
      "  fds, img_hog = hog(\n",
      "/tmp/ipykernel_62901/1983484597.py:49: FutureWarning: `multichannel` is a deprecated argument name for `hog`. It will be removed in version 1.0. Please use `channel_axis` instead.\n",
      "  fds, img_hog = hog(\n"
     ]
    },
    {
     "name": "stdout",
     "output_type": "stream",
     "text": [
      "Detection:: Location -> (580, 300)\n",
      "Scale ->  0 | Confidence Score 0.67847368958614 \n",
      "\n",
      "Detection:: Location -> (600, 300)\n",
      "Scale ->  0 | Confidence Score 0.6584087184630485 \n",
      "\n"
     ]
    },
    {
     "name": "stderr",
     "output_type": "stream",
     "text": [
      "/tmp/ipykernel_62901/1983484597.py:49: FutureWarning: `multichannel` is a deprecated argument name for `hog`. It will be removed in version 1.0. Please use `channel_axis` instead.\n",
      "  fds, img_hog = hog(\n",
      "/tmp/ipykernel_62901/1983484597.py:49: FutureWarning: `multichannel` is a deprecated argument name for `hog`. It will be removed in version 1.0. Please use `channel_axis` instead.\n",
      "  fds, img_hog = hog(\n"
     ]
    },
    {
     "name": "stdout",
     "output_type": "stream",
     "text": [
      "Detection:: Location -> (620, 300)\n",
      "Scale ->  0 | Confidence Score 0.6846463708710587 \n",
      "\n",
      "Detection:: Location -> (640, 300)\n",
      "Scale ->  0 | Confidence Score 0.6534716971444909 \n",
      "\n"
     ]
    },
    {
     "name": "stderr",
     "output_type": "stream",
     "text": [
      "/tmp/ipykernel_62901/1983484597.py:49: FutureWarning: `multichannel` is a deprecated argument name for `hog`. It will be removed in version 1.0. Please use `channel_axis` instead.\n",
      "  fds, img_hog = hog(\n",
      "/tmp/ipykernel_62901/1983484597.py:49: FutureWarning: `multichannel` is a deprecated argument name for `hog`. It will be removed in version 1.0. Please use `channel_axis` instead.\n",
      "  fds, img_hog = hog(\n"
     ]
    },
    {
     "name": "stdout",
     "output_type": "stream",
     "text": [
      "Detection:: Location -> (660, 300)\n",
      "Scale ->  0 | Confidence Score 0.7201968245295979 \n",
      "\n",
      "Detection:: Location -> (680, 300)\n",
      "Scale ->  0 | Confidence Score 0.6429479155604029 \n",
      "\n"
     ]
    },
    {
     "name": "stderr",
     "output_type": "stream",
     "text": [
      "/tmp/ipykernel_62901/1983484597.py:49: FutureWarning: `multichannel` is a deprecated argument name for `hog`. It will be removed in version 1.0. Please use `channel_axis` instead.\n",
      "  fds, img_hog = hog(\n",
      "/tmp/ipykernel_62901/1983484597.py:49: FutureWarning: `multichannel` is a deprecated argument name for `hog`. It will be removed in version 1.0. Please use `channel_axis` instead.\n",
      "  fds, img_hog = hog(\n"
     ]
    },
    {
     "name": "stdout",
     "output_type": "stream",
     "text": [
      "Detection:: Location -> (700, 300)\n",
      "Scale ->  0 | Confidence Score 0.6597594223023253 \n",
      "\n"
     ]
    },
    {
     "name": "stderr",
     "output_type": "stream",
     "text": [
      "/tmp/ipykernel_62901/1983484597.py:49: FutureWarning: `multichannel` is a deprecated argument name for `hog`. It will be removed in version 1.0. Please use `channel_axis` instead.\n",
      "  fds, img_hog = hog(\n",
      "/tmp/ipykernel_62901/1983484597.py:49: FutureWarning: `multichannel` is a deprecated argument name for `hog`. It will be removed in version 1.0. Please use `channel_axis` instead.\n",
      "  fds, img_hog = hog(\n",
      "/tmp/ipykernel_62901/1983484597.py:49: FutureWarning: `multichannel` is a deprecated argument name for `hog`. It will be removed in version 1.0. Please use `channel_axis` instead.\n",
      "  fds, img_hog = hog(\n",
      "/tmp/ipykernel_62901/1983484597.py:49: FutureWarning: `multichannel` is a deprecated argument name for `hog`. It will be removed in version 1.0. Please use `channel_axis` instead.\n",
      "  fds, img_hog = hog(\n"
     ]
    },
    {
     "name": "stdout",
     "output_type": "stream",
     "text": [
      "Detection:: Location -> (780, 300)\n",
      "Scale ->  0 | Confidence Score 0.7068140886707341 \n",
      "\n",
      "Detection:: Location -> (800, 300)\n",
      "Scale ->  0 | Confidence Score 0.6612456834447819 \n",
      "\n"
     ]
    },
    {
     "name": "stderr",
     "output_type": "stream",
     "text": [
      "/tmp/ipykernel_62901/1983484597.py:49: FutureWarning: `multichannel` is a deprecated argument name for `hog`. It will be removed in version 1.0. Please use `channel_axis` instead.\n",
      "  fds, img_hog = hog(\n",
      "/tmp/ipykernel_62901/1983484597.py:49: FutureWarning: `multichannel` is a deprecated argument name for `hog`. It will be removed in version 1.0. Please use `channel_axis` instead.\n",
      "  fds, img_hog = hog(\n"
     ]
    },
    {
     "name": "stdout",
     "output_type": "stream",
     "text": [
      "Detection:: Location -> (820, 300)\n",
      "Scale ->  0 | Confidence Score 0.7550527307412984 \n",
      "\n",
      "Detection:: Location -> (840, 300)\n",
      "Scale ->  0 | Confidence Score 0.6775528843828611 \n",
      "\n"
     ]
    },
    {
     "name": "stderr",
     "output_type": "stream",
     "text": [
      "/tmp/ipykernel_62901/1983484597.py:49: FutureWarning: `multichannel` is a deprecated argument name for `hog`. It will be removed in version 1.0. Please use `channel_axis` instead.\n",
      "  fds, img_hog = hog(\n",
      "/tmp/ipykernel_62901/1983484597.py:49: FutureWarning: `multichannel` is a deprecated argument name for `hog`. It will be removed in version 1.0. Please use `channel_axis` instead.\n",
      "  fds, img_hog = hog(\n"
     ]
    },
    {
     "name": "stdout",
     "output_type": "stream",
     "text": [
      "Detection:: Location -> (860, 300)\n",
      "Scale ->  0 | Confidence Score 0.6810376183613198 \n",
      "\n"
     ]
    },
    {
     "name": "stderr",
     "output_type": "stream",
     "text": [
      "/tmp/ipykernel_62901/1983484597.py:49: FutureWarning: `multichannel` is a deprecated argument name for `hog`. It will be removed in version 1.0. Please use `channel_axis` instead.\n",
      "  fds, img_hog = hog(\n"
     ]
    },
    {
     "name": "stdout",
     "output_type": "stream",
     "text": [
      "Detection:: Location -> (880, 300)\n",
      "Scale ->  0 | Confidence Score 0.6363750987611579 \n",
      "\n"
     ]
    },
    {
     "name": "stderr",
     "output_type": "stream",
     "text": [
      "/tmp/ipykernel_62901/1983484597.py:49: FutureWarning: `multichannel` is a deprecated argument name for `hog`. It will be removed in version 1.0. Please use `channel_axis` instead.\n",
      "  fds, img_hog = hog(\n",
      "/tmp/ipykernel_62901/1983484597.py:49: FutureWarning: `multichannel` is a deprecated argument name for `hog`. It will be removed in version 1.0. Please use `channel_axis` instead.\n",
      "  fds, img_hog = hog(\n",
      "/tmp/ipykernel_62901/1983484597.py:49: FutureWarning: `multichannel` is a deprecated argument name for `hog`. It will be removed in version 1.0. Please use `channel_axis` instead.\n",
      "  fds, img_hog = hog(\n",
      "/tmp/ipykernel_62901/1983484597.py:49: FutureWarning: `multichannel` is a deprecated argument name for `hog`. It will be removed in version 1.0. Please use `channel_axis` instead.\n",
      "  fds, img_hog = hog(\n"
     ]
    },
    {
     "name": "stdout",
     "output_type": "stream",
     "text": [
      "Detection:: Location -> (20, 320)\n",
      "Scale ->  0 | Confidence Score 0.7093375051428814 \n",
      "\n"
     ]
    },
    {
     "name": "stderr",
     "output_type": "stream",
     "text": [
      "/tmp/ipykernel_62901/1983484597.py:49: FutureWarning: `multichannel` is a deprecated argument name for `hog`. It will be removed in version 1.0. Please use `channel_axis` instead.\n",
      "  fds, img_hog = hog(\n"
     ]
    },
    {
     "name": "stdout",
     "output_type": "stream",
     "text": [
      "Detection:: Location -> (40, 320)\n",
      "Scale ->  0 | Confidence Score 0.6894266992331898 \n",
      "\n",
      "Detection:: Location -> (60, 320)\n",
      "Scale ->  0 | Confidence Score 0.7486634759740881 \n",
      "\n"
     ]
    },
    {
     "name": "stderr",
     "output_type": "stream",
     "text": [
      "/tmp/ipykernel_62901/1983484597.py:49: FutureWarning: `multichannel` is a deprecated argument name for `hog`. It will be removed in version 1.0. Please use `channel_axis` instead.\n",
      "  fds, img_hog = hog(\n",
      "/tmp/ipykernel_62901/1983484597.py:49: FutureWarning: `multichannel` is a deprecated argument name for `hog`. It will be removed in version 1.0. Please use `channel_axis` instead.\n",
      "  fds, img_hog = hog(\n"
     ]
    },
    {
     "name": "stdout",
     "output_type": "stream",
     "text": [
      "Detection:: Location -> (80, 320)\n",
      "Scale ->  0 | Confidence Score 0.7350210249357805 \n",
      "\n",
      "Detection:: Location -> (100, 320)\n",
      "Scale ->  0 | Confidence Score 0.7263598117892419 \n",
      "\n"
     ]
    },
    {
     "name": "stderr",
     "output_type": "stream",
     "text": [
      "/tmp/ipykernel_62901/1983484597.py:49: FutureWarning: `multichannel` is a deprecated argument name for `hog`. It will be removed in version 1.0. Please use `channel_axis` instead.\n",
      "  fds, img_hog = hog(\n",
      "/tmp/ipykernel_62901/1983484597.py:49: FutureWarning: `multichannel` is a deprecated argument name for `hog`. It will be removed in version 1.0. Please use `channel_axis` instead.\n",
      "  fds, img_hog = hog(\n"
     ]
    },
    {
     "name": "stdout",
     "output_type": "stream",
     "text": [
      "Detection:: Location -> (120, 320)\n",
      "Scale ->  0 | Confidence Score 0.7468348553789789 \n",
      "\n",
      "Detection:: Location -> (140, 320)\n",
      "Scale ->  0 | Confidence Score 0.8238700885371741 \n",
      "\n"
     ]
    },
    {
     "name": "stderr",
     "output_type": "stream",
     "text": [
      "/tmp/ipykernel_62901/1983484597.py:49: FutureWarning: `multichannel` is a deprecated argument name for `hog`. It will be removed in version 1.0. Please use `channel_axis` instead.\n",
      "  fds, img_hog = hog(\n",
      "/tmp/ipykernel_62901/1983484597.py:49: FutureWarning: `multichannel` is a deprecated argument name for `hog`. It will be removed in version 1.0. Please use `channel_axis` instead.\n",
      "  fds, img_hog = hog(\n"
     ]
    },
    {
     "name": "stdout",
     "output_type": "stream",
     "text": [
      "Detection:: Location -> (160, 320)\n",
      "Scale ->  0 | Confidence Score 0.8169126723175495 \n",
      "\n",
      "Detection:: Location -> (180, 320)\n",
      "Scale ->  0 | Confidence Score 0.8052994585048072 \n",
      "\n"
     ]
    },
    {
     "name": "stderr",
     "output_type": "stream",
     "text": [
      "/tmp/ipykernel_62901/1983484597.py:49: FutureWarning: `multichannel` is a deprecated argument name for `hog`. It will be removed in version 1.0. Please use `channel_axis` instead.\n",
      "  fds, img_hog = hog(\n",
      "/tmp/ipykernel_62901/1983484597.py:49: FutureWarning: `multichannel` is a deprecated argument name for `hog`. It will be removed in version 1.0. Please use `channel_axis` instead.\n",
      "  fds, img_hog = hog(\n"
     ]
    },
    {
     "name": "stdout",
     "output_type": "stream",
     "text": [
      "Detection:: Location -> (200, 320)\n",
      "Scale ->  0 | Confidence Score 0.7273258681794914 \n",
      "\n",
      "Detection:: Location -> (220, 320)\n",
      "Scale ->  0 | Confidence Score 0.710870604905264 \n",
      "\n"
     ]
    },
    {
     "name": "stderr",
     "output_type": "stream",
     "text": [
      "/tmp/ipykernel_62901/1983484597.py:49: FutureWarning: `multichannel` is a deprecated argument name for `hog`. It will be removed in version 1.0. Please use `channel_axis` instead.\n",
      "  fds, img_hog = hog(\n",
      "/tmp/ipykernel_62901/1983484597.py:49: FutureWarning: `multichannel` is a deprecated argument name for `hog`. It will be removed in version 1.0. Please use `channel_axis` instead.\n",
      "  fds, img_hog = hog(\n"
     ]
    },
    {
     "name": "stdout",
     "output_type": "stream",
     "text": [
      "Detection:: Location -> (240, 320)\n",
      "Scale ->  0 | Confidence Score 0.7096760190411002 \n",
      "\n",
      "Detection:: Location -> (260, 320)\n",
      "Scale ->  0 | Confidence Score 0.7137891338968613 \n",
      "\n"
     ]
    },
    {
     "name": "stderr",
     "output_type": "stream",
     "text": [
      "/tmp/ipykernel_62901/1983484597.py:49: FutureWarning: `multichannel` is a deprecated argument name for `hog`. It will be removed in version 1.0. Please use `channel_axis` instead.\n",
      "  fds, img_hog = hog(\n",
      "/tmp/ipykernel_62901/1983484597.py:49: FutureWarning: `multichannel` is a deprecated argument name for `hog`. It will be removed in version 1.0. Please use `channel_axis` instead.\n",
      "  fds, img_hog = hog(\n"
     ]
    },
    {
     "name": "stdout",
     "output_type": "stream",
     "text": [
      "Detection:: Location -> (280, 320)\n",
      "Scale ->  0 | Confidence Score 0.7137850297017836 \n",
      "\n",
      "Detection:: Location -> (300, 320)\n",
      "Scale ->  0 | Confidence Score 0.7550186368363507 \n",
      "\n"
     ]
    },
    {
     "name": "stderr",
     "output_type": "stream",
     "text": [
      "/tmp/ipykernel_62901/1983484597.py:49: FutureWarning: `multichannel` is a deprecated argument name for `hog`. It will be removed in version 1.0. Please use `channel_axis` instead.\n",
      "  fds, img_hog = hog(\n",
      "/tmp/ipykernel_62901/1983484597.py:49: FutureWarning: `multichannel` is a deprecated argument name for `hog`. It will be removed in version 1.0. Please use `channel_axis` instead.\n",
      "  fds, img_hog = hog(\n"
     ]
    },
    {
     "name": "stdout",
     "output_type": "stream",
     "text": [
      "Detection:: Location -> (320, 320)\n",
      "Scale ->  0 | Confidence Score 0.6180102368685771 \n",
      "\n",
      "Detection:: Location -> (340, 320)\n",
      "Scale ->  0 | Confidence Score 0.7420398866065239 \n",
      "\n"
     ]
    },
    {
     "name": "stderr",
     "output_type": "stream",
     "text": [
      "/tmp/ipykernel_62901/1983484597.py:49: FutureWarning: `multichannel` is a deprecated argument name for `hog`. It will be removed in version 1.0. Please use `channel_axis` instead.\n",
      "  fds, img_hog = hog(\n",
      "/tmp/ipykernel_62901/1983484597.py:49: FutureWarning: `multichannel` is a deprecated argument name for `hog`. It will be removed in version 1.0. Please use `channel_axis` instead.\n",
      "  fds, img_hog = hog(\n"
     ]
    },
    {
     "name": "stdout",
     "output_type": "stream",
     "text": [
      "Detection:: Location -> (360, 320)\n",
      "Scale ->  0 | Confidence Score 0.6832658681864727 \n",
      "\n",
      "Detection:: Location -> (380, 320)\n",
      "Scale ->  0 | Confidence Score 0.6935044585719716 \n",
      "\n"
     ]
    },
    {
     "name": "stderr",
     "output_type": "stream",
     "text": [
      "/tmp/ipykernel_62901/1983484597.py:49: FutureWarning: `multichannel` is a deprecated argument name for `hog`. It will be removed in version 1.0. Please use `channel_axis` instead.\n",
      "  fds, img_hog = hog(\n",
      "/tmp/ipykernel_62901/1983484597.py:49: FutureWarning: `multichannel` is a deprecated argument name for `hog`. It will be removed in version 1.0. Please use `channel_axis` instead.\n",
      "  fds, img_hog = hog(\n"
     ]
    },
    {
     "name": "stdout",
     "output_type": "stream",
     "text": [
      "Detection:: Location -> (400, 320)\n",
      "Scale ->  0 | Confidence Score 0.6084488664063097 \n",
      "\n",
      "Detection:: Location -> (420, 320)\n",
      "Scale ->  0 | Confidence Score 0.6522155499025385 \n",
      "\n"
     ]
    },
    {
     "name": "stderr",
     "output_type": "stream",
     "text": [
      "/tmp/ipykernel_62901/1983484597.py:49: FutureWarning: `multichannel` is a deprecated argument name for `hog`. It will be removed in version 1.0. Please use `channel_axis` instead.\n",
      "  fds, img_hog = hog(\n",
      "/tmp/ipykernel_62901/1983484597.py:49: FutureWarning: `multichannel` is a deprecated argument name for `hog`. It will be removed in version 1.0. Please use `channel_axis` instead.\n",
      "  fds, img_hog = hog(\n"
     ]
    },
    {
     "name": "stdout",
     "output_type": "stream",
     "text": [
      "Detection:: Location -> (440, 320)\n",
      "Scale ->  0 | Confidence Score 0.6005281485239616 \n",
      "\n",
      "Detection:: Location -> (460, 320)\n",
      "Scale ->  0 | Confidence Score 0.6119741908576782 \n",
      "\n"
     ]
    },
    {
     "name": "stderr",
     "output_type": "stream",
     "text": [
      "/tmp/ipykernel_62901/1983484597.py:49: FutureWarning: `multichannel` is a deprecated argument name for `hog`. It will be removed in version 1.0. Please use `channel_axis` instead.\n",
      "  fds, img_hog = hog(\n",
      "/tmp/ipykernel_62901/1983484597.py:49: FutureWarning: `multichannel` is a deprecated argument name for `hog`. It will be removed in version 1.0. Please use `channel_axis` instead.\n",
      "  fds, img_hog = hog(\n",
      "/tmp/ipykernel_62901/1983484597.py:49: FutureWarning: `multichannel` is a deprecated argument name for `hog`. It will be removed in version 1.0. Please use `channel_axis` instead.\n",
      "  fds, img_hog = hog(\n",
      "/tmp/ipykernel_62901/1983484597.py:49: FutureWarning: `multichannel` is a deprecated argument name for `hog`. It will be removed in version 1.0. Please use `channel_axis` instead.\n",
      "  fds, img_hog = hog(\n"
     ]
    },
    {
     "name": "stdout",
     "output_type": "stream",
     "text": [
      "Detection:: Location -> (500, 320)\n",
      "Scale ->  0 | Confidence Score 0.6693235302841307 \n",
      "\n",
      "Detection:: Location -> (520, 320)\n",
      "Scale ->  0 | Confidence Score 0.6132380431328215 \n",
      "\n"
     ]
    },
    {
     "name": "stderr",
     "output_type": "stream",
     "text": [
      "/tmp/ipykernel_62901/1983484597.py:49: FutureWarning: `multichannel` is a deprecated argument name for `hog`. It will be removed in version 1.0. Please use `channel_axis` instead.\n",
      "  fds, img_hog = hog(\n",
      "/tmp/ipykernel_62901/1983484597.py:49: FutureWarning: `multichannel` is a deprecated argument name for `hog`. It will be removed in version 1.0. Please use `channel_axis` instead.\n",
      "  fds, img_hog = hog(\n"
     ]
    },
    {
     "name": "stdout",
     "output_type": "stream",
     "text": [
      "Detection:: Location -> (540, 320)\n",
      "Scale ->  0 | Confidence Score 0.6808203927528994 \n",
      "\n",
      "Detection:: Location -> (560, 320)\n",
      "Scale ->  0 | Confidence Score 0.6356716217808805 \n",
      "\n"
     ]
    },
    {
     "name": "stderr",
     "output_type": "stream",
     "text": [
      "/tmp/ipykernel_62901/1983484597.py:49: FutureWarning: `multichannel` is a deprecated argument name for `hog`. It will be removed in version 1.0. Please use `channel_axis` instead.\n",
      "  fds, img_hog = hog(\n",
      "/tmp/ipykernel_62901/1983484597.py:49: FutureWarning: `multichannel` is a deprecated argument name for `hog`. It will be removed in version 1.0. Please use `channel_axis` instead.\n",
      "  fds, img_hog = hog(\n"
     ]
    },
    {
     "name": "stdout",
     "output_type": "stream",
     "text": [
      "Detection:: Location -> (580, 320)\n",
      "Scale ->  0 | Confidence Score 0.6417665594080746 \n",
      "\n"
     ]
    },
    {
     "name": "stderr",
     "output_type": "stream",
     "text": [
      "/tmp/ipykernel_62901/1983484597.py:49: FutureWarning: `multichannel` is a deprecated argument name for `hog`. It will be removed in version 1.0. Please use `channel_axis` instead.\n",
      "  fds, img_hog = hog(\n",
      "/tmp/ipykernel_62901/1983484597.py:49: FutureWarning: `multichannel` is a deprecated argument name for `hog`. It will be removed in version 1.0. Please use `channel_axis` instead.\n",
      "  fds, img_hog = hog(\n"
     ]
    },
    {
     "name": "stdout",
     "output_type": "stream",
     "text": [
      "Detection:: Location -> (620, 320)\n",
      "Scale ->  0 | Confidence Score 0.6072076754163391 \n",
      "\n"
     ]
    },
    {
     "name": "stderr",
     "output_type": "stream",
     "text": [
      "/tmp/ipykernel_62901/1983484597.py:49: FutureWarning: `multichannel` is a deprecated argument name for `hog`. It will be removed in version 1.0. Please use `channel_axis` instead.\n",
      "  fds, img_hog = hog(\n",
      "/tmp/ipykernel_62901/1983484597.py:49: FutureWarning: `multichannel` is a deprecated argument name for `hog`. It will be removed in version 1.0. Please use `channel_axis` instead.\n",
      "  fds, img_hog = hog(\n"
     ]
    },
    {
     "name": "stdout",
     "output_type": "stream",
     "text": [
      "Detection:: Location -> (660, 320)\n",
      "Scale ->  0 | Confidence Score 0.6358247909919991 \n",
      "\n"
     ]
    },
    {
     "name": "stderr",
     "output_type": "stream",
     "text": [
      "/tmp/ipykernel_62901/1983484597.py:49: FutureWarning: `multichannel` is a deprecated argument name for `hog`. It will be removed in version 1.0. Please use `channel_axis` instead.\n",
      "  fds, img_hog = hog(\n",
      "/tmp/ipykernel_62901/1983484597.py:49: FutureWarning: `multichannel` is a deprecated argument name for `hog`. It will be removed in version 1.0. Please use `channel_axis` instead.\n",
      "  fds, img_hog = hog(\n",
      "/tmp/ipykernel_62901/1983484597.py:49: FutureWarning: `multichannel` is a deprecated argument name for `hog`. It will be removed in version 1.0. Please use `channel_axis` instead.\n",
      "  fds, img_hog = hog(\n",
      "/tmp/ipykernel_62901/1983484597.py:49: FutureWarning: `multichannel` is a deprecated argument name for `hog`. It will be removed in version 1.0. Please use `channel_axis` instead.\n",
      "  fds, img_hog = hog(\n"
     ]
    },
    {
     "name": "stdout",
     "output_type": "stream",
     "text": [
      "Detection:: Location -> (740, 320)\n",
      "Scale ->  0 | Confidence Score 0.6132048653241927 \n",
      "\n",
      "Detection:: Location -> (760, 320)\n",
      "Scale ->  0 | Confidence Score 0.6201277356575606 \n",
      "\n",
      "Detection:: Location -> (780, 320)\n",
      "Scale ->  0 | Confidence Score 0.7012611540857364 \n",
      "\n"
     ]
    },
    {
     "name": "stderr",
     "output_type": "stream",
     "text": [
      "/tmp/ipykernel_62901/1983484597.py:49: FutureWarning: `multichannel` is a deprecated argument name for `hog`. It will be removed in version 1.0. Please use `channel_axis` instead.\n",
      "  fds, img_hog = hog(\n",
      "/tmp/ipykernel_62901/1983484597.py:49: FutureWarning: `multichannel` is a deprecated argument name for `hog`. It will be removed in version 1.0. Please use `channel_axis` instead.\n",
      "  fds, img_hog = hog(\n"
     ]
    },
    {
     "name": "stdout",
     "output_type": "stream",
     "text": [
      "Detection:: Location -> (800, 320)\n",
      "Scale ->  0 | Confidence Score 0.6604866160706763 \n",
      "\n",
      "Detection:: Location -> (820, 320)\n",
      "Scale ->  0 | Confidence Score 0.6968188609576937 \n",
      "\n"
     ]
    },
    {
     "name": "stderr",
     "output_type": "stream",
     "text": [
      "/tmp/ipykernel_62901/1983484597.py:49: FutureWarning: `multichannel` is a deprecated argument name for `hog`. It will be removed in version 1.0. Please use `channel_axis` instead.\n",
      "  fds, img_hog = hog(\n",
      "/tmp/ipykernel_62901/1983484597.py:49: FutureWarning: `multichannel` is a deprecated argument name for `hog`. It will be removed in version 1.0. Please use `channel_axis` instead.\n",
      "  fds, img_hog = hog(\n",
      "/tmp/ipykernel_62901/1983484597.py:49: FutureWarning: `multichannel` is a deprecated argument name for `hog`. It will be removed in version 1.0. Please use `channel_axis` instead.\n",
      "  fds, img_hog = hog(\n",
      "/tmp/ipykernel_62901/1983484597.py:49: FutureWarning: `multichannel` is a deprecated argument name for `hog`. It will be removed in version 1.0. Please use `channel_axis` instead.\n",
      "  fds, img_hog = hog(\n",
      "/tmp/ipykernel_62901/1983484597.py:49: FutureWarning: `multichannel` is a deprecated argument name for `hog`. It will be removed in version 1.0. Please use `channel_axis` instead.\n",
      "  fds, img_hog = hog(\n",
      "/tmp/ipykernel_62901/1983484597.py:49: FutureWarning: `multichannel` is a deprecated argument name for `hog`. It will be removed in version 1.0. Please use `channel_axis` instead.\n",
      "  fds, img_hog = hog(\n"
     ]
    },
    {
     "name": "stdout",
     "output_type": "stream",
     "text": [
      "Detection:: Location -> (900, 320)\n",
      "Scale ->  0 | Confidence Score 0.6354663827844889 \n",
      "\n"
     ]
    },
    {
     "name": "stderr",
     "output_type": "stream",
     "text": [
      "/tmp/ipykernel_62901/1983484597.py:49: FutureWarning: `multichannel` is a deprecated argument name for `hog`. It will be removed in version 1.0. Please use `channel_axis` instead.\n",
      "  fds, img_hog = hog(\n",
      "/tmp/ipykernel_62901/1983484597.py:49: FutureWarning: `multichannel` is a deprecated argument name for `hog`. It will be removed in version 1.0. Please use `channel_axis` instead.\n",
      "  fds, img_hog = hog(\n"
     ]
    },
    {
     "name": "stdout",
     "output_type": "stream",
     "text": [
      "Detection:: Location -> (20, 340)\n",
      "Scale ->  0 | Confidence Score 0.7013957027644311 \n",
      "\n"
     ]
    },
    {
     "name": "stderr",
     "output_type": "stream",
     "text": [
      "/tmp/ipykernel_62901/1983484597.py:49: FutureWarning: `multichannel` is a deprecated argument name for `hog`. It will be removed in version 1.0. Please use `channel_axis` instead.\n",
      "  fds, img_hog = hog(\n"
     ]
    },
    {
     "name": "stdout",
     "output_type": "stream",
     "text": [
      "Detection:: Location -> (40, 340)\n",
      "Scale ->  0 | Confidence Score 0.7479881600211598 \n",
      "\n"
     ]
    },
    {
     "name": "stderr",
     "output_type": "stream",
     "text": [
      "/tmp/ipykernel_62901/1983484597.py:49: FutureWarning: `multichannel` is a deprecated argument name for `hog`. It will be removed in version 1.0. Please use `channel_axis` instead.\n",
      "  fds, img_hog = hog(\n"
     ]
    },
    {
     "name": "stdout",
     "output_type": "stream",
     "text": [
      "Detection:: Location -> (60, 340)\n",
      "Scale ->  0 | Confidence Score 0.7521229763935102 \n",
      "\n"
     ]
    },
    {
     "name": "stderr",
     "output_type": "stream",
     "text": [
      "/tmp/ipykernel_62901/1983484597.py:49: FutureWarning: `multichannel` is a deprecated argument name for `hog`. It will be removed in version 1.0. Please use `channel_axis` instead.\n",
      "  fds, img_hog = hog(\n"
     ]
    },
    {
     "name": "stdout",
     "output_type": "stream",
     "text": [
      "Detection:: Location -> (80, 340)\n",
      "Scale ->  0 | Confidence Score 0.7361788325036581 \n",
      "\n"
     ]
    },
    {
     "name": "stderr",
     "output_type": "stream",
     "text": [
      "/tmp/ipykernel_62901/1983484597.py:49: FutureWarning: `multichannel` is a deprecated argument name for `hog`. It will be removed in version 1.0. Please use `channel_axis` instead.\n",
      "  fds, img_hog = hog(\n"
     ]
    },
    {
     "name": "stdout",
     "output_type": "stream",
     "text": [
      "Detection:: Location -> (100, 340)\n",
      "Scale ->  0 | Confidence Score 0.8189662982495652 \n",
      "\n"
     ]
    },
    {
     "name": "stderr",
     "output_type": "stream",
     "text": [
      "/tmp/ipykernel_62901/1983484597.py:49: FutureWarning: `multichannel` is a deprecated argument name for `hog`. It will be removed in version 1.0. Please use `channel_axis` instead.\n",
      "  fds, img_hog = hog(\n"
     ]
    },
    {
     "name": "stdout",
     "output_type": "stream",
     "text": [
      "Detection:: Location -> (120, 340)\n",
      "Scale ->  0 | Confidence Score 0.7924500051420048 \n",
      "\n"
     ]
    },
    {
     "name": "stderr",
     "output_type": "stream",
     "text": [
      "/tmp/ipykernel_62901/1983484597.py:49: FutureWarning: `multichannel` is a deprecated argument name for `hog`. It will be removed in version 1.0. Please use `channel_axis` instead.\n",
      "  fds, img_hog = hog(\n"
     ]
    },
    {
     "name": "stdout",
     "output_type": "stream",
     "text": [
      "Detection:: Location -> (140, 340)\n",
      "Scale ->  0 | Confidence Score 0.7368873001486193 \n",
      "\n"
     ]
    },
    {
     "name": "stderr",
     "output_type": "stream",
     "text": [
      "/tmp/ipykernel_62901/1983484597.py:49: FutureWarning: `multichannel` is a deprecated argument name for `hog`. It will be removed in version 1.0. Please use `channel_axis` instead.\n",
      "  fds, img_hog = hog(\n"
     ]
    },
    {
     "name": "stdout",
     "output_type": "stream",
     "text": [
      "Detection:: Location -> (160, 340)\n",
      "Scale ->  0 | Confidence Score 0.7349429166324095 \n",
      "\n",
      "Detection:: Location -> (180, 340)\n",
      "Scale ->  0 | Confidence Score 0.6917765546419684 \n",
      "\n"
     ]
    },
    {
     "name": "stderr",
     "output_type": "stream",
     "text": [
      "/tmp/ipykernel_62901/1983484597.py:49: FutureWarning: `multichannel` is a deprecated argument name for `hog`. It will be removed in version 1.0. Please use `channel_axis` instead.\n",
      "  fds, img_hog = hog(\n",
      "/tmp/ipykernel_62901/1983484597.py:49: FutureWarning: `multichannel` is a deprecated argument name for `hog`. It will be removed in version 1.0. Please use `channel_axis` instead.\n",
      "  fds, img_hog = hog(\n"
     ]
    },
    {
     "name": "stdout",
     "output_type": "stream",
     "text": [
      "Detection:: Location -> (200, 340)\n",
      "Scale ->  0 | Confidence Score 0.6806716598713933 \n",
      "\n",
      "Detection:: Location -> (220, 340)\n",
      "Scale ->  0 | Confidence Score 0.6971169980999841 \n",
      "\n"
     ]
    },
    {
     "name": "stderr",
     "output_type": "stream",
     "text": [
      "/tmp/ipykernel_62901/1983484597.py:49: FutureWarning: `multichannel` is a deprecated argument name for `hog`. It will be removed in version 1.0. Please use `channel_axis` instead.\n",
      "  fds, img_hog = hog(\n",
      "/tmp/ipykernel_62901/1983484597.py:49: FutureWarning: `multichannel` is a deprecated argument name for `hog`. It will be removed in version 1.0. Please use `channel_axis` instead.\n",
      "  fds, img_hog = hog(\n"
     ]
    },
    {
     "name": "stdout",
     "output_type": "stream",
     "text": [
      "Detection:: Location -> (240, 340)\n",
      "Scale ->  0 | Confidence Score 0.7366094700099799 \n",
      "\n",
      "Detection:: Location -> (260, 340)\n",
      "Scale ->  0 | Confidence Score 0.7442436627226142 \n",
      "\n"
     ]
    },
    {
     "name": "stderr",
     "output_type": "stream",
     "text": [
      "/tmp/ipykernel_62901/1983484597.py:49: FutureWarning: `multichannel` is a deprecated argument name for `hog`. It will be removed in version 1.0. Please use `channel_axis` instead.\n",
      "  fds, img_hog = hog(\n",
      "/tmp/ipykernel_62901/1983484597.py:49: FutureWarning: `multichannel` is a deprecated argument name for `hog`. It will be removed in version 1.0. Please use `channel_axis` instead.\n",
      "  fds, img_hog = hog(\n"
     ]
    },
    {
     "name": "stdout",
     "output_type": "stream",
     "text": [
      "Detection:: Location -> (280, 340)\n",
      "Scale ->  0 | Confidence Score 0.6869551386696746 \n",
      "\n",
      "Detection:: Location -> (300, 340)\n",
      "Scale ->  0 | Confidence Score 0.7480135854390307 \n",
      "\n"
     ]
    },
    {
     "name": "stderr",
     "output_type": "stream",
     "text": [
      "/tmp/ipykernel_62901/1983484597.py:49: FutureWarning: `multichannel` is a deprecated argument name for `hog`. It will be removed in version 1.0. Please use `channel_axis` instead.\n",
      "  fds, img_hog = hog(\n",
      "/tmp/ipykernel_62901/1983484597.py:49: FutureWarning: `multichannel` is a deprecated argument name for `hog`. It will be removed in version 1.0. Please use `channel_axis` instead.\n",
      "  fds, img_hog = hog(\n"
     ]
    },
    {
     "name": "stdout",
     "output_type": "stream",
     "text": [
      "Detection:: Location -> (320, 340)\n",
      "Scale ->  0 | Confidence Score 0.648728052820743 \n",
      "\n"
     ]
    },
    {
     "name": "stderr",
     "output_type": "stream",
     "text": [
      "/tmp/ipykernel_62901/1983484597.py:49: FutureWarning: `multichannel` is a deprecated argument name for `hog`. It will be removed in version 1.0. Please use `channel_axis` instead.\n",
      "  fds, img_hog = hog(\n"
     ]
    },
    {
     "name": "stdout",
     "output_type": "stream",
     "text": [
      "Detection:: Location -> (340, 340)\n",
      "Scale ->  0 | Confidence Score 0.6011209208091245 \n",
      "\n"
     ]
    },
    {
     "name": "stderr",
     "output_type": "stream",
     "text": [
      "/tmp/ipykernel_62901/1983484597.py:49: FutureWarning: `multichannel` is a deprecated argument name for `hog`. It will be removed in version 1.0. Please use `channel_axis` instead.\n",
      "  fds, img_hog = hog(\n"
     ]
    },
    {
     "name": "stdout",
     "output_type": "stream",
     "text": [
      "Detection:: Location -> (360, 340)\n",
      "Scale ->  0 | Confidence Score 0.648020969240986 \n",
      "\n",
      "Detection:: Location -> (380, 340)\n",
      "Scale ->  0 | Confidence Score 0.6607957304589853 \n",
      "\n"
     ]
    },
    {
     "name": "stderr",
     "output_type": "stream",
     "text": [
      "/tmp/ipykernel_62901/1983484597.py:49: FutureWarning: `multichannel` is a deprecated argument name for `hog`. It will be removed in version 1.0. Please use `channel_axis` instead.\n",
      "  fds, img_hog = hog(\n",
      "/tmp/ipykernel_62901/1983484597.py:49: FutureWarning: `multichannel` is a deprecated argument name for `hog`. It will be removed in version 1.0. Please use `channel_axis` instead.\n",
      "  fds, img_hog = hog(\n",
      "/tmp/ipykernel_62901/1983484597.py:49: FutureWarning: `multichannel` is a deprecated argument name for `hog`. It will be removed in version 1.0. Please use `channel_axis` instead.\n",
      "  fds, img_hog = hog(\n",
      "/tmp/ipykernel_62901/1983484597.py:49: FutureWarning: `multichannel` is a deprecated argument name for `hog`. It will be removed in version 1.0. Please use `channel_axis` instead.\n",
      "  fds, img_hog = hog(\n",
      "/tmp/ipykernel_62901/1983484597.py:49: FutureWarning: `multichannel` is a deprecated argument name for `hog`. It will be removed in version 1.0. Please use `channel_axis` instead.\n",
      "  fds, img_hog = hog(\n"
     ]
    },
    {
     "name": "stdout",
     "output_type": "stream",
     "text": [
      "Detection:: Location -> (440, 340)\n",
      "Scale ->  0 | Confidence Score 0.672955885141112 \n",
      "\n",
      "Detection:: Location -> (460, 340)\n",
      "Scale ->  0 | Confidence Score 0.6369464305104862 \n",
      "\n",
      "Detection:: Location -> (480, 340)\n",
      "Scale ->  0 | Confidence Score 0.6305557705164808 \n",
      "\n"
     ]
    },
    {
     "name": "stderr",
     "output_type": "stream",
     "text": [
      "/tmp/ipykernel_62901/1983484597.py:49: FutureWarning: `multichannel` is a deprecated argument name for `hog`. It will be removed in version 1.0. Please use `channel_axis` instead.\n",
      "  fds, img_hog = hog(\n",
      "/tmp/ipykernel_62901/1983484597.py:49: FutureWarning: `multichannel` is a deprecated argument name for `hog`. It will be removed in version 1.0. Please use `channel_axis` instead.\n",
      "  fds, img_hog = hog(\n"
     ]
    },
    {
     "name": "stdout",
     "output_type": "stream",
     "text": [
      "Detection:: Location -> (500, 340)\n",
      "Scale ->  0 | Confidence Score 0.6705797909458784 \n",
      "\n"
     ]
    },
    {
     "name": "stderr",
     "output_type": "stream",
     "text": [
      "/tmp/ipykernel_62901/1983484597.py:49: FutureWarning: `multichannel` is a deprecated argument name for `hog`. It will be removed in version 1.0. Please use `channel_axis` instead.\n",
      "  fds, img_hog = hog(\n"
     ]
    },
    {
     "name": "stdout",
     "output_type": "stream",
     "text": [
      "Detection:: Location -> (520, 340)\n",
      "Scale ->  0 | Confidence Score 0.6045632724646829 \n",
      "\n"
     ]
    },
    {
     "name": "stderr",
     "output_type": "stream",
     "text": [
      "/tmp/ipykernel_62901/1983484597.py:49: FutureWarning: `multichannel` is a deprecated argument name for `hog`. It will be removed in version 1.0. Please use `channel_axis` instead.\n",
      "  fds, img_hog = hog(\n"
     ]
    },
    {
     "name": "stdout",
     "output_type": "stream",
     "text": [
      "Detection:: Location -> (540, 340)\n",
      "Scale ->  0 | Confidence Score 0.6656835424445887 \n",
      "\n"
     ]
    },
    {
     "name": "stderr",
     "output_type": "stream",
     "text": [
      "/tmp/ipykernel_62901/1983484597.py:49: FutureWarning: `multichannel` is a deprecated argument name for `hog`. It will be removed in version 1.0. Please use `channel_axis` instead.\n",
      "  fds, img_hog = hog(\n",
      "/tmp/ipykernel_62901/1983484597.py:49: FutureWarning: `multichannel` is a deprecated argument name for `hog`. It will be removed in version 1.0. Please use `channel_axis` instead.\n",
      "  fds, img_hog = hog(\n",
      "/tmp/ipykernel_62901/1983484597.py:49: FutureWarning: `multichannel` is a deprecated argument name for `hog`. It will be removed in version 1.0. Please use `channel_axis` instead.\n",
      "  fds, img_hog = hog(\n",
      "/tmp/ipykernel_62901/1983484597.py:49: FutureWarning: `multichannel` is a deprecated argument name for `hog`. It will be removed in version 1.0. Please use `channel_axis` instead.\n",
      "  fds, img_hog = hog(\n"
     ]
    },
    {
     "name": "stdout",
     "output_type": "stream",
     "text": [
      "Detection:: Location -> (620, 340)\n",
      "Scale ->  0 | Confidence Score 0.618018422214939 \n",
      "\n"
     ]
    },
    {
     "name": "stderr",
     "output_type": "stream",
     "text": [
      "/tmp/ipykernel_62901/1983484597.py:49: FutureWarning: `multichannel` is a deprecated argument name for `hog`. It will be removed in version 1.0. Please use `channel_axis` instead.\n",
      "  fds, img_hog = hog(\n",
      "/tmp/ipykernel_62901/1983484597.py:49: FutureWarning: `multichannel` is a deprecated argument name for `hog`. It will be removed in version 1.0. Please use `channel_axis` instead.\n",
      "  fds, img_hog = hog(\n",
      "/tmp/ipykernel_62901/1983484597.py:49: FutureWarning: `multichannel` is a deprecated argument name for `hog`. It will be removed in version 1.0. Please use `channel_axis` instead.\n",
      "  fds, img_hog = hog(\n",
      "/tmp/ipykernel_62901/1983484597.py:49: FutureWarning: `multichannel` is a deprecated argument name for `hog`. It will be removed in version 1.0. Please use `channel_axis` instead.\n",
      "  fds, img_hog = hog(\n"
     ]
    },
    {
     "name": "stdout",
     "output_type": "stream",
     "text": [
      "Detection:: Location -> (700, 340)\n",
      "Scale ->  0 | Confidence Score 0.6056904165020676 \n",
      "\n"
     ]
    },
    {
     "name": "stderr",
     "output_type": "stream",
     "text": [
      "/tmp/ipykernel_62901/1983484597.py:49: FutureWarning: `multichannel` is a deprecated argument name for `hog`. It will be removed in version 1.0. Please use `channel_axis` instead.\n",
      "  fds, img_hog = hog(\n",
      "/tmp/ipykernel_62901/1983484597.py:49: FutureWarning: `multichannel` is a deprecated argument name for `hog`. It will be removed in version 1.0. Please use `channel_axis` instead.\n",
      "  fds, img_hog = hog(\n",
      "/tmp/ipykernel_62901/1983484597.py:49: FutureWarning: `multichannel` is a deprecated argument name for `hog`. It will be removed in version 1.0. Please use `channel_axis` instead.\n",
      "  fds, img_hog = hog(\n"
     ]
    },
    {
     "name": "stdout",
     "output_type": "stream",
     "text": [
      "Detection:: Location -> (760, 340)\n",
      "Scale ->  0 | Confidence Score 0.6043220916845169 \n",
      "\n"
     ]
    },
    {
     "name": "stderr",
     "output_type": "stream",
     "text": [
      "/tmp/ipykernel_62901/1983484597.py:49: FutureWarning: `multichannel` is a deprecated argument name for `hog`. It will be removed in version 1.0. Please use `channel_axis` instead.\n",
      "  fds, img_hog = hog(\n",
      "/tmp/ipykernel_62901/1983484597.py:49: FutureWarning: `multichannel` is a deprecated argument name for `hog`. It will be removed in version 1.0. Please use `channel_axis` instead.\n",
      "  fds, img_hog = hog(\n"
     ]
    },
    {
     "name": "stdout",
     "output_type": "stream",
     "text": [
      "Detection:: Location -> (800, 340)\n",
      "Scale ->  0 | Confidence Score 0.620904692965531 \n",
      "\n"
     ]
    },
    {
     "name": "stderr",
     "output_type": "stream",
     "text": [
      "/tmp/ipykernel_62901/1983484597.py:49: FutureWarning: `multichannel` is a deprecated argument name for `hog`. It will be removed in version 1.0. Please use `channel_axis` instead.\n",
      "  fds, img_hog = hog(\n"
     ]
    },
    {
     "name": "stdout",
     "output_type": "stream",
     "text": [
      "Detection:: Location -> (820, 340)\n",
      "Scale ->  0 | Confidence Score 0.6290130638027434 \n",
      "\n"
     ]
    },
    {
     "name": "stderr",
     "output_type": "stream",
     "text": [
      "/tmp/ipykernel_62901/1983484597.py:49: FutureWarning: `multichannel` is a deprecated argument name for `hog`. It will be removed in version 1.0. Please use `channel_axis` instead.\n",
      "  fds, img_hog = hog(\n",
      "/tmp/ipykernel_62901/1983484597.py:49: FutureWarning: `multichannel` is a deprecated argument name for `hog`. It will be removed in version 1.0. Please use `channel_axis` instead.\n",
      "  fds, img_hog = hog(\n",
      "/tmp/ipykernel_62901/1983484597.py:49: FutureWarning: `multichannel` is a deprecated argument name for `hog`. It will be removed in version 1.0. Please use `channel_axis` instead.\n",
      "  fds, img_hog = hog(\n",
      "/tmp/ipykernel_62901/1983484597.py:49: FutureWarning: `multichannel` is a deprecated argument name for `hog`. It will be removed in version 1.0. Please use `channel_axis` instead.\n",
      "  fds, img_hog = hog(\n",
      "/tmp/ipykernel_62901/1983484597.py:49: FutureWarning: `multichannel` is a deprecated argument name for `hog`. It will be removed in version 1.0. Please use `channel_axis` instead.\n",
      "  fds, img_hog = hog(\n",
      "/tmp/ipykernel_62901/1983484597.py:49: FutureWarning: `multichannel` is a deprecated argument name for `hog`. It will be removed in version 1.0. Please use `channel_axis` instead.\n",
      "  fds, img_hog = hog(\n",
      "/tmp/ipykernel_62901/1983484597.py:49: FutureWarning: `multichannel` is a deprecated argument name for `hog`. It will be removed in version 1.0. Please use `channel_axis` instead.\n",
      "  fds, img_hog = hog(\n"
     ]
    },
    {
     "name": "stdout",
     "output_type": "stream",
     "text": [
      "Detection:: Location -> (20, 360)\n",
      "Scale ->  0 | Confidence Score 0.7700691054602931 \n",
      "\n",
      "Detection:: Location -> (40, 360)\n",
      "Scale ->  0 | Confidence Score 0.7275499163015214 \n",
      "\n"
     ]
    },
    {
     "name": "stderr",
     "output_type": "stream",
     "text": [
      "/tmp/ipykernel_62901/1983484597.py:49: FutureWarning: `multichannel` is a deprecated argument name for `hog`. It will be removed in version 1.0. Please use `channel_axis` instead.\n",
      "  fds, img_hog = hog(\n",
      "/tmp/ipykernel_62901/1983484597.py:49: FutureWarning: `multichannel` is a deprecated argument name for `hog`. It will be removed in version 1.0. Please use `channel_axis` instead.\n",
      "  fds, img_hog = hog(\n"
     ]
    },
    {
     "name": "stdout",
     "output_type": "stream",
     "text": [
      "Detection:: Location -> (60, 360)\n",
      "Scale ->  0 | Confidence Score 0.7253836101944325 \n",
      "\n",
      "Detection:: Location -> (80, 360)\n",
      "Scale ->  0 | Confidence Score 0.8168357382001356 \n",
      "\n"
     ]
    },
    {
     "name": "stderr",
     "output_type": "stream",
     "text": [
      "/tmp/ipykernel_62901/1983484597.py:49: FutureWarning: `multichannel` is a deprecated argument name for `hog`. It will be removed in version 1.0. Please use `channel_axis` instead.\n",
      "  fds, img_hog = hog(\n",
      "/tmp/ipykernel_62901/1983484597.py:49: FutureWarning: `multichannel` is a deprecated argument name for `hog`. It will be removed in version 1.0. Please use `channel_axis` instead.\n",
      "  fds, img_hog = hog(\n"
     ]
    },
    {
     "name": "stdout",
     "output_type": "stream",
     "text": [
      "Detection:: Location -> (100, 360)\n",
      "Scale ->  0 | Confidence Score 0.8027254650246357 \n",
      "\n",
      "Detection:: Location -> (120, 360)\n",
      "Scale ->  0 | Confidence Score 0.753307540090538 \n",
      "\n"
     ]
    },
    {
     "name": "stderr",
     "output_type": "stream",
     "text": [
      "/tmp/ipykernel_62901/1983484597.py:49: FutureWarning: `multichannel` is a deprecated argument name for `hog`. It will be removed in version 1.0. Please use `channel_axis` instead.\n",
      "  fds, img_hog = hog(\n",
      "/tmp/ipykernel_62901/1983484597.py:49: FutureWarning: `multichannel` is a deprecated argument name for `hog`. It will be removed in version 1.0. Please use `channel_axis` instead.\n",
      "  fds, img_hog = hog(\n"
     ]
    },
    {
     "name": "stdout",
     "output_type": "stream",
     "text": [
      "Detection:: Location -> (140, 360)\n",
      "Scale ->  0 | Confidence Score 0.7131462034160034 \n",
      "\n",
      "Detection:: Location -> (160, 360)\n",
      "Scale ->  0 | Confidence Score 0.6942034572722676 \n",
      "\n"
     ]
    },
    {
     "name": "stderr",
     "output_type": "stream",
     "text": [
      "/tmp/ipykernel_62901/1983484597.py:49: FutureWarning: `multichannel` is a deprecated argument name for `hog`. It will be removed in version 1.0. Please use `channel_axis` instead.\n",
      "  fds, img_hog = hog(\n",
      "/tmp/ipykernel_62901/1983484597.py:49: FutureWarning: `multichannel` is a deprecated argument name for `hog`. It will be removed in version 1.0. Please use `channel_axis` instead.\n",
      "  fds, img_hog = hog(\n"
     ]
    },
    {
     "name": "stdout",
     "output_type": "stream",
     "text": [
      "Detection:: Location -> (180, 360)\n",
      "Scale ->  0 | Confidence Score 0.6725924642304378 \n",
      "\n"
     ]
    },
    {
     "name": "stderr",
     "output_type": "stream",
     "text": [
      "/tmp/ipykernel_62901/1983484597.py:49: FutureWarning: `multichannel` is a deprecated argument name for `hog`. It will be removed in version 1.0. Please use `channel_axis` instead.\n",
      "  fds, img_hog = hog(\n"
     ]
    },
    {
     "name": "stdout",
     "output_type": "stream",
     "text": [
      "Detection:: Location -> (200, 360)\n",
      "Scale ->  0 | Confidence Score 0.704038034059065 \n",
      "\n"
     ]
    },
    {
     "name": "stderr",
     "output_type": "stream",
     "text": [
      "/tmp/ipykernel_62901/1983484597.py:49: FutureWarning: `multichannel` is a deprecated argument name for `hog`. It will be removed in version 1.0. Please use `channel_axis` instead.\n",
      "  fds, img_hog = hog(\n"
     ]
    },
    {
     "name": "stdout",
     "output_type": "stream",
     "text": [
      "Detection:: Location -> (220, 360)\n",
      "Scale ->  0 | Confidence Score 0.695787167641409 \n",
      "\n"
     ]
    },
    {
     "name": "stderr",
     "output_type": "stream",
     "text": [
      "/tmp/ipykernel_62901/1983484597.py:49: FutureWarning: `multichannel` is a deprecated argument name for `hog`. It will be removed in version 1.0. Please use `channel_axis` instead.\n",
      "  fds, img_hog = hog(\n"
     ]
    },
    {
     "name": "stdout",
     "output_type": "stream",
     "text": [
      "Detection:: Location -> (240, 360)\n",
      "Scale ->  0 | Confidence Score 0.6991995976835459 \n",
      "\n"
     ]
    },
    {
     "name": "stderr",
     "output_type": "stream",
     "text": [
      "/tmp/ipykernel_62901/1983484597.py:49: FutureWarning: `multichannel` is a deprecated argument name for `hog`. It will be removed in version 1.0. Please use `channel_axis` instead.\n",
      "  fds, img_hog = hog(\n"
     ]
    },
    {
     "name": "stdout",
     "output_type": "stream",
     "text": [
      "Detection:: Location -> (260, 360)\n",
      "Scale ->  0 | Confidence Score 0.705932978230915 \n",
      "\n"
     ]
    },
    {
     "name": "stderr",
     "output_type": "stream",
     "text": [
      "/tmp/ipykernel_62901/1983484597.py:49: FutureWarning: `multichannel` is a deprecated argument name for `hog`. It will be removed in version 1.0. Please use `channel_axis` instead.\n",
      "  fds, img_hog = hog(\n"
     ]
    },
    {
     "name": "stdout",
     "output_type": "stream",
     "text": [
      "Detection:: Location -> (280, 360)\n",
      "Scale ->  0 | Confidence Score 0.6371991409632429 \n",
      "\n"
     ]
    },
    {
     "name": "stderr",
     "output_type": "stream",
     "text": [
      "/tmp/ipykernel_62901/1983484597.py:49: FutureWarning: `multichannel` is a deprecated argument name for `hog`. It will be removed in version 1.0. Please use `channel_axis` instead.\n",
      "  fds, img_hog = hog(\n"
     ]
    },
    {
     "name": "stdout",
     "output_type": "stream",
     "text": [
      "Detection:: Location -> (300, 360)\n",
      "Scale ->  0 | Confidence Score 0.633616633194489 \n",
      "\n"
     ]
    },
    {
     "name": "stderr",
     "output_type": "stream",
     "text": [
      "/tmp/ipykernel_62901/1983484597.py:49: FutureWarning: `multichannel` is a deprecated argument name for `hog`. It will be removed in version 1.0. Please use `channel_axis` instead.\n",
      "  fds, img_hog = hog(\n",
      "/tmp/ipykernel_62901/1983484597.py:49: FutureWarning: `multichannel` is a deprecated argument name for `hog`. It will be removed in version 1.0. Please use `channel_axis` instead.\n",
      "  fds, img_hog = hog(\n",
      "/tmp/ipykernel_62901/1983484597.py:49: FutureWarning: `multichannel` is a deprecated argument name for `hog`. It will be removed in version 1.0. Please use `channel_axis` instead.\n",
      "  fds, img_hog = hog(\n",
      "/tmp/ipykernel_62901/1983484597.py:49: FutureWarning: `multichannel` is a deprecated argument name for `hog`. It will be removed in version 1.0. Please use `channel_axis` instead.\n",
      "  fds, img_hog = hog(\n",
      "/tmp/ipykernel_62901/1983484597.py:49: FutureWarning: `multichannel` is a deprecated argument name for `hog`. It will be removed in version 1.0. Please use `channel_axis` instead.\n",
      "  fds, img_hog = hog(\n",
      "/tmp/ipykernel_62901/1983484597.py:49: FutureWarning: `multichannel` is a deprecated argument name for `hog`. It will be removed in version 1.0. Please use `channel_axis` instead.\n",
      "  fds, img_hog = hog(\n",
      "/tmp/ipykernel_62901/1983484597.py:49: FutureWarning: `multichannel` is a deprecated argument name for `hog`. It will be removed in version 1.0. Please use `channel_axis` instead.\n",
      "  fds, img_hog = hog(\n",
      "/tmp/ipykernel_62901/1983484597.py:49: FutureWarning: `multichannel` is a deprecated argument name for `hog`. It will be removed in version 1.0. Please use `channel_axis` instead.\n",
      "  fds, img_hog = hog(\n",
      "/tmp/ipykernel_62901/1983484597.py:49: FutureWarning: `multichannel` is a deprecated argument name for `hog`. It will be removed in version 1.0. Please use `channel_axis` instead.\n",
      "  fds, img_hog = hog(\n",
      "/tmp/ipykernel_62901/1983484597.py:49: FutureWarning: `multichannel` is a deprecated argument name for `hog`. It will be removed in version 1.0. Please use `channel_axis` instead.\n",
      "  fds, img_hog = hog(\n",
      "/tmp/ipykernel_62901/1983484597.py:49: FutureWarning: `multichannel` is a deprecated argument name for `hog`. It will be removed in version 1.0. Please use `channel_axis` instead.\n",
      "  fds, img_hog = hog(\n",
      "/tmp/ipykernel_62901/1983484597.py:49: FutureWarning: `multichannel` is a deprecated argument name for `hog`. It will be removed in version 1.0. Please use `channel_axis` instead.\n",
      "  fds, img_hog = hog(\n",
      "/tmp/ipykernel_62901/1983484597.py:49: FutureWarning: `multichannel` is a deprecated argument name for `hog`. It will be removed in version 1.0. Please use `channel_axis` instead.\n",
      "  fds, img_hog = hog(\n",
      "/tmp/ipykernel_62901/1983484597.py:49: FutureWarning: `multichannel` is a deprecated argument name for `hog`. It will be removed in version 1.0. Please use `channel_axis` instead.\n",
      "  fds, img_hog = hog(\n",
      "/tmp/ipykernel_62901/1983484597.py:49: FutureWarning: `multichannel` is a deprecated argument name for `hog`. It will be removed in version 1.0. Please use `channel_axis` instead.\n",
      "  fds, img_hog = hog(\n",
      "/tmp/ipykernel_62901/1983484597.py:49: FutureWarning: `multichannel` is a deprecated argument name for `hog`. It will be removed in version 1.0. Please use `channel_axis` instead.\n",
      "  fds, img_hog = hog(\n",
      "/tmp/ipykernel_62901/1983484597.py:49: FutureWarning: `multichannel` is a deprecated argument name for `hog`. It will be removed in version 1.0. Please use `channel_axis` instead.\n",
      "  fds, img_hog = hog(\n"
     ]
    },
    {
     "name": "stdout",
     "output_type": "stream",
     "text": [
      "Detection:: Location -> (620, 360)\n",
      "Scale ->  0 | Confidence Score 0.6108205109453556 \n",
      "\n"
     ]
    },
    {
     "name": "stderr",
     "output_type": "stream",
     "text": [
      "/tmp/ipykernel_62901/1983484597.py:49: FutureWarning: `multichannel` is a deprecated argument name for `hog`. It will be removed in version 1.0. Please use `channel_axis` instead.\n",
      "  fds, img_hog = hog(\n",
      "/tmp/ipykernel_62901/1983484597.py:49: FutureWarning: `multichannel` is a deprecated argument name for `hog`. It will be removed in version 1.0. Please use `channel_axis` instead.\n",
      "  fds, img_hog = hog(\n",
      "/tmp/ipykernel_62901/1983484597.py:49: FutureWarning: `multichannel` is a deprecated argument name for `hog`. It will be removed in version 1.0. Please use `channel_axis` instead.\n",
      "  fds, img_hog = hog(\n",
      "/tmp/ipykernel_62901/1983484597.py:49: FutureWarning: `multichannel` is a deprecated argument name for `hog`. It will be removed in version 1.0. Please use `channel_axis` instead.\n",
      "  fds, img_hog = hog(\n",
      "/tmp/ipykernel_62901/1983484597.py:49: FutureWarning: `multichannel` is a deprecated argument name for `hog`. It will be removed in version 1.0. Please use `channel_axis` instead.\n",
      "  fds, img_hog = hog(\n",
      "/tmp/ipykernel_62901/1983484597.py:49: FutureWarning: `multichannel` is a deprecated argument name for `hog`. It will be removed in version 1.0. Please use `channel_axis` instead.\n",
      "  fds, img_hog = hog(\n",
      "/tmp/ipykernel_62901/1983484597.py:49: FutureWarning: `multichannel` is a deprecated argument name for `hog`. It will be removed in version 1.0. Please use `channel_axis` instead.\n",
      "  fds, img_hog = hog(\n"
     ]
    },
    {
     "name": "stdout",
     "output_type": "stream",
     "text": [
      "Detection:: Location -> (780, 360)\n",
      "Scale ->  0 | Confidence Score 0.612768988121854 \n",
      "\n"
     ]
    },
    {
     "name": "stderr",
     "output_type": "stream",
     "text": [
      "/tmp/ipykernel_62901/1983484597.py:49: FutureWarning: `multichannel` is a deprecated argument name for `hog`. It will be removed in version 1.0. Please use `channel_axis` instead.\n",
      "  fds, img_hog = hog(\n",
      "/tmp/ipykernel_62901/1983484597.py:49: FutureWarning: `multichannel` is a deprecated argument name for `hog`. It will be removed in version 1.0. Please use `channel_axis` instead.\n",
      "  fds, img_hog = hog(\n"
     ]
    },
    {
     "name": "stdout",
     "output_type": "stream",
     "text": [
      "Detection:: Location -> (820, 360)\n",
      "Scale ->  0 | Confidence Score 0.6141751309929553 \n",
      "\n"
     ]
    },
    {
     "name": "stderr",
     "output_type": "stream",
     "text": [
      "/tmp/ipykernel_62901/1983484597.py:49: FutureWarning: `multichannel` is a deprecated argument name for `hog`. It will be removed in version 1.0. Please use `channel_axis` instead.\n",
      "  fds, img_hog = hog(\n",
      "/tmp/ipykernel_62901/1983484597.py:49: FutureWarning: `multichannel` is a deprecated argument name for `hog`. It will be removed in version 1.0. Please use `channel_axis` instead.\n",
      "  fds, img_hog = hog(\n",
      "/tmp/ipykernel_62901/1983484597.py:49: FutureWarning: `multichannel` is a deprecated argument name for `hog`. It will be removed in version 1.0. Please use `channel_axis` instead.\n",
      "  fds, img_hog = hog(\n",
      "/tmp/ipykernel_62901/1983484597.py:49: FutureWarning: `multichannel` is a deprecated argument name for `hog`. It will be removed in version 1.0. Please use `channel_axis` instead.\n",
      "  fds, img_hog = hog(\n"
     ]
    },
    {
     "name": "stdout",
     "output_type": "stream",
     "text": [
      "Detection:: Location -> (900, 360)\n",
      "Scale ->  0 | Confidence Score 0.6033036665505263 \n",
      "\n"
     ]
    },
    {
     "name": "stderr",
     "output_type": "stream",
     "text": [
      "/tmp/ipykernel_62901/1983484597.py:49: FutureWarning: `multichannel` is a deprecated argument name for `hog`. It will be removed in version 1.0. Please use `channel_axis` instead.\n",
      "  fds, img_hog = hog(\n",
      "/tmp/ipykernel_62901/1983484597.py:49: FutureWarning: `multichannel` is a deprecated argument name for `hog`. It will be removed in version 1.0. Please use `channel_axis` instead.\n",
      "  fds, img_hog = hog(\n"
     ]
    },
    {
     "name": "stdout",
     "output_type": "stream",
     "text": [
      "Detection:: Location -> (0, 380)\n",
      "Scale ->  0 | Confidence Score 0.6452437173078193 \n",
      "\n"
     ]
    },
    {
     "name": "stderr",
     "output_type": "stream",
     "text": [
      "/tmp/ipykernel_62901/1983484597.py:49: FutureWarning: `multichannel` is a deprecated argument name for `hog`. It will be removed in version 1.0. Please use `channel_axis` instead.\n",
      "  fds, img_hog = hog(\n"
     ]
    },
    {
     "name": "stdout",
     "output_type": "stream",
     "text": [
      "Detection:: Location -> (20, 380)\n",
      "Scale ->  0 | Confidence Score 0.7493577890880307 \n",
      "\n"
     ]
    },
    {
     "name": "stderr",
     "output_type": "stream",
     "text": [
      "/tmp/ipykernel_62901/1983484597.py:49: FutureWarning: `multichannel` is a deprecated argument name for `hog`. It will be removed in version 1.0. Please use `channel_axis` instead.\n",
      "  fds, img_hog = hog(\n"
     ]
    },
    {
     "name": "stdout",
     "output_type": "stream",
     "text": [
      "Detection:: Location -> (40, 380)\n",
      "Scale ->  0 | Confidence Score 0.7054863152150606 \n",
      "\n"
     ]
    },
    {
     "name": "stderr",
     "output_type": "stream",
     "text": [
      "/tmp/ipykernel_62901/1983484597.py:49: FutureWarning: `multichannel` is a deprecated argument name for `hog`. It will be removed in version 1.0. Please use `channel_axis` instead.\n",
      "  fds, img_hog = hog(\n"
     ]
    },
    {
     "name": "stdout",
     "output_type": "stream",
     "text": [
      "Detection:: Location -> (60, 380)\n",
      "Scale ->  0 | Confidence Score 0.7520792168517106 \n",
      "\n"
     ]
    },
    {
     "name": "stderr",
     "output_type": "stream",
     "text": [
      "/tmp/ipykernel_62901/1983484597.py:49: FutureWarning: `multichannel` is a deprecated argument name for `hog`. It will be removed in version 1.0. Please use `channel_axis` instead.\n",
      "  fds, img_hog = hog(\n"
     ]
    },
    {
     "name": "stdout",
     "output_type": "stream",
     "text": [
      "Detection:: Location -> (80, 380)\n",
      "Scale ->  0 | Confidence Score 0.7657319211691427 \n",
      "\n"
     ]
    },
    {
     "name": "stderr",
     "output_type": "stream",
     "text": [
      "/tmp/ipykernel_62901/1983484597.py:49: FutureWarning: `multichannel` is a deprecated argument name for `hog`. It will be removed in version 1.0. Please use `channel_axis` instead.\n",
      "  fds, img_hog = hog(\n"
     ]
    },
    {
     "name": "stdout",
     "output_type": "stream",
     "text": [
      "Detection:: Location -> (100, 380)\n",
      "Scale ->  0 | Confidence Score 0.779370036505739 \n",
      "\n",
      "Detection:: Location -> (120, 380)\n",
      "Scale ->  0 | Confidence Score 0.7394199701581148 \n",
      "\n"
     ]
    },
    {
     "name": "stderr",
     "output_type": "stream",
     "text": [
      "/tmp/ipykernel_62901/1983484597.py:49: FutureWarning: `multichannel` is a deprecated argument name for `hog`. It will be removed in version 1.0. Please use `channel_axis` instead.\n",
      "  fds, img_hog = hog(\n",
      "/tmp/ipykernel_62901/1983484597.py:49: FutureWarning: `multichannel` is a deprecated argument name for `hog`. It will be removed in version 1.0. Please use `channel_axis` instead.\n",
      "  fds, img_hog = hog(\n"
     ]
    },
    {
     "name": "stdout",
     "output_type": "stream",
     "text": [
      "Detection:: Location -> (140, 380)\n",
      "Scale ->  0 | Confidence Score 0.7284888753094189 \n",
      "\n",
      "Detection:: Location -> (160, 380)\n",
      "Scale ->  0 | Confidence Score 0.6827404087607679 \n",
      "\n"
     ]
    },
    {
     "name": "stderr",
     "output_type": "stream",
     "text": [
      "/tmp/ipykernel_62901/1983484597.py:49: FutureWarning: `multichannel` is a deprecated argument name for `hog`. It will be removed in version 1.0. Please use `channel_axis` instead.\n",
      "  fds, img_hog = hog(\n",
      "/tmp/ipykernel_62901/1983484597.py:49: FutureWarning: `multichannel` is a deprecated argument name for `hog`. It will be removed in version 1.0. Please use `channel_axis` instead.\n",
      "  fds, img_hog = hog(\n"
     ]
    },
    {
     "name": "stdout",
     "output_type": "stream",
     "text": [
      "Detection:: Location -> (180, 380)\n",
      "Scale ->  0 | Confidence Score 0.7265966342472697 \n",
      "\n",
      "Detection:: Location -> (200, 380)\n",
      "Scale ->  0 | Confidence Score 0.7642712104981636 \n",
      "\n"
     ]
    },
    {
     "name": "stderr",
     "output_type": "stream",
     "text": [
      "/tmp/ipykernel_62901/1983484597.py:49: FutureWarning: `multichannel` is a deprecated argument name for `hog`. It will be removed in version 1.0. Please use `channel_axis` instead.\n",
      "  fds, img_hog = hog(\n",
      "/tmp/ipykernel_62901/1983484597.py:49: FutureWarning: `multichannel` is a deprecated argument name for `hog`. It will be removed in version 1.0. Please use `channel_axis` instead.\n",
      "  fds, img_hog = hog(\n"
     ]
    },
    {
     "name": "stdout",
     "output_type": "stream",
     "text": [
      "Detection:: Location -> (220, 380)\n",
      "Scale ->  0 | Confidence Score 0.6711761917147064 \n",
      "\n",
      "Detection:: Location -> (240, 380)\n",
      "Scale ->  0 | Confidence Score 0.6246029926927698 \n",
      "\n"
     ]
    },
    {
     "name": "stderr",
     "output_type": "stream",
     "text": [
      "/tmp/ipykernel_62901/1983484597.py:49: FutureWarning: `multichannel` is a deprecated argument name for `hog`. It will be removed in version 1.0. Please use `channel_axis` instead.\n",
      "  fds, img_hog = hog(\n",
      "/tmp/ipykernel_62901/1983484597.py:49: FutureWarning: `multichannel` is a deprecated argument name for `hog`. It will be removed in version 1.0. Please use `channel_axis` instead.\n",
      "  fds, img_hog = hog(\n"
     ]
    },
    {
     "name": "stdout",
     "output_type": "stream",
     "text": [
      "Detection:: Location -> (260, 380)\n",
      "Scale ->  0 | Confidence Score 0.6471085985701505 \n",
      "\n",
      "Detection:: Location -> (280, 380)\n",
      "Scale ->  0 | Confidence Score 0.6254678204489242 \n",
      "\n"
     ]
    },
    {
     "name": "stderr",
     "output_type": "stream",
     "text": [
      "/tmp/ipykernel_62901/1983484597.py:49: FutureWarning: `multichannel` is a deprecated argument name for `hog`. It will be removed in version 1.0. Please use `channel_axis` instead.\n",
      "  fds, img_hog = hog(\n",
      "/tmp/ipykernel_62901/1983484597.py:49: FutureWarning: `multichannel` is a deprecated argument name for `hog`. It will be removed in version 1.0. Please use `channel_axis` instead.\n",
      "  fds, img_hog = hog(\n",
      "/tmp/ipykernel_62901/1983484597.py:49: FutureWarning: `multichannel` is a deprecated argument name for `hog`. It will be removed in version 1.0. Please use `channel_axis` instead.\n",
      "  fds, img_hog = hog(\n",
      "/tmp/ipykernel_62901/1983484597.py:49: FutureWarning: `multichannel` is a deprecated argument name for `hog`. It will be removed in version 1.0. Please use `channel_axis` instead.\n",
      "  fds, img_hog = hog(\n",
      "/tmp/ipykernel_62901/1983484597.py:49: FutureWarning: `multichannel` is a deprecated argument name for `hog`. It will be removed in version 1.0. Please use `channel_axis` instead.\n",
      "  fds, img_hog = hog(\n",
      "/tmp/ipykernel_62901/1983484597.py:49: FutureWarning: `multichannel` is a deprecated argument name for `hog`. It will be removed in version 1.0. Please use `channel_axis` instead.\n",
      "  fds, img_hog = hog(\n",
      "/tmp/ipykernel_62901/1983484597.py:49: FutureWarning: `multichannel` is a deprecated argument name for `hog`. It will be removed in version 1.0. Please use `channel_axis` instead.\n",
      "  fds, img_hog = hog(\n",
      "/tmp/ipykernel_62901/1983484597.py:49: FutureWarning: `multichannel` is a deprecated argument name for `hog`. It will be removed in version 1.0. Please use `channel_axis` instead.\n",
      "  fds, img_hog = hog(\n",
      "/tmp/ipykernel_62901/1983484597.py:49: FutureWarning: `multichannel` is a deprecated argument name for `hog`. It will be removed in version 1.0. Please use `channel_axis` instead.\n",
      "  fds, img_hog = hog(\n"
     ]
    },
    {
     "name": "stdout",
     "output_type": "stream",
     "text": [
      "Detection:: Location -> (420, 380)\n",
      "Scale ->  0 | Confidence Score 0.6658767531956165 \n",
      "\n"
     ]
    },
    {
     "name": "stderr",
     "output_type": "stream",
     "text": [
      "/tmp/ipykernel_62901/1983484597.py:49: FutureWarning: `multichannel` is a deprecated argument name for `hog`. It will be removed in version 1.0. Please use `channel_axis` instead.\n",
      "  fds, img_hog = hog(\n",
      "/tmp/ipykernel_62901/1983484597.py:49: FutureWarning: `multichannel` is a deprecated argument name for `hog`. It will be removed in version 1.0. Please use `channel_axis` instead.\n",
      "  fds, img_hog = hog(\n",
      "/tmp/ipykernel_62901/1983484597.py:49: FutureWarning: `multichannel` is a deprecated argument name for `hog`. It will be removed in version 1.0. Please use `channel_axis` instead.\n",
      "  fds, img_hog = hog(\n",
      "/tmp/ipykernel_62901/1983484597.py:49: FutureWarning: `multichannel` is a deprecated argument name for `hog`. It will be removed in version 1.0. Please use `channel_axis` instead.\n",
      "  fds, img_hog = hog(\n",
      "/tmp/ipykernel_62901/1983484597.py:49: FutureWarning: `multichannel` is a deprecated argument name for `hog`. It will be removed in version 1.0. Please use `channel_axis` instead.\n",
      "  fds, img_hog = hog(\n",
      "/tmp/ipykernel_62901/1983484597.py:49: FutureWarning: `multichannel` is a deprecated argument name for `hog`. It will be removed in version 1.0. Please use `channel_axis` instead.\n",
      "  fds, img_hog = hog(\n",
      "/tmp/ipykernel_62901/1983484597.py:49: FutureWarning: `multichannel` is a deprecated argument name for `hog`. It will be removed in version 1.0. Please use `channel_axis` instead.\n",
      "  fds, img_hog = hog(\n",
      "/tmp/ipykernel_62901/1983484597.py:49: FutureWarning: `multichannel` is a deprecated argument name for `hog`. It will be removed in version 1.0. Please use `channel_axis` instead.\n",
      "  fds, img_hog = hog(\n",
      "/tmp/ipykernel_62901/1983484597.py:49: FutureWarning: `multichannel` is a deprecated argument name for `hog`. It will be removed in version 1.0. Please use `channel_axis` instead.\n",
      "  fds, img_hog = hog(\n",
      "/tmp/ipykernel_62901/1983484597.py:49: FutureWarning: `multichannel` is a deprecated argument name for `hog`. It will be removed in version 1.0. Please use `channel_axis` instead.\n",
      "  fds, img_hog = hog(\n",
      "/tmp/ipykernel_62901/1983484597.py:49: FutureWarning: `multichannel` is a deprecated argument name for `hog`. It will be removed in version 1.0. Please use `channel_axis` instead.\n",
      "  fds, img_hog = hog(\n",
      "/tmp/ipykernel_62901/1983484597.py:49: FutureWarning: `multichannel` is a deprecated argument name for `hog`. It will be removed in version 1.0. Please use `channel_axis` instead.\n",
      "  fds, img_hog = hog(\n",
      "/tmp/ipykernel_62901/1983484597.py:49: FutureWarning: `multichannel` is a deprecated argument name for `hog`. It will be removed in version 1.0. Please use `channel_axis` instead.\n",
      "  fds, img_hog = hog(\n",
      "/tmp/ipykernel_62901/1983484597.py:49: FutureWarning: `multichannel` is a deprecated argument name for `hog`. It will be removed in version 1.0. Please use `channel_axis` instead.\n",
      "  fds, img_hog = hog(\n",
      "/tmp/ipykernel_62901/1983484597.py:49: FutureWarning: `multichannel` is a deprecated argument name for `hog`. It will be removed in version 1.0. Please use `channel_axis` instead.\n",
      "  fds, img_hog = hog(\n",
      "/tmp/ipykernel_62901/1983484597.py:49: FutureWarning: `multichannel` is a deprecated argument name for `hog`. It will be removed in version 1.0. Please use `channel_axis` instead.\n",
      "  fds, img_hog = hog(\n",
      "/tmp/ipykernel_62901/1983484597.py:49: FutureWarning: `multichannel` is a deprecated argument name for `hog`. It will be removed in version 1.0. Please use `channel_axis` instead.\n",
      "  fds, img_hog = hog(\n"
     ]
    },
    {
     "name": "stdout",
     "output_type": "stream",
     "text": [
      "Detection:: Location -> (760, 380)\n",
      "Scale ->  0 | Confidence Score 0.6345943277572096 \n",
      "\n",
      "Detection:: Location -> (780, 380)\n",
      "Scale ->  0 | Confidence Score 0.6143275532123345 \n",
      "\n"
     ]
    },
    {
     "name": "stderr",
     "output_type": "stream",
     "text": [
      "/tmp/ipykernel_62901/1983484597.py:49: FutureWarning: `multichannel` is a deprecated argument name for `hog`. It will be removed in version 1.0. Please use `channel_axis` instead.\n",
      "  fds, img_hog = hog(\n",
      "/tmp/ipykernel_62901/1983484597.py:49: FutureWarning: `multichannel` is a deprecated argument name for `hog`. It will be removed in version 1.0. Please use `channel_axis` instead.\n",
      "  fds, img_hog = hog(\n"
     ]
    },
    {
     "name": "stdout",
     "output_type": "stream",
     "text": [
      "Detection:: Location -> (800, 380)\n",
      "Scale ->  0 | Confidence Score 0.6147917456845438 \n",
      "\n"
     ]
    },
    {
     "name": "stderr",
     "output_type": "stream",
     "text": [
      "/tmp/ipykernel_62901/1983484597.py:49: FutureWarning: `multichannel` is a deprecated argument name for `hog`. It will be removed in version 1.0. Please use `channel_axis` instead.\n",
      "  fds, img_hog = hog(\n",
      "/tmp/ipykernel_62901/1983484597.py:49: FutureWarning: `multichannel` is a deprecated argument name for `hog`. It will be removed in version 1.0. Please use `channel_axis` instead.\n",
      "  fds, img_hog = hog(\n"
     ]
    },
    {
     "name": "stdout",
     "output_type": "stream",
     "text": [
      "Detection:: Location -> (840, 380)\n",
      "Scale ->  0 | Confidence Score 0.6134973684797637 \n",
      "\n",
      "Detection:: Location -> (860, 380)\n",
      "Scale ->  0 | Confidence Score 0.6150956858141848 \n",
      "\n"
     ]
    },
    {
     "name": "stderr",
     "output_type": "stream",
     "text": [
      "/tmp/ipykernel_62901/1983484597.py:49: FutureWarning: `multichannel` is a deprecated argument name for `hog`. It will be removed in version 1.0. Please use `channel_axis` instead.\n",
      "  fds, img_hog = hog(\n",
      "/tmp/ipykernel_62901/1983484597.py:49: FutureWarning: `multichannel` is a deprecated argument name for `hog`. It will be removed in version 1.0. Please use `channel_axis` instead.\n",
      "  fds, img_hog = hog(\n"
     ]
    },
    {
     "name": "stdout",
     "output_type": "stream",
     "text": [
      "Detection:: Location -> (880, 380)\n",
      "Scale ->  0 | Confidence Score 0.6081357960435875 \n",
      "\n",
      "Detection:: Location -> (900, 380)\n",
      "Scale ->  0 | Confidence Score 0.6534555438009507 \n",
      "\n"
     ]
    },
    {
     "name": "stderr",
     "output_type": "stream",
     "text": [
      "/tmp/ipykernel_62901/1983484597.py:49: FutureWarning: `multichannel` is a deprecated argument name for `hog`. It will be removed in version 1.0. Please use `channel_axis` instead.\n",
      "  fds, img_hog = hog(\n",
      "/tmp/ipykernel_62901/1983484597.py:49: FutureWarning: `multichannel` is a deprecated argument name for `hog`. It will be removed in version 1.0. Please use `channel_axis` instead.\n",
      "  fds, img_hog = hog(\n"
     ]
    },
    {
     "name": "stdout",
     "output_type": "stream",
     "text": [
      "Detection:: Location -> (0, 400)\n",
      "Scale ->  0 | Confidence Score 0.6842979354080729 \n",
      "\n",
      "Detection:: Location -> (20, 400)\n",
      "Scale ->  0 | Confidence Score 0.8328630321046226 \n",
      "\n"
     ]
    },
    {
     "name": "stderr",
     "output_type": "stream",
     "text": [
      "/tmp/ipykernel_62901/1983484597.py:49: FutureWarning: `multichannel` is a deprecated argument name for `hog`. It will be removed in version 1.0. Please use `channel_axis` instead.\n",
      "  fds, img_hog = hog(\n",
      "/tmp/ipykernel_62901/1983484597.py:49: FutureWarning: `multichannel` is a deprecated argument name for `hog`. It will be removed in version 1.0. Please use `channel_axis` instead.\n",
      "  fds, img_hog = hog(\n"
     ]
    },
    {
     "name": "stdout",
     "output_type": "stream",
     "text": [
      "Detection:: Location -> (40, 400)\n",
      "Scale ->  0 | Confidence Score 0.7888951121738192 \n",
      "\n",
      "Detection:: Location -> (60, 400)\n",
      "Scale ->  0 | Confidence Score 0.789606572780846 \n",
      "\n"
     ]
    },
    {
     "name": "stderr",
     "output_type": "stream",
     "text": [
      "/tmp/ipykernel_62901/1983484597.py:49: FutureWarning: `multichannel` is a deprecated argument name for `hog`. It will be removed in version 1.0. Please use `channel_axis` instead.\n",
      "  fds, img_hog = hog(\n",
      "/tmp/ipykernel_62901/1983484597.py:49: FutureWarning: `multichannel` is a deprecated argument name for `hog`. It will be removed in version 1.0. Please use `channel_axis` instead.\n",
      "  fds, img_hog = hog(\n"
     ]
    },
    {
     "name": "stdout",
     "output_type": "stream",
     "text": [
      "Detection:: Location -> (80, 400)\n",
      "Scale ->  0 | Confidence Score 0.7787362591169813 \n",
      "\n",
      "Detection:: Location -> (100, 400)\n",
      "Scale ->  0 | Confidence Score 0.8224281173564607 \n",
      "\n"
     ]
    },
    {
     "name": "stderr",
     "output_type": "stream",
     "text": [
      "/tmp/ipykernel_62901/1983484597.py:49: FutureWarning: `multichannel` is a deprecated argument name for `hog`. It will be removed in version 1.0. Please use `channel_axis` instead.\n",
      "  fds, img_hog = hog(\n",
      "/tmp/ipykernel_62901/1983484597.py:49: FutureWarning: `multichannel` is a deprecated argument name for `hog`. It will be removed in version 1.0. Please use `channel_axis` instead.\n",
      "  fds, img_hog = hog(\n"
     ]
    },
    {
     "name": "stdout",
     "output_type": "stream",
     "text": [
      "Detection:: Location -> (120, 400)\n",
      "Scale ->  0 | Confidence Score 0.7473826802805358 \n",
      "\n",
      "Detection:: Location -> (140, 400)\n",
      "Scale ->  0 | Confidence Score 0.7631804761460427 \n",
      "\n"
     ]
    },
    {
     "name": "stderr",
     "output_type": "stream",
     "text": [
      "/tmp/ipykernel_62901/1983484597.py:49: FutureWarning: `multichannel` is a deprecated argument name for `hog`. It will be removed in version 1.0. Please use `channel_axis` instead.\n",
      "  fds, img_hog = hog(\n",
      "/tmp/ipykernel_62901/1983484597.py:49: FutureWarning: `multichannel` is a deprecated argument name for `hog`. It will be removed in version 1.0. Please use `channel_axis` instead.\n",
      "  fds, img_hog = hog(\n"
     ]
    },
    {
     "name": "stdout",
     "output_type": "stream",
     "text": [
      "Detection:: Location -> (160, 400)\n",
      "Scale ->  0 | Confidence Score 0.7520896485130681 \n",
      "\n",
      "Detection:: Location -> (180, 400)\n",
      "Scale ->  0 | Confidence Score 0.723310159513139 \n",
      "\n"
     ]
    },
    {
     "name": "stderr",
     "output_type": "stream",
     "text": [
      "/tmp/ipykernel_62901/1983484597.py:49: FutureWarning: `multichannel` is a deprecated argument name for `hog`. It will be removed in version 1.0. Please use `channel_axis` instead.\n",
      "  fds, img_hog = hog(\n",
      "/tmp/ipykernel_62901/1983484597.py:49: FutureWarning: `multichannel` is a deprecated argument name for `hog`. It will be removed in version 1.0. Please use `channel_axis` instead.\n",
      "  fds, img_hog = hog(\n"
     ]
    },
    {
     "name": "stdout",
     "output_type": "stream",
     "text": [
      "Detection:: Location -> (200, 400)\n",
      "Scale ->  0 | Confidence Score 0.7058696984302316 \n",
      "\n",
      "Detection:: Location -> (220, 400)\n",
      "Scale ->  0 | Confidence Score 0.6610474263300831 \n",
      "\n"
     ]
    },
    {
     "name": "stderr",
     "output_type": "stream",
     "text": [
      "/tmp/ipykernel_62901/1983484597.py:49: FutureWarning: `multichannel` is a deprecated argument name for `hog`. It will be removed in version 1.0. Please use `channel_axis` instead.\n",
      "  fds, img_hog = hog(\n",
      "/tmp/ipykernel_62901/1983484597.py:49: FutureWarning: `multichannel` is a deprecated argument name for `hog`. It will be removed in version 1.0. Please use `channel_axis` instead.\n",
      "  fds, img_hog = hog(\n"
     ]
    },
    {
     "name": "stdout",
     "output_type": "stream",
     "text": [
      "Detection:: Location -> (240, 400)\n",
      "Scale ->  0 | Confidence Score 0.6144388446692517 \n",
      "\n"
     ]
    },
    {
     "name": "stderr",
     "output_type": "stream",
     "text": [
      "/tmp/ipykernel_62901/1983484597.py:49: FutureWarning: `multichannel` is a deprecated argument name for `hog`. It will be removed in version 1.0. Please use `channel_axis` instead.\n",
      "  fds, img_hog = hog(\n"
     ]
    },
    {
     "name": "stdout",
     "output_type": "stream",
     "text": [
      "Detection:: Location -> (260, 400)\n",
      "Scale ->  0 | Confidence Score 0.6756805440444958 \n",
      "\n"
     ]
    },
    {
     "name": "stderr",
     "output_type": "stream",
     "text": [
      "/tmp/ipykernel_62901/1983484597.py:49: FutureWarning: `multichannel` is a deprecated argument name for `hog`. It will be removed in version 1.0. Please use `channel_axis` instead.\n",
      "  fds, img_hog = hog(\n",
      "/tmp/ipykernel_62901/1983484597.py:49: FutureWarning: `multichannel` is a deprecated argument name for `hog`. It will be removed in version 1.0. Please use `channel_axis` instead.\n",
      "  fds, img_hog = hog(\n",
      "/tmp/ipykernel_62901/1983484597.py:49: FutureWarning: `multichannel` is a deprecated argument name for `hog`. It will be removed in version 1.0. Please use `channel_axis` instead.\n",
      "  fds, img_hog = hog(\n",
      "/tmp/ipykernel_62901/1983484597.py:49: FutureWarning: `multichannel` is a deprecated argument name for `hog`. It will be removed in version 1.0. Please use `channel_axis` instead.\n",
      "  fds, img_hog = hog(\n",
      "/tmp/ipykernel_62901/1983484597.py:49: FutureWarning: `multichannel` is a deprecated argument name for `hog`. It will be removed in version 1.0. Please use `channel_axis` instead.\n",
      "  fds, img_hog = hog(\n",
      "/tmp/ipykernel_62901/1983484597.py:49: FutureWarning: `multichannel` is a deprecated argument name for `hog`. It will be removed in version 1.0. Please use `channel_axis` instead.\n",
      "  fds, img_hog = hog(\n",
      "/tmp/ipykernel_62901/1983484597.py:49: FutureWarning: `multichannel` is a deprecated argument name for `hog`. It will be removed in version 1.0. Please use `channel_axis` instead.\n",
      "  fds, img_hog = hog(\n"
     ]
    },
    {
     "name": "stdout",
     "output_type": "stream",
     "text": [
      "Detection:: Location -> (380, 400)\n",
      "Scale ->  0 | Confidence Score 0.6163032457173239 \n",
      "\n",
      "Detection:: Location -> (400, 400)\n",
      "Scale ->  0 | Confidence Score 0.6427145007629431 \n",
      "\n"
     ]
    },
    {
     "name": "stderr",
     "output_type": "stream",
     "text": [
      "/tmp/ipykernel_62901/1983484597.py:49: FutureWarning: `multichannel` is a deprecated argument name for `hog`. It will be removed in version 1.0. Please use `channel_axis` instead.\n",
      "  fds, img_hog = hog(\n",
      "/tmp/ipykernel_62901/1983484597.py:49: FutureWarning: `multichannel` is a deprecated argument name for `hog`. It will be removed in version 1.0. Please use `channel_axis` instead.\n",
      "  fds, img_hog = hog(\n",
      "/tmp/ipykernel_62901/1983484597.py:49: FutureWarning: `multichannel` is a deprecated argument name for `hog`. It will be removed in version 1.0. Please use `channel_axis` instead.\n",
      "  fds, img_hog = hog(\n",
      "/tmp/ipykernel_62901/1983484597.py:49: FutureWarning: `multichannel` is a deprecated argument name for `hog`. It will be removed in version 1.0. Please use `channel_axis` instead.\n",
      "  fds, img_hog = hog(\n",
      "/tmp/ipykernel_62901/1983484597.py:49: FutureWarning: `multichannel` is a deprecated argument name for `hog`. It will be removed in version 1.0. Please use `channel_axis` instead.\n",
      "  fds, img_hog = hog(\n",
      "/tmp/ipykernel_62901/1983484597.py:49: FutureWarning: `multichannel` is a deprecated argument name for `hog`. It will be removed in version 1.0. Please use `channel_axis` instead.\n",
      "  fds, img_hog = hog(\n",
      "/tmp/ipykernel_62901/1983484597.py:49: FutureWarning: `multichannel` is a deprecated argument name for `hog`. It will be removed in version 1.0. Please use `channel_axis` instead.\n",
      "  fds, img_hog = hog(\n",
      "/tmp/ipykernel_62901/1983484597.py:49: FutureWarning: `multichannel` is a deprecated argument name for `hog`. It will be removed in version 1.0. Please use `channel_axis` instead.\n",
      "  fds, img_hog = hog(\n",
      "/tmp/ipykernel_62901/1983484597.py:49: FutureWarning: `multichannel` is a deprecated argument name for `hog`. It will be removed in version 1.0. Please use `channel_axis` instead.\n",
      "  fds, img_hog = hog(\n",
      "/tmp/ipykernel_62901/1983484597.py:49: FutureWarning: `multichannel` is a deprecated argument name for `hog`. It will be removed in version 1.0. Please use `channel_axis` instead.\n",
      "  fds, img_hog = hog(\n"
     ]
    },
    {
     "name": "stdout",
     "output_type": "stream",
     "text": [
      "Detection:: Location -> (580, 400)\n",
      "Scale ->  0 | Confidence Score 0.6149864522437628 \n",
      "\n"
     ]
    },
    {
     "name": "stderr",
     "output_type": "stream",
     "text": [
      "/tmp/ipykernel_62901/1983484597.py:49: FutureWarning: `multichannel` is a deprecated argument name for `hog`. It will be removed in version 1.0. Please use `channel_axis` instead.\n",
      "  fds, img_hog = hog(\n",
      "/tmp/ipykernel_62901/1983484597.py:49: FutureWarning: `multichannel` is a deprecated argument name for `hog`. It will be removed in version 1.0. Please use `channel_axis` instead.\n",
      "  fds, img_hog = hog(\n",
      "/tmp/ipykernel_62901/1983484597.py:49: FutureWarning: `multichannel` is a deprecated argument name for `hog`. It will be removed in version 1.0. Please use `channel_axis` instead.\n",
      "  fds, img_hog = hog(\n",
      "/tmp/ipykernel_62901/1983484597.py:49: FutureWarning: `multichannel` is a deprecated argument name for `hog`. It will be removed in version 1.0. Please use `channel_axis` instead.\n",
      "  fds, img_hog = hog(\n",
      "/tmp/ipykernel_62901/1983484597.py:49: FutureWarning: `multichannel` is a deprecated argument name for `hog`. It will be removed in version 1.0. Please use `channel_axis` instead.\n",
      "  fds, img_hog = hog(\n",
      "/tmp/ipykernel_62901/1983484597.py:49: FutureWarning: `multichannel` is a deprecated argument name for `hog`. It will be removed in version 1.0. Please use `channel_axis` instead.\n",
      "  fds, img_hog = hog(\n",
      "/tmp/ipykernel_62901/1983484597.py:49: FutureWarning: `multichannel` is a deprecated argument name for `hog`. It will be removed in version 1.0. Please use `channel_axis` instead.\n",
      "  fds, img_hog = hog(\n",
      "/tmp/ipykernel_62901/1983484597.py:49: FutureWarning: `multichannel` is a deprecated argument name for `hog`. It will be removed in version 1.0. Please use `channel_axis` instead.\n",
      "  fds, img_hog = hog(\n",
      "/tmp/ipykernel_62901/1983484597.py:49: FutureWarning: `multichannel` is a deprecated argument name for `hog`. It will be removed in version 1.0. Please use `channel_axis` instead.\n",
      "  fds, img_hog = hog(\n",
      "/tmp/ipykernel_62901/1983484597.py:49: FutureWarning: `multichannel` is a deprecated argument name for `hog`. It will be removed in version 1.0. Please use `channel_axis` instead.\n",
      "  fds, img_hog = hog(\n",
      "/tmp/ipykernel_62901/1983484597.py:49: FutureWarning: `multichannel` is a deprecated argument name for `hog`. It will be removed in version 1.0. Please use `channel_axis` instead.\n",
      "  fds, img_hog = hog(\n",
      "/tmp/ipykernel_62901/1983484597.py:49: FutureWarning: `multichannel` is a deprecated argument name for `hog`. It will be removed in version 1.0. Please use `channel_axis` instead.\n",
      "  fds, img_hog = hog(\n"
     ]
    },
    {
     "name": "stdout",
     "output_type": "stream",
     "text": [
      "Detection:: Location -> (820, 400)\n",
      "Scale ->  0 | Confidence Score 0.6006891220430264 \n",
      "\n",
      "Detection:: Location -> (840, 400)\n",
      "Scale ->  0 | Confidence Score 0.6043283339354424 \n",
      "\n"
     ]
    },
    {
     "name": "stderr",
     "output_type": "stream",
     "text": [
      "/tmp/ipykernel_62901/1983484597.py:49: FutureWarning: `multichannel` is a deprecated argument name for `hog`. It will be removed in version 1.0. Please use `channel_axis` instead.\n",
      "  fds, img_hog = hog(\n",
      "/tmp/ipykernel_62901/1983484597.py:49: FutureWarning: `multichannel` is a deprecated argument name for `hog`. It will be removed in version 1.0. Please use `channel_axis` instead.\n",
      "  fds, img_hog = hog(\n"
     ]
    },
    {
     "name": "stdout",
     "output_type": "stream",
     "text": [
      "Detection:: Location -> (860, 400)\n",
      "Scale ->  0 | Confidence Score 0.6550099084797067 \n",
      "\n",
      "Detection:: Location -> (880, 400)\n",
      "Scale ->  0 | Confidence Score 0.6136047942885073 \n",
      "\n"
     ]
    },
    {
     "name": "stderr",
     "output_type": "stream",
     "text": [
      "/tmp/ipykernel_62901/1983484597.py:49: FutureWarning: `multichannel` is a deprecated argument name for `hog`. It will be removed in version 1.0. Please use `channel_axis` instead.\n",
      "  fds, img_hog = hog(\n",
      "/tmp/ipykernel_62901/1983484597.py:49: FutureWarning: `multichannel` is a deprecated argument name for `hog`. It will be removed in version 1.0. Please use `channel_axis` instead.\n",
      "  fds, img_hog = hog(\n"
     ]
    },
    {
     "name": "stdout",
     "output_type": "stream",
     "text": [
      "Detection:: Location -> (900, 400)\n",
      "Scale ->  0 | Confidence Score 0.6230271779711296 \n",
      "\n"
     ]
    },
    {
     "name": "stderr",
     "output_type": "stream",
     "text": [
      "/tmp/ipykernel_62901/1983484597.py:49: FutureWarning: `multichannel` is a deprecated argument name for `hog`. It will be removed in version 1.0. Please use `channel_axis` instead.\n",
      "  fds, img_hog = hog(\n",
      "/tmp/ipykernel_62901/1983484597.py:49: FutureWarning: `multichannel` is a deprecated argument name for `hog`. It will be removed in version 1.0. Please use `channel_axis` instead.\n",
      "  fds, img_hog = hog(\n"
     ]
    },
    {
     "name": "stdout",
     "output_type": "stream",
     "text": [
      "Detection:: Location -> (0, 420)\n",
      "Scale ->  0 | Confidence Score 0.6629378590703683 \n",
      "\n",
      "Detection:: Location -> (20, 420)\n",
      "Scale ->  0 | Confidence Score 0.7776968181043156 \n",
      "\n",
      "Detection:: Location -> (40, 420)\n",
      "Scale ->  0 | Confidence Score 0.7426814797247562 \n",
      "\n"
     ]
    },
    {
     "name": "stderr",
     "output_type": "stream",
     "text": [
      "/tmp/ipykernel_62901/1983484597.py:49: FutureWarning: `multichannel` is a deprecated argument name for `hog`. It will be removed in version 1.0. Please use `channel_axis` instead.\n",
      "  fds, img_hog = hog(\n",
      "/tmp/ipykernel_62901/1983484597.py:49: FutureWarning: `multichannel` is a deprecated argument name for `hog`. It will be removed in version 1.0. Please use `channel_axis` instead.\n",
      "  fds, img_hog = hog(\n"
     ]
    },
    {
     "name": "stdout",
     "output_type": "stream",
     "text": [
      "Detection:: Location -> (60, 420)\n",
      "Scale ->  0 | Confidence Score 0.7884581144043172 \n",
      "\n",
      "Detection:: Location -> (80, 420)\n",
      "Scale ->  0 | Confidence Score 0.7488128890235747 \n",
      "\n"
     ]
    },
    {
     "name": "stderr",
     "output_type": "stream",
     "text": [
      "/tmp/ipykernel_62901/1983484597.py:49: FutureWarning: `multichannel` is a deprecated argument name for `hog`. It will be removed in version 1.0. Please use `channel_axis` instead.\n",
      "  fds, img_hog = hog(\n",
      "/tmp/ipykernel_62901/1983484597.py:49: FutureWarning: `multichannel` is a deprecated argument name for `hog`. It will be removed in version 1.0. Please use `channel_axis` instead.\n",
      "  fds, img_hog = hog(\n"
     ]
    },
    {
     "name": "stdout",
     "output_type": "stream",
     "text": [
      "Detection:: Location -> (100, 420)\n",
      "Scale ->  0 | Confidence Score 0.7377799105043213 \n",
      "\n",
      "Detection:: Location -> (120, 420)\n",
      "Scale ->  0 | Confidence Score 0.7830527785323316 \n",
      "\n"
     ]
    },
    {
     "name": "stderr",
     "output_type": "stream",
     "text": [
      "/tmp/ipykernel_62901/1983484597.py:49: FutureWarning: `multichannel` is a deprecated argument name for `hog`. It will be removed in version 1.0. Please use `channel_axis` instead.\n",
      "  fds, img_hog = hog(\n",
      "/tmp/ipykernel_62901/1983484597.py:49: FutureWarning: `multichannel` is a deprecated argument name for `hog`. It will be removed in version 1.0. Please use `channel_axis` instead.\n",
      "  fds, img_hog = hog(\n"
     ]
    },
    {
     "name": "stdout",
     "output_type": "stream",
     "text": [
      "Detection:: Location -> (140, 420)\n",
      "Scale ->  0 | Confidence Score 0.7767515251816596 \n",
      "\n",
      "Detection:: Location -> (160, 420)\n",
      "Scale ->  0 | Confidence Score 0.755387948888935 \n",
      "\n"
     ]
    },
    {
     "name": "stderr",
     "output_type": "stream",
     "text": [
      "/tmp/ipykernel_62901/1983484597.py:49: FutureWarning: `multichannel` is a deprecated argument name for `hog`. It will be removed in version 1.0. Please use `channel_axis` instead.\n",
      "  fds, img_hog = hog(\n",
      "/tmp/ipykernel_62901/1983484597.py:49: FutureWarning: `multichannel` is a deprecated argument name for `hog`. It will be removed in version 1.0. Please use `channel_axis` instead.\n",
      "  fds, img_hog = hog(\n"
     ]
    },
    {
     "name": "stdout",
     "output_type": "stream",
     "text": [
      "Detection:: Location -> (180, 420)\n",
      "Scale ->  0 | Confidence Score 0.7500502188257663 \n",
      "\n",
      "Detection:: Location -> (200, 420)\n",
      "Scale ->  0 | Confidence Score 0.7104700728978514 \n",
      "\n"
     ]
    },
    {
     "name": "stderr",
     "output_type": "stream",
     "text": [
      "/tmp/ipykernel_62901/1983484597.py:49: FutureWarning: `multichannel` is a deprecated argument name for `hog`. It will be removed in version 1.0. Please use `channel_axis` instead.\n",
      "  fds, img_hog = hog(\n",
      "/tmp/ipykernel_62901/1983484597.py:49: FutureWarning: `multichannel` is a deprecated argument name for `hog`. It will be removed in version 1.0. Please use `channel_axis` instead.\n",
      "  fds, img_hog = hog(\n"
     ]
    },
    {
     "name": "stdout",
     "output_type": "stream",
     "text": [
      "Detection:: Location -> (220, 420)\n",
      "Scale ->  0 | Confidence Score 0.6530546176281306 \n",
      "\n",
      "Detection:: Location -> (240, 420)\n",
      "Scale ->  0 | Confidence Score 0.6244792095670987 \n",
      "\n"
     ]
    },
    {
     "name": "stderr",
     "output_type": "stream",
     "text": [
      "/tmp/ipykernel_62901/1983484597.py:49: FutureWarning: `multichannel` is a deprecated argument name for `hog`. It will be removed in version 1.0. Please use `channel_axis` instead.\n",
      "  fds, img_hog = hog(\n",
      "/tmp/ipykernel_62901/1983484597.py:49: FutureWarning: `multichannel` is a deprecated argument name for `hog`. It will be removed in version 1.0. Please use `channel_axis` instead.\n",
      "  fds, img_hog = hog(\n",
      "/tmp/ipykernel_62901/1983484597.py:49: FutureWarning: `multichannel` is a deprecated argument name for `hog`. It will be removed in version 1.0. Please use `channel_axis` instead.\n",
      "  fds, img_hog = hog(\n",
      "/tmp/ipykernel_62901/1983484597.py:49: FutureWarning: `multichannel` is a deprecated argument name for `hog`. It will be removed in version 1.0. Please use `channel_axis` instead.\n",
      "  fds, img_hog = hog(\n",
      "/tmp/ipykernel_62901/1983484597.py:49: FutureWarning: `multichannel` is a deprecated argument name for `hog`. It will be removed in version 1.0. Please use `channel_axis` instead.\n",
      "  fds, img_hog = hog(\n",
      "/tmp/ipykernel_62901/1983484597.py:49: FutureWarning: `multichannel` is a deprecated argument name for `hog`. It will be removed in version 1.0. Please use `channel_axis` instead.\n",
      "  fds, img_hog = hog(\n"
     ]
    },
    {
     "name": "stdout",
     "output_type": "stream",
     "text": [
      "Detection:: Location -> (320, 420)\n",
      "Scale ->  0 | Confidence Score 0.6271310445304439 \n",
      "\n"
     ]
    },
    {
     "name": "stderr",
     "output_type": "stream",
     "text": [
      "/tmp/ipykernel_62901/1983484597.py:49: FutureWarning: `multichannel` is a deprecated argument name for `hog`. It will be removed in version 1.0. Please use `channel_axis` instead.\n",
      "  fds, img_hog = hog(\n",
      "/tmp/ipykernel_62901/1983484597.py:49: FutureWarning: `multichannel` is a deprecated argument name for `hog`. It will be removed in version 1.0. Please use `channel_axis` instead.\n",
      "  fds, img_hog = hog(\n"
     ]
    },
    {
     "name": "stdout",
     "output_type": "stream",
     "text": [
      "Detection:: Location -> (360, 420)\n",
      "Scale ->  0 | Confidence Score 0.626529229213349 \n",
      "\n",
      "Detection:: Location -> (380, 420)\n",
      "Scale ->  0 | Confidence Score 0.6427402449703333 \n",
      "\n"
     ]
    },
    {
     "name": "stderr",
     "output_type": "stream",
     "text": [
      "/tmp/ipykernel_62901/1983484597.py:49: FutureWarning: `multichannel` is a deprecated argument name for `hog`. It will be removed in version 1.0. Please use `channel_axis` instead.\n",
      "  fds, img_hog = hog(\n",
      "/tmp/ipykernel_62901/1983484597.py:49: FutureWarning: `multichannel` is a deprecated argument name for `hog`. It will be removed in version 1.0. Please use `channel_axis` instead.\n",
      "  fds, img_hog = hog(\n",
      "/tmp/ipykernel_62901/1983484597.py:49: FutureWarning: `multichannel` is a deprecated argument name for `hog`. It will be removed in version 1.0. Please use `channel_axis` instead.\n",
      "  fds, img_hog = hog(\n",
      "/tmp/ipykernel_62901/1983484597.py:49: FutureWarning: `multichannel` is a deprecated argument name for `hog`. It will be removed in version 1.0. Please use `channel_axis` instead.\n",
      "  fds, img_hog = hog(\n",
      "/tmp/ipykernel_62901/1983484597.py:49: FutureWarning: `multichannel` is a deprecated argument name for `hog`. It will be removed in version 1.0. Please use `channel_axis` instead.\n",
      "  fds, img_hog = hog(\n",
      "/tmp/ipykernel_62901/1983484597.py:49: FutureWarning: `multichannel` is a deprecated argument name for `hog`. It will be removed in version 1.0. Please use `channel_axis` instead.\n",
      "  fds, img_hog = hog(\n",
      "/tmp/ipykernel_62901/1983484597.py:49: FutureWarning: `multichannel` is a deprecated argument name for `hog`. It will be removed in version 1.0. Please use `channel_axis` instead.\n",
      "  fds, img_hog = hog(\n",
      "/tmp/ipykernel_62901/1983484597.py:49: FutureWarning: `multichannel` is a deprecated argument name for `hog`. It will be removed in version 1.0. Please use `channel_axis` instead.\n",
      "  fds, img_hog = hog(\n",
      "/tmp/ipykernel_62901/1983484597.py:49: FutureWarning: `multichannel` is a deprecated argument name for `hog`. It will be removed in version 1.0. Please use `channel_axis` instead.\n",
      "  fds, img_hog = hog(\n",
      "/tmp/ipykernel_62901/1983484597.py:49: FutureWarning: `multichannel` is a deprecated argument name for `hog`. It will be removed in version 1.0. Please use `channel_axis` instead.\n",
      "  fds, img_hog = hog(\n",
      "/tmp/ipykernel_62901/1983484597.py:49: FutureWarning: `multichannel` is a deprecated argument name for `hog`. It will be removed in version 1.0. Please use `channel_axis` instead.\n",
      "  fds, img_hog = hog(\n",
      "/tmp/ipykernel_62901/1983484597.py:49: FutureWarning: `multichannel` is a deprecated argument name for `hog`. It will be removed in version 1.0. Please use `channel_axis` instead.\n",
      "  fds, img_hog = hog(\n",
      "/tmp/ipykernel_62901/1983484597.py:49: FutureWarning: `multichannel` is a deprecated argument name for `hog`. It will be removed in version 1.0. Please use `channel_axis` instead.\n",
      "  fds, img_hog = hog(\n",
      "/tmp/ipykernel_62901/1983484597.py:49: FutureWarning: `multichannel` is a deprecated argument name for `hog`. It will be removed in version 1.0. Please use `channel_axis` instead.\n",
      "  fds, img_hog = hog(\n"
     ]
    },
    {
     "name": "stdout",
     "output_type": "stream",
     "text": [
      "Detection:: Location -> (660, 420)\n",
      "Scale ->  0 | Confidence Score 0.6576137334727825 \n",
      "\n"
     ]
    },
    {
     "name": "stderr",
     "output_type": "stream",
     "text": [
      "/tmp/ipykernel_62901/1983484597.py:49: FutureWarning: `multichannel` is a deprecated argument name for `hog`. It will be removed in version 1.0. Please use `channel_axis` instead.\n",
      "  fds, img_hog = hog(\n",
      "/tmp/ipykernel_62901/1983484597.py:49: FutureWarning: `multichannel` is a deprecated argument name for `hog`. It will be removed in version 1.0. Please use `channel_axis` instead.\n",
      "  fds, img_hog = hog(\n",
      "/tmp/ipykernel_62901/1983484597.py:49: FutureWarning: `multichannel` is a deprecated argument name for `hog`. It will be removed in version 1.0. Please use `channel_axis` instead.\n",
      "  fds, img_hog = hog(\n",
      "/tmp/ipykernel_62901/1983484597.py:49: FutureWarning: `multichannel` is a deprecated argument name for `hog`. It will be removed in version 1.0. Please use `channel_axis` instead.\n",
      "  fds, img_hog = hog(\n",
      "/tmp/ipykernel_62901/1983484597.py:49: FutureWarning: `multichannel` is a deprecated argument name for `hog`. It will be removed in version 1.0. Please use `channel_axis` instead.\n",
      "  fds, img_hog = hog(\n",
      "/tmp/ipykernel_62901/1983484597.py:49: FutureWarning: `multichannel` is a deprecated argument name for `hog`. It will be removed in version 1.0. Please use `channel_axis` instead.\n",
      "  fds, img_hog = hog(\n"
     ]
    },
    {
     "name": "stdout",
     "output_type": "stream",
     "text": [
      "Detection:: Location -> (780, 420)\n",
      "Scale ->  0 | Confidence Score 0.6204131734839659 \n",
      "\n",
      "Detection:: Location -> (800, 420)\n",
      "Scale ->  0 | Confidence Score 0.6484110259763417 \n",
      "\n"
     ]
    },
    {
     "name": "stderr",
     "output_type": "stream",
     "text": [
      "/tmp/ipykernel_62901/1983484597.py:49: FutureWarning: `multichannel` is a deprecated argument name for `hog`. It will be removed in version 1.0. Please use `channel_axis` instead.\n",
      "  fds, img_hog = hog(\n",
      "/tmp/ipykernel_62901/1983484597.py:49: FutureWarning: `multichannel` is a deprecated argument name for `hog`. It will be removed in version 1.0. Please use `channel_axis` instead.\n",
      "  fds, img_hog = hog(\n"
     ]
    },
    {
     "name": "stdout",
     "output_type": "stream",
     "text": [
      "Detection:: Location -> (820, 420)\n",
      "Scale ->  0 | Confidence Score 0.6570833472836368 \n",
      "\n",
      "Detection:: Location -> (840, 420)\n",
      "Scale ->  0 | Confidence Score 0.654187545265665 \n",
      "\n"
     ]
    },
    {
     "name": "stderr",
     "output_type": "stream",
     "text": [
      "/tmp/ipykernel_62901/1983484597.py:49: FutureWarning: `multichannel` is a deprecated argument name for `hog`. It will be removed in version 1.0. Please use `channel_axis` instead.\n",
      "  fds, img_hog = hog(\n",
      "/tmp/ipykernel_62901/1983484597.py:49: FutureWarning: `multichannel` is a deprecated argument name for `hog`. It will be removed in version 1.0. Please use `channel_axis` instead.\n",
      "  fds, img_hog = hog(\n"
     ]
    },
    {
     "name": "stdout",
     "output_type": "stream",
     "text": [
      "Detection:: Location -> (860, 420)\n",
      "Scale ->  0 | Confidence Score 0.6005086083211723 \n",
      "\n",
      "Detection:: Location -> (880, 420)\n",
      "Scale ->  0 | Confidence Score 0.6194772738047986 \n",
      "\n"
     ]
    },
    {
     "name": "stderr",
     "output_type": "stream",
     "text": [
      "/tmp/ipykernel_62901/1983484597.py:49: FutureWarning: `multichannel` is a deprecated argument name for `hog`. It will be removed in version 1.0. Please use `channel_axis` instead.\n",
      "  fds, img_hog = hog(\n",
      "/tmp/ipykernel_62901/1983484597.py:49: FutureWarning: `multichannel` is a deprecated argument name for `hog`. It will be removed in version 1.0. Please use `channel_axis` instead.\n",
      "  fds, img_hog = hog(\n",
      "/tmp/ipykernel_62901/1983484597.py:49: FutureWarning: `multichannel` is a deprecated argument name for `hog`. It will be removed in version 1.0. Please use `channel_axis` instead.\n",
      "  fds, img_hog = hog(\n",
      "/tmp/ipykernel_62901/1983484597.py:49: FutureWarning: `multichannel` is a deprecated argument name for `hog`. It will be removed in version 1.0. Please use `channel_axis` instead.\n",
      "  fds, img_hog = hog(\n",
      "/tmp/ipykernel_62901/1983484597.py:49: FutureWarning: `multichannel` is a deprecated argument name for `hog`. It will be removed in version 1.0. Please use `channel_axis` instead.\n",
      "  fds, img_hog = hog(\n",
      "/tmp/ipykernel_62901/1983484597.py:49: FutureWarning: `multichannel` is a deprecated argument name for `hog`. It will be removed in version 1.0. Please use `channel_axis` instead.\n",
      "  fds, img_hog = hog(\n"
     ]
    },
    {
     "name": "stdout",
     "output_type": "stream",
     "text": [
      "Detection:: Location -> (20, 440)\n",
      "Scale ->  0 | Confidence Score 0.7296190015920935 \n",
      "\n",
      "Detection:: Location -> (40, 440)\n",
      "Scale ->  0 | Confidence Score 0.7141677833934723 \n",
      "\n"
     ]
    },
    {
     "name": "stderr",
     "output_type": "stream",
     "text": [
      "/tmp/ipykernel_62901/1983484597.py:49: FutureWarning: `multichannel` is a deprecated argument name for `hog`. It will be removed in version 1.0. Please use `channel_axis` instead.\n",
      "  fds, img_hog = hog(\n",
      "/tmp/ipykernel_62901/1983484597.py:49: FutureWarning: `multichannel` is a deprecated argument name for `hog`. It will be removed in version 1.0. Please use `channel_axis` instead.\n",
      "  fds, img_hog = hog(\n"
     ]
    },
    {
     "name": "stdout",
     "output_type": "stream",
     "text": [
      "Detection:: Location -> (60, 440)\n",
      "Scale ->  0 | Confidence Score 0.7355349400658147 \n",
      "\n",
      "Detection:: Location -> (80, 440)\n",
      "Scale ->  0 | Confidence Score 0.7107964871756159 \n",
      "\n"
     ]
    },
    {
     "name": "stderr",
     "output_type": "stream",
     "text": [
      "/tmp/ipykernel_62901/1983484597.py:49: FutureWarning: `multichannel` is a deprecated argument name for `hog`. It will be removed in version 1.0. Please use `channel_axis` instead.\n",
      "  fds, img_hog = hog(\n",
      "/tmp/ipykernel_62901/1983484597.py:49: FutureWarning: `multichannel` is a deprecated argument name for `hog`. It will be removed in version 1.0. Please use `channel_axis` instead.\n",
      "  fds, img_hog = hog(\n"
     ]
    },
    {
     "name": "stdout",
     "output_type": "stream",
     "text": [
      "Detection:: Location -> (100, 440)\n",
      "Scale ->  0 | Confidence Score 0.7412567515993851 \n",
      "\n",
      "Detection:: Location -> (120, 440)\n",
      "Scale ->  0 | Confidence Score 0.7295379826601966 \n",
      "\n"
     ]
    },
    {
     "name": "stderr",
     "output_type": "stream",
     "text": [
      "/tmp/ipykernel_62901/1983484597.py:49: FutureWarning: `multichannel` is a deprecated argument name for `hog`. It will be removed in version 1.0. Please use `channel_axis` instead.\n",
      "  fds, img_hog = hog(\n"
     ]
    },
    {
     "name": "stdout",
     "output_type": "stream",
     "text": [
      "Detection:: Location -> (140, 440)\n",
      "Scale ->  0 | Confidence Score 0.7712696613571465 \n",
      "\n"
     ]
    },
    {
     "name": "stderr",
     "output_type": "stream",
     "text": [
      "/tmp/ipykernel_62901/1983484597.py:49: FutureWarning: `multichannel` is a deprecated argument name for `hog`. It will be removed in version 1.0. Please use `channel_axis` instead.\n",
      "  fds, img_hog = hog(\n"
     ]
    },
    {
     "name": "stdout",
     "output_type": "stream",
     "text": [
      "Detection:: Location -> (160, 440)\n",
      "Scale ->  0 | Confidence Score 0.689290894602647 \n",
      "\n"
     ]
    },
    {
     "name": "stderr",
     "output_type": "stream",
     "text": [
      "/tmp/ipykernel_62901/1983484597.py:49: FutureWarning: `multichannel` is a deprecated argument name for `hog`. It will be removed in version 1.0. Please use `channel_axis` instead.\n",
      "  fds, img_hog = hog(\n"
     ]
    },
    {
     "name": "stdout",
     "output_type": "stream",
     "text": [
      "Detection:: Location -> (180, 440)\n",
      "Scale ->  0 | Confidence Score 0.7212459388945718 \n",
      "\n"
     ]
    },
    {
     "name": "stderr",
     "output_type": "stream",
     "text": [
      "/tmp/ipykernel_62901/1983484597.py:49: FutureWarning: `multichannel` is a deprecated argument name for `hog`. It will be removed in version 1.0. Please use `channel_axis` instead.\n",
      "  fds, img_hog = hog(\n"
     ]
    },
    {
     "name": "stdout",
     "output_type": "stream",
     "text": [
      "Detection:: Location -> (200, 440)\n",
      "Scale ->  0 | Confidence Score 0.6488449150999415 \n",
      "\n",
      "Detection:: Location -> (220, 440)\n",
      "Scale ->  0 | Confidence Score 0.6355020797177487 \n",
      "\n"
     ]
    },
    {
     "name": "stderr",
     "output_type": "stream",
     "text": [
      "/tmp/ipykernel_62901/1983484597.py:49: FutureWarning: `multichannel` is a deprecated argument name for `hog`. It will be removed in version 1.0. Please use `channel_axis` instead.\n",
      "  fds, img_hog = hog(\n",
      "/tmp/ipykernel_62901/1983484597.py:49: FutureWarning: `multichannel` is a deprecated argument name for `hog`. It will be removed in version 1.0. Please use `channel_axis` instead.\n",
      "  fds, img_hog = hog(\n",
      "/tmp/ipykernel_62901/1983484597.py:49: FutureWarning: `multichannel` is a deprecated argument name for `hog`. It will be removed in version 1.0. Please use `channel_axis` instead.\n",
      "  fds, img_hog = hog(\n",
      "/tmp/ipykernel_62901/1983484597.py:49: FutureWarning: `multichannel` is a deprecated argument name for `hog`. It will be removed in version 1.0. Please use `channel_axis` instead.\n",
      "  fds, img_hog = hog(\n"
     ]
    },
    {
     "name": "stdout",
     "output_type": "stream",
     "text": [
      "Detection:: Location -> (260, 440)\n",
      "Scale ->  0 | Confidence Score 0.6220515083062597 \n",
      "\n",
      "Detection:: Location -> (280, 440)\n",
      "Scale ->  0 | Confidence Score 0.64674064620786 \n",
      "\n"
     ]
    },
    {
     "name": "stderr",
     "output_type": "stream",
     "text": [
      "/tmp/ipykernel_62901/1983484597.py:49: FutureWarning: `multichannel` is a deprecated argument name for `hog`. It will be removed in version 1.0. Please use `channel_axis` instead.\n",
      "  fds, img_hog = hog(\n",
      "/tmp/ipykernel_62901/1983484597.py:49: FutureWarning: `multichannel` is a deprecated argument name for `hog`. It will be removed in version 1.0. Please use `channel_axis` instead.\n",
      "  fds, img_hog = hog(\n"
     ]
    },
    {
     "name": "stdout",
     "output_type": "stream",
     "text": [
      "Detection:: Location -> (300, 440)\n",
      "Scale ->  0 | Confidence Score 0.6450594749935501 \n",
      "\n",
      "Detection:: Location -> (320, 440)\n",
      "Scale ->  0 | Confidence Score 0.6290888303875696 \n",
      "\n"
     ]
    },
    {
     "name": "stderr",
     "output_type": "stream",
     "text": [
      "/tmp/ipykernel_62901/1983484597.py:49: FutureWarning: `multichannel` is a deprecated argument name for `hog`. It will be removed in version 1.0. Please use `channel_axis` instead.\n",
      "  fds, img_hog = hog(\n",
      "/tmp/ipykernel_62901/1983484597.py:49: FutureWarning: `multichannel` is a deprecated argument name for `hog`. It will be removed in version 1.0. Please use `channel_axis` instead.\n",
      "  fds, img_hog = hog(\n"
     ]
    },
    {
     "name": "stdout",
     "output_type": "stream",
     "text": [
      "Detection:: Location -> (340, 440)\n",
      "Scale ->  0 | Confidence Score 0.6413717993064555 \n",
      "\n",
      "Detection:: Location -> (360, 440)\n",
      "Scale ->  0 | Confidence Score 0.6024592616119705 \n",
      "\n"
     ]
    },
    {
     "name": "stderr",
     "output_type": "stream",
     "text": [
      "/tmp/ipykernel_62901/1983484597.py:49: FutureWarning: `multichannel` is a deprecated argument name for `hog`. It will be removed in version 1.0. Please use `channel_axis` instead.\n",
      "  fds, img_hog = hog(\n"
     ]
    },
    {
     "name": "stdout",
     "output_type": "stream",
     "text": [
      "Detection:: Location -> (380, 440)\n",
      "Scale ->  0 | Confidence Score 0.6323105152795148 \n",
      "\n"
     ]
    },
    {
     "name": "stderr",
     "output_type": "stream",
     "text": [
      "/tmp/ipykernel_62901/1983484597.py:49: FutureWarning: `multichannel` is a deprecated argument name for `hog`. It will be removed in version 1.0. Please use `channel_axis` instead.\n",
      "  fds, img_hog = hog(\n",
      "/tmp/ipykernel_62901/1983484597.py:49: FutureWarning: `multichannel` is a deprecated argument name for `hog`. It will be removed in version 1.0. Please use `channel_axis` instead.\n",
      "  fds, img_hog = hog(\n"
     ]
    },
    {
     "name": "stdout",
     "output_type": "stream",
     "text": [
      "Detection:: Location -> (420, 440)\n",
      "Scale ->  0 | Confidence Score 0.620293818646082 \n",
      "\n"
     ]
    },
    {
     "name": "stderr",
     "output_type": "stream",
     "text": [
      "/tmp/ipykernel_62901/1983484597.py:49: FutureWarning: `multichannel` is a deprecated argument name for `hog`. It will be removed in version 1.0. Please use `channel_axis` instead.\n",
      "  fds, img_hog = hog(\n",
      "/tmp/ipykernel_62901/1983484597.py:49: FutureWarning: `multichannel` is a deprecated argument name for `hog`. It will be removed in version 1.0. Please use `channel_axis` instead.\n",
      "  fds, img_hog = hog(\n",
      "/tmp/ipykernel_62901/1983484597.py:49: FutureWarning: `multichannel` is a deprecated argument name for `hog`. It will be removed in version 1.0. Please use `channel_axis` instead.\n",
      "  fds, img_hog = hog(\n",
      "/tmp/ipykernel_62901/1983484597.py:49: FutureWarning: `multichannel` is a deprecated argument name for `hog`. It will be removed in version 1.0. Please use `channel_axis` instead.\n",
      "  fds, img_hog = hog(\n",
      "/tmp/ipykernel_62901/1983484597.py:49: FutureWarning: `multichannel` is a deprecated argument name for `hog`. It will be removed in version 1.0. Please use `channel_axis` instead.\n",
      "  fds, img_hog = hog(\n",
      "/tmp/ipykernel_62901/1983484597.py:49: FutureWarning: `multichannel` is a deprecated argument name for `hog`. It will be removed in version 1.0. Please use `channel_axis` instead.\n",
      "  fds, img_hog = hog(\n",
      "/tmp/ipykernel_62901/1983484597.py:49: FutureWarning: `multichannel` is a deprecated argument name for `hog`. It will be removed in version 1.0. Please use `channel_axis` instead.\n",
      "  fds, img_hog = hog(\n",
      "/tmp/ipykernel_62901/1983484597.py:49: FutureWarning: `multichannel` is a deprecated argument name for `hog`. It will be removed in version 1.0. Please use `channel_axis` instead.\n",
      "  fds, img_hog = hog(\n"
     ]
    },
    {
     "name": "stdout",
     "output_type": "stream",
     "text": [
      "Detection:: Location -> (580, 440)\n",
      "Scale ->  0 | Confidence Score 0.6252384487532918 \n",
      "\n"
     ]
    },
    {
     "name": "stderr",
     "output_type": "stream",
     "text": [
      "/tmp/ipykernel_62901/1983484597.py:49: FutureWarning: `multichannel` is a deprecated argument name for `hog`. It will be removed in version 1.0. Please use `channel_axis` instead.\n",
      "  fds, img_hog = hog(\n",
      "/tmp/ipykernel_62901/1983484597.py:49: FutureWarning: `multichannel` is a deprecated argument name for `hog`. It will be removed in version 1.0. Please use `channel_axis` instead.\n",
      "  fds, img_hog = hog(\n"
     ]
    },
    {
     "name": "stdout",
     "output_type": "stream",
     "text": [
      "Detection:: Location -> (620, 440)\n",
      "Scale ->  0 | Confidence Score 0.6653093420602084 \n",
      "\n"
     ]
    },
    {
     "name": "stderr",
     "output_type": "stream",
     "text": [
      "/tmp/ipykernel_62901/1983484597.py:49: FutureWarning: `multichannel` is a deprecated argument name for `hog`. It will be removed in version 1.0. Please use `channel_axis` instead.\n",
      "  fds, img_hog = hog(\n",
      "/tmp/ipykernel_62901/1983484597.py:49: FutureWarning: `multichannel` is a deprecated argument name for `hog`. It will be removed in version 1.0. Please use `channel_axis` instead.\n",
      "  fds, img_hog = hog(\n"
     ]
    },
    {
     "name": "stdout",
     "output_type": "stream",
     "text": [
      "Detection:: Location -> (660, 440)\n",
      "Scale ->  0 | Confidence Score 0.6598420464342566 \n",
      "\n"
     ]
    },
    {
     "name": "stderr",
     "output_type": "stream",
     "text": [
      "/tmp/ipykernel_62901/1983484597.py:49: FutureWarning: `multichannel` is a deprecated argument name for `hog`. It will be removed in version 1.0. Please use `channel_axis` instead.\n",
      "  fds, img_hog = hog(\n",
      "/tmp/ipykernel_62901/1983484597.py:49: FutureWarning: `multichannel` is a deprecated argument name for `hog`. It will be removed in version 1.0. Please use `channel_axis` instead.\n",
      "  fds, img_hog = hog(\n"
     ]
    },
    {
     "name": "stdout",
     "output_type": "stream",
     "text": [
      "Detection:: Location -> (700, 440)\n",
      "Scale ->  0 | Confidence Score 0.62209903604791 \n",
      "\n"
     ]
    },
    {
     "name": "stderr",
     "output_type": "stream",
     "text": [
      "/tmp/ipykernel_62901/1983484597.py:49: FutureWarning: `multichannel` is a deprecated argument name for `hog`. It will be removed in version 1.0. Please use `channel_axis` instead.\n",
      "  fds, img_hog = hog(\n",
      "/tmp/ipykernel_62901/1983484597.py:49: FutureWarning: `multichannel` is a deprecated argument name for `hog`. It will be removed in version 1.0. Please use `channel_axis` instead.\n",
      "  fds, img_hog = hog(\n",
      "/tmp/ipykernel_62901/1983484597.py:49: FutureWarning: `multichannel` is a deprecated argument name for `hog`. It will be removed in version 1.0. Please use `channel_axis` instead.\n",
      "  fds, img_hog = hog(\n"
     ]
    },
    {
     "name": "stdout",
     "output_type": "stream",
     "text": [
      "Detection:: Location -> (740, 440)\n",
      "Scale ->  0 | Confidence Score 0.601711864938939 \n",
      "\n",
      "Detection:: Location -> (760, 440)\n",
      "Scale ->  0 | Confidence Score 0.6332839489443698 \n",
      "\n"
     ]
    },
    {
     "name": "stderr",
     "output_type": "stream",
     "text": [
      "/tmp/ipykernel_62901/1983484597.py:49: FutureWarning: `multichannel` is a deprecated argument name for `hog`. It will be removed in version 1.0. Please use `channel_axis` instead.\n",
      "  fds, img_hog = hog(\n",
      "/tmp/ipykernel_62901/1983484597.py:49: FutureWarning: `multichannel` is a deprecated argument name for `hog`. It will be removed in version 1.0. Please use `channel_axis` instead.\n",
      "  fds, img_hog = hog(\n"
     ]
    },
    {
     "name": "stdout",
     "output_type": "stream",
     "text": [
      "Detection:: Location -> (780, 440)\n",
      "Scale ->  0 | Confidence Score 0.6522066035939345 \n",
      "\n",
      "Detection:: Location -> (800, 440)\n",
      "Scale ->  0 | Confidence Score 0.6578238390446234 \n",
      "\n"
     ]
    },
    {
     "name": "stderr",
     "output_type": "stream",
     "text": [
      "/tmp/ipykernel_62901/1983484597.py:49: FutureWarning: `multichannel` is a deprecated argument name for `hog`. It will be removed in version 1.0. Please use `channel_axis` instead.\n",
      "  fds, img_hog = hog(\n",
      "/tmp/ipykernel_62901/1983484597.py:49: FutureWarning: `multichannel` is a deprecated argument name for `hog`. It will be removed in version 1.0. Please use `channel_axis` instead.\n",
      "  fds, img_hog = hog(\n"
     ]
    },
    {
     "name": "stdout",
     "output_type": "stream",
     "text": [
      "Detection:: Location -> (820, 440)\n",
      "Scale ->  0 | Confidence Score 0.6294456205347885 \n",
      "\n",
      "Detection:: Location -> (840, 440)\n",
      "Scale ->  0 | Confidence Score 0.6283274351136299 \n",
      "\n"
     ]
    },
    {
     "name": "stderr",
     "output_type": "stream",
     "text": [
      "/tmp/ipykernel_62901/1983484597.py:49: FutureWarning: `multichannel` is a deprecated argument name for `hog`. It will be removed in version 1.0. Please use `channel_axis` instead.\n",
      "  fds, img_hog = hog(\n",
      "/tmp/ipykernel_62901/1983484597.py:49: FutureWarning: `multichannel` is a deprecated argument name for `hog`. It will be removed in version 1.0. Please use `channel_axis` instead.\n",
      "  fds, img_hog = hog(\n"
     ]
    },
    {
     "name": "stdout",
     "output_type": "stream",
     "text": [
      "Detection:: Location -> (860, 440)\n",
      "Scale ->  0 | Confidence Score 0.6047303114719543 \n",
      "\n"
     ]
    },
    {
     "name": "stderr",
     "output_type": "stream",
     "text": [
      "/tmp/ipykernel_62901/1983484597.py:49: FutureWarning: `multichannel` is a deprecated argument name for `hog`. It will be removed in version 1.0. Please use `channel_axis` instead.\n",
      "  fds, img_hog = hog(\n",
      "/tmp/ipykernel_62901/1983484597.py:49: FutureWarning: `multichannel` is a deprecated argument name for `hog`. It will be removed in version 1.0. Please use `channel_axis` instead.\n",
      "  fds, img_hog = hog(\n"
     ]
    },
    {
     "name": "stdout",
     "output_type": "stream",
     "text": [
      "Detection:: Location -> (900, 440)\n",
      "Scale ->  0 | Confidence Score 0.6034027068869487 \n",
      "\n"
     ]
    },
    {
     "name": "stderr",
     "output_type": "stream",
     "text": [
      "/tmp/ipykernel_62901/1983484597.py:49: FutureWarning: `multichannel` is a deprecated argument name for `hog`. It will be removed in version 1.0. Please use `channel_axis` instead.\n",
      "  fds, img_hog = hog(\n",
      "/tmp/ipykernel_62901/1983484597.py:49: FutureWarning: `multichannel` is a deprecated argument name for `hog`. It will be removed in version 1.0. Please use `channel_axis` instead.\n",
      "  fds, img_hog = hog(\n"
     ]
    },
    {
     "name": "stdout",
     "output_type": "stream",
     "text": [
      "Detection:: Location -> (20, 460)\n",
      "Scale ->  0 | Confidence Score 0.6867270770588002 \n",
      "\n",
      "Detection:: Location -> (40, 460)\n",
      "Scale ->  0 | Confidence Score 0.7672090147477598 \n",
      "\n"
     ]
    },
    {
     "name": "stderr",
     "output_type": "stream",
     "text": [
      "/tmp/ipykernel_62901/1983484597.py:49: FutureWarning: `multichannel` is a deprecated argument name for `hog`. It will be removed in version 1.0. Please use `channel_axis` instead.\n",
      "  fds, img_hog = hog(\n",
      "/tmp/ipykernel_62901/1983484597.py:49: FutureWarning: `multichannel` is a deprecated argument name for `hog`. It will be removed in version 1.0. Please use `channel_axis` instead.\n",
      "  fds, img_hog = hog(\n"
     ]
    },
    {
     "name": "stdout",
     "output_type": "stream",
     "text": [
      "Detection:: Location -> (60, 460)\n",
      "Scale ->  0 | Confidence Score 0.8123424710861366 \n",
      "\n",
      "Detection:: Location -> (80, 460)\n",
      "Scale ->  0 | Confidence Score 0.7797089110350212 \n",
      "\n"
     ]
    },
    {
     "name": "stderr",
     "output_type": "stream",
     "text": [
      "/tmp/ipykernel_62901/1983484597.py:49: FutureWarning: `multichannel` is a deprecated argument name for `hog`. It will be removed in version 1.0. Please use `channel_axis` instead.\n",
      "  fds, img_hog = hog(\n",
      "/tmp/ipykernel_62901/1983484597.py:49: FutureWarning: `multichannel` is a deprecated argument name for `hog`. It will be removed in version 1.0. Please use `channel_axis` instead.\n",
      "  fds, img_hog = hog(\n"
     ]
    },
    {
     "name": "stdout",
     "output_type": "stream",
     "text": [
      "Detection:: Location -> (100, 460)\n",
      "Scale ->  0 | Confidence Score 0.766538378450266 \n",
      "\n",
      "Detection:: Location -> (120, 460)\n",
      "Scale ->  0 | Confidence Score 0.7526550459698282 \n",
      "\n"
     ]
    },
    {
     "name": "stderr",
     "output_type": "stream",
     "text": [
      "/tmp/ipykernel_62901/1983484597.py:49: FutureWarning: `multichannel` is a deprecated argument name for `hog`. It will be removed in version 1.0. Please use `channel_axis` instead.\n",
      "  fds, img_hog = hog(\n",
      "/tmp/ipykernel_62901/1983484597.py:49: FutureWarning: `multichannel` is a deprecated argument name for `hog`. It will be removed in version 1.0. Please use `channel_axis` instead.\n",
      "  fds, img_hog = hog(\n"
     ]
    },
    {
     "name": "stdout",
     "output_type": "stream",
     "text": [
      "Detection:: Location -> (140, 460)\n",
      "Scale ->  0 | Confidence Score 0.7552461719219473 \n",
      "\n",
      "Detection:: Location -> (160, 460)\n",
      "Scale ->  0 | Confidence Score 0.711966646798944 \n",
      "\n"
     ]
    },
    {
     "name": "stderr",
     "output_type": "stream",
     "text": [
      "/tmp/ipykernel_62901/1983484597.py:49: FutureWarning: `multichannel` is a deprecated argument name for `hog`. It will be removed in version 1.0. Please use `channel_axis` instead.\n",
      "  fds, img_hog = hog(\n",
      "/tmp/ipykernel_62901/1983484597.py:49: FutureWarning: `multichannel` is a deprecated argument name for `hog`. It will be removed in version 1.0. Please use `channel_axis` instead.\n",
      "  fds, img_hog = hog(\n"
     ]
    },
    {
     "name": "stdout",
     "output_type": "stream",
     "text": [
      "Detection:: Location -> (180, 460)\n",
      "Scale ->  0 | Confidence Score 0.6719656868946364 \n",
      "\n",
      "Detection:: Location -> (200, 460)\n",
      "Scale ->  0 | Confidence Score 0.6734329401038903 \n",
      "\n"
     ]
    },
    {
     "name": "stderr",
     "output_type": "stream",
     "text": [
      "/tmp/ipykernel_62901/1983484597.py:49: FutureWarning: `multichannel` is a deprecated argument name for `hog`. It will be removed in version 1.0. Please use `channel_axis` instead.\n",
      "  fds, img_hog = hog(\n",
      "/tmp/ipykernel_62901/1983484597.py:49: FutureWarning: `multichannel` is a deprecated argument name for `hog`. It will be removed in version 1.0. Please use `channel_axis` instead.\n",
      "  fds, img_hog = hog(\n"
     ]
    },
    {
     "name": "stdout",
     "output_type": "stream",
     "text": [
      "Detection:: Location -> (220, 460)\n",
      "Scale ->  0 | Confidence Score 0.7126074658630905 \n",
      "\n",
      "Detection:: Location -> (240, 460)\n",
      "Scale ->  0 | Confidence Score 0.7243342100735813 \n",
      "\n"
     ]
    },
    {
     "name": "stderr",
     "output_type": "stream",
     "text": [
      "/tmp/ipykernel_62901/1983484597.py:49: FutureWarning: `multichannel` is a deprecated argument name for `hog`. It will be removed in version 1.0. Please use `channel_axis` instead.\n",
      "  fds, img_hog = hog(\n",
      "/tmp/ipykernel_62901/1983484597.py:49: FutureWarning: `multichannel` is a deprecated argument name for `hog`. It will be removed in version 1.0. Please use `channel_axis` instead.\n",
      "  fds, img_hog = hog(\n"
     ]
    },
    {
     "name": "stdout",
     "output_type": "stream",
     "text": [
      "Detection:: Location -> (260, 460)\n",
      "Scale ->  0 | Confidence Score 0.68883113330491 \n",
      "\n"
     ]
    },
    {
     "name": "stderr",
     "output_type": "stream",
     "text": [
      "/tmp/ipykernel_62901/1983484597.py:49: FutureWarning: `multichannel` is a deprecated argument name for `hog`. It will be removed in version 1.0. Please use `channel_axis` instead.\n",
      "  fds, img_hog = hog(\n",
      "/tmp/ipykernel_62901/1983484597.py:49: FutureWarning: `multichannel` is a deprecated argument name for `hog`. It will be removed in version 1.0. Please use `channel_axis` instead.\n",
      "  fds, img_hog = hog(\n"
     ]
    },
    {
     "name": "stdout",
     "output_type": "stream",
     "text": [
      "Detection:: Location -> (300, 460)\n",
      "Scale ->  0 | Confidence Score 0.6723287607037108 \n",
      "\n",
      "Detection:: Location -> (320, 460)\n",
      "Scale ->  0 | Confidence Score 0.6935799122210204 \n",
      "\n"
     ]
    },
    {
     "name": "stderr",
     "output_type": "stream",
     "text": [
      "/tmp/ipykernel_62901/1983484597.py:49: FutureWarning: `multichannel` is a deprecated argument name for `hog`. It will be removed in version 1.0. Please use `channel_axis` instead.\n",
      "  fds, img_hog = hog(\n",
      "/tmp/ipykernel_62901/1983484597.py:49: FutureWarning: `multichannel` is a deprecated argument name for `hog`. It will be removed in version 1.0. Please use `channel_axis` instead.\n",
      "  fds, img_hog = hog(\n"
     ]
    },
    {
     "name": "stdout",
     "output_type": "stream",
     "text": [
      "Detection:: Location -> (340, 460)\n",
      "Scale ->  0 | Confidence Score 0.6588005406631955 \n",
      "\n"
     ]
    },
    {
     "name": "stderr",
     "output_type": "stream",
     "text": [
      "/tmp/ipykernel_62901/1983484597.py:49: FutureWarning: `multichannel` is a deprecated argument name for `hog`. It will be removed in version 1.0. Please use `channel_axis` instead.\n",
      "  fds, img_hog = hog(\n",
      "/tmp/ipykernel_62901/1983484597.py:49: FutureWarning: `multichannel` is a deprecated argument name for `hog`. It will be removed in version 1.0. Please use `channel_axis` instead.\n",
      "  fds, img_hog = hog(\n"
     ]
    },
    {
     "name": "stdout",
     "output_type": "stream",
     "text": [
      "Detection:: Location -> (380, 460)\n",
      "Scale ->  0 | Confidence Score 0.6094856179758759 \n",
      "\n",
      "Detection:: Location -> (400, 460)\n",
      "Scale ->  0 | Confidence Score 0.6190264740178637 \n",
      "\n"
     ]
    },
    {
     "name": "stderr",
     "output_type": "stream",
     "text": [
      "/tmp/ipykernel_62901/1983484597.py:49: FutureWarning: `multichannel` is a deprecated argument name for `hog`. It will be removed in version 1.0. Please use `channel_axis` instead.\n",
      "  fds, img_hog = hog(\n",
      "/tmp/ipykernel_62901/1983484597.py:49: FutureWarning: `multichannel` is a deprecated argument name for `hog`. It will be removed in version 1.0. Please use `channel_axis` instead.\n",
      "  fds, img_hog = hog(\n"
     ]
    },
    {
     "name": "stdout",
     "output_type": "stream",
     "text": [
      "Detection:: Location -> (420, 460)\n",
      "Scale ->  0 | Confidence Score 0.6893815719333166 \n",
      "\n"
     ]
    },
    {
     "name": "stderr",
     "output_type": "stream",
     "text": [
      "/tmp/ipykernel_62901/1983484597.py:49: FutureWarning: `multichannel` is a deprecated argument name for `hog`. It will be removed in version 1.0. Please use `channel_axis` instead.\n",
      "  fds, img_hog = hog(\n",
      "/tmp/ipykernel_62901/1983484597.py:49: FutureWarning: `multichannel` is a deprecated argument name for `hog`. It will be removed in version 1.0. Please use `channel_axis` instead.\n",
      "  fds, img_hog = hog(\n",
      "/tmp/ipykernel_62901/1983484597.py:49: FutureWarning: `multichannel` is a deprecated argument name for `hog`. It will be removed in version 1.0. Please use `channel_axis` instead.\n",
      "  fds, img_hog = hog(\n",
      "/tmp/ipykernel_62901/1983484597.py:49: FutureWarning: `multichannel` is a deprecated argument name for `hog`. It will be removed in version 1.0. Please use `channel_axis` instead.\n",
      "  fds, img_hog = hog(\n"
     ]
    },
    {
     "name": "stdout",
     "output_type": "stream",
     "text": [
      "Detection:: Location -> (480, 460)\n",
      "Scale ->  0 | Confidence Score 0.6195021454578555 \n",
      "\n",
      "Detection:: Location -> (500, 460)\n",
      "Scale ->  0 | Confidence Score 0.7288983808061766 \n",
      "\n"
     ]
    },
    {
     "name": "stderr",
     "output_type": "stream",
     "text": [
      "/tmp/ipykernel_62901/1983484597.py:49: FutureWarning: `multichannel` is a deprecated argument name for `hog`. It will be removed in version 1.0. Please use `channel_axis` instead.\n",
      "  fds, img_hog = hog(\n"
     ]
    },
    {
     "name": "stdout",
     "output_type": "stream",
     "text": [
      "Detection:: Location -> (520, 460)\n",
      "Scale ->  0 | Confidence Score 0.6766930842224392 \n",
      "\n",
      "Detection:: Location -> (540, 460)\n",
      "Scale ->  0 | Confidence Score 0.6470751513954506 \n",
      "\n"
     ]
    },
    {
     "name": "stderr",
     "output_type": "stream",
     "text": [
      "/tmp/ipykernel_62901/1983484597.py:49: FutureWarning: `multichannel` is a deprecated argument name for `hog`. It will be removed in version 1.0. Please use `channel_axis` instead.\n",
      "  fds, img_hog = hog(\n",
      "/tmp/ipykernel_62901/1983484597.py:49: FutureWarning: `multichannel` is a deprecated argument name for `hog`. It will be removed in version 1.0. Please use `channel_axis` instead.\n",
      "  fds, img_hog = hog(\n",
      "/tmp/ipykernel_62901/1983484597.py:49: FutureWarning: `multichannel` is a deprecated argument name for `hog`. It will be removed in version 1.0. Please use `channel_axis` instead.\n",
      "  fds, img_hog = hog(\n",
      "/tmp/ipykernel_62901/1983484597.py:49: FutureWarning: `multichannel` is a deprecated argument name for `hog`. It will be removed in version 1.0. Please use `channel_axis` instead.\n",
      "  fds, img_hog = hog(\n"
     ]
    },
    {
     "name": "stdout",
     "output_type": "stream",
     "text": [
      "Detection:: Location -> (580, 460)\n",
      "Scale ->  0 | Confidence Score 0.6137349671390957 \n",
      "\n"
     ]
    },
    {
     "name": "stderr",
     "output_type": "stream",
     "text": [
      "/tmp/ipykernel_62901/1983484597.py:49: FutureWarning: `multichannel` is a deprecated argument name for `hog`. It will be removed in version 1.0. Please use `channel_axis` instead.\n",
      "  fds, img_hog = hog(\n",
      "/tmp/ipykernel_62901/1983484597.py:49: FutureWarning: `multichannel` is a deprecated argument name for `hog`. It will be removed in version 1.0. Please use `channel_axis` instead.\n",
      "  fds, img_hog = hog(\n"
     ]
    },
    {
     "name": "stdout",
     "output_type": "stream",
     "text": [
      "Detection:: Location -> (640, 460)\n",
      "Scale ->  0 | Confidence Score 0.6633822579499037 \n",
      "\n",
      "Detection:: Location -> (660, 460)\n",
      "Scale ->  0 | Confidence Score 0.6907372524260056 \n",
      "\n"
     ]
    },
    {
     "name": "stderr",
     "output_type": "stream",
     "text": [
      "/tmp/ipykernel_62901/1983484597.py:49: FutureWarning: `multichannel` is a deprecated argument name for `hog`. It will be removed in version 1.0. Please use `channel_axis` instead.\n",
      "  fds, img_hog = hog(\n",
      "/tmp/ipykernel_62901/1983484597.py:49: FutureWarning: `multichannel` is a deprecated argument name for `hog`. It will be removed in version 1.0. Please use `channel_axis` instead.\n",
      "  fds, img_hog = hog(\n"
     ]
    },
    {
     "name": "stdout",
     "output_type": "stream",
     "text": [
      "Detection:: Location -> (680, 460)\n",
      "Scale ->  0 | Confidence Score 0.7297926850925169 \n",
      "\n",
      "Detection:: Location -> (700, 460)\n",
      "Scale ->  0 | Confidence Score 0.7103202437801414 \n",
      "\n"
     ]
    },
    {
     "name": "stderr",
     "output_type": "stream",
     "text": [
      "/tmp/ipykernel_62901/1983484597.py:49: FutureWarning: `multichannel` is a deprecated argument name for `hog`. It will be removed in version 1.0. Please use `channel_axis` instead.\n",
      "  fds, img_hog = hog(\n",
      "/tmp/ipykernel_62901/1983484597.py:49: FutureWarning: `multichannel` is a deprecated argument name for `hog`. It will be removed in version 1.0. Please use `channel_axis` instead.\n",
      "  fds, img_hog = hog(\n"
     ]
    },
    {
     "name": "stdout",
     "output_type": "stream",
     "text": [
      "Detection:: Location -> (720, 460)\n",
      "Scale ->  0 | Confidence Score 0.6704676576138643 \n",
      "\n",
      "Detection:: Location -> (740, 460)\n",
      "Scale ->  0 | Confidence Score 0.669323747840631 \n",
      "\n"
     ]
    },
    {
     "name": "stderr",
     "output_type": "stream",
     "text": [
      "/tmp/ipykernel_62901/1983484597.py:49: FutureWarning: `multichannel` is a deprecated argument name for `hog`. It will be removed in version 1.0. Please use `channel_axis` instead.\n",
      "  fds, img_hog = hog(\n",
      "/tmp/ipykernel_62901/1983484597.py:49: FutureWarning: `multichannel` is a deprecated argument name for `hog`. It will be removed in version 1.0. Please use `channel_axis` instead.\n",
      "  fds, img_hog = hog(\n",
      "/tmp/ipykernel_62901/1983484597.py:49: FutureWarning: `multichannel` is a deprecated argument name for `hog`. It will be removed in version 1.0. Please use `channel_axis` instead.\n",
      "  fds, img_hog = hog(\n",
      "/tmp/ipykernel_62901/1983484597.py:49: FutureWarning: `multichannel` is a deprecated argument name for `hog`. It will be removed in version 1.0. Please use `channel_axis` instead.\n",
      "  fds, img_hog = hog(\n"
     ]
    },
    {
     "name": "stdout",
     "output_type": "stream",
     "text": [
      "Detection:: Location -> (780, 460)\n",
      "Scale ->  0 | Confidence Score 0.6526847907780461 \n",
      "\n",
      "Detection:: Location -> (800, 460)\n",
      "Scale ->  0 | Confidence Score 0.6586506614255081 \n",
      "\n"
     ]
    },
    {
     "name": "stderr",
     "output_type": "stream",
     "text": [
      "/tmp/ipykernel_62901/1983484597.py:49: FutureWarning: `multichannel` is a deprecated argument name for `hog`. It will be removed in version 1.0. Please use `channel_axis` instead.\n",
      "  fds, img_hog = hog(\n",
      "/tmp/ipykernel_62901/1983484597.py:49: FutureWarning: `multichannel` is a deprecated argument name for `hog`. It will be removed in version 1.0. Please use `channel_axis` instead.\n",
      "  fds, img_hog = hog(\n"
     ]
    },
    {
     "name": "stdout",
     "output_type": "stream",
     "text": [
      "Detection:: Location -> (820, 460)\n",
      "Scale ->  0 | Confidence Score 0.6766541669211068 \n",
      "\n",
      "Detection:: Location -> (840, 460)\n",
      "Scale ->  0 | Confidence Score 0.6622578776127575 \n",
      "\n"
     ]
    },
    {
     "name": "stderr",
     "output_type": "stream",
     "text": [
      "/tmp/ipykernel_62901/1983484597.py:49: FutureWarning: `multichannel` is a deprecated argument name for `hog`. It will be removed in version 1.0. Please use `channel_axis` instead.\n",
      "  fds, img_hog = hog(\n",
      "/tmp/ipykernel_62901/1983484597.py:49: FutureWarning: `multichannel` is a deprecated argument name for `hog`. It will be removed in version 1.0. Please use `channel_axis` instead.\n",
      "  fds, img_hog = hog(\n"
     ]
    },
    {
     "name": "stdout",
     "output_type": "stream",
     "text": [
      "Detection:: Location -> (860, 460)\n",
      "Scale ->  0 | Confidence Score 0.668023677248905 \n",
      "\n",
      "Detection:: Location -> (880, 460)\n",
      "Scale ->  0 | Confidence Score 0.729070027802724 \n",
      "\n"
     ]
    },
    {
     "name": "stderr",
     "output_type": "stream",
     "text": [
      "/tmp/ipykernel_62901/1983484597.py:49: FutureWarning: `multichannel` is a deprecated argument name for `hog`. It will be removed in version 1.0. Please use `channel_axis` instead.\n",
      "  fds, img_hog = hog(\n",
      "/tmp/ipykernel_62901/1983484597.py:49: FutureWarning: `multichannel` is a deprecated argument name for `hog`. It will be removed in version 1.0. Please use `channel_axis` instead.\n",
      "  fds, img_hog = hog(\n"
     ]
    },
    {
     "name": "stdout",
     "output_type": "stream",
     "text": [
      "Detection:: Location -> (900, 460)\n",
      "Scale ->  0 | Confidence Score 0.6689598094813608 \n",
      "\n"
     ]
    },
    {
     "name": "stderr",
     "output_type": "stream",
     "text": [
      "/tmp/ipykernel_62901/1983484597.py:49: FutureWarning: `multichannel` is a deprecated argument name for `hog`. It will be removed in version 1.0. Please use `channel_axis` instead.\n",
      "  fds, img_hog = hog(\n",
      "/tmp/ipykernel_62901/1983484597.py:49: FutureWarning: `multichannel` is a deprecated argument name for `hog`. It will be removed in version 1.0. Please use `channel_axis` instead.\n",
      "  fds, img_hog = hog(\n"
     ]
    },
    {
     "name": "stdout",
     "output_type": "stream",
     "text": [
      "Detection:: Location -> (20, 480)\n",
      "Scale ->  0 | Confidence Score 0.6998572181153239 \n",
      "\n"
     ]
    },
    {
     "name": "stderr",
     "output_type": "stream",
     "text": [
      "/tmp/ipykernel_62901/1983484597.py:49: FutureWarning: `multichannel` is a deprecated argument name for `hog`. It will be removed in version 1.0. Please use `channel_axis` instead.\n",
      "  fds, img_hog = hog(\n"
     ]
    },
    {
     "name": "stdout",
     "output_type": "stream",
     "text": [
      "Detection:: Location -> (40, 480)\n",
      "Scale ->  0 | Confidence Score 0.712933451754443 \n",
      "\n",
      "Detection:: Location -> (60, 480)\n",
      "Scale ->  0 | Confidence Score 0.6982873691467557 \n",
      "\n"
     ]
    },
    {
     "name": "stderr",
     "output_type": "stream",
     "text": [
      "/tmp/ipykernel_62901/1983484597.py:49: FutureWarning: `multichannel` is a deprecated argument name for `hog`. It will be removed in version 1.0. Please use `channel_axis` instead.\n",
      "  fds, img_hog = hog(\n",
      "/tmp/ipykernel_62901/1983484597.py:49: FutureWarning: `multichannel` is a deprecated argument name for `hog`. It will be removed in version 1.0. Please use `channel_axis` instead.\n",
      "  fds, img_hog = hog(\n"
     ]
    },
    {
     "name": "stdout",
     "output_type": "stream",
     "text": [
      "Detection:: Location -> (80, 480)\n",
      "Scale ->  0 | Confidence Score 0.706957779946299 \n",
      "\n",
      "Detection:: Location -> (100, 480)\n",
      "Scale ->  0 | Confidence Score 0.7402297447350635 \n",
      "\n"
     ]
    },
    {
     "name": "stderr",
     "output_type": "stream",
     "text": [
      "/tmp/ipykernel_62901/1983484597.py:49: FutureWarning: `multichannel` is a deprecated argument name for `hog`. It will be removed in version 1.0. Please use `channel_axis` instead.\n",
      "  fds, img_hog = hog(\n",
      "/tmp/ipykernel_62901/1983484597.py:49: FutureWarning: `multichannel` is a deprecated argument name for `hog`. It will be removed in version 1.0. Please use `channel_axis` instead.\n",
      "  fds, img_hog = hog(\n"
     ]
    },
    {
     "name": "stdout",
     "output_type": "stream",
     "text": [
      "Detection:: Location -> (120, 480)\n",
      "Scale ->  0 | Confidence Score 0.6705523357015518 \n",
      "\n",
      "Detection:: Location -> (140, 480)\n",
      "Scale ->  0 | Confidence Score 0.6325929649814215 \n",
      "\n"
     ]
    },
    {
     "name": "stderr",
     "output_type": "stream",
     "text": [
      "/tmp/ipykernel_62901/1983484597.py:49: FutureWarning: `multichannel` is a deprecated argument name for `hog`. It will be removed in version 1.0. Please use `channel_axis` instead.\n",
      "  fds, img_hog = hog(\n",
      "/tmp/ipykernel_62901/1983484597.py:49: FutureWarning: `multichannel` is a deprecated argument name for `hog`. It will be removed in version 1.0. Please use `channel_axis` instead.\n",
      "  fds, img_hog = hog(\n"
     ]
    },
    {
     "name": "stdout",
     "output_type": "stream",
     "text": [
      "Detection:: Location -> (160, 480)\n",
      "Scale ->  0 | Confidence Score 0.6121137771635201 \n",
      "\n"
     ]
    },
    {
     "name": "stderr",
     "output_type": "stream",
     "text": [
      "/tmp/ipykernel_62901/1983484597.py:49: FutureWarning: `multichannel` is a deprecated argument name for `hog`. It will be removed in version 1.0. Please use `channel_axis` instead.\n",
      "  fds, img_hog = hog(\n"
     ]
    },
    {
     "name": "stdout",
     "output_type": "stream",
     "text": [
      "Detection:: Location -> (180, 480)\n",
      "Scale ->  0 | Confidence Score 0.6122868582395593 \n",
      "\n"
     ]
    },
    {
     "name": "stderr",
     "output_type": "stream",
     "text": [
      "/tmp/ipykernel_62901/1983484597.py:49: FutureWarning: `multichannel` is a deprecated argument name for `hog`. It will be removed in version 1.0. Please use `channel_axis` instead.\n",
      "  fds, img_hog = hog(\n"
     ]
    },
    {
     "name": "stdout",
     "output_type": "stream",
     "text": [
      "Detection:: Location -> (200, 480)\n",
      "Scale ->  0 | Confidence Score 0.6503166242150766 \n",
      "\n",
      "Detection:: Location -> (220, 480)\n",
      "Scale ->  0 | Confidence Score 0.6347558614476702 \n",
      "\n"
     ]
    },
    {
     "name": "stderr",
     "output_type": "stream",
     "text": [
      "/tmp/ipykernel_62901/1983484597.py:49: FutureWarning: `multichannel` is a deprecated argument name for `hog`. It will be removed in version 1.0. Please use `channel_axis` instead.\n",
      "  fds, img_hog = hog(\n",
      "/tmp/ipykernel_62901/1983484597.py:49: FutureWarning: `multichannel` is a deprecated argument name for `hog`. It will be removed in version 1.0. Please use `channel_axis` instead.\n",
      "  fds, img_hog = hog(\n",
      "/tmp/ipykernel_62901/1983484597.py:49: FutureWarning: `multichannel` is a deprecated argument name for `hog`. It will be removed in version 1.0. Please use `channel_axis` instead.\n",
      "  fds, img_hog = hog(\n",
      "/tmp/ipykernel_62901/1983484597.py:49: FutureWarning: `multichannel` is a deprecated argument name for `hog`. It will be removed in version 1.0. Please use `channel_axis` instead.\n",
      "  fds, img_hog = hog(\n",
      "/tmp/ipykernel_62901/1983484597.py:49: FutureWarning: `multichannel` is a deprecated argument name for `hog`. It will be removed in version 1.0. Please use `channel_axis` instead.\n",
      "  fds, img_hog = hog(\n",
      "/tmp/ipykernel_62901/1983484597.py:49: FutureWarning: `multichannel` is a deprecated argument name for `hog`. It will be removed in version 1.0. Please use `channel_axis` instead.\n",
      "  fds, img_hog = hog(\n"
     ]
    },
    {
     "name": "stdout",
     "output_type": "stream",
     "text": [
      "Detection:: Location -> (300, 480)\n",
      "Scale ->  0 | Confidence Score 0.6481932724990559 \n",
      "\n"
     ]
    },
    {
     "name": "stderr",
     "output_type": "stream",
     "text": [
      "/tmp/ipykernel_62901/1983484597.py:49: FutureWarning: `multichannel` is a deprecated argument name for `hog`. It will be removed in version 1.0. Please use `channel_axis` instead.\n",
      "  fds, img_hog = hog(\n",
      "/tmp/ipykernel_62901/1983484597.py:49: FutureWarning: `multichannel` is a deprecated argument name for `hog`. It will be removed in version 1.0. Please use `channel_axis` instead.\n",
      "  fds, img_hog = hog(\n",
      "/tmp/ipykernel_62901/1983484597.py:49: FutureWarning: `multichannel` is a deprecated argument name for `hog`. It will be removed in version 1.0. Please use `channel_axis` instead.\n",
      "  fds, img_hog = hog(\n",
      "/tmp/ipykernel_62901/1983484597.py:49: FutureWarning: `multichannel` is a deprecated argument name for `hog`. It will be removed in version 1.0. Please use `channel_axis` instead.\n",
      "  fds, img_hog = hog(\n",
      "/tmp/ipykernel_62901/1983484597.py:49: FutureWarning: `multichannel` is a deprecated argument name for `hog`. It will be removed in version 1.0. Please use `channel_axis` instead.\n",
      "  fds, img_hog = hog(\n",
      "/tmp/ipykernel_62901/1983484597.py:49: FutureWarning: `multichannel` is a deprecated argument name for `hog`. It will be removed in version 1.0. Please use `channel_axis` instead.\n",
      "  fds, img_hog = hog(\n"
     ]
    },
    {
     "name": "stdout",
     "output_type": "stream",
     "text": [
      "Detection:: Location -> (420, 480)\n",
      "Scale ->  0 | Confidence Score 0.6259558907319761 \n",
      "\n",
      "Detection:: Location -> (440, 480)\n",
      "Scale ->  0 | Confidence Score 0.6027829349386673 \n",
      "\n"
     ]
    },
    {
     "name": "stderr",
     "output_type": "stream",
     "text": [
      "/tmp/ipykernel_62901/1983484597.py:49: FutureWarning: `multichannel` is a deprecated argument name for `hog`. It will be removed in version 1.0. Please use `channel_axis` instead.\n",
      "  fds, img_hog = hog(\n",
      "/tmp/ipykernel_62901/1983484597.py:49: FutureWarning: `multichannel` is a deprecated argument name for `hog`. It will be removed in version 1.0. Please use `channel_axis` instead.\n",
      "  fds, img_hog = hog(\n"
     ]
    },
    {
     "name": "stdout",
     "output_type": "stream",
     "text": [
      "Detection:: Location -> (460, 480)\n",
      "Scale ->  0 | Confidence Score 0.6682709473410986 \n",
      "\n",
      "Detection:: Location -> (480, 480)\n",
      "Scale ->  0 | Confidence Score 0.7037478429061594 \n",
      "\n"
     ]
    },
    {
     "name": "stderr",
     "output_type": "stream",
     "text": [
      "/tmp/ipykernel_62901/1983484597.py:49: FutureWarning: `multichannel` is a deprecated argument name for `hog`. It will be removed in version 1.0. Please use `channel_axis` instead.\n",
      "  fds, img_hog = hog(\n",
      "/tmp/ipykernel_62901/1983484597.py:49: FutureWarning: `multichannel` is a deprecated argument name for `hog`. It will be removed in version 1.0. Please use `channel_axis` instead.\n",
      "  fds, img_hog = hog(\n"
     ]
    },
    {
     "name": "stdout",
     "output_type": "stream",
     "text": [
      "Detection:: Location -> (500, 480)\n",
      "Scale ->  0 | Confidence Score 0.6553031495800326 \n",
      "\n"
     ]
    },
    {
     "name": "stderr",
     "output_type": "stream",
     "text": [
      "/tmp/ipykernel_62901/1983484597.py:49: FutureWarning: `multichannel` is a deprecated argument name for `hog`. It will be removed in version 1.0. Please use `channel_axis` instead.\n",
      "  fds, img_hog = hog(\n",
      "/tmp/ipykernel_62901/1983484597.py:49: FutureWarning: `multichannel` is a deprecated argument name for `hog`. It will be removed in version 1.0. Please use `channel_axis` instead.\n",
      "  fds, img_hog = hog(\n",
      "/tmp/ipykernel_62901/1983484597.py:49: FutureWarning: `multichannel` is a deprecated argument name for `hog`. It will be removed in version 1.0. Please use `channel_axis` instead.\n",
      "  fds, img_hog = hog(\n",
      "/tmp/ipykernel_62901/1983484597.py:49: FutureWarning: `multichannel` is a deprecated argument name for `hog`. It will be removed in version 1.0. Please use `channel_axis` instead.\n",
      "  fds, img_hog = hog(\n"
     ]
    },
    {
     "name": "stdout",
     "output_type": "stream",
     "text": [
      "Detection:: Location -> (580, 480)\n",
      "Scale ->  0 | Confidence Score 0.6292680931222183 \n",
      "\n",
      "Detection:: Location -> (600, 480)\n",
      "Scale ->  0 | Confidence Score 0.6960889922880719 \n",
      "\n"
     ]
    },
    {
     "name": "stderr",
     "output_type": "stream",
     "text": [
      "/tmp/ipykernel_62901/1983484597.py:49: FutureWarning: `multichannel` is a deprecated argument name for `hog`. It will be removed in version 1.0. Please use `channel_axis` instead.\n",
      "  fds, img_hog = hog(\n",
      "/tmp/ipykernel_62901/1983484597.py:49: FutureWarning: `multichannel` is a deprecated argument name for `hog`. It will be removed in version 1.0. Please use `channel_axis` instead.\n",
      "  fds, img_hog = hog(\n"
     ]
    },
    {
     "name": "stdout",
     "output_type": "stream",
     "text": [
      "Detection:: Location -> (620, 480)\n",
      "Scale ->  0 | Confidence Score 0.7607034816869708 \n",
      "\n",
      "Detection:: Location -> (640, 480)\n",
      "Scale ->  0 | Confidence Score 0.6795033911616606 \n",
      "\n"
     ]
    },
    {
     "name": "stderr",
     "output_type": "stream",
     "text": [
      "/tmp/ipykernel_62901/1983484597.py:49: FutureWarning: `multichannel` is a deprecated argument name for `hog`. It will be removed in version 1.0. Please use `channel_axis` instead.\n",
      "  fds, img_hog = hog(\n",
      "/tmp/ipykernel_62901/1983484597.py:49: FutureWarning: `multichannel` is a deprecated argument name for `hog`. It will be removed in version 1.0. Please use `channel_axis` instead.\n",
      "  fds, img_hog = hog(\n"
     ]
    },
    {
     "name": "stdout",
     "output_type": "stream",
     "text": [
      "Detection:: Location -> (660, 480)\n",
      "Scale ->  0 | Confidence Score 0.7253119129393434 \n",
      "\n",
      "Detection:: Location -> (680, 480)\n",
      "Scale ->  0 | Confidence Score 0.6416038708488326 \n",
      "\n"
     ]
    },
    {
     "name": "stderr",
     "output_type": "stream",
     "text": [
      "/tmp/ipykernel_62901/1983484597.py:49: FutureWarning: `multichannel` is a deprecated argument name for `hog`. It will be removed in version 1.0. Please use `channel_axis` instead.\n",
      "  fds, img_hog = hog(\n"
     ]
    },
    {
     "name": "stdout",
     "output_type": "stream",
     "text": [
      "Detection:: Location -> (700, 480)\n",
      "Scale ->  0 | Confidence Score 0.6825003589476484 \n",
      "\n",
      "Detection:: Location -> (720, 480)\n",
      "Scale ->  0 | Confidence Score 0.600616016087411 \n",
      "\n"
     ]
    },
    {
     "name": "stderr",
     "output_type": "stream",
     "text": [
      "/tmp/ipykernel_62901/1983484597.py:49: FutureWarning: `multichannel` is a deprecated argument name for `hog`. It will be removed in version 1.0. Please use `channel_axis` instead.\n",
      "  fds, img_hog = hog(\n",
      "/tmp/ipykernel_62901/1983484597.py:49: FutureWarning: `multichannel` is a deprecated argument name for `hog`. It will be removed in version 1.0. Please use `channel_axis` instead.\n",
      "  fds, img_hog = hog(\n"
     ]
    },
    {
     "name": "stdout",
     "output_type": "stream",
     "text": [
      "Detection:: Location -> (740, 480)\n",
      "Scale ->  0 | Confidence Score 0.6459989754565756 \n",
      "\n",
      "Detection:: Location -> (760, 480)\n",
      "Scale ->  0 | Confidence Score 0.6181008932318591 \n",
      "\n"
     ]
    },
    {
     "name": "stderr",
     "output_type": "stream",
     "text": [
      "/tmp/ipykernel_62901/1983484597.py:49: FutureWarning: `multichannel` is a deprecated argument name for `hog`. It will be removed in version 1.0. Please use `channel_axis` instead.\n",
      "  fds, img_hog = hog(\n",
      "/tmp/ipykernel_62901/1983484597.py:49: FutureWarning: `multichannel` is a deprecated argument name for `hog`. It will be removed in version 1.0. Please use `channel_axis` instead.\n",
      "  fds, img_hog = hog(\n"
     ]
    },
    {
     "name": "stdout",
     "output_type": "stream",
     "text": [
      "Detection:: Location -> (780, 480)\n",
      "Scale ->  0 | Confidence Score 0.7110885728835903 \n",
      "\n",
      "Detection:: Location -> (800, 480)\n",
      "Scale ->  0 | Confidence Score 0.6619673356487726 \n",
      "\n"
     ]
    },
    {
     "name": "stderr",
     "output_type": "stream",
     "text": [
      "/tmp/ipykernel_62901/1983484597.py:49: FutureWarning: `multichannel` is a deprecated argument name for `hog`. It will be removed in version 1.0. Please use `channel_axis` instead.\n",
      "  fds, img_hog = hog(\n",
      "/tmp/ipykernel_62901/1983484597.py:49: FutureWarning: `multichannel` is a deprecated argument name for `hog`. It will be removed in version 1.0. Please use `channel_axis` instead.\n",
      "  fds, img_hog = hog(\n"
     ]
    },
    {
     "name": "stdout",
     "output_type": "stream",
     "text": [
      "Detection:: Location -> (820, 480)\n",
      "Scale ->  0 | Confidence Score 0.751700707048619 \n",
      "\n",
      "Detection:: Location -> (840, 480)\n",
      "Scale ->  0 | Confidence Score 0.7567789635442028 \n",
      "\n"
     ]
    },
    {
     "name": "stderr",
     "output_type": "stream",
     "text": [
      "/tmp/ipykernel_62901/1983484597.py:49: FutureWarning: `multichannel` is a deprecated argument name for `hog`. It will be removed in version 1.0. Please use `channel_axis` instead.\n",
      "  fds, img_hog = hog(\n",
      "/tmp/ipykernel_62901/1983484597.py:49: FutureWarning: `multichannel` is a deprecated argument name for `hog`. It will be removed in version 1.0. Please use `channel_axis` instead.\n",
      "  fds, img_hog = hog(\n"
     ]
    },
    {
     "name": "stdout",
     "output_type": "stream",
     "text": [
      "Detection:: Location -> (860, 480)\n",
      "Scale ->  0 | Confidence Score 0.6717632081307133 \n",
      "\n",
      "Detection:: Location -> (880, 480)\n",
      "Scale ->  0 | Confidence Score 0.6389373465548895 \n",
      "\n"
     ]
    },
    {
     "name": "stderr",
     "output_type": "stream",
     "text": [
      "/tmp/ipykernel_62901/1983484597.py:49: FutureWarning: `multichannel` is a deprecated argument name for `hog`. It will be removed in version 1.0. Please use `channel_axis` instead.\n",
      "  fds, img_hog = hog(\n",
      "/tmp/ipykernel_62901/1983484597.py:49: FutureWarning: `multichannel` is a deprecated argument name for `hog`. It will be removed in version 1.0. Please use `channel_axis` instead.\n",
      "  fds, img_hog = hog(\n"
     ]
    },
    {
     "name": "stdout",
     "output_type": "stream",
     "text": [
      "Detection:: Location -> (900, 480)\n",
      "Scale ->  0 | Confidence Score 0.6032704564312181 \n",
      "\n"
     ]
    },
    {
     "name": "stderr",
     "output_type": "stream",
     "text": [
      "/tmp/ipykernel_62901/1983484597.py:49: FutureWarning: `multichannel` is a deprecated argument name for `hog`. It will be removed in version 1.0. Please use `channel_axis` instead.\n",
      "  fds, img_hog = hog(\n",
      "/tmp/ipykernel_62901/1983484597.py:49: FutureWarning: `multichannel` is a deprecated argument name for `hog`. It will be removed in version 1.0. Please use `channel_axis` instead.\n",
      "  fds, img_hog = hog(\n",
      "/tmp/ipykernel_62901/1983484597.py:49: FutureWarning: `multichannel` is a deprecated argument name for `hog`. It will be removed in version 1.0. Please use `channel_axis` instead.\n",
      "  fds, img_hog = hog(\n",
      "/tmp/ipykernel_62901/1983484597.py:49: FutureWarning: `multichannel` is a deprecated argument name for `hog`. It will be removed in version 1.0. Please use `channel_axis` instead.\n",
      "  fds, img_hog = hog(\n"
     ]
    },
    {
     "name": "stdout",
     "output_type": "stream",
     "text": [
      "Detection:: Location -> (20, 500)\n",
      "Scale ->  0 | Confidence Score 0.7095630627098923 \n",
      "\n",
      "Detection:: Location -> (40, 500)\n",
      "Scale ->  0 | Confidence Score 0.7291223569657113 \n",
      "\n",
      "Detection:: Location -> (60, 500)\n",
      "Scale ->  0 | Confidence Score 0.7519108817812816 \n",
      "\n"
     ]
    },
    {
     "name": "stderr",
     "output_type": "stream",
     "text": [
      "/tmp/ipykernel_62901/1983484597.py:49: FutureWarning: `multichannel` is a deprecated argument name for `hog`. It will be removed in version 1.0. Please use `channel_axis` instead.\n",
      "  fds, img_hog = hog(\n",
      "/tmp/ipykernel_62901/1983484597.py:49: FutureWarning: `multichannel` is a deprecated argument name for `hog`. It will be removed in version 1.0. Please use `channel_axis` instead.\n",
      "  fds, img_hog = hog(\n"
     ]
    },
    {
     "name": "stdout",
     "output_type": "stream",
     "text": [
      "Detection:: Location -> (80, 500)\n",
      "Scale ->  0 | Confidence Score 0.7817118215781863 \n",
      "\n",
      "Detection:: Location -> (100, 500)\n",
      "Scale ->  0 | Confidence Score 0.7791246896365084 \n",
      "\n"
     ]
    },
    {
     "name": "stderr",
     "output_type": "stream",
     "text": [
      "/tmp/ipykernel_62901/1983484597.py:49: FutureWarning: `multichannel` is a deprecated argument name for `hog`. It will be removed in version 1.0. Please use `channel_axis` instead.\n",
      "  fds, img_hog = hog(\n",
      "/tmp/ipykernel_62901/1983484597.py:49: FutureWarning: `multichannel` is a deprecated argument name for `hog`. It will be removed in version 1.0. Please use `channel_axis` instead.\n",
      "  fds, img_hog = hog(\n"
     ]
    },
    {
     "name": "stdout",
     "output_type": "stream",
     "text": [
      "Detection:: Location -> (120, 500)\n",
      "Scale ->  0 | Confidence Score 0.6617273996382299 \n",
      "\n"
     ]
    },
    {
     "name": "stderr",
     "output_type": "stream",
     "text": [
      "/tmp/ipykernel_62901/1983484597.py:49: FutureWarning: `multichannel` is a deprecated argument name for `hog`. It will be removed in version 1.0. Please use `channel_axis` instead.\n",
      "  fds, img_hog = hog(\n"
     ]
    },
    {
     "name": "stdout",
     "output_type": "stream",
     "text": [
      "Detection:: Location -> (140, 500)\n",
      "Scale ->  0 | Confidence Score 0.6057293723384456 \n",
      "\n"
     ]
    },
    {
     "name": "stderr",
     "output_type": "stream",
     "text": [
      "/tmp/ipykernel_62901/1983484597.py:49: FutureWarning: `multichannel` is a deprecated argument name for `hog`. It will be removed in version 1.0. Please use `channel_axis` instead.\n",
      "  fds, img_hog = hog(\n"
     ]
    },
    {
     "name": "stdout",
     "output_type": "stream",
     "text": [
      "Detection:: Location -> (160, 500)\n",
      "Scale ->  0 | Confidence Score 0.6102217805475137 \n",
      "\n"
     ]
    },
    {
     "name": "stderr",
     "output_type": "stream",
     "text": [
      "/tmp/ipykernel_62901/1983484597.py:49: FutureWarning: `multichannel` is a deprecated argument name for `hog`. It will be removed in version 1.0. Please use `channel_axis` instead.\n",
      "  fds, img_hog = hog(\n"
     ]
    },
    {
     "name": "stdout",
     "output_type": "stream",
     "text": [
      "Detection:: Location -> (180, 500)\n",
      "Scale ->  0 | Confidence Score 0.6591244220258419 \n",
      "\n",
      "Detection:: Location -> (200, 500)\n",
      "Scale ->  0 | Confidence Score 0.6681517396631965 \n",
      "\n"
     ]
    },
    {
     "name": "stderr",
     "output_type": "stream",
     "text": [
      "/tmp/ipykernel_62901/1983484597.py:49: FutureWarning: `multichannel` is a deprecated argument name for `hog`. It will be removed in version 1.0. Please use `channel_axis` instead.\n",
      "  fds, img_hog = hog(\n",
      "/tmp/ipykernel_62901/1983484597.py:49: FutureWarning: `multichannel` is a deprecated argument name for `hog`. It will be removed in version 1.0. Please use `channel_axis` instead.\n",
      "  fds, img_hog = hog(\n"
     ]
    },
    {
     "name": "stdout",
     "output_type": "stream",
     "text": [
      "Detection:: Location -> (220, 500)\n",
      "Scale ->  0 | Confidence Score 0.689783183108854 \n",
      "\n",
      "Detection:: Location -> (240, 500)\n",
      "Scale ->  0 | Confidence Score 0.6707492399052933 \n",
      "\n"
     ]
    },
    {
     "name": "stderr",
     "output_type": "stream",
     "text": [
      "/tmp/ipykernel_62901/1983484597.py:49: FutureWarning: `multichannel` is a deprecated argument name for `hog`. It will be removed in version 1.0. Please use `channel_axis` instead.\n",
      "  fds, img_hog = hog(\n",
      "/tmp/ipykernel_62901/1983484597.py:49: FutureWarning: `multichannel` is a deprecated argument name for `hog`. It will be removed in version 1.0. Please use `channel_axis` instead.\n",
      "  fds, img_hog = hog(\n"
     ]
    },
    {
     "name": "stdout",
     "output_type": "stream",
     "text": [
      "Detection:: Location -> (260, 500)\n",
      "Scale ->  0 | Confidence Score 0.6313155903869517 \n",
      "\n",
      "Detection:: Location -> (280, 500)\n",
      "Scale ->  0 | Confidence Score 0.601166265085086 \n",
      "\n"
     ]
    },
    {
     "name": "stderr",
     "output_type": "stream",
     "text": [
      "/tmp/ipykernel_62901/1983484597.py:49: FutureWarning: `multichannel` is a deprecated argument name for `hog`. It will be removed in version 1.0. Please use `channel_axis` instead.\n",
      "  fds, img_hog = hog(\n",
      "/tmp/ipykernel_62901/1983484597.py:49: FutureWarning: `multichannel` is a deprecated argument name for `hog`. It will be removed in version 1.0. Please use `channel_axis` instead.\n",
      "  fds, img_hog = hog(\n",
      "/tmp/ipykernel_62901/1983484597.py:49: FutureWarning: `multichannel` is a deprecated argument name for `hog`. It will be removed in version 1.0. Please use `channel_axis` instead.\n",
      "  fds, img_hog = hog(\n",
      "/tmp/ipykernel_62901/1983484597.py:49: FutureWarning: `multichannel` is a deprecated argument name for `hog`. It will be removed in version 1.0. Please use `channel_axis` instead.\n",
      "  fds, img_hog = hog(\n"
     ]
    },
    {
     "name": "stdout",
     "output_type": "stream",
     "text": [
      "Detection:: Location -> (340, 500)\n",
      "Scale ->  0 | Confidence Score 0.6079885047628554 \n",
      "\n",
      "Detection:: Location -> (360, 500)\n",
      "Scale ->  0 | Confidence Score 0.6383276046893777 \n",
      "\n"
     ]
    },
    {
     "name": "stderr",
     "output_type": "stream",
     "text": [
      "/tmp/ipykernel_62901/1983484597.py:49: FutureWarning: `multichannel` is a deprecated argument name for `hog`. It will be removed in version 1.0. Please use `channel_axis` instead.\n",
      "  fds, img_hog = hog(\n",
      "/tmp/ipykernel_62901/1983484597.py:49: FutureWarning: `multichannel` is a deprecated argument name for `hog`. It will be removed in version 1.0. Please use `channel_axis` instead.\n",
      "  fds, img_hog = hog(\n"
     ]
    },
    {
     "name": "stdout",
     "output_type": "stream",
     "text": [
      "Detection:: Location -> (380, 500)\n",
      "Scale ->  0 | Confidence Score 0.6869130512699347 \n",
      "\n",
      "Detection:: Location -> (400, 500)\n",
      "Scale ->  0 | Confidence Score 0.7268464284146172 \n",
      "\n"
     ]
    },
    {
     "name": "stderr",
     "output_type": "stream",
     "text": [
      "/tmp/ipykernel_62901/1983484597.py:49: FutureWarning: `multichannel` is a deprecated argument name for `hog`. It will be removed in version 1.0. Please use `channel_axis` instead.\n",
      "  fds, img_hog = hog(\n",
      "/tmp/ipykernel_62901/1983484597.py:49: FutureWarning: `multichannel` is a deprecated argument name for `hog`. It will be removed in version 1.0. Please use `channel_axis` instead.\n",
      "  fds, img_hog = hog(\n"
     ]
    },
    {
     "name": "stdout",
     "output_type": "stream",
     "text": [
      "Detection:: Location -> (420, 500)\n",
      "Scale ->  0 | Confidence Score 0.7280249292489752 \n",
      "\n",
      "Detection:: Location -> (440, 500)\n",
      "Scale ->  0 | Confidence Score 0.70076504091276 \n",
      "\n"
     ]
    },
    {
     "name": "stderr",
     "output_type": "stream",
     "text": [
      "/tmp/ipykernel_62901/1983484597.py:49: FutureWarning: `multichannel` is a deprecated argument name for `hog`. It will be removed in version 1.0. Please use `channel_axis` instead.\n",
      "  fds, img_hog = hog(\n",
      "/tmp/ipykernel_62901/1983484597.py:49: FutureWarning: `multichannel` is a deprecated argument name for `hog`. It will be removed in version 1.0. Please use `channel_axis` instead.\n",
      "  fds, img_hog = hog(\n"
     ]
    },
    {
     "name": "stdout",
     "output_type": "stream",
     "text": [
      "Detection:: Location -> (460, 500)\n",
      "Scale ->  0 | Confidence Score 0.6989015552017781 \n",
      "\n",
      "Detection:: Location -> (480, 500)\n",
      "Scale ->  0 | Confidence Score 0.613497016730986 \n",
      "\n"
     ]
    },
    {
     "name": "stderr",
     "output_type": "stream",
     "text": [
      "/tmp/ipykernel_62901/1983484597.py:49: FutureWarning: `multichannel` is a deprecated argument name for `hog`. It will be removed in version 1.0. Please use `channel_axis` instead.\n",
      "  fds, img_hog = hog(\n",
      "/tmp/ipykernel_62901/1983484597.py:49: FutureWarning: `multichannel` is a deprecated argument name for `hog`. It will be removed in version 1.0. Please use `channel_axis` instead.\n",
      "  fds, img_hog = hog(\n"
     ]
    },
    {
     "name": "stdout",
     "output_type": "stream",
     "text": [
      "Detection:: Location -> (500, 500)\n",
      "Scale ->  0 | Confidence Score 0.6310073813313539 \n",
      "\n",
      "Detection:: Location -> (520, 500)\n",
      "Scale ->  0 | Confidence Score 0.6311098442791043 \n",
      "\n"
     ]
    },
    {
     "name": "stderr",
     "output_type": "stream",
     "text": [
      "/tmp/ipykernel_62901/1983484597.py:49: FutureWarning: `multichannel` is a deprecated argument name for `hog`. It will be removed in version 1.0. Please use `channel_axis` instead.\n",
      "  fds, img_hog = hog(\n",
      "/tmp/ipykernel_62901/1983484597.py:49: FutureWarning: `multichannel` is a deprecated argument name for `hog`. It will be removed in version 1.0. Please use `channel_axis` instead.\n",
      "  fds, img_hog = hog(\n"
     ]
    },
    {
     "name": "stdout",
     "output_type": "stream",
     "text": [
      "Detection:: Location -> (540, 500)\n",
      "Scale ->  0 | Confidence Score 0.6995789579699896 \n",
      "\n",
      "Detection:: Location -> (560, 500)\n",
      "Scale ->  0 | Confidence Score 0.7094435500309095 \n",
      "\n"
     ]
    },
    {
     "name": "stderr",
     "output_type": "stream",
     "text": [
      "/tmp/ipykernel_62901/1983484597.py:49: FutureWarning: `multichannel` is a deprecated argument name for `hog`. It will be removed in version 1.0. Please use `channel_axis` instead.\n",
      "  fds, img_hog = hog(\n",
      "/tmp/ipykernel_62901/1983484597.py:49: FutureWarning: `multichannel` is a deprecated argument name for `hog`. It will be removed in version 1.0. Please use `channel_axis` instead.\n",
      "  fds, img_hog = hog(\n"
     ]
    },
    {
     "name": "stdout",
     "output_type": "stream",
     "text": [
      "Detection:: Location -> (580, 500)\n",
      "Scale ->  0 | Confidence Score 0.7868331034939915 \n",
      "\n",
      "Detection:: Location -> (600, 500)\n",
      "Scale ->  0 | Confidence Score 0.7215592339062448 \n",
      "\n"
     ]
    },
    {
     "name": "stderr",
     "output_type": "stream",
     "text": [
      "/tmp/ipykernel_62901/1983484597.py:49: FutureWarning: `multichannel` is a deprecated argument name for `hog`. It will be removed in version 1.0. Please use `channel_axis` instead.\n",
      "  fds, img_hog = hog(\n",
      "/tmp/ipykernel_62901/1983484597.py:49: FutureWarning: `multichannel` is a deprecated argument name for `hog`. It will be removed in version 1.0. Please use `channel_axis` instead.\n",
      "  fds, img_hog = hog(\n"
     ]
    },
    {
     "name": "stdout",
     "output_type": "stream",
     "text": [
      "Detection:: Location -> (620, 500)\n",
      "Scale ->  0 | Confidence Score 0.7132628388553861 \n",
      "\n",
      "Detection:: Location -> (640, 500)\n",
      "Scale ->  0 | Confidence Score 0.6908430080006998 \n",
      "\n"
     ]
    },
    {
     "name": "stderr",
     "output_type": "stream",
     "text": [
      "/tmp/ipykernel_62901/1983484597.py:49: FutureWarning: `multichannel` is a deprecated argument name for `hog`. It will be removed in version 1.0. Please use `channel_axis` instead.\n",
      "  fds, img_hog = hog(\n",
      "/tmp/ipykernel_62901/1983484597.py:49: FutureWarning: `multichannel` is a deprecated argument name for `hog`. It will be removed in version 1.0. Please use `channel_axis` instead.\n",
      "  fds, img_hog = hog(\n"
     ]
    },
    {
     "name": "stdout",
     "output_type": "stream",
     "text": [
      "Detection:: Location -> (660, 500)\n",
      "Scale ->  0 | Confidence Score 0.6802863400280635 \n",
      "\n",
      "Detection:: Location -> (680, 500)\n",
      "Scale ->  0 | Confidence Score 0.6950052732402426 \n",
      "\n"
     ]
    },
    {
     "name": "stderr",
     "output_type": "stream",
     "text": [
      "/tmp/ipykernel_62901/1983484597.py:49: FutureWarning: `multichannel` is a deprecated argument name for `hog`. It will be removed in version 1.0. Please use `channel_axis` instead.\n",
      "  fds, img_hog = hog(\n",
      "/tmp/ipykernel_62901/1983484597.py:49: FutureWarning: `multichannel` is a deprecated argument name for `hog`. It will be removed in version 1.0. Please use `channel_axis` instead.\n",
      "  fds, img_hog = hog(\n"
     ]
    },
    {
     "name": "stdout",
     "output_type": "stream",
     "text": [
      "Detection:: Location -> (700, 500)\n",
      "Scale ->  0 | Confidence Score 0.6989079007536262 \n",
      "\n",
      "Detection:: Location -> (720, 500)\n",
      "Scale ->  0 | Confidence Score 0.7334792002696323 \n",
      "\n"
     ]
    },
    {
     "name": "stderr",
     "output_type": "stream",
     "text": [
      "/tmp/ipykernel_62901/1983484597.py:49: FutureWarning: `multichannel` is a deprecated argument name for `hog`. It will be removed in version 1.0. Please use `channel_axis` instead.\n",
      "  fds, img_hog = hog(\n",
      "/tmp/ipykernel_62901/1983484597.py:49: FutureWarning: `multichannel` is a deprecated argument name for `hog`. It will be removed in version 1.0. Please use `channel_axis` instead.\n",
      "  fds, img_hog = hog(\n"
     ]
    },
    {
     "name": "stdout",
     "output_type": "stream",
     "text": [
      "Detection:: Location -> (740, 500)\n",
      "Scale ->  0 | Confidence Score 0.7012137055081025 \n",
      "\n",
      "Detection:: Location -> (760, 500)\n",
      "Scale ->  0 | Confidence Score 0.6967455639922341 \n",
      "\n"
     ]
    },
    {
     "name": "stderr",
     "output_type": "stream",
     "text": [
      "/tmp/ipykernel_62901/1983484597.py:49: FutureWarning: `multichannel` is a deprecated argument name for `hog`. It will be removed in version 1.0. Please use `channel_axis` instead.\n",
      "  fds, img_hog = hog(\n",
      "/tmp/ipykernel_62901/1983484597.py:49: FutureWarning: `multichannel` is a deprecated argument name for `hog`. It will be removed in version 1.0. Please use `channel_axis` instead.\n",
      "  fds, img_hog = hog(\n"
     ]
    },
    {
     "name": "stdout",
     "output_type": "stream",
     "text": [
      "Detection:: Location -> (780, 500)\n",
      "Scale ->  0 | Confidence Score 0.7299372512374246 \n",
      "\n",
      "Detection:: Location -> (800, 500)\n",
      "Scale ->  0 | Confidence Score 0.7276600340841649 \n",
      "\n"
     ]
    },
    {
     "name": "stderr",
     "output_type": "stream",
     "text": [
      "/tmp/ipykernel_62901/1983484597.py:49: FutureWarning: `multichannel` is a deprecated argument name for `hog`. It will be removed in version 1.0. Please use `channel_axis` instead.\n",
      "  fds, img_hog = hog(\n",
      "/tmp/ipykernel_62901/1983484597.py:49: FutureWarning: `multichannel` is a deprecated argument name for `hog`. It will be removed in version 1.0. Please use `channel_axis` instead.\n",
      "  fds, img_hog = hog(\n"
     ]
    },
    {
     "name": "stdout",
     "output_type": "stream",
     "text": [
      "Detection:: Location -> (820, 500)\n",
      "Scale ->  0 | Confidence Score 0.7361451698339546 \n",
      "\n",
      "Detection:: Location -> (840, 500)\n",
      "Scale ->  0 | Confidence Score 0.692668585665427 \n",
      "\n"
     ]
    },
    {
     "name": "stderr",
     "output_type": "stream",
     "text": [
      "/tmp/ipykernel_62901/1983484597.py:49: FutureWarning: `multichannel` is a deprecated argument name for `hog`. It will be removed in version 1.0. Please use `channel_axis` instead.\n",
      "  fds, img_hog = hog(\n",
      "/tmp/ipykernel_62901/1983484597.py:49: FutureWarning: `multichannel` is a deprecated argument name for `hog`. It will be removed in version 1.0. Please use `channel_axis` instead.\n",
      "  fds, img_hog = hog(\n"
     ]
    },
    {
     "name": "stdout",
     "output_type": "stream",
     "text": [
      "Detection:: Location -> (860, 500)\n",
      "Scale ->  0 | Confidence Score 0.7150414724901858 \n",
      "\n",
      "Detection:: Location -> (880, 500)\n",
      "Scale ->  0 | Confidence Score 0.6572650585910544 \n",
      "\n"
     ]
    },
    {
     "name": "stderr",
     "output_type": "stream",
     "text": [
      "/tmp/ipykernel_62901/1983484597.py:49: FutureWarning: `multichannel` is a deprecated argument name for `hog`. It will be removed in version 1.0. Please use `channel_axis` instead.\n",
      "  fds, img_hog = hog(\n",
      "/tmp/ipykernel_62901/1983484597.py:49: FutureWarning: `multichannel` is a deprecated argument name for `hog`. It will be removed in version 1.0. Please use `channel_axis` instead.\n",
      "  fds, img_hog = hog(\n"
     ]
    },
    {
     "name": "stdout",
     "output_type": "stream",
     "text": [
      "Detection:: Location -> (900, 500)\n",
      "Scale ->  0 | Confidence Score 0.6945865673742873 \n",
      "\n"
     ]
    },
    {
     "name": "stderr",
     "output_type": "stream",
     "text": [
      "/tmp/ipykernel_62901/1983484597.py:49: FutureWarning: `multichannel` is a deprecated argument name for `hog`. It will be removed in version 1.0. Please use `channel_axis` instead.\n",
      "  fds, img_hog = hog(\n",
      "/tmp/ipykernel_62901/1983484597.py:49: FutureWarning: `multichannel` is a deprecated argument name for `hog`. It will be removed in version 1.0. Please use `channel_axis` instead.\n",
      "  fds, img_hog = hog(\n",
      "/tmp/ipykernel_62901/1983484597.py:49: FutureWarning: `multichannel` is a deprecated argument name for `hog`. It will be removed in version 1.0. Please use `channel_axis` instead.\n",
      "  fds, img_hog = hog(\n",
      "/tmp/ipykernel_62901/1983484597.py:49: FutureWarning: `multichannel` is a deprecated argument name for `hog`. It will be removed in version 1.0. Please use `channel_axis` instead.\n",
      "  fds, img_hog = hog(\n"
     ]
    },
    {
     "name": "stdout",
     "output_type": "stream",
     "text": [
      "Detection:: Location -> (20, 520)\n",
      "Scale ->  0 | Confidence Score 0.6676964944318318 \n",
      "\n",
      "Detection:: Location -> (40, 520)\n",
      "Scale ->  0 | Confidence Score 0.7472434974987845 \n",
      "\n"
     ]
    },
    {
     "name": "stderr",
     "output_type": "stream",
     "text": [
      "/tmp/ipykernel_62901/1983484597.py:49: FutureWarning: `multichannel` is a deprecated argument name for `hog`. It will be removed in version 1.0. Please use `channel_axis` instead.\n",
      "  fds, img_hog = hog(\n",
      "/tmp/ipykernel_62901/1983484597.py:49: FutureWarning: `multichannel` is a deprecated argument name for `hog`. It will be removed in version 1.0. Please use `channel_axis` instead.\n",
      "  fds, img_hog = hog(\n"
     ]
    },
    {
     "name": "stdout",
     "output_type": "stream",
     "text": [
      "Detection:: Location -> (60, 520)\n",
      "Scale ->  0 | Confidence Score 0.7618025429741615 \n",
      "\n",
      "Detection:: Location -> (80, 520)\n",
      "Scale ->  0 | Confidence Score 0.649003536495541 \n",
      "\n",
      "Detection:: Location -> (100, 520)\n",
      "Scale ->  0 | Confidence Score 0.7064655463734588 \n",
      "\n"
     ]
    },
    {
     "name": "stderr",
     "output_type": "stream",
     "text": [
      "/tmp/ipykernel_62901/1983484597.py:49: FutureWarning: `multichannel` is a deprecated argument name for `hog`. It will be removed in version 1.0. Please use `channel_axis` instead.\n",
      "  fds, img_hog = hog(\n",
      "/tmp/ipykernel_62901/1983484597.py:49: FutureWarning: `multichannel` is a deprecated argument name for `hog`. It will be removed in version 1.0. Please use `channel_axis` instead.\n",
      "  fds, img_hog = hog(\n"
     ]
    },
    {
     "name": "stdout",
     "output_type": "stream",
     "text": [
      "Detection:: Location -> (120, 520)\n",
      "Scale ->  0 | Confidence Score 0.6378682483157648 \n",
      "\n",
      "Detection:: Location -> (140, 520)\n",
      "Scale ->  0 | Confidence Score 0.7122245009145401 \n",
      "\n"
     ]
    },
    {
     "name": "stderr",
     "output_type": "stream",
     "text": [
      "/tmp/ipykernel_62901/1983484597.py:49: FutureWarning: `multichannel` is a deprecated argument name for `hog`. It will be removed in version 1.0. Please use `channel_axis` instead.\n",
      "  fds, img_hog = hog(\n",
      "/tmp/ipykernel_62901/1983484597.py:49: FutureWarning: `multichannel` is a deprecated argument name for `hog`. It will be removed in version 1.0. Please use `channel_axis` instead.\n",
      "  fds, img_hog = hog(\n"
     ]
    },
    {
     "name": "stdout",
     "output_type": "stream",
     "text": [
      "Detection:: Location -> (160, 520)\n",
      "Scale ->  0 | Confidence Score 0.7053872172475342 \n",
      "\n",
      "Detection:: Location -> (180, 520)\n",
      "Scale ->  0 | Confidence Score 0.7296769659511158 \n",
      "\n"
     ]
    },
    {
     "name": "stderr",
     "output_type": "stream",
     "text": [
      "/tmp/ipykernel_62901/1983484597.py:49: FutureWarning: `multichannel` is a deprecated argument name for `hog`. It will be removed in version 1.0. Please use `channel_axis` instead.\n",
      "  fds, img_hog = hog(\n",
      "/tmp/ipykernel_62901/1983484597.py:49: FutureWarning: `multichannel` is a deprecated argument name for `hog`. It will be removed in version 1.0. Please use `channel_axis` instead.\n",
      "  fds, img_hog = hog(\n"
     ]
    },
    {
     "name": "stdout",
     "output_type": "stream",
     "text": [
      "Detection:: Location -> (200, 520)\n",
      "Scale ->  0 | Confidence Score 0.7190151739397385 \n",
      "\n",
      "Detection:: Location -> (220, 520)\n",
      "Scale ->  0 | Confidence Score 0.6446573512774223 \n",
      "\n"
     ]
    },
    {
     "name": "stderr",
     "output_type": "stream",
     "text": [
      "/tmp/ipykernel_62901/1983484597.py:49: FutureWarning: `multichannel` is a deprecated argument name for `hog`. It will be removed in version 1.0. Please use `channel_axis` instead.\n",
      "  fds, img_hog = hog(\n",
      "/tmp/ipykernel_62901/1983484597.py:49: FutureWarning: `multichannel` is a deprecated argument name for `hog`. It will be removed in version 1.0. Please use `channel_axis` instead.\n",
      "  fds, img_hog = hog(\n",
      "/tmp/ipykernel_62901/1983484597.py:49: FutureWarning: `multichannel` is a deprecated argument name for `hog`. It will be removed in version 1.0. Please use `channel_axis` instead.\n",
      "  fds, img_hog = hog(\n",
      "/tmp/ipykernel_62901/1983484597.py:49: FutureWarning: `multichannel` is a deprecated argument name for `hog`. It will be removed in version 1.0. Please use `channel_axis` instead.\n",
      "  fds, img_hog = hog(\n"
     ]
    },
    {
     "name": "stdout",
     "output_type": "stream",
     "text": [
      "Detection:: Location -> (280, 520)\n",
      "Scale ->  0 | Confidence Score 0.6053045293893464 \n",
      "\n",
      "Detection:: Location -> (300, 520)\n",
      "Scale ->  0 | Confidence Score 0.6372631974944428 \n",
      "\n"
     ]
    },
    {
     "name": "stderr",
     "output_type": "stream",
     "text": [
      "/tmp/ipykernel_62901/1983484597.py:49: FutureWarning: `multichannel` is a deprecated argument name for `hog`. It will be removed in version 1.0. Please use `channel_axis` instead.\n",
      "  fds, img_hog = hog(\n",
      "/tmp/ipykernel_62901/1983484597.py:49: FutureWarning: `multichannel` is a deprecated argument name for `hog`. It will be removed in version 1.0. Please use `channel_axis` instead.\n",
      "  fds, img_hog = hog(\n"
     ]
    },
    {
     "name": "stdout",
     "output_type": "stream",
     "text": [
      "Detection:: Location -> (320, 520)\n",
      "Scale ->  0 | Confidence Score 0.626892134206814 \n",
      "\n",
      "Detection:: Location -> (340, 520)\n",
      "Scale ->  0 | Confidence Score 0.6489497767753997 \n",
      "\n"
     ]
    },
    {
     "name": "stderr",
     "output_type": "stream",
     "text": [
      "/tmp/ipykernel_62901/1983484597.py:49: FutureWarning: `multichannel` is a deprecated argument name for `hog`. It will be removed in version 1.0. Please use `channel_axis` instead.\n",
      "  fds, img_hog = hog(\n",
      "/tmp/ipykernel_62901/1983484597.py:49: FutureWarning: `multichannel` is a deprecated argument name for `hog`. It will be removed in version 1.0. Please use `channel_axis` instead.\n",
      "  fds, img_hog = hog(\n"
     ]
    },
    {
     "name": "stdout",
     "output_type": "stream",
     "text": [
      "Detection:: Location -> (360, 520)\n",
      "Scale ->  0 | Confidence Score 0.6702445103951618 \n",
      "\n"
     ]
    },
    {
     "name": "stderr",
     "output_type": "stream",
     "text": [
      "/tmp/ipykernel_62901/1983484597.py:49: FutureWarning: `multichannel` is a deprecated argument name for `hog`. It will be removed in version 1.0. Please use `channel_axis` instead.\n",
      "  fds, img_hog = hog(\n"
     ]
    },
    {
     "name": "stdout",
     "output_type": "stream",
     "text": [
      "Detection:: Location -> (380, 520)\n",
      "Scale ->  0 | Confidence Score 0.7171083855447401 \n",
      "\n"
     ]
    },
    {
     "name": "stderr",
     "output_type": "stream",
     "text": [
      "/tmp/ipykernel_62901/1983484597.py:49: FutureWarning: `multichannel` is a deprecated argument name for `hog`. It will be removed in version 1.0. Please use `channel_axis` instead.\n",
      "  fds, img_hog = hog(\n"
     ]
    },
    {
     "name": "stdout",
     "output_type": "stream",
     "text": [
      "Detection:: Location -> (400, 520)\n",
      "Scale ->  0 | Confidence Score 0.6732068966671557 \n",
      "\n",
      "Detection:: Location -> (420, 520)\n",
      "Scale ->  0 | Confidence Score 0.7076654846753333 \n",
      "\n"
     ]
    },
    {
     "name": "stderr",
     "output_type": "stream",
     "text": [
      "/tmp/ipykernel_62901/1983484597.py:49: FutureWarning: `multichannel` is a deprecated argument name for `hog`. It will be removed in version 1.0. Please use `channel_axis` instead.\n",
      "  fds, img_hog = hog(\n",
      "/tmp/ipykernel_62901/1983484597.py:49: FutureWarning: `multichannel` is a deprecated argument name for `hog`. It will be removed in version 1.0. Please use `channel_axis` instead.\n",
      "  fds, img_hog = hog(\n"
     ]
    },
    {
     "name": "stdout",
     "output_type": "stream",
     "text": [
      "Detection:: Location -> (440, 520)\n",
      "Scale ->  0 | Confidence Score 0.6726193210978149 \n",
      "\n",
      "Detection:: Location -> (460, 520)\n",
      "Scale ->  0 | Confidence Score 0.6967723592916716 \n",
      "\n"
     ]
    },
    {
     "name": "stderr",
     "output_type": "stream",
     "text": [
      "/tmp/ipykernel_62901/1983484597.py:49: FutureWarning: `multichannel` is a deprecated argument name for `hog`. It will be removed in version 1.0. Please use `channel_axis` instead.\n",
      "  fds, img_hog = hog(\n",
      "/tmp/ipykernel_62901/1983484597.py:49: FutureWarning: `multichannel` is a deprecated argument name for `hog`. It will be removed in version 1.0. Please use `channel_axis` instead.\n",
      "  fds, img_hog = hog(\n"
     ]
    },
    {
     "name": "stdout",
     "output_type": "stream",
     "text": [
      "Detection:: Location -> (480, 520)\n",
      "Scale ->  0 | Confidence Score 0.6808780815384193 \n",
      "\n",
      "Detection:: Location -> (500, 520)\n",
      "Scale ->  0 | Confidence Score 0.7450831550845908 \n",
      "\n"
     ]
    },
    {
     "name": "stderr",
     "output_type": "stream",
     "text": [
      "/tmp/ipykernel_62901/1983484597.py:49: FutureWarning: `multichannel` is a deprecated argument name for `hog`. It will be removed in version 1.0. Please use `channel_axis` instead.\n",
      "  fds, img_hog = hog(\n",
      "/tmp/ipykernel_62901/1983484597.py:49: FutureWarning: `multichannel` is a deprecated argument name for `hog`. It will be removed in version 1.0. Please use `channel_axis` instead.\n",
      "  fds, img_hog = hog(\n"
     ]
    },
    {
     "name": "stdout",
     "output_type": "stream",
     "text": [
      "Detection:: Location -> (520, 520)\n",
      "Scale ->  0 | Confidence Score 0.6930912505779685 \n",
      "\n",
      "Detection:: Location -> (540, 520)\n",
      "Scale ->  0 | Confidence Score 0.692178395028627 \n",
      "\n"
     ]
    },
    {
     "name": "stderr",
     "output_type": "stream",
     "text": [
      "/tmp/ipykernel_62901/1983484597.py:49: FutureWarning: `multichannel` is a deprecated argument name for `hog`. It will be removed in version 1.0. Please use `channel_axis` instead.\n",
      "  fds, img_hog = hog(\n",
      "/tmp/ipykernel_62901/1983484597.py:49: FutureWarning: `multichannel` is a deprecated argument name for `hog`. It will be removed in version 1.0. Please use `channel_axis` instead.\n",
      "  fds, img_hog = hog(\n"
     ]
    },
    {
     "name": "stdout",
     "output_type": "stream",
     "text": [
      "Detection:: Location -> (560, 520)\n",
      "Scale ->  0 | Confidence Score 0.6939133190397829 \n",
      "\n",
      "Detection:: Location -> (580, 520)\n",
      "Scale ->  0 | Confidence Score 0.7663849197321779 \n",
      "\n"
     ]
    },
    {
     "name": "stderr",
     "output_type": "stream",
     "text": [
      "/tmp/ipykernel_62901/1983484597.py:49: FutureWarning: `multichannel` is a deprecated argument name for `hog`. It will be removed in version 1.0. Please use `channel_axis` instead.\n",
      "  fds, img_hog = hog(\n",
      "/tmp/ipykernel_62901/1983484597.py:49: FutureWarning: `multichannel` is a deprecated argument name for `hog`. It will be removed in version 1.0. Please use `channel_axis` instead.\n",
      "  fds, img_hog = hog(\n"
     ]
    },
    {
     "name": "stdout",
     "output_type": "stream",
     "text": [
      "Detection:: Location -> (600, 520)\n",
      "Scale ->  0 | Confidence Score 0.6649518993149934 \n",
      "\n",
      "Detection:: Location -> (620, 520)\n",
      "Scale ->  0 | Confidence Score 0.6862144549806757 \n",
      "\n"
     ]
    },
    {
     "name": "stderr",
     "output_type": "stream",
     "text": [
      "/tmp/ipykernel_62901/1983484597.py:49: FutureWarning: `multichannel` is a deprecated argument name for `hog`. It will be removed in version 1.0. Please use `channel_axis` instead.\n",
      "  fds, img_hog = hog(\n",
      "/tmp/ipykernel_62901/1983484597.py:49: FutureWarning: `multichannel` is a deprecated argument name for `hog`. It will be removed in version 1.0. Please use `channel_axis` instead.\n",
      "  fds, img_hog = hog(\n"
     ]
    },
    {
     "name": "stdout",
     "output_type": "stream",
     "text": [
      "Detection:: Location -> (640, 520)\n",
      "Scale ->  0 | Confidence Score 0.6808962971757274 \n",
      "\n",
      "Detection:: Location -> (660, 520)\n",
      "Scale ->  0 | Confidence Score 0.730004387606595 \n",
      "\n"
     ]
    },
    {
     "name": "stderr",
     "output_type": "stream",
     "text": [
      "/tmp/ipykernel_62901/1983484597.py:49: FutureWarning: `multichannel` is a deprecated argument name for `hog`. It will be removed in version 1.0. Please use `channel_axis` instead.\n",
      "  fds, img_hog = hog(\n",
      "/tmp/ipykernel_62901/1983484597.py:49: FutureWarning: `multichannel` is a deprecated argument name for `hog`. It will be removed in version 1.0. Please use `channel_axis` instead.\n",
      "  fds, img_hog = hog(\n"
     ]
    },
    {
     "name": "stdout",
     "output_type": "stream",
     "text": [
      "Detection:: Location -> (680, 520)\n",
      "Scale ->  0 | Confidence Score 0.7428877163828724 \n",
      "\n",
      "Detection:: Location -> (700, 520)\n",
      "Scale ->  0 | Confidence Score 0.7428421459213403 \n",
      "\n"
     ]
    },
    {
     "name": "stderr",
     "output_type": "stream",
     "text": [
      "/tmp/ipykernel_62901/1983484597.py:49: FutureWarning: `multichannel` is a deprecated argument name for `hog`. It will be removed in version 1.0. Please use `channel_axis` instead.\n",
      "  fds, img_hog = hog(\n",
      "/tmp/ipykernel_62901/1983484597.py:49: FutureWarning: `multichannel` is a deprecated argument name for `hog`. It will be removed in version 1.0. Please use `channel_axis` instead.\n",
      "  fds, img_hog = hog(\n"
     ]
    },
    {
     "name": "stdout",
     "output_type": "stream",
     "text": [
      "Detection:: Location -> (720, 520)\n",
      "Scale ->  0 | Confidence Score 0.7127678122667339 \n",
      "\n",
      "Detection:: Location -> (740, 520)\n",
      "Scale ->  0 | Confidence Score 0.6822874775763637 \n",
      "\n"
     ]
    },
    {
     "name": "stderr",
     "output_type": "stream",
     "text": [
      "/tmp/ipykernel_62901/1983484597.py:49: FutureWarning: `multichannel` is a deprecated argument name for `hog`. It will be removed in version 1.0. Please use `channel_axis` instead.\n",
      "  fds, img_hog = hog(\n",
      "/tmp/ipykernel_62901/1983484597.py:49: FutureWarning: `multichannel` is a deprecated argument name for `hog`. It will be removed in version 1.0. Please use `channel_axis` instead.\n",
      "  fds, img_hog = hog(\n"
     ]
    },
    {
     "name": "stdout",
     "output_type": "stream",
     "text": [
      "Detection:: Location -> (760, 520)\n",
      "Scale ->  0 | Confidence Score 0.6703159410887151 \n",
      "\n",
      "Detection:: Location -> (780, 520)\n",
      "Scale ->  0 | Confidence Score 0.6688325088677282 \n",
      "\n"
     ]
    },
    {
     "name": "stderr",
     "output_type": "stream",
     "text": [
      "/tmp/ipykernel_62901/1983484597.py:49: FutureWarning: `multichannel` is a deprecated argument name for `hog`. It will be removed in version 1.0. Please use `channel_axis` instead.\n",
      "  fds, img_hog = hog(\n",
      "/tmp/ipykernel_62901/1983484597.py:49: FutureWarning: `multichannel` is a deprecated argument name for `hog`. It will be removed in version 1.0. Please use `channel_axis` instead.\n",
      "  fds, img_hog = hog(\n"
     ]
    },
    {
     "name": "stdout",
     "output_type": "stream",
     "text": [
      "Detection:: Location -> (800, 520)\n",
      "Scale ->  0 | Confidence Score 0.6542177766042404 \n",
      "\n",
      "Detection:: Location -> (820, 520)\n",
      "Scale ->  0 | Confidence Score 0.7436181207998058 \n",
      "\n"
     ]
    },
    {
     "name": "stderr",
     "output_type": "stream",
     "text": [
      "/tmp/ipykernel_62901/1983484597.py:49: FutureWarning: `multichannel` is a deprecated argument name for `hog`. It will be removed in version 1.0. Please use `channel_axis` instead.\n",
      "  fds, img_hog = hog(\n",
      "/tmp/ipykernel_62901/1983484597.py:49: FutureWarning: `multichannel` is a deprecated argument name for `hog`. It will be removed in version 1.0. Please use `channel_axis` instead.\n",
      "  fds, img_hog = hog(\n"
     ]
    },
    {
     "name": "stdout",
     "output_type": "stream",
     "text": [
      "Detection:: Location -> (840, 520)\n",
      "Scale ->  0 | Confidence Score 0.6948623312203879 \n",
      "\n",
      "Detection:: Location -> (860, 520)\n",
      "Scale ->  0 | Confidence Score 0.7806937633672848 \n",
      "\n"
     ]
    },
    {
     "name": "stderr",
     "output_type": "stream",
     "text": [
      "/tmp/ipykernel_62901/1983484597.py:49: FutureWarning: `multichannel` is a deprecated argument name for `hog`. It will be removed in version 1.0. Please use `channel_axis` instead.\n",
      "  fds, img_hog = hog(\n",
      "/tmp/ipykernel_62901/1983484597.py:49: FutureWarning: `multichannel` is a deprecated argument name for `hog`. It will be removed in version 1.0. Please use `channel_axis` instead.\n",
      "  fds, img_hog = hog(\n"
     ]
    },
    {
     "name": "stdout",
     "output_type": "stream",
     "text": [
      "Detection:: Location -> (880, 520)\n",
      "Scale ->  0 | Confidence Score 0.7490901630572927 \n",
      "\n",
      "Detection:: Location -> (900, 520)\n",
      "Scale ->  0 | Confidence Score 0.6901560838816393 \n",
      "\n"
     ]
    },
    {
     "name": "stderr",
     "output_type": "stream",
     "text": [
      "/tmp/ipykernel_62901/1983484597.py:49: FutureWarning: `multichannel` is a deprecated argument name for `hog`. It will be removed in version 1.0. Please use `channel_axis` instead.\n",
      "  fds, img_hog = hog(\n",
      "/tmp/ipykernel_62901/1983484597.py:49: FutureWarning: `multichannel` is a deprecated argument name for `hog`. It will be removed in version 1.0. Please use `channel_axis` instead.\n",
      "  fds, img_hog = hog(\n",
      "/tmp/ipykernel_62901/1983484597.py:49: FutureWarning: `multichannel` is a deprecated argument name for `hog`. It will be removed in version 1.0. Please use `channel_axis` instead.\n",
      "  fds, img_hog = hog(\n",
      "/tmp/ipykernel_62901/1983484597.py:49: FutureWarning: `multichannel` is a deprecated argument name for `hog`. It will be removed in version 1.0. Please use `channel_axis` instead.\n",
      "  fds, img_hog = hog(\n"
     ]
    },
    {
     "name": "stdout",
     "output_type": "stream",
     "text": [
      "Detection:: Location -> (20, 540)\n",
      "Scale ->  0 | Confidence Score 0.7148766733450167 \n",
      "\n",
      "Detection:: Location -> (40, 540)\n",
      "Scale ->  0 | Confidence Score 0.7608334951807165 \n",
      "\n"
     ]
    },
    {
     "name": "stderr",
     "output_type": "stream",
     "text": [
      "/tmp/ipykernel_62901/1983484597.py:49: FutureWarning: `multichannel` is a deprecated argument name for `hog`. It will be removed in version 1.0. Please use `channel_axis` instead.\n",
      "  fds, img_hog = hog(\n",
      "/tmp/ipykernel_62901/1983484597.py:49: FutureWarning: `multichannel` is a deprecated argument name for `hog`. It will be removed in version 1.0. Please use `channel_axis` instead.\n",
      "  fds, img_hog = hog(\n"
     ]
    },
    {
     "name": "stdout",
     "output_type": "stream",
     "text": [
      "Detection:: Location -> (60, 540)\n",
      "Scale ->  0 | Confidence Score 0.7411193913568102 \n",
      "\n",
      "Detection:: Location -> (80, 540)\n",
      "Scale ->  0 | Confidence Score 0.7418780860731352 \n",
      "\n"
     ]
    },
    {
     "name": "stderr",
     "output_type": "stream",
     "text": [
      "/tmp/ipykernel_62901/1983484597.py:49: FutureWarning: `multichannel` is a deprecated argument name for `hog`. It will be removed in version 1.0. Please use `channel_axis` instead.\n",
      "  fds, img_hog = hog(\n",
      "/tmp/ipykernel_62901/1983484597.py:49: FutureWarning: `multichannel` is a deprecated argument name for `hog`. It will be removed in version 1.0. Please use `channel_axis` instead.\n",
      "  fds, img_hog = hog(\n"
     ]
    },
    {
     "name": "stdout",
     "output_type": "stream",
     "text": [
      "Detection:: Location -> (100, 540)\n",
      "Scale ->  0 | Confidence Score 0.8111785063605422 \n",
      "\n",
      "Detection:: Location -> (120, 540)\n",
      "Scale ->  0 | Confidence Score 0.756122890543694 \n",
      "\n"
     ]
    },
    {
     "name": "stderr",
     "output_type": "stream",
     "text": [
      "/tmp/ipykernel_62901/1983484597.py:49: FutureWarning: `multichannel` is a deprecated argument name for `hog`. It will be removed in version 1.0. Please use `channel_axis` instead.\n",
      "  fds, img_hog = hog(\n",
      "/tmp/ipykernel_62901/1983484597.py:49: FutureWarning: `multichannel` is a deprecated argument name for `hog`. It will be removed in version 1.0. Please use `channel_axis` instead.\n",
      "  fds, img_hog = hog(\n"
     ]
    },
    {
     "name": "stdout",
     "output_type": "stream",
     "text": [
      "Detection:: Location -> (140, 540)\n",
      "Scale ->  0 | Confidence Score 0.7710757919550759 \n",
      "\n",
      "Detection:: Location -> (160, 540)\n",
      "Scale ->  0 | Confidence Score 0.7927787247632527 \n",
      "\n"
     ]
    },
    {
     "name": "stderr",
     "output_type": "stream",
     "text": [
      "/tmp/ipykernel_62901/1983484597.py:49: FutureWarning: `multichannel` is a deprecated argument name for `hog`. It will be removed in version 1.0. Please use `channel_axis` instead.\n",
      "  fds, img_hog = hog(\n",
      "/tmp/ipykernel_62901/1983484597.py:49: FutureWarning: `multichannel` is a deprecated argument name for `hog`. It will be removed in version 1.0. Please use `channel_axis` instead.\n",
      "  fds, img_hog = hog(\n"
     ]
    },
    {
     "name": "stdout",
     "output_type": "stream",
     "text": [
      "Detection:: Location -> (180, 540)\n",
      "Scale ->  0 | Confidence Score 0.8130965720790505 \n",
      "\n",
      "Detection:: Location -> (200, 540)\n",
      "Scale ->  0 | Confidence Score 0.7393967499526497 \n",
      "\n"
     ]
    },
    {
     "name": "stderr",
     "output_type": "stream",
     "text": [
      "/tmp/ipykernel_62901/1983484597.py:49: FutureWarning: `multichannel` is a deprecated argument name for `hog`. It will be removed in version 1.0. Please use `channel_axis` instead.\n",
      "  fds, img_hog = hog(\n",
      "/tmp/ipykernel_62901/1983484597.py:49: FutureWarning: `multichannel` is a deprecated argument name for `hog`. It will be removed in version 1.0. Please use `channel_axis` instead.\n",
      "  fds, img_hog = hog(\n"
     ]
    },
    {
     "name": "stdout",
     "output_type": "stream",
     "text": [
      "Detection:: Location -> (220, 540)\n",
      "Scale ->  0 | Confidence Score 0.7095740379952287 \n",
      "\n",
      "Detection:: Location -> (240, 540)\n",
      "Scale ->  0 | Confidence Score 0.7346462850451491 \n",
      "\n"
     ]
    },
    {
     "name": "stderr",
     "output_type": "stream",
     "text": [
      "/tmp/ipykernel_62901/1983484597.py:49: FutureWarning: `multichannel` is a deprecated argument name for `hog`. It will be removed in version 1.0. Please use `channel_axis` instead.\n",
      "  fds, img_hog = hog(\n",
      "/tmp/ipykernel_62901/1983484597.py:49: FutureWarning: `multichannel` is a deprecated argument name for `hog`. It will be removed in version 1.0. Please use `channel_axis` instead.\n",
      "  fds, img_hog = hog(\n"
     ]
    },
    {
     "name": "stdout",
     "output_type": "stream",
     "text": [
      "Detection:: Location -> (260, 540)\n",
      "Scale ->  0 | Confidence Score 0.7801415388654441 \n",
      "\n",
      "Detection:: Location -> (280, 540)\n",
      "Scale ->  0 | Confidence Score 0.7847806952095906 \n",
      "\n"
     ]
    },
    {
     "name": "stderr",
     "output_type": "stream",
     "text": [
      "/tmp/ipykernel_62901/1983484597.py:49: FutureWarning: `multichannel` is a deprecated argument name for `hog`. It will be removed in version 1.0. Please use `channel_axis` instead.\n",
      "  fds, img_hog = hog(\n",
      "/tmp/ipykernel_62901/1983484597.py:49: FutureWarning: `multichannel` is a deprecated argument name for `hog`. It will be removed in version 1.0. Please use `channel_axis` instead.\n",
      "  fds, img_hog = hog(\n"
     ]
    },
    {
     "name": "stdout",
     "output_type": "stream",
     "text": [
      "Detection:: Location -> (300, 540)\n",
      "Scale ->  0 | Confidence Score 0.7742437376246936 \n",
      "\n",
      "Detection:: Location -> (320, 540)\n",
      "Scale ->  0 | Confidence Score 0.7452653569645635 \n",
      "\n"
     ]
    },
    {
     "name": "stderr",
     "output_type": "stream",
     "text": [
      "/tmp/ipykernel_62901/1983484597.py:49: FutureWarning: `multichannel` is a deprecated argument name for `hog`. It will be removed in version 1.0. Please use `channel_axis` instead.\n",
      "  fds, img_hog = hog(\n",
      "/tmp/ipykernel_62901/1983484597.py:49: FutureWarning: `multichannel` is a deprecated argument name for `hog`. It will be removed in version 1.0. Please use `channel_axis` instead.\n",
      "  fds, img_hog = hog(\n"
     ]
    },
    {
     "name": "stdout",
     "output_type": "stream",
     "text": [
      "Detection:: Location -> (340, 540)\n",
      "Scale ->  0 | Confidence Score 0.8010029926088784 \n",
      "\n",
      "Detection:: Location -> (360, 540)\n",
      "Scale ->  0 | Confidence Score 0.7169776959744971 \n",
      "\n"
     ]
    },
    {
     "name": "stderr",
     "output_type": "stream",
     "text": [
      "/tmp/ipykernel_62901/1983484597.py:49: FutureWarning: `multichannel` is a deprecated argument name for `hog`. It will be removed in version 1.0. Please use `channel_axis` instead.\n",
      "  fds, img_hog = hog(\n",
      "/tmp/ipykernel_62901/1983484597.py:49: FutureWarning: `multichannel` is a deprecated argument name for `hog`. It will be removed in version 1.0. Please use `channel_axis` instead.\n",
      "  fds, img_hog = hog(\n"
     ]
    },
    {
     "name": "stdout",
     "output_type": "stream",
     "text": [
      "Detection:: Location -> (380, 540)\n",
      "Scale ->  0 | Confidence Score 0.6935233210634015 \n",
      "\n",
      "Detection:: Location -> (400, 540)\n",
      "Scale ->  0 | Confidence Score 0.6483807843235118 \n",
      "\n"
     ]
    },
    {
     "name": "stderr",
     "output_type": "stream",
     "text": [
      "/tmp/ipykernel_62901/1983484597.py:49: FutureWarning: `multichannel` is a deprecated argument name for `hog`. It will be removed in version 1.0. Please use `channel_axis` instead.\n",
      "  fds, img_hog = hog(\n",
      "/tmp/ipykernel_62901/1983484597.py:49: FutureWarning: `multichannel` is a deprecated argument name for `hog`. It will be removed in version 1.0. Please use `channel_axis` instead.\n",
      "  fds, img_hog = hog(\n"
     ]
    },
    {
     "name": "stdout",
     "output_type": "stream",
     "text": [
      "Detection:: Location -> (420, 540)\n",
      "Scale ->  0 | Confidence Score 0.7575182456258461 \n",
      "\n",
      "Detection:: Location -> (440, 540)\n",
      "Scale ->  0 | Confidence Score 0.7456273950148261 \n",
      "\n"
     ]
    },
    {
     "name": "stderr",
     "output_type": "stream",
     "text": [
      "/tmp/ipykernel_62901/1983484597.py:49: FutureWarning: `multichannel` is a deprecated argument name for `hog`. It will be removed in version 1.0. Please use `channel_axis` instead.\n",
      "  fds, img_hog = hog(\n",
      "/tmp/ipykernel_62901/1983484597.py:49: FutureWarning: `multichannel` is a deprecated argument name for `hog`. It will be removed in version 1.0. Please use `channel_axis` instead.\n",
      "  fds, img_hog = hog(\n"
     ]
    },
    {
     "name": "stdout",
     "output_type": "stream",
     "text": [
      "Detection:: Location -> (460, 540)\n",
      "Scale ->  0 | Confidence Score 0.7646287536556478 \n",
      "\n",
      "Detection:: Location -> (480, 540)\n",
      "Scale ->  0 | Confidence Score 0.8078417702116079 \n",
      "\n"
     ]
    },
    {
     "name": "stderr",
     "output_type": "stream",
     "text": [
      "/tmp/ipykernel_62901/1983484597.py:49: FutureWarning: `multichannel` is a deprecated argument name for `hog`. It will be removed in version 1.0. Please use `channel_axis` instead.\n",
      "  fds, img_hog = hog(\n",
      "/tmp/ipykernel_62901/1983484597.py:49: FutureWarning: `multichannel` is a deprecated argument name for `hog`. It will be removed in version 1.0. Please use `channel_axis` instead.\n",
      "  fds, img_hog = hog(\n"
     ]
    },
    {
     "name": "stdout",
     "output_type": "stream",
     "text": [
      "Detection:: Location -> (500, 540)\n",
      "Scale ->  0 | Confidence Score 0.7637123569618319 \n",
      "\n",
      "Detection:: Location -> (520, 540)\n",
      "Scale ->  0 | Confidence Score 0.7536934689807744 \n",
      "\n"
     ]
    },
    {
     "name": "stderr",
     "output_type": "stream",
     "text": [
      "/tmp/ipykernel_62901/1983484597.py:49: FutureWarning: `multichannel` is a deprecated argument name for `hog`. It will be removed in version 1.0. Please use `channel_axis` instead.\n",
      "  fds, img_hog = hog(\n",
      "/tmp/ipykernel_62901/1983484597.py:49: FutureWarning: `multichannel` is a deprecated argument name for `hog`. It will be removed in version 1.0. Please use `channel_axis` instead.\n",
      "  fds, img_hog = hog(\n"
     ]
    },
    {
     "name": "stdout",
     "output_type": "stream",
     "text": [
      "Detection:: Location -> (540, 540)\n",
      "Scale ->  0 | Confidence Score 0.6646318552548677 \n",
      "\n",
      "Detection:: Location -> (560, 540)\n",
      "Scale ->  0 | Confidence Score 0.6972449064274522 \n",
      "\n"
     ]
    },
    {
     "name": "stderr",
     "output_type": "stream",
     "text": [
      "/tmp/ipykernel_62901/1983484597.py:49: FutureWarning: `multichannel` is a deprecated argument name for `hog`. It will be removed in version 1.0. Please use `channel_axis` instead.\n",
      "  fds, img_hog = hog(\n",
      "/tmp/ipykernel_62901/1983484597.py:49: FutureWarning: `multichannel` is a deprecated argument name for `hog`. It will be removed in version 1.0. Please use `channel_axis` instead.\n",
      "  fds, img_hog = hog(\n"
     ]
    },
    {
     "name": "stdout",
     "output_type": "stream",
     "text": [
      "Detection:: Location -> (580, 540)\n",
      "Scale ->  0 | Confidence Score 0.6726159268699065 \n",
      "\n",
      "Detection:: Location -> (600, 540)\n",
      "Scale ->  0 | Confidence Score 0.7132496229123255 \n",
      "\n"
     ]
    },
    {
     "name": "stderr",
     "output_type": "stream",
     "text": [
      "/tmp/ipykernel_62901/1983484597.py:49: FutureWarning: `multichannel` is a deprecated argument name for `hog`. It will be removed in version 1.0. Please use `channel_axis` instead.\n",
      "  fds, img_hog = hog(\n",
      "/tmp/ipykernel_62901/1983484597.py:49: FutureWarning: `multichannel` is a deprecated argument name for `hog`. It will be removed in version 1.0. Please use `channel_axis` instead.\n",
      "  fds, img_hog = hog(\n"
     ]
    },
    {
     "name": "stdout",
     "output_type": "stream",
     "text": [
      "Detection:: Location -> (620, 540)\n",
      "Scale ->  0 | Confidence Score 0.743722828555483 \n",
      "\n",
      "Detection:: Location -> (640, 540)\n",
      "Scale ->  0 | Confidence Score 0.767023965154961 \n",
      "\n"
     ]
    },
    {
     "name": "stderr",
     "output_type": "stream",
     "text": [
      "/tmp/ipykernel_62901/1983484597.py:49: FutureWarning: `multichannel` is a deprecated argument name for `hog`. It will be removed in version 1.0. Please use `channel_axis` instead.\n",
      "  fds, img_hog = hog(\n",
      "/tmp/ipykernel_62901/1983484597.py:49: FutureWarning: `multichannel` is a deprecated argument name for `hog`. It will be removed in version 1.0. Please use `channel_axis` instead.\n",
      "  fds, img_hog = hog(\n"
     ]
    },
    {
     "name": "stdout",
     "output_type": "stream",
     "text": [
      "Detection:: Location -> (660, 540)\n",
      "Scale ->  0 | Confidence Score 0.7602063538335458 \n",
      "\n",
      "Detection:: Location -> (680, 540)\n",
      "Scale ->  0 | Confidence Score 0.7361719560556436 \n",
      "\n"
     ]
    },
    {
     "name": "stderr",
     "output_type": "stream",
     "text": [
      "/tmp/ipykernel_62901/1983484597.py:49: FutureWarning: `multichannel` is a deprecated argument name for `hog`. It will be removed in version 1.0. Please use `channel_axis` instead.\n",
      "  fds, img_hog = hog(\n",
      "/tmp/ipykernel_62901/1983484597.py:49: FutureWarning: `multichannel` is a deprecated argument name for `hog`. It will be removed in version 1.0. Please use `channel_axis` instead.\n",
      "  fds, img_hog = hog(\n"
     ]
    },
    {
     "name": "stdout",
     "output_type": "stream",
     "text": [
      "Detection:: Location -> (700, 540)\n",
      "Scale ->  0 | Confidence Score 0.7472781582177652 \n",
      "\n",
      "Detection:: Location -> (720, 540)\n",
      "Scale ->  0 | Confidence Score 0.7348676310126764 \n",
      "\n"
     ]
    },
    {
     "name": "stderr",
     "output_type": "stream",
     "text": [
      "/tmp/ipykernel_62901/1983484597.py:49: FutureWarning: `multichannel` is a deprecated argument name for `hog`. It will be removed in version 1.0. Please use `channel_axis` instead.\n",
      "  fds, img_hog = hog(\n",
      "/tmp/ipykernel_62901/1983484597.py:49: FutureWarning: `multichannel` is a deprecated argument name for `hog`. It will be removed in version 1.0. Please use `channel_axis` instead.\n",
      "  fds, img_hog = hog(\n"
     ]
    },
    {
     "name": "stdout",
     "output_type": "stream",
     "text": [
      "Detection:: Location -> (740, 540)\n",
      "Scale ->  0 | Confidence Score 0.6119210468857168 \n",
      "\n",
      "Detection:: Location -> (760, 540)\n",
      "Scale ->  0 | Confidence Score 0.6213863671962875 \n",
      "\n"
     ]
    },
    {
     "name": "stderr",
     "output_type": "stream",
     "text": [
      "/tmp/ipykernel_62901/1983484597.py:49: FutureWarning: `multichannel` is a deprecated argument name for `hog`. It will be removed in version 1.0. Please use `channel_axis` instead.\n",
      "  fds, img_hog = hog(\n",
      "/tmp/ipykernel_62901/1983484597.py:49: FutureWarning: `multichannel` is a deprecated argument name for `hog`. It will be removed in version 1.0. Please use `channel_axis` instead.\n",
      "  fds, img_hog = hog(\n",
      "/tmp/ipykernel_62901/1983484597.py:49: FutureWarning: `multichannel` is a deprecated argument name for `hog`. It will be removed in version 1.0. Please use `channel_axis` instead.\n",
      "  fds, img_hog = hog(\n",
      "/tmp/ipykernel_62901/1983484597.py:49: FutureWarning: `multichannel` is a deprecated argument name for `hog`. It will be removed in version 1.0. Please use `channel_axis` instead.\n",
      "  fds, img_hog = hog(\n"
     ]
    },
    {
     "name": "stdout",
     "output_type": "stream",
     "text": [
      "Detection:: Location -> (800, 540)\n",
      "Scale ->  0 | Confidence Score 0.6587183509824687 \n",
      "\n",
      "Detection:: Location -> (820, 540)\n",
      "Scale ->  0 | Confidence Score 0.7471172589406774 \n",
      "\n"
     ]
    },
    {
     "name": "stderr",
     "output_type": "stream",
     "text": [
      "/tmp/ipykernel_62901/1983484597.py:49: FutureWarning: `multichannel` is a deprecated argument name for `hog`. It will be removed in version 1.0. Please use `channel_axis` instead.\n",
      "  fds, img_hog = hog(\n",
      "/tmp/ipykernel_62901/1983484597.py:49: FutureWarning: `multichannel` is a deprecated argument name for `hog`. It will be removed in version 1.0. Please use `channel_axis` instead.\n",
      "  fds, img_hog = hog(\n"
     ]
    },
    {
     "name": "stdout",
     "output_type": "stream",
     "text": [
      "Detection:: Location -> (840, 540)\n",
      "Scale ->  0 | Confidence Score 0.7554646353518545 \n",
      "\n",
      "Detection:: Location -> (860, 540)\n",
      "Scale ->  0 | Confidence Score 0.8039657017314058 \n",
      "\n"
     ]
    },
    {
     "name": "stderr",
     "output_type": "stream",
     "text": [
      "/tmp/ipykernel_62901/1983484597.py:49: FutureWarning: `multichannel` is a deprecated argument name for `hog`. It will be removed in version 1.0. Please use `channel_axis` instead.\n",
      "  fds, img_hog = hog(\n",
      "/tmp/ipykernel_62901/1983484597.py:49: FutureWarning: `multichannel` is a deprecated argument name for `hog`. It will be removed in version 1.0. Please use `channel_axis` instead.\n",
      "  fds, img_hog = hog(\n"
     ]
    },
    {
     "name": "stdout",
     "output_type": "stream",
     "text": [
      "Detection:: Location -> (880, 540)\n",
      "Scale ->  0 | Confidence Score 0.6508681730711984 \n",
      "\n"
     ]
    },
    {
     "name": "stderr",
     "output_type": "stream",
     "text": [
      "/tmp/ipykernel_62901/1983484597.py:49: FutureWarning: `multichannel` is a deprecated argument name for `hog`. It will be removed in version 1.0. Please use `channel_axis` instead.\n",
      "  fds, img_hog = hog(\n",
      "/tmp/ipykernel_62901/1983484597.py:49: FutureWarning: `multichannel` is a deprecated argument name for `hog`. It will be removed in version 1.0. Please use `channel_axis` instead.\n",
      "  fds, img_hog = hog(\n",
      "/tmp/ipykernel_62901/1983484597.py:49: FutureWarning: `multichannel` is a deprecated argument name for `hog`. It will be removed in version 1.0. Please use `channel_axis` instead.\n",
      "  fds, img_hog = hog(\n",
      "/tmp/ipykernel_62901/1983484597.py:49: FutureWarning: `multichannel` is a deprecated argument name for `hog`. It will be removed in version 1.0. Please use `channel_axis` instead.\n",
      "  fds, img_hog = hog(\n"
     ]
    },
    {
     "name": "stdout",
     "output_type": "stream",
     "text": [
      "Detection:: Location -> (20, 560)\n",
      "Scale ->  0 | Confidence Score 0.6356953705474537 \n",
      "\n",
      "Detection:: Location -> (40, 560)\n",
      "Scale ->  0 | Confidence Score 0.6346924090407174 \n",
      "\n"
     ]
    },
    {
     "name": "stderr",
     "output_type": "stream",
     "text": [
      "/tmp/ipykernel_62901/1983484597.py:49: FutureWarning: `multichannel` is a deprecated argument name for `hog`. It will be removed in version 1.0. Please use `channel_axis` instead.\n",
      "  fds, img_hog = hog(\n",
      "/tmp/ipykernel_62901/1983484597.py:49: FutureWarning: `multichannel` is a deprecated argument name for `hog`. It will be removed in version 1.0. Please use `channel_axis` instead.\n",
      "  fds, img_hog = hog(\n"
     ]
    },
    {
     "name": "stdout",
     "output_type": "stream",
     "text": [
      "Detection:: Location -> (60, 560)\n",
      "Scale ->  0 | Confidence Score 0.7489889958924771 \n",
      "\n",
      "Detection:: Location -> (80, 560)\n",
      "Scale ->  0 | Confidence Score 0.6995779116588992 \n",
      "\n"
     ]
    },
    {
     "name": "stderr",
     "output_type": "stream",
     "text": [
      "/tmp/ipykernel_62901/1983484597.py:49: FutureWarning: `multichannel` is a deprecated argument name for `hog`. It will be removed in version 1.0. Please use `channel_axis` instead.\n",
      "  fds, img_hog = hog(\n",
      "/tmp/ipykernel_62901/1983484597.py:49: FutureWarning: `multichannel` is a deprecated argument name for `hog`. It will be removed in version 1.0. Please use `channel_axis` instead.\n",
      "  fds, img_hog = hog(\n"
     ]
    },
    {
     "name": "stdout",
     "output_type": "stream",
     "text": [
      "Detection:: Location -> (100, 560)\n",
      "Scale ->  0 | Confidence Score 0.7552383668407764 \n",
      "\n",
      "Detection:: Location -> (120, 560)\n",
      "Scale ->  0 | Confidence Score 0.8102209766546061 \n",
      "\n"
     ]
    },
    {
     "name": "stderr",
     "output_type": "stream",
     "text": [
      "/tmp/ipykernel_62901/1983484597.py:49: FutureWarning: `multichannel` is a deprecated argument name for `hog`. It will be removed in version 1.0. Please use `channel_axis` instead.\n",
      "  fds, img_hog = hog(\n"
     ]
    },
    {
     "name": "stdout",
     "output_type": "stream",
     "text": [
      "Detection:: Location -> (140, 560)\n",
      "Scale ->  0 | Confidence Score 0.8196787736010671 \n",
      "\n",
      "Detection:: Location -> (160, 560)\n",
      "Scale ->  0 | Confidence Score 0.842338453666551 \n",
      "\n"
     ]
    },
    {
     "name": "stderr",
     "output_type": "stream",
     "text": [
      "/tmp/ipykernel_62901/1983484597.py:49: FutureWarning: `multichannel` is a deprecated argument name for `hog`. It will be removed in version 1.0. Please use `channel_axis` instead.\n",
      "  fds, img_hog = hog(\n",
      "/tmp/ipykernel_62901/1983484597.py:49: FutureWarning: `multichannel` is a deprecated argument name for `hog`. It will be removed in version 1.0. Please use `channel_axis` instead.\n",
      "  fds, img_hog = hog(\n"
     ]
    },
    {
     "name": "stdout",
     "output_type": "stream",
     "text": [
      "Detection:: Location -> (180, 560)\n",
      "Scale ->  0 | Confidence Score 0.8116975742442549 \n",
      "\n",
      "Detection:: Location -> (200, 560)\n",
      "Scale ->  0 | Confidence Score 0.7566549867604613 \n",
      "\n"
     ]
    },
    {
     "name": "stderr",
     "output_type": "stream",
     "text": [
      "/tmp/ipykernel_62901/1983484597.py:49: FutureWarning: `multichannel` is a deprecated argument name for `hog`. It will be removed in version 1.0. Please use `channel_axis` instead.\n",
      "  fds, img_hog = hog(\n",
      "/tmp/ipykernel_62901/1983484597.py:49: FutureWarning: `multichannel` is a deprecated argument name for `hog`. It will be removed in version 1.0. Please use `channel_axis` instead.\n",
      "  fds, img_hog = hog(\n"
     ]
    },
    {
     "name": "stdout",
     "output_type": "stream",
     "text": [
      "Detection:: Location -> (220, 560)\n",
      "Scale ->  0 | Confidence Score 0.7616156734303887 \n",
      "\n",
      "Detection:: Location -> (240, 560)\n",
      "Scale ->  0 | Confidence Score 0.7702060292246987 \n",
      "\n"
     ]
    },
    {
     "name": "stderr",
     "output_type": "stream",
     "text": [
      "/tmp/ipykernel_62901/1983484597.py:49: FutureWarning: `multichannel` is a deprecated argument name for `hog`. It will be removed in version 1.0. Please use `channel_axis` instead.\n",
      "  fds, img_hog = hog(\n",
      "/tmp/ipykernel_62901/1983484597.py:49: FutureWarning: `multichannel` is a deprecated argument name for `hog`. It will be removed in version 1.0. Please use `channel_axis` instead.\n",
      "  fds, img_hog = hog(\n"
     ]
    },
    {
     "name": "stdout",
     "output_type": "stream",
     "text": [
      "Detection:: Location -> (260, 560)\n",
      "Scale ->  0 | Confidence Score 0.7746108770578533 \n",
      "\n",
      "Detection:: Location -> (280, 560)\n",
      "Scale ->  0 | Confidence Score 0.8004648515140615 \n",
      "\n"
     ]
    },
    {
     "name": "stderr",
     "output_type": "stream",
     "text": [
      "/tmp/ipykernel_62901/1983484597.py:49: FutureWarning: `multichannel` is a deprecated argument name for `hog`. It will be removed in version 1.0. Please use `channel_axis` instead.\n",
      "  fds, img_hog = hog(\n",
      "/tmp/ipykernel_62901/1983484597.py:49: FutureWarning: `multichannel` is a deprecated argument name for `hog`. It will be removed in version 1.0. Please use `channel_axis` instead.\n",
      "  fds, img_hog = hog(\n"
     ]
    },
    {
     "name": "stdout",
     "output_type": "stream",
     "text": [
      "Detection:: Location -> (300, 560)\n",
      "Scale ->  0 | Confidence Score 0.796479996491806 \n",
      "\n",
      "Detection:: Location -> (320, 560)\n",
      "Scale ->  0 | Confidence Score 0.7789870214800333 \n",
      "\n"
     ]
    },
    {
     "name": "stderr",
     "output_type": "stream",
     "text": [
      "/tmp/ipykernel_62901/1983484597.py:49: FutureWarning: `multichannel` is a deprecated argument name for `hog`. It will be removed in version 1.0. Please use `channel_axis` instead.\n",
      "  fds, img_hog = hog(\n",
      "/tmp/ipykernel_62901/1983484597.py:49: FutureWarning: `multichannel` is a deprecated argument name for `hog`. It will be removed in version 1.0. Please use `channel_axis` instead.\n",
      "  fds, img_hog = hog(\n"
     ]
    },
    {
     "name": "stdout",
     "output_type": "stream",
     "text": [
      "Detection:: Location -> (340, 560)\n",
      "Scale ->  0 | Confidence Score 0.7889355834297089 \n",
      "\n",
      "Detection:: Location -> (360, 560)\n",
      "Scale ->  0 | Confidence Score 0.6972476058999912 \n",
      "\n"
     ]
    },
    {
     "name": "stderr",
     "output_type": "stream",
     "text": [
      "/tmp/ipykernel_62901/1983484597.py:49: FutureWarning: `multichannel` is a deprecated argument name for `hog`. It will be removed in version 1.0. Please use `channel_axis` instead.\n",
      "  fds, img_hog = hog(\n",
      "/tmp/ipykernel_62901/1983484597.py:49: FutureWarning: `multichannel` is a deprecated argument name for `hog`. It will be removed in version 1.0. Please use `channel_axis` instead.\n",
      "  fds, img_hog = hog(\n"
     ]
    },
    {
     "name": "stdout",
     "output_type": "stream",
     "text": [
      "Detection:: Location -> (380, 560)\n",
      "Scale ->  0 | Confidence Score 0.7169375673679317 \n",
      "\n",
      "Detection:: Location -> (400, 560)\n",
      "Scale ->  0 | Confidence Score 0.7362606554820084 \n",
      "\n"
     ]
    },
    {
     "name": "stderr",
     "output_type": "stream",
     "text": [
      "/tmp/ipykernel_62901/1983484597.py:49: FutureWarning: `multichannel` is a deprecated argument name for `hog`. It will be removed in version 1.0. Please use `channel_axis` instead.\n",
      "  fds, img_hog = hog(\n",
      "/tmp/ipykernel_62901/1983484597.py:49: FutureWarning: `multichannel` is a deprecated argument name for `hog`. It will be removed in version 1.0. Please use `channel_axis` instead.\n",
      "  fds, img_hog = hog(\n"
     ]
    },
    {
     "name": "stdout",
     "output_type": "stream",
     "text": [
      "Detection:: Location -> (420, 560)\n",
      "Scale ->  0 | Confidence Score 0.7530003197215639 \n",
      "\n"
     ]
    },
    {
     "name": "stderr",
     "output_type": "stream",
     "text": [
      "/tmp/ipykernel_62901/1983484597.py:49: FutureWarning: `multichannel` is a deprecated argument name for `hog`. It will be removed in version 1.0. Please use `channel_axis` instead.\n",
      "  fds, img_hog = hog(\n"
     ]
    },
    {
     "name": "stdout",
     "output_type": "stream",
     "text": [
      "Detection:: Location -> (440, 560)\n",
      "Scale ->  0 | Confidence Score 0.706239121829376 \n",
      "\n"
     ]
    },
    {
     "name": "stderr",
     "output_type": "stream",
     "text": [
      "/tmp/ipykernel_62901/1983484597.py:49: FutureWarning: `multichannel` is a deprecated argument name for `hog`. It will be removed in version 1.0. Please use `channel_axis` instead.\n",
      "  fds, img_hog = hog(\n"
     ]
    },
    {
     "name": "stdout",
     "output_type": "stream",
     "text": [
      "Detection:: Location -> (460, 560)\n",
      "Scale ->  0 | Confidence Score 0.7571187957088586 \n",
      "\n",
      "Detection:: Location -> (480, 560)\n",
      "Scale ->  0 | Confidence Score 0.7688354125120666 \n",
      "\n"
     ]
    },
    {
     "name": "stderr",
     "output_type": "stream",
     "text": [
      "/tmp/ipykernel_62901/1983484597.py:49: FutureWarning: `multichannel` is a deprecated argument name for `hog`. It will be removed in version 1.0. Please use `channel_axis` instead.\n",
      "  fds, img_hog = hog(\n",
      "/tmp/ipykernel_62901/1983484597.py:49: FutureWarning: `multichannel` is a deprecated argument name for `hog`. It will be removed in version 1.0. Please use `channel_axis` instead.\n",
      "  fds, img_hog = hog(\n"
     ]
    },
    {
     "name": "stdout",
     "output_type": "stream",
     "text": [
      "Detection:: Location -> (500, 560)\n",
      "Scale ->  0 | Confidence Score 0.7859182708093027 \n",
      "\n",
      "Detection:: Location -> (520, 560)\n",
      "Scale ->  0 | Confidence Score 0.6745274298832667 \n",
      "\n"
     ]
    },
    {
     "name": "stderr",
     "output_type": "stream",
     "text": [
      "/tmp/ipykernel_62901/1983484597.py:49: FutureWarning: `multichannel` is a deprecated argument name for `hog`. It will be removed in version 1.0. Please use `channel_axis` instead.\n",
      "  fds, img_hog = hog(\n",
      "/tmp/ipykernel_62901/1983484597.py:49: FutureWarning: `multichannel` is a deprecated argument name for `hog`. It will be removed in version 1.0. Please use `channel_axis` instead.\n",
      "  fds, img_hog = hog(\n"
     ]
    },
    {
     "name": "stdout",
     "output_type": "stream",
     "text": [
      "Detection:: Location -> (540, 560)\n",
      "Scale ->  0 | Confidence Score 0.7288450907138236 \n",
      "\n",
      "Detection:: Location -> (560, 560)\n",
      "Scale ->  0 | Confidence Score 0.7373544574401539 \n",
      "\n"
     ]
    },
    {
     "name": "stderr",
     "output_type": "stream",
     "text": [
      "/tmp/ipykernel_62901/1983484597.py:49: FutureWarning: `multichannel` is a deprecated argument name for `hog`. It will be removed in version 1.0. Please use `channel_axis` instead.\n",
      "  fds, img_hog = hog(\n",
      "/tmp/ipykernel_62901/1983484597.py:49: FutureWarning: `multichannel` is a deprecated argument name for `hog`. It will be removed in version 1.0. Please use `channel_axis` instead.\n",
      "  fds, img_hog = hog(\n"
     ]
    },
    {
     "name": "stdout",
     "output_type": "stream",
     "text": [
      "Detection:: Location -> (580, 560)\n",
      "Scale ->  0 | Confidence Score 0.7203344588576847 \n",
      "\n"
     ]
    },
    {
     "name": "stderr",
     "output_type": "stream",
     "text": [
      "/tmp/ipykernel_62901/1983484597.py:49: FutureWarning: `multichannel` is a deprecated argument name for `hog`. It will be removed in version 1.0. Please use `channel_axis` instead.\n",
      "  fds, img_hog = hog(\n"
     ]
    },
    {
     "name": "stdout",
     "output_type": "stream",
     "text": [
      "Detection:: Location -> (600, 560)\n",
      "Scale ->  0 | Confidence Score 0.7278700258717752 \n",
      "\n",
      "Detection:: Location -> (620, 560)\n",
      "Scale ->  0 | Confidence Score 0.7746029080740863 \n",
      "\n"
     ]
    },
    {
     "name": "stderr",
     "output_type": "stream",
     "text": [
      "/tmp/ipykernel_62901/1983484597.py:49: FutureWarning: `multichannel` is a deprecated argument name for `hog`. It will be removed in version 1.0. Please use `channel_axis` instead.\n",
      "  fds, img_hog = hog(\n",
      "/tmp/ipykernel_62901/1983484597.py:49: FutureWarning: `multichannel` is a deprecated argument name for `hog`. It will be removed in version 1.0. Please use `channel_axis` instead.\n",
      "  fds, img_hog = hog(\n"
     ]
    },
    {
     "name": "stdout",
     "output_type": "stream",
     "text": [
      "Detection:: Location -> (640, 560)\n",
      "Scale ->  0 | Confidence Score 0.7524717286868122 \n",
      "\n",
      "Detection:: Location -> (660, 560)\n",
      "Scale ->  0 | Confidence Score 0.7723962599181285 \n",
      "\n"
     ]
    },
    {
     "name": "stderr",
     "output_type": "stream",
     "text": [
      "/tmp/ipykernel_62901/1983484597.py:49: FutureWarning: `multichannel` is a deprecated argument name for `hog`. It will be removed in version 1.0. Please use `channel_axis` instead.\n",
      "  fds, img_hog = hog(\n",
      "/tmp/ipykernel_62901/1983484597.py:49: FutureWarning: `multichannel` is a deprecated argument name for `hog`. It will be removed in version 1.0. Please use `channel_axis` instead.\n",
      "  fds, img_hog = hog(\n"
     ]
    },
    {
     "name": "stdout",
     "output_type": "stream",
     "text": [
      "Detection:: Location -> (680, 560)\n",
      "Scale ->  0 | Confidence Score 0.6976261098775901 \n",
      "\n",
      "Detection:: Location -> (700, 560)\n",
      "Scale ->  0 | Confidence Score 0.6808799669013954 \n",
      "\n"
     ]
    },
    {
     "name": "stderr",
     "output_type": "stream",
     "text": [
      "/tmp/ipykernel_62901/1983484597.py:49: FutureWarning: `multichannel` is a deprecated argument name for `hog`. It will be removed in version 1.0. Please use `channel_axis` instead.\n",
      "  fds, img_hog = hog(\n",
      "/tmp/ipykernel_62901/1983484597.py:49: FutureWarning: `multichannel` is a deprecated argument name for `hog`. It will be removed in version 1.0. Please use `channel_axis` instead.\n",
      "  fds, img_hog = hog(\n"
     ]
    },
    {
     "name": "stdout",
     "output_type": "stream",
     "text": [
      "Detection:: Location -> (720, 560)\n",
      "Scale ->  0 | Confidence Score 0.6948949840797474 \n",
      "\n",
      "Detection:: Location -> (740, 560)\n",
      "Scale ->  0 | Confidence Score 0.6507319009455066 \n",
      "\n"
     ]
    },
    {
     "name": "stderr",
     "output_type": "stream",
     "text": [
      "/tmp/ipykernel_62901/1983484597.py:49: FutureWarning: `multichannel` is a deprecated argument name for `hog`. It will be removed in version 1.0. Please use `channel_axis` instead.\n",
      "  fds, img_hog = hog(\n",
      "/tmp/ipykernel_62901/1983484597.py:49: FutureWarning: `multichannel` is a deprecated argument name for `hog`. It will be removed in version 1.0. Please use `channel_axis` instead.\n",
      "  fds, img_hog = hog(\n"
     ]
    },
    {
     "name": "stdout",
     "output_type": "stream",
     "text": [
      "Detection:: Location -> (760, 560)\n",
      "Scale ->  0 | Confidence Score 0.7111289459873376 \n",
      "\n",
      "Detection:: Location -> (780, 560)\n",
      "Scale ->  0 | Confidence Score 0.7459156198890583 \n",
      "\n"
     ]
    },
    {
     "name": "stderr",
     "output_type": "stream",
     "text": [
      "/tmp/ipykernel_62901/1983484597.py:49: FutureWarning: `multichannel` is a deprecated argument name for `hog`. It will be removed in version 1.0. Please use `channel_axis` instead.\n",
      "  fds, img_hog = hog(\n",
      "/tmp/ipykernel_62901/1983484597.py:49: FutureWarning: `multichannel` is a deprecated argument name for `hog`. It will be removed in version 1.0. Please use `channel_axis` instead.\n",
      "  fds, img_hog = hog(\n"
     ]
    },
    {
     "name": "stdout",
     "output_type": "stream",
     "text": [
      "Detection:: Location -> (800, 560)\n",
      "Scale ->  0 | Confidence Score 0.7296908042357011 \n",
      "\n",
      "Detection:: Location -> (820, 560)\n",
      "Scale ->  0 | Confidence Score 0.7392055964283732 \n",
      "\n"
     ]
    },
    {
     "name": "stderr",
     "output_type": "stream",
     "text": [
      "/tmp/ipykernel_62901/1983484597.py:49: FutureWarning: `multichannel` is a deprecated argument name for `hog`. It will be removed in version 1.0. Please use `channel_axis` instead.\n",
      "  fds, img_hog = hog(\n",
      "/tmp/ipykernel_62901/1983484597.py:49: FutureWarning: `multichannel` is a deprecated argument name for `hog`. It will be removed in version 1.0. Please use `channel_axis` instead.\n",
      "  fds, img_hog = hog(\n"
     ]
    },
    {
     "name": "stdout",
     "output_type": "stream",
     "text": [
      "Detection:: Location -> (840, 560)\n",
      "Scale ->  0 | Confidence Score 0.7050254796908407 \n",
      "\n",
      "Detection:: Location -> (860, 560)\n",
      "Scale ->  0 | Confidence Score 0.6718692051622445 \n",
      "\n"
     ]
    },
    {
     "name": "stderr",
     "output_type": "stream",
     "text": [
      "/tmp/ipykernel_62901/1983484597.py:49: FutureWarning: `multichannel` is a deprecated argument name for `hog`. It will be removed in version 1.0. Please use `channel_axis` instead.\n",
      "  fds, img_hog = hog(\n",
      "/tmp/ipykernel_62901/1983484597.py:49: FutureWarning: `multichannel` is a deprecated argument name for `hog`. It will be removed in version 1.0. Please use `channel_axis` instead.\n",
      "  fds, img_hog = hog(\n",
      "/tmp/ipykernel_62901/1983484597.py:49: FutureWarning: `multichannel` is a deprecated argument name for `hog`. It will be removed in version 1.0. Please use `channel_axis` instead.\n",
      "  fds, img_hog = hog(\n",
      "/tmp/ipykernel_62901/1983484597.py:49: FutureWarning: `multichannel` is a deprecated argument name for `hog`. It will be removed in version 1.0. Please use `channel_axis` instead.\n",
      "  fds, img_hog = hog(\n",
      "/tmp/ipykernel_62901/1983484597.py:49: FutureWarning: `multichannel` is a deprecated argument name for `hog`. It will be removed in version 1.0. Please use `channel_axis` instead.\n",
      "  fds, img_hog = hog(\n",
      "/tmp/ipykernel_62901/1983484597.py:49: FutureWarning: `multichannel` is a deprecated argument name for `hog`. It will be removed in version 1.0. Please use `channel_axis` instead.\n",
      "  fds, img_hog = hog(\n"
     ]
    },
    {
     "name": "stdout",
     "output_type": "stream",
     "text": [
      "Detection:: Location -> (20, 580)\n",
      "Scale ->  0 | Confidence Score 0.6255416768937696 \n",
      "\n",
      "Detection:: Location -> (40, 580)\n",
      "Scale ->  0 | Confidence Score 0.703484194001858 \n",
      "\n"
     ]
    },
    {
     "name": "stderr",
     "output_type": "stream",
     "text": [
      "/tmp/ipykernel_62901/1983484597.py:49: FutureWarning: `multichannel` is a deprecated argument name for `hog`. It will be removed in version 1.0. Please use `channel_axis` instead.\n",
      "  fds, img_hog = hog(\n",
      "/tmp/ipykernel_62901/1983484597.py:49: FutureWarning: `multichannel` is a deprecated argument name for `hog`. It will be removed in version 1.0. Please use `channel_axis` instead.\n",
      "  fds, img_hog = hog(\n"
     ]
    },
    {
     "name": "stdout",
     "output_type": "stream",
     "text": [
      "Detection:: Location -> (60, 580)\n",
      "Scale ->  0 | Confidence Score 0.7574081219229619 \n",
      "\n",
      "Detection:: Location -> (80, 580)\n",
      "Scale ->  0 | Confidence Score 0.7539522848986695 \n",
      "\n"
     ]
    },
    {
     "name": "stderr",
     "output_type": "stream",
     "text": [
      "/tmp/ipykernel_62901/1983484597.py:49: FutureWarning: `multichannel` is a deprecated argument name for `hog`. It will be removed in version 1.0. Please use `channel_axis` instead.\n",
      "  fds, img_hog = hog(\n",
      "/tmp/ipykernel_62901/1983484597.py:49: FutureWarning: `multichannel` is a deprecated argument name for `hog`. It will be removed in version 1.0. Please use `channel_axis` instead.\n",
      "  fds, img_hog = hog(\n"
     ]
    },
    {
     "name": "stdout",
     "output_type": "stream",
     "text": [
      "Detection:: Location -> (100, 580)\n",
      "Scale ->  0 | Confidence Score 0.8241333851323249 \n",
      "\n",
      "Detection:: Location -> (120, 580)\n",
      "Scale ->  0 | Confidence Score 0.8661262736101016 \n",
      "\n"
     ]
    },
    {
     "name": "stderr",
     "output_type": "stream",
     "text": [
      "/tmp/ipykernel_62901/1983484597.py:49: FutureWarning: `multichannel` is a deprecated argument name for `hog`. It will be removed in version 1.0. Please use `channel_axis` instead.\n",
      "  fds, img_hog = hog(\n",
      "/tmp/ipykernel_62901/1983484597.py:49: FutureWarning: `multichannel` is a deprecated argument name for `hog`. It will be removed in version 1.0. Please use `channel_axis` instead.\n",
      "  fds, img_hog = hog(\n"
     ]
    },
    {
     "name": "stdout",
     "output_type": "stream",
     "text": [
      "Detection:: Location -> (140, 580)\n",
      "Scale ->  0 | Confidence Score 0.8422018419742555 \n",
      "\n",
      "Detection:: Location -> (160, 580)\n",
      "Scale ->  0 | Confidence Score 0.7932783796262363 \n",
      "\n"
     ]
    },
    {
     "name": "stderr",
     "output_type": "stream",
     "text": [
      "/tmp/ipykernel_62901/1983484597.py:49: FutureWarning: `multichannel` is a deprecated argument name for `hog`. It will be removed in version 1.0. Please use `channel_axis` instead.\n",
      "  fds, img_hog = hog(\n",
      "/tmp/ipykernel_62901/1983484597.py:49: FutureWarning: `multichannel` is a deprecated argument name for `hog`. It will be removed in version 1.0. Please use `channel_axis` instead.\n",
      "  fds, img_hog = hog(\n"
     ]
    },
    {
     "name": "stdout",
     "output_type": "stream",
     "text": [
      "Detection:: Location -> (180, 580)\n",
      "Scale ->  0 | Confidence Score 0.7752680902213192 \n",
      "\n",
      "Detection:: Location -> (200, 580)\n",
      "Scale ->  0 | Confidence Score 0.7770454955071944 \n",
      "\n"
     ]
    },
    {
     "name": "stderr",
     "output_type": "stream",
     "text": [
      "/tmp/ipykernel_62901/1983484597.py:49: FutureWarning: `multichannel` is a deprecated argument name for `hog`. It will be removed in version 1.0. Please use `channel_axis` instead.\n",
      "  fds, img_hog = hog(\n",
      "/tmp/ipykernel_62901/1983484597.py:49: FutureWarning: `multichannel` is a deprecated argument name for `hog`. It will be removed in version 1.0. Please use `channel_axis` instead.\n",
      "  fds, img_hog = hog(\n"
     ]
    },
    {
     "name": "stdout",
     "output_type": "stream",
     "text": [
      "Detection:: Location -> (220, 580)\n",
      "Scale ->  0 | Confidence Score 0.7476784928815936 \n",
      "\n",
      "Detection:: Location -> (240, 580)\n",
      "Scale ->  0 | Confidence Score 0.7452214266975236 \n",
      "\n"
     ]
    },
    {
     "name": "stderr",
     "output_type": "stream",
     "text": [
      "/tmp/ipykernel_62901/1983484597.py:49: FutureWarning: `multichannel` is a deprecated argument name for `hog`. It will be removed in version 1.0. Please use `channel_axis` instead.\n",
      "  fds, img_hog = hog(\n",
      "/tmp/ipykernel_62901/1983484597.py:49: FutureWarning: `multichannel` is a deprecated argument name for `hog`. It will be removed in version 1.0. Please use `channel_axis` instead.\n",
      "  fds, img_hog = hog(\n"
     ]
    },
    {
     "name": "stdout",
     "output_type": "stream",
     "text": [
      "Detection:: Location -> (260, 580)\n",
      "Scale ->  0 | Confidence Score 0.7634252688543701 \n",
      "\n",
      "Detection:: Location -> (280, 580)\n",
      "Scale ->  0 | Confidence Score 0.8154681556104852 \n",
      "\n"
     ]
    },
    {
     "name": "stderr",
     "output_type": "stream",
     "text": [
      "/tmp/ipykernel_62901/1983484597.py:49: FutureWarning: `multichannel` is a deprecated argument name for `hog`. It will be removed in version 1.0. Please use `channel_axis` instead.\n",
      "  fds, img_hog = hog(\n",
      "/tmp/ipykernel_62901/1983484597.py:49: FutureWarning: `multichannel` is a deprecated argument name for `hog`. It will be removed in version 1.0. Please use `channel_axis` instead.\n",
      "  fds, img_hog = hog(\n"
     ]
    },
    {
     "name": "stdout",
     "output_type": "stream",
     "text": [
      "Detection:: Location -> (300, 580)\n",
      "Scale ->  0 | Confidence Score 0.8164448409524563 \n",
      "\n"
     ]
    },
    {
     "name": "stderr",
     "output_type": "stream",
     "text": [
      "/tmp/ipykernel_62901/1983484597.py:49: FutureWarning: `multichannel` is a deprecated argument name for `hog`. It will be removed in version 1.0. Please use `channel_axis` instead.\n",
      "  fds, img_hog = hog(\n"
     ]
    },
    {
     "name": "stdout",
     "output_type": "stream",
     "text": [
      "Detection:: Location -> (320, 580)\n",
      "Scale ->  0 | Confidence Score 0.7677775031295995 \n",
      "\n",
      "Detection:: Location -> (340, 580)\n",
      "Scale ->  0 | Confidence Score 0.7556162866753185 \n",
      "\n"
     ]
    },
    {
     "name": "stderr",
     "output_type": "stream",
     "text": [
      "/tmp/ipykernel_62901/1983484597.py:49: FutureWarning: `multichannel` is a deprecated argument name for `hog`. It will be removed in version 1.0. Please use `channel_axis` instead.\n",
      "  fds, img_hog = hog(\n",
      "/tmp/ipykernel_62901/1983484597.py:49: FutureWarning: `multichannel` is a deprecated argument name for `hog`. It will be removed in version 1.0. Please use `channel_axis` instead.\n",
      "  fds, img_hog = hog(\n"
     ]
    },
    {
     "name": "stdout",
     "output_type": "stream",
     "text": [
      "Detection:: Location -> (360, 580)\n",
      "Scale ->  0 | Confidence Score 0.7210319315457824 \n",
      "\n",
      "Detection:: Location -> (380, 580)\n",
      "Scale ->  0 | Confidence Score 0.7835887712907127 \n",
      "\n"
     ]
    },
    {
     "name": "stderr",
     "output_type": "stream",
     "text": [
      "/tmp/ipykernel_62901/1983484597.py:49: FutureWarning: `multichannel` is a deprecated argument name for `hog`. It will be removed in version 1.0. Please use `channel_axis` instead.\n",
      "  fds, img_hog = hog(\n",
      "/tmp/ipykernel_62901/1983484597.py:49: FutureWarning: `multichannel` is a deprecated argument name for `hog`. It will be removed in version 1.0. Please use `channel_axis` instead.\n",
      "  fds, img_hog = hog(\n"
     ]
    },
    {
     "name": "stdout",
     "output_type": "stream",
     "text": [
      "Detection:: Location -> (400, 580)\n",
      "Scale ->  0 | Confidence Score 0.7694118729075141 \n",
      "\n",
      "Detection:: Location -> (420, 580)\n",
      "Scale ->  0 | Confidence Score 0.789602671398036 \n",
      "\n"
     ]
    },
    {
     "name": "stderr",
     "output_type": "stream",
     "text": [
      "/tmp/ipykernel_62901/1983484597.py:49: FutureWarning: `multichannel` is a deprecated argument name for `hog`. It will be removed in version 1.0. Please use `channel_axis` instead.\n",
      "  fds, img_hog = hog(\n",
      "/tmp/ipykernel_62901/1983484597.py:49: FutureWarning: `multichannel` is a deprecated argument name for `hog`. It will be removed in version 1.0. Please use `channel_axis` instead.\n",
      "  fds, img_hog = hog(\n"
     ]
    },
    {
     "name": "stdout",
     "output_type": "stream",
     "text": [
      "Detection:: Location -> (440, 580)\n",
      "Scale ->  0 | Confidence Score 0.7750717551724234 \n",
      "\n",
      "Detection:: Location -> (460, 580)\n",
      "Scale ->  0 | Confidence Score 0.8001344135590117 \n",
      "\n"
     ]
    },
    {
     "name": "stderr",
     "output_type": "stream",
     "text": [
      "/tmp/ipykernel_62901/1983484597.py:49: FutureWarning: `multichannel` is a deprecated argument name for `hog`. It will be removed in version 1.0. Please use `channel_axis` instead.\n",
      "  fds, img_hog = hog(\n",
      "/tmp/ipykernel_62901/1983484597.py:49: FutureWarning: `multichannel` is a deprecated argument name for `hog`. It will be removed in version 1.0. Please use `channel_axis` instead.\n",
      "  fds, img_hog = hog(\n"
     ]
    },
    {
     "name": "stdout",
     "output_type": "stream",
     "text": [
      "Detection:: Location -> (480, 580)\n",
      "Scale ->  0 | Confidence Score 0.788562674004692 \n",
      "\n",
      "Detection:: Location -> (500, 580)\n",
      "Scale ->  0 | Confidence Score 0.7790474294569051 \n",
      "\n"
     ]
    },
    {
     "name": "stderr",
     "output_type": "stream",
     "text": [
      "/tmp/ipykernel_62901/1983484597.py:49: FutureWarning: `multichannel` is a deprecated argument name for `hog`. It will be removed in version 1.0. Please use `channel_axis` instead.\n",
      "  fds, img_hog = hog(\n",
      "/tmp/ipykernel_62901/1983484597.py:49: FutureWarning: `multichannel` is a deprecated argument name for `hog`. It will be removed in version 1.0. Please use `channel_axis` instead.\n",
      "  fds, img_hog = hog(\n"
     ]
    },
    {
     "name": "stdout",
     "output_type": "stream",
     "text": [
      "Detection:: Location -> (520, 580)\n",
      "Scale ->  0 | Confidence Score 0.7796779828432543 \n",
      "\n",
      "Detection:: Location -> (540, 580)\n",
      "Scale ->  0 | Confidence Score 0.7615142406049846 \n",
      "\n"
     ]
    },
    {
     "name": "stderr",
     "output_type": "stream",
     "text": [
      "/tmp/ipykernel_62901/1983484597.py:49: FutureWarning: `multichannel` is a deprecated argument name for `hog`. It will be removed in version 1.0. Please use `channel_axis` instead.\n",
      "  fds, img_hog = hog(\n",
      "/tmp/ipykernel_62901/1983484597.py:49: FutureWarning: `multichannel` is a deprecated argument name for `hog`. It will be removed in version 1.0. Please use `channel_axis` instead.\n",
      "  fds, img_hog = hog(\n"
     ]
    },
    {
     "name": "stdout",
     "output_type": "stream",
     "text": [
      "Detection:: Location -> (560, 580)\n",
      "Scale ->  0 | Confidence Score 0.8194198892544844 \n",
      "\n",
      "Detection:: Location -> (580, 580)\n",
      "Scale ->  0 | Confidence Score 0.788123000162559 \n",
      "\n"
     ]
    },
    {
     "name": "stderr",
     "output_type": "stream",
     "text": [
      "/tmp/ipykernel_62901/1983484597.py:49: FutureWarning: `multichannel` is a deprecated argument name for `hog`. It will be removed in version 1.0. Please use `channel_axis` instead.\n",
      "  fds, img_hog = hog(\n",
      "/tmp/ipykernel_62901/1983484597.py:49: FutureWarning: `multichannel` is a deprecated argument name for `hog`. It will be removed in version 1.0. Please use `channel_axis` instead.\n",
      "  fds, img_hog = hog(\n"
     ]
    },
    {
     "name": "stdout",
     "output_type": "stream",
     "text": [
      "Detection:: Location -> (600, 580)\n",
      "Scale ->  0 | Confidence Score 0.786824007293456 \n",
      "\n",
      "Detection:: Location -> (620, 580)\n",
      "Scale ->  0 | Confidence Score 0.8146996072444532 \n",
      "\n"
     ]
    },
    {
     "name": "stderr",
     "output_type": "stream",
     "text": [
      "/tmp/ipykernel_62901/1983484597.py:49: FutureWarning: `multichannel` is a deprecated argument name for `hog`. It will be removed in version 1.0. Please use `channel_axis` instead.\n",
      "  fds, img_hog = hog(\n",
      "/tmp/ipykernel_62901/1983484597.py:49: FutureWarning: `multichannel` is a deprecated argument name for `hog`. It will be removed in version 1.0. Please use `channel_axis` instead.\n",
      "  fds, img_hog = hog(\n"
     ]
    },
    {
     "name": "stdout",
     "output_type": "stream",
     "text": [
      "Detection:: Location -> (640, 580)\n",
      "Scale ->  0 | Confidence Score 0.7554524615400078 \n",
      "\n",
      "Detection:: Location -> (660, 580)\n",
      "Scale ->  0 | Confidence Score 0.7778503431507491 \n",
      "\n"
     ]
    },
    {
     "name": "stderr",
     "output_type": "stream",
     "text": [
      "/tmp/ipykernel_62901/1983484597.py:49: FutureWarning: `multichannel` is a deprecated argument name for `hog`. It will be removed in version 1.0. Please use `channel_axis` instead.\n",
      "  fds, img_hog = hog(\n",
      "/tmp/ipykernel_62901/1983484597.py:49: FutureWarning: `multichannel` is a deprecated argument name for `hog`. It will be removed in version 1.0. Please use `channel_axis` instead.\n",
      "  fds, img_hog = hog(\n"
     ]
    },
    {
     "name": "stdout",
     "output_type": "stream",
     "text": [
      "Detection:: Location -> (680, 580)\n",
      "Scale ->  0 | Confidence Score 0.7925509201481992 \n",
      "\n",
      "Detection:: Location -> (700, 580)\n",
      "Scale ->  0 | Confidence Score 0.7629026325673445 \n",
      "\n"
     ]
    },
    {
     "name": "stderr",
     "output_type": "stream",
     "text": [
      "/tmp/ipykernel_62901/1983484597.py:49: FutureWarning: `multichannel` is a deprecated argument name for `hog`. It will be removed in version 1.0. Please use `channel_axis` instead.\n",
      "  fds, img_hog = hog(\n",
      "/tmp/ipykernel_62901/1983484597.py:49: FutureWarning: `multichannel` is a deprecated argument name for `hog`. It will be removed in version 1.0. Please use `channel_axis` instead.\n",
      "  fds, img_hog = hog(\n"
     ]
    },
    {
     "name": "stdout",
     "output_type": "stream",
     "text": [
      "Detection:: Location -> (720, 580)\n",
      "Scale ->  0 | Confidence Score 0.7686562741599654 \n",
      "\n",
      "Detection:: Location -> (740, 580)\n",
      "Scale ->  0 | Confidence Score 0.7549490904647784 \n",
      "\n"
     ]
    },
    {
     "name": "stderr",
     "output_type": "stream",
     "text": [
      "/tmp/ipykernel_62901/1983484597.py:49: FutureWarning: `multichannel` is a deprecated argument name for `hog`. It will be removed in version 1.0. Please use `channel_axis` instead.\n",
      "  fds, img_hog = hog(\n",
      "/tmp/ipykernel_62901/1983484597.py:49: FutureWarning: `multichannel` is a deprecated argument name for `hog`. It will be removed in version 1.0. Please use `channel_axis` instead.\n",
      "  fds, img_hog = hog(\n"
     ]
    },
    {
     "name": "stdout",
     "output_type": "stream",
     "text": [
      "Detection:: Location -> (760, 580)\n",
      "Scale ->  0 | Confidence Score 0.704728018778575 \n",
      "\n",
      "Detection:: Location -> (780, 580)\n",
      "Scale ->  0 | Confidence Score 0.744906048151771 \n",
      "\n"
     ]
    },
    {
     "name": "stderr",
     "output_type": "stream",
     "text": [
      "/tmp/ipykernel_62901/1983484597.py:49: FutureWarning: `multichannel` is a deprecated argument name for `hog`. It will be removed in version 1.0. Please use `channel_axis` instead.\n",
      "  fds, img_hog = hog(\n",
      "/tmp/ipykernel_62901/1983484597.py:49: FutureWarning: `multichannel` is a deprecated argument name for `hog`. It will be removed in version 1.0. Please use `channel_axis` instead.\n",
      "  fds, img_hog = hog(\n"
     ]
    },
    {
     "name": "stdout",
     "output_type": "stream",
     "text": [
      "Detection:: Location -> (800, 580)\n",
      "Scale ->  0 | Confidence Score 0.7559194200773537 \n",
      "\n",
      "Detection:: Location -> (820, 580)\n",
      "Scale ->  0 | Confidence Score 0.6945947484963441 \n",
      "\n"
     ]
    },
    {
     "name": "stderr",
     "output_type": "stream",
     "text": [
      "/tmp/ipykernel_62901/1983484597.py:49: FutureWarning: `multichannel` is a deprecated argument name for `hog`. It will be removed in version 1.0. Please use `channel_axis` instead.\n",
      "  fds, img_hog = hog(\n",
      "/tmp/ipykernel_62901/1983484597.py:49: FutureWarning: `multichannel` is a deprecated argument name for `hog`. It will be removed in version 1.0. Please use `channel_axis` instead.\n",
      "  fds, img_hog = hog(\n"
     ]
    },
    {
     "name": "stdout",
     "output_type": "stream",
     "text": [
      "Detection:: Location -> (840, 580)\n",
      "Scale ->  0 | Confidence Score 0.716853444667553 \n",
      "\n",
      "Detection:: Location -> (860, 580)\n",
      "Scale ->  0 | Confidence Score 0.6460005710202262 \n",
      "\n"
     ]
    },
    {
     "name": "stderr",
     "output_type": "stream",
     "text": [
      "/tmp/ipykernel_62901/1983484597.py:49: FutureWarning: `multichannel` is a deprecated argument name for `hog`. It will be removed in version 1.0. Please use `channel_axis` instead.\n",
      "  fds, img_hog = hog(\n",
      "/tmp/ipykernel_62901/1983484597.py:49: FutureWarning: `multichannel` is a deprecated argument name for `hog`. It will be removed in version 1.0. Please use `channel_axis` instead.\n",
      "  fds, img_hog = hog(\n"
     ]
    },
    {
     "name": "stdout",
     "output_type": "stream",
     "text": [
      "Detection:: Location -> (880, 580)\n",
      "Scale ->  0 | Confidence Score 0.6118548616478636 \n",
      "\n",
      "Detection:: Location -> (900, 580)\n",
      "Scale ->  0 | Confidence Score 0.6189126049432108 \n",
      "\n"
     ]
    },
    {
     "name": "stderr",
     "output_type": "stream",
     "text": [
      "/tmp/ipykernel_62901/1983484597.py:49: FutureWarning: `multichannel` is a deprecated argument name for `hog`. It will be removed in version 1.0. Please use `channel_axis` instead.\n",
      "  fds, img_hog = hog(\n",
      "/tmp/ipykernel_62901/1983484597.py:49: FutureWarning: `multichannel` is a deprecated argument name for `hog`. It will be removed in version 1.0. Please use `channel_axis` instead.\n",
      "  fds, img_hog = hog(\n",
      "/tmp/ipykernel_62901/1983484597.py:49: FutureWarning: `multichannel` is a deprecated argument name for `hog`. It will be removed in version 1.0. Please use `channel_axis` instead.\n",
      "  fds, img_hog = hog(\n",
      "/tmp/ipykernel_62901/1983484597.py:49: FutureWarning: `multichannel` is a deprecated argument name for `hog`. It will be removed in version 1.0. Please use `channel_axis` instead.\n",
      "  fds, img_hog = hog(\n",
      "/tmp/ipykernel_62901/1983484597.py:49: FutureWarning: `multichannel` is a deprecated argument name for `hog`. It will be removed in version 1.0. Please use `channel_axis` instead.\n",
      "  fds, img_hog = hog(\n",
      "/tmp/ipykernel_62901/1983484597.py:49: FutureWarning: `multichannel` is a deprecated argument name for `hog`. It will be removed in version 1.0. Please use `channel_axis` instead.\n",
      "  fds, img_hog = hog(\n"
     ]
    },
    {
     "name": "stdout",
     "output_type": "stream",
     "text": [
      "Detection:: Location -> (40, 600)\n",
      "Scale ->  0 | Confidence Score 0.6343751070001297 \n",
      "\n",
      "Detection:: Location -> (60, 600)\n",
      "Scale ->  0 | Confidence Score 0.7803238642515614 \n",
      "\n"
     ]
    },
    {
     "name": "stderr",
     "output_type": "stream",
     "text": [
      "/tmp/ipykernel_62901/1983484597.py:49: FutureWarning: `multichannel` is a deprecated argument name for `hog`. It will be removed in version 1.0. Please use `channel_axis` instead.\n",
      "  fds, img_hog = hog(\n",
      "/tmp/ipykernel_62901/1983484597.py:49: FutureWarning: `multichannel` is a deprecated argument name for `hog`. It will be removed in version 1.0. Please use `channel_axis` instead.\n",
      "  fds, img_hog = hog(\n"
     ]
    },
    {
     "name": "stdout",
     "output_type": "stream",
     "text": [
      "Detection:: Location -> (80, 600)\n",
      "Scale ->  0 | Confidence Score 0.8116772275651047 \n",
      "\n",
      "Detection:: Location -> (100, 600)\n",
      "Scale ->  0 | Confidence Score 0.8209471271606339 \n",
      "\n"
     ]
    },
    {
     "name": "stderr",
     "output_type": "stream",
     "text": [
      "/tmp/ipykernel_62901/1983484597.py:49: FutureWarning: `multichannel` is a deprecated argument name for `hog`. It will be removed in version 1.0. Please use `channel_axis` instead.\n",
      "  fds, img_hog = hog(\n",
      "/tmp/ipykernel_62901/1983484597.py:49: FutureWarning: `multichannel` is a deprecated argument name for `hog`. It will be removed in version 1.0. Please use `channel_axis` instead.\n",
      "  fds, img_hog = hog(\n"
     ]
    },
    {
     "name": "stdout",
     "output_type": "stream",
     "text": [
      "Detection:: Location -> (120, 600)\n",
      "Scale ->  0 | Confidence Score 0.7825029316539613 \n",
      "\n",
      "Detection:: Location -> (140, 600)\n",
      "Scale ->  0 | Confidence Score 0.7732193669228979 \n",
      "\n"
     ]
    },
    {
     "name": "stderr",
     "output_type": "stream",
     "text": [
      "/tmp/ipykernel_62901/1983484597.py:49: FutureWarning: `multichannel` is a deprecated argument name for `hog`. It will be removed in version 1.0. Please use `channel_axis` instead.\n",
      "  fds, img_hog = hog(\n",
      "/tmp/ipykernel_62901/1983484597.py:49: FutureWarning: `multichannel` is a deprecated argument name for `hog`. It will be removed in version 1.0. Please use `channel_axis` instead.\n",
      "  fds, img_hog = hog(\n"
     ]
    },
    {
     "name": "stdout",
     "output_type": "stream",
     "text": [
      "Detection:: Location -> (160, 600)\n",
      "Scale ->  0 | Confidence Score 0.7315092093814326 \n",
      "\n",
      "Detection:: Location -> (180, 600)\n",
      "Scale ->  0 | Confidence Score 0.7563524343174244 \n",
      "\n"
     ]
    },
    {
     "name": "stderr",
     "output_type": "stream",
     "text": [
      "/tmp/ipykernel_62901/1983484597.py:49: FutureWarning: `multichannel` is a deprecated argument name for `hog`. It will be removed in version 1.0. Please use `channel_axis` instead.\n",
      "  fds, img_hog = hog(\n",
      "/tmp/ipykernel_62901/1983484597.py:49: FutureWarning: `multichannel` is a deprecated argument name for `hog`. It will be removed in version 1.0. Please use `channel_axis` instead.\n",
      "  fds, img_hog = hog(\n"
     ]
    },
    {
     "name": "stdout",
     "output_type": "stream",
     "text": [
      "Detection:: Location -> (200, 600)\n",
      "Scale ->  0 | Confidence Score 0.7604120719759603 \n",
      "\n",
      "Detection:: Location -> (220, 600)\n",
      "Scale ->  0 | Confidence Score 0.7567381479853172 \n",
      "\n",
      "Detection:: Location -> (240, 600)\n",
      "Scale ->  0 | Confidence Score 0.7975592508103843 \n",
      "\n"
     ]
    },
    {
     "name": "stderr",
     "output_type": "stream",
     "text": [
      "/tmp/ipykernel_62901/1983484597.py:49: FutureWarning: `multichannel` is a deprecated argument name for `hog`. It will be removed in version 1.0. Please use `channel_axis` instead.\n",
      "  fds, img_hog = hog(\n",
      "/tmp/ipykernel_62901/1983484597.py:49: FutureWarning: `multichannel` is a deprecated argument name for `hog`. It will be removed in version 1.0. Please use `channel_axis` instead.\n",
      "  fds, img_hog = hog(\n"
     ]
    },
    {
     "name": "stdout",
     "output_type": "stream",
     "text": [
      "Detection:: Location -> (260, 600)\n",
      "Scale ->  0 | Confidence Score 0.8132852957796776 \n",
      "\n",
      "Detection:: Location -> (280, 600)\n",
      "Scale ->  0 | Confidence Score 0.7445625215774688 \n",
      "\n"
     ]
    },
    {
     "name": "stderr",
     "output_type": "stream",
     "text": [
      "/tmp/ipykernel_62901/1983484597.py:49: FutureWarning: `multichannel` is a deprecated argument name for `hog`. It will be removed in version 1.0. Please use `channel_axis` instead.\n",
      "  fds, img_hog = hog(\n",
      "/tmp/ipykernel_62901/1983484597.py:49: FutureWarning: `multichannel` is a deprecated argument name for `hog`. It will be removed in version 1.0. Please use `channel_axis` instead.\n",
      "  fds, img_hog = hog(\n"
     ]
    },
    {
     "name": "stdout",
     "output_type": "stream",
     "text": [
      "Detection:: Location -> (300, 600)\n",
      "Scale ->  0 | Confidence Score 0.7359818444994856 \n",
      "\n",
      "Detection:: Location -> (320, 600)\n",
      "Scale ->  0 | Confidence Score 0.7510711708339151 \n",
      "\n"
     ]
    },
    {
     "name": "stderr",
     "output_type": "stream",
     "text": [
      "/tmp/ipykernel_62901/1983484597.py:49: FutureWarning: `multichannel` is a deprecated argument name for `hog`. It will be removed in version 1.0. Please use `channel_axis` instead.\n",
      "  fds, img_hog = hog(\n",
      "/tmp/ipykernel_62901/1983484597.py:49: FutureWarning: `multichannel` is a deprecated argument name for `hog`. It will be removed in version 1.0. Please use `channel_axis` instead.\n",
      "  fds, img_hog = hog(\n"
     ]
    },
    {
     "name": "stdout",
     "output_type": "stream",
     "text": [
      "Detection:: Location -> (340, 600)\n",
      "Scale ->  0 | Confidence Score 0.7114407859264678 \n",
      "\n",
      "Detection:: Location -> (360, 600)\n",
      "Scale ->  0 | Confidence Score 0.636762833880763 \n",
      "\n"
     ]
    },
    {
     "name": "stderr",
     "output_type": "stream",
     "text": [
      "/tmp/ipykernel_62901/1983484597.py:49: FutureWarning: `multichannel` is a deprecated argument name for `hog`. It will be removed in version 1.0. Please use `channel_axis` instead.\n",
      "  fds, img_hog = hog(\n",
      "/tmp/ipykernel_62901/1983484597.py:49: FutureWarning: `multichannel` is a deprecated argument name for `hog`. It will be removed in version 1.0. Please use `channel_axis` instead.\n",
      "  fds, img_hog = hog(\n"
     ]
    },
    {
     "name": "stdout",
     "output_type": "stream",
     "text": [
      "Detection:: Location -> (380, 600)\n",
      "Scale ->  0 | Confidence Score 0.7484378239427588 \n",
      "\n",
      "Detection:: Location -> (400, 600)\n",
      "Scale ->  0 | Confidence Score 0.7554569249010292 \n",
      "\n"
     ]
    },
    {
     "name": "stderr",
     "output_type": "stream",
     "text": [
      "/tmp/ipykernel_62901/1983484597.py:49: FutureWarning: `multichannel` is a deprecated argument name for `hog`. It will be removed in version 1.0. Please use `channel_axis` instead.\n",
      "  fds, img_hog = hog(\n",
      "/tmp/ipykernel_62901/1983484597.py:49: FutureWarning: `multichannel` is a deprecated argument name for `hog`. It will be removed in version 1.0. Please use `channel_axis` instead.\n",
      "  fds, img_hog = hog(\n"
     ]
    },
    {
     "name": "stdout",
     "output_type": "stream",
     "text": [
      "Detection:: Location -> (420, 600)\n",
      "Scale ->  0 | Confidence Score 0.8085198697470776 \n",
      "\n",
      "Detection:: Location -> (440, 600)\n",
      "Scale ->  0 | Confidence Score 0.7501323582704797 \n",
      "\n"
     ]
    },
    {
     "name": "stderr",
     "output_type": "stream",
     "text": [
      "/tmp/ipykernel_62901/1983484597.py:49: FutureWarning: `multichannel` is a deprecated argument name for `hog`. It will be removed in version 1.0. Please use `channel_axis` instead.\n",
      "  fds, img_hog = hog(\n",
      "/tmp/ipykernel_62901/1983484597.py:49: FutureWarning: `multichannel` is a deprecated argument name for `hog`. It will be removed in version 1.0. Please use `channel_axis` instead.\n",
      "  fds, img_hog = hog(\n"
     ]
    },
    {
     "name": "stdout",
     "output_type": "stream",
     "text": [
      "Detection:: Location -> (460, 600)\n",
      "Scale ->  0 | Confidence Score 0.7300134262298096 \n",
      "\n",
      "Detection:: Location -> (480, 600)\n",
      "Scale ->  0 | Confidence Score 0.6939347474647091 \n",
      "\n"
     ]
    },
    {
     "name": "stderr",
     "output_type": "stream",
     "text": [
      "/tmp/ipykernel_62901/1983484597.py:49: FutureWarning: `multichannel` is a deprecated argument name for `hog`. It will be removed in version 1.0. Please use `channel_axis` instead.\n",
      "  fds, img_hog = hog(\n",
      "/tmp/ipykernel_62901/1983484597.py:49: FutureWarning: `multichannel` is a deprecated argument name for `hog`. It will be removed in version 1.0. Please use `channel_axis` instead.\n",
      "  fds, img_hog = hog(\n"
     ]
    },
    {
     "name": "stdout",
     "output_type": "stream",
     "text": [
      "Detection:: Location -> (500, 600)\n",
      "Scale ->  0 | Confidence Score 0.7662364094488917 \n",
      "\n",
      "Detection:: Location -> (520, 600)\n",
      "Scale ->  0 | Confidence Score 0.7498341761336158 \n",
      "\n"
     ]
    },
    {
     "name": "stderr",
     "output_type": "stream",
     "text": [
      "/tmp/ipykernel_62901/1983484597.py:49: FutureWarning: `multichannel` is a deprecated argument name for `hog`. It will be removed in version 1.0. Please use `channel_axis` instead.\n",
      "  fds, img_hog = hog(\n",
      "/tmp/ipykernel_62901/1983484597.py:49: FutureWarning: `multichannel` is a deprecated argument name for `hog`. It will be removed in version 1.0. Please use `channel_axis` instead.\n",
      "  fds, img_hog = hog(\n"
     ]
    },
    {
     "name": "stdout",
     "output_type": "stream",
     "text": [
      "Detection:: Location -> (540, 600)\n",
      "Scale ->  0 | Confidence Score 0.7828712009698129 \n",
      "\n"
     ]
    },
    {
     "name": "stderr",
     "output_type": "stream",
     "text": [
      "/tmp/ipykernel_62901/1983484597.py:49: FutureWarning: `multichannel` is a deprecated argument name for `hog`. It will be removed in version 1.0. Please use `channel_axis` instead.\n",
      "  fds, img_hog = hog(\n"
     ]
    },
    {
     "name": "stdout",
     "output_type": "stream",
     "text": [
      "Detection:: Location -> (560, 600)\n",
      "Scale ->  0 | Confidence Score 0.7395662730569507 \n",
      "\n",
      "Detection:: Location -> (580, 600)\n",
      "Scale ->  0 | Confidence Score 0.7543961656133228 \n",
      "\n"
     ]
    },
    {
     "name": "stderr",
     "output_type": "stream",
     "text": [
      "/tmp/ipykernel_62901/1983484597.py:49: FutureWarning: `multichannel` is a deprecated argument name for `hog`. It will be removed in version 1.0. Please use `channel_axis` instead.\n",
      "  fds, img_hog = hog(\n",
      "/tmp/ipykernel_62901/1983484597.py:49: FutureWarning: `multichannel` is a deprecated argument name for `hog`. It will be removed in version 1.0. Please use `channel_axis` instead.\n",
      "  fds, img_hog = hog(\n"
     ]
    },
    {
     "name": "stdout",
     "output_type": "stream",
     "text": [
      "Detection:: Location -> (600, 600)\n",
      "Scale ->  0 | Confidence Score 0.7458149598253603 \n",
      "\n",
      "Detection:: Location -> (620, 600)\n",
      "Scale ->  0 | Confidence Score 0.7554987714324889 \n",
      "\n"
     ]
    },
    {
     "name": "stderr",
     "output_type": "stream",
     "text": [
      "/tmp/ipykernel_62901/1983484597.py:49: FutureWarning: `multichannel` is a deprecated argument name for `hog`. It will be removed in version 1.0. Please use `channel_axis` instead.\n",
      "  fds, img_hog = hog(\n",
      "/tmp/ipykernel_62901/1983484597.py:49: FutureWarning: `multichannel` is a deprecated argument name for `hog`. It will be removed in version 1.0. Please use `channel_axis` instead.\n",
      "  fds, img_hog = hog(\n"
     ]
    },
    {
     "name": "stdout",
     "output_type": "stream",
     "text": [
      "Detection:: Location -> (640, 600)\n",
      "Scale ->  0 | Confidence Score 0.6450424453076727 \n",
      "\n",
      "Detection:: Location -> (660, 600)\n",
      "Scale ->  0 | Confidence Score 0.7502021728291769 \n",
      "\n"
     ]
    },
    {
     "name": "stderr",
     "output_type": "stream",
     "text": [
      "/tmp/ipykernel_62901/1983484597.py:49: FutureWarning: `multichannel` is a deprecated argument name for `hog`. It will be removed in version 1.0. Please use `channel_axis` instead.\n",
      "  fds, img_hog = hog(\n",
      "/tmp/ipykernel_62901/1983484597.py:49: FutureWarning: `multichannel` is a deprecated argument name for `hog`. It will be removed in version 1.0. Please use `channel_axis` instead.\n",
      "  fds, img_hog = hog(\n"
     ]
    },
    {
     "name": "stdout",
     "output_type": "stream",
     "text": [
      "Detection:: Location -> (680, 600)\n",
      "Scale ->  0 | Confidence Score 0.7737011929552752 \n",
      "\n",
      "Detection:: Location -> (700, 600)\n",
      "Scale ->  0 | Confidence Score 0.7904164046100808 \n",
      "\n"
     ]
    },
    {
     "name": "stderr",
     "output_type": "stream",
     "text": [
      "/tmp/ipykernel_62901/1983484597.py:49: FutureWarning: `multichannel` is a deprecated argument name for `hog`. It will be removed in version 1.0. Please use `channel_axis` instead.\n",
      "  fds, img_hog = hog(\n",
      "/tmp/ipykernel_62901/1983484597.py:49: FutureWarning: `multichannel` is a deprecated argument name for `hog`. It will be removed in version 1.0. Please use `channel_axis` instead.\n",
      "  fds, img_hog = hog(\n"
     ]
    },
    {
     "name": "stdout",
     "output_type": "stream",
     "text": [
      "Detection:: Location -> (720, 600)\n",
      "Scale ->  0 | Confidence Score 0.7981663560895275 \n",
      "\n",
      "Detection:: Location -> (740, 600)\n",
      "Scale ->  0 | Confidence Score 0.7809328379758539 \n",
      "\n"
     ]
    },
    {
     "name": "stderr",
     "output_type": "stream",
     "text": [
      "/tmp/ipykernel_62901/1983484597.py:49: FutureWarning: `multichannel` is a deprecated argument name for `hog`. It will be removed in version 1.0. Please use `channel_axis` instead.\n",
      "  fds, img_hog = hog(\n",
      "/tmp/ipykernel_62901/1983484597.py:49: FutureWarning: `multichannel` is a deprecated argument name for `hog`. It will be removed in version 1.0. Please use `channel_axis` instead.\n",
      "  fds, img_hog = hog(\n"
     ]
    },
    {
     "name": "stdout",
     "output_type": "stream",
     "text": [
      "Detection:: Location -> (760, 600)\n",
      "Scale ->  0 | Confidence Score 0.7412269382607076 \n",
      "\n",
      "Detection:: Location -> (780, 600)\n",
      "Scale ->  0 | Confidence Score 0.7841669266449107 \n",
      "\n"
     ]
    },
    {
     "name": "stderr",
     "output_type": "stream",
     "text": [
      "/tmp/ipykernel_62901/1983484597.py:49: FutureWarning: `multichannel` is a deprecated argument name for `hog`. It will be removed in version 1.0. Please use `channel_axis` instead.\n",
      "  fds, img_hog = hog(\n",
      "/tmp/ipykernel_62901/1983484597.py:49: FutureWarning: `multichannel` is a deprecated argument name for `hog`. It will be removed in version 1.0. Please use `channel_axis` instead.\n",
      "  fds, img_hog = hog(\n"
     ]
    },
    {
     "name": "stdout",
     "output_type": "stream",
     "text": [
      "Detection:: Location -> (800, 600)\n",
      "Scale ->  0 | Confidence Score 0.7532390737620542 \n",
      "\n"
     ]
    },
    {
     "name": "stderr",
     "output_type": "stream",
     "text": [
      "/tmp/ipykernel_62901/1983484597.py:49: FutureWarning: `multichannel` is a deprecated argument name for `hog`. It will be removed in version 1.0. Please use `channel_axis` instead.\n",
      "  fds, img_hog = hog(\n"
     ]
    },
    {
     "name": "stdout",
     "output_type": "stream",
     "text": [
      "Detection:: Location -> (820, 600)\n",
      "Scale ->  0 | Confidence Score 0.7218603407896891 \n",
      "\n"
     ]
    },
    {
     "name": "stderr",
     "output_type": "stream",
     "text": [
      "/tmp/ipykernel_62901/1983484597.py:49: FutureWarning: `multichannel` is a deprecated argument name for `hog`. It will be removed in version 1.0. Please use `channel_axis` instead.\n",
      "  fds, img_hog = hog(\n"
     ]
    },
    {
     "name": "stdout",
     "output_type": "stream",
     "text": [
      "Detection:: Location -> (840, 600)\n",
      "Scale ->  0 | Confidence Score 0.729684544073421 \n",
      "\n"
     ]
    },
    {
     "name": "stderr",
     "output_type": "stream",
     "text": [
      "/tmp/ipykernel_62901/1983484597.py:49: FutureWarning: `multichannel` is a deprecated argument name for `hog`. It will be removed in version 1.0. Please use `channel_axis` instead.\n",
      "  fds, img_hog = hog(\n"
     ]
    },
    {
     "name": "stdout",
     "output_type": "stream",
     "text": [
      "Detection:: Location -> (860, 600)\n",
      "Scale ->  0 | Confidence Score 0.7133415640914412 \n",
      "\n",
      "Detection:: Location -> (880, 600)\n",
      "Scale ->  0 | Confidence Score 0.6404728183367719 \n",
      "\n"
     ]
    },
    {
     "name": "stderr",
     "output_type": "stream",
     "text": [
      "/tmp/ipykernel_62901/1983484597.py:49: FutureWarning: `multichannel` is a deprecated argument name for `hog`. It will be removed in version 1.0. Please use `channel_axis` instead.\n",
      "  fds, img_hog = hog(\n",
      "/tmp/ipykernel_62901/1983484597.py:49: FutureWarning: `multichannel` is a deprecated argument name for `hog`. It will be removed in version 1.0. Please use `channel_axis` instead.\n",
      "  fds, img_hog = hog(\n",
      "/tmp/ipykernel_62901/1983484597.py:49: FutureWarning: `multichannel` is a deprecated argument name for `hog`. It will be removed in version 1.0. Please use `channel_axis` instead.\n",
      "  fds, img_hog = hog(\n",
      "/tmp/ipykernel_62901/1983484597.py:49: FutureWarning: `multichannel` is a deprecated argument name for `hog`. It will be removed in version 1.0. Please use `channel_axis` instead.\n",
      "  fds, img_hog = hog(\n",
      "/tmp/ipykernel_62901/1983484597.py:49: FutureWarning: `multichannel` is a deprecated argument name for `hog`. It will be removed in version 1.0. Please use `channel_axis` instead.\n",
      "  fds, img_hog = hog(\n",
      "/tmp/ipykernel_62901/1983484597.py:49: FutureWarning: `multichannel` is a deprecated argument name for `hog`. It will be removed in version 1.0. Please use `channel_axis` instead.\n",
      "  fds, img_hog = hog(\n"
     ]
    },
    {
     "name": "stdout",
     "output_type": "stream",
     "text": [
      "Detection:: Location -> (20, 620)\n",
      "Scale ->  0 | Confidence Score 0.6260227620066559 \n",
      "\n"
     ]
    },
    {
     "name": "stderr",
     "output_type": "stream",
     "text": [
      "/tmp/ipykernel_62901/1983484597.py:49: FutureWarning: `multichannel` is a deprecated argument name for `hog`. It will be removed in version 1.0. Please use `channel_axis` instead.\n",
      "  fds, img_hog = hog(\n",
      "/tmp/ipykernel_62901/1983484597.py:49: FutureWarning: `multichannel` is a deprecated argument name for `hog`. It will be removed in version 1.0. Please use `channel_axis` instead.\n",
      "  fds, img_hog = hog(\n"
     ]
    },
    {
     "name": "stdout",
     "output_type": "stream",
     "text": [
      "Detection:: Location -> (60, 620)\n",
      "Scale ->  0 | Confidence Score 0.7355794363219827 \n",
      "\n",
      "Detection:: Location -> (80, 620)\n",
      "Scale ->  0 | Confidence Score 0.7683184164184658 \n",
      "\n"
     ]
    },
    {
     "name": "stderr",
     "output_type": "stream",
     "text": [
      "/tmp/ipykernel_62901/1983484597.py:49: FutureWarning: `multichannel` is a deprecated argument name for `hog`. It will be removed in version 1.0. Please use `channel_axis` instead.\n",
      "  fds, img_hog = hog(\n",
      "/tmp/ipykernel_62901/1983484597.py:49: FutureWarning: `multichannel` is a deprecated argument name for `hog`. It will be removed in version 1.0. Please use `channel_axis` instead.\n",
      "  fds, img_hog = hog(\n"
     ]
    },
    {
     "name": "stdout",
     "output_type": "stream",
     "text": [
      "Detection:: Location -> (100, 620)\n",
      "Scale ->  0 | Confidence Score 0.7853335558289416 \n",
      "\n",
      "Detection:: Location -> (120, 620)\n",
      "Scale ->  0 | Confidence Score 0.7502438650287956 \n",
      "\n"
     ]
    },
    {
     "name": "stderr",
     "output_type": "stream",
     "text": [
      "/tmp/ipykernel_62901/1983484597.py:49: FutureWarning: `multichannel` is a deprecated argument name for `hog`. It will be removed in version 1.0. Please use `channel_axis` instead.\n",
      "  fds, img_hog = hog(\n"
     ]
    },
    {
     "name": "stdout",
     "output_type": "stream",
     "text": [
      "Detection:: Location -> (140, 620)\n",
      "Scale ->  0 | Confidence Score 0.7106068467155374 \n",
      "\n"
     ]
    },
    {
     "name": "stderr",
     "output_type": "stream",
     "text": [
      "/tmp/ipykernel_62901/1983484597.py:49: FutureWarning: `multichannel` is a deprecated argument name for `hog`. It will be removed in version 1.0. Please use `channel_axis` instead.\n",
      "  fds, img_hog = hog(\n"
     ]
    },
    {
     "name": "stdout",
     "output_type": "stream",
     "text": [
      "Detection:: Location -> (160, 620)\n",
      "Scale ->  0 | Confidence Score 0.686799790196983 \n",
      "\n",
      "Detection:: Location -> (180, 620)\n",
      "Scale ->  0 | Confidence Score 0.7740539065998926 \n",
      "\n"
     ]
    },
    {
     "name": "stderr",
     "output_type": "stream",
     "text": [
      "/tmp/ipykernel_62901/1983484597.py:49: FutureWarning: `multichannel` is a deprecated argument name for `hog`. It will be removed in version 1.0. Please use `channel_axis` instead.\n",
      "  fds, img_hog = hog(\n",
      "/tmp/ipykernel_62901/1983484597.py:49: FutureWarning: `multichannel` is a deprecated argument name for `hog`. It will be removed in version 1.0. Please use `channel_axis` instead.\n",
      "  fds, img_hog = hog(\n"
     ]
    },
    {
     "name": "stdout",
     "output_type": "stream",
     "text": [
      "Detection:: Location -> (200, 620)\n",
      "Scale ->  0 | Confidence Score 0.7795763892523465 \n",
      "\n",
      "Detection:: Location -> (220, 620)\n",
      "Scale ->  0 | Confidence Score 0.7281991794488826 \n",
      "\n"
     ]
    },
    {
     "name": "stderr",
     "output_type": "stream",
     "text": [
      "/tmp/ipykernel_62901/1983484597.py:49: FutureWarning: `multichannel` is a deprecated argument name for `hog`. It will be removed in version 1.0. Please use `channel_axis` instead.\n",
      "  fds, img_hog = hog(\n",
      "/tmp/ipykernel_62901/1983484597.py:49: FutureWarning: `multichannel` is a deprecated argument name for `hog`. It will be removed in version 1.0. Please use `channel_axis` instead.\n",
      "  fds, img_hog = hog(\n"
     ]
    },
    {
     "name": "stdout",
     "output_type": "stream",
     "text": [
      "Detection:: Location -> (240, 620)\n",
      "Scale ->  0 | Confidence Score 0.7517573109829553 \n",
      "\n"
     ]
    },
    {
     "name": "stderr",
     "output_type": "stream",
     "text": [
      "/tmp/ipykernel_62901/1983484597.py:49: FutureWarning: `multichannel` is a deprecated argument name for `hog`. It will be removed in version 1.0. Please use `channel_axis` instead.\n",
      "  fds, img_hog = hog(\n"
     ]
    },
    {
     "name": "stdout",
     "output_type": "stream",
     "text": [
      "Detection:: Location -> (260, 620)\n",
      "Scale ->  0 | Confidence Score 0.7974896688695601 \n",
      "\n",
      "Detection:: Location -> (280, 620)\n",
      "Scale ->  0 | Confidence Score 0.7548132192518141 \n",
      "\n"
     ]
    },
    {
     "name": "stderr",
     "output_type": "stream",
     "text": [
      "/tmp/ipykernel_62901/1983484597.py:49: FutureWarning: `multichannel` is a deprecated argument name for `hog`. It will be removed in version 1.0. Please use `channel_axis` instead.\n",
      "  fds, img_hog = hog(\n",
      "/tmp/ipykernel_62901/1983484597.py:49: FutureWarning: `multichannel` is a deprecated argument name for `hog`. It will be removed in version 1.0. Please use `channel_axis` instead.\n",
      "  fds, img_hog = hog(\n"
     ]
    },
    {
     "name": "stdout",
     "output_type": "stream",
     "text": [
      "Detection:: Location -> (300, 620)\n",
      "Scale ->  0 | Confidence Score 0.6791651202934289 \n",
      "\n",
      "Detection:: Location -> (320, 620)\n",
      "Scale ->  0 | Confidence Score 0.6735156563753611 \n",
      "\n"
     ]
    },
    {
     "name": "stderr",
     "output_type": "stream",
     "text": [
      "/tmp/ipykernel_62901/1983484597.py:49: FutureWarning: `multichannel` is a deprecated argument name for `hog`. It will be removed in version 1.0. Please use `channel_axis` instead.\n",
      "  fds, img_hog = hog(\n",
      "/tmp/ipykernel_62901/1983484597.py:49: FutureWarning: `multichannel` is a deprecated argument name for `hog`. It will be removed in version 1.0. Please use `channel_axis` instead.\n",
      "  fds, img_hog = hog(\n"
     ]
    },
    {
     "name": "stdout",
     "output_type": "stream",
     "text": [
      "Detection:: Location -> (340, 620)\n",
      "Scale ->  0 | Confidence Score 0.7398853053712338 \n",
      "\n",
      "Detection:: Location -> (360, 620)\n",
      "Scale ->  0 | Confidence Score 0.7449981571326018 \n",
      "\n"
     ]
    },
    {
     "name": "stderr",
     "output_type": "stream",
     "text": [
      "/tmp/ipykernel_62901/1983484597.py:49: FutureWarning: `multichannel` is a deprecated argument name for `hog`. It will be removed in version 1.0. Please use `channel_axis` instead.\n",
      "  fds, img_hog = hog(\n",
      "/tmp/ipykernel_62901/1983484597.py:49: FutureWarning: `multichannel` is a deprecated argument name for `hog`. It will be removed in version 1.0. Please use `channel_axis` instead.\n",
      "  fds, img_hog = hog(\n"
     ]
    },
    {
     "name": "stdout",
     "output_type": "stream",
     "text": [
      "Detection:: Location -> (380, 620)\n",
      "Scale ->  0 | Confidence Score 0.7347814850596099 \n",
      "\n",
      "Detection:: Location -> (400, 620)\n",
      "Scale ->  0 | Confidence Score 0.7711254062922783 \n",
      "\n"
     ]
    },
    {
     "name": "stderr",
     "output_type": "stream",
     "text": [
      "/tmp/ipykernel_62901/1983484597.py:49: FutureWarning: `multichannel` is a deprecated argument name for `hog`. It will be removed in version 1.0. Please use `channel_axis` instead.\n",
      "  fds, img_hog = hog(\n",
      "/tmp/ipykernel_62901/1983484597.py:49: FutureWarning: `multichannel` is a deprecated argument name for `hog`. It will be removed in version 1.0. Please use `channel_axis` instead.\n",
      "  fds, img_hog = hog(\n"
     ]
    },
    {
     "name": "stdout",
     "output_type": "stream",
     "text": [
      "Detection:: Location -> (420, 620)\n",
      "Scale ->  0 | Confidence Score 0.745834843267702 \n",
      "\n",
      "Detection:: Location -> (440, 620)\n",
      "Scale ->  0 | Confidence Score 0.7784793577368766 \n",
      "\n"
     ]
    },
    {
     "name": "stderr",
     "output_type": "stream",
     "text": [
      "/tmp/ipykernel_62901/1983484597.py:49: FutureWarning: `multichannel` is a deprecated argument name for `hog`. It will be removed in version 1.0. Please use `channel_axis` instead.\n",
      "  fds, img_hog = hog(\n",
      "/tmp/ipykernel_62901/1983484597.py:49: FutureWarning: `multichannel` is a deprecated argument name for `hog`. It will be removed in version 1.0. Please use `channel_axis` instead.\n",
      "  fds, img_hog = hog(\n"
     ]
    },
    {
     "name": "stdout",
     "output_type": "stream",
     "text": [
      "Detection:: Location -> (460, 620)\n",
      "Scale ->  0 | Confidence Score 0.7302514984362485 \n",
      "\n",
      "Detection:: Location -> (480, 620)\n",
      "Scale ->  0 | Confidence Score 0.7368423527935918 \n",
      "\n"
     ]
    },
    {
     "name": "stderr",
     "output_type": "stream",
     "text": [
      "/tmp/ipykernel_62901/1983484597.py:49: FutureWarning: `multichannel` is a deprecated argument name for `hog`. It will be removed in version 1.0. Please use `channel_axis` instead.\n",
      "  fds, img_hog = hog(\n",
      "/tmp/ipykernel_62901/1983484597.py:49: FutureWarning: `multichannel` is a deprecated argument name for `hog`. It will be removed in version 1.0. Please use `channel_axis` instead.\n",
      "  fds, img_hog = hog(\n"
     ]
    },
    {
     "name": "stdout",
     "output_type": "stream",
     "text": [
      "Detection:: Location -> (500, 620)\n",
      "Scale ->  0 | Confidence Score 0.7089408497658585 \n",
      "\n",
      "Detection:: Location -> (520, 620)\n",
      "Scale ->  0 | Confidence Score 0.7379567310060072 \n",
      "\n"
     ]
    },
    {
     "name": "stderr",
     "output_type": "stream",
     "text": [
      "/tmp/ipykernel_62901/1983484597.py:49: FutureWarning: `multichannel` is a deprecated argument name for `hog`. It will be removed in version 1.0. Please use `channel_axis` instead.\n",
      "  fds, img_hog = hog(\n",
      "/tmp/ipykernel_62901/1983484597.py:49: FutureWarning: `multichannel` is a deprecated argument name for `hog`. It will be removed in version 1.0. Please use `channel_axis` instead.\n",
      "  fds, img_hog = hog(\n"
     ]
    },
    {
     "name": "stdout",
     "output_type": "stream",
     "text": [
      "Detection:: Location -> (540, 620)\n",
      "Scale ->  0 | Confidence Score 0.7302675943320656 \n",
      "\n",
      "Detection:: Location -> (560, 620)\n",
      "Scale ->  0 | Confidence Score 0.7182447460963516 \n",
      "\n"
     ]
    },
    {
     "name": "stderr",
     "output_type": "stream",
     "text": [
      "/tmp/ipykernel_62901/1983484597.py:49: FutureWarning: `multichannel` is a deprecated argument name for `hog`. It will be removed in version 1.0. Please use `channel_axis` instead.\n",
      "  fds, img_hog = hog(\n",
      "/tmp/ipykernel_62901/1983484597.py:49: FutureWarning: `multichannel` is a deprecated argument name for `hog`. It will be removed in version 1.0. Please use `channel_axis` instead.\n",
      "  fds, img_hog = hog(\n"
     ]
    },
    {
     "name": "stdout",
     "output_type": "stream",
     "text": [
      "Detection:: Location -> (580, 620)\n",
      "Scale ->  0 | Confidence Score 0.7522391362680512 \n",
      "\n",
      "Detection:: Location -> (600, 620)\n",
      "Scale ->  0 | Confidence Score 0.7180820386011632 \n",
      "\n"
     ]
    },
    {
     "name": "stderr",
     "output_type": "stream",
     "text": [
      "/tmp/ipykernel_62901/1983484597.py:49: FutureWarning: `multichannel` is a deprecated argument name for `hog`. It will be removed in version 1.0. Please use `channel_axis` instead.\n",
      "  fds, img_hog = hog(\n",
      "/tmp/ipykernel_62901/1983484597.py:49: FutureWarning: `multichannel` is a deprecated argument name for `hog`. It will be removed in version 1.0. Please use `channel_axis` instead.\n",
      "  fds, img_hog = hog(\n"
     ]
    },
    {
     "name": "stdout",
     "output_type": "stream",
     "text": [
      "Detection:: Location -> (620, 620)\n",
      "Scale ->  0 | Confidence Score 0.7433432168977263 \n",
      "\n",
      "Detection:: Location -> (640, 620)\n",
      "Scale ->  0 | Confidence Score 0.7627992692507684 \n",
      "\n"
     ]
    },
    {
     "name": "stderr",
     "output_type": "stream",
     "text": [
      "/tmp/ipykernel_62901/1983484597.py:49: FutureWarning: `multichannel` is a deprecated argument name for `hog`. It will be removed in version 1.0. Please use `channel_axis` instead.\n",
      "  fds, img_hog = hog(\n",
      "/tmp/ipykernel_62901/1983484597.py:49: FutureWarning: `multichannel` is a deprecated argument name for `hog`. It will be removed in version 1.0. Please use `channel_axis` instead.\n",
      "  fds, img_hog = hog(\n"
     ]
    },
    {
     "name": "stdout",
     "output_type": "stream",
     "text": [
      "Detection:: Location -> (660, 620)\n",
      "Scale ->  0 | Confidence Score 0.7642977430343516 \n",
      "\n",
      "Detection:: Location -> (680, 620)\n",
      "Scale ->  0 | Confidence Score 0.7613742345466367 \n",
      "\n"
     ]
    },
    {
     "name": "stderr",
     "output_type": "stream",
     "text": [
      "/tmp/ipykernel_62901/1983484597.py:49: FutureWarning: `multichannel` is a deprecated argument name for `hog`. It will be removed in version 1.0. Please use `channel_axis` instead.\n",
      "  fds, img_hog = hog(\n",
      "/tmp/ipykernel_62901/1983484597.py:49: FutureWarning: `multichannel` is a deprecated argument name for `hog`. It will be removed in version 1.0. Please use `channel_axis` instead.\n",
      "  fds, img_hog = hog(\n"
     ]
    },
    {
     "name": "stdout",
     "output_type": "stream",
     "text": [
      "Detection:: Location -> (700, 620)\n",
      "Scale ->  0 | Confidence Score 0.7603851507728319 \n",
      "\n",
      "Detection:: Location -> (720, 620)\n",
      "Scale ->  0 | Confidence Score 0.7058548448386451 \n",
      "\n"
     ]
    },
    {
     "name": "stderr",
     "output_type": "stream",
     "text": [
      "/tmp/ipykernel_62901/1983484597.py:49: FutureWarning: `multichannel` is a deprecated argument name for `hog`. It will be removed in version 1.0. Please use `channel_axis` instead.\n",
      "  fds, img_hog = hog(\n",
      "/tmp/ipykernel_62901/1983484597.py:49: FutureWarning: `multichannel` is a deprecated argument name for `hog`. It will be removed in version 1.0. Please use `channel_axis` instead.\n",
      "  fds, img_hog = hog(\n"
     ]
    },
    {
     "name": "stdout",
     "output_type": "stream",
     "text": [
      "Detection:: Location -> (740, 620)\n",
      "Scale ->  0 | Confidence Score 0.7397029532301364 \n",
      "\n",
      "Detection:: Location -> (760, 620)\n",
      "Scale ->  0 | Confidence Score 0.6504890667239858 \n",
      "\n"
     ]
    },
    {
     "name": "stderr",
     "output_type": "stream",
     "text": [
      "/tmp/ipykernel_62901/1983484597.py:49: FutureWarning: `multichannel` is a deprecated argument name for `hog`. It will be removed in version 1.0. Please use `channel_axis` instead.\n",
      "  fds, img_hog = hog(\n",
      "/tmp/ipykernel_62901/1983484597.py:49: FutureWarning: `multichannel` is a deprecated argument name for `hog`. It will be removed in version 1.0. Please use `channel_axis` instead.\n",
      "  fds, img_hog = hog(\n"
     ]
    },
    {
     "name": "stdout",
     "output_type": "stream",
     "text": [
      "Detection:: Location -> (780, 620)\n",
      "Scale ->  0 | Confidence Score 0.6797488574867069 \n",
      "\n",
      "Detection:: Location -> (800, 620)\n",
      "Scale ->  0 | Confidence Score 0.7555383038654175 \n",
      "\n"
     ]
    },
    {
     "name": "stderr",
     "output_type": "stream",
     "text": [
      "/tmp/ipykernel_62901/1983484597.py:49: FutureWarning: `multichannel` is a deprecated argument name for `hog`. It will be removed in version 1.0. Please use `channel_axis` instead.\n",
      "  fds, img_hog = hog(\n",
      "/tmp/ipykernel_62901/1983484597.py:49: FutureWarning: `multichannel` is a deprecated argument name for `hog`. It will be removed in version 1.0. Please use `channel_axis` instead.\n",
      "  fds, img_hog = hog(\n"
     ]
    },
    {
     "name": "stdout",
     "output_type": "stream",
     "text": [
      "Detection:: Location -> (820, 620)\n",
      "Scale ->  0 | Confidence Score 0.7350958279072919 \n",
      "\n",
      "Detection:: Location -> (840, 620)\n",
      "Scale ->  0 | Confidence Score 0.7201919403787258 \n",
      "\n"
     ]
    },
    {
     "name": "stderr",
     "output_type": "stream",
     "text": [
      "/tmp/ipykernel_62901/1983484597.py:49: FutureWarning: `multichannel` is a deprecated argument name for `hog`. It will be removed in version 1.0. Please use `channel_axis` instead.\n",
      "  fds, img_hog = hog(\n",
      "/tmp/ipykernel_62901/1983484597.py:49: FutureWarning: `multichannel` is a deprecated argument name for `hog`. It will be removed in version 1.0. Please use `channel_axis` instead.\n",
      "  fds, img_hog = hog(\n"
     ]
    },
    {
     "name": "stdout",
     "output_type": "stream",
     "text": [
      "Detection:: Location -> (860, 620)\n",
      "Scale ->  0 | Confidence Score 0.631087852196069 \n",
      "\n"
     ]
    },
    {
     "name": "stderr",
     "output_type": "stream",
     "text": [
      "/tmp/ipykernel_62901/1983484597.py:49: FutureWarning: `multichannel` is a deprecated argument name for `hog`. It will be removed in version 1.0. Please use `channel_axis` instead.\n",
      "  fds, img_hog = hog(\n",
      "/tmp/ipykernel_62901/1983484597.py:49: FutureWarning: `multichannel` is a deprecated argument name for `hog`. It will be removed in version 1.0. Please use `channel_axis` instead.\n",
      "  fds, img_hog = hog(\n",
      "/tmp/ipykernel_62901/1983484597.py:49: FutureWarning: `multichannel` is a deprecated argument name for `hog`. It will be removed in version 1.0. Please use `channel_axis` instead.\n",
      "  fds, img_hog = hog(\n",
      "/tmp/ipykernel_62901/1983484597.py:49: FutureWarning: `multichannel` is a deprecated argument name for `hog`. It will be removed in version 1.0. Please use `channel_axis` instead.\n",
      "  fds, img_hog = hog(\n",
      "/tmp/ipykernel_62901/1983484597.py:49: FutureWarning: `multichannel` is a deprecated argument name for `hog`. It will be removed in version 1.0. Please use `channel_axis` instead.\n",
      "  fds, img_hog = hog(\n",
      "/tmp/ipykernel_62901/1983484597.py:49: FutureWarning: `multichannel` is a deprecated argument name for `hog`. It will be removed in version 1.0. Please use `channel_axis` instead.\n",
      "  fds, img_hog = hog(\n",
      "/tmp/ipykernel_62901/1983484597.py:49: FutureWarning: `multichannel` is a deprecated argument name for `hog`. It will be removed in version 1.0. Please use `channel_axis` instead.\n",
      "  fds, img_hog = hog(\n",
      "/tmp/ipykernel_62901/1983484597.py:49: FutureWarning: `multichannel` is a deprecated argument name for `hog`. It will be removed in version 1.0. Please use `channel_axis` instead.\n",
      "  fds, img_hog = hog(\n"
     ]
    },
    {
     "name": "stdout",
     "output_type": "stream",
     "text": [
      "Detection:: Location -> (60, 640)\n",
      "Scale ->  0 | Confidence Score 0.6515640006749336 \n",
      "\n",
      "Detection:: Location -> (80, 640)\n",
      "Scale ->  0 | Confidence Score 0.7002757758004885 \n",
      "\n"
     ]
    },
    {
     "name": "stderr",
     "output_type": "stream",
     "text": [
      "/tmp/ipykernel_62901/1983484597.py:49: FutureWarning: `multichannel` is a deprecated argument name for `hog`. It will be removed in version 1.0. Please use `channel_axis` instead.\n",
      "  fds, img_hog = hog(\n",
      "/tmp/ipykernel_62901/1983484597.py:49: FutureWarning: `multichannel` is a deprecated argument name for `hog`. It will be removed in version 1.0. Please use `channel_axis` instead.\n",
      "  fds, img_hog = hog(\n"
     ]
    },
    {
     "name": "stdout",
     "output_type": "stream",
     "text": [
      "Detection:: Location -> (100, 640)\n",
      "Scale ->  0 | Confidence Score 0.7911414289014268 \n",
      "\n",
      "Detection:: Location -> (120, 640)\n",
      "Scale ->  0 | Confidence Score 0.7027451553033904 \n",
      "\n"
     ]
    },
    {
     "name": "stderr",
     "output_type": "stream",
     "text": [
      "/tmp/ipykernel_62901/1983484597.py:49: FutureWarning: `multichannel` is a deprecated argument name for `hog`. It will be removed in version 1.0. Please use `channel_axis` instead.\n",
      "  fds, img_hog = hog(\n",
      "/tmp/ipykernel_62901/1983484597.py:49: FutureWarning: `multichannel` is a deprecated argument name for `hog`. It will be removed in version 1.0. Please use `channel_axis` instead.\n",
      "  fds, img_hog = hog(\n"
     ]
    },
    {
     "name": "stdout",
     "output_type": "stream",
     "text": [
      "Detection:: Location -> (140, 640)\n",
      "Scale ->  0 | Confidence Score 0.7116891292778271 \n",
      "\n",
      "Detection:: Location -> (160, 640)\n",
      "Scale ->  0 | Confidence Score 0.7316768632259943 \n",
      "\n"
     ]
    },
    {
     "name": "stderr",
     "output_type": "stream",
     "text": [
      "/tmp/ipykernel_62901/1983484597.py:49: FutureWarning: `multichannel` is a deprecated argument name for `hog`. It will be removed in version 1.0. Please use `channel_axis` instead.\n",
      "  fds, img_hog = hog(\n",
      "/tmp/ipykernel_62901/1983484597.py:49: FutureWarning: `multichannel` is a deprecated argument name for `hog`. It will be removed in version 1.0. Please use `channel_axis` instead.\n",
      "  fds, img_hog = hog(\n"
     ]
    },
    {
     "name": "stdout",
     "output_type": "stream",
     "text": [
      "Detection:: Location -> (180, 640)\n",
      "Scale ->  0 | Confidence Score 0.7555694410639459 \n",
      "\n",
      "Detection:: Location -> (200, 640)\n",
      "Scale ->  0 | Confidence Score 0.7066676333551866 \n",
      "\n"
     ]
    },
    {
     "name": "stderr",
     "output_type": "stream",
     "text": [
      "/tmp/ipykernel_62901/1983484597.py:49: FutureWarning: `multichannel` is a deprecated argument name for `hog`. It will be removed in version 1.0. Please use `channel_axis` instead.\n",
      "  fds, img_hog = hog(\n"
     ]
    },
    {
     "name": "stdout",
     "output_type": "stream",
     "text": [
      "Detection:: Location -> (220, 640)\n",
      "Scale ->  0 | Confidence Score 0.7718912952834143 \n",
      "\n"
     ]
    },
    {
     "name": "stderr",
     "output_type": "stream",
     "text": [
      "/tmp/ipykernel_62901/1983484597.py:49: FutureWarning: `multichannel` is a deprecated argument name for `hog`. It will be removed in version 1.0. Please use `channel_axis` instead.\n",
      "  fds, img_hog = hog(\n"
     ]
    },
    {
     "name": "stdout",
     "output_type": "stream",
     "text": [
      "Detection:: Location -> (240, 640)\n",
      "Scale ->  0 | Confidence Score 0.7446408467129527 \n",
      "\n",
      "Detection:: Location -> (260, 640)\n",
      "Scale ->  0 | Confidence Score 0.7122836129869183 \n",
      "\n"
     ]
    },
    {
     "name": "stderr",
     "output_type": "stream",
     "text": [
      "/tmp/ipykernel_62901/1983484597.py:49: FutureWarning: `multichannel` is a deprecated argument name for `hog`. It will be removed in version 1.0. Please use `channel_axis` instead.\n",
      "  fds, img_hog = hog(\n",
      "/tmp/ipykernel_62901/1983484597.py:49: FutureWarning: `multichannel` is a deprecated argument name for `hog`. It will be removed in version 1.0. Please use `channel_axis` instead.\n",
      "  fds, img_hog = hog(\n"
     ]
    },
    {
     "name": "stdout",
     "output_type": "stream",
     "text": [
      "Detection:: Location -> (280, 640)\n",
      "Scale ->  0 | Confidence Score 0.6893386053678453 \n",
      "\n",
      "Detection:: Location -> (300, 640)\n",
      "Scale ->  0 | Confidence Score 0.6409225503306439 \n",
      "\n"
     ]
    },
    {
     "name": "stderr",
     "output_type": "stream",
     "text": [
      "/tmp/ipykernel_62901/1983484597.py:49: FutureWarning: `multichannel` is a deprecated argument name for `hog`. It will be removed in version 1.0. Please use `channel_axis` instead.\n",
      "  fds, img_hog = hog(\n",
      "/tmp/ipykernel_62901/1983484597.py:49: FutureWarning: `multichannel` is a deprecated argument name for `hog`. It will be removed in version 1.0. Please use `channel_axis` instead.\n",
      "  fds, img_hog = hog(\n"
     ]
    },
    {
     "name": "stdout",
     "output_type": "stream",
     "text": [
      "Detection:: Location -> (320, 640)\n",
      "Scale ->  0 | Confidence Score 0.7364067354972305 \n",
      "\n",
      "Detection:: Location -> (340, 640)\n",
      "Scale ->  0 | Confidence Score 0.680381537381146 \n",
      "\n"
     ]
    },
    {
     "name": "stderr",
     "output_type": "stream",
     "text": [
      "/tmp/ipykernel_62901/1983484597.py:49: FutureWarning: `multichannel` is a deprecated argument name for `hog`. It will be removed in version 1.0. Please use `channel_axis` instead.\n",
      "  fds, img_hog = hog(\n",
      "/tmp/ipykernel_62901/1983484597.py:49: FutureWarning: `multichannel` is a deprecated argument name for `hog`. It will be removed in version 1.0. Please use `channel_axis` instead.\n",
      "  fds, img_hog = hog(\n"
     ]
    },
    {
     "name": "stdout",
     "output_type": "stream",
     "text": [
      "Detection:: Location -> (360, 640)\n",
      "Scale ->  0 | Confidence Score 0.7016239511302754 \n",
      "\n",
      "Detection:: Location -> (380, 640)\n",
      "Scale ->  0 | Confidence Score 0.7154559989027695 \n",
      "\n"
     ]
    },
    {
     "name": "stderr",
     "output_type": "stream",
     "text": [
      "/tmp/ipykernel_62901/1983484597.py:49: FutureWarning: `multichannel` is a deprecated argument name for `hog`. It will be removed in version 1.0. Please use `channel_axis` instead.\n",
      "  fds, img_hog = hog(\n",
      "/tmp/ipykernel_62901/1983484597.py:49: FutureWarning: `multichannel` is a deprecated argument name for `hog`. It will be removed in version 1.0. Please use `channel_axis` instead.\n",
      "  fds, img_hog = hog(\n"
     ]
    },
    {
     "name": "stdout",
     "output_type": "stream",
     "text": [
      "Detection:: Location -> (400, 640)\n",
      "Scale ->  0 | Confidence Score 0.7179209002422351 \n",
      "\n",
      "Detection:: Location -> (420, 640)\n",
      "Scale ->  0 | Confidence Score 0.6989421731590705 \n",
      "\n"
     ]
    },
    {
     "name": "stderr",
     "output_type": "stream",
     "text": [
      "/tmp/ipykernel_62901/1983484597.py:49: FutureWarning: `multichannel` is a deprecated argument name for `hog`. It will be removed in version 1.0. Please use `channel_axis` instead.\n",
      "  fds, img_hog = hog(\n",
      "/tmp/ipykernel_62901/1983484597.py:49: FutureWarning: `multichannel` is a deprecated argument name for `hog`. It will be removed in version 1.0. Please use `channel_axis` instead.\n",
      "  fds, img_hog = hog(\n"
     ]
    },
    {
     "name": "stdout",
     "output_type": "stream",
     "text": [
      "Detection:: Location -> (440, 640)\n",
      "Scale ->  0 | Confidence Score 0.6415137828232328 \n",
      "\n",
      "Detection:: Location -> (460, 640)\n",
      "Scale ->  0 | Confidence Score 0.7126178013753528 \n",
      "\n"
     ]
    },
    {
     "name": "stderr",
     "output_type": "stream",
     "text": [
      "/tmp/ipykernel_62901/1983484597.py:49: FutureWarning: `multichannel` is a deprecated argument name for `hog`. It will be removed in version 1.0. Please use `channel_axis` instead.\n",
      "  fds, img_hog = hog(\n",
      "/tmp/ipykernel_62901/1983484597.py:49: FutureWarning: `multichannel` is a deprecated argument name for `hog`. It will be removed in version 1.0. Please use `channel_axis` instead.\n",
      "  fds, img_hog = hog(\n"
     ]
    },
    {
     "name": "stdout",
     "output_type": "stream",
     "text": [
      "Detection:: Location -> (480, 640)\n",
      "Scale ->  0 | Confidence Score 0.7076995087683464 \n",
      "\n",
      "Detection:: Location -> (500, 640)\n",
      "Scale ->  0 | Confidence Score 0.7627003251595691 \n",
      "\n"
     ]
    },
    {
     "name": "stderr",
     "output_type": "stream",
     "text": [
      "/tmp/ipykernel_62901/1983484597.py:49: FutureWarning: `multichannel` is a deprecated argument name for `hog`. It will be removed in version 1.0. Please use `channel_axis` instead.\n",
      "  fds, img_hog = hog(\n",
      "/tmp/ipykernel_62901/1983484597.py:49: FutureWarning: `multichannel` is a deprecated argument name for `hog`. It will be removed in version 1.0. Please use `channel_axis` instead.\n",
      "  fds, img_hog = hog(\n"
     ]
    },
    {
     "name": "stdout",
     "output_type": "stream",
     "text": [
      "Detection:: Location -> (520, 640)\n",
      "Scale ->  0 | Confidence Score 0.6862138776291299 \n",
      "\n",
      "Detection:: Location -> (540, 640)\n",
      "Scale ->  0 | Confidence Score 0.7434481969439012 \n",
      "\n"
     ]
    },
    {
     "name": "stderr",
     "output_type": "stream",
     "text": [
      "/tmp/ipykernel_62901/1983484597.py:49: FutureWarning: `multichannel` is a deprecated argument name for `hog`. It will be removed in version 1.0. Please use `channel_axis` instead.\n",
      "  fds, img_hog = hog(\n",
      "/tmp/ipykernel_62901/1983484597.py:49: FutureWarning: `multichannel` is a deprecated argument name for `hog`. It will be removed in version 1.0. Please use `channel_axis` instead.\n",
      "  fds, img_hog = hog(\n"
     ]
    },
    {
     "name": "stdout",
     "output_type": "stream",
     "text": [
      "Detection:: Location -> (560, 640)\n",
      "Scale ->  0 | Confidence Score 0.7327642067592189 \n",
      "\n",
      "Detection:: Location -> (580, 640)\n",
      "Scale ->  0 | Confidence Score 0.7535009358221921 \n",
      "\n"
     ]
    },
    {
     "name": "stderr",
     "output_type": "stream",
     "text": [
      "/tmp/ipykernel_62901/1983484597.py:49: FutureWarning: `multichannel` is a deprecated argument name for `hog`. It will be removed in version 1.0. Please use `channel_axis` instead.\n",
      "  fds, img_hog = hog(\n",
      "/tmp/ipykernel_62901/1983484597.py:49: FutureWarning: `multichannel` is a deprecated argument name for `hog`. It will be removed in version 1.0. Please use `channel_axis` instead.\n",
      "  fds, img_hog = hog(\n"
     ]
    },
    {
     "name": "stdout",
     "output_type": "stream",
     "text": [
      "Detection:: Location -> (600, 640)\n",
      "Scale ->  0 | Confidence Score 0.6678295387425477 \n",
      "\n",
      "Detection:: Location -> (620, 640)\n",
      "Scale ->  0 | Confidence Score 0.7036907843159648 \n",
      "\n"
     ]
    },
    {
     "name": "stderr",
     "output_type": "stream",
     "text": [
      "/tmp/ipykernel_62901/1983484597.py:49: FutureWarning: `multichannel` is a deprecated argument name for `hog`. It will be removed in version 1.0. Please use `channel_axis` instead.\n",
      "  fds, img_hog = hog(\n",
      "/tmp/ipykernel_62901/1983484597.py:49: FutureWarning: `multichannel` is a deprecated argument name for `hog`. It will be removed in version 1.0. Please use `channel_axis` instead.\n",
      "  fds, img_hog = hog(\n"
     ]
    },
    {
     "name": "stdout",
     "output_type": "stream",
     "text": [
      "Detection:: Location -> (640, 640)\n",
      "Scale ->  0 | Confidence Score 0.6915922249321691 \n",
      "\n",
      "Detection:: Location -> (660, 640)\n",
      "Scale ->  0 | Confidence Score 0.7460101684401999 \n",
      "\n"
     ]
    },
    {
     "name": "stderr",
     "output_type": "stream",
     "text": [
      "/tmp/ipykernel_62901/1983484597.py:49: FutureWarning: `multichannel` is a deprecated argument name for `hog`. It will be removed in version 1.0. Please use `channel_axis` instead.\n",
      "  fds, img_hog = hog(\n",
      "/tmp/ipykernel_62901/1983484597.py:49: FutureWarning: `multichannel` is a deprecated argument name for `hog`. It will be removed in version 1.0. Please use `channel_axis` instead.\n",
      "  fds, img_hog = hog(\n"
     ]
    },
    {
     "name": "stdout",
     "output_type": "stream",
     "text": [
      "Detection:: Location -> (680, 640)\n",
      "Scale ->  0 | Confidence Score 0.7145228220568195 \n",
      "\n",
      "Detection:: Location -> (700, 640)\n",
      "Scale ->  0 | Confidence Score 0.7419932666827243 \n",
      "\n"
     ]
    },
    {
     "name": "stderr",
     "output_type": "stream",
     "text": [
      "/tmp/ipykernel_62901/1983484597.py:49: FutureWarning: `multichannel` is a deprecated argument name for `hog`. It will be removed in version 1.0. Please use `channel_axis` instead.\n",
      "  fds, img_hog = hog(\n",
      "/tmp/ipykernel_62901/1983484597.py:49: FutureWarning: `multichannel` is a deprecated argument name for `hog`. It will be removed in version 1.0. Please use `channel_axis` instead.\n",
      "  fds, img_hog = hog(\n"
     ]
    },
    {
     "name": "stdout",
     "output_type": "stream",
     "text": [
      "Detection:: Location -> (720, 640)\n",
      "Scale ->  0 | Confidence Score 0.7259356545288486 \n",
      "\n"
     ]
    },
    {
     "name": "stderr",
     "output_type": "stream",
     "text": [
      "/tmp/ipykernel_62901/1983484597.py:49: FutureWarning: `multichannel` is a deprecated argument name for `hog`. It will be removed in version 1.0. Please use `channel_axis` instead.\n",
      "  fds, img_hog = hog(\n"
     ]
    },
    {
     "name": "stdout",
     "output_type": "stream",
     "text": [
      "Detection:: Location -> (740, 640)\n",
      "Scale ->  0 | Confidence Score 0.7051809918944149 \n",
      "\n",
      "Detection:: Location -> (760, 640)\n",
      "Scale ->  0 | Confidence Score 0.7002066605433838 \n",
      "\n"
     ]
    },
    {
     "name": "stderr",
     "output_type": "stream",
     "text": [
      "/tmp/ipykernel_62901/1983484597.py:49: FutureWarning: `multichannel` is a deprecated argument name for `hog`. It will be removed in version 1.0. Please use `channel_axis` instead.\n",
      "  fds, img_hog = hog(\n",
      "/tmp/ipykernel_62901/1983484597.py:49: FutureWarning: `multichannel` is a deprecated argument name for `hog`. It will be removed in version 1.0. Please use `channel_axis` instead.\n",
      "  fds, img_hog = hog(\n"
     ]
    },
    {
     "name": "stdout",
     "output_type": "stream",
     "text": [
      "Detection:: Location -> (780, 640)\n",
      "Scale ->  0 | Confidence Score 0.7357609525898785 \n",
      "\n",
      "Detection:: Location -> (800, 640)\n",
      "Scale ->  0 | Confidence Score 0.6735961125172376 \n",
      "\n"
     ]
    },
    {
     "name": "stderr",
     "output_type": "stream",
     "text": [
      "/tmp/ipykernel_62901/1983484597.py:49: FutureWarning: `multichannel` is a deprecated argument name for `hog`. It will be removed in version 1.0. Please use `channel_axis` instead.\n",
      "  fds, img_hog = hog(\n",
      "/tmp/ipykernel_62901/1983484597.py:49: FutureWarning: `multichannel` is a deprecated argument name for `hog`. It will be removed in version 1.0. Please use `channel_axis` instead.\n",
      "  fds, img_hog = hog(\n"
     ]
    },
    {
     "name": "stdout",
     "output_type": "stream",
     "text": [
      "Detection:: Location -> (820, 640)\n",
      "Scale ->  0 | Confidence Score 0.7022600908153139 \n",
      "\n",
      "Detection:: Location -> (840, 640)\n",
      "Scale ->  0 | Confidence Score 0.659470610812363 \n",
      "\n"
     ]
    },
    {
     "name": "stderr",
     "output_type": "stream",
     "text": [
      "/tmp/ipykernel_62901/1983484597.py:49: FutureWarning: `multichannel` is a deprecated argument name for `hog`. It will be removed in version 1.0. Please use `channel_axis` instead.\n",
      "  fds, img_hog = hog(\n",
      "/tmp/ipykernel_62901/1983484597.py:49: FutureWarning: `multichannel` is a deprecated argument name for `hog`. It will be removed in version 1.0. Please use `channel_axis` instead.\n",
      "  fds, img_hog = hog(\n"
     ]
    },
    {
     "name": "stdout",
     "output_type": "stream",
     "text": [
      "Detection:: Location -> (860, 640)\n",
      "Scale ->  0 | Confidence Score 0.6241824991097411 \n",
      "\n"
     ]
    },
    {
     "name": "stderr",
     "output_type": "stream",
     "text": [
      "/tmp/ipykernel_62901/1983484597.py:49: FutureWarning: `multichannel` is a deprecated argument name for `hog`. It will be removed in version 1.0. Please use `channel_axis` instead.\n",
      "  fds, img_hog = hog(\n",
      "/tmp/ipykernel_62901/1983484597.py:49: FutureWarning: `multichannel` is a deprecated argument name for `hog`. It will be removed in version 1.0. Please use `channel_axis` instead.\n",
      "  fds, img_hog = hog(\n",
      "/tmp/ipykernel_62901/1983484597.py:49: FutureWarning: `multichannel` is a deprecated argument name for `hog`. It will be removed in version 1.0. Please use `channel_axis` instead.\n",
      "  fds, img_hog = hog(\n",
      "/tmp/ipykernel_62901/1983484597.py:49: FutureWarning: `multichannel` is a deprecated argument name for `hog`. It will be removed in version 1.0. Please use `channel_axis` instead.\n",
      "  fds, img_hog = hog(\n",
      "/tmp/ipykernel_62901/1983484597.py:49: FutureWarning: `multichannel` is a deprecated argument name for `hog`. It will be removed in version 1.0. Please use `channel_axis` instead.\n",
      "  fds, img_hog = hog(\n",
      "/tmp/ipykernel_62901/1983484597.py:49: FutureWarning: `multichannel` is a deprecated argument name for `hog`. It will be removed in version 1.0. Please use `channel_axis` instead.\n",
      "  fds, img_hog = hog(\n"
     ]
    },
    {
     "name": "stdout",
     "output_type": "stream",
     "text": [
      "Detection:: Location -> (40, 660)\n",
      "Scale ->  0 | Confidence Score 0.618189790816914 \n",
      "\n",
      "Detection:: Location -> (60, 660)\n",
      "Scale ->  0 | Confidence Score 0.667238439091524 \n",
      "\n"
     ]
    },
    {
     "name": "stderr",
     "output_type": "stream",
     "text": [
      "/tmp/ipykernel_62901/1983484597.py:49: FutureWarning: `multichannel` is a deprecated argument name for `hog`. It will be removed in version 1.0. Please use `channel_axis` instead.\n",
      "  fds, img_hog = hog(\n",
      "/tmp/ipykernel_62901/1983484597.py:49: FutureWarning: `multichannel` is a deprecated argument name for `hog`. It will be removed in version 1.0. Please use `channel_axis` instead.\n",
      "  fds, img_hog = hog(\n"
     ]
    },
    {
     "name": "stdout",
     "output_type": "stream",
     "text": [
      "Detection:: Location -> (80, 660)\n",
      "Scale ->  0 | Confidence Score 0.7037774894910467 \n",
      "\n",
      "Detection:: Location -> (100, 660)\n",
      "Scale ->  0 | Confidence Score 0.7020014411165642 \n",
      "\n"
     ]
    },
    {
     "name": "stderr",
     "output_type": "stream",
     "text": [
      "/tmp/ipykernel_62901/1983484597.py:49: FutureWarning: `multichannel` is a deprecated argument name for `hog`. It will be removed in version 1.0. Please use `channel_axis` instead.\n",
      "  fds, img_hog = hog(\n",
      "/tmp/ipykernel_62901/1983484597.py:49: FutureWarning: `multichannel` is a deprecated argument name for `hog`. It will be removed in version 1.0. Please use `channel_axis` instead.\n",
      "  fds, img_hog = hog(\n"
     ]
    },
    {
     "name": "stdout",
     "output_type": "stream",
     "text": [
      "Detection:: Location -> (120, 660)\n",
      "Scale ->  0 | Confidence Score 0.7243464272430447 \n",
      "\n",
      "Detection:: Location -> (140, 660)\n",
      "Scale ->  0 | Confidence Score 0.7689115369415948 \n",
      "\n"
     ]
    },
    {
     "name": "stderr",
     "output_type": "stream",
     "text": [
      "/tmp/ipykernel_62901/1983484597.py:49: FutureWarning: `multichannel` is a deprecated argument name for `hog`. It will be removed in version 1.0. Please use `channel_axis` instead.\n",
      "  fds, img_hog = hog(\n",
      "/tmp/ipykernel_62901/1983484597.py:49: FutureWarning: `multichannel` is a deprecated argument name for `hog`. It will be removed in version 1.0. Please use `channel_axis` instead.\n",
      "  fds, img_hog = hog(\n"
     ]
    },
    {
     "name": "stdout",
     "output_type": "stream",
     "text": [
      "Detection:: Location -> (160, 660)\n",
      "Scale ->  0 | Confidence Score 0.7839264481626043 \n",
      "\n",
      "Detection:: Location -> (180, 660)\n",
      "Scale ->  0 | Confidence Score 0.8230929651390674 \n",
      "\n"
     ]
    },
    {
     "name": "stderr",
     "output_type": "stream",
     "text": [
      "/tmp/ipykernel_62901/1983484597.py:49: FutureWarning: `multichannel` is a deprecated argument name for `hog`. It will be removed in version 1.0. Please use `channel_axis` instead.\n",
      "  fds, img_hog = hog(\n",
      "/tmp/ipykernel_62901/1983484597.py:49: FutureWarning: `multichannel` is a deprecated argument name for `hog`. It will be removed in version 1.0. Please use `channel_axis` instead.\n",
      "  fds, img_hog = hog(\n"
     ]
    },
    {
     "name": "stdout",
     "output_type": "stream",
     "text": [
      "Detection:: Location -> (200, 660)\n",
      "Scale ->  0 | Confidence Score 0.7565040021436571 \n",
      "\n",
      "Detection:: Location -> (220, 660)\n",
      "Scale ->  0 | Confidence Score 0.7667733848768169 \n",
      "\n"
     ]
    },
    {
     "name": "stderr",
     "output_type": "stream",
     "text": [
      "/tmp/ipykernel_62901/1983484597.py:49: FutureWarning: `multichannel` is a deprecated argument name for `hog`. It will be removed in version 1.0. Please use `channel_axis` instead.\n",
      "  fds, img_hog = hog(\n",
      "/tmp/ipykernel_62901/1983484597.py:49: FutureWarning: `multichannel` is a deprecated argument name for `hog`. It will be removed in version 1.0. Please use `channel_axis` instead.\n",
      "  fds, img_hog = hog(\n"
     ]
    },
    {
     "name": "stdout",
     "output_type": "stream",
     "text": [
      "Detection:: Location -> (240, 660)\n",
      "Scale ->  0 | Confidence Score 0.7371867766636696 \n",
      "\n",
      "Detection:: Location -> (260, 660)\n",
      "Scale ->  0 | Confidence Score 0.7436280280730432 \n",
      "\n"
     ]
    },
    {
     "name": "stderr",
     "output_type": "stream",
     "text": [
      "/tmp/ipykernel_62901/1983484597.py:49: FutureWarning: `multichannel` is a deprecated argument name for `hog`. It will be removed in version 1.0. Please use `channel_axis` instead.\n",
      "  fds, img_hog = hog(\n",
      "/tmp/ipykernel_62901/1983484597.py:49: FutureWarning: `multichannel` is a deprecated argument name for `hog`. It will be removed in version 1.0. Please use `channel_axis` instead.\n",
      "  fds, img_hog = hog(\n"
     ]
    },
    {
     "name": "stdout",
     "output_type": "stream",
     "text": [
      "Detection:: Location -> (280, 660)\n",
      "Scale ->  0 | Confidence Score 0.7496458203006902 \n",
      "\n",
      "Detection:: Location -> (300, 660)\n",
      "Scale ->  0 | Confidence Score 0.7484513671816403 \n",
      "\n"
     ]
    },
    {
     "name": "stderr",
     "output_type": "stream",
     "text": [
      "/tmp/ipykernel_62901/1983484597.py:49: FutureWarning: `multichannel` is a deprecated argument name for `hog`. It will be removed in version 1.0. Please use `channel_axis` instead.\n",
      "  fds, img_hog = hog(\n",
      "/tmp/ipykernel_62901/1983484597.py:49: FutureWarning: `multichannel` is a deprecated argument name for `hog`. It will be removed in version 1.0. Please use `channel_axis` instead.\n",
      "  fds, img_hog = hog(\n"
     ]
    },
    {
     "name": "stdout",
     "output_type": "stream",
     "text": [
      "Detection:: Location -> (320, 660)\n",
      "Scale ->  0 | Confidence Score 0.7004317731152031 \n",
      "\n",
      "Detection:: Location -> (340, 660)\n",
      "Scale ->  0 | Confidence Score 0.7251880289429627 \n",
      "\n"
     ]
    },
    {
     "name": "stderr",
     "output_type": "stream",
     "text": [
      "/tmp/ipykernel_62901/1983484597.py:49: FutureWarning: `multichannel` is a deprecated argument name for `hog`. It will be removed in version 1.0. Please use `channel_axis` instead.\n",
      "  fds, img_hog = hog(\n",
      "/tmp/ipykernel_62901/1983484597.py:49: FutureWarning: `multichannel` is a deprecated argument name for `hog`. It will be removed in version 1.0. Please use `channel_axis` instead.\n",
      "  fds, img_hog = hog(\n"
     ]
    },
    {
     "name": "stdout",
     "output_type": "stream",
     "text": [
      "Detection:: Location -> (360, 660)\n",
      "Scale ->  0 | Confidence Score 0.6984658719873087 \n",
      "\n",
      "Detection:: Location -> (380, 660)\n",
      "Scale ->  0 | Confidence Score 0.6979574686703535 \n",
      "\n"
     ]
    },
    {
     "name": "stderr",
     "output_type": "stream",
     "text": [
      "/tmp/ipykernel_62901/1983484597.py:49: FutureWarning: `multichannel` is a deprecated argument name for `hog`. It will be removed in version 1.0. Please use `channel_axis` instead.\n",
      "  fds, img_hog = hog(\n",
      "/tmp/ipykernel_62901/1983484597.py:49: FutureWarning: `multichannel` is a deprecated argument name for `hog`. It will be removed in version 1.0. Please use `channel_axis` instead.\n",
      "  fds, img_hog = hog(\n"
     ]
    },
    {
     "name": "stdout",
     "output_type": "stream",
     "text": [
      "Detection:: Location -> (400, 660)\n",
      "Scale ->  0 | Confidence Score 0.6795897510171892 \n",
      "\n",
      "Detection:: Location -> (420, 660)\n",
      "Scale ->  0 | Confidence Score 0.6959402759934016 \n",
      "\n"
     ]
    },
    {
     "name": "stderr",
     "output_type": "stream",
     "text": [
      "/tmp/ipykernel_62901/1983484597.py:49: FutureWarning: `multichannel` is a deprecated argument name for `hog`. It will be removed in version 1.0. Please use `channel_axis` instead.\n",
      "  fds, img_hog = hog(\n",
      "/tmp/ipykernel_62901/1983484597.py:49: FutureWarning: `multichannel` is a deprecated argument name for `hog`. It will be removed in version 1.0. Please use `channel_axis` instead.\n",
      "  fds, img_hog = hog(\n"
     ]
    },
    {
     "name": "stdout",
     "output_type": "stream",
     "text": [
      "Detection:: Location -> (440, 660)\n",
      "Scale ->  0 | Confidence Score 0.6988750336804341 \n",
      "\n",
      "Detection:: Location -> (460, 660)\n",
      "Scale ->  0 | Confidence Score 0.7529972212376578 \n",
      "\n"
     ]
    },
    {
     "name": "stderr",
     "output_type": "stream",
     "text": [
      "/tmp/ipykernel_62901/1983484597.py:49: FutureWarning: `multichannel` is a deprecated argument name for `hog`. It will be removed in version 1.0. Please use `channel_axis` instead.\n",
      "  fds, img_hog = hog(\n",
      "/tmp/ipykernel_62901/1983484597.py:49: FutureWarning: `multichannel` is a deprecated argument name for `hog`. It will be removed in version 1.0. Please use `channel_axis` instead.\n",
      "  fds, img_hog = hog(\n"
     ]
    },
    {
     "name": "stdout",
     "output_type": "stream",
     "text": [
      "Detection:: Location -> (480, 660)\n",
      "Scale ->  0 | Confidence Score 0.7603100061873538 \n",
      "\n",
      "Detection:: Location -> (500, 660)\n",
      "Scale ->  0 | Confidence Score 0.7610378541541636 \n",
      "\n"
     ]
    },
    {
     "name": "stderr",
     "output_type": "stream",
     "text": [
      "/tmp/ipykernel_62901/1983484597.py:49: FutureWarning: `multichannel` is a deprecated argument name for `hog`. It will be removed in version 1.0. Please use `channel_axis` instead.\n",
      "  fds, img_hog = hog(\n",
      "/tmp/ipykernel_62901/1983484597.py:49: FutureWarning: `multichannel` is a deprecated argument name for `hog`. It will be removed in version 1.0. Please use `channel_axis` instead.\n",
      "  fds, img_hog = hog(\n"
     ]
    },
    {
     "name": "stdout",
     "output_type": "stream",
     "text": [
      "Detection:: Location -> (520, 660)\n",
      "Scale ->  0 | Confidence Score 0.7405750079368709 \n",
      "\n",
      "Detection:: Location -> (540, 660)\n",
      "Scale ->  0 | Confidence Score 0.7307209614748363 \n",
      "\n"
     ]
    },
    {
     "name": "stderr",
     "output_type": "stream",
     "text": [
      "/tmp/ipykernel_62901/1983484597.py:49: FutureWarning: `multichannel` is a deprecated argument name for `hog`. It will be removed in version 1.0. Please use `channel_axis` instead.\n",
      "  fds, img_hog = hog(\n",
      "/tmp/ipykernel_62901/1983484597.py:49: FutureWarning: `multichannel` is a deprecated argument name for `hog`. It will be removed in version 1.0. Please use `channel_axis` instead.\n",
      "  fds, img_hog = hog(\n"
     ]
    },
    {
     "name": "stdout",
     "output_type": "stream",
     "text": [
      "Detection:: Location -> (560, 660)\n",
      "Scale ->  0 | Confidence Score 0.7001633590696239 \n",
      "\n",
      "Detection:: Location -> (580, 660)\n",
      "Scale ->  0 | Confidence Score 0.7077600838813229 \n",
      "\n"
     ]
    },
    {
     "name": "stderr",
     "output_type": "stream",
     "text": [
      "/tmp/ipykernel_62901/1983484597.py:49: FutureWarning: `multichannel` is a deprecated argument name for `hog`. It will be removed in version 1.0. Please use `channel_axis` instead.\n",
      "  fds, img_hog = hog(\n",
      "/tmp/ipykernel_62901/1983484597.py:49: FutureWarning: `multichannel` is a deprecated argument name for `hog`. It will be removed in version 1.0. Please use `channel_axis` instead.\n",
      "  fds, img_hog = hog(\n"
     ]
    },
    {
     "name": "stdout",
     "output_type": "stream",
     "text": [
      "Detection:: Location -> (600, 660)\n",
      "Scale ->  0 | Confidence Score 0.6670289486237413 \n",
      "\n",
      "Detection:: Location -> (620, 660)\n",
      "Scale ->  0 | Confidence Score 0.7293897112295048 \n",
      "\n"
     ]
    },
    {
     "name": "stderr",
     "output_type": "stream",
     "text": [
      "/tmp/ipykernel_62901/1983484597.py:49: FutureWarning: `multichannel` is a deprecated argument name for `hog`. It will be removed in version 1.0. Please use `channel_axis` instead.\n",
      "  fds, img_hog = hog(\n",
      "/tmp/ipykernel_62901/1983484597.py:49: FutureWarning: `multichannel` is a deprecated argument name for `hog`. It will be removed in version 1.0. Please use `channel_axis` instead.\n",
      "  fds, img_hog = hog(\n"
     ]
    },
    {
     "name": "stdout",
     "output_type": "stream",
     "text": [
      "Detection:: Location -> (640, 660)\n",
      "Scale ->  0 | Confidence Score 0.7556257208709981 \n",
      "\n",
      "Detection:: Location -> (660, 660)\n",
      "Scale ->  0 | Confidence Score 0.7381961968373776 \n",
      "\n"
     ]
    },
    {
     "name": "stderr",
     "output_type": "stream",
     "text": [
      "/tmp/ipykernel_62901/1983484597.py:49: FutureWarning: `multichannel` is a deprecated argument name for `hog`. It will be removed in version 1.0. Please use `channel_axis` instead.\n",
      "  fds, img_hog = hog(\n",
      "/tmp/ipykernel_62901/1983484597.py:49: FutureWarning: `multichannel` is a deprecated argument name for `hog`. It will be removed in version 1.0. Please use `channel_axis` instead.\n",
      "  fds, img_hog = hog(\n"
     ]
    },
    {
     "name": "stdout",
     "output_type": "stream",
     "text": [
      "Detection:: Location -> (680, 660)\n",
      "Scale ->  0 | Confidence Score 0.7157286519677456 \n",
      "\n",
      "Detection:: Location -> (700, 660)\n",
      "Scale ->  0 | Confidence Score 0.7760815416649234 \n",
      "\n"
     ]
    },
    {
     "name": "stderr",
     "output_type": "stream",
     "text": [
      "/tmp/ipykernel_62901/1983484597.py:49: FutureWarning: `multichannel` is a deprecated argument name for `hog`. It will be removed in version 1.0. Please use `channel_axis` instead.\n",
      "  fds, img_hog = hog(\n",
      "/tmp/ipykernel_62901/1983484597.py:49: FutureWarning: `multichannel` is a deprecated argument name for `hog`. It will be removed in version 1.0. Please use `channel_axis` instead.\n",
      "  fds, img_hog = hog(\n"
     ]
    },
    {
     "name": "stdout",
     "output_type": "stream",
     "text": [
      "Detection:: Location -> (720, 660)\n",
      "Scale ->  0 | Confidence Score 0.7511492217070479 \n",
      "\n",
      "Detection:: Location -> (740, 660)\n",
      "Scale ->  0 | Confidence Score 0.748256294224115 \n",
      "\n"
     ]
    },
    {
     "name": "stderr",
     "output_type": "stream",
     "text": [
      "/tmp/ipykernel_62901/1983484597.py:49: FutureWarning: `multichannel` is a deprecated argument name for `hog`. It will be removed in version 1.0. Please use `channel_axis` instead.\n",
      "  fds, img_hog = hog(\n",
      "/tmp/ipykernel_62901/1983484597.py:49: FutureWarning: `multichannel` is a deprecated argument name for `hog`. It will be removed in version 1.0. Please use `channel_axis` instead.\n",
      "  fds, img_hog = hog(\n"
     ]
    },
    {
     "name": "stdout",
     "output_type": "stream",
     "text": [
      "Detection:: Location -> (760, 660)\n",
      "Scale ->  0 | Confidence Score 0.6997119003292938 \n",
      "\n",
      "Detection:: Location -> (780, 660)\n",
      "Scale ->  0 | Confidence Score 0.675510214038669 \n",
      "\n"
     ]
    },
    {
     "name": "stderr",
     "output_type": "stream",
     "text": [
      "/tmp/ipykernel_62901/1983484597.py:49: FutureWarning: `multichannel` is a deprecated argument name for `hog`. It will be removed in version 1.0. Please use `channel_axis` instead.\n",
      "  fds, img_hog = hog(\n",
      "/tmp/ipykernel_62901/1983484597.py:49: FutureWarning: `multichannel` is a deprecated argument name for `hog`. It will be removed in version 1.0. Please use `channel_axis` instead.\n",
      "  fds, img_hog = hog(\n"
     ]
    },
    {
     "name": "stdout",
     "output_type": "stream",
     "text": [
      "Detection:: Location -> (800, 660)\n",
      "Scale ->  0 | Confidence Score 0.7162611637338472 \n",
      "\n",
      "Detection:: Location -> (820, 660)\n",
      "Scale ->  0 | Confidence Score 0.7298016071996403 \n",
      "\n"
     ]
    },
    {
     "name": "stderr",
     "output_type": "stream",
     "text": [
      "/tmp/ipykernel_62901/1983484597.py:49: FutureWarning: `multichannel` is a deprecated argument name for `hog`. It will be removed in version 1.0. Please use `channel_axis` instead.\n",
      "  fds, img_hog = hog(\n",
      "/tmp/ipykernel_62901/1983484597.py:49: FutureWarning: `multichannel` is a deprecated argument name for `hog`. It will be removed in version 1.0. Please use `channel_axis` instead.\n",
      "  fds, img_hog = hog(\n"
     ]
    },
    {
     "name": "stdout",
     "output_type": "stream",
     "text": [
      "Detection:: Location -> (840, 660)\n",
      "Scale ->  0 | Confidence Score 0.6623963868315955 \n",
      "\n",
      "Detection:: Location -> (860, 660)\n",
      "Scale ->  0 | Confidence Score 0.6070922070814349 \n",
      "\n"
     ]
    },
    {
     "name": "stderr",
     "output_type": "stream",
     "text": [
      "/tmp/ipykernel_62901/1983484597.py:49: FutureWarning: `multichannel` is a deprecated argument name for `hog`. It will be removed in version 1.0. Please use `channel_axis` instead.\n",
      "  fds, img_hog = hog(\n",
      "/tmp/ipykernel_62901/1983484597.py:49: FutureWarning: `multichannel` is a deprecated argument name for `hog`. It will be removed in version 1.0. Please use `channel_axis` instead.\n",
      "  fds, img_hog = hog(\n",
      "/tmp/ipykernel_62901/1983484597.py:49: FutureWarning: `multichannel` is a deprecated argument name for `hog`. It will be removed in version 1.0. Please use `channel_axis` instead.\n",
      "  fds, img_hog = hog(\n",
      "/tmp/ipykernel_62901/1983484597.py:49: FutureWarning: `multichannel` is a deprecated argument name for `hog`. It will be removed in version 1.0. Please use `channel_axis` instead.\n",
      "  fds, img_hog = hog(\n",
      "/tmp/ipykernel_62901/1983484597.py:49: FutureWarning: `multichannel` is a deprecated argument name for `hog`. It will be removed in version 1.0. Please use `channel_axis` instead.\n",
      "  fds, img_hog = hog(\n",
      "/tmp/ipykernel_62901/1983484597.py:49: FutureWarning: `multichannel` is a deprecated argument name for `hog`. It will be removed in version 1.0. Please use `channel_axis` instead.\n",
      "  fds, img_hog = hog(\n",
      "/tmp/ipykernel_62901/1983484597.py:49: FutureWarning: `multichannel` is a deprecated argument name for `hog`. It will be removed in version 1.0. Please use `channel_axis` instead.\n",
      "  fds, img_hog = hog(\n",
      "/tmp/ipykernel_62901/1983484597.py:49: FutureWarning: `multichannel` is a deprecated argument name for `hog`. It will be removed in version 1.0. Please use `channel_axis` instead.\n",
      "  fds, img_hog = hog(\n",
      "/tmp/ipykernel_62901/1983484597.py:49: FutureWarning: `multichannel` is a deprecated argument name for `hog`. It will be removed in version 1.0. Please use `channel_axis` instead.\n",
      "  fds, img_hog = hog(\n",
      "/tmp/ipykernel_62901/1983484597.py:49: FutureWarning: `multichannel` is a deprecated argument name for `hog`. It will be removed in version 1.0. Please use `channel_axis` instead.\n",
      "  fds, img_hog = hog(\n"
     ]
    },
    {
     "name": "stdout",
     "output_type": "stream",
     "text": [
      "Detection:: Location -> (80, 680)\n",
      "Scale ->  0 | Confidence Score 0.6408406078067769 \n",
      "\n",
      "Detection:: Location -> (100, 680)\n",
      "Scale ->  0 | Confidence Score 0.7042762333319148 \n",
      "\n"
     ]
    },
    {
     "name": "stderr",
     "output_type": "stream",
     "text": [
      "/tmp/ipykernel_62901/1983484597.py:49: FutureWarning: `multichannel` is a deprecated argument name for `hog`. It will be removed in version 1.0. Please use `channel_axis` instead.\n",
      "  fds, img_hog = hog(\n"
     ]
    },
    {
     "name": "stdout",
     "output_type": "stream",
     "text": [
      "Detection:: Location -> (120, 680)\n",
      "Scale ->  0 | Confidence Score 0.7345518720401147 \n",
      "\n",
      "Detection:: Location -> (140, 680)\n",
      "Scale ->  0 | Confidence Score 0.7437569490772792 \n",
      "\n"
     ]
    },
    {
     "name": "stderr",
     "output_type": "stream",
     "text": [
      "/tmp/ipykernel_62901/1983484597.py:49: FutureWarning: `multichannel` is a deprecated argument name for `hog`. It will be removed in version 1.0. Please use `channel_axis` instead.\n",
      "  fds, img_hog = hog(\n",
      "/tmp/ipykernel_62901/1983484597.py:49: FutureWarning: `multichannel` is a deprecated argument name for `hog`. It will be removed in version 1.0. Please use `channel_axis` instead.\n",
      "  fds, img_hog = hog(\n"
     ]
    },
    {
     "name": "stdout",
     "output_type": "stream",
     "text": [
      "Detection:: Location -> (160, 680)\n",
      "Scale ->  0 | Confidence Score 0.6855455230431136 \n",
      "\n",
      "Detection:: Location -> (180, 680)\n",
      "Scale ->  0 | Confidence Score 0.7575894375977535 \n",
      "\n"
     ]
    },
    {
     "name": "stderr",
     "output_type": "stream",
     "text": [
      "/tmp/ipykernel_62901/1983484597.py:49: FutureWarning: `multichannel` is a deprecated argument name for `hog`. It will be removed in version 1.0. Please use `channel_axis` instead.\n",
      "  fds, img_hog = hog(\n",
      "/tmp/ipykernel_62901/1983484597.py:49: FutureWarning: `multichannel` is a deprecated argument name for `hog`. It will be removed in version 1.0. Please use `channel_axis` instead.\n",
      "  fds, img_hog = hog(\n"
     ]
    },
    {
     "name": "stdout",
     "output_type": "stream",
     "text": [
      "Detection:: Location -> (200, 680)\n",
      "Scale ->  0 | Confidence Score 0.7667615209261428 \n",
      "\n",
      "Detection:: Location -> (220, 680)\n",
      "Scale ->  0 | Confidence Score 0.7390782481767206 \n",
      "\n"
     ]
    },
    {
     "name": "stderr",
     "output_type": "stream",
     "text": [
      "/tmp/ipykernel_62901/1983484597.py:49: FutureWarning: `multichannel` is a deprecated argument name for `hog`. It will be removed in version 1.0. Please use `channel_axis` instead.\n",
      "  fds, img_hog = hog(\n",
      "/tmp/ipykernel_62901/1983484597.py:49: FutureWarning: `multichannel` is a deprecated argument name for `hog`. It will be removed in version 1.0. Please use `channel_axis` instead.\n",
      "  fds, img_hog = hog(\n"
     ]
    },
    {
     "name": "stdout",
     "output_type": "stream",
     "text": [
      "Detection:: Location -> (240, 680)\n",
      "Scale ->  0 | Confidence Score 0.7060272283379391 \n",
      "\n"
     ]
    },
    {
     "name": "stderr",
     "output_type": "stream",
     "text": [
      "/tmp/ipykernel_62901/1983484597.py:49: FutureWarning: `multichannel` is a deprecated argument name for `hog`. It will be removed in version 1.0. Please use `channel_axis` instead.\n",
      "  fds, img_hog = hog(\n"
     ]
    },
    {
     "name": "stdout",
     "output_type": "stream",
     "text": [
      "Detection:: Location -> (260, 680)\n",
      "Scale ->  0 | Confidence Score 0.7137368861825386 \n",
      "\n",
      "Detection:: Location -> (280, 680)\n",
      "Scale ->  0 | Confidence Score 0.7258403806938709 \n",
      "\n"
     ]
    },
    {
     "name": "stderr",
     "output_type": "stream",
     "text": [
      "/tmp/ipykernel_62901/1983484597.py:49: FutureWarning: `multichannel` is a deprecated argument name for `hog`. It will be removed in version 1.0. Please use `channel_axis` instead.\n",
      "  fds, img_hog = hog(\n",
      "/tmp/ipykernel_62901/1983484597.py:49: FutureWarning: `multichannel` is a deprecated argument name for `hog`. It will be removed in version 1.0. Please use `channel_axis` instead.\n",
      "  fds, img_hog = hog(\n"
     ]
    },
    {
     "name": "stdout",
     "output_type": "stream",
     "text": [
      "Detection:: Location -> (300, 680)\n",
      "Scale ->  0 | Confidence Score 0.7489648708283393 \n",
      "\n",
      "Detection:: Location -> (320, 680)\n",
      "Scale ->  0 | Confidence Score 0.7122338760261877 \n",
      "\n"
     ]
    },
    {
     "name": "stderr",
     "output_type": "stream",
     "text": [
      "/tmp/ipykernel_62901/1983484597.py:49: FutureWarning: `multichannel` is a deprecated argument name for `hog`. It will be removed in version 1.0. Please use `channel_axis` instead.\n",
      "  fds, img_hog = hog(\n",
      "/tmp/ipykernel_62901/1983484597.py:49: FutureWarning: `multichannel` is a deprecated argument name for `hog`. It will be removed in version 1.0. Please use `channel_axis` instead.\n",
      "  fds, img_hog = hog(\n"
     ]
    },
    {
     "name": "stdout",
     "output_type": "stream",
     "text": [
      "Detection:: Location -> (340, 680)\n",
      "Scale ->  0 | Confidence Score 0.7140271114999943 \n",
      "\n",
      "Detection:: Location -> (360, 680)\n",
      "Scale ->  0 | Confidence Score 0.652863903773509 \n",
      "\n"
     ]
    },
    {
     "name": "stderr",
     "output_type": "stream",
     "text": [
      "/tmp/ipykernel_62901/1983484597.py:49: FutureWarning: `multichannel` is a deprecated argument name for `hog`. It will be removed in version 1.0. Please use `channel_axis` instead.\n",
      "  fds, img_hog = hog(\n",
      "/tmp/ipykernel_62901/1983484597.py:49: FutureWarning: `multichannel` is a deprecated argument name for `hog`. It will be removed in version 1.0. Please use `channel_axis` instead.\n",
      "  fds, img_hog = hog(\n"
     ]
    },
    {
     "name": "stdout",
     "output_type": "stream",
     "text": [
      "Detection:: Location -> (380, 680)\n",
      "Scale ->  0 | Confidence Score 0.6299155004741153 \n",
      "\n"
     ]
    },
    {
     "name": "stderr",
     "output_type": "stream",
     "text": [
      "/tmp/ipykernel_62901/1983484597.py:49: FutureWarning: `multichannel` is a deprecated argument name for `hog`. It will be removed in version 1.0. Please use `channel_axis` instead.\n",
      "  fds, img_hog = hog(\n",
      "/tmp/ipykernel_62901/1983484597.py:49: FutureWarning: `multichannel` is a deprecated argument name for `hog`. It will be removed in version 1.0. Please use `channel_axis` instead.\n",
      "  fds, img_hog = hog(\n"
     ]
    },
    {
     "name": "stdout",
     "output_type": "stream",
     "text": [
      "Detection:: Location -> (420, 680)\n",
      "Scale ->  0 | Confidence Score 0.6433018168915832 \n",
      "\n",
      "Detection:: Location -> (440, 680)\n",
      "Scale ->  0 | Confidence Score 0.6707399859241173 \n",
      "\n"
     ]
    },
    {
     "name": "stderr",
     "output_type": "stream",
     "text": [
      "/tmp/ipykernel_62901/1983484597.py:49: FutureWarning: `multichannel` is a deprecated argument name for `hog`. It will be removed in version 1.0. Please use `channel_axis` instead.\n",
      "  fds, img_hog = hog(\n",
      "/tmp/ipykernel_62901/1983484597.py:49: FutureWarning: `multichannel` is a deprecated argument name for `hog`. It will be removed in version 1.0. Please use `channel_axis` instead.\n",
      "  fds, img_hog = hog(\n"
     ]
    },
    {
     "name": "stdout",
     "output_type": "stream",
     "text": [
      "Detection:: Location -> (460, 680)\n",
      "Scale ->  0 | Confidence Score 0.6777833076206486 \n",
      "\n",
      "Detection:: Location -> (480, 680)\n",
      "Scale ->  0 | Confidence Score 0.6841679612283212 \n",
      "\n"
     ]
    },
    {
     "name": "stderr",
     "output_type": "stream",
     "text": [
      "/tmp/ipykernel_62901/1983484597.py:49: FutureWarning: `multichannel` is a deprecated argument name for `hog`. It will be removed in version 1.0. Please use `channel_axis` instead.\n",
      "  fds, img_hog = hog(\n",
      "/tmp/ipykernel_62901/1983484597.py:49: FutureWarning: `multichannel` is a deprecated argument name for `hog`. It will be removed in version 1.0. Please use `channel_axis` instead.\n",
      "  fds, img_hog = hog(\n"
     ]
    },
    {
     "name": "stdout",
     "output_type": "stream",
     "text": [
      "Detection:: Location -> (500, 680)\n",
      "Scale ->  0 | Confidence Score 0.7071111352338296 \n",
      "\n",
      "Detection:: Location -> (520, 680)\n",
      "Scale ->  0 | Confidence Score 0.6807474343203171 \n",
      "\n"
     ]
    },
    {
     "name": "stderr",
     "output_type": "stream",
     "text": [
      "/tmp/ipykernel_62901/1983484597.py:49: FutureWarning: `multichannel` is a deprecated argument name for `hog`. It will be removed in version 1.0. Please use `channel_axis` instead.\n",
      "  fds, img_hog = hog(\n",
      "/tmp/ipykernel_62901/1983484597.py:49: FutureWarning: `multichannel` is a deprecated argument name for `hog`. It will be removed in version 1.0. Please use `channel_axis` instead.\n",
      "  fds, img_hog = hog(\n"
     ]
    },
    {
     "name": "stdout",
     "output_type": "stream",
     "text": [
      "Detection:: Location -> (540, 680)\n",
      "Scale ->  0 | Confidence Score 0.6826734561346403 \n",
      "\n",
      "Detection:: Location -> (560, 680)\n",
      "Scale ->  0 | Confidence Score 0.6638843365980358 \n",
      "\n"
     ]
    },
    {
     "name": "stderr",
     "output_type": "stream",
     "text": [
      "/tmp/ipykernel_62901/1983484597.py:49: FutureWarning: `multichannel` is a deprecated argument name for `hog`. It will be removed in version 1.0. Please use `channel_axis` instead.\n",
      "  fds, img_hog = hog(\n",
      "/tmp/ipykernel_62901/1983484597.py:49: FutureWarning: `multichannel` is a deprecated argument name for `hog`. It will be removed in version 1.0. Please use `channel_axis` instead.\n",
      "  fds, img_hog = hog(\n"
     ]
    },
    {
     "name": "stdout",
     "output_type": "stream",
     "text": [
      "Detection:: Location -> (580, 680)\n",
      "Scale ->  0 | Confidence Score 0.6851995425515354 \n",
      "\n",
      "Detection:: Location -> (600, 680)\n",
      "Scale ->  0 | Confidence Score 0.6769992794336247 \n",
      "\n"
     ]
    },
    {
     "name": "stderr",
     "output_type": "stream",
     "text": [
      "/tmp/ipykernel_62901/1983484597.py:49: FutureWarning: `multichannel` is a deprecated argument name for `hog`. It will be removed in version 1.0. Please use `channel_axis` instead.\n",
      "  fds, img_hog = hog(\n",
      "/tmp/ipykernel_62901/1983484597.py:49: FutureWarning: `multichannel` is a deprecated argument name for `hog`. It will be removed in version 1.0. Please use `channel_axis` instead.\n",
      "  fds, img_hog = hog(\n"
     ]
    },
    {
     "name": "stdout",
     "output_type": "stream",
     "text": [
      "Detection:: Location -> (620, 680)\n",
      "Scale ->  0 | Confidence Score 0.7236600901874907 \n",
      "\n",
      "Detection:: Location -> (640, 680)\n",
      "Scale ->  0 | Confidence Score 0.7106741936642825 \n",
      "\n"
     ]
    },
    {
     "name": "stderr",
     "output_type": "stream",
     "text": [
      "/tmp/ipykernel_62901/1983484597.py:49: FutureWarning: `multichannel` is a deprecated argument name for `hog`. It will be removed in version 1.0. Please use `channel_axis` instead.\n",
      "  fds, img_hog = hog(\n",
      "/tmp/ipykernel_62901/1983484597.py:49: FutureWarning: `multichannel` is a deprecated argument name for `hog`. It will be removed in version 1.0. Please use `channel_axis` instead.\n",
      "  fds, img_hog = hog(\n"
     ]
    },
    {
     "name": "stdout",
     "output_type": "stream",
     "text": [
      "Detection:: Location -> (660, 680)\n",
      "Scale ->  0 | Confidence Score 0.7426304698997773 \n",
      "\n",
      "Detection:: Location -> (680, 680)\n",
      "Scale ->  0 | Confidence Score 0.7353549512784927 \n",
      "\n"
     ]
    },
    {
     "name": "stderr",
     "output_type": "stream",
     "text": [
      "/tmp/ipykernel_62901/1983484597.py:49: FutureWarning: `multichannel` is a deprecated argument name for `hog`. It will be removed in version 1.0. Please use `channel_axis` instead.\n",
      "  fds, img_hog = hog(\n",
      "/tmp/ipykernel_62901/1983484597.py:49: FutureWarning: `multichannel` is a deprecated argument name for `hog`. It will be removed in version 1.0. Please use `channel_axis` instead.\n",
      "  fds, img_hog = hog(\n"
     ]
    },
    {
     "name": "stdout",
     "output_type": "stream",
     "text": [
      "Detection:: Location -> (700, 680)\n",
      "Scale ->  0 | Confidence Score 0.7181318023476148 \n",
      "\n",
      "Detection:: Location -> (720, 680)\n",
      "Scale ->  0 | Confidence Score 0.6993215162244526 \n",
      "\n"
     ]
    },
    {
     "name": "stderr",
     "output_type": "stream",
     "text": [
      "/tmp/ipykernel_62901/1983484597.py:49: FutureWarning: `multichannel` is a deprecated argument name for `hog`. It will be removed in version 1.0. Please use `channel_axis` instead.\n",
      "  fds, img_hog = hog(\n",
      "/tmp/ipykernel_62901/1983484597.py:49: FutureWarning: `multichannel` is a deprecated argument name for `hog`. It will be removed in version 1.0. Please use `channel_axis` instead.\n",
      "  fds, img_hog = hog(\n"
     ]
    },
    {
     "name": "stdout",
     "output_type": "stream",
     "text": [
      "Detection:: Location -> (740, 680)\n",
      "Scale ->  0 | Confidence Score 0.7222754487830763 \n",
      "\n",
      "Detection:: Location -> (760, 680)\n",
      "Scale ->  0 | Confidence Score 0.7239368345548371 \n",
      "\n"
     ]
    },
    {
     "name": "stderr",
     "output_type": "stream",
     "text": [
      "/tmp/ipykernel_62901/1983484597.py:49: FutureWarning: `multichannel` is a deprecated argument name for `hog`. It will be removed in version 1.0. Please use `channel_axis` instead.\n",
      "  fds, img_hog = hog(\n",
      "/tmp/ipykernel_62901/1983484597.py:49: FutureWarning: `multichannel` is a deprecated argument name for `hog`. It will be removed in version 1.0. Please use `channel_axis` instead.\n",
      "  fds, img_hog = hog(\n"
     ]
    },
    {
     "name": "stdout",
     "output_type": "stream",
     "text": [
      "Detection:: Location -> (780, 680)\n",
      "Scale ->  0 | Confidence Score 0.7498981277261739 \n",
      "\n",
      "Detection:: Location -> (800, 680)\n",
      "Scale ->  0 | Confidence Score 0.6888752504737633 \n",
      "\n"
     ]
    },
    {
     "name": "stderr",
     "output_type": "stream",
     "text": [
      "/tmp/ipykernel_62901/1983484597.py:49: FutureWarning: `multichannel` is a deprecated argument name for `hog`. It will be removed in version 1.0. Please use `channel_axis` instead.\n",
      "  fds, img_hog = hog(\n",
      "/tmp/ipykernel_62901/1983484597.py:49: FutureWarning: `multichannel` is a deprecated argument name for `hog`. It will be removed in version 1.0. Please use `channel_axis` instead.\n",
      "  fds, img_hog = hog(\n"
     ]
    },
    {
     "name": "stdout",
     "output_type": "stream",
     "text": [
      "Detection:: Location -> (820, 680)\n",
      "Scale ->  0 | Confidence Score 0.7276320712419891 \n",
      "\n"
     ]
    },
    {
     "name": "stderr",
     "output_type": "stream",
     "text": [
      "/tmp/ipykernel_62901/1983484597.py:49: FutureWarning: `multichannel` is a deprecated argument name for `hog`. It will be removed in version 1.0. Please use `channel_axis` instead.\n",
      "  fds, img_hog = hog(\n",
      "/tmp/ipykernel_62901/1983484597.py:49: FutureWarning: `multichannel` is a deprecated argument name for `hog`. It will be removed in version 1.0. Please use `channel_axis` instead.\n",
      "  fds, img_hog = hog(\n",
      "/tmp/ipykernel_62901/1983484597.py:49: FutureWarning: `multichannel` is a deprecated argument name for `hog`. It will be removed in version 1.0. Please use `channel_axis` instead.\n",
      "  fds, img_hog = hog(\n",
      "/tmp/ipykernel_62901/1983484597.py:49: FutureWarning: `multichannel` is a deprecated argument name for `hog`. It will be removed in version 1.0. Please use `channel_axis` instead.\n",
      "  fds, img_hog = hog(\n",
      "/tmp/ipykernel_62901/1983484597.py:49: FutureWarning: `multichannel` is a deprecated argument name for `hog`. It will be removed in version 1.0. Please use `channel_axis` instead.\n",
      "  fds, img_hog = hog(\n",
      "/tmp/ipykernel_62901/1983484597.py:49: FutureWarning: `multichannel` is a deprecated argument name for `hog`. It will be removed in version 1.0. Please use `channel_axis` instead.\n",
      "  fds, img_hog = hog(\n",
      "/tmp/ipykernel_62901/1983484597.py:49: FutureWarning: `multichannel` is a deprecated argument name for `hog`. It will be removed in version 1.0. Please use `channel_axis` instead.\n",
      "  fds, img_hog = hog(\n",
      "/tmp/ipykernel_62901/1983484597.py:49: FutureWarning: `multichannel` is a deprecated argument name for `hog`. It will be removed in version 1.0. Please use `channel_axis` instead.\n",
      "  fds, img_hog = hog(\n",
      "/tmp/ipykernel_62901/1983484597.py:49: FutureWarning: `multichannel` is a deprecated argument name for `hog`. It will be removed in version 1.0. Please use `channel_axis` instead.\n",
      "  fds, img_hog = hog(\n",
      "/tmp/ipykernel_62901/1983484597.py:49: FutureWarning: `multichannel` is a deprecated argument name for `hog`. It will be removed in version 1.0. Please use `channel_axis` instead.\n",
      "  fds, img_hog = hog(\n",
      "/tmp/ipykernel_62901/1983484597.py:49: FutureWarning: `multichannel` is a deprecated argument name for `hog`. It will be removed in version 1.0. Please use `channel_axis` instead.\n",
      "  fds, img_hog = hog(\n"
     ]
    },
    {
     "name": "stdout",
     "output_type": "stream",
     "text": [
      "Detection:: Location -> (100, 700)\n",
      "Scale ->  0 | Confidence Score 0.6552916639463326 \n",
      "\n",
      "Detection:: Location -> (120, 700)\n",
      "Scale ->  0 | Confidence Score 0.6477301613402379 \n",
      "\n"
     ]
    },
    {
     "name": "stderr",
     "output_type": "stream",
     "text": [
      "/tmp/ipykernel_62901/1983484597.py:49: FutureWarning: `multichannel` is a deprecated argument name for `hog`. It will be removed in version 1.0. Please use `channel_axis` instead.\n",
      "  fds, img_hog = hog(\n",
      "/tmp/ipykernel_62901/1983484597.py:49: FutureWarning: `multichannel` is a deprecated argument name for `hog`. It will be removed in version 1.0. Please use `channel_axis` instead.\n",
      "  fds, img_hog = hog(\n"
     ]
    },
    {
     "name": "stdout",
     "output_type": "stream",
     "text": [
      "Detection:: Location -> (140, 700)\n",
      "Scale ->  0 | Confidence Score 0.6982311557650797 \n",
      "\n",
      "Detection:: Location -> (160, 700)\n",
      "Scale ->  0 | Confidence Score 0.7425835144561538 \n",
      "\n"
     ]
    },
    {
     "name": "stderr",
     "output_type": "stream",
     "text": [
      "/tmp/ipykernel_62901/1983484597.py:49: FutureWarning: `multichannel` is a deprecated argument name for `hog`. It will be removed in version 1.0. Please use `channel_axis` instead.\n",
      "  fds, img_hog = hog(\n",
      "/tmp/ipykernel_62901/1983484597.py:49: FutureWarning: `multichannel` is a deprecated argument name for `hog`. It will be removed in version 1.0. Please use `channel_axis` instead.\n",
      "  fds, img_hog = hog(\n"
     ]
    },
    {
     "name": "stdout",
     "output_type": "stream",
     "text": [
      "Detection:: Location -> (180, 700)\n",
      "Scale ->  0 | Confidence Score 0.7710648603919247 \n",
      "\n",
      "Detection:: Location -> (200, 700)\n",
      "Scale ->  0 | Confidence Score 0.7093708853993247 \n",
      "\n"
     ]
    },
    {
     "name": "stderr",
     "output_type": "stream",
     "text": [
      "/tmp/ipykernel_62901/1983484597.py:49: FutureWarning: `multichannel` is a deprecated argument name for `hog`. It will be removed in version 1.0. Please use `channel_axis` instead.\n",
      "  fds, img_hog = hog(\n",
      "/tmp/ipykernel_62901/1983484597.py:49: FutureWarning: `multichannel` is a deprecated argument name for `hog`. It will be removed in version 1.0. Please use `channel_axis` instead.\n",
      "  fds, img_hog = hog(\n"
     ]
    },
    {
     "name": "stdout",
     "output_type": "stream",
     "text": [
      "Detection:: Location -> (220, 700)\n",
      "Scale ->  0 | Confidence Score 0.7430968313711231 \n",
      "\n",
      "Detection:: Location -> (240, 700)\n",
      "Scale ->  0 | Confidence Score 0.6831962416218084 \n",
      "\n"
     ]
    },
    {
     "name": "stderr",
     "output_type": "stream",
     "text": [
      "/tmp/ipykernel_62901/1983484597.py:49: FutureWarning: `multichannel` is a deprecated argument name for `hog`. It will be removed in version 1.0. Please use `channel_axis` instead.\n",
      "  fds, img_hog = hog(\n",
      "/tmp/ipykernel_62901/1983484597.py:49: FutureWarning: `multichannel` is a deprecated argument name for `hog`. It will be removed in version 1.0. Please use `channel_axis` instead.\n",
      "  fds, img_hog = hog(\n"
     ]
    },
    {
     "name": "stdout",
     "output_type": "stream",
     "text": [
      "Detection:: Location -> (260, 700)\n",
      "Scale ->  0 | Confidence Score 0.7025811390488035 \n",
      "\n",
      "Detection:: Location -> (280, 700)\n",
      "Scale ->  0 | Confidence Score 0.7390517613956916 \n",
      "\n"
     ]
    },
    {
     "name": "stderr",
     "output_type": "stream",
     "text": [
      "/tmp/ipykernel_62901/1983484597.py:49: FutureWarning: `multichannel` is a deprecated argument name for `hog`. It will be removed in version 1.0. Please use `channel_axis` instead.\n",
      "  fds, img_hog = hog(\n",
      "/tmp/ipykernel_62901/1983484597.py:49: FutureWarning: `multichannel` is a deprecated argument name for `hog`. It will be removed in version 1.0. Please use `channel_axis` instead.\n",
      "  fds, img_hog = hog(\n"
     ]
    },
    {
     "name": "stdout",
     "output_type": "stream",
     "text": [
      "Detection:: Location -> (300, 700)\n",
      "Scale ->  0 | Confidence Score 0.6951225352633668 \n",
      "\n",
      "Detection:: Location -> (320, 700)\n",
      "Scale ->  0 | Confidence Score 0.7730020960224366 \n",
      "\n"
     ]
    },
    {
     "name": "stderr",
     "output_type": "stream",
     "text": [
      "/tmp/ipykernel_62901/1983484597.py:49: FutureWarning: `multichannel` is a deprecated argument name for `hog`. It will be removed in version 1.0. Please use `channel_axis` instead.\n",
      "  fds, img_hog = hog(\n",
      "/tmp/ipykernel_62901/1983484597.py:49: FutureWarning: `multichannel` is a deprecated argument name for `hog`. It will be removed in version 1.0. Please use `channel_axis` instead.\n",
      "  fds, img_hog = hog(\n"
     ]
    },
    {
     "name": "stdout",
     "output_type": "stream",
     "text": [
      "Detection:: Location -> (340, 700)\n",
      "Scale ->  0 | Confidence Score 0.7529079735481834 \n",
      "\n",
      "Detection:: Location -> (360, 700)\n",
      "Scale ->  0 | Confidence Score 0.7021496187782253 \n",
      "\n"
     ]
    },
    {
     "name": "stderr",
     "output_type": "stream",
     "text": [
      "/tmp/ipykernel_62901/1983484597.py:49: FutureWarning: `multichannel` is a deprecated argument name for `hog`. It will be removed in version 1.0. Please use `channel_axis` instead.\n",
      "  fds, img_hog = hog(\n",
      "/tmp/ipykernel_62901/1983484597.py:49: FutureWarning: `multichannel` is a deprecated argument name for `hog`. It will be removed in version 1.0. Please use `channel_axis` instead.\n",
      "  fds, img_hog = hog(\n"
     ]
    },
    {
     "name": "stdout",
     "output_type": "stream",
     "text": [
      "Detection:: Location -> (380, 700)\n",
      "Scale ->  0 | Confidence Score 0.6624222959216355 \n",
      "\n",
      "Detection:: Location -> (400, 700)\n",
      "Scale ->  0 | Confidence Score 0.651175159977539 \n",
      "\n"
     ]
    },
    {
     "name": "stderr",
     "output_type": "stream",
     "text": [
      "/tmp/ipykernel_62901/1983484597.py:49: FutureWarning: `multichannel` is a deprecated argument name for `hog`. It will be removed in version 1.0. Please use `channel_axis` instead.\n",
      "  fds, img_hog = hog(\n",
      "/tmp/ipykernel_62901/1983484597.py:49: FutureWarning: `multichannel` is a deprecated argument name for `hog`. It will be removed in version 1.0. Please use `channel_axis` instead.\n",
      "  fds, img_hog = hog(\n"
     ]
    },
    {
     "name": "stdout",
     "output_type": "stream",
     "text": [
      "Detection:: Location -> (420, 700)\n",
      "Scale ->  0 | Confidence Score 0.6661296839592079 \n",
      "\n",
      "Detection:: Location -> (440, 700)\n",
      "Scale ->  0 | Confidence Score 0.6657686486971072 \n",
      "\n"
     ]
    },
    {
     "name": "stderr",
     "output_type": "stream",
     "text": [
      "/tmp/ipykernel_62901/1983484597.py:49: FutureWarning: `multichannel` is a deprecated argument name for `hog`. It will be removed in version 1.0. Please use `channel_axis` instead.\n",
      "  fds, img_hog = hog(\n",
      "/tmp/ipykernel_62901/1983484597.py:49: FutureWarning: `multichannel` is a deprecated argument name for `hog`. It will be removed in version 1.0. Please use `channel_axis` instead.\n",
      "  fds, img_hog = hog(\n"
     ]
    },
    {
     "name": "stdout",
     "output_type": "stream",
     "text": [
      "Detection:: Location -> (460, 700)\n",
      "Scale ->  0 | Confidence Score 0.667465567143979 \n",
      "\n",
      "Detection:: Location -> (480, 700)\n",
      "Scale ->  0 | Confidence Score 0.63790104868088 \n",
      "\n"
     ]
    },
    {
     "name": "stderr",
     "output_type": "stream",
     "text": [
      "/tmp/ipykernel_62901/1983484597.py:49: FutureWarning: `multichannel` is a deprecated argument name for `hog`. It will be removed in version 1.0. Please use `channel_axis` instead.\n",
      "  fds, img_hog = hog(\n",
      "/tmp/ipykernel_62901/1983484597.py:49: FutureWarning: `multichannel` is a deprecated argument name for `hog`. It will be removed in version 1.0. Please use `channel_axis` instead.\n",
      "  fds, img_hog = hog(\n"
     ]
    },
    {
     "name": "stdout",
     "output_type": "stream",
     "text": [
      "Detection:: Location -> (500, 700)\n",
      "Scale ->  0 | Confidence Score 0.6998790286832469 \n",
      "\n",
      "Detection:: Location -> (520, 700)\n",
      "Scale ->  0 | Confidence Score 0.6647288244379641 \n",
      "\n"
     ]
    },
    {
     "name": "stderr",
     "output_type": "stream",
     "text": [
      "/tmp/ipykernel_62901/1983484597.py:49: FutureWarning: `multichannel` is a deprecated argument name for `hog`. It will be removed in version 1.0. Please use `channel_axis` instead.\n",
      "  fds, img_hog = hog(\n",
      "/tmp/ipykernel_62901/1983484597.py:49: FutureWarning: `multichannel` is a deprecated argument name for `hog`. It will be removed in version 1.0. Please use `channel_axis` instead.\n",
      "  fds, img_hog = hog(\n"
     ]
    },
    {
     "name": "stdout",
     "output_type": "stream",
     "text": [
      "Detection:: Location -> (540, 700)\n",
      "Scale ->  0 | Confidence Score 0.6931911585374709 \n",
      "\n"
     ]
    },
    {
     "name": "stderr",
     "output_type": "stream",
     "text": [
      "/tmp/ipykernel_62901/1983484597.py:49: FutureWarning: `multichannel` is a deprecated argument name for `hog`. It will be removed in version 1.0. Please use `channel_axis` instead.\n",
      "  fds, img_hog = hog(\n"
     ]
    },
    {
     "name": "stdout",
     "output_type": "stream",
     "text": [
      "Detection:: Location -> (560, 700)\n",
      "Scale ->  0 | Confidence Score 0.667741262303159 \n",
      "\n"
     ]
    },
    {
     "name": "stderr",
     "output_type": "stream",
     "text": [
      "/tmp/ipykernel_62901/1983484597.py:49: FutureWarning: `multichannel` is a deprecated argument name for `hog`. It will be removed in version 1.0. Please use `channel_axis` instead.\n",
      "  fds, img_hog = hog(\n"
     ]
    },
    {
     "name": "stdout",
     "output_type": "stream",
     "text": [
      "Detection:: Location -> (580, 700)\n",
      "Scale ->  0 | Confidence Score 0.6410361884236643 \n",
      "\n",
      "Detection:: Location -> (600, 700)\n",
      "Scale ->  0 | Confidence Score 0.7000160377340757 \n",
      "\n"
     ]
    },
    {
     "name": "stderr",
     "output_type": "stream",
     "text": [
      "/tmp/ipykernel_62901/1983484597.py:49: FutureWarning: `multichannel` is a deprecated argument name for `hog`. It will be removed in version 1.0. Please use `channel_axis` instead.\n",
      "  fds, img_hog = hog(\n",
      "/tmp/ipykernel_62901/1983484597.py:49: FutureWarning: `multichannel` is a deprecated argument name for `hog`. It will be removed in version 1.0. Please use `channel_axis` instead.\n",
      "  fds, img_hog = hog(\n"
     ]
    },
    {
     "name": "stdout",
     "output_type": "stream",
     "text": [
      "Detection:: Location -> (620, 700)\n",
      "Scale ->  0 | Confidence Score 0.674975000226858 \n",
      "\n",
      "Detection:: Location -> (640, 700)\n",
      "Scale ->  0 | Confidence Score 0.6497411783493869 \n",
      "\n"
     ]
    },
    {
     "name": "stderr",
     "output_type": "stream",
     "text": [
      "/tmp/ipykernel_62901/1983484597.py:49: FutureWarning: `multichannel` is a deprecated argument name for `hog`. It will be removed in version 1.0. Please use `channel_axis` instead.\n",
      "  fds, img_hog = hog(\n",
      "/tmp/ipykernel_62901/1983484597.py:49: FutureWarning: `multichannel` is a deprecated argument name for `hog`. It will be removed in version 1.0. Please use `channel_axis` instead.\n",
      "  fds, img_hog = hog(\n"
     ]
    },
    {
     "name": "stdout",
     "output_type": "stream",
     "text": [
      "Detection:: Location -> (660, 700)\n",
      "Scale ->  0 | Confidence Score 0.7063491319780827 \n",
      "\n",
      "Detection:: Location -> (680, 700)\n",
      "Scale ->  0 | Confidence Score 0.6848571061771378 \n",
      "\n"
     ]
    },
    {
     "name": "stderr",
     "output_type": "stream",
     "text": [
      "/tmp/ipykernel_62901/1983484597.py:49: FutureWarning: `multichannel` is a deprecated argument name for `hog`. It will be removed in version 1.0. Please use `channel_axis` instead.\n",
      "  fds, img_hog = hog(\n",
      "/tmp/ipykernel_62901/1983484597.py:49: FutureWarning: `multichannel` is a deprecated argument name for `hog`. It will be removed in version 1.0. Please use `channel_axis` instead.\n",
      "  fds, img_hog = hog(\n"
     ]
    },
    {
     "name": "stdout",
     "output_type": "stream",
     "text": [
      "Detection:: Location -> (700, 700)\n",
      "Scale ->  0 | Confidence Score 0.7385672724354431 \n",
      "\n",
      "Detection:: Location -> (720, 700)\n",
      "Scale ->  0 | Confidence Score 0.7390593440662588 \n",
      "\n"
     ]
    },
    {
     "name": "stderr",
     "output_type": "stream",
     "text": [
      "/tmp/ipykernel_62901/1983484597.py:49: FutureWarning: `multichannel` is a deprecated argument name for `hog`. It will be removed in version 1.0. Please use `channel_axis` instead.\n",
      "  fds, img_hog = hog(\n",
      "/tmp/ipykernel_62901/1983484597.py:49: FutureWarning: `multichannel` is a deprecated argument name for `hog`. It will be removed in version 1.0. Please use `channel_axis` instead.\n",
      "  fds, img_hog = hog(\n"
     ]
    },
    {
     "name": "stdout",
     "output_type": "stream",
     "text": [
      "Detection:: Location -> (740, 700)\n",
      "Scale ->  0 | Confidence Score 0.7176657266700261 \n",
      "\n",
      "Detection:: Location -> (760, 700)\n",
      "Scale ->  0 | Confidence Score 0.7365369393446423 \n",
      "\n"
     ]
    },
    {
     "name": "stderr",
     "output_type": "stream",
     "text": [
      "/tmp/ipykernel_62901/1983484597.py:49: FutureWarning: `multichannel` is a deprecated argument name for `hog`. It will be removed in version 1.0. Please use `channel_axis` instead.\n",
      "  fds, img_hog = hog(\n",
      "/tmp/ipykernel_62901/1983484597.py:49: FutureWarning: `multichannel` is a deprecated argument name for `hog`. It will be removed in version 1.0. Please use `channel_axis` instead.\n",
      "  fds, img_hog = hog(\n"
     ]
    },
    {
     "name": "stdout",
     "output_type": "stream",
     "text": [
      "Detection:: Location -> (780, 700)\n",
      "Scale ->  0 | Confidence Score 0.7294898316560888 \n",
      "\n",
      "Detection:: Location -> (800, 700)\n",
      "Scale ->  0 | Confidence Score 0.6744438490273108 \n",
      "\n"
     ]
    },
    {
     "name": "stderr",
     "output_type": "stream",
     "text": [
      "/tmp/ipykernel_62901/1983484597.py:49: FutureWarning: `multichannel` is a deprecated argument name for `hog`. It will be removed in version 1.0. Please use `channel_axis` instead.\n",
      "  fds, img_hog = hog(\n",
      "/tmp/ipykernel_62901/1983484597.py:49: FutureWarning: `multichannel` is a deprecated argument name for `hog`. It will be removed in version 1.0. Please use `channel_axis` instead.\n",
      "  fds, img_hog = hog(\n"
     ]
    },
    {
     "name": "stdout",
     "output_type": "stream",
     "text": [
      "Detection:: Location -> (820, 700)\n",
      "Scale ->  0 | Confidence Score 0.706375705113154 \n",
      "\n"
     ]
    },
    {
     "name": "stderr",
     "output_type": "stream",
     "text": [
      "/tmp/ipykernel_62901/1983484597.py:49: FutureWarning: `multichannel` is a deprecated argument name for `hog`. It will be removed in version 1.0. Please use `channel_axis` instead.\n",
      "  fds, img_hog = hog(\n",
      "/tmp/ipykernel_62901/1983484597.py:49: FutureWarning: `multichannel` is a deprecated argument name for `hog`. It will be removed in version 1.0. Please use `channel_axis` instead.\n",
      "  fds, img_hog = hog(\n",
      "/tmp/ipykernel_62901/1983484597.py:49: FutureWarning: `multichannel` is a deprecated argument name for `hog`. It will be removed in version 1.0. Please use `channel_axis` instead.\n",
      "  fds, img_hog = hog(\n",
      "/tmp/ipykernel_62901/1983484597.py:49: FutureWarning: `multichannel` is a deprecated argument name for `hog`. It will be removed in version 1.0. Please use `channel_axis` instead.\n",
      "  fds, img_hog = hog(\n",
      "/tmp/ipykernel_62901/1983484597.py:49: FutureWarning: `multichannel` is a deprecated argument name for `hog`. It will be removed in version 1.0. Please use `channel_axis` instead.\n",
      "  fds, img_hog = hog(\n",
      "/tmp/ipykernel_62901/1983484597.py:49: FutureWarning: `multichannel` is a deprecated argument name for `hog`. It will be removed in version 1.0. Please use `channel_axis` instead.\n",
      "  fds, img_hog = hog(\n",
      "/tmp/ipykernel_62901/1983484597.py:49: FutureWarning: `multichannel` is a deprecated argument name for `hog`. It will be removed in version 1.0. Please use `channel_axis` instead.\n",
      "  fds, img_hog = hog(\n",
      "/tmp/ipykernel_62901/1983484597.py:49: FutureWarning: `multichannel` is a deprecated argument name for `hog`. It will be removed in version 1.0. Please use `channel_axis` instead.\n",
      "  fds, img_hog = hog(\n",
      "/tmp/ipykernel_62901/1983484597.py:49: FutureWarning: `multichannel` is a deprecated argument name for `hog`. It will be removed in version 1.0. Please use `channel_axis` instead.\n",
      "  fds, img_hog = hog(\n",
      "/tmp/ipykernel_62901/1983484597.py:49: FutureWarning: `multichannel` is a deprecated argument name for `hog`. It will be removed in version 1.0. Please use `channel_axis` instead.\n",
      "  fds, img_hog = hog(\n",
      "/tmp/ipykernel_62901/1983484597.py:49: FutureWarning: `multichannel` is a deprecated argument name for `hog`. It will be removed in version 1.0. Please use `channel_axis` instead.\n",
      "  fds, img_hog = hog(\n"
     ]
    },
    {
     "name": "stdout",
     "output_type": "stream",
     "text": [
      "Detection:: Location -> (100, 720)\n",
      "Scale ->  0 | Confidence Score 0.6148179330497141 \n",
      "\n",
      "Detection:: Location -> (120, 720)\n",
      "Scale ->  0 | Confidence Score 0.6399832850387236 \n",
      "\n"
     ]
    },
    {
     "name": "stderr",
     "output_type": "stream",
     "text": [
      "/tmp/ipykernel_62901/1983484597.py:49: FutureWarning: `multichannel` is a deprecated argument name for `hog`. It will be removed in version 1.0. Please use `channel_axis` instead.\n",
      "  fds, img_hog = hog(\n",
      "/tmp/ipykernel_62901/1983484597.py:49: FutureWarning: `multichannel` is a deprecated argument name for `hog`. It will be removed in version 1.0. Please use `channel_axis` instead.\n",
      "  fds, img_hog = hog(\n"
     ]
    },
    {
     "name": "stdout",
     "output_type": "stream",
     "text": [
      "Detection:: Location -> (140, 720)\n",
      "Scale ->  0 | Confidence Score 0.6979296115784508 \n",
      "\n",
      "Detection:: Location -> (160, 720)\n",
      "Scale ->  0 | Confidence Score 0.6234242746433158 \n",
      "\n"
     ]
    },
    {
     "name": "stderr",
     "output_type": "stream",
     "text": [
      "/tmp/ipykernel_62901/1983484597.py:49: FutureWarning: `multichannel` is a deprecated argument name for `hog`. It will be removed in version 1.0. Please use `channel_axis` instead.\n",
      "  fds, img_hog = hog(\n",
      "/tmp/ipykernel_62901/1983484597.py:49: FutureWarning: `multichannel` is a deprecated argument name for `hog`. It will be removed in version 1.0. Please use `channel_axis` instead.\n",
      "  fds, img_hog = hog(\n"
     ]
    },
    {
     "name": "stdout",
     "output_type": "stream",
     "text": [
      "Detection:: Location -> (180, 720)\n",
      "Scale ->  0 | Confidence Score 0.6977736033132461 \n",
      "\n",
      "Detection:: Location -> (200, 720)\n",
      "Scale ->  0 | Confidence Score 0.6476824914806291 \n",
      "\n"
     ]
    },
    {
     "name": "stderr",
     "output_type": "stream",
     "text": [
      "/tmp/ipykernel_62901/1983484597.py:49: FutureWarning: `multichannel` is a deprecated argument name for `hog`. It will be removed in version 1.0. Please use `channel_axis` instead.\n",
      "  fds, img_hog = hog(\n",
      "/tmp/ipykernel_62901/1983484597.py:49: FutureWarning: `multichannel` is a deprecated argument name for `hog`. It will be removed in version 1.0. Please use `channel_axis` instead.\n",
      "  fds, img_hog = hog(\n"
     ]
    },
    {
     "name": "stdout",
     "output_type": "stream",
     "text": [
      "Detection:: Location -> (220, 720)\n",
      "Scale ->  0 | Confidence Score 0.7454422518713832 \n",
      "\n",
      "Detection:: Location -> (240, 720)\n",
      "Scale ->  0 | Confidence Score 0.734564757991599 \n",
      "\n"
     ]
    },
    {
     "name": "stderr",
     "output_type": "stream",
     "text": [
      "/tmp/ipykernel_62901/1983484597.py:49: FutureWarning: `multichannel` is a deprecated argument name for `hog`. It will be removed in version 1.0. Please use `channel_axis` instead.\n",
      "  fds, img_hog = hog(\n",
      "/tmp/ipykernel_62901/1983484597.py:49: FutureWarning: `multichannel` is a deprecated argument name for `hog`. It will be removed in version 1.0. Please use `channel_axis` instead.\n",
      "  fds, img_hog = hog(\n"
     ]
    },
    {
     "name": "stdout",
     "output_type": "stream",
     "text": [
      "Detection:: Location -> (260, 720)\n",
      "Scale ->  0 | Confidence Score 0.7117303242372175 \n",
      "\n",
      "Detection:: Location -> (280, 720)\n",
      "Scale ->  0 | Confidence Score 0.6852582410470043 \n",
      "\n"
     ]
    },
    {
     "name": "stderr",
     "output_type": "stream",
     "text": [
      "/tmp/ipykernel_62901/1983484597.py:49: FutureWarning: `multichannel` is a deprecated argument name for `hog`. It will be removed in version 1.0. Please use `channel_axis` instead.\n",
      "  fds, img_hog = hog(\n",
      "/tmp/ipykernel_62901/1983484597.py:49: FutureWarning: `multichannel` is a deprecated argument name for `hog`. It will be removed in version 1.0. Please use `channel_axis` instead.\n",
      "  fds, img_hog = hog(\n"
     ]
    },
    {
     "name": "stdout",
     "output_type": "stream",
     "text": [
      "Detection:: Location -> (300, 720)\n",
      "Scale ->  0 | Confidence Score 0.6891380154410233 \n",
      "\n",
      "Detection:: Location -> (320, 720)\n",
      "Scale ->  0 | Confidence Score 0.6988965159201862 \n",
      "\n"
     ]
    },
    {
     "name": "stderr",
     "output_type": "stream",
     "text": [
      "/tmp/ipykernel_62901/1983484597.py:49: FutureWarning: `multichannel` is a deprecated argument name for `hog`. It will be removed in version 1.0. Please use `channel_axis` instead.\n",
      "  fds, img_hog = hog(\n",
      "/tmp/ipykernel_62901/1983484597.py:49: FutureWarning: `multichannel` is a deprecated argument name for `hog`. It will be removed in version 1.0. Please use `channel_axis` instead.\n",
      "  fds, img_hog = hog(\n"
     ]
    },
    {
     "name": "stdout",
     "output_type": "stream",
     "text": [
      "Detection:: Location -> (340, 720)\n",
      "Scale ->  0 | Confidence Score 0.7370304545847264 \n",
      "\n"
     ]
    },
    {
     "name": "stderr",
     "output_type": "stream",
     "text": [
      "/tmp/ipykernel_62901/1983484597.py:49: FutureWarning: `multichannel` is a deprecated argument name for `hog`. It will be removed in version 1.0. Please use `channel_axis` instead.\n",
      "  fds, img_hog = hog(\n"
     ]
    },
    {
     "name": "stdout",
     "output_type": "stream",
     "text": [
      "Detection:: Location -> (360, 720)\n",
      "Scale ->  0 | Confidence Score 0.6689841166829363 \n",
      "\n"
     ]
    },
    {
     "name": "stderr",
     "output_type": "stream",
     "text": [
      "/tmp/ipykernel_62901/1983484597.py:49: FutureWarning: `multichannel` is a deprecated argument name for `hog`. It will be removed in version 1.0. Please use `channel_axis` instead.\n",
      "  fds, img_hog = hog(\n"
     ]
    },
    {
     "name": "stdout",
     "output_type": "stream",
     "text": [
      "Detection:: Location -> (380, 720)\n",
      "Scale ->  0 | Confidence Score 0.6855502454907348 \n",
      "\n",
      "Detection:: Location -> (400, 720)\n",
      "Scale ->  0 | Confidence Score 0.7096062660639847 \n",
      "\n"
     ]
    },
    {
     "name": "stderr",
     "output_type": "stream",
     "text": [
      "/tmp/ipykernel_62901/1983484597.py:49: FutureWarning: `multichannel` is a deprecated argument name for `hog`. It will be removed in version 1.0. Please use `channel_axis` instead.\n",
      "  fds, img_hog = hog(\n",
      "/tmp/ipykernel_62901/1983484597.py:49: FutureWarning: `multichannel` is a deprecated argument name for `hog`. It will be removed in version 1.0. Please use `channel_axis` instead.\n",
      "  fds, img_hog = hog(\n"
     ]
    },
    {
     "name": "stdout",
     "output_type": "stream",
     "text": [
      "Detection:: Location -> (420, 720)\n",
      "Scale ->  0 | Confidence Score 0.689509245225923 \n",
      "\n",
      "Detection:: Location -> (440, 720)\n",
      "Scale ->  0 | Confidence Score 0.7291799260728568 \n",
      "\n"
     ]
    },
    {
     "name": "stderr",
     "output_type": "stream",
     "text": [
      "/tmp/ipykernel_62901/1983484597.py:49: FutureWarning: `multichannel` is a deprecated argument name for `hog`. It will be removed in version 1.0. Please use `channel_axis` instead.\n",
      "  fds, img_hog = hog(\n",
      "/tmp/ipykernel_62901/1983484597.py:49: FutureWarning: `multichannel` is a deprecated argument name for `hog`. It will be removed in version 1.0. Please use `channel_axis` instead.\n",
      "  fds, img_hog = hog(\n"
     ]
    },
    {
     "name": "stdout",
     "output_type": "stream",
     "text": [
      "Detection:: Location -> (460, 720)\n",
      "Scale ->  0 | Confidence Score 0.6658750013565263 \n",
      "\n",
      "Detection:: Location -> (480, 720)\n",
      "Scale ->  0 | Confidence Score 0.6679283333379439 \n",
      "\n"
     ]
    },
    {
     "name": "stderr",
     "output_type": "stream",
     "text": [
      "/tmp/ipykernel_62901/1983484597.py:49: FutureWarning: `multichannel` is a deprecated argument name for `hog`. It will be removed in version 1.0. Please use `channel_axis` instead.\n",
      "  fds, img_hog = hog(\n",
      "/tmp/ipykernel_62901/1983484597.py:49: FutureWarning: `multichannel` is a deprecated argument name for `hog`. It will be removed in version 1.0. Please use `channel_axis` instead.\n",
      "  fds, img_hog = hog(\n"
     ]
    },
    {
     "name": "stdout",
     "output_type": "stream",
     "text": [
      "Detection:: Location -> (500, 720)\n",
      "Scale ->  0 | Confidence Score 0.6854192728232583 \n",
      "\n",
      "Detection:: Location -> (520, 720)\n",
      "Scale ->  0 | Confidence Score 0.6672241789319894 \n",
      "\n"
     ]
    },
    {
     "name": "stderr",
     "output_type": "stream",
     "text": [
      "/tmp/ipykernel_62901/1983484597.py:49: FutureWarning: `multichannel` is a deprecated argument name for `hog`. It will be removed in version 1.0. Please use `channel_axis` instead.\n",
      "  fds, img_hog = hog(\n",
      "/tmp/ipykernel_62901/1983484597.py:49: FutureWarning: `multichannel` is a deprecated argument name for `hog`. It will be removed in version 1.0. Please use `channel_axis` instead.\n",
      "  fds, img_hog = hog(\n"
     ]
    },
    {
     "name": "stdout",
     "output_type": "stream",
     "text": [
      "Detection:: Location -> (540, 720)\n",
      "Scale ->  0 | Confidence Score 0.6413222733888776 \n",
      "\n",
      "Detection:: Location -> (560, 720)\n",
      "Scale ->  0 | Confidence Score 0.6016845091082962 \n",
      "\n"
     ]
    },
    {
     "name": "stderr",
     "output_type": "stream",
     "text": [
      "/tmp/ipykernel_62901/1983484597.py:49: FutureWarning: `multichannel` is a deprecated argument name for `hog`. It will be removed in version 1.0. Please use `channel_axis` instead.\n",
      "  fds, img_hog = hog(\n",
      "/tmp/ipykernel_62901/1983484597.py:49: FutureWarning: `multichannel` is a deprecated argument name for `hog`. It will be removed in version 1.0. Please use `channel_axis` instead.\n",
      "  fds, img_hog = hog(\n"
     ]
    },
    {
     "name": "stdout",
     "output_type": "stream",
     "text": [
      "Detection:: Location -> (580, 720)\n",
      "Scale ->  0 | Confidence Score 0.6487322850719316 \n",
      "\n",
      "Detection:: Location -> (600, 720)\n",
      "Scale ->  0 | Confidence Score 0.6562320438908597 \n",
      "\n"
     ]
    },
    {
     "name": "stderr",
     "output_type": "stream",
     "text": [
      "/tmp/ipykernel_62901/1983484597.py:49: FutureWarning: `multichannel` is a deprecated argument name for `hog`. It will be removed in version 1.0. Please use `channel_axis` instead.\n",
      "  fds, img_hog = hog(\n",
      "/tmp/ipykernel_62901/1983484597.py:49: FutureWarning: `multichannel` is a deprecated argument name for `hog`. It will be removed in version 1.0. Please use `channel_axis` instead.\n",
      "  fds, img_hog = hog(\n"
     ]
    },
    {
     "name": "stdout",
     "output_type": "stream",
     "text": [
      "Detection:: Location -> (620, 720)\n",
      "Scale ->  0 | Confidence Score 0.6802963482427988 \n",
      "\n",
      "Detection:: Location -> (640, 720)\n",
      "Scale ->  0 | Confidence Score 0.6771557636235996 \n",
      "\n"
     ]
    },
    {
     "name": "stderr",
     "output_type": "stream",
     "text": [
      "/tmp/ipykernel_62901/1983484597.py:49: FutureWarning: `multichannel` is a deprecated argument name for `hog`. It will be removed in version 1.0. Please use `channel_axis` instead.\n",
      "  fds, img_hog = hog(\n",
      "/tmp/ipykernel_62901/1983484597.py:49: FutureWarning: `multichannel` is a deprecated argument name for `hog`. It will be removed in version 1.0. Please use `channel_axis` instead.\n",
      "  fds, img_hog = hog(\n"
     ]
    },
    {
     "name": "stdout",
     "output_type": "stream",
     "text": [
      "Detection:: Location -> (660, 720)\n",
      "Scale ->  0 | Confidence Score 0.7266800150299922 \n",
      "\n",
      "Detection:: Location -> (680, 720)\n",
      "Scale ->  0 | Confidence Score 0.6809522860987489 \n",
      "\n"
     ]
    },
    {
     "name": "stderr",
     "output_type": "stream",
     "text": [
      "/tmp/ipykernel_62901/1983484597.py:49: FutureWarning: `multichannel` is a deprecated argument name for `hog`. It will be removed in version 1.0. Please use `channel_axis` instead.\n",
      "  fds, img_hog = hog(\n",
      "/tmp/ipykernel_62901/1983484597.py:49: FutureWarning: `multichannel` is a deprecated argument name for `hog`. It will be removed in version 1.0. Please use `channel_axis` instead.\n",
      "  fds, img_hog = hog(\n"
     ]
    },
    {
     "name": "stdout",
     "output_type": "stream",
     "text": [
      "Detection:: Location -> (700, 720)\n",
      "Scale ->  0 | Confidence Score 0.682552499093498 \n",
      "\n",
      "Detection:: Location -> (720, 720)\n",
      "Scale ->  0 | Confidence Score 0.6739500354180142 \n",
      "\n"
     ]
    },
    {
     "name": "stderr",
     "output_type": "stream",
     "text": [
      "/tmp/ipykernel_62901/1983484597.py:49: FutureWarning: `multichannel` is a deprecated argument name for `hog`. It will be removed in version 1.0. Please use `channel_axis` instead.\n",
      "  fds, img_hog = hog(\n",
      "/tmp/ipykernel_62901/1983484597.py:49: FutureWarning: `multichannel` is a deprecated argument name for `hog`. It will be removed in version 1.0. Please use `channel_axis` instead.\n",
      "  fds, img_hog = hog(\n"
     ]
    },
    {
     "name": "stdout",
     "output_type": "stream",
     "text": [
      "Detection:: Location -> (740, 720)\n",
      "Scale ->  0 | Confidence Score 0.7065243575422037 \n",
      "\n",
      "Detection:: Location -> (760, 720)\n",
      "Scale ->  0 | Confidence Score 0.6848887759444977 \n",
      "\n"
     ]
    },
    {
     "name": "stderr",
     "output_type": "stream",
     "text": [
      "/tmp/ipykernel_62901/1983484597.py:49: FutureWarning: `multichannel` is a deprecated argument name for `hog`. It will be removed in version 1.0. Please use `channel_axis` instead.\n",
      "  fds, img_hog = hog(\n",
      "/tmp/ipykernel_62901/1983484597.py:49: FutureWarning: `multichannel` is a deprecated argument name for `hog`. It will be removed in version 1.0. Please use `channel_axis` instead.\n",
      "  fds, img_hog = hog(\n"
     ]
    },
    {
     "name": "stdout",
     "output_type": "stream",
     "text": [
      "Detection:: Location -> (780, 720)\n",
      "Scale ->  0 | Confidence Score 0.7331341250016729 \n",
      "\n"
     ]
    },
    {
     "name": "stderr",
     "output_type": "stream",
     "text": [
      "/tmp/ipykernel_62901/1983484597.py:49: FutureWarning: `multichannel` is a deprecated argument name for `hog`. It will be removed in version 1.0. Please use `channel_axis` instead.\n",
      "  fds, img_hog = hog(\n",
      "/tmp/ipykernel_62901/1983484597.py:49: FutureWarning: `multichannel` is a deprecated argument name for `hog`. It will be removed in version 1.0. Please use `channel_axis` instead.\n",
      "  fds, img_hog = hog(\n",
      "/tmp/ipykernel_62901/1983484597.py:49: FutureWarning: `multichannel` is a deprecated argument name for `hog`. It will be removed in version 1.0. Please use `channel_axis` instead.\n",
      "  fds, img_hog = hog(\n",
      "/tmp/ipykernel_62901/1983484597.py:49: FutureWarning: `multichannel` is a deprecated argument name for `hog`. It will be removed in version 1.0. Please use `channel_axis` instead.\n",
      "  fds, img_hog = hog(\n",
      "/tmp/ipykernel_62901/1983484597.py:49: FutureWarning: `multichannel` is a deprecated argument name for `hog`. It will be removed in version 1.0. Please use `channel_axis` instead.\n",
      "  fds, img_hog = hog(\n",
      "/tmp/ipykernel_62901/1983484597.py:49: FutureWarning: `multichannel` is a deprecated argument name for `hog`. It will be removed in version 1.0. Please use `channel_axis` instead.\n",
      "  fds, img_hog = hog(\n",
      "/tmp/ipykernel_62901/1983484597.py:49: FutureWarning: `multichannel` is a deprecated argument name for `hog`. It will be removed in version 1.0. Please use `channel_axis` instead.\n",
      "  fds, img_hog = hog(\n",
      "/tmp/ipykernel_62901/1983484597.py:49: FutureWarning: `multichannel` is a deprecated argument name for `hog`. It will be removed in version 1.0. Please use `channel_axis` instead.\n",
      "  fds, img_hog = hog(\n",
      "/tmp/ipykernel_62901/1983484597.py:49: FutureWarning: `multichannel` is a deprecated argument name for `hog`. It will be removed in version 1.0. Please use `channel_axis` instead.\n",
      "  fds, img_hog = hog(\n",
      "/tmp/ipykernel_62901/1983484597.py:49: FutureWarning: `multichannel` is a deprecated argument name for `hog`. It will be removed in version 1.0. Please use `channel_axis` instead.\n",
      "  fds, img_hog = hog(\n",
      "/tmp/ipykernel_62901/1983484597.py:49: FutureWarning: `multichannel` is a deprecated argument name for `hog`. It will be removed in version 1.0. Please use `channel_axis` instead.\n",
      "  fds, img_hog = hog(\n",
      "/tmp/ipykernel_62901/1983484597.py:49: FutureWarning: `multichannel` is a deprecated argument name for `hog`. It will be removed in version 1.0. Please use `channel_axis` instead.\n",
      "  fds, img_hog = hog(\n",
      "/tmp/ipykernel_62901/1983484597.py:49: FutureWarning: `multichannel` is a deprecated argument name for `hog`. It will be removed in version 1.0. Please use `channel_axis` instead.\n",
      "  fds, img_hog = hog(\n",
      "/tmp/ipykernel_62901/1983484597.py:49: FutureWarning: `multichannel` is a deprecated argument name for `hog`. It will be removed in version 1.0. Please use `channel_axis` instead.\n",
      "  fds, img_hog = hog(\n",
      "/tmp/ipykernel_62901/1983484597.py:49: FutureWarning: `multichannel` is a deprecated argument name for `hog`. It will be removed in version 1.0. Please use `channel_axis` instead.\n",
      "  fds, img_hog = hog(\n",
      "/tmp/ipykernel_62901/1983484597.py:49: FutureWarning: `multichannel` is a deprecated argument name for `hog`. It will be removed in version 1.0. Please use `channel_axis` instead.\n",
      "  fds, img_hog = hog(\n"
     ]
    },
    {
     "name": "stdout",
     "output_type": "stream",
     "text": [
      "Detection:: Location -> (160, 740)\n",
      "Scale ->  0 | Confidence Score 0.7075353961668802 \n",
      "\n",
      "Detection:: Location -> (180, 740)\n",
      "Scale ->  0 | Confidence Score 0.6987101992402317 \n",
      "\n"
     ]
    },
    {
     "name": "stderr",
     "output_type": "stream",
     "text": [
      "/tmp/ipykernel_62901/1983484597.py:49: FutureWarning: `multichannel` is a deprecated argument name for `hog`. It will be removed in version 1.0. Please use `channel_axis` instead.\n",
      "  fds, img_hog = hog(\n",
      "/tmp/ipykernel_62901/1983484597.py:49: FutureWarning: `multichannel` is a deprecated argument name for `hog`. It will be removed in version 1.0. Please use `channel_axis` instead.\n",
      "  fds, img_hog = hog(\n"
     ]
    },
    {
     "name": "stdout",
     "output_type": "stream",
     "text": [
      "Detection:: Location -> (200, 740)\n",
      "Scale ->  0 | Confidence Score 0.6887103810690982 \n",
      "\n",
      "Detection:: Location -> (220, 740)\n",
      "Scale ->  0 | Confidence Score 0.6743323400082858 \n",
      "\n"
     ]
    },
    {
     "name": "stderr",
     "output_type": "stream",
     "text": [
      "/tmp/ipykernel_62901/1983484597.py:49: FutureWarning: `multichannel` is a deprecated argument name for `hog`. It will be removed in version 1.0. Please use `channel_axis` instead.\n",
      "  fds, img_hog = hog(\n",
      "/tmp/ipykernel_62901/1983484597.py:49: FutureWarning: `multichannel` is a deprecated argument name for `hog`. It will be removed in version 1.0. Please use `channel_axis` instead.\n",
      "  fds, img_hog = hog(\n"
     ]
    },
    {
     "name": "stdout",
     "output_type": "stream",
     "text": [
      "Detection:: Location -> (240, 740)\n",
      "Scale ->  0 | Confidence Score 0.6762237174241936 \n",
      "\n",
      "Detection:: Location -> (260, 740)\n",
      "Scale ->  0 | Confidence Score 0.6817498669260742 \n",
      "\n"
     ]
    },
    {
     "name": "stderr",
     "output_type": "stream",
     "text": [
      "/tmp/ipykernel_62901/1983484597.py:49: FutureWarning: `multichannel` is a deprecated argument name for `hog`. It will be removed in version 1.0. Please use `channel_axis` instead.\n",
      "  fds, img_hog = hog(\n",
      "/tmp/ipykernel_62901/1983484597.py:49: FutureWarning: `multichannel` is a deprecated argument name for `hog`. It will be removed in version 1.0. Please use `channel_axis` instead.\n",
      "  fds, img_hog = hog(\n"
     ]
    },
    {
     "name": "stdout",
     "output_type": "stream",
     "text": [
      "Detection:: Location -> (280, 740)\n",
      "Scale ->  0 | Confidence Score 0.671378389576348 \n",
      "\n",
      "Detection:: Location -> (300, 740)\n",
      "Scale ->  0 | Confidence Score 0.7370335604558138 \n",
      "\n"
     ]
    },
    {
     "name": "stderr",
     "output_type": "stream",
     "text": [
      "/tmp/ipykernel_62901/1983484597.py:49: FutureWarning: `multichannel` is a deprecated argument name for `hog`. It will be removed in version 1.0. Please use `channel_axis` instead.\n",
      "  fds, img_hog = hog(\n",
      "/tmp/ipykernel_62901/1983484597.py:49: FutureWarning: `multichannel` is a deprecated argument name for `hog`. It will be removed in version 1.0. Please use `channel_axis` instead.\n",
      "  fds, img_hog = hog(\n"
     ]
    },
    {
     "name": "stdout",
     "output_type": "stream",
     "text": [
      "Detection:: Location -> (320, 740)\n",
      "Scale ->  0 | Confidence Score 0.7358473992643088 \n",
      "\n",
      "Detection:: Location -> (340, 740)\n",
      "Scale ->  0 | Confidence Score 0.7221372222485275 \n",
      "\n"
     ]
    },
    {
     "name": "stderr",
     "output_type": "stream",
     "text": [
      "/tmp/ipykernel_62901/1983484597.py:49: FutureWarning: `multichannel` is a deprecated argument name for `hog`. It will be removed in version 1.0. Please use `channel_axis` instead.\n",
      "  fds, img_hog = hog(\n",
      "/tmp/ipykernel_62901/1983484597.py:49: FutureWarning: `multichannel` is a deprecated argument name for `hog`. It will be removed in version 1.0. Please use `channel_axis` instead.\n",
      "  fds, img_hog = hog(\n"
     ]
    },
    {
     "name": "stdout",
     "output_type": "stream",
     "text": [
      "Detection:: Location -> (360, 740)\n",
      "Scale ->  0 | Confidence Score 0.7109196152556629 \n",
      "\n",
      "Detection:: Location -> (380, 740)\n",
      "Scale ->  0 | Confidence Score 0.7060172475224062 \n",
      "\n"
     ]
    },
    {
     "name": "stderr",
     "output_type": "stream",
     "text": [
      "/tmp/ipykernel_62901/1983484597.py:49: FutureWarning: `multichannel` is a deprecated argument name for `hog`. It will be removed in version 1.0. Please use `channel_axis` instead.\n",
      "  fds, img_hog = hog(\n",
      "/tmp/ipykernel_62901/1983484597.py:49: FutureWarning: `multichannel` is a deprecated argument name for `hog`. It will be removed in version 1.0. Please use `channel_axis` instead.\n",
      "  fds, img_hog = hog(\n"
     ]
    },
    {
     "name": "stdout",
     "output_type": "stream",
     "text": [
      "Detection:: Location -> (400, 740)\n",
      "Scale ->  0 | Confidence Score 0.6785751047201993 \n",
      "\n",
      "Detection:: Location -> (420, 740)\n",
      "Scale ->  0 | Confidence Score 0.690932953808428 \n",
      "\n"
     ]
    },
    {
     "name": "stderr",
     "output_type": "stream",
     "text": [
      "/tmp/ipykernel_62901/1983484597.py:49: FutureWarning: `multichannel` is a deprecated argument name for `hog`. It will be removed in version 1.0. Please use `channel_axis` instead.\n",
      "  fds, img_hog = hog(\n",
      "/tmp/ipykernel_62901/1983484597.py:49: FutureWarning: `multichannel` is a deprecated argument name for `hog`. It will be removed in version 1.0. Please use `channel_axis` instead.\n",
      "  fds, img_hog = hog(\n"
     ]
    },
    {
     "name": "stdout",
     "output_type": "stream",
     "text": [
      "Detection:: Location -> (440, 740)\n",
      "Scale ->  0 | Confidence Score 0.7117389775540882 \n",
      "\n"
     ]
    },
    {
     "name": "stderr",
     "output_type": "stream",
     "text": [
      "/tmp/ipykernel_62901/1983484597.py:49: FutureWarning: `multichannel` is a deprecated argument name for `hog`. It will be removed in version 1.0. Please use `channel_axis` instead.\n",
      "  fds, img_hog = hog(\n"
     ]
    },
    {
     "name": "stdout",
     "output_type": "stream",
     "text": [
      "Detection:: Location -> (460, 740)\n",
      "Scale ->  0 | Confidence Score 0.7236186860780575 \n",
      "\n"
     ]
    },
    {
     "name": "stderr",
     "output_type": "stream",
     "text": [
      "/tmp/ipykernel_62901/1983484597.py:49: FutureWarning: `multichannel` is a deprecated argument name for `hog`. It will be removed in version 1.0. Please use `channel_axis` instead.\n",
      "  fds, img_hog = hog(\n"
     ]
    },
    {
     "name": "stdout",
     "output_type": "stream",
     "text": [
      "Detection:: Location -> (480, 740)\n",
      "Scale ->  0 | Confidence Score 0.7113406809957884 \n",
      "\n"
     ]
    },
    {
     "name": "stderr",
     "output_type": "stream",
     "text": [
      "/tmp/ipykernel_62901/1983484597.py:49: FutureWarning: `multichannel` is a deprecated argument name for `hog`. It will be removed in version 1.0. Please use `channel_axis` instead.\n",
      "  fds, img_hog = hog(\n"
     ]
    },
    {
     "name": "stdout",
     "output_type": "stream",
     "text": [
      "Detection:: Location -> (500, 740)\n",
      "Scale ->  0 | Confidence Score 0.7055321670209002 \n",
      "\n"
     ]
    },
    {
     "name": "stderr",
     "output_type": "stream",
     "text": [
      "/tmp/ipykernel_62901/1983484597.py:49: FutureWarning: `multichannel` is a deprecated argument name for `hog`. It will be removed in version 1.0. Please use `channel_axis` instead.\n",
      "  fds, img_hog = hog(\n"
     ]
    },
    {
     "name": "stdout",
     "output_type": "stream",
     "text": [
      "Detection:: Location -> (520, 740)\n",
      "Scale ->  0 | Confidence Score 0.629922579546362 \n",
      "\n"
     ]
    },
    {
     "name": "stderr",
     "output_type": "stream",
     "text": [
      "/tmp/ipykernel_62901/1983484597.py:49: FutureWarning: `multichannel` is a deprecated argument name for `hog`. It will be removed in version 1.0. Please use `channel_axis` instead.\n",
      "  fds, img_hog = hog(\n"
     ]
    },
    {
     "name": "stdout",
     "output_type": "stream",
     "text": [
      "Detection:: Location -> (540, 740)\n",
      "Scale ->  0 | Confidence Score 0.6576559475313096 \n",
      "\n",
      "Detection:: Location -> (560, 740)\n",
      "Scale ->  0 | Confidence Score 0.7235404009547881 \n",
      "\n"
     ]
    },
    {
     "name": "stderr",
     "output_type": "stream",
     "text": [
      "/tmp/ipykernel_62901/1983484597.py:49: FutureWarning: `multichannel` is a deprecated argument name for `hog`. It will be removed in version 1.0. Please use `channel_axis` instead.\n",
      "  fds, img_hog = hog(\n",
      "/tmp/ipykernel_62901/1983484597.py:49: FutureWarning: `multichannel` is a deprecated argument name for `hog`. It will be removed in version 1.0. Please use `channel_axis` instead.\n",
      "  fds, img_hog = hog(\n"
     ]
    },
    {
     "name": "stdout",
     "output_type": "stream",
     "text": [
      "Detection:: Location -> (580, 740)\n",
      "Scale ->  0 | Confidence Score 0.6968014780618743 \n",
      "\n",
      "Detection:: Location -> (600, 740)\n",
      "Scale ->  0 | Confidence Score 0.6689483440675392 \n",
      "\n"
     ]
    },
    {
     "name": "stderr",
     "output_type": "stream",
     "text": [
      "/tmp/ipykernel_62901/1983484597.py:49: FutureWarning: `multichannel` is a deprecated argument name for `hog`. It will be removed in version 1.0. Please use `channel_axis` instead.\n",
      "  fds, img_hog = hog(\n",
      "/tmp/ipykernel_62901/1983484597.py:49: FutureWarning: `multichannel` is a deprecated argument name for `hog`. It will be removed in version 1.0. Please use `channel_axis` instead.\n",
      "  fds, img_hog = hog(\n"
     ]
    },
    {
     "name": "stdout",
     "output_type": "stream",
     "text": [
      "Detection:: Location -> (620, 740)\n",
      "Scale ->  0 | Confidence Score 0.7057158077972387 \n",
      "\n",
      "Detection:: Location -> (640, 740)\n",
      "Scale ->  0 | Confidence Score 0.6783821691803922 \n",
      "\n"
     ]
    },
    {
     "name": "stderr",
     "output_type": "stream",
     "text": [
      "/tmp/ipykernel_62901/1983484597.py:49: FutureWarning: `multichannel` is a deprecated argument name for `hog`. It will be removed in version 1.0. Please use `channel_axis` instead.\n",
      "  fds, img_hog = hog(\n",
      "/tmp/ipykernel_62901/1983484597.py:49: FutureWarning: `multichannel` is a deprecated argument name for `hog`. It will be removed in version 1.0. Please use `channel_axis` instead.\n",
      "  fds, img_hog = hog(\n"
     ]
    },
    {
     "name": "stdout",
     "output_type": "stream",
     "text": [
      "Detection:: Location -> (660, 740)\n",
      "Scale ->  0 | Confidence Score 0.6511034096754901 \n",
      "\n",
      "Detection:: Location -> (680, 740)\n",
      "Scale ->  0 | Confidence Score 0.6948440580846299 \n",
      "\n"
     ]
    },
    {
     "name": "stderr",
     "output_type": "stream",
     "text": [
      "/tmp/ipykernel_62901/1983484597.py:49: FutureWarning: `multichannel` is a deprecated argument name for `hog`. It will be removed in version 1.0. Please use `channel_axis` instead.\n",
      "  fds, img_hog = hog(\n",
      "/tmp/ipykernel_62901/1983484597.py:49: FutureWarning: `multichannel` is a deprecated argument name for `hog`. It will be removed in version 1.0. Please use `channel_axis` instead.\n",
      "  fds, img_hog = hog(\n"
     ]
    },
    {
     "name": "stdout",
     "output_type": "stream",
     "text": [
      "Detection:: Location -> (700, 740)\n",
      "Scale ->  0 | Confidence Score 0.7213056860783106 \n",
      "\n",
      "Detection:: Location -> (720, 740)\n",
      "Scale ->  0 | Confidence Score 0.7227188527751403 \n",
      "\n"
     ]
    },
    {
     "name": "stderr",
     "output_type": "stream",
     "text": [
      "/tmp/ipykernel_62901/1983484597.py:49: FutureWarning: `multichannel` is a deprecated argument name for `hog`. It will be removed in version 1.0. Please use `channel_axis` instead.\n",
      "  fds, img_hog = hog(\n",
      "/tmp/ipykernel_62901/1983484597.py:49: FutureWarning: `multichannel` is a deprecated argument name for `hog`. It will be removed in version 1.0. Please use `channel_axis` instead.\n",
      "  fds, img_hog = hog(\n"
     ]
    },
    {
     "name": "stdout",
     "output_type": "stream",
     "text": [
      "Detection:: Location -> (740, 740)\n",
      "Scale ->  0 | Confidence Score 0.7191734467995806 \n",
      "\n",
      "Detection:: Location -> (760, 740)\n",
      "Scale ->  0 | Confidence Score 0.6847005698587174 \n",
      "\n"
     ]
    },
    {
     "name": "stderr",
     "output_type": "stream",
     "text": [
      "/tmp/ipykernel_62901/1983484597.py:49: FutureWarning: `multichannel` is a deprecated argument name for `hog`. It will be removed in version 1.0. Please use `channel_axis` instead.\n",
      "  fds, img_hog = hog(\n",
      "/tmp/ipykernel_62901/1983484597.py:49: FutureWarning: `multichannel` is a deprecated argument name for `hog`. It will be removed in version 1.0. Please use `channel_axis` instead.\n",
      "  fds, img_hog = hog(\n",
      "/tmp/ipykernel_62901/1983484597.py:49: FutureWarning: `multichannel` is a deprecated argument name for `hog`. It will be removed in version 1.0. Please use `channel_axis` instead.\n",
      "  fds, img_hog = hog(\n",
      "/tmp/ipykernel_62901/1983484597.py:49: FutureWarning: `multichannel` is a deprecated argument name for `hog`. It will be removed in version 1.0. Please use `channel_axis` instead.\n",
      "  fds, img_hog = hog(\n",
      "/tmp/ipykernel_62901/1983484597.py:49: FutureWarning: `multichannel` is a deprecated argument name for `hog`. It will be removed in version 1.0. Please use `channel_axis` instead.\n",
      "  fds, img_hog = hog(\n",
      "/tmp/ipykernel_62901/1983484597.py:49: FutureWarning: `multichannel` is a deprecated argument name for `hog`. It will be removed in version 1.0. Please use `channel_axis` instead.\n",
      "  fds, img_hog = hog(\n",
      "/tmp/ipykernel_62901/1983484597.py:49: FutureWarning: `multichannel` is a deprecated argument name for `hog`. It will be removed in version 1.0. Please use `channel_axis` instead.\n",
      "  fds, img_hog = hog(\n",
      "/tmp/ipykernel_62901/1983484597.py:49: FutureWarning: `multichannel` is a deprecated argument name for `hog`. It will be removed in version 1.0. Please use `channel_axis` instead.\n",
      "  fds, img_hog = hog(\n",
      "/tmp/ipykernel_62901/1983484597.py:49: FutureWarning: `multichannel` is a deprecated argument name for `hog`. It will be removed in version 1.0. Please use `channel_axis` instead.\n",
      "  fds, img_hog = hog(\n",
      "/tmp/ipykernel_62901/1983484597.py:49: FutureWarning: `multichannel` is a deprecated argument name for `hog`. It will be removed in version 1.0. Please use `channel_axis` instead.\n",
      "  fds, img_hog = hog(\n"
     ]
    },
    {
     "name": "stdout",
     "output_type": "stream",
     "text": [
      "Detection:: Location -> (0, 760)\n",
      "Scale ->  0 | Confidence Score 0.6181330363302563 \n",
      "\n"
     ]
    },
    {
     "name": "stderr",
     "output_type": "stream",
     "text": [
      "/tmp/ipykernel_62901/1983484597.py:49: FutureWarning: `multichannel` is a deprecated argument name for `hog`. It will be removed in version 1.0. Please use `channel_axis` instead.\n",
      "  fds, img_hog = hog(\n",
      "/tmp/ipykernel_62901/1983484597.py:49: FutureWarning: `multichannel` is a deprecated argument name for `hog`. It will be removed in version 1.0. Please use `channel_axis` instead.\n",
      "  fds, img_hog = hog(\n",
      "/tmp/ipykernel_62901/1983484597.py:49: FutureWarning: `multichannel` is a deprecated argument name for `hog`. It will be removed in version 1.0. Please use `channel_axis` instead.\n",
      "  fds, img_hog = hog(\n",
      "/tmp/ipykernel_62901/1983484597.py:49: FutureWarning: `multichannel` is a deprecated argument name for `hog`. It will be removed in version 1.0. Please use `channel_axis` instead.\n",
      "  fds, img_hog = hog(\n",
      "/tmp/ipykernel_62901/1983484597.py:49: FutureWarning: `multichannel` is a deprecated argument name for `hog`. It will be removed in version 1.0. Please use `channel_axis` instead.\n",
      "  fds, img_hog = hog(\n",
      "/tmp/ipykernel_62901/1983484597.py:49: FutureWarning: `multichannel` is a deprecated argument name for `hog`. It will be removed in version 1.0. Please use `channel_axis` instead.\n",
      "  fds, img_hog = hog(\n",
      "/tmp/ipykernel_62901/1983484597.py:49: FutureWarning: `multichannel` is a deprecated argument name for `hog`. It will be removed in version 1.0. Please use `channel_axis` instead.\n",
      "  fds, img_hog = hog(\n",
      "/tmp/ipykernel_62901/1983484597.py:49: FutureWarning: `multichannel` is a deprecated argument name for `hog`. It will be removed in version 1.0. Please use `channel_axis` instead.\n",
      "  fds, img_hog = hog(\n"
     ]
    },
    {
     "name": "stdout",
     "output_type": "stream",
     "text": [
      "Detection:: Location -> (160, 760)\n",
      "Scale ->  0 | Confidence Score 0.630622430253954 \n",
      "\n",
      "Detection:: Location -> (180, 760)\n",
      "Scale ->  0 | Confidence Score 0.6850842234473623 \n",
      "\n"
     ]
    },
    {
     "name": "stderr",
     "output_type": "stream",
     "text": [
      "/tmp/ipykernel_62901/1983484597.py:49: FutureWarning: `multichannel` is a deprecated argument name for `hog`. It will be removed in version 1.0. Please use `channel_axis` instead.\n",
      "  fds, img_hog = hog(\n",
      "/tmp/ipykernel_62901/1983484597.py:49: FutureWarning: `multichannel` is a deprecated argument name for `hog`. It will be removed in version 1.0. Please use `channel_axis` instead.\n",
      "  fds, img_hog = hog(\n"
     ]
    },
    {
     "name": "stdout",
     "output_type": "stream",
     "text": [
      "Detection:: Location -> (200, 760)\n",
      "Scale ->  0 | Confidence Score 0.6266532118447591 \n",
      "\n",
      "Detection:: Location -> (220, 760)\n",
      "Scale ->  0 | Confidence Score 0.6876597950192062 \n",
      "\n"
     ]
    },
    {
     "name": "stderr",
     "output_type": "stream",
     "text": [
      "/tmp/ipykernel_62901/1983484597.py:49: FutureWarning: `multichannel` is a deprecated argument name for `hog`. It will be removed in version 1.0. Please use `channel_axis` instead.\n",
      "  fds, img_hog = hog(\n",
      "/tmp/ipykernel_62901/1983484597.py:49: FutureWarning: `multichannel` is a deprecated argument name for `hog`. It will be removed in version 1.0. Please use `channel_axis` instead.\n",
      "  fds, img_hog = hog(\n"
     ]
    },
    {
     "name": "stdout",
     "output_type": "stream",
     "text": [
      "Detection:: Location -> (240, 760)\n",
      "Scale ->  0 | Confidence Score 0.6688184152896461 \n",
      "\n",
      "Detection:: Location -> (260, 760)\n",
      "Scale ->  0 | Confidence Score 0.6615921485144526 \n",
      "\n"
     ]
    },
    {
     "name": "stderr",
     "output_type": "stream",
     "text": [
      "/tmp/ipykernel_62901/1983484597.py:49: FutureWarning: `multichannel` is a deprecated argument name for `hog`. It will be removed in version 1.0. Please use `channel_axis` instead.\n",
      "  fds, img_hog = hog(\n",
      "/tmp/ipykernel_62901/1983484597.py:49: FutureWarning: `multichannel` is a deprecated argument name for `hog`. It will be removed in version 1.0. Please use `channel_axis` instead.\n",
      "  fds, img_hog = hog(\n"
     ]
    },
    {
     "name": "stdout",
     "output_type": "stream",
     "text": [
      "Detection:: Location -> (280, 760)\n",
      "Scale ->  0 | Confidence Score 0.680916501221609 \n",
      "\n",
      "Detection:: Location -> (300, 760)\n",
      "Scale ->  0 | Confidence Score 0.7175005019753605 \n",
      "\n"
     ]
    },
    {
     "name": "stderr",
     "output_type": "stream",
     "text": [
      "/tmp/ipykernel_62901/1983484597.py:49: FutureWarning: `multichannel` is a deprecated argument name for `hog`. It will be removed in version 1.0. Please use `channel_axis` instead.\n",
      "  fds, img_hog = hog(\n",
      "/tmp/ipykernel_62901/1983484597.py:49: FutureWarning: `multichannel` is a deprecated argument name for `hog`. It will be removed in version 1.0. Please use `channel_axis` instead.\n",
      "  fds, img_hog = hog(\n"
     ]
    },
    {
     "name": "stdout",
     "output_type": "stream",
     "text": [
      "Detection:: Location -> (320, 760)\n",
      "Scale ->  0 | Confidence Score 0.7044763042910518 \n",
      "\n",
      "Detection:: Location -> (340, 760)\n",
      "Scale ->  0 | Confidence Score 0.6712207964978121 \n",
      "\n"
     ]
    },
    {
     "name": "stderr",
     "output_type": "stream",
     "text": [
      "/tmp/ipykernel_62901/1983484597.py:49: FutureWarning: `multichannel` is a deprecated argument name for `hog`. It will be removed in version 1.0. Please use `channel_axis` instead.\n",
      "  fds, img_hog = hog(\n",
      "/tmp/ipykernel_62901/1983484597.py:49: FutureWarning: `multichannel` is a deprecated argument name for `hog`. It will be removed in version 1.0. Please use `channel_axis` instead.\n",
      "  fds, img_hog = hog(\n"
     ]
    },
    {
     "name": "stdout",
     "output_type": "stream",
     "text": [
      "Detection:: Location -> (360, 760)\n",
      "Scale ->  0 | Confidence Score 0.6936594404314762 \n",
      "\n"
     ]
    },
    {
     "name": "stderr",
     "output_type": "stream",
     "text": [
      "/tmp/ipykernel_62901/1983484597.py:49: FutureWarning: `multichannel` is a deprecated argument name for `hog`. It will be removed in version 1.0. Please use `channel_axis` instead.\n",
      "  fds, img_hog = hog(\n"
     ]
    },
    {
     "name": "stdout",
     "output_type": "stream",
     "text": [
      "Detection:: Location -> (380, 760)\n",
      "Scale ->  0 | Confidence Score 0.6350119289927942 \n",
      "\n"
     ]
    },
    {
     "name": "stderr",
     "output_type": "stream",
     "text": [
      "/tmp/ipykernel_62901/1983484597.py:49: FutureWarning: `multichannel` is a deprecated argument name for `hog`. It will be removed in version 1.0. Please use `channel_axis` instead.\n",
      "  fds, img_hog = hog(\n"
     ]
    },
    {
     "name": "stdout",
     "output_type": "stream",
     "text": [
      "Detection:: Location -> (400, 760)\n",
      "Scale ->  0 | Confidence Score 0.6409855477627647 \n",
      "\n"
     ]
    },
    {
     "name": "stderr",
     "output_type": "stream",
     "text": [
      "/tmp/ipykernel_62901/1983484597.py:49: FutureWarning: `multichannel` is a deprecated argument name for `hog`. It will be removed in version 1.0. Please use `channel_axis` instead.\n",
      "  fds, img_hog = hog(\n"
     ]
    },
    {
     "name": "stdout",
     "output_type": "stream",
     "text": [
      "Detection:: Location -> (420, 760)\n",
      "Scale ->  0 | Confidence Score 0.729706314316862 \n",
      "\n"
     ]
    },
    {
     "name": "stderr",
     "output_type": "stream",
     "text": [
      "/tmp/ipykernel_62901/1983484597.py:49: FutureWarning: `multichannel` is a deprecated argument name for `hog`. It will be removed in version 1.0. Please use `channel_axis` instead.\n",
      "  fds, img_hog = hog(\n"
     ]
    },
    {
     "name": "stdout",
     "output_type": "stream",
     "text": [
      "Detection:: Location -> (440, 760)\n",
      "Scale ->  0 | Confidence Score 0.6953996313879603 \n",
      "\n"
     ]
    },
    {
     "name": "stderr",
     "output_type": "stream",
     "text": [
      "/tmp/ipykernel_62901/1983484597.py:49: FutureWarning: `multichannel` is a deprecated argument name for `hog`. It will be removed in version 1.0. Please use `channel_axis` instead.\n",
      "  fds, img_hog = hog(\n"
     ]
    },
    {
     "name": "stdout",
     "output_type": "stream",
     "text": [
      "Detection:: Location -> (460, 760)\n",
      "Scale ->  0 | Confidence Score 0.726770102367756 \n",
      "\n",
      "Detection:: Location -> (480, 760)\n",
      "Scale ->  0 | Confidence Score 0.6853988053085545 \n",
      "\n"
     ]
    },
    {
     "name": "stderr",
     "output_type": "stream",
     "text": [
      "/tmp/ipykernel_62901/1983484597.py:49: FutureWarning: `multichannel` is a deprecated argument name for `hog`. It will be removed in version 1.0. Please use `channel_axis` instead.\n",
      "  fds, img_hog = hog(\n",
      "/tmp/ipykernel_62901/1983484597.py:49: FutureWarning: `multichannel` is a deprecated argument name for `hog`. It will be removed in version 1.0. Please use `channel_axis` instead.\n",
      "  fds, img_hog = hog(\n"
     ]
    },
    {
     "name": "stdout",
     "output_type": "stream",
     "text": [
      "Detection:: Location -> (500, 760)\n",
      "Scale ->  0 | Confidence Score 0.6966061984243527 \n",
      "\n"
     ]
    },
    {
     "name": "stderr",
     "output_type": "stream",
     "text": [
      "/tmp/ipykernel_62901/1983484597.py:49: FutureWarning: `multichannel` is a deprecated argument name for `hog`. It will be removed in version 1.0. Please use `channel_axis` instead.\n",
      "  fds, img_hog = hog(\n",
      "/tmp/ipykernel_62901/1983484597.py:49: FutureWarning: `multichannel` is a deprecated argument name for `hog`. It will be removed in version 1.0. Please use `channel_axis` instead.\n",
      "  fds, img_hog = hog(\n"
     ]
    },
    {
     "name": "stdout",
     "output_type": "stream",
     "text": [
      "Detection:: Location -> (540, 760)\n",
      "Scale ->  0 | Confidence Score 0.6208245430500334 \n",
      "\n",
      "Detection:: Location -> (560, 760)\n",
      "Scale ->  0 | Confidence Score 0.6340736945770636 \n",
      "\n"
     ]
    },
    {
     "name": "stderr",
     "output_type": "stream",
     "text": [
      "/tmp/ipykernel_62901/1983484597.py:49: FutureWarning: `multichannel` is a deprecated argument name for `hog`. It will be removed in version 1.0. Please use `channel_axis` instead.\n",
      "  fds, img_hog = hog(\n",
      "/tmp/ipykernel_62901/1983484597.py:49: FutureWarning: `multichannel` is a deprecated argument name for `hog`. It will be removed in version 1.0. Please use `channel_axis` instead.\n",
      "  fds, img_hog = hog(\n"
     ]
    },
    {
     "name": "stdout",
     "output_type": "stream",
     "text": [
      "Detection:: Location -> (580, 760)\n",
      "Scale ->  0 | Confidence Score 0.7341150158345087 \n",
      "\n",
      "Detection:: Location -> (600, 760)\n",
      "Scale ->  0 | Confidence Score 0.6820828366455041 \n",
      "\n"
     ]
    },
    {
     "name": "stderr",
     "output_type": "stream",
     "text": [
      "/tmp/ipykernel_62901/1983484597.py:49: FutureWarning: `multichannel` is a deprecated argument name for `hog`. It will be removed in version 1.0. Please use `channel_axis` instead.\n",
      "  fds, img_hog = hog(\n",
      "/tmp/ipykernel_62901/1983484597.py:49: FutureWarning: `multichannel` is a deprecated argument name for `hog`. It will be removed in version 1.0. Please use `channel_axis` instead.\n",
      "  fds, img_hog = hog(\n"
     ]
    },
    {
     "name": "stdout",
     "output_type": "stream",
     "text": [
      "Detection:: Location -> (620, 760)\n",
      "Scale ->  0 | Confidence Score 0.6792819605165796 \n",
      "\n"
     ]
    },
    {
     "name": "stderr",
     "output_type": "stream",
     "text": [
      "/tmp/ipykernel_62901/1983484597.py:49: FutureWarning: `multichannel` is a deprecated argument name for `hog`. It will be removed in version 1.0. Please use `channel_axis` instead.\n",
      "  fds, img_hog = hog(\n"
     ]
    },
    {
     "name": "stdout",
     "output_type": "stream",
     "text": [
      "Detection:: Location -> (640, 760)\n",
      "Scale ->  0 | Confidence Score 0.6757704891449725 \n",
      "\n"
     ]
    },
    {
     "name": "stderr",
     "output_type": "stream",
     "text": [
      "/tmp/ipykernel_62901/1983484597.py:49: FutureWarning: `multichannel` is a deprecated argument name for `hog`. It will be removed in version 1.0. Please use `channel_axis` instead.\n",
      "  fds, img_hog = hog(\n"
     ]
    },
    {
     "name": "stdout",
     "output_type": "stream",
     "text": [
      "Detection:: Location -> (660, 760)\n",
      "Scale ->  0 | Confidence Score 0.667416360052009 \n",
      "\n"
     ]
    },
    {
     "name": "stderr",
     "output_type": "stream",
     "text": [
      "/tmp/ipykernel_62901/1983484597.py:49: FutureWarning: `multichannel` is a deprecated argument name for `hog`. It will be removed in version 1.0. Please use `channel_axis` instead.\n",
      "  fds, img_hog = hog(\n"
     ]
    },
    {
     "name": "stdout",
     "output_type": "stream",
     "text": [
      "Detection:: Location -> (680, 760)\n",
      "Scale ->  0 | Confidence Score 0.6583833706995526 \n",
      "\n",
      "Detection:: Location -> (700, 760)\n",
      "Scale ->  0 | Confidence Score 0.6625806208011961 \n",
      "\n"
     ]
    },
    {
     "name": "stderr",
     "output_type": "stream",
     "text": [
      "/tmp/ipykernel_62901/1983484597.py:49: FutureWarning: `multichannel` is a deprecated argument name for `hog`. It will be removed in version 1.0. Please use `channel_axis` instead.\n",
      "  fds, img_hog = hog(\n",
      "/tmp/ipykernel_62901/1983484597.py:49: FutureWarning: `multichannel` is a deprecated argument name for `hog`. It will be removed in version 1.0. Please use `channel_axis` instead.\n",
      "  fds, img_hog = hog(\n",
      "/tmp/ipykernel_62901/1983484597.py:49: FutureWarning: `multichannel` is a deprecated argument name for `hog`. It will be removed in version 1.0. Please use `channel_axis` instead.\n",
      "  fds, img_hog = hog(\n",
      "/tmp/ipykernel_62901/1983484597.py:49: FutureWarning: `multichannel` is a deprecated argument name for `hog`. It will be removed in version 1.0. Please use `channel_axis` instead.\n",
      "  fds, img_hog = hog(\n"
     ]
    },
    {
     "name": "stdout",
     "output_type": "stream",
     "text": [
      "Detection:: Location -> (760, 760)\n",
      "Scale ->  0 | Confidence Score 0.6111022741255014 \n",
      "\n"
     ]
    },
    {
     "name": "stderr",
     "output_type": "stream",
     "text": [
      "/tmp/ipykernel_62901/1983484597.py:49: FutureWarning: `multichannel` is a deprecated argument name for `hog`. It will be removed in version 1.0. Please use `channel_axis` instead.\n",
      "  fds, img_hog = hog(\n",
      "/tmp/ipykernel_62901/1983484597.py:49: FutureWarning: `multichannel` is a deprecated argument name for `hog`. It will be removed in version 1.0. Please use `channel_axis` instead.\n",
      "  fds, img_hog = hog(\n",
      "/tmp/ipykernel_62901/1983484597.py:49: FutureWarning: `multichannel` is a deprecated argument name for `hog`. It will be removed in version 1.0. Please use `channel_axis` instead.\n",
      "  fds, img_hog = hog(\n",
      "/tmp/ipykernel_62901/1983484597.py:49: FutureWarning: `multichannel` is a deprecated argument name for `hog`. It will be removed in version 1.0. Please use `channel_axis` instead.\n",
      "  fds, img_hog = hog(\n",
      "/tmp/ipykernel_62901/1983484597.py:49: FutureWarning: `multichannel` is a deprecated argument name for `hog`. It will be removed in version 1.0. Please use `channel_axis` instead.\n",
      "  fds, img_hog = hog(\n",
      "/tmp/ipykernel_62901/1983484597.py:49: FutureWarning: `multichannel` is a deprecated argument name for `hog`. It will be removed in version 1.0. Please use `channel_axis` instead.\n",
      "  fds, img_hog = hog(\n",
      "/tmp/ipykernel_62901/1983484597.py:49: FutureWarning: `multichannel` is a deprecated argument name for `hog`. It will be removed in version 1.0. Please use `channel_axis` instead.\n",
      "  fds, img_hog = hog(\n",
      "/tmp/ipykernel_62901/1983484597.py:49: FutureWarning: `multichannel` is a deprecated argument name for `hog`. It will be removed in version 1.0. Please use `channel_axis` instead.\n",
      "  fds, img_hog = hog(\n"
     ]
    },
    {
     "name": "stdout",
     "output_type": "stream",
     "text": [
      "Detection:: Location -> (920, 760)\n",
      "Scale ->  0 | Confidence Score 0.6111979685442361 \n",
      "\n",
      "Detection:: Location -> (0, 780)\n",
      "Scale ->  0 | Confidence Score 0.6017984903012997 \n",
      "\n"
     ]
    },
    {
     "name": "stderr",
     "output_type": "stream",
     "text": [
      "/tmp/ipykernel_62901/1983484597.py:49: FutureWarning: `multichannel` is a deprecated argument name for `hog`. It will be removed in version 1.0. Please use `channel_axis` instead.\n",
      "  fds, img_hog = hog(\n",
      "/tmp/ipykernel_62901/1983484597.py:49: FutureWarning: `multichannel` is a deprecated argument name for `hog`. It will be removed in version 1.0. Please use `channel_axis` instead.\n",
      "  fds, img_hog = hog(\n",
      "/tmp/ipykernel_62901/1983484597.py:49: FutureWarning: `multichannel` is a deprecated argument name for `hog`. It will be removed in version 1.0. Please use `channel_axis` instead.\n",
      "  fds, img_hog = hog(\n",
      "/tmp/ipykernel_62901/1983484597.py:49: FutureWarning: `multichannel` is a deprecated argument name for `hog`. It will be removed in version 1.0. Please use `channel_axis` instead.\n",
      "  fds, img_hog = hog(\n",
      "/tmp/ipykernel_62901/1983484597.py:49: FutureWarning: `multichannel` is a deprecated argument name for `hog`. It will be removed in version 1.0. Please use `channel_axis` instead.\n",
      "  fds, img_hog = hog(\n",
      "/tmp/ipykernel_62901/1983484597.py:49: FutureWarning: `multichannel` is a deprecated argument name for `hog`. It will be removed in version 1.0. Please use `channel_axis` instead.\n",
      "  fds, img_hog = hog(\n",
      "/tmp/ipykernel_62901/1983484597.py:49: FutureWarning: `multichannel` is a deprecated argument name for `hog`. It will be removed in version 1.0. Please use `channel_axis` instead.\n",
      "  fds, img_hog = hog(\n",
      "/tmp/ipykernel_62901/1983484597.py:49: FutureWarning: `multichannel` is a deprecated argument name for `hog`. It will be removed in version 1.0. Please use `channel_axis` instead.\n",
      "  fds, img_hog = hog(\n",
      "/tmp/ipykernel_62901/1983484597.py:49: FutureWarning: `multichannel` is a deprecated argument name for `hog`. It will be removed in version 1.0. Please use `channel_axis` instead.\n",
      "  fds, img_hog = hog(\n",
      "/tmp/ipykernel_62901/1983484597.py:49: FutureWarning: `multichannel` is a deprecated argument name for `hog`. It will be removed in version 1.0. Please use `channel_axis` instead.\n",
      "  fds, img_hog = hog(\n"
     ]
    },
    {
     "name": "stdout",
     "output_type": "stream",
     "text": [
      "Detection:: Location -> (180, 780)\n",
      "Scale ->  0 | Confidence Score 0.6244816537111494 \n",
      "\n",
      "Detection:: Location -> (200, 780)\n",
      "Scale ->  0 | Confidence Score 0.6369851451403571 \n",
      "\n"
     ]
    },
    {
     "name": "stderr",
     "output_type": "stream",
     "text": [
      "/tmp/ipykernel_62901/1983484597.py:49: FutureWarning: `multichannel` is a deprecated argument name for `hog`. It will be removed in version 1.0. Please use `channel_axis` instead.\n",
      "  fds, img_hog = hog(\n",
      "/tmp/ipykernel_62901/1983484597.py:49: FutureWarning: `multichannel` is a deprecated argument name for `hog`. It will be removed in version 1.0. Please use `channel_axis` instead.\n",
      "  fds, img_hog = hog(\n",
      "/tmp/ipykernel_62901/1983484597.py:49: FutureWarning: `multichannel` is a deprecated argument name for `hog`. It will be removed in version 1.0. Please use `channel_axis` instead.\n",
      "  fds, img_hog = hog(\n",
      "/tmp/ipykernel_62901/1983484597.py:49: FutureWarning: `multichannel` is a deprecated argument name for `hog`. It will be removed in version 1.0. Please use `channel_axis` instead.\n",
      "  fds, img_hog = hog(\n"
     ]
    },
    {
     "name": "stdout",
     "output_type": "stream",
     "text": [
      "Detection:: Location -> (240, 780)\n",
      "Scale ->  0 | Confidence Score 0.6673054496718628 \n",
      "\n",
      "Detection:: Location -> (260, 780)\n",
      "Scale ->  0 | Confidence Score 0.6441834793164967 \n",
      "\n"
     ]
    },
    {
     "name": "stderr",
     "output_type": "stream",
     "text": [
      "/tmp/ipykernel_62901/1983484597.py:49: FutureWarning: `multichannel` is a deprecated argument name for `hog`. It will be removed in version 1.0. Please use `channel_axis` instead.\n",
      "  fds, img_hog = hog(\n",
      "/tmp/ipykernel_62901/1983484597.py:49: FutureWarning: `multichannel` is a deprecated argument name for `hog`. It will be removed in version 1.0. Please use `channel_axis` instead.\n",
      "  fds, img_hog = hog(\n"
     ]
    },
    {
     "name": "stdout",
     "output_type": "stream",
     "text": [
      "Detection:: Location -> (280, 780)\n",
      "Scale ->  0 | Confidence Score 0.7055416436569781 \n",
      "\n",
      "Detection:: Location -> (300, 780)\n",
      "Scale ->  0 | Confidence Score 0.6815962247289699 \n",
      "\n",
      "Detection:: Location -> (320, 780)\n",
      "Scale ->  0 | Confidence Score 0.6782388203067714 \n",
      "\n"
     ]
    },
    {
     "name": "stderr",
     "output_type": "stream",
     "text": [
      "/tmp/ipykernel_62901/1983484597.py:49: FutureWarning: `multichannel` is a deprecated argument name for `hog`. It will be removed in version 1.0. Please use `channel_axis` instead.\n",
      "  fds, img_hog = hog(\n",
      "/tmp/ipykernel_62901/1983484597.py:49: FutureWarning: `multichannel` is a deprecated argument name for `hog`. It will be removed in version 1.0. Please use `channel_axis` instead.\n",
      "  fds, img_hog = hog(\n"
     ]
    },
    {
     "name": "stdout",
     "output_type": "stream",
     "text": [
      "Detection:: Location -> (340, 780)\n",
      "Scale ->  0 | Confidence Score 0.7274072542804912 \n",
      "\n",
      "Detection:: Location -> (360, 780)\n",
      "Scale ->  0 | Confidence Score 0.6819426225213622 \n",
      "\n"
     ]
    },
    {
     "name": "stderr",
     "output_type": "stream",
     "text": [
      "/tmp/ipykernel_62901/1983484597.py:49: FutureWarning: `multichannel` is a deprecated argument name for `hog`. It will be removed in version 1.0. Please use `channel_axis` instead.\n",
      "  fds, img_hog = hog(\n",
      "/tmp/ipykernel_62901/1983484597.py:49: FutureWarning: `multichannel` is a deprecated argument name for `hog`. It will be removed in version 1.0. Please use `channel_axis` instead.\n",
      "  fds, img_hog = hog(\n"
     ]
    },
    {
     "name": "stdout",
     "output_type": "stream",
     "text": [
      "Detection:: Location -> (380, 780)\n",
      "Scale ->  0 | Confidence Score 0.6869800460612833 \n",
      "\n",
      "Detection:: Location -> (400, 780)\n",
      "Scale ->  0 | Confidence Score 0.6321341699469266 \n",
      "\n"
     ]
    },
    {
     "name": "stderr",
     "output_type": "stream",
     "text": [
      "/tmp/ipykernel_62901/1983484597.py:49: FutureWarning: `multichannel` is a deprecated argument name for `hog`. It will be removed in version 1.0. Please use `channel_axis` instead.\n",
      "  fds, img_hog = hog(\n",
      "/tmp/ipykernel_62901/1983484597.py:49: FutureWarning: `multichannel` is a deprecated argument name for `hog`. It will be removed in version 1.0. Please use `channel_axis` instead.\n",
      "  fds, img_hog = hog(\n"
     ]
    },
    {
     "name": "stdout",
     "output_type": "stream",
     "text": [
      "Detection:: Location -> (420, 780)\n",
      "Scale ->  0 | Confidence Score 0.7249090813124413 \n",
      "\n"
     ]
    },
    {
     "name": "stderr",
     "output_type": "stream",
     "text": [
      "/tmp/ipykernel_62901/1983484597.py:49: FutureWarning: `multichannel` is a deprecated argument name for `hog`. It will be removed in version 1.0. Please use `channel_axis` instead.\n",
      "  fds, img_hog = hog(\n"
     ]
    },
    {
     "name": "stdout",
     "output_type": "stream",
     "text": [
      "Detection:: Location -> (440, 780)\n",
      "Scale ->  0 | Confidence Score 0.6560832532013368 \n",
      "\n",
      "Detection:: Location -> (460, 780)\n",
      "Scale ->  0 | Confidence Score 0.685257852064705 \n",
      "\n"
     ]
    },
    {
     "name": "stderr",
     "output_type": "stream",
     "text": [
      "/tmp/ipykernel_62901/1983484597.py:49: FutureWarning: `multichannel` is a deprecated argument name for `hog`. It will be removed in version 1.0. Please use `channel_axis` instead.\n",
      "  fds, img_hog = hog(\n",
      "/tmp/ipykernel_62901/1983484597.py:49: FutureWarning: `multichannel` is a deprecated argument name for `hog`. It will be removed in version 1.0. Please use `channel_axis` instead.\n",
      "  fds, img_hog = hog(\n"
     ]
    },
    {
     "name": "stdout",
     "output_type": "stream",
     "text": [
      "Detection:: Location -> (480, 780)\n",
      "Scale ->  0 | Confidence Score 0.6349197841312788 \n",
      "\n",
      "Detection:: Location -> (500, 780)\n",
      "Scale ->  0 | Confidence Score 0.6239784811155074 \n",
      "\n"
     ]
    },
    {
     "name": "stderr",
     "output_type": "stream",
     "text": [
      "/tmp/ipykernel_62901/1983484597.py:49: FutureWarning: `multichannel` is a deprecated argument name for `hog`. It will be removed in version 1.0. Please use `channel_axis` instead.\n",
      "  fds, img_hog = hog(\n",
      "/tmp/ipykernel_62901/1983484597.py:49: FutureWarning: `multichannel` is a deprecated argument name for `hog`. It will be removed in version 1.0. Please use `channel_axis` instead.\n",
      "  fds, img_hog = hog(\n"
     ]
    },
    {
     "name": "stdout",
     "output_type": "stream",
     "text": [
      "Detection:: Location -> (520, 780)\n",
      "Scale ->  0 | Confidence Score 0.6114226028423215 \n",
      "\n",
      "Detection:: Location -> (540, 780)\n",
      "Scale ->  0 | Confidence Score 0.657707703528404 \n",
      "\n"
     ]
    },
    {
     "name": "stderr",
     "output_type": "stream",
     "text": [
      "/tmp/ipykernel_62901/1983484597.py:49: FutureWarning: `multichannel` is a deprecated argument name for `hog`. It will be removed in version 1.0. Please use `channel_axis` instead.\n",
      "  fds, img_hog = hog(\n",
      "/tmp/ipykernel_62901/1983484597.py:49: FutureWarning: `multichannel` is a deprecated argument name for `hog`. It will be removed in version 1.0. Please use `channel_axis` instead.\n",
      "  fds, img_hog = hog(\n"
     ]
    },
    {
     "name": "stdout",
     "output_type": "stream",
     "text": [
      "Detection:: Location -> (560, 780)\n",
      "Scale ->  0 | Confidence Score 0.6611736726390366 \n",
      "\n"
     ]
    },
    {
     "name": "stderr",
     "output_type": "stream",
     "text": [
      "/tmp/ipykernel_62901/1983484597.py:49: FutureWarning: `multichannel` is a deprecated argument name for `hog`. It will be removed in version 1.0. Please use `channel_axis` instead.\n",
      "  fds, img_hog = hog(\n"
     ]
    },
    {
     "name": "stdout",
     "output_type": "stream",
     "text": [
      "Detection:: Location -> (580, 780)\n",
      "Scale ->  0 | Confidence Score 0.6943879707731851 \n",
      "\n"
     ]
    },
    {
     "name": "stderr",
     "output_type": "stream",
     "text": [
      "/tmp/ipykernel_62901/1983484597.py:49: FutureWarning: `multichannel` is a deprecated argument name for `hog`. It will be removed in version 1.0. Please use `channel_axis` instead.\n",
      "  fds, img_hog = hog(\n"
     ]
    },
    {
     "name": "stdout",
     "output_type": "stream",
     "text": [
      "Detection:: Location -> (600, 780)\n",
      "Scale ->  0 | Confidence Score 0.6945149498580374 \n",
      "\n"
     ]
    },
    {
     "name": "stderr",
     "output_type": "stream",
     "text": [
      "/tmp/ipykernel_62901/1983484597.py:49: FutureWarning: `multichannel` is a deprecated argument name for `hog`. It will be removed in version 1.0. Please use `channel_axis` instead.\n",
      "  fds, img_hog = hog(\n"
     ]
    },
    {
     "name": "stdout",
     "output_type": "stream",
     "text": [
      "Detection:: Location -> (620, 780)\n",
      "Scale ->  0 | Confidence Score 0.6862604599920415 \n",
      "\n"
     ]
    },
    {
     "name": "stderr",
     "output_type": "stream",
     "text": [
      "/tmp/ipykernel_62901/1983484597.py:49: FutureWarning: `multichannel` is a deprecated argument name for `hog`. It will be removed in version 1.0. Please use `channel_axis` instead.\n",
      "  fds, img_hog = hog(\n"
     ]
    },
    {
     "name": "stdout",
     "output_type": "stream",
     "text": [
      "Detection:: Location -> (640, 780)\n",
      "Scale ->  0 | Confidence Score 0.6854648503431346 \n",
      "\n"
     ]
    },
    {
     "name": "stderr",
     "output_type": "stream",
     "text": [
      "/tmp/ipykernel_62901/1983484597.py:49: FutureWarning: `multichannel` is a deprecated argument name for `hog`. It will be removed in version 1.0. Please use `channel_axis` instead.\n",
      "  fds, img_hog = hog(\n"
     ]
    },
    {
     "name": "stdout",
     "output_type": "stream",
     "text": [
      "Detection:: Location -> (660, 780)\n",
      "Scale ->  0 | Confidence Score 0.7087850821378582 \n",
      "\n"
     ]
    },
    {
     "name": "stderr",
     "output_type": "stream",
     "text": [
      "/tmp/ipykernel_62901/1983484597.py:49: FutureWarning: `multichannel` is a deprecated argument name for `hog`. It will be removed in version 1.0. Please use `channel_axis` instead.\n",
      "  fds, img_hog = hog(\n"
     ]
    },
    {
     "name": "stdout",
     "output_type": "stream",
     "text": [
      "Detection:: Location -> (680, 780)\n",
      "Scale ->  0 | Confidence Score 0.7259198475363949 \n",
      "\n"
     ]
    },
    {
     "name": "stderr",
     "output_type": "stream",
     "text": [
      "/tmp/ipykernel_62901/1983484597.py:49: FutureWarning: `multichannel` is a deprecated argument name for `hog`. It will be removed in version 1.0. Please use `channel_axis` instead.\n",
      "  fds, img_hog = hog(\n"
     ]
    },
    {
     "name": "stdout",
     "output_type": "stream",
     "text": [
      "Detection:: Location -> (700, 780)\n",
      "Scale ->  0 | Confidence Score 0.6408790640452589 \n",
      "\n",
      "Detection:: Location -> (720, 780)\n",
      "Scale ->  0 | Confidence Score 0.6249160030141204 \n",
      "\n"
     ]
    },
    {
     "name": "stderr",
     "output_type": "stream",
     "text": [
      "/tmp/ipykernel_62901/1983484597.py:49: FutureWarning: `multichannel` is a deprecated argument name for `hog`. It will be removed in version 1.0. Please use `channel_axis` instead.\n",
      "  fds, img_hog = hog(\n",
      "/tmp/ipykernel_62901/1983484597.py:49: FutureWarning: `multichannel` is a deprecated argument name for `hog`. It will be removed in version 1.0. Please use `channel_axis` instead.\n",
      "  fds, img_hog = hog(\n"
     ]
    },
    {
     "name": "stdout",
     "output_type": "stream",
     "text": [
      "Detection:: Location -> (740, 780)\n",
      "Scale ->  0 | Confidence Score 0.6457702481825003 \n",
      "\n"
     ]
    },
    {
     "name": "stderr",
     "output_type": "stream",
     "text": [
      "/tmp/ipykernel_62901/1983484597.py:49: FutureWarning: `multichannel` is a deprecated argument name for `hog`. It will be removed in version 1.0. Please use `channel_axis` instead.\n",
      "  fds, img_hog = hog(\n",
      "/tmp/ipykernel_62901/1983484597.py:49: FutureWarning: `multichannel` is a deprecated argument name for `hog`. It will be removed in version 1.0. Please use `channel_axis` instead.\n",
      "  fds, img_hog = hog(\n",
      "/tmp/ipykernel_62901/1983484597.py:49: FutureWarning: `multichannel` is a deprecated argument name for `hog`. It will be removed in version 1.0. Please use `channel_axis` instead.\n",
      "  fds, img_hog = hog(\n",
      "/tmp/ipykernel_62901/1983484597.py:49: FutureWarning: `multichannel` is a deprecated argument name for `hog`. It will be removed in version 1.0. Please use `channel_axis` instead.\n",
      "  fds, img_hog = hog(\n",
      "/tmp/ipykernel_62901/1983484597.py:49: FutureWarning: `multichannel` is a deprecated argument name for `hog`. It will be removed in version 1.0. Please use `channel_axis` instead.\n",
      "  fds, img_hog = hog(\n",
      "/tmp/ipykernel_62901/1983484597.py:49: FutureWarning: `multichannel` is a deprecated argument name for `hog`. It will be removed in version 1.0. Please use `channel_axis` instead.\n",
      "  fds, img_hog = hog(\n",
      "/tmp/ipykernel_62901/1983484597.py:49: FutureWarning: `multichannel` is a deprecated argument name for `hog`. It will be removed in version 1.0. Please use `channel_axis` instead.\n",
      "  fds, img_hog = hog(\n",
      "/tmp/ipykernel_62901/1983484597.py:49: FutureWarning: `multichannel` is a deprecated argument name for `hog`. It will be removed in version 1.0. Please use `channel_axis` instead.\n",
      "  fds, img_hog = hog(\n",
      "/tmp/ipykernel_62901/1983484597.py:49: FutureWarning: `multichannel` is a deprecated argument name for `hog`. It will be removed in version 1.0. Please use `channel_axis` instead.\n",
      "  fds, img_hog = hog(\n",
      "/tmp/ipykernel_62901/1983484597.py:49: FutureWarning: `multichannel` is a deprecated argument name for `hog`. It will be removed in version 1.0. Please use `channel_axis` instead.\n",
      "  fds, img_hog = hog(\n"
     ]
    },
    {
     "name": "stdout",
     "output_type": "stream",
     "text": [
      "Detection:: Location -> (920, 780)\n",
      "Scale ->  0 | Confidence Score 0.6688924509381308 \n",
      "\n",
      "Detection:: Location -> (0, 800)\n",
      "Scale ->  0 | Confidence Score 0.7166425262646581 \n",
      "\n"
     ]
    },
    {
     "name": "stderr",
     "output_type": "stream",
     "text": [
      "/tmp/ipykernel_62901/1983484597.py:49: FutureWarning: `multichannel` is a deprecated argument name for `hog`. It will be removed in version 1.0. Please use `channel_axis` instead.\n",
      "  fds, img_hog = hog(\n",
      "/tmp/ipykernel_62901/1983484597.py:49: FutureWarning: `multichannel` is a deprecated argument name for `hog`. It will be removed in version 1.0. Please use `channel_axis` instead.\n",
      "  fds, img_hog = hog(\n"
     ]
    },
    {
     "name": "stdout",
     "output_type": "stream",
     "text": [
      "Detection:: Location -> (20, 800)\n",
      "Scale ->  0 | Confidence Score 0.6970290059015625 \n",
      "\n",
      "Detection:: Location -> (40, 800)\n",
      "Scale ->  0 | Confidence Score 0.6810344219580851 \n",
      "\n"
     ]
    },
    {
     "name": "stderr",
     "output_type": "stream",
     "text": [
      "/tmp/ipykernel_62901/1983484597.py:49: FutureWarning: `multichannel` is a deprecated argument name for `hog`. It will be removed in version 1.0. Please use `channel_axis` instead.\n",
      "  fds, img_hog = hog(\n",
      "/tmp/ipykernel_62901/1983484597.py:49: FutureWarning: `multichannel` is a deprecated argument name for `hog`. It will be removed in version 1.0. Please use `channel_axis` instead.\n",
      "  fds, img_hog = hog(\n"
     ]
    },
    {
     "name": "stdout",
     "output_type": "stream",
     "text": [
      "Detection:: Location -> (60, 800)\n",
      "Scale ->  0 | Confidence Score 0.6308891719464377 \n",
      "\n",
      "Detection:: Location -> (80, 800)\n",
      "Scale ->  0 | Confidence Score 0.6300352098492024 \n",
      "\n"
     ]
    },
    {
     "name": "stderr",
     "output_type": "stream",
     "text": [
      "/tmp/ipykernel_62901/1983484597.py:49: FutureWarning: `multichannel` is a deprecated argument name for `hog`. It will be removed in version 1.0. Please use `channel_axis` instead.\n",
      "  fds, img_hog = hog(\n",
      "/tmp/ipykernel_62901/1983484597.py:49: FutureWarning: `multichannel` is a deprecated argument name for `hog`. It will be removed in version 1.0. Please use `channel_axis` instead.\n",
      "  fds, img_hog = hog(\n",
      "/tmp/ipykernel_62901/1983484597.py:49: FutureWarning: `multichannel` is a deprecated argument name for `hog`. It will be removed in version 1.0. Please use `channel_axis` instead.\n",
      "  fds, img_hog = hog(\n",
      "/tmp/ipykernel_62901/1983484597.py:49: FutureWarning: `multichannel` is a deprecated argument name for `hog`. It will be removed in version 1.0. Please use `channel_axis` instead.\n",
      "  fds, img_hog = hog(\n",
      "/tmp/ipykernel_62901/1983484597.py:49: FutureWarning: `multichannel` is a deprecated argument name for `hog`. It will be removed in version 1.0. Please use `channel_axis` instead.\n",
      "  fds, img_hog = hog(\n",
      "/tmp/ipykernel_62901/1983484597.py:49: FutureWarning: `multichannel` is a deprecated argument name for `hog`. It will be removed in version 1.0. Please use `channel_axis` instead.\n",
      "  fds, img_hog = hog(\n",
      "/tmp/ipykernel_62901/1983484597.py:49: FutureWarning: `multichannel` is a deprecated argument name for `hog`. It will be removed in version 1.0. Please use `channel_axis` instead.\n",
      "  fds, img_hog = hog(\n",
      "/tmp/ipykernel_62901/1983484597.py:49: FutureWarning: `multichannel` is a deprecated argument name for `hog`. It will be removed in version 1.0. Please use `channel_axis` instead.\n",
      "  fds, img_hog = hog(\n",
      "/tmp/ipykernel_62901/1983484597.py:49: FutureWarning: `multichannel` is a deprecated argument name for `hog`. It will be removed in version 1.0. Please use `channel_axis` instead.\n",
      "  fds, img_hog = hog(\n",
      "/tmp/ipykernel_62901/1983484597.py:49: FutureWarning: `multichannel` is a deprecated argument name for `hog`. It will be removed in version 1.0. Please use `channel_axis` instead.\n",
      "  fds, img_hog = hog(\n",
      "/tmp/ipykernel_62901/1983484597.py:49: FutureWarning: `multichannel` is a deprecated argument name for `hog`. It will be removed in version 1.0. Please use `channel_axis` instead.\n",
      "  fds, img_hog = hog(\n",
      "/tmp/ipykernel_62901/1983484597.py:49: FutureWarning: `multichannel` is a deprecated argument name for `hog`. It will be removed in version 1.0. Please use `channel_axis` instead.\n",
      "  fds, img_hog = hog(\n",
      "/tmp/ipykernel_62901/1983484597.py:49: FutureWarning: `multichannel` is a deprecated argument name for `hog`. It will be removed in version 1.0. Please use `channel_axis` instead.\n",
      "  fds, img_hog = hog(\n",
      "/tmp/ipykernel_62901/1983484597.py:49: FutureWarning: `multichannel` is a deprecated argument name for `hog`. It will be removed in version 1.0. Please use `channel_axis` instead.\n",
      "  fds, img_hog = hog(\n",
      "/tmp/ipykernel_62901/1983484597.py:49: FutureWarning: `multichannel` is a deprecated argument name for `hog`. It will be removed in version 1.0. Please use `channel_axis` instead.\n",
      "  fds, img_hog = hog(\n",
      "/tmp/ipykernel_62901/1983484597.py:49: FutureWarning: `multichannel` is a deprecated argument name for `hog`. It will be removed in version 1.0. Please use `channel_axis` instead.\n",
      "  fds, img_hog = hog(\n",
      "/tmp/ipykernel_62901/1983484597.py:49: FutureWarning: `multichannel` is a deprecated argument name for `hog`. It will be removed in version 1.0. Please use `channel_axis` instead.\n",
      "  fds, img_hog = hog(\n",
      "/tmp/ipykernel_62901/1983484597.py:49: FutureWarning: `multichannel` is a deprecated argument name for `hog`. It will be removed in version 1.0. Please use `channel_axis` instead.\n",
      "  fds, img_hog = hog(\n",
      "/tmp/ipykernel_62901/1983484597.py:49: FutureWarning: `multichannel` is a deprecated argument name for `hog`. It will be removed in version 1.0. Please use `channel_axis` instead.\n",
      "  fds, img_hog = hog(\n",
      "/tmp/ipykernel_62901/1983484597.py:49: FutureWarning: `multichannel` is a deprecated argument name for `hog`. It will be removed in version 1.0. Please use `channel_axis` instead.\n",
      "  fds, img_hog = hog(\n",
      "/tmp/ipykernel_62901/1983484597.py:49: FutureWarning: `multichannel` is a deprecated argument name for `hog`. It will be removed in version 1.0. Please use `channel_axis` instead.\n",
      "  fds, img_hog = hog(\n",
      "/tmp/ipykernel_62901/1983484597.py:49: FutureWarning: `multichannel` is a deprecated argument name for `hog`. It will be removed in version 1.0. Please use `channel_axis` instead.\n",
      "  fds, img_hog = hog(\n",
      "/tmp/ipykernel_62901/1983484597.py:49: FutureWarning: `multichannel` is a deprecated argument name for `hog`. It will be removed in version 1.0. Please use `channel_axis` instead.\n",
      "  fds, img_hog = hog(\n",
      "/tmp/ipykernel_62901/1983484597.py:49: FutureWarning: `multichannel` is a deprecated argument name for `hog`. It will be removed in version 1.0. Please use `channel_axis` instead.\n",
      "  fds, img_hog = hog(\n",
      "/tmp/ipykernel_62901/1983484597.py:49: FutureWarning: `multichannel` is a deprecated argument name for `hog`. It will be removed in version 1.0. Please use `channel_axis` instead.\n",
      "  fds, img_hog = hog(\n",
      "/tmp/ipykernel_62901/1983484597.py:49: FutureWarning: `multichannel` is a deprecated argument name for `hog`. It will be removed in version 1.0. Please use `channel_axis` instead.\n",
      "  fds, img_hog = hog(\n",
      "/tmp/ipykernel_62901/1983484597.py:49: FutureWarning: `multichannel` is a deprecated argument name for `hog`. It will be removed in version 1.0. Please use `channel_axis` instead.\n",
      "  fds, img_hog = hog(\n",
      "/tmp/ipykernel_62901/1983484597.py:49: FutureWarning: `multichannel` is a deprecated argument name for `hog`. It will be removed in version 1.0. Please use `channel_axis` instead.\n",
      "  fds, img_hog = hog(\n",
      "/tmp/ipykernel_62901/1983484597.py:49: FutureWarning: `multichannel` is a deprecated argument name for `hog`. It will be removed in version 1.0. Please use `channel_axis` instead.\n",
      "  fds, img_hog = hog(\n",
      "/tmp/ipykernel_62901/1983484597.py:49: FutureWarning: `multichannel` is a deprecated argument name for `hog`. It will be removed in version 1.0. Please use `channel_axis` instead.\n",
      "  fds, img_hog = hog(\n",
      "/tmp/ipykernel_62901/1983484597.py:49: FutureWarning: `multichannel` is a deprecated argument name for `hog`. It will be removed in version 1.0. Please use `channel_axis` instead.\n",
      "  fds, img_hog = hog(\n",
      "/tmp/ipykernel_62901/1983484597.py:49: FutureWarning: `multichannel` is a deprecated argument name for `hog`. It will be removed in version 1.0. Please use `channel_axis` instead.\n",
      "  fds, img_hog = hog(\n",
      "/tmp/ipykernel_62901/1983484597.py:49: FutureWarning: `multichannel` is a deprecated argument name for `hog`. It will be removed in version 1.0. Please use `channel_axis` instead.\n",
      "  fds, img_hog = hog(\n",
      "/tmp/ipykernel_62901/1983484597.py:49: FutureWarning: `multichannel` is a deprecated argument name for `hog`. It will be removed in version 1.0. Please use `channel_axis` instead.\n",
      "  fds, img_hog = hog(\n",
      "/tmp/ipykernel_62901/1983484597.py:49: FutureWarning: `multichannel` is a deprecated argument name for `hog`. It will be removed in version 1.0. Please use `channel_axis` instead.\n",
      "  fds, img_hog = hog(\n",
      "/tmp/ipykernel_62901/1983484597.py:49: FutureWarning: `multichannel` is a deprecated argument name for `hog`. It will be removed in version 1.0. Please use `channel_axis` instead.\n",
      "  fds, img_hog = hog(\n",
      "/tmp/ipykernel_62901/1983484597.py:49: FutureWarning: `multichannel` is a deprecated argument name for `hog`. It will be removed in version 1.0. Please use `channel_axis` instead.\n",
      "  fds, img_hog = hog(\n",
      "/tmp/ipykernel_62901/1983484597.py:49: FutureWarning: `multichannel` is a deprecated argument name for `hog`. It will be removed in version 1.0. Please use `channel_axis` instead.\n",
      "  fds, img_hog = hog(\n",
      "/tmp/ipykernel_62901/1983484597.py:49: FutureWarning: `multichannel` is a deprecated argument name for `hog`. It will be removed in version 1.0. Please use `channel_axis` instead.\n",
      "  fds, img_hog = hog(\n"
     ]
    },
    {
     "name": "stdout",
     "output_type": "stream",
     "text": [
      "Detection:: Location -> (860, 800)\n",
      "Scale ->  0 | Confidence Score 0.6140617988592406 \n",
      "\n",
      "Detection:: Location -> (880, 800)\n",
      "Scale ->  0 | Confidence Score 0.6922903887203823 \n",
      "\n"
     ]
    },
    {
     "name": "stderr",
     "output_type": "stream",
     "text": [
      "/tmp/ipykernel_62901/1983484597.py:49: FutureWarning: `multichannel` is a deprecated argument name for `hog`. It will be removed in version 1.0. Please use `channel_axis` instead.\n",
      "  fds, img_hog = hog(\n",
      "/tmp/ipykernel_62901/1983484597.py:49: FutureWarning: `multichannel` is a deprecated argument name for `hog`. It will be removed in version 1.0. Please use `channel_axis` instead.\n",
      "  fds, img_hog = hog(\n"
     ]
    },
    {
     "name": "stdout",
     "output_type": "stream",
     "text": [
      "Detection:: Location -> (900, 800)\n",
      "Scale ->  0 | Confidence Score 0.7106125786950231 \n",
      "\n",
      "Detection:: Location -> (920, 800)\n",
      "Scale ->  0 | Confidence Score 0.7525172308609429 \n",
      "\n"
     ]
    },
    {
     "name": "stderr",
     "output_type": "stream",
     "text": [
      "/tmp/ipykernel_62901/1983484597.py:49: FutureWarning: `multichannel` is a deprecated argument name for `hog`. It will be removed in version 1.0. Please use `channel_axis` instead.\n",
      "  fds, img_hog = hog(\n",
      "/tmp/ipykernel_62901/1983484597.py:49: FutureWarning: `multichannel` is a deprecated argument name for `hog`. It will be removed in version 1.0. Please use `channel_axis` instead.\n",
      "  fds, img_hog = hog(\n",
      "/tmp/ipykernel_62901/1983484597.py:49: FutureWarning: `multichannel` is a deprecated argument name for `hog`. It will be removed in version 1.0. Please use `channel_axis` instead.\n",
      "  fds, img_hog = hog(\n",
      "/tmp/ipykernel_62901/1983484597.py:49: FutureWarning: `multichannel` is a deprecated argument name for `hog`. It will be removed in version 1.0. Please use `channel_axis` instead.\n",
      "  fds, img_hog = hog(\n",
      "/tmp/ipykernel_62901/1983484597.py:49: FutureWarning: `multichannel` is a deprecated argument name for `hog`. It will be removed in version 1.0. Please use `channel_axis` instead.\n",
      "  fds, img_hog = hog(\n",
      "/tmp/ipykernel_62901/1983484597.py:49: FutureWarning: `multichannel` is a deprecated argument name for `hog`. It will be removed in version 1.0. Please use `channel_axis` instead.\n",
      "  fds, img_hog = hog(\n",
      "/tmp/ipykernel_62901/1983484597.py:49: FutureWarning: `multichannel` is a deprecated argument name for `hog`. It will be removed in version 1.0. Please use `channel_axis` instead.\n",
      "  fds, img_hog = hog(\n",
      "/tmp/ipykernel_62901/1983484597.py:49: FutureWarning: `multichannel` is a deprecated argument name for `hog`. It will be removed in version 1.0. Please use `channel_axis` instead.\n",
      "  fds, img_hog = hog(\n",
      "/tmp/ipykernel_62901/1983484597.py:49: FutureWarning: `multichannel` is a deprecated argument name for `hog`. It will be removed in version 1.0. Please use `channel_axis` instead.\n",
      "  fds, img_hog = hog(\n",
      "/tmp/ipykernel_62901/1983484597.py:49: FutureWarning: `multichannel` is a deprecated argument name for `hog`. It will be removed in version 1.0. Please use `channel_axis` instead.\n",
      "  fds, img_hog = hog(\n",
      "/tmp/ipykernel_62901/1983484597.py:49: FutureWarning: `multichannel` is a deprecated argument name for `hog`. It will be removed in version 1.0. Please use `channel_axis` instead.\n",
      "  fds, img_hog = hog(\n"
     ]
    },
    {
     "name": "stdout",
     "output_type": "stream",
     "text": [
      "Detection:: Location -> (180, 0)\n",
      "Scale ->  1 | Confidence Score 0.62069128617585 \n",
      "\n",
      "Detection:: Location -> (200, 0)\n",
      "Scale ->  1 | Confidence Score 0.6382662284221976 \n",
      "\n"
     ]
    },
    {
     "name": "stderr",
     "output_type": "stream",
     "text": [
      "/tmp/ipykernel_62901/1983484597.py:49: FutureWarning: `multichannel` is a deprecated argument name for `hog`. It will be removed in version 1.0. Please use `channel_axis` instead.\n",
      "  fds, img_hog = hog(\n",
      "/tmp/ipykernel_62901/1983484597.py:49: FutureWarning: `multichannel` is a deprecated argument name for `hog`. It will be removed in version 1.0. Please use `channel_axis` instead.\n",
      "  fds, img_hog = hog(\n",
      "/tmp/ipykernel_62901/1983484597.py:49: FutureWarning: `multichannel` is a deprecated argument name for `hog`. It will be removed in version 1.0. Please use `channel_axis` instead.\n",
      "  fds, img_hog = hog(\n",
      "/tmp/ipykernel_62901/1983484597.py:49: FutureWarning: `multichannel` is a deprecated argument name for `hog`. It will be removed in version 1.0. Please use `channel_axis` instead.\n",
      "  fds, img_hog = hog(\n",
      "/tmp/ipykernel_62901/1983484597.py:49: FutureWarning: `multichannel` is a deprecated argument name for `hog`. It will be removed in version 1.0. Please use `channel_axis` instead.\n",
      "  fds, img_hog = hog(\n",
      "/tmp/ipykernel_62901/1983484597.py:49: FutureWarning: `multichannel` is a deprecated argument name for `hog`. It will be removed in version 1.0. Please use `channel_axis` instead.\n",
      "  fds, img_hog = hog(\n",
      "/tmp/ipykernel_62901/1983484597.py:49: FutureWarning: `multichannel` is a deprecated argument name for `hog`. It will be removed in version 1.0. Please use `channel_axis` instead.\n",
      "  fds, img_hog = hog(\n",
      "/tmp/ipykernel_62901/1983484597.py:49: FutureWarning: `multichannel` is a deprecated argument name for `hog`. It will be removed in version 1.0. Please use `channel_axis` instead.\n",
      "  fds, img_hog = hog(\n",
      "/tmp/ipykernel_62901/1983484597.py:49: FutureWarning: `multichannel` is a deprecated argument name for `hog`. It will be removed in version 1.0. Please use `channel_axis` instead.\n",
      "  fds, img_hog = hog(\n"
     ]
    },
    {
     "name": "stdout",
     "output_type": "stream",
     "text": [
      "Detection:: Location -> (60, 20)\n",
      "Scale ->  1 | Confidence Score 0.6038475574054997 \n",
      "\n"
     ]
    },
    {
     "name": "stderr",
     "output_type": "stream",
     "text": [
      "/tmp/ipykernel_62901/1983484597.py:49: FutureWarning: `multichannel` is a deprecated argument name for `hog`. It will be removed in version 1.0. Please use `channel_axis` instead.\n",
      "  fds, img_hog = hog(\n",
      "/tmp/ipykernel_62901/1983484597.py:49: FutureWarning: `multichannel` is a deprecated argument name for `hog`. It will be removed in version 1.0. Please use `channel_axis` instead.\n",
      "  fds, img_hog = hog(\n"
     ]
    },
    {
     "name": "stdout",
     "output_type": "stream",
     "text": [
      "Detection:: Location -> (100, 20)\n",
      "Scale ->  1 | Confidence Score 0.6645144822675251 \n",
      "\n"
     ]
    },
    {
     "name": "stderr",
     "output_type": "stream",
     "text": [
      "/tmp/ipykernel_62901/1983484597.py:49: FutureWarning: `multichannel` is a deprecated argument name for `hog`. It will be removed in version 1.0. Please use `channel_axis` instead.\n",
      "  fds, img_hog = hog(\n"
     ]
    },
    {
     "name": "stdout",
     "output_type": "stream",
     "text": [
      "Detection:: Location -> (120, 20)\n",
      "Scale ->  1 | Confidence Score 0.6270971863981071 \n",
      "\n",
      "Detection:: Location -> (140, 20)\n",
      "Scale ->  1 | Confidence Score 0.670443478555268 \n",
      "\n"
     ]
    },
    {
     "name": "stderr",
     "output_type": "stream",
     "text": [
      "/tmp/ipykernel_62901/1983484597.py:49: FutureWarning: `multichannel` is a deprecated argument name for `hog`. It will be removed in version 1.0. Please use `channel_axis` instead.\n",
      "  fds, img_hog = hog(\n",
      "/tmp/ipykernel_62901/1983484597.py:49: FutureWarning: `multichannel` is a deprecated argument name for `hog`. It will be removed in version 1.0. Please use `channel_axis` instead.\n",
      "  fds, img_hog = hog(\n"
     ]
    },
    {
     "name": "stdout",
     "output_type": "stream",
     "text": [
      "Detection:: Location -> (160, 20)\n",
      "Scale ->  1 | Confidence Score 0.6976730596265744 \n",
      "\n"
     ]
    },
    {
     "name": "stderr",
     "output_type": "stream",
     "text": [
      "/tmp/ipykernel_62901/1983484597.py:49: FutureWarning: `multichannel` is a deprecated argument name for `hog`. It will be removed in version 1.0. Please use `channel_axis` instead.\n",
      "  fds, img_hog = hog(\n"
     ]
    },
    {
     "name": "stdout",
     "output_type": "stream",
     "text": [
      "Detection:: Location -> (180, 20)\n",
      "Scale ->  1 | Confidence Score 0.7642664549411923 \n",
      "\n"
     ]
    },
    {
     "name": "stderr",
     "output_type": "stream",
     "text": [
      "/tmp/ipykernel_62901/1983484597.py:49: FutureWarning: `multichannel` is a deprecated argument name for `hog`. It will be removed in version 1.0. Please use `channel_axis` instead.\n",
      "  fds, img_hog = hog(\n"
     ]
    },
    {
     "name": "stdout",
     "output_type": "stream",
     "text": [
      "Detection:: Location -> (200, 20)\n",
      "Scale ->  1 | Confidence Score 0.8174409469588793 \n",
      "\n",
      "Detection:: Location -> (220, 20)\n",
      "Scale ->  1 | Confidence Score 0.8227856932287257 \n",
      "\n"
     ]
    },
    {
     "name": "stderr",
     "output_type": "stream",
     "text": [
      "/tmp/ipykernel_62901/1983484597.py:49: FutureWarning: `multichannel` is a deprecated argument name for `hog`. It will be removed in version 1.0. Please use `channel_axis` instead.\n",
      "  fds, img_hog = hog(\n",
      "/tmp/ipykernel_62901/1983484597.py:49: FutureWarning: `multichannel` is a deprecated argument name for `hog`. It will be removed in version 1.0. Please use `channel_axis` instead.\n",
      "  fds, img_hog = hog(\n"
     ]
    },
    {
     "name": "stdout",
     "output_type": "stream",
     "text": [
      "Detection:: Location -> (240, 20)\n",
      "Scale ->  1 | Confidence Score 0.7429644684246415 \n",
      "\n",
      "Detection:: Location -> (260, 20)\n",
      "Scale ->  1 | Confidence Score 0.7209475189501667 \n",
      "\n"
     ]
    },
    {
     "name": "stderr",
     "output_type": "stream",
     "text": [
      "/tmp/ipykernel_62901/1983484597.py:49: FutureWarning: `multichannel` is a deprecated argument name for `hog`. It will be removed in version 1.0. Please use `channel_axis` instead.\n",
      "  fds, img_hog = hog(\n",
      "/tmp/ipykernel_62901/1983484597.py:49: FutureWarning: `multichannel` is a deprecated argument name for `hog`. It will be removed in version 1.0. Please use `channel_axis` instead.\n",
      "  fds, img_hog = hog(\n"
     ]
    },
    {
     "name": "stdout",
     "output_type": "stream",
     "text": [
      "Detection:: Location -> (280, 20)\n",
      "Scale ->  1 | Confidence Score 0.6170496682012946 \n",
      "\n"
     ]
    },
    {
     "name": "stderr",
     "output_type": "stream",
     "text": [
      "/tmp/ipykernel_62901/1983484597.py:49: FutureWarning: `multichannel` is a deprecated argument name for `hog`. It will be removed in version 1.0. Please use `channel_axis` instead.\n",
      "  fds, img_hog = hog(\n",
      "/tmp/ipykernel_62901/1983484597.py:49: FutureWarning: `multichannel` is a deprecated argument name for `hog`. It will be removed in version 1.0. Please use `channel_axis` instead.\n",
      "  fds, img_hog = hog(\n",
      "/tmp/ipykernel_62901/1983484597.py:49: FutureWarning: `multichannel` is a deprecated argument name for `hog`. It will be removed in version 1.0. Please use `channel_axis` instead.\n",
      "  fds, img_hog = hog(\n",
      "/tmp/ipykernel_62901/1983484597.py:49: FutureWarning: `multichannel` is a deprecated argument name for `hog`. It will be removed in version 1.0. Please use `channel_axis` instead.\n",
      "  fds, img_hog = hog(\n"
     ]
    },
    {
     "name": "stdout",
     "output_type": "stream",
     "text": [
      "Detection:: Location -> (60, 40)\n",
      "Scale ->  1 | Confidence Score 0.6925920589150852 \n",
      "\n",
      "Detection:: Location -> (80, 40)\n",
      "Scale ->  1 | Confidence Score 0.6558893227090312 \n",
      "\n"
     ]
    },
    {
     "name": "stderr",
     "output_type": "stream",
     "text": [
      "/tmp/ipykernel_62901/1983484597.py:49: FutureWarning: `multichannel` is a deprecated argument name for `hog`. It will be removed in version 1.0. Please use `channel_axis` instead.\n",
      "  fds, img_hog = hog(\n",
      "/tmp/ipykernel_62901/1983484597.py:49: FutureWarning: `multichannel` is a deprecated argument name for `hog`. It will be removed in version 1.0. Please use `channel_axis` instead.\n",
      "  fds, img_hog = hog(\n"
     ]
    },
    {
     "name": "stdout",
     "output_type": "stream",
     "text": [
      "Detection:: Location -> (100, 40)\n",
      "Scale ->  1 | Confidence Score 0.651453996662617 \n",
      "\n",
      "Detection:: Location -> (120, 40)\n",
      "Scale ->  1 | Confidence Score 0.7352394432496892 \n",
      "\n"
     ]
    },
    {
     "name": "stderr",
     "output_type": "stream",
     "text": [
      "/tmp/ipykernel_62901/1983484597.py:49: FutureWarning: `multichannel` is a deprecated argument name for `hog`. It will be removed in version 1.0. Please use `channel_axis` instead.\n",
      "  fds, img_hog = hog(\n",
      "/tmp/ipykernel_62901/1983484597.py:49: FutureWarning: `multichannel` is a deprecated argument name for `hog`. It will be removed in version 1.0. Please use `channel_axis` instead.\n",
      "  fds, img_hog = hog(\n"
     ]
    },
    {
     "name": "stdout",
     "output_type": "stream",
     "text": [
      "Detection:: Location -> (140, 40)\n",
      "Scale ->  1 | Confidence Score 0.7254970680686067 \n",
      "\n",
      "Detection:: Location -> (160, 40)\n",
      "Scale ->  1 | Confidence Score 0.7656316327041249 \n",
      "\n"
     ]
    },
    {
     "name": "stderr",
     "output_type": "stream",
     "text": [
      "/tmp/ipykernel_62901/1983484597.py:49: FutureWarning: `multichannel` is a deprecated argument name for `hog`. It will be removed in version 1.0. Please use `channel_axis` instead.\n",
      "  fds, img_hog = hog(\n",
      "/tmp/ipykernel_62901/1983484597.py:49: FutureWarning: `multichannel` is a deprecated argument name for `hog`. It will be removed in version 1.0. Please use `channel_axis` instead.\n",
      "  fds, img_hog = hog(\n"
     ]
    },
    {
     "name": "stdout",
     "output_type": "stream",
     "text": [
      "Detection:: Location -> (180, 40)\n",
      "Scale ->  1 | Confidence Score 0.7801109602804215 \n",
      "\n",
      "Detection:: Location -> (200, 40)\n",
      "Scale ->  1 | Confidence Score 0.783491180896515 \n",
      "\n"
     ]
    },
    {
     "name": "stderr",
     "output_type": "stream",
     "text": [
      "/tmp/ipykernel_62901/1983484597.py:49: FutureWarning: `multichannel` is a deprecated argument name for `hog`. It will be removed in version 1.0. Please use `channel_axis` instead.\n",
      "  fds, img_hog = hog(\n",
      "/tmp/ipykernel_62901/1983484597.py:49: FutureWarning: `multichannel` is a deprecated argument name for `hog`. It will be removed in version 1.0. Please use `channel_axis` instead.\n",
      "  fds, img_hog = hog(\n"
     ]
    },
    {
     "name": "stdout",
     "output_type": "stream",
     "text": [
      "Detection:: Location -> (220, 40)\n",
      "Scale ->  1 | Confidence Score 0.7986641985571493 \n",
      "\n",
      "Detection:: Location -> (240, 40)\n",
      "Scale ->  1 | Confidence Score 0.7784589807445725 \n",
      "\n"
     ]
    },
    {
     "name": "stderr",
     "output_type": "stream",
     "text": [
      "/tmp/ipykernel_62901/1983484597.py:49: FutureWarning: `multichannel` is a deprecated argument name for `hog`. It will be removed in version 1.0. Please use `channel_axis` instead.\n",
      "  fds, img_hog = hog(\n",
      "/tmp/ipykernel_62901/1983484597.py:49: FutureWarning: `multichannel` is a deprecated argument name for `hog`. It will be removed in version 1.0. Please use `channel_axis` instead.\n",
      "  fds, img_hog = hog(\n"
     ]
    },
    {
     "name": "stdout",
     "output_type": "stream",
     "text": [
      "Detection:: Location -> (260, 40)\n",
      "Scale ->  1 | Confidence Score 0.6315884392429775 \n",
      "\n"
     ]
    },
    {
     "name": "stderr",
     "output_type": "stream",
     "text": [
      "/tmp/ipykernel_62901/1983484597.py:49: FutureWarning: `multichannel` is a deprecated argument name for `hog`. It will be removed in version 1.0. Please use `channel_axis` instead.\n",
      "  fds, img_hog = hog(\n",
      "/tmp/ipykernel_62901/1983484597.py:49: FutureWarning: `multichannel` is a deprecated argument name for `hog`. It will be removed in version 1.0. Please use `channel_axis` instead.\n",
      "  fds, img_hog = hog(\n",
      "/tmp/ipykernel_62901/1983484597.py:49: FutureWarning: `multichannel` is a deprecated argument name for `hog`. It will be removed in version 1.0. Please use `channel_axis` instead.\n",
      "  fds, img_hog = hog(\n",
      "/tmp/ipykernel_62901/1983484597.py:49: FutureWarning: `multichannel` is a deprecated argument name for `hog`. It will be removed in version 1.0. Please use `channel_axis` instead.\n",
      "  fds, img_hog = hog(\n"
     ]
    },
    {
     "name": "stdout",
     "output_type": "stream",
     "text": [
      "Detection:: Location -> (20, 60)\n",
      "Scale ->  1 | Confidence Score 0.6171449741861336 \n",
      "\n",
      "Detection:: Location -> (40, 60)\n",
      "Scale ->  1 | Confidence Score 0.6883314964042315 \n",
      "\n"
     ]
    },
    {
     "name": "stderr",
     "output_type": "stream",
     "text": [
      "/tmp/ipykernel_62901/1983484597.py:49: FutureWarning: `multichannel` is a deprecated argument name for `hog`. It will be removed in version 1.0. Please use `channel_axis` instead.\n",
      "  fds, img_hog = hog(\n",
      "/tmp/ipykernel_62901/1983484597.py:49: FutureWarning: `multichannel` is a deprecated argument name for `hog`. It will be removed in version 1.0. Please use `channel_axis` instead.\n",
      "  fds, img_hog = hog(\n"
     ]
    },
    {
     "name": "stdout",
     "output_type": "stream",
     "text": [
      "Detection:: Location -> (60, 60)\n",
      "Scale ->  1 | Confidence Score 0.7596336587550129 \n",
      "\n",
      "Detection:: Location -> (80, 60)\n",
      "Scale ->  1 | Confidence Score 0.7303854916915419 \n",
      "\n"
     ]
    },
    {
     "name": "stderr",
     "output_type": "stream",
     "text": [
      "/tmp/ipykernel_62901/1983484597.py:49: FutureWarning: `multichannel` is a deprecated argument name for `hog`. It will be removed in version 1.0. Please use `channel_axis` instead.\n",
      "  fds, img_hog = hog(\n",
      "/tmp/ipykernel_62901/1983484597.py:49: FutureWarning: `multichannel` is a deprecated argument name for `hog`. It will be removed in version 1.0. Please use `channel_axis` instead.\n",
      "  fds, img_hog = hog(\n"
     ]
    },
    {
     "name": "stdout",
     "output_type": "stream",
     "text": [
      "Detection:: Location -> (100, 60)\n",
      "Scale ->  1 | Confidence Score 0.6768033132912074 \n",
      "\n",
      "Detection:: Location -> (120, 60)\n",
      "Scale ->  1 | Confidence Score 0.658779509443845 \n",
      "\n"
     ]
    },
    {
     "name": "stderr",
     "output_type": "stream",
     "text": [
      "/tmp/ipykernel_62901/1983484597.py:49: FutureWarning: `multichannel` is a deprecated argument name for `hog`. It will be removed in version 1.0. Please use `channel_axis` instead.\n",
      "  fds, img_hog = hog(\n",
      "/tmp/ipykernel_62901/1983484597.py:49: FutureWarning: `multichannel` is a deprecated argument name for `hog`. It will be removed in version 1.0. Please use `channel_axis` instead.\n",
      "  fds, img_hog = hog(\n"
     ]
    },
    {
     "name": "stdout",
     "output_type": "stream",
     "text": [
      "Detection:: Location -> (140, 60)\n",
      "Scale ->  1 | Confidence Score 0.7288781559913124 \n",
      "\n",
      "Detection:: Location -> (160, 60)\n",
      "Scale ->  1 | Confidence Score 0.7393127529867937 \n",
      "\n"
     ]
    },
    {
     "name": "stderr",
     "output_type": "stream",
     "text": [
      "/tmp/ipykernel_62901/1983484597.py:49: FutureWarning: `multichannel` is a deprecated argument name for `hog`. It will be removed in version 1.0. Please use `channel_axis` instead.\n",
      "  fds, img_hog = hog(\n",
      "/tmp/ipykernel_62901/1983484597.py:49: FutureWarning: `multichannel` is a deprecated argument name for `hog`. It will be removed in version 1.0. Please use `channel_axis` instead.\n",
      "  fds, img_hog = hog(\n"
     ]
    },
    {
     "name": "stdout",
     "output_type": "stream",
     "text": [
      "Detection:: Location -> (180, 60)\n",
      "Scale ->  1 | Confidence Score 0.7314559660516544 \n",
      "\n",
      "Detection:: Location -> (200, 60)\n",
      "Scale ->  1 | Confidence Score 0.7562609270374049 \n",
      "\n"
     ]
    },
    {
     "name": "stderr",
     "output_type": "stream",
     "text": [
      "/tmp/ipykernel_62901/1983484597.py:49: FutureWarning: `multichannel` is a deprecated argument name for `hog`. It will be removed in version 1.0. Please use `channel_axis` instead.\n",
      "  fds, img_hog = hog(\n"
     ]
    },
    {
     "name": "stdout",
     "output_type": "stream",
     "text": [
      "Detection:: Location -> (220, 60)\n",
      "Scale ->  1 | Confidence Score 0.7532167485523225 \n",
      "\n",
      "Detection:: Location -> (240, 60)\n",
      "Scale ->  1 | Confidence Score 0.7513180905076758 \n",
      "\n"
     ]
    },
    {
     "name": "stderr",
     "output_type": "stream",
     "text": [
      "/tmp/ipykernel_62901/1983484597.py:49: FutureWarning: `multichannel` is a deprecated argument name for `hog`. It will be removed in version 1.0. Please use `channel_axis` instead.\n",
      "  fds, img_hog = hog(\n",
      "/tmp/ipykernel_62901/1983484597.py:49: FutureWarning: `multichannel` is a deprecated argument name for `hog`. It will be removed in version 1.0. Please use `channel_axis` instead.\n",
      "  fds, img_hog = hog(\n"
     ]
    },
    {
     "name": "stdout",
     "output_type": "stream",
     "text": [
      "Detection:: Location -> (260, 60)\n",
      "Scale ->  1 | Confidence Score 0.6857072815892123 \n",
      "\n"
     ]
    },
    {
     "name": "stderr",
     "output_type": "stream",
     "text": [
      "/tmp/ipykernel_62901/1983484597.py:49: FutureWarning: `multichannel` is a deprecated argument name for `hog`. It will be removed in version 1.0. Please use `channel_axis` instead.\n",
      "  fds, img_hog = hog(\n",
      "/tmp/ipykernel_62901/1983484597.py:49: FutureWarning: `multichannel` is a deprecated argument name for `hog`. It will be removed in version 1.0. Please use `channel_axis` instead.\n",
      "  fds, img_hog = hog(\n",
      "/tmp/ipykernel_62901/1983484597.py:49: FutureWarning: `multichannel` is a deprecated argument name for `hog`. It will be removed in version 1.0. Please use `channel_axis` instead.\n",
      "  fds, img_hog = hog(\n",
      "/tmp/ipykernel_62901/1983484597.py:49: FutureWarning: `multichannel` is a deprecated argument name for `hog`. It will be removed in version 1.0. Please use `channel_axis` instead.\n",
      "  fds, img_hog = hog(\n"
     ]
    },
    {
     "name": "stdout",
     "output_type": "stream",
     "text": [
      "Detection:: Location -> (20, 80)\n",
      "Scale ->  1 | Confidence Score 0.641073972734976 \n",
      "\n",
      "Detection:: Location -> (40, 80)\n",
      "Scale ->  1 | Confidence Score 0.7429377380135384 \n",
      "\n"
     ]
    },
    {
     "name": "stderr",
     "output_type": "stream",
     "text": [
      "/tmp/ipykernel_62901/1983484597.py:49: FutureWarning: `multichannel` is a deprecated argument name for `hog`. It will be removed in version 1.0. Please use `channel_axis` instead.\n",
      "  fds, img_hog = hog(\n"
     ]
    },
    {
     "name": "stdout",
     "output_type": "stream",
     "text": [
      "Detection:: Location -> (60, 80)\n",
      "Scale ->  1 | Confidence Score 0.7242394833995424 \n",
      "\n",
      "Detection:: Location -> (80, 80)\n",
      "Scale ->  1 | Confidence Score 0.6773981039710093 \n",
      "\n"
     ]
    },
    {
     "name": "stderr",
     "output_type": "stream",
     "text": [
      "/tmp/ipykernel_62901/1983484597.py:49: FutureWarning: `multichannel` is a deprecated argument name for `hog`. It will be removed in version 1.0. Please use `channel_axis` instead.\n",
      "  fds, img_hog = hog(\n",
      "/tmp/ipykernel_62901/1983484597.py:49: FutureWarning: `multichannel` is a deprecated argument name for `hog`. It will be removed in version 1.0. Please use `channel_axis` instead.\n",
      "  fds, img_hog = hog(\n"
     ]
    },
    {
     "name": "stdout",
     "output_type": "stream",
     "text": [
      "Detection:: Location -> (100, 80)\n",
      "Scale ->  1 | Confidence Score 0.6682196805575109 \n",
      "\n",
      "Detection:: Location -> (120, 80)\n",
      "Scale ->  1 | Confidence Score 0.6068991354955486 \n",
      "\n"
     ]
    },
    {
     "name": "stderr",
     "output_type": "stream",
     "text": [
      "/tmp/ipykernel_62901/1983484597.py:49: FutureWarning: `multichannel` is a deprecated argument name for `hog`. It will be removed in version 1.0. Please use `channel_axis` instead.\n",
      "  fds, img_hog = hog(\n",
      "/tmp/ipykernel_62901/1983484597.py:49: FutureWarning: `multichannel` is a deprecated argument name for `hog`. It will be removed in version 1.0. Please use `channel_axis` instead.\n",
      "  fds, img_hog = hog(\n"
     ]
    },
    {
     "name": "stdout",
     "output_type": "stream",
     "text": [
      "Detection:: Location -> (140, 80)\n",
      "Scale ->  1 | Confidence Score 0.6725515804011241 \n",
      "\n",
      "Detection:: Location -> (160, 80)\n",
      "Scale ->  1 | Confidence Score 0.6838452134358729 \n",
      "\n"
     ]
    },
    {
     "name": "stderr",
     "output_type": "stream",
     "text": [
      "/tmp/ipykernel_62901/1983484597.py:49: FutureWarning: `multichannel` is a deprecated argument name for `hog`. It will be removed in version 1.0. Please use `channel_axis` instead.\n",
      "  fds, img_hog = hog(\n",
      "/tmp/ipykernel_62901/1983484597.py:49: FutureWarning: `multichannel` is a deprecated argument name for `hog`. It will be removed in version 1.0. Please use `channel_axis` instead.\n",
      "  fds, img_hog = hog(\n"
     ]
    },
    {
     "name": "stdout",
     "output_type": "stream",
     "text": [
      "Detection:: Location -> (180, 80)\n",
      "Scale ->  1 | Confidence Score 0.7162237365121603 \n",
      "\n",
      "Detection:: Location -> (200, 80)\n",
      "Scale ->  1 | Confidence Score 0.7179335830538724 \n",
      "\n"
     ]
    },
    {
     "name": "stderr",
     "output_type": "stream",
     "text": [
      "/tmp/ipykernel_62901/1983484597.py:49: FutureWarning: `multichannel` is a deprecated argument name for `hog`. It will be removed in version 1.0. Please use `channel_axis` instead.\n",
      "  fds, img_hog = hog(\n",
      "/tmp/ipykernel_62901/1983484597.py:49: FutureWarning: `multichannel` is a deprecated argument name for `hog`. It will be removed in version 1.0. Please use `channel_axis` instead.\n",
      "  fds, img_hog = hog(\n"
     ]
    },
    {
     "name": "stdout",
     "output_type": "stream",
     "text": [
      "Detection:: Location -> (220, 80)\n",
      "Scale ->  1 | Confidence Score 0.7047305912194176 \n",
      "\n",
      "Detection:: Location -> (240, 80)\n",
      "Scale ->  1 | Confidence Score 0.6674375104274305 \n",
      "\n"
     ]
    },
    {
     "name": "stderr",
     "output_type": "stream",
     "text": [
      "/tmp/ipykernel_62901/1983484597.py:49: FutureWarning: `multichannel` is a deprecated argument name for `hog`. It will be removed in version 1.0. Please use `channel_axis` instead.\n",
      "  fds, img_hog = hog(\n",
      "/tmp/ipykernel_62901/1983484597.py:49: FutureWarning: `multichannel` is a deprecated argument name for `hog`. It will be removed in version 1.0. Please use `channel_axis` instead.\n",
      "  fds, img_hog = hog(\n"
     ]
    },
    {
     "name": "stdout",
     "output_type": "stream",
     "text": [
      "Detection:: Location -> (260, 80)\n",
      "Scale ->  1 | Confidence Score 0.690766628683446 \n",
      "\n"
     ]
    },
    {
     "name": "stderr",
     "output_type": "stream",
     "text": [
      "/tmp/ipykernel_62901/1983484597.py:49: FutureWarning: `multichannel` is a deprecated argument name for `hog`. It will be removed in version 1.0. Please use `channel_axis` instead.\n",
      "  fds, img_hog = hog(\n",
      "/tmp/ipykernel_62901/1983484597.py:49: FutureWarning: `multichannel` is a deprecated argument name for `hog`. It will be removed in version 1.0. Please use `channel_axis` instead.\n",
      "  fds, img_hog = hog(\n",
      "/tmp/ipykernel_62901/1983484597.py:49: FutureWarning: `multichannel` is a deprecated argument name for `hog`. It will be removed in version 1.0. Please use `channel_axis` instead.\n",
      "  fds, img_hog = hog(\n",
      "/tmp/ipykernel_62901/1983484597.py:49: FutureWarning: `multichannel` is a deprecated argument name for `hog`. It will be removed in version 1.0. Please use `channel_axis` instead.\n",
      "  fds, img_hog = hog(\n"
     ]
    },
    {
     "name": "stdout",
     "output_type": "stream",
     "text": [
      "Detection:: Location -> (20, 100)\n",
      "Scale ->  1 | Confidence Score 0.7330358288831816 \n",
      "\n",
      "Detection:: Location -> (40, 100)\n",
      "Scale ->  1 | Confidence Score 0.7622641764557101 \n",
      "\n"
     ]
    },
    {
     "name": "stderr",
     "output_type": "stream",
     "text": [
      "/tmp/ipykernel_62901/1983484597.py:49: FutureWarning: `multichannel` is a deprecated argument name for `hog`. It will be removed in version 1.0. Please use `channel_axis` instead.\n",
      "  fds, img_hog = hog(\n"
     ]
    },
    {
     "name": "stdout",
     "output_type": "stream",
     "text": [
      "Detection:: Location -> (60, 100)\n",
      "Scale ->  1 | Confidence Score 0.7067392256040894 \n",
      "\n",
      "Detection:: Location -> (80, 100)\n",
      "Scale ->  1 | Confidence Score 0.6820384680634263 \n",
      "\n"
     ]
    },
    {
     "name": "stderr",
     "output_type": "stream",
     "text": [
      "/tmp/ipykernel_62901/1983484597.py:49: FutureWarning: `multichannel` is a deprecated argument name for `hog`. It will be removed in version 1.0. Please use `channel_axis` instead.\n",
      "  fds, img_hog = hog(\n",
      "/tmp/ipykernel_62901/1983484597.py:49: FutureWarning: `multichannel` is a deprecated argument name for `hog`. It will be removed in version 1.0. Please use `channel_axis` instead.\n",
      "  fds, img_hog = hog(\n",
      "/tmp/ipykernel_62901/1983484597.py:49: FutureWarning: `multichannel` is a deprecated argument name for `hog`. It will be removed in version 1.0. Please use `channel_axis` instead.\n",
      "  fds, img_hog = hog(\n",
      "/tmp/ipykernel_62901/1983484597.py:49: FutureWarning: `multichannel` is a deprecated argument name for `hog`. It will be removed in version 1.0. Please use `channel_axis` instead.\n",
      "  fds, img_hog = hog(\n"
     ]
    },
    {
     "name": "stdout",
     "output_type": "stream",
     "text": [
      "Detection:: Location -> (120, 100)\n",
      "Scale ->  1 | Confidence Score 0.6393389870336452 \n",
      "\n",
      "Detection:: Location -> (140, 100)\n",
      "Scale ->  1 | Confidence Score 0.614791856502095 \n",
      "\n"
     ]
    },
    {
     "name": "stderr",
     "output_type": "stream",
     "text": [
      "/tmp/ipykernel_62901/1983484597.py:49: FutureWarning: `multichannel` is a deprecated argument name for `hog`. It will be removed in version 1.0. Please use `channel_axis` instead.\n",
      "  fds, img_hog = hog(\n",
      "/tmp/ipykernel_62901/1983484597.py:49: FutureWarning: `multichannel` is a deprecated argument name for `hog`. It will be removed in version 1.0. Please use `channel_axis` instead.\n",
      "  fds, img_hog = hog(\n",
      "/tmp/ipykernel_62901/1983484597.py:49: FutureWarning: `multichannel` is a deprecated argument name for `hog`. It will be removed in version 1.0. Please use `channel_axis` instead.\n",
      "  fds, img_hog = hog(\n"
     ]
    },
    {
     "name": "stdout",
     "output_type": "stream",
     "text": [
      "Detection:: Location -> (180, 100)\n",
      "Scale ->  1 | Confidence Score 0.6591512185089072 \n",
      "\n",
      "Detection:: Location -> (200, 100)\n",
      "Scale ->  1 | Confidence Score 0.6794028471215691 \n",
      "\n"
     ]
    },
    {
     "name": "stderr",
     "output_type": "stream",
     "text": [
      "/tmp/ipykernel_62901/1983484597.py:49: FutureWarning: `multichannel` is a deprecated argument name for `hog`. It will be removed in version 1.0. Please use `channel_axis` instead.\n",
      "  fds, img_hog = hog(\n",
      "/tmp/ipykernel_62901/1983484597.py:49: FutureWarning: `multichannel` is a deprecated argument name for `hog`. It will be removed in version 1.0. Please use `channel_axis` instead.\n",
      "  fds, img_hog = hog(\n"
     ]
    },
    {
     "name": "stdout",
     "output_type": "stream",
     "text": [
      "Detection:: Location -> (220, 100)\n",
      "Scale ->  1 | Confidence Score 0.6843942932567353 \n",
      "\n",
      "Detection:: Location -> (240, 100)\n",
      "Scale ->  1 | Confidence Score 0.6307104865752895 \n",
      "\n"
     ]
    },
    {
     "name": "stderr",
     "output_type": "stream",
     "text": [
      "/tmp/ipykernel_62901/1983484597.py:49: FutureWarning: `multichannel` is a deprecated argument name for `hog`. It will be removed in version 1.0. Please use `channel_axis` instead.\n",
      "  fds, img_hog = hog(\n",
      "/tmp/ipykernel_62901/1983484597.py:49: FutureWarning: `multichannel` is a deprecated argument name for `hog`. It will be removed in version 1.0. Please use `channel_axis` instead.\n",
      "  fds, img_hog = hog(\n",
      "/tmp/ipykernel_62901/1983484597.py:49: FutureWarning: `multichannel` is a deprecated argument name for `hog`. It will be removed in version 1.0. Please use `channel_axis` instead.\n",
      "  fds, img_hog = hog(\n",
      "/tmp/ipykernel_62901/1983484597.py:49: FutureWarning: `multichannel` is a deprecated argument name for `hog`. It will be removed in version 1.0. Please use `channel_axis` instead.\n",
      "  fds, img_hog = hog(\n",
      "/tmp/ipykernel_62901/1983484597.py:49: FutureWarning: `multichannel` is a deprecated argument name for `hog`. It will be removed in version 1.0. Please use `channel_axis` instead.\n",
      "  fds, img_hog = hog(\n"
     ]
    },
    {
     "name": "stdout",
     "output_type": "stream",
     "text": [
      "Detection:: Location -> (20, 120)\n",
      "Scale ->  1 | Confidence Score 0.6987351266816207 \n",
      "\n",
      "Detection:: Location -> (40, 120)\n",
      "Scale ->  1 | Confidence Score 0.6771056768761394 \n",
      "\n"
     ]
    },
    {
     "name": "stderr",
     "output_type": "stream",
     "text": [
      "/tmp/ipykernel_62901/1983484597.py:49: FutureWarning: `multichannel` is a deprecated argument name for `hog`. It will be removed in version 1.0. Please use `channel_axis` instead.\n",
      "  fds, img_hog = hog(\n",
      "/tmp/ipykernel_62901/1983484597.py:49: FutureWarning: `multichannel` is a deprecated argument name for `hog`. It will be removed in version 1.0. Please use `channel_axis` instead.\n",
      "  fds, img_hog = hog(\n"
     ]
    },
    {
     "name": "stdout",
     "output_type": "stream",
     "text": [
      "Detection:: Location -> (60, 120)\n",
      "Scale ->  1 | Confidence Score 0.6487155988354077 \n",
      "\n",
      "Detection:: Location -> (80, 120)\n",
      "Scale ->  1 | Confidence Score 0.6844287543456467 \n",
      "\n",
      "Detection:: Location -> (100, 120)\n",
      "Scale ->  1 | Confidence Score 0.644843424100226 \n",
      "\n"
     ]
    },
    {
     "name": "stderr",
     "output_type": "stream",
     "text": [
      "/tmp/ipykernel_62901/1983484597.py:49: FutureWarning: `multichannel` is a deprecated argument name for `hog`. It will be removed in version 1.0. Please use `channel_axis` instead.\n",
      "  fds, img_hog = hog(\n",
      "/tmp/ipykernel_62901/1983484597.py:49: FutureWarning: `multichannel` is a deprecated argument name for `hog`. It will be removed in version 1.0. Please use `channel_axis` instead.\n",
      "  fds, img_hog = hog(\n",
      "/tmp/ipykernel_62901/1983484597.py:49: FutureWarning: `multichannel` is a deprecated argument name for `hog`. It will be removed in version 1.0. Please use `channel_axis` instead.\n",
      "  fds, img_hog = hog(\n",
      "/tmp/ipykernel_62901/1983484597.py:49: FutureWarning: `multichannel` is a deprecated argument name for `hog`. It will be removed in version 1.0. Please use `channel_axis` instead.\n",
      "  fds, img_hog = hog(\n"
     ]
    },
    {
     "name": "stdout",
     "output_type": "stream",
     "text": [
      "Detection:: Location -> (160, 120)\n",
      "Scale ->  1 | Confidence Score 0.640860028311138 \n",
      "\n",
      "Detection:: Location -> (180, 120)\n",
      "Scale ->  1 | Confidence Score 0.6241662302689956 \n",
      "\n"
     ]
    },
    {
     "name": "stderr",
     "output_type": "stream",
     "text": [
      "/tmp/ipykernel_62901/1983484597.py:49: FutureWarning: `multichannel` is a deprecated argument name for `hog`. It will be removed in version 1.0. Please use `channel_axis` instead.\n",
      "  fds, img_hog = hog(\n",
      "/tmp/ipykernel_62901/1983484597.py:49: FutureWarning: `multichannel` is a deprecated argument name for `hog`. It will be removed in version 1.0. Please use `channel_axis` instead.\n",
      "  fds, img_hog = hog(\n"
     ]
    },
    {
     "name": "stdout",
     "output_type": "stream",
     "text": [
      "Detection:: Location -> (200, 120)\n",
      "Scale ->  1 | Confidence Score 0.6125233447173717 \n",
      "\n"
     ]
    },
    {
     "name": "stderr",
     "output_type": "stream",
     "text": [
      "/tmp/ipykernel_62901/1983484597.py:49: FutureWarning: `multichannel` is a deprecated argument name for `hog`. It will be removed in version 1.0. Please use `channel_axis` instead.\n",
      "  fds, img_hog = hog(\n",
      "/tmp/ipykernel_62901/1983484597.py:49: FutureWarning: `multichannel` is a deprecated argument name for `hog`. It will be removed in version 1.0. Please use `channel_axis` instead.\n",
      "  fds, img_hog = hog(\n",
      "/tmp/ipykernel_62901/1983484597.py:49: FutureWarning: `multichannel` is a deprecated argument name for `hog`. It will be removed in version 1.0. Please use `channel_axis` instead.\n",
      "  fds, img_hog = hog(\n",
      "/tmp/ipykernel_62901/1983484597.py:49: FutureWarning: `multichannel` is a deprecated argument name for `hog`. It will be removed in version 1.0. Please use `channel_axis` instead.\n",
      "  fds, img_hog = hog(\n"
     ]
    },
    {
     "name": "stdout",
     "output_type": "stream",
     "text": [
      "Detection:: Location -> (260, 120)\n",
      "Scale ->  1 | Confidence Score 0.612450758376356 \n",
      "\n"
     ]
    },
    {
     "name": "stderr",
     "output_type": "stream",
     "text": [
      "/tmp/ipykernel_62901/1983484597.py:49: FutureWarning: `multichannel` is a deprecated argument name for `hog`. It will be removed in version 1.0. Please use `channel_axis` instead.\n",
      "  fds, img_hog = hog(\n",
      "/tmp/ipykernel_62901/1983484597.py:49: FutureWarning: `multichannel` is a deprecated argument name for `hog`. It will be removed in version 1.0. Please use `channel_axis` instead.\n",
      "  fds, img_hog = hog(\n"
     ]
    },
    {
     "name": "stdout",
     "output_type": "stream",
     "text": [
      "Detection:: Location -> (20, 140)\n",
      "Scale ->  1 | Confidence Score 0.6525631737518818 \n",
      "\n",
      "Detection:: Location -> (40, 140)\n",
      "Scale ->  1 | Confidence Score 0.6679442991217832 \n",
      "\n"
     ]
    },
    {
     "name": "stderr",
     "output_type": "stream",
     "text": [
      "/tmp/ipykernel_62901/1983484597.py:49: FutureWarning: `multichannel` is a deprecated argument name for `hog`. It will be removed in version 1.0. Please use `channel_axis` instead.\n",
      "  fds, img_hog = hog(\n",
      "/tmp/ipykernel_62901/1983484597.py:49: FutureWarning: `multichannel` is a deprecated argument name for `hog`. It will be removed in version 1.0. Please use `channel_axis` instead.\n",
      "  fds, img_hog = hog(\n"
     ]
    },
    {
     "name": "stdout",
     "output_type": "stream",
     "text": [
      "Detection:: Location -> (60, 140)\n",
      "Scale ->  1 | Confidence Score 0.712329951851617 \n",
      "\n",
      "Detection:: Location -> (80, 140)\n",
      "Scale ->  1 | Confidence Score 0.7606600951192783 \n",
      "\n"
     ]
    },
    {
     "name": "stderr",
     "output_type": "stream",
     "text": [
      "/tmp/ipykernel_62901/1983484597.py:49: FutureWarning: `multichannel` is a deprecated argument name for `hog`. It will be removed in version 1.0. Please use `channel_axis` instead.\n",
      "  fds, img_hog = hog(\n",
      "/tmp/ipykernel_62901/1983484597.py:49: FutureWarning: `multichannel` is a deprecated argument name for `hog`. It will be removed in version 1.0. Please use `channel_axis` instead.\n",
      "  fds, img_hog = hog(\n"
     ]
    },
    {
     "name": "stdout",
     "output_type": "stream",
     "text": [
      "Detection:: Location -> (100, 140)\n",
      "Scale ->  1 | Confidence Score 0.6952589246500935 \n",
      "\n",
      "Detection:: Location -> (120, 140)\n",
      "Scale ->  1 | Confidence Score 0.6367268679597757 \n",
      "\n"
     ]
    },
    {
     "name": "stderr",
     "output_type": "stream",
     "text": [
      "/tmp/ipykernel_62901/1983484597.py:49: FutureWarning: `multichannel` is a deprecated argument name for `hog`. It will be removed in version 1.0. Please use `channel_axis` instead.\n",
      "  fds, img_hog = hog(\n",
      "/tmp/ipykernel_62901/1983484597.py:49: FutureWarning: `multichannel` is a deprecated argument name for `hog`. It will be removed in version 1.0. Please use `channel_axis` instead.\n",
      "  fds, img_hog = hog(\n",
      "/tmp/ipykernel_62901/1983484597.py:49: FutureWarning: `multichannel` is a deprecated argument name for `hog`. It will be removed in version 1.0. Please use `channel_axis` instead.\n",
      "  fds, img_hog = hog(\n",
      "/tmp/ipykernel_62901/1983484597.py:49: FutureWarning: `multichannel` is a deprecated argument name for `hog`. It will be removed in version 1.0. Please use `channel_axis` instead.\n",
      "  fds, img_hog = hog(\n",
      "/tmp/ipykernel_62901/1983484597.py:49: FutureWarning: `multichannel` is a deprecated argument name for `hog`. It will be removed in version 1.0. Please use `channel_axis` instead.\n",
      "  fds, img_hog = hog(\n",
      "/tmp/ipykernel_62901/1983484597.py:49: FutureWarning: `multichannel` is a deprecated argument name for `hog`. It will be removed in version 1.0. Please use `channel_axis` instead.\n",
      "  fds, img_hog = hog(\n",
      "/tmp/ipykernel_62901/1983484597.py:49: FutureWarning: `multichannel` is a deprecated argument name for `hog`. It will be removed in version 1.0. Please use `channel_axis` instead.\n",
      "  fds, img_hog = hog(\n",
      "/tmp/ipykernel_62901/1983484597.py:49: FutureWarning: `multichannel` is a deprecated argument name for `hog`. It will be removed in version 1.0. Please use `channel_axis` instead.\n",
      "  fds, img_hog = hog(\n",
      "/tmp/ipykernel_62901/1983484597.py:49: FutureWarning: `multichannel` is a deprecated argument name for `hog`. It will be removed in version 1.0. Please use `channel_axis` instead.\n",
      "  fds, img_hog = hog(\n",
      "/tmp/ipykernel_62901/1983484597.py:49: FutureWarning: `multichannel` is a deprecated argument name for `hog`. It will be removed in version 1.0. Please use `channel_axis` instead.\n",
      "  fds, img_hog = hog(\n",
      "/tmp/ipykernel_62901/1983484597.py:49: FutureWarning: `multichannel` is a deprecated argument name for `hog`. It will be removed in version 1.0. Please use `channel_axis` instead.\n",
      "  fds, img_hog = hog(\n"
     ]
    },
    {
     "name": "stdout",
     "output_type": "stream",
     "text": [
      "Detection:: Location -> (20, 160)\n",
      "Scale ->  1 | Confidence Score 0.7128861383401366 \n",
      "\n",
      "Detection:: Location -> (40, 160)\n",
      "Scale ->  1 | Confidence Score 0.7475087038000605 \n",
      "\n"
     ]
    },
    {
     "name": "stderr",
     "output_type": "stream",
     "text": [
      "/tmp/ipykernel_62901/1983484597.py:49: FutureWarning: `multichannel` is a deprecated argument name for `hog`. It will be removed in version 1.0. Please use `channel_axis` instead.\n",
      "  fds, img_hog = hog(\n",
      "/tmp/ipykernel_62901/1983484597.py:49: FutureWarning: `multichannel` is a deprecated argument name for `hog`. It will be removed in version 1.0. Please use `channel_axis` instead.\n",
      "  fds, img_hog = hog(\n"
     ]
    },
    {
     "name": "stdout",
     "output_type": "stream",
     "text": [
      "Detection:: Location -> (60, 160)\n",
      "Scale ->  1 | Confidence Score 0.7020631192720861 \n",
      "\n",
      "Detection:: Location -> (80, 160)\n",
      "Scale ->  1 | Confidence Score 0.739201671931223 \n",
      "\n"
     ]
    },
    {
     "name": "stderr",
     "output_type": "stream",
     "text": [
      "/tmp/ipykernel_62901/1983484597.py:49: FutureWarning: `multichannel` is a deprecated argument name for `hog`. It will be removed in version 1.0. Please use `channel_axis` instead.\n",
      "  fds, img_hog = hog(\n",
      "/tmp/ipykernel_62901/1983484597.py:49: FutureWarning: `multichannel` is a deprecated argument name for `hog`. It will be removed in version 1.0. Please use `channel_axis` instead.\n",
      "  fds, img_hog = hog(\n"
     ]
    },
    {
     "name": "stdout",
     "output_type": "stream",
     "text": [
      "Detection:: Location -> (100, 160)\n",
      "Scale ->  1 | Confidence Score 0.6914044634722731 \n",
      "\n",
      "Detection:: Location -> (120, 160)\n",
      "Scale ->  1 | Confidence Score 0.6090535255675643 \n",
      "\n"
     ]
    },
    {
     "name": "stderr",
     "output_type": "stream",
     "text": [
      "/tmp/ipykernel_62901/1983484597.py:49: FutureWarning: `multichannel` is a deprecated argument name for `hog`. It will be removed in version 1.0. Please use `channel_axis` instead.\n",
      "  fds, img_hog = hog(\n",
      "/tmp/ipykernel_62901/1983484597.py:49: FutureWarning: `multichannel` is a deprecated argument name for `hog`. It will be removed in version 1.0. Please use `channel_axis` instead.\n",
      "  fds, img_hog = hog(\n",
      "/tmp/ipykernel_62901/1983484597.py:49: FutureWarning: `multichannel` is a deprecated argument name for `hog`. It will be removed in version 1.0. Please use `channel_axis` instead.\n",
      "  fds, img_hog = hog(\n",
      "/tmp/ipykernel_62901/1983484597.py:49: FutureWarning: `multichannel` is a deprecated argument name for `hog`. It will be removed in version 1.0. Please use `channel_axis` instead.\n",
      "  fds, img_hog = hog(\n",
      "/tmp/ipykernel_62901/1983484597.py:49: FutureWarning: `multichannel` is a deprecated argument name for `hog`. It will be removed in version 1.0. Please use `channel_axis` instead.\n",
      "  fds, img_hog = hog(\n",
      "/tmp/ipykernel_62901/1983484597.py:49: FutureWarning: `multichannel` is a deprecated argument name for `hog`. It will be removed in version 1.0. Please use `channel_axis` instead.\n",
      "  fds, img_hog = hog(\n"
     ]
    },
    {
     "name": "stdout",
     "output_type": "stream",
     "text": [
      "Detection:: Location -> (220, 160)\n",
      "Scale ->  1 | Confidence Score 0.6293104573477526 \n",
      "\n",
      "Detection:: Location -> (240, 160)\n",
      "Scale ->  1 | Confidence Score 0.6339242258791697 \n",
      "\n"
     ]
    },
    {
     "name": "stderr",
     "output_type": "stream",
     "text": [
      "/tmp/ipykernel_62901/1983484597.py:49: FutureWarning: `multichannel` is a deprecated argument name for `hog`. It will be removed in version 1.0. Please use `channel_axis` instead.\n",
      "  fds, img_hog = hog(\n",
      "/tmp/ipykernel_62901/1983484597.py:49: FutureWarning: `multichannel` is a deprecated argument name for `hog`. It will be removed in version 1.0. Please use `channel_axis` instead.\n",
      "  fds, img_hog = hog(\n"
     ]
    },
    {
     "name": "stdout",
     "output_type": "stream",
     "text": [
      "Detection:: Location -> (260, 160)\n",
      "Scale ->  1 | Confidence Score 0.7028717781855783 \n",
      "\n",
      "Detection:: Location -> (280, 160)\n",
      "Scale ->  1 | Confidence Score 0.6190949431399884 \n",
      "\n"
     ]
    },
    {
     "name": "stderr",
     "output_type": "stream",
     "text": [
      "/tmp/ipykernel_62901/1983484597.py:49: FutureWarning: `multichannel` is a deprecated argument name for `hog`. It will be removed in version 1.0. Please use `channel_axis` instead.\n",
      "  fds, img_hog = hog(\n",
      "/tmp/ipykernel_62901/1983484597.py:49: FutureWarning: `multichannel` is a deprecated argument name for `hog`. It will be removed in version 1.0. Please use `channel_axis` instead.\n",
      "  fds, img_hog = hog(\n",
      "/tmp/ipykernel_62901/1983484597.py:49: FutureWarning: `multichannel` is a deprecated argument name for `hog`. It will be removed in version 1.0. Please use `channel_axis` instead.\n",
      "  fds, img_hog = hog(\n",
      "/tmp/ipykernel_62901/1983484597.py:49: FutureWarning: `multichannel` is a deprecated argument name for `hog`. It will be removed in version 1.0. Please use `channel_axis` instead.\n",
      "  fds, img_hog = hog(\n"
     ]
    },
    {
     "name": "stdout",
     "output_type": "stream",
     "text": [
      "Detection:: Location -> (20, 180)\n",
      "Scale ->  1 | Confidence Score 0.687448974161521 \n",
      "\n",
      "Detection:: Location -> (40, 180)\n",
      "Scale ->  1 | Confidence Score 0.7513828204569267 \n",
      "\n"
     ]
    },
    {
     "name": "stderr",
     "output_type": "stream",
     "text": [
      "/tmp/ipykernel_62901/1983484597.py:49: FutureWarning: `multichannel` is a deprecated argument name for `hog`. It will be removed in version 1.0. Please use `channel_axis` instead.\n",
      "  fds, img_hog = hog(\n",
      "/tmp/ipykernel_62901/1983484597.py:49: FutureWarning: `multichannel` is a deprecated argument name for `hog`. It will be removed in version 1.0. Please use `channel_axis` instead.\n",
      "  fds, img_hog = hog(\n"
     ]
    },
    {
     "name": "stdout",
     "output_type": "stream",
     "text": [
      "Detection:: Location -> (60, 180)\n",
      "Scale ->  1 | Confidence Score 0.7656646011105116 \n",
      "\n",
      "Detection:: Location -> (80, 180)\n",
      "Scale ->  1 | Confidence Score 0.7028050974503312 \n",
      "\n"
     ]
    },
    {
     "name": "stderr",
     "output_type": "stream",
     "text": [
      "/tmp/ipykernel_62901/1983484597.py:49: FutureWarning: `multichannel` is a deprecated argument name for `hog`. It will be removed in version 1.0. Please use `channel_axis` instead.\n",
      "  fds, img_hog = hog(\n",
      "/tmp/ipykernel_62901/1983484597.py:49: FutureWarning: `multichannel` is a deprecated argument name for `hog`. It will be removed in version 1.0. Please use `channel_axis` instead.\n",
      "  fds, img_hog = hog(\n"
     ]
    },
    {
     "name": "stdout",
     "output_type": "stream",
     "text": [
      "Detection:: Location -> (120, 180)\n",
      "Scale ->  1 | Confidence Score 0.6022379984433314 \n",
      "\n"
     ]
    },
    {
     "name": "stderr",
     "output_type": "stream",
     "text": [
      "/tmp/ipykernel_62901/1983484597.py:49: FutureWarning: `multichannel` is a deprecated argument name for `hog`. It will be removed in version 1.0. Please use `channel_axis` instead.\n",
      "  fds, img_hog = hog(\n",
      "/tmp/ipykernel_62901/1983484597.py:49: FutureWarning: `multichannel` is a deprecated argument name for `hog`. It will be removed in version 1.0. Please use `channel_axis` instead.\n",
      "  fds, img_hog = hog(\n",
      "/tmp/ipykernel_62901/1983484597.py:49: FutureWarning: `multichannel` is a deprecated argument name for `hog`. It will be removed in version 1.0. Please use `channel_axis` instead.\n",
      "  fds, img_hog = hog(\n",
      "/tmp/ipykernel_62901/1983484597.py:49: FutureWarning: `multichannel` is a deprecated argument name for `hog`. It will be removed in version 1.0. Please use `channel_axis` instead.\n",
      "  fds, img_hog = hog(\n"
     ]
    },
    {
     "name": "stdout",
     "output_type": "stream",
     "text": [
      "Detection:: Location -> (200, 180)\n",
      "Scale ->  1 | Confidence Score 0.6413905055663737 \n",
      "\n",
      "Detection:: Location -> (220, 180)\n",
      "Scale ->  1 | Confidence Score 0.7212437249881591 \n",
      "\n"
     ]
    },
    {
     "name": "stderr",
     "output_type": "stream",
     "text": [
      "/tmp/ipykernel_62901/1983484597.py:49: FutureWarning: `multichannel` is a deprecated argument name for `hog`. It will be removed in version 1.0. Please use `channel_axis` instead.\n",
      "  fds, img_hog = hog(\n",
      "/tmp/ipykernel_62901/1983484597.py:49: FutureWarning: `multichannel` is a deprecated argument name for `hog`. It will be removed in version 1.0. Please use `channel_axis` instead.\n",
      "  fds, img_hog = hog(\n"
     ]
    },
    {
     "name": "stdout",
     "output_type": "stream",
     "text": [
      "Detection:: Location -> (240, 180)\n",
      "Scale ->  1 | Confidence Score 0.7867214381073139 \n",
      "\n",
      "Detection:: Location -> (260, 180)\n",
      "Scale ->  1 | Confidence Score 0.6804348225468978 \n",
      "\n"
     ]
    },
    {
     "name": "stderr",
     "output_type": "stream",
     "text": [
      "/tmp/ipykernel_62901/1983484597.py:49: FutureWarning: `multichannel` is a deprecated argument name for `hog`. It will be removed in version 1.0. Please use `channel_axis` instead.\n",
      "  fds, img_hog = hog(\n",
      "/tmp/ipykernel_62901/1983484597.py:49: FutureWarning: `multichannel` is a deprecated argument name for `hog`. It will be removed in version 1.0. Please use `channel_axis` instead.\n",
      "  fds, img_hog = hog(\n",
      "/tmp/ipykernel_62901/1983484597.py:49: FutureWarning: `multichannel` is a deprecated argument name for `hog`. It will be removed in version 1.0. Please use `channel_axis` instead.\n",
      "  fds, img_hog = hog(\n",
      "/tmp/ipykernel_62901/1983484597.py:49: FutureWarning: `multichannel` is a deprecated argument name for `hog`. It will be removed in version 1.0. Please use `channel_axis` instead.\n",
      "  fds, img_hog = hog(\n"
     ]
    },
    {
     "name": "stdout",
     "output_type": "stream",
     "text": [
      "Detection:: Location -> (0, 200)\n",
      "Scale ->  1 | Confidence Score 0.6053683648286112 \n",
      "\n",
      "Detection:: Location -> (20, 200)\n",
      "Scale ->  1 | Confidence Score 0.8178461096998673 \n",
      "\n"
     ]
    },
    {
     "name": "stderr",
     "output_type": "stream",
     "text": [
      "/tmp/ipykernel_62901/1983484597.py:49: FutureWarning: `multichannel` is a deprecated argument name for `hog`. It will be removed in version 1.0. Please use `channel_axis` instead.\n",
      "  fds, img_hog = hog(\n",
      "/tmp/ipykernel_62901/1983484597.py:49: FutureWarning: `multichannel` is a deprecated argument name for `hog`. It will be removed in version 1.0. Please use `channel_axis` instead.\n",
      "  fds, img_hog = hog(\n"
     ]
    },
    {
     "name": "stdout",
     "output_type": "stream",
     "text": [
      "Detection:: Location -> (40, 200)\n",
      "Scale ->  1 | Confidence Score 0.8021303728841884 \n",
      "\n",
      "Detection:: Location -> (60, 200)\n",
      "Scale ->  1 | Confidence Score 0.7431521977208515 \n",
      "\n"
     ]
    },
    {
     "name": "stderr",
     "output_type": "stream",
     "text": [
      "/tmp/ipykernel_62901/1983484597.py:49: FutureWarning: `multichannel` is a deprecated argument name for `hog`. It will be removed in version 1.0. Please use `channel_axis` instead.\n",
      "  fds, img_hog = hog(\n"
     ]
    },
    {
     "name": "stdout",
     "output_type": "stream",
     "text": [
      "Detection:: Location -> (80, 200)\n",
      "Scale ->  1 | Confidence Score 0.6762310842568773 \n",
      "\n",
      "Detection:: Location -> (100, 200)\n",
      "Scale ->  1 | Confidence Score 0.6911068129338666 \n",
      "\n"
     ]
    },
    {
     "name": "stderr",
     "output_type": "stream",
     "text": [
      "/tmp/ipykernel_62901/1983484597.py:49: FutureWarning: `multichannel` is a deprecated argument name for `hog`. It will be removed in version 1.0. Please use `channel_axis` instead.\n",
      "  fds, img_hog = hog(\n",
      "/tmp/ipykernel_62901/1983484597.py:49: FutureWarning: `multichannel` is a deprecated argument name for `hog`. It will be removed in version 1.0. Please use `channel_axis` instead.\n",
      "  fds, img_hog = hog(\n"
     ]
    },
    {
     "name": "stdout",
     "output_type": "stream",
     "text": [
      "Detection:: Location -> (120, 200)\n",
      "Scale ->  1 | Confidence Score 0.6593572580466762 \n",
      "\n",
      "Detection:: Location -> (140, 200)\n",
      "Scale ->  1 | Confidence Score 0.6401380511402573 \n",
      "\n"
     ]
    },
    {
     "name": "stderr",
     "output_type": "stream",
     "text": [
      "/tmp/ipykernel_62901/1983484597.py:49: FutureWarning: `multichannel` is a deprecated argument name for `hog`. It will be removed in version 1.0. Please use `channel_axis` instead.\n",
      "  fds, img_hog = hog(\n",
      "/tmp/ipykernel_62901/1983484597.py:49: FutureWarning: `multichannel` is a deprecated argument name for `hog`. It will be removed in version 1.0. Please use `channel_axis` instead.\n",
      "  fds, img_hog = hog(\n"
     ]
    },
    {
     "name": "stdout",
     "output_type": "stream",
     "text": [
      "Detection:: Location -> (160, 200)\n",
      "Scale ->  1 | Confidence Score 0.6517546844146664 \n",
      "\n",
      "Detection:: Location -> (180, 200)\n",
      "Scale ->  1 | Confidence Score 0.7160748687058436 \n",
      "\n"
     ]
    },
    {
     "name": "stderr",
     "output_type": "stream",
     "text": [
      "/tmp/ipykernel_62901/1983484597.py:49: FutureWarning: `multichannel` is a deprecated argument name for `hog`. It will be removed in version 1.0. Please use `channel_axis` instead.\n",
      "  fds, img_hog = hog(\n",
      "/tmp/ipykernel_62901/1983484597.py:49: FutureWarning: `multichannel` is a deprecated argument name for `hog`. It will be removed in version 1.0. Please use `channel_axis` instead.\n",
      "  fds, img_hog = hog(\n"
     ]
    },
    {
     "name": "stdout",
     "output_type": "stream",
     "text": [
      "Detection:: Location -> (200, 200)\n",
      "Scale ->  1 | Confidence Score 0.7727592685423856 \n",
      "\n",
      "Detection:: Location -> (220, 200)\n",
      "Scale ->  1 | Confidence Score 0.7817516402217631 \n",
      "\n"
     ]
    },
    {
     "name": "stderr",
     "output_type": "stream",
     "text": [
      "/tmp/ipykernel_62901/1983484597.py:49: FutureWarning: `multichannel` is a deprecated argument name for `hog`. It will be removed in version 1.0. Please use `channel_axis` instead.\n",
      "  fds, img_hog = hog(\n",
      "/tmp/ipykernel_62901/1983484597.py:49: FutureWarning: `multichannel` is a deprecated argument name for `hog`. It will be removed in version 1.0. Please use `channel_axis` instead.\n",
      "  fds, img_hog = hog(\n"
     ]
    },
    {
     "name": "stdout",
     "output_type": "stream",
     "text": [
      "Detection:: Location -> (240, 200)\n",
      "Scale ->  1 | Confidence Score 0.7543752789640578 \n",
      "\n",
      "Detection:: Location -> (260, 200)\n",
      "Scale ->  1 | Confidence Score 0.6937941124459496 \n",
      "\n"
     ]
    },
    {
     "name": "stderr",
     "output_type": "stream",
     "text": [
      "/tmp/ipykernel_62901/1983484597.py:49: FutureWarning: `multichannel` is a deprecated argument name for `hog`. It will be removed in version 1.0. Please use `channel_axis` instead.\n",
      "  fds, img_hog = hog(\n",
      "/tmp/ipykernel_62901/1983484597.py:49: FutureWarning: `multichannel` is a deprecated argument name for `hog`. It will be removed in version 1.0. Please use `channel_axis` instead.\n",
      "  fds, img_hog = hog(\n",
      "/tmp/ipykernel_62901/1983484597.py:49: FutureWarning: `multichannel` is a deprecated argument name for `hog`. It will be removed in version 1.0. Please use `channel_axis` instead.\n",
      "  fds, img_hog = hog(\n",
      "/tmp/ipykernel_62901/1983484597.py:49: FutureWarning: `multichannel` is a deprecated argument name for `hog`. It will be removed in version 1.0. Please use `channel_axis` instead.\n",
      "  fds, img_hog = hog(\n"
     ]
    },
    {
     "name": "stdout",
     "output_type": "stream",
     "text": [
      "Detection:: Location -> (0, 220)\n",
      "Scale ->  1 | Confidence Score 0.6718662859071818 \n",
      "\n",
      "Detection:: Location -> (20, 220)\n",
      "Scale ->  1 | Confidence Score 0.7743271171398659 \n",
      "\n"
     ]
    },
    {
     "name": "stderr",
     "output_type": "stream",
     "text": [
      "/tmp/ipykernel_62901/1983484597.py:49: FutureWarning: `multichannel` is a deprecated argument name for `hog`. It will be removed in version 1.0. Please use `channel_axis` instead.\n",
      "  fds, img_hog = hog(\n"
     ]
    },
    {
     "name": "stdout",
     "output_type": "stream",
     "text": [
      "Detection:: Location -> (40, 220)\n",
      "Scale ->  1 | Confidence Score 0.7735579515110563 \n",
      "\n",
      "Detection:: Location -> (60, 220)\n",
      "Scale ->  1 | Confidence Score 0.6775217289114118 \n",
      "\n"
     ]
    },
    {
     "name": "stderr",
     "output_type": "stream",
     "text": [
      "/tmp/ipykernel_62901/1983484597.py:49: FutureWarning: `multichannel` is a deprecated argument name for `hog`. It will be removed in version 1.0. Please use `channel_axis` instead.\n",
      "  fds, img_hog = hog(\n",
      "/tmp/ipykernel_62901/1983484597.py:49: FutureWarning: `multichannel` is a deprecated argument name for `hog`. It will be removed in version 1.0. Please use `channel_axis` instead.\n",
      "  fds, img_hog = hog(\n"
     ]
    },
    {
     "name": "stdout",
     "output_type": "stream",
     "text": [
      "Detection:: Location -> (80, 220)\n",
      "Scale ->  1 | Confidence Score 0.7585712350643332 \n",
      "\n",
      "Detection:: Location -> (100, 220)\n",
      "Scale ->  1 | Confidence Score 0.731285031035121 \n",
      "\n"
     ]
    },
    {
     "name": "stderr",
     "output_type": "stream",
     "text": [
      "/tmp/ipykernel_62901/1983484597.py:49: FutureWarning: `multichannel` is a deprecated argument name for `hog`. It will be removed in version 1.0. Please use `channel_axis` instead.\n",
      "  fds, img_hog = hog(\n",
      "/tmp/ipykernel_62901/1983484597.py:49: FutureWarning: `multichannel` is a deprecated argument name for `hog`. It will be removed in version 1.0. Please use `channel_axis` instead.\n",
      "  fds, img_hog = hog(\n"
     ]
    },
    {
     "name": "stdout",
     "output_type": "stream",
     "text": [
      "Detection:: Location -> (120, 220)\n",
      "Scale ->  1 | Confidence Score 0.693405162720551 \n",
      "\n",
      "Detection:: Location -> (140, 220)\n",
      "Scale ->  1 | Confidence Score 0.7242288634694868 \n",
      "\n"
     ]
    },
    {
     "name": "stderr",
     "output_type": "stream",
     "text": [
      "/tmp/ipykernel_62901/1983484597.py:49: FutureWarning: `multichannel` is a deprecated argument name for `hog`. It will be removed in version 1.0. Please use `channel_axis` instead.\n",
      "  fds, img_hog = hog(\n",
      "/tmp/ipykernel_62901/1983484597.py:49: FutureWarning: `multichannel` is a deprecated argument name for `hog`. It will be removed in version 1.0. Please use `channel_axis` instead.\n",
      "  fds, img_hog = hog(\n"
     ]
    },
    {
     "name": "stdout",
     "output_type": "stream",
     "text": [
      "Detection:: Location -> (160, 220)\n",
      "Scale ->  1 | Confidence Score 0.8046311687769572 \n",
      "\n",
      "Detection:: Location -> (180, 220)\n",
      "Scale ->  1 | Confidence Score 0.8032740045718922 \n",
      "\n"
     ]
    },
    {
     "name": "stderr",
     "output_type": "stream",
     "text": [
      "/tmp/ipykernel_62901/1983484597.py:49: FutureWarning: `multichannel` is a deprecated argument name for `hog`. It will be removed in version 1.0. Please use `channel_axis` instead.\n",
      "  fds, img_hog = hog(\n",
      "/tmp/ipykernel_62901/1983484597.py:49: FutureWarning: `multichannel` is a deprecated argument name for `hog`. It will be removed in version 1.0. Please use `channel_axis` instead.\n",
      "  fds, img_hog = hog(\n"
     ]
    },
    {
     "name": "stdout",
     "output_type": "stream",
     "text": [
      "Detection:: Location -> (200, 220)\n",
      "Scale ->  1 | Confidence Score 0.8066496181663323 \n",
      "\n",
      "Detection:: Location -> (220, 220)\n",
      "Scale ->  1 | Confidence Score 0.7543023212613698 \n",
      "\n"
     ]
    },
    {
     "name": "stderr",
     "output_type": "stream",
     "text": [
      "/tmp/ipykernel_62901/1983484597.py:49: FutureWarning: `multichannel` is a deprecated argument name for `hog`. It will be removed in version 1.0. Please use `channel_axis` instead.\n",
      "  fds, img_hog = hog(\n",
      "/tmp/ipykernel_62901/1983484597.py:49: FutureWarning: `multichannel` is a deprecated argument name for `hog`. It will be removed in version 1.0. Please use `channel_axis` instead.\n",
      "  fds, img_hog = hog(\n"
     ]
    },
    {
     "name": "stdout",
     "output_type": "stream",
     "text": [
      "Detection:: Location -> (240, 220)\n",
      "Scale ->  1 | Confidence Score 0.7275097832715863 \n",
      "\n",
      "Detection:: Location -> (260, 220)\n",
      "Scale ->  1 | Confidence Score 0.7132658303201811 \n",
      "\n"
     ]
    },
    {
     "name": "stderr",
     "output_type": "stream",
     "text": [
      "/tmp/ipykernel_62901/1983484597.py:49: FutureWarning: `multichannel` is a deprecated argument name for `hog`. It will be removed in version 1.0. Please use `channel_axis` instead.\n",
      "  fds, img_hog = hog(\n",
      "/tmp/ipykernel_62901/1983484597.py:49: FutureWarning: `multichannel` is a deprecated argument name for `hog`. It will be removed in version 1.0. Please use `channel_axis` instead.\n",
      "  fds, img_hog = hog(\n"
     ]
    },
    {
     "name": "stdout",
     "output_type": "stream",
     "text": [
      "Detection:: Location -> (280, 220)\n",
      "Scale ->  1 | Confidence Score 0.6047720014835262 \n",
      "\n"
     ]
    },
    {
     "name": "stderr",
     "output_type": "stream",
     "text": [
      "/tmp/ipykernel_62901/1983484597.py:49: FutureWarning: `multichannel` is a deprecated argument name for `hog`. It will be removed in version 1.0. Please use `channel_axis` instead.\n",
      "  fds, img_hog = hog(\n",
      "/tmp/ipykernel_62901/1983484597.py:49: FutureWarning: `multichannel` is a deprecated argument name for `hog`. It will be removed in version 1.0. Please use `channel_axis` instead.\n",
      "  fds, img_hog = hog(\n"
     ]
    },
    {
     "name": "stdout",
     "output_type": "stream",
     "text": [
      "Detection:: Location -> (20, 240)\n",
      "Scale ->  1 | Confidence Score 0.631309328851753 \n",
      "\n",
      "Detection:: Location -> (40, 240)\n",
      "Scale ->  1 | Confidence Score 0.7479930280869022 \n",
      "\n"
     ]
    },
    {
     "name": "stderr",
     "output_type": "stream",
     "text": [
      "/tmp/ipykernel_62901/1983484597.py:49: FutureWarning: `multichannel` is a deprecated argument name for `hog`. It will be removed in version 1.0. Please use `channel_axis` instead.\n",
      "  fds, img_hog = hog(\n",
      "/tmp/ipykernel_62901/1983484597.py:49: FutureWarning: `multichannel` is a deprecated argument name for `hog`. It will be removed in version 1.0. Please use `channel_axis` instead.\n",
      "  fds, img_hog = hog(\n"
     ]
    },
    {
     "name": "stdout",
     "output_type": "stream",
     "text": [
      "Detection:: Location -> (60, 240)\n",
      "Scale ->  1 | Confidence Score 0.7980410886181527 \n",
      "\n",
      "Detection:: Location -> (80, 240)\n",
      "Scale ->  1 | Confidence Score 0.7154643748419605 \n",
      "\n"
     ]
    },
    {
     "name": "stderr",
     "output_type": "stream",
     "text": [
      "/tmp/ipykernel_62901/1983484597.py:49: FutureWarning: `multichannel` is a deprecated argument name for `hog`. It will be removed in version 1.0. Please use `channel_axis` instead.\n",
      "  fds, img_hog = hog(\n",
      "/tmp/ipykernel_62901/1983484597.py:49: FutureWarning: `multichannel` is a deprecated argument name for `hog`. It will be removed in version 1.0. Please use `channel_axis` instead.\n",
      "  fds, img_hog = hog(\n"
     ]
    },
    {
     "name": "stdout",
     "output_type": "stream",
     "text": [
      "Detection:: Location -> (100, 240)\n",
      "Scale ->  1 | Confidence Score 0.7575127874372253 \n",
      "\n",
      "Detection:: Location -> (120, 240)\n",
      "Scale ->  1 | Confidence Score 0.7778480760079579 \n",
      "\n"
     ]
    },
    {
     "name": "stderr",
     "output_type": "stream",
     "text": [
      "/tmp/ipykernel_62901/1983484597.py:49: FutureWarning: `multichannel` is a deprecated argument name for `hog`. It will be removed in version 1.0. Please use `channel_axis` instead.\n",
      "  fds, img_hog = hog(\n",
      "/tmp/ipykernel_62901/1983484597.py:49: FutureWarning: `multichannel` is a deprecated argument name for `hog`. It will be removed in version 1.0. Please use `channel_axis` instead.\n",
      "  fds, img_hog = hog(\n"
     ]
    },
    {
     "name": "stdout",
     "output_type": "stream",
     "text": [
      "Detection:: Location -> (140, 240)\n",
      "Scale ->  1 | Confidence Score 0.7318695892229258 \n",
      "\n",
      "Detection:: Location -> (160, 240)\n",
      "Scale ->  1 | Confidence Score 0.7767306717211923 \n",
      "\n"
     ]
    },
    {
     "name": "stderr",
     "output_type": "stream",
     "text": [
      "/tmp/ipykernel_62901/1983484597.py:49: FutureWarning: `multichannel` is a deprecated argument name for `hog`. It will be removed in version 1.0. Please use `channel_axis` instead.\n",
      "  fds, img_hog = hog(\n",
      "/tmp/ipykernel_62901/1983484597.py:49: FutureWarning: `multichannel` is a deprecated argument name for `hog`. It will be removed in version 1.0. Please use `channel_axis` instead.\n",
      "  fds, img_hog = hog(\n"
     ]
    },
    {
     "name": "stdout",
     "output_type": "stream",
     "text": [
      "Detection:: Location -> (180, 240)\n",
      "Scale ->  1 | Confidence Score 0.7561793504802228 \n",
      "\n",
      "Detection:: Location -> (200, 240)\n",
      "Scale ->  1 | Confidence Score 0.7891278383090732 \n",
      "\n"
     ]
    },
    {
     "name": "stderr",
     "output_type": "stream",
     "text": [
      "/tmp/ipykernel_62901/1983484597.py:49: FutureWarning: `multichannel` is a deprecated argument name for `hog`. It will be removed in version 1.0. Please use `channel_axis` instead.\n",
      "  fds, img_hog = hog(\n",
      "/tmp/ipykernel_62901/1983484597.py:49: FutureWarning: `multichannel` is a deprecated argument name for `hog`. It will be removed in version 1.0. Please use `channel_axis` instead.\n",
      "  fds, img_hog = hog(\n"
     ]
    },
    {
     "name": "stdout",
     "output_type": "stream",
     "text": [
      "Detection:: Location -> (220, 240)\n",
      "Scale ->  1 | Confidence Score 0.7862358192400998 \n",
      "\n",
      "Detection:: Location -> (240, 240)\n",
      "Scale ->  1 | Confidence Score 0.7209433738011317 \n",
      "\n"
     ]
    },
    {
     "name": "stderr",
     "output_type": "stream",
     "text": [
      "/tmp/ipykernel_62901/1983484597.py:49: FutureWarning: `multichannel` is a deprecated argument name for `hog`. It will be removed in version 1.0. Please use `channel_axis` instead.\n",
      "  fds, img_hog = hog(\n",
      "/tmp/ipykernel_62901/1983484597.py:49: FutureWarning: `multichannel` is a deprecated argument name for `hog`. It will be removed in version 1.0. Please use `channel_axis` instead.\n",
      "  fds, img_hog = hog(\n"
     ]
    },
    {
     "name": "stdout",
     "output_type": "stream",
     "text": [
      "Detection:: Location -> (260, 240)\n",
      "Scale ->  1 | Confidence Score 0.687230402637113 \n",
      "\n"
     ]
    },
    {
     "name": "stderr",
     "output_type": "stream",
     "text": [
      "/tmp/ipykernel_62901/1983484597.py:49: FutureWarning: `multichannel` is a deprecated argument name for `hog`. It will be removed in version 1.0. Please use `channel_axis` instead.\n",
      "  fds, img_hog = hog(\n",
      "/tmp/ipykernel_62901/1983484597.py:49: FutureWarning: `multichannel` is a deprecated argument name for `hog`. It will be removed in version 1.0. Please use `channel_axis` instead.\n",
      "  fds, img_hog = hog(\n"
     ]
    },
    {
     "name": "stdout",
     "output_type": "stream",
     "text": [
      "Detection:: Location -> (0, 260)\n",
      "Scale ->  1 | Confidence Score 0.611150668820699 \n",
      "\n",
      "Detection:: Location -> (20, 260)\n",
      "Scale ->  1 | Confidence Score 0.7217548472243482 \n",
      "\n"
     ]
    },
    {
     "name": "stderr",
     "output_type": "stream",
     "text": [
      "/tmp/ipykernel_62901/1983484597.py:49: FutureWarning: `multichannel` is a deprecated argument name for `hog`. It will be removed in version 1.0. Please use `channel_axis` instead.\n",
      "  fds, img_hog = hog(\n",
      "/tmp/ipykernel_62901/1983484597.py:49: FutureWarning: `multichannel` is a deprecated argument name for `hog`. It will be removed in version 1.0. Please use `channel_axis` instead.\n",
      "  fds, img_hog = hog(\n"
     ]
    },
    {
     "name": "stdout",
     "output_type": "stream",
     "text": [
      "Detection:: Location -> (40, 260)\n",
      "Scale ->  1 | Confidence Score 0.7271450811356258 \n",
      "\n",
      "Detection:: Location -> (60, 260)\n",
      "Scale ->  1 | Confidence Score 0.8153643422443569 \n",
      "\n"
     ]
    },
    {
     "name": "stderr",
     "output_type": "stream",
     "text": [
      "/tmp/ipykernel_62901/1983484597.py:49: FutureWarning: `multichannel` is a deprecated argument name for `hog`. It will be removed in version 1.0. Please use `channel_axis` instead.\n",
      "  fds, img_hog = hog(\n",
      "/tmp/ipykernel_62901/1983484597.py:49: FutureWarning: `multichannel` is a deprecated argument name for `hog`. It will be removed in version 1.0. Please use `channel_axis` instead.\n",
      "  fds, img_hog = hog(\n"
     ]
    },
    {
     "name": "stdout",
     "output_type": "stream",
     "text": [
      "Detection:: Location -> (80, 260)\n",
      "Scale ->  1 | Confidence Score 0.8388739499332357 \n",
      "\n",
      "Detection:: Location -> (100, 260)\n",
      "Scale ->  1 | Confidence Score 0.7981400422525331 \n",
      "\n"
     ]
    },
    {
     "name": "stderr",
     "output_type": "stream",
     "text": [
      "/tmp/ipykernel_62901/1983484597.py:49: FutureWarning: `multichannel` is a deprecated argument name for `hog`. It will be removed in version 1.0. Please use `channel_axis` instead.\n",
      "  fds, img_hog = hog(\n",
      "/tmp/ipykernel_62901/1983484597.py:49: FutureWarning: `multichannel` is a deprecated argument name for `hog`. It will be removed in version 1.0. Please use `channel_axis` instead.\n",
      "  fds, img_hog = hog(\n"
     ]
    },
    {
     "name": "stdout",
     "output_type": "stream",
     "text": [
      "Detection:: Location -> (120, 260)\n",
      "Scale ->  1 | Confidence Score 0.7790227810037651 \n",
      "\n",
      "Detection:: Location -> (140, 260)\n",
      "Scale ->  1 | Confidence Score 0.7528581429871612 \n",
      "\n"
     ]
    },
    {
     "name": "stderr",
     "output_type": "stream",
     "text": [
      "/tmp/ipykernel_62901/1983484597.py:49: FutureWarning: `multichannel` is a deprecated argument name for `hog`. It will be removed in version 1.0. Please use `channel_axis` instead.\n",
      "  fds, img_hog = hog(\n",
      "/tmp/ipykernel_62901/1983484597.py:49: FutureWarning: `multichannel` is a deprecated argument name for `hog`. It will be removed in version 1.0. Please use `channel_axis` instead.\n",
      "  fds, img_hog = hog(\n"
     ]
    },
    {
     "name": "stdout",
     "output_type": "stream",
     "text": [
      "Detection:: Location -> (160, 260)\n",
      "Scale ->  1 | Confidence Score 0.7550112020504395 \n",
      "\n",
      "Detection:: Location -> (180, 260)\n",
      "Scale ->  1 | Confidence Score 0.7714615355586437 \n",
      "\n"
     ]
    },
    {
     "name": "stderr",
     "output_type": "stream",
     "text": [
      "/tmp/ipykernel_62901/1983484597.py:49: FutureWarning: `multichannel` is a deprecated argument name for `hog`. It will be removed in version 1.0. Please use `channel_axis` instead.\n",
      "  fds, img_hog = hog(\n",
      "/tmp/ipykernel_62901/1983484597.py:49: FutureWarning: `multichannel` is a deprecated argument name for `hog`. It will be removed in version 1.0. Please use `channel_axis` instead.\n",
      "  fds, img_hog = hog(\n"
     ]
    },
    {
     "name": "stdout",
     "output_type": "stream",
     "text": [
      "Detection:: Location -> (200, 260)\n",
      "Scale ->  1 | Confidence Score 0.8028342313530277 \n",
      "\n",
      "Detection:: Location -> (220, 260)\n",
      "Scale ->  1 | Confidence Score 0.7340981294948001 \n",
      "\n"
     ]
    },
    {
     "name": "stderr",
     "output_type": "stream",
     "text": [
      "/tmp/ipykernel_62901/1983484597.py:49: FutureWarning: `multichannel` is a deprecated argument name for `hog`. It will be removed in version 1.0. Please use `channel_axis` instead.\n",
      "  fds, img_hog = hog(\n",
      "/tmp/ipykernel_62901/1983484597.py:49: FutureWarning: `multichannel` is a deprecated argument name for `hog`. It will be removed in version 1.0. Please use `channel_axis` instead.\n",
      "  fds, img_hog = hog(\n"
     ]
    },
    {
     "name": "stdout",
     "output_type": "stream",
     "text": [
      "Detection:: Location -> (240, 260)\n",
      "Scale ->  1 | Confidence Score 0.7305051566558052 \n",
      "\n",
      "Detection:: Location -> (260, 260)\n",
      "Scale ->  1 | Confidence Score 0.6571687456091264 \n",
      "\n"
     ]
    },
    {
     "name": "stderr",
     "output_type": "stream",
     "text": [
      "/tmp/ipykernel_62901/1983484597.py:49: FutureWarning: `multichannel` is a deprecated argument name for `hog`. It will be removed in version 1.0. Please use `channel_axis` instead.\n",
      "  fds, img_hog = hog(\n",
      "/tmp/ipykernel_62901/1983484597.py:49: FutureWarning: `multichannel` is a deprecated argument name for `hog`. It will be removed in version 1.0. Please use `channel_axis` instead.\n",
      "  fds, img_hog = hog(\n",
      "/tmp/ipykernel_62901/1983484597.py:49: FutureWarning: `multichannel` is a deprecated argument name for `hog`. It will be removed in version 1.0. Please use `channel_axis` instead.\n",
      "  fds, img_hog = hog(\n",
      "/tmp/ipykernel_62901/1983484597.py:49: FutureWarning: `multichannel` is a deprecated argument name for `hog`. It will be removed in version 1.0. Please use `channel_axis` instead.\n",
      "  fds, img_hog = hog(\n"
     ]
    },
    {
     "name": "stdout",
     "output_type": "stream",
     "text": [
      "Detection:: Location -> (0, 280)\n",
      "Scale ->  1 | Confidence Score 0.6133413544739467 \n",
      "\n",
      "Detection:: Location -> (20, 280)\n",
      "Scale ->  1 | Confidence Score 0.6946683643259527 \n",
      "\n"
     ]
    },
    {
     "name": "stderr",
     "output_type": "stream",
     "text": [
      "/tmp/ipykernel_62901/1983484597.py:49: FutureWarning: `multichannel` is a deprecated argument name for `hog`. It will be removed in version 1.0. Please use `channel_axis` instead.\n",
      "  fds, img_hog = hog(\n",
      "/tmp/ipykernel_62901/1983484597.py:49: FutureWarning: `multichannel` is a deprecated argument name for `hog`. It will be removed in version 1.0. Please use `channel_axis` instead.\n",
      "  fds, img_hog = hog(\n"
     ]
    },
    {
     "name": "stdout",
     "output_type": "stream",
     "text": [
      "Detection:: Location -> (40, 280)\n",
      "Scale ->  1 | Confidence Score 0.6909736691044804 \n",
      "\n",
      "Detection:: Location -> (60, 280)\n",
      "Scale ->  1 | Confidence Score 0.7810093721461082 \n",
      "\n"
     ]
    },
    {
     "name": "stderr",
     "output_type": "stream",
     "text": [
      "/tmp/ipykernel_62901/1983484597.py:49: FutureWarning: `multichannel` is a deprecated argument name for `hog`. It will be removed in version 1.0. Please use `channel_axis` instead.\n",
      "  fds, img_hog = hog(\n",
      "/tmp/ipykernel_62901/1983484597.py:49: FutureWarning: `multichannel` is a deprecated argument name for `hog`. It will be removed in version 1.0. Please use `channel_axis` instead.\n",
      "  fds, img_hog = hog(\n"
     ]
    },
    {
     "name": "stdout",
     "output_type": "stream",
     "text": [
      "Detection:: Location -> (80, 280)\n",
      "Scale ->  1 | Confidence Score 0.8318151215823368 \n",
      "\n",
      "Detection:: Location -> (100, 280)\n",
      "Scale ->  1 | Confidence Score 0.8133455980715203 \n",
      "\n",
      "Detection:: Location -> (120, 280)\n",
      "Scale ->  1 | Confidence Score 0.8201880712593845 \n",
      "\n"
     ]
    },
    {
     "name": "stderr",
     "output_type": "stream",
     "text": [
      "/tmp/ipykernel_62901/1983484597.py:49: FutureWarning: `multichannel` is a deprecated argument name for `hog`. It will be removed in version 1.0. Please use `channel_axis` instead.\n",
      "  fds, img_hog = hog(\n",
      "/tmp/ipykernel_62901/1983484597.py:49: FutureWarning: `multichannel` is a deprecated argument name for `hog`. It will be removed in version 1.0. Please use `channel_axis` instead.\n",
      "  fds, img_hog = hog(\n"
     ]
    },
    {
     "name": "stdout",
     "output_type": "stream",
     "text": [
      "Detection:: Location -> (140, 280)\n",
      "Scale ->  1 | Confidence Score 0.7816304411450529 \n",
      "\n",
      "Detection:: Location -> (160, 280)\n",
      "Scale ->  1 | Confidence Score 0.7961616930951266 \n",
      "\n"
     ]
    },
    {
     "name": "stderr",
     "output_type": "stream",
     "text": [
      "/tmp/ipykernel_62901/1983484597.py:49: FutureWarning: `multichannel` is a deprecated argument name for `hog`. It will be removed in version 1.0. Please use `channel_axis` instead.\n",
      "  fds, img_hog = hog(\n",
      "/tmp/ipykernel_62901/1983484597.py:49: FutureWarning: `multichannel` is a deprecated argument name for `hog`. It will be removed in version 1.0. Please use `channel_axis` instead.\n",
      "  fds, img_hog = hog(\n"
     ]
    },
    {
     "name": "stdout",
     "output_type": "stream",
     "text": [
      "Detection:: Location -> (180, 280)\n",
      "Scale ->  1 | Confidence Score 0.7590490241516219 \n",
      "\n",
      "Detection:: Location -> (200, 280)\n",
      "Scale ->  1 | Confidence Score 0.7432181100417017 \n",
      "\n"
     ]
    },
    {
     "name": "stderr",
     "output_type": "stream",
     "text": [
      "/tmp/ipykernel_62901/1983484597.py:49: FutureWarning: `multichannel` is a deprecated argument name for `hog`. It will be removed in version 1.0. Please use `channel_axis` instead.\n",
      "  fds, img_hog = hog(\n",
      "/tmp/ipykernel_62901/1983484597.py:49: FutureWarning: `multichannel` is a deprecated argument name for `hog`. It will be removed in version 1.0. Please use `channel_axis` instead.\n",
      "  fds, img_hog = hog(\n"
     ]
    },
    {
     "name": "stdout",
     "output_type": "stream",
     "text": [
      "Detection:: Location -> (220, 280)\n",
      "Scale ->  1 | Confidence Score 0.6787282399992702 \n",
      "\n",
      "Detection:: Location -> (240, 280)\n",
      "Scale ->  1 | Confidence Score 0.6614509669891724 \n",
      "\n"
     ]
    },
    {
     "name": "stderr",
     "output_type": "stream",
     "text": [
      "/tmp/ipykernel_62901/1983484597.py:49: FutureWarning: `multichannel` is a deprecated argument name for `hog`. It will be removed in version 1.0. Please use `channel_axis` instead.\n",
      "  fds, img_hog = hog(\n",
      "/tmp/ipykernel_62901/1983484597.py:49: FutureWarning: `multichannel` is a deprecated argument name for `hog`. It will be removed in version 1.0. Please use `channel_axis` instead.\n",
      "  fds, img_hog = hog(\n"
     ]
    },
    {
     "name": "stdout",
     "output_type": "stream",
     "text": [
      "Detection:: Location -> (260, 280)\n",
      "Scale ->  1 | Confidence Score 0.6628493425103684 \n",
      "\n"
     ]
    },
    {
     "name": "stderr",
     "output_type": "stream",
     "text": [
      "/tmp/ipykernel_62901/1983484597.py:49: FutureWarning: `multichannel` is a deprecated argument name for `hog`. It will be removed in version 1.0. Please use `channel_axis` instead.\n",
      "  fds, img_hog = hog(\n",
      "/tmp/ipykernel_62901/1983484597.py:49: FutureWarning: `multichannel` is a deprecated argument name for `hog`. It will be removed in version 1.0. Please use `channel_axis` instead.\n",
      "  fds, img_hog = hog(\n",
      "/tmp/ipykernel_62901/1983484597.py:49: FutureWarning: `multichannel` is a deprecated argument name for `hog`. It will be removed in version 1.0. Please use `channel_axis` instead.\n",
      "  fds, img_hog = hog(\n",
      "/tmp/ipykernel_62901/1983484597.py:49: FutureWarning: `multichannel` is a deprecated argument name for `hog`. It will be removed in version 1.0. Please use `channel_axis` instead.\n",
      "  fds, img_hog = hog(\n"
     ]
    },
    {
     "name": "stdout",
     "output_type": "stream",
     "text": [
      "Detection:: Location -> (40, 300)\n",
      "Scale ->  1 | Confidence Score 0.6608835216992661 \n",
      "\n"
     ]
    },
    {
     "name": "stderr",
     "output_type": "stream",
     "text": [
      "/tmp/ipykernel_62901/1983484597.py:49: FutureWarning: `multichannel` is a deprecated argument name for `hog`. It will be removed in version 1.0. Please use `channel_axis` instead.\n",
      "  fds, img_hog = hog(\n"
     ]
    },
    {
     "name": "stdout",
     "output_type": "stream",
     "text": [
      "Detection:: Location -> (60, 300)\n",
      "Scale ->  1 | Confidence Score 0.6915223244937252 \n",
      "\n",
      "Detection:: Location -> (80, 300)\n",
      "Scale ->  1 | Confidence Score 0.6787191842388369 \n",
      "\n"
     ]
    },
    {
     "name": "stderr",
     "output_type": "stream",
     "text": [
      "/tmp/ipykernel_62901/1983484597.py:49: FutureWarning: `multichannel` is a deprecated argument name for `hog`. It will be removed in version 1.0. Please use `channel_axis` instead.\n",
      "  fds, img_hog = hog(\n",
      "/tmp/ipykernel_62901/1983484597.py:49: FutureWarning: `multichannel` is a deprecated argument name for `hog`. It will be removed in version 1.0. Please use `channel_axis` instead.\n",
      "  fds, img_hog = hog(\n"
     ]
    },
    {
     "name": "stdout",
     "output_type": "stream",
     "text": [
      "Detection:: Location -> (100, 300)\n",
      "Scale ->  1 | Confidence Score 0.6650818149422951 \n",
      "\n",
      "Detection:: Location -> (120, 300)\n",
      "Scale ->  1 | Confidence Score 0.7332414941479937 \n",
      "\n"
     ]
    },
    {
     "name": "stderr",
     "output_type": "stream",
     "text": [
      "/tmp/ipykernel_62901/1983484597.py:49: FutureWarning: `multichannel` is a deprecated argument name for `hog`. It will be removed in version 1.0. Please use `channel_axis` instead.\n",
      "  fds, img_hog = hog(\n",
      "/tmp/ipykernel_62901/1983484597.py:49: FutureWarning: `multichannel` is a deprecated argument name for `hog`. It will be removed in version 1.0. Please use `channel_axis` instead.\n",
      "  fds, img_hog = hog(\n"
     ]
    },
    {
     "name": "stdout",
     "output_type": "stream",
     "text": [
      "Detection:: Location -> (140, 300)\n",
      "Scale ->  1 | Confidence Score 0.6650113888021546 \n",
      "\n",
      "Detection:: Location -> (160, 300)\n",
      "Scale ->  1 | Confidence Score 0.7084047833112622 \n",
      "\n"
     ]
    },
    {
     "name": "stderr",
     "output_type": "stream",
     "text": [
      "/tmp/ipykernel_62901/1983484597.py:49: FutureWarning: `multichannel` is a deprecated argument name for `hog`. It will be removed in version 1.0. Please use `channel_axis` instead.\n",
      "  fds, img_hog = hog(\n",
      "/tmp/ipykernel_62901/1983484597.py:49: FutureWarning: `multichannel` is a deprecated argument name for `hog`. It will be removed in version 1.0. Please use `channel_axis` instead.\n",
      "  fds, img_hog = hog(\n"
     ]
    },
    {
     "name": "stdout",
     "output_type": "stream",
     "text": [
      "Detection:: Location -> (180, 300)\n",
      "Scale ->  1 | Confidence Score 0.6748300258697366 \n",
      "\n",
      "Detection:: Location -> (200, 300)\n",
      "Scale ->  1 | Confidence Score 0.6886005321066275 \n",
      "\n"
     ]
    },
    {
     "name": "stderr",
     "output_type": "stream",
     "text": [
      "/tmp/ipykernel_62901/1983484597.py:49: FutureWarning: `multichannel` is a deprecated argument name for `hog`. It will be removed in version 1.0. Please use `channel_axis` instead.\n",
      "  fds, img_hog = hog(\n",
      "/tmp/ipykernel_62901/1983484597.py:49: FutureWarning: `multichannel` is a deprecated argument name for `hog`. It will be removed in version 1.0. Please use `channel_axis` instead.\n",
      "  fds, img_hog = hog(\n"
     ]
    },
    {
     "name": "stdout",
     "output_type": "stream",
     "text": [
      "Detection:: Location -> (220, 300)\n",
      "Scale ->  1 | Confidence Score 0.7277042090376797 \n",
      "\n",
      "Detection:: Location -> (240, 300)\n",
      "Scale ->  1 | Confidence Score 0.6546624693987932 \n",
      "\n"
     ]
    },
    {
     "name": "stderr",
     "output_type": "stream",
     "text": [
      "/tmp/ipykernel_62901/1983484597.py:49: FutureWarning: `multichannel` is a deprecated argument name for `hog`. It will be removed in version 1.0. Please use `channel_axis` instead.\n",
      "  fds, img_hog = hog(\n",
      "/tmp/ipykernel_62901/1983484597.py:49: FutureWarning: `multichannel` is a deprecated argument name for `hog`. It will be removed in version 1.0. Please use `channel_axis` instead.\n",
      "  fds, img_hog = hog(\n",
      "/tmp/ipykernel_62901/1983484597.py:49: FutureWarning: `multichannel` is a deprecated argument name for `hog`. It will be removed in version 1.0. Please use `channel_axis` instead.\n",
      "  fds, img_hog = hog(\n"
     ]
    },
    {
     "name": "stdout",
     "output_type": "stream",
     "text": [
      "detection confidence score:  [0.7687738704315673, 0.7535402675402052, 0.7720873104505651, 0.7498258667432512, 0.6832436655704274, 0.6332811125071914, 0.602023123939631, 0.6036290090680199, 0.659227489515463, 0.7257542304617054, 0.7681697806292974, 0.7609449045768549, 0.7315410717527183, 0.6657349681772317, 0.6746584137914845, 0.667813583894959, 0.6688786760433196, 0.7040445780338149, 0.613822744448264, 0.6194384881434856, 0.6826767879166689, 0.6481399732741074, 0.6055416696980352, 0.6847944558509584, 0.6697097351284771, 0.7154006987946788, 0.6729024697676286, 0.6841517888848463, 0.7654656260461182, 0.7557571857349497, 0.7890984573697805, 0.8085539913922974, 0.8040173503631719, 0.7972728705389032, 0.7777334038310996, 0.7919381989712705, 0.835816390817206, 0.8323058414943227, 0.8114646020464783, 0.7724585693812245, 0.6707419681517054, 0.7516200944369495, 0.737711792338528, 0.7101529618293774, 0.6598893124770002, 0.6496990213925374, 0.6208773786099894, 0.658591573302385, 0.6549250543264601, 0.6310606891180731, 0.6553721097779899, 0.6352120532057125, 0.697958609079288, 0.6224295210636863, 0.647513851581636, 0.646519725576487, 0.7249039155367456, 0.7352388711922874, 0.8035177342954146, 0.7272216093853521, 0.7627569257381026, 0.783413595141656, 0.7870059546676115, 0.7847136614012646, 0.830020398877724, 0.803530577285037, 0.8243997709242427, 0.7862395183646373, 0.7150879416501361, 0.6040454281603376, 0.761899986307644, 0.7005536458210314, 0.6969149028541862, 0.6283539870354077, 0.689997857515652, 0.6832117607492488, 0.6935946540527514, 0.6033144746749961, 0.6179776687736606, 0.6800794906393288, 0.6826936511939024, 0.6574920562418478, 0.6429896094241844, 0.6549113617976897, 0.7304483089041333, 0.6916846565467183, 0.7424347945640438, 0.7880371001032895, 0.7981714876422537, 0.7686472588662561, 0.7686083541038227, 0.7516135311625848, 0.8101100269378004, 0.8178509295013999, 0.8349505930726265, 0.8077939350151733, 0.7646329626218902, 0.6865083786192151, 0.6644729191523389, 0.7443072923947823, 0.696818307184132, 0.6991379051847645, 0.640540050920052, 0.6128597624340791, 0.6585404375753815, 0.6587252775564117, 0.6785385792913307, 0.7021080236066641, 0.6760957459894572, 0.6460525988000628, 0.6233805220325331, 0.6288276002513274, 0.668164925039374, 0.7466262998807998, 0.6676079596708493, 0.7267055951904887, 0.617369048381692, 0.6622994226737263, 0.7246720254943193, 0.7638010180686453, 0.7815659133794005, 0.7503543294646177, 0.7328705571316125, 0.7626082307666483, 0.7706783050277273, 0.671794513785745, 0.7053578713208035, 0.7129532971698372, 0.778317194105082, 0.7984525376724964, 0.787552752969635, 0.7452883288484995, 0.6402515110533364, 0.6824035103620216, 0.7165149856985286, 0.6502685734483489, 0.6576807635778819, 0.6034358571151327, 0.6036664313389201, 0.6728368322860558, 0.739953590340396, 0.6798192523487729, 0.6831434330321926, 0.6543103229969213, 0.7350959854013354, 0.7148387219341761, 0.7115845288199715, 0.6929062323401071, 0.7248477546628835, 0.638021485394791, 0.7334411611789909, 0.7161146916943109, 0.7352057054501351, 0.7368441955680647, 0.769249747384747, 0.7303163888545232, 0.7293418709879007, 0.7703458828306683, 0.746329467241677, 0.7896986896982976, 0.7316244915449515, 0.6971120795939469, 0.7001010879429559, 0.7447053109149855, 0.7746611218678837, 0.8179657514522636, 0.8111488023330448, 0.7333633924708767, 0.6790512143645091, 0.7305528903924688, 0.689908580905913, 0.6623748002327238, 0.6383312465662154, 0.6563605262225438, 0.6425077517393735, 0.6729326710013502, 0.7035259684675086, 0.7125005704141777, 0.6511005458587309, 0.6497723156342188, 0.6512154797672938, 0.6348931072543631, 0.6703076113891848, 0.6528281291733414, 0.6446084174600498, 0.7151103942801856, 0.6643403683307403, 0.6605909883538849, 0.6731788382048283, 0.7329721769298199, 0.7036911686040418, 0.6849795529464906, 0.6457863336789383, 0.7110374085024745, 0.668571451240325, 0.7253179244807597, 0.7346429919381535, 0.7036326901154634, 0.6945344422608419, 0.722220377345378, 0.6474730427165175, 0.6661236024746913, 0.7196149692560343, 0.641619346549539, 0.6752041130491979, 0.6866285764250976, 0.6738891979126075, 0.6886376208394254, 0.7010885274350452, 0.7401312077755184, 0.696395964662576, 0.6196933635607687, 0.6863947151940293, 0.6578292478946576, 0.6660657000570626, 0.7289827289671518, 0.697338085628035, 0.702618724126351, 0.6910300496830327, 0.6653466024323209, 0.6865422873914717, 0.6483588922380209, 0.6931777309978465, 0.6924497370802488, 0.6967429309975669, 0.6637126565569569, 0.7362276141305314, 0.7078447563057023, 0.655412067515111, 0.7114788994713577, 0.7075923745719281, 0.6920994817726187, 0.706660219516807, 0.650945244508829, 0.6159673120606316, 0.6814024637672967, 0.6438650345338958, 0.6820583254033897, 0.7211275009382032, 0.7067451672955795, 0.615793181581012, 0.6328683588376784, 0.6680695986588395, 0.6595382994280595, 0.6751100684229274, 0.7410138606445965, 0.7041650531177776, 0.6879487592490495, 0.6345205660105834, 0.6202253357332896, 0.659618874400954, 0.684837527206791, 0.7222002707268682, 0.6794424233898224, 0.6902427578049087, 0.717451754182341, 0.6708537746519007, 0.6132327499939446, 0.6142384564341374, 0.6952383518546312, 0.7463910880984039, 0.7029089765482963, 0.6603286708105217, 0.6274833333259217, 0.6746609453009023, 0.6489780853123905, 0.6209017565106275, 0.6086162109732206, 0.6810498168466509, 0.6419341802465108, 0.63386899506703, 0.6528832816383572, 0.6042762478946831, 0.7051425167916463, 0.7108891543505135, 0.6993738355209238, 0.6918705025045896, 0.7426029428202567, 0.6678141207607239, 0.6587552840734167, 0.6786377521275679, 0.7198218129933367, 0.7083835774936124, 0.7163289741019524, 0.729428662582144, 0.7836551279336248, 0.7292427827248703, 0.7484141505309259, 0.6952457322216591, 0.7281707469854697, 0.6858827784731959, 0.7079161937407591, 0.7498072794747691, 0.7295642828789984, 0.6930816608299806, 0.664241250826216, 0.6498898286126292, 0.6883884390421728, 0.6160102746408613, 0.6328799864402739, 0.7162568823239923, 0.6475582467960996, 0.6501117175300728, 0.6292676441280624, 0.6872920133737535, 0.7142138079910816, 0.6994534891306914, 0.6892183329702043, 0.709728533368415, 0.7402852967430565, 0.6860896945303026, 0.7014851276289598, 0.6654503575538581, 0.6894470139601467, 0.6683183728203096, 0.6915587024092715, 0.7108279909528561, 0.7405163296629607, 0.7609452508103798, 0.7723237901499044, 0.721046067616415, 0.7254487449619436, 0.7228053227988354, 0.7018806424347299, 0.6246519308253272, 0.7095978873380826, 0.7269115696136107, 0.760791753154799, 0.7324592464453235, 0.784497215719037, 0.672795118752398, 0.6929662859197309, 0.7187331144002866, 0.6249132740741842, 0.6248161794535767, 0.6629562649694153, 0.6707100287955936, 0.6863778231896971, 0.6832626345142605, 0.7410668671096221, 0.7281848017412066, 0.7473993292905815, 0.6678390394455638, 0.709358431315807, 0.7186498525425526, 0.6801734354235336, 0.7267794796748731, 0.7230293484848883, 0.7346172653516216, 0.7202932464993689, 0.7468120919667393, 0.716642874347156, 0.7190591848309794, 0.7403506888384521, 0.7424435639911031, 0.7021574097104971, 0.7308276972133585, 0.7713929643441098, 0.800965252545371, 0.8152861117279695, 0.8043186937177577, 0.836948650179171, 0.7732060511231679, 0.7806896930357836, 0.7229822359008746, 0.7640194572796452, 0.7490675477511957, 0.7639245182191147, 0.7694507019542866, 0.774503135283006, 0.7373957638864517, 0.7435191825308876, 0.7011751150271416, 0.7037649185301786, 0.7140210209594321, 0.7058827139631269, 0.6249687229224516, 0.6366159992156765, 0.6706930283754194, 0.7251669081009642, 0.7560230956734906, 0.7465690205140653, 0.7051218839323605, 0.7541944692969326, 0.7412689970339793, 0.7249289308600113, 0.6573730916445993, 0.6808298273555363, 0.7501694132230672, 0.7601153292089391, 0.6749442058069256, 0.709454034027834, 0.7214878065943103, 0.7050512841547691, 0.648519571362132, 0.6865817823234923, 0.6774140174149976, 0.7381620421114694, 0.6811432081140084, 0.7345319282037681, 0.664479488510654, 0.7635612501082925, 0.7082697341708155, 0.7317937812374111, 0.7400335279510066, 0.7727892783198801, 0.739778585445798, 0.7478614958827998, 0.7288406817693656, 0.7401055405664422, 0.6849535972890258, 0.7768853505014792, 0.7349976749693496, 0.7838143793938932, 0.7463209656521943, 0.7328146126871812, 0.7241321277471917, 0.715416444215241, 0.64507912242404, 0.7068664192494114, 0.6202233540401051, 0.6068398325664355, 0.6266126063086286, 0.7371766567875336, 0.769232182895551, 0.7370913994654071, 0.750874415739327, 0.7020351306511982, 0.7190224776071608, 0.7090164853553486, 0.6787358208925557, 0.7366723387703711, 0.7586934583909591, 0.6890586539733656, 0.7025589637760529, 0.7757989497020665, 0.7301985783934144, 0.6856329213176428, 0.6754179217743457, 0.7350949363314623, 0.7035821185165247, 0.7639269110497592, 0.6931082491556577, 0.7518911452536898, 0.7462319624956534, 0.7324569146903572, 0.7260802548508952, 0.7392776443156446, 0.7656847299784875, 0.7566825721718733, 0.7234082031807761, 0.7571189262277868, 0.712868898098098, 0.7507965366469075, 0.7361086168713744, 0.7797558360097182, 0.7305385815663483, 0.7632652439145285, 0.734227371128326, 0.7433461481883756, 0.7032427765737805, 0.6825667933031822, 0.629907665476755, 0.7331407359017224, 0.6807163360502397, 0.6653230963400745, 0.7736196467984564, 0.7863626710377589, 0.7700797972757919, 0.7598708181705698, 0.7499160147068146, 0.7138469272264957, 0.6980813057547639, 0.6796871425738686, 0.7278695728009708, 0.6941698405503653, 0.7295616833473633, 0.6860943109856237, 0.6773316410714335, 0.6941193710273134, 0.7004918320471499, 0.6742729915781016, 0.7074901603897371, 0.6911558721131269, 0.7149301139727996, 0.6092461088847225, 0.7002743265115161, 0.6789427780119849, 0.7022481277031154, 0.7220106263467754, 0.727246947504629, 0.6472157392163392, 0.6313780626900869, 0.6559515951680939, 0.607375356059027, 0.6816090960069545, 0.7395369283854116, 0.7085476494379808, 0.6351122042498751, 0.6192642878536831, 0.6407454447733347, 0.6998418912243146, 0.7355507178226846, 0.6555602523715311, 0.7038322347845543, 0.798832817069894, 0.8158831998307259, 0.7820878093524996, 0.7976624502680572, 0.8025394461613015, 0.7953298957266067, 0.7923593414052592, 0.7927242785191098, 0.7426928491778472, 0.7405669960954542, 0.6947664875437987, 0.7627542449931437, 0.6976324063461575, 0.6979423216207263, 0.7131805117953599, 0.6985277452257049, 0.7236442733775776, 0.7453031498825468, 0.6359896177017605, 0.6301933875648953, 0.6501697143867368, 0.7226490052340924, 0.6946640143489345, 0.6948769722618221, 0.6598517506801326, 0.6892229062374448, 0.6390308588676072, 0.67847368958614, 0.6584087184630485, 0.6846463708710587, 0.6534716971444909, 0.7201968245295979, 0.6429479155604029, 0.6597594223023253, 0.7068140886707341, 0.6612456834447819, 0.7550527307412984, 0.6775528843828611, 0.6810376183613198, 0.6363750987611579, 0.7093375051428814, 0.6894266992331898, 0.7486634759740881, 0.7350210249357805, 0.7263598117892419, 0.7468348553789789, 0.8238700885371741, 0.8169126723175495, 0.8052994585048072, 0.7273258681794914, 0.710870604905264, 0.7096760190411002, 0.7137891338968613, 0.7137850297017836, 0.7550186368363507, 0.6180102368685771, 0.7420398866065239, 0.6832658681864727, 0.6935044585719716, 0.6084488664063097, 0.6522155499025385, 0.6005281485239616, 0.6119741908576782, 0.6693235302841307, 0.6132380431328215, 0.6808203927528994, 0.6356716217808805, 0.6417665594080746, 0.6072076754163391, 0.6358247909919991, 0.6132048653241927, 0.6201277356575606, 0.7012611540857364, 0.6604866160706763, 0.6968188609576937, 0.6354663827844889, 0.7013957027644311, 0.7479881600211598, 0.7521229763935102, 0.7361788325036581, 0.8189662982495652, 0.7924500051420048, 0.7368873001486193, 0.7349429166324095, 0.6917765546419684, 0.6806716598713933, 0.6971169980999841, 0.7366094700099799, 0.7442436627226142, 0.6869551386696746, 0.7480135854390307, 0.648728052820743, 0.6011209208091245, 0.648020969240986, 0.6607957304589853, 0.672955885141112, 0.6369464305104862, 0.6305557705164808, 0.6705797909458784, 0.6045632724646829, 0.6656835424445887, 0.618018422214939, 0.6056904165020676, 0.6043220916845169, 0.620904692965531, 0.6290130638027434, 0.7700691054602931, 0.7275499163015214, 0.7253836101944325, 0.8168357382001356, 0.8027254650246357, 0.753307540090538, 0.7131462034160034, 0.6942034572722676, 0.6725924642304378, 0.704038034059065, 0.695787167641409, 0.6991995976835459, 0.705932978230915, 0.6371991409632429, 0.633616633194489, 0.6108205109453556, 0.612768988121854, 0.6141751309929553, 0.6033036665505263, 0.6452437173078193, 0.7493577890880307, 0.7054863152150606, 0.7520792168517106, 0.7657319211691427, 0.779370036505739, 0.7394199701581148, 0.7284888753094189, 0.6827404087607679, 0.7265966342472697, 0.7642712104981636, 0.6711761917147064, 0.6246029926927698, 0.6471085985701505, 0.6254678204489242, 0.6658767531956165, 0.6345943277572096, 0.6143275532123345, 0.6147917456845438, 0.6134973684797637, 0.6150956858141848, 0.6081357960435875, 0.6534555438009507, 0.6842979354080729, 0.8328630321046226, 0.7888951121738192, 0.789606572780846, 0.7787362591169813, 0.8224281173564607, 0.7473826802805358, 0.7631804761460427, 0.7520896485130681, 0.723310159513139, 0.7058696984302316, 0.6610474263300831, 0.6144388446692517, 0.6756805440444958, 0.6163032457173239, 0.6427145007629431, 0.6149864522437628, 0.6006891220430264, 0.6043283339354424, 0.6550099084797067, 0.6136047942885073, 0.6230271779711296, 0.6629378590703683, 0.7776968181043156, 0.7426814797247562, 0.7884581144043172, 0.7488128890235747, 0.7377799105043213, 0.7830527785323316, 0.7767515251816596, 0.755387948888935, 0.7500502188257663, 0.7104700728978514, 0.6530546176281306, 0.6244792095670987, 0.6271310445304439, 0.626529229213349, 0.6427402449703333, 0.6576137334727825, 0.6204131734839659, 0.6484110259763417, 0.6570833472836368, 0.654187545265665, 0.6005086083211723, 0.6194772738047986, 0.7296190015920935, 0.7141677833934723, 0.7355349400658147, 0.7107964871756159, 0.7412567515993851, 0.7295379826601966, 0.7712696613571465, 0.689290894602647, 0.7212459388945718, 0.6488449150999415, 0.6355020797177487, 0.6220515083062597, 0.64674064620786, 0.6450594749935501, 0.6290888303875696, 0.6413717993064555, 0.6024592616119705, 0.6323105152795148, 0.620293818646082, 0.6252384487532918, 0.6653093420602084, 0.6598420464342566, 0.62209903604791, 0.601711864938939, 0.6332839489443698, 0.6522066035939345, 0.6578238390446234, 0.6294456205347885, 0.6283274351136299, 0.6047303114719543, 0.6034027068869487, 0.6867270770588002, 0.7672090147477598, 0.8123424710861366, 0.7797089110350212, 0.766538378450266, 0.7526550459698282, 0.7552461719219473, 0.711966646798944, 0.6719656868946364, 0.6734329401038903, 0.7126074658630905, 0.7243342100735813, 0.68883113330491, 0.6723287607037108, 0.6935799122210204, 0.6588005406631955, 0.6094856179758759, 0.6190264740178637, 0.6893815719333166, 0.6195021454578555, 0.7288983808061766, 0.6766930842224392, 0.6470751513954506, 0.6137349671390957, 0.6633822579499037, 0.6907372524260056, 0.7297926850925169, 0.7103202437801414, 0.6704676576138643, 0.669323747840631, 0.6526847907780461, 0.6586506614255081, 0.6766541669211068, 0.6622578776127575, 0.668023677248905, 0.729070027802724, 0.6689598094813608, 0.6998572181153239, 0.712933451754443, 0.6982873691467557, 0.706957779946299, 0.7402297447350635, 0.6705523357015518, 0.6325929649814215, 0.6121137771635201, 0.6122868582395593, 0.6503166242150766, 0.6347558614476702, 0.6481932724990559, 0.6259558907319761, 0.6027829349386673, 0.6682709473410986, 0.7037478429061594, 0.6553031495800326, 0.6292680931222183, 0.6960889922880719, 0.7607034816869708, 0.6795033911616606, 0.7253119129393434, 0.6416038708488326, 0.6825003589476484, 0.600616016087411, 0.6459989754565756, 0.6181008932318591, 0.7110885728835903, 0.6619673356487726, 0.751700707048619, 0.7567789635442028, 0.6717632081307133, 0.6389373465548895, 0.6032704564312181, 0.7095630627098923, 0.7291223569657113, 0.7519108817812816, 0.7817118215781863, 0.7791246896365084, 0.6617273996382299, 0.6057293723384456, 0.6102217805475137, 0.6591244220258419, 0.6681517396631965, 0.689783183108854, 0.6707492399052933, 0.6313155903869517, 0.601166265085086, 0.6079885047628554, 0.6383276046893777, 0.6869130512699347, 0.7268464284146172, 0.7280249292489752, 0.70076504091276, 0.6989015552017781, 0.613497016730986, 0.6310073813313539, 0.6311098442791043, 0.6995789579699896, 0.7094435500309095, 0.7868331034939915, 0.7215592339062448, 0.7132628388553861, 0.6908430080006998, 0.6802863400280635, 0.6950052732402426, 0.6989079007536262, 0.7334792002696323, 0.7012137055081025, 0.6967455639922341, 0.7299372512374246, 0.7276600340841649, 0.7361451698339546, 0.692668585665427, 0.7150414724901858, 0.6572650585910544, 0.6945865673742873, 0.6676964944318318, 0.7472434974987845, 0.7618025429741615, 0.649003536495541, 0.7064655463734588, 0.6378682483157648, 0.7122245009145401, 0.7053872172475342, 0.7296769659511158, 0.7190151739397385, 0.6446573512774223, 0.6053045293893464, 0.6372631974944428, 0.626892134206814, 0.6489497767753997, 0.6702445103951618, 0.7171083855447401, 0.6732068966671557, 0.7076654846753333, 0.6726193210978149, 0.6967723592916716, 0.6808780815384193, 0.7450831550845908, 0.6930912505779685, 0.692178395028627, 0.6939133190397829, 0.7663849197321779, 0.6649518993149934, 0.6862144549806757, 0.6808962971757274, 0.730004387606595, 0.7428877163828724, 0.7428421459213403, 0.7127678122667339, 0.6822874775763637, 0.6703159410887151, 0.6688325088677282, 0.6542177766042404, 0.7436181207998058, 0.6948623312203879, 0.7806937633672848, 0.7490901630572927, 0.6901560838816393, 0.7148766733450167, 0.7608334951807165, 0.7411193913568102, 0.7418780860731352, 0.8111785063605422, 0.756122890543694, 0.7710757919550759, 0.7927787247632527, 0.8130965720790505, 0.7393967499526497, 0.7095740379952287, 0.7346462850451491, 0.7801415388654441, 0.7847806952095906, 0.7742437376246936, 0.7452653569645635, 0.8010029926088784, 0.7169776959744971, 0.6935233210634015, 0.6483807843235118, 0.7575182456258461, 0.7456273950148261, 0.7646287536556478, 0.8078417702116079, 0.7637123569618319, 0.7536934689807744, 0.6646318552548677, 0.6972449064274522, 0.6726159268699065, 0.7132496229123255, 0.743722828555483, 0.767023965154961, 0.7602063538335458, 0.7361719560556436, 0.7472781582177652, 0.7348676310126764, 0.6119210468857168, 0.6213863671962875, 0.6587183509824687, 0.7471172589406774, 0.7554646353518545, 0.8039657017314058, 0.6508681730711984, 0.6356953705474537, 0.6346924090407174, 0.7489889958924771, 0.6995779116588992, 0.7552383668407764, 0.8102209766546061, 0.8196787736010671, 0.842338453666551, 0.8116975742442549, 0.7566549867604613, 0.7616156734303887, 0.7702060292246987, 0.7746108770578533, 0.8004648515140615, 0.796479996491806, 0.7789870214800333, 0.7889355834297089, 0.6972476058999912, 0.7169375673679317, 0.7362606554820084, 0.7530003197215639, 0.706239121829376, 0.7571187957088586, 0.7688354125120666, 0.7859182708093027, 0.6745274298832667, 0.7288450907138236, 0.7373544574401539, 0.7203344588576847, 0.7278700258717752, 0.7746029080740863, 0.7524717286868122, 0.7723962599181285, 0.6976261098775901, 0.6808799669013954, 0.6948949840797474, 0.6507319009455066, 0.7111289459873376, 0.7459156198890583, 0.7296908042357011, 0.7392055964283732, 0.7050254796908407, 0.6718692051622445, 0.6255416768937696, 0.703484194001858, 0.7574081219229619, 0.7539522848986695, 0.8241333851323249, 0.8661262736101016, 0.8422018419742555, 0.7932783796262363, 0.7752680902213192, 0.7770454955071944, 0.7476784928815936, 0.7452214266975236, 0.7634252688543701, 0.8154681556104852, 0.8164448409524563, 0.7677775031295995, 0.7556162866753185, 0.7210319315457824, 0.7835887712907127, 0.7694118729075141, 0.789602671398036, 0.7750717551724234, 0.8001344135590117, 0.788562674004692, 0.7790474294569051, 0.7796779828432543, 0.7615142406049846, 0.8194198892544844, 0.788123000162559, 0.786824007293456, 0.8146996072444532, 0.7554524615400078, 0.7778503431507491, 0.7925509201481992, 0.7629026325673445, 0.7686562741599654, 0.7549490904647784, 0.704728018778575, 0.744906048151771, 0.7559194200773537, 0.6945947484963441, 0.716853444667553, 0.6460005710202262, 0.6118548616478636, 0.6189126049432108, 0.6343751070001297, 0.7803238642515614, 0.8116772275651047, 0.8209471271606339, 0.7825029316539613, 0.7732193669228979, 0.7315092093814326, 0.7563524343174244, 0.7604120719759603, 0.7567381479853172, 0.7975592508103843, 0.8132852957796776, 0.7445625215774688, 0.7359818444994856, 0.7510711708339151, 0.7114407859264678, 0.636762833880763, 0.7484378239427588, 0.7554569249010292, 0.8085198697470776, 0.7501323582704797, 0.7300134262298096, 0.6939347474647091, 0.7662364094488917, 0.7498341761336158, 0.7828712009698129, 0.7395662730569507, 0.7543961656133228, 0.7458149598253603, 0.7554987714324889, 0.6450424453076727, 0.7502021728291769, 0.7737011929552752, 0.7904164046100808, 0.7981663560895275, 0.7809328379758539, 0.7412269382607076, 0.7841669266449107, 0.7532390737620542, 0.7218603407896891, 0.729684544073421, 0.7133415640914412, 0.6404728183367719, 0.6260227620066559, 0.7355794363219827, 0.7683184164184658, 0.7853335558289416, 0.7502438650287956, 0.7106068467155374, 0.686799790196983, 0.7740539065998926, 0.7795763892523465, 0.7281991794488826, 0.7517573109829553, 0.7974896688695601, 0.7548132192518141, 0.6791651202934289, 0.6735156563753611, 0.7398853053712338, 0.7449981571326018, 0.7347814850596099, 0.7711254062922783, 0.745834843267702, 0.7784793577368766, 0.7302514984362485, 0.7368423527935918, 0.7089408497658585, 0.7379567310060072, 0.7302675943320656, 0.7182447460963516, 0.7522391362680512, 0.7180820386011632, 0.7433432168977263, 0.7627992692507684, 0.7642977430343516, 0.7613742345466367, 0.7603851507728319, 0.7058548448386451, 0.7397029532301364, 0.6504890667239858, 0.6797488574867069, 0.7555383038654175, 0.7350958279072919, 0.7201919403787258, 0.631087852196069, 0.6515640006749336, 0.7002757758004885, 0.7911414289014268, 0.7027451553033904, 0.7116891292778271, 0.7316768632259943, 0.7555694410639459, 0.7066676333551866, 0.7718912952834143, 0.7446408467129527, 0.7122836129869183, 0.6893386053678453, 0.6409225503306439, 0.7364067354972305, 0.680381537381146, 0.7016239511302754, 0.7154559989027695, 0.7179209002422351, 0.6989421731590705, 0.6415137828232328, 0.7126178013753528, 0.7076995087683464, 0.7627003251595691, 0.6862138776291299, 0.7434481969439012, 0.7327642067592189, 0.7535009358221921, 0.6678295387425477, 0.7036907843159648, 0.6915922249321691, 0.7460101684401999, 0.7145228220568195, 0.7419932666827243, 0.7259356545288486, 0.7051809918944149, 0.7002066605433838, 0.7357609525898785, 0.6735961125172376, 0.7022600908153139, 0.659470610812363, 0.6241824991097411, 0.618189790816914, 0.667238439091524, 0.7037774894910467, 0.7020014411165642, 0.7243464272430447, 0.7689115369415948, 0.7839264481626043, 0.8230929651390674, 0.7565040021436571, 0.7667733848768169, 0.7371867766636696, 0.7436280280730432, 0.7496458203006902, 0.7484513671816403, 0.7004317731152031, 0.7251880289429627, 0.6984658719873087, 0.6979574686703535, 0.6795897510171892, 0.6959402759934016, 0.6988750336804341, 0.7529972212376578, 0.7603100061873538, 0.7610378541541636, 0.7405750079368709, 0.7307209614748363, 0.7001633590696239, 0.7077600838813229, 0.6670289486237413, 0.7293897112295048, 0.7556257208709981, 0.7381961968373776, 0.7157286519677456, 0.7760815416649234, 0.7511492217070479, 0.748256294224115, 0.6997119003292938, 0.675510214038669, 0.7162611637338472, 0.7298016071996403, 0.6623963868315955, 0.6070922070814349, 0.6408406078067769, 0.7042762333319148, 0.7345518720401147, 0.7437569490772792, 0.6855455230431136, 0.7575894375977535, 0.7667615209261428, 0.7390782481767206, 0.7060272283379391, 0.7137368861825386, 0.7258403806938709, 0.7489648708283393, 0.7122338760261877, 0.7140271114999943, 0.652863903773509, 0.6299155004741153, 0.6433018168915832, 0.6707399859241173, 0.6777833076206486, 0.6841679612283212, 0.7071111352338296, 0.6807474343203171, 0.6826734561346403, 0.6638843365980358, 0.6851995425515354, 0.6769992794336247, 0.7236600901874907, 0.7106741936642825, 0.7426304698997773, 0.7353549512784927, 0.7181318023476148, 0.6993215162244526, 0.7222754487830763, 0.7239368345548371, 0.7498981277261739, 0.6888752504737633, 0.7276320712419891, 0.6552916639463326, 0.6477301613402379, 0.6982311557650797, 0.7425835144561538, 0.7710648603919247, 0.7093708853993247, 0.7430968313711231, 0.6831962416218084, 0.7025811390488035, 0.7390517613956916, 0.6951225352633668, 0.7730020960224366, 0.7529079735481834, 0.7021496187782253, 0.6624222959216355, 0.651175159977539, 0.6661296839592079, 0.6657686486971072, 0.667465567143979, 0.63790104868088, 0.6998790286832469, 0.6647288244379641, 0.6931911585374709, 0.667741262303159, 0.6410361884236643, 0.7000160377340757, 0.674975000226858, 0.6497411783493869, 0.7063491319780827, 0.6848571061771378, 0.7385672724354431, 0.7390593440662588, 0.7176657266700261, 0.7365369393446423, 0.7294898316560888, 0.6744438490273108, 0.706375705113154, 0.6148179330497141, 0.6399832850387236, 0.6979296115784508, 0.6234242746433158, 0.6977736033132461, 0.6476824914806291, 0.7454422518713832, 0.734564757991599, 0.7117303242372175, 0.6852582410470043, 0.6891380154410233, 0.6988965159201862, 0.7370304545847264, 0.6689841166829363, 0.6855502454907348, 0.7096062660639847, 0.689509245225923, 0.7291799260728568, 0.6658750013565263, 0.6679283333379439, 0.6854192728232583, 0.6672241789319894, 0.6413222733888776, 0.6016845091082962, 0.6487322850719316, 0.6562320438908597, 0.6802963482427988, 0.6771557636235996, 0.7266800150299922, 0.6809522860987489, 0.682552499093498, 0.6739500354180142, 0.7065243575422037, 0.6848887759444977, 0.7331341250016729, 0.7075353961668802, 0.6987101992402317, 0.6887103810690982, 0.6743323400082858, 0.6762237174241936, 0.6817498669260742, 0.671378389576348, 0.7370335604558138, 0.7358473992643088, 0.7221372222485275, 0.7109196152556629, 0.7060172475224062, 0.6785751047201993, 0.690932953808428, 0.7117389775540882, 0.7236186860780575, 0.7113406809957884, 0.7055321670209002, 0.629922579546362, 0.6576559475313096, 0.7235404009547881, 0.6968014780618743, 0.6689483440675392, 0.7057158077972387, 0.6783821691803922, 0.6511034096754901, 0.6948440580846299, 0.7213056860783106, 0.7227188527751403, 0.7191734467995806, 0.6847005698587174, 0.6181330363302563, 0.630622430253954, 0.6850842234473623, 0.6266532118447591, 0.6876597950192062, 0.6688184152896461, 0.6615921485144526, 0.680916501221609, 0.7175005019753605, 0.7044763042910518, 0.6712207964978121, 0.6936594404314762, 0.6350119289927942, 0.6409855477627647, 0.729706314316862, 0.6953996313879603, 0.726770102367756, 0.6853988053085545, 0.6966061984243527, 0.6208245430500334, 0.6340736945770636, 0.7341150158345087, 0.6820828366455041, 0.6792819605165796, 0.6757704891449725, 0.667416360052009, 0.6583833706995526, 0.6625806208011961, 0.6111022741255014, 0.6111979685442361, 0.6017984903012997, 0.6244816537111494, 0.6369851451403571, 0.6673054496718628, 0.6441834793164967, 0.7055416436569781, 0.6815962247289699, 0.6782388203067714, 0.7274072542804912, 0.6819426225213622, 0.6869800460612833, 0.6321341699469266, 0.7249090813124413, 0.6560832532013368, 0.685257852064705, 0.6349197841312788, 0.6239784811155074, 0.6114226028423215, 0.657707703528404, 0.6611736726390366, 0.6943879707731851, 0.6945149498580374, 0.6862604599920415, 0.6854648503431346, 0.7087850821378582, 0.7259198475363949, 0.6408790640452589, 0.6249160030141204, 0.6457702481825003, 0.6688924509381308, 0.7166425262646581, 0.6970290059015625, 0.6810344219580851, 0.6308891719464377, 0.6300352098492024, 0.6140617988592406, 0.6922903887203823, 0.7106125786950231, 0.7525172308609429, 0.62069128617585, 0.6382662284221976, 0.6038475574054997, 0.6645144822675251, 0.6270971863981071, 0.670443478555268, 0.6976730596265744, 0.7642664549411923, 0.8174409469588793, 0.8227856932287257, 0.7429644684246415, 0.7209475189501667, 0.6170496682012946, 0.6925920589150852, 0.6558893227090312, 0.651453996662617, 0.7352394432496892, 0.7254970680686067, 0.7656316327041249, 0.7801109602804215, 0.783491180896515, 0.7986641985571493, 0.7784589807445725, 0.6315884392429775, 0.6171449741861336, 0.6883314964042315, 0.7596336587550129, 0.7303854916915419, 0.6768033132912074, 0.658779509443845, 0.7288781559913124, 0.7393127529867937, 0.7314559660516544, 0.7562609270374049, 0.7532167485523225, 0.7513180905076758, 0.6857072815892123, 0.641073972734976, 0.7429377380135384, 0.7242394833995424, 0.6773981039710093, 0.6682196805575109, 0.6068991354955486, 0.6725515804011241, 0.6838452134358729, 0.7162237365121603, 0.7179335830538724, 0.7047305912194176, 0.6674375104274305, 0.690766628683446, 0.7330358288831816, 0.7622641764557101, 0.7067392256040894, 0.6820384680634263, 0.6393389870336452, 0.614791856502095, 0.6591512185089072, 0.6794028471215691, 0.6843942932567353, 0.6307104865752895, 0.6987351266816207, 0.6771056768761394, 0.6487155988354077, 0.6844287543456467, 0.644843424100226, 0.640860028311138, 0.6241662302689956, 0.6125233447173717, 0.612450758376356, 0.6525631737518818, 0.6679442991217832, 0.712329951851617, 0.7606600951192783, 0.6952589246500935, 0.6367268679597757, 0.7128861383401366, 0.7475087038000605, 0.7020631192720861, 0.739201671931223, 0.6914044634722731, 0.6090535255675643, 0.6293104573477526, 0.6339242258791697, 0.7028717781855783, 0.6190949431399884, 0.687448974161521, 0.7513828204569267, 0.7656646011105116, 0.7028050974503312, 0.6022379984433314, 0.6413905055663737, 0.7212437249881591, 0.7867214381073139, 0.6804348225468978, 0.6053683648286112, 0.8178461096998673, 0.8021303728841884, 0.7431521977208515, 0.6762310842568773, 0.6911068129338666, 0.6593572580466762, 0.6401380511402573, 0.6517546844146664, 0.7160748687058436, 0.7727592685423856, 0.7817516402217631, 0.7543752789640578, 0.6937941124459496, 0.6718662859071818, 0.7743271171398659, 0.7735579515110563, 0.6775217289114118, 0.7585712350643332, 0.731285031035121, 0.693405162720551, 0.7242288634694868, 0.8046311687769572, 0.8032740045718922, 0.8066496181663323, 0.7543023212613698, 0.7275097832715863, 0.7132658303201811, 0.6047720014835262, 0.631309328851753, 0.7479930280869022, 0.7980410886181527, 0.7154643748419605, 0.7575127874372253, 0.7778480760079579, 0.7318695892229258, 0.7767306717211923, 0.7561793504802228, 0.7891278383090732, 0.7862358192400998, 0.7209433738011317, 0.687230402637113, 0.611150668820699, 0.7217548472243482, 0.7271450811356258, 0.8153643422443569, 0.8388739499332357, 0.7981400422525331, 0.7790227810037651, 0.7528581429871612, 0.7550112020504395, 0.7714615355586437, 0.8028342313530277, 0.7340981294948001, 0.7305051566558052, 0.6571687456091264, 0.6133413544739467, 0.6946683643259527, 0.6909736691044804, 0.7810093721461082, 0.8318151215823368, 0.8133455980715203, 0.8201880712593845, 0.7816304411450529, 0.7961616930951266, 0.7590490241516219, 0.7432181100417017, 0.6787282399992702, 0.6614509669891724, 0.6628493425103684, 0.6608835216992661, 0.6915223244937252, 0.6787191842388369, 0.6650818149422951, 0.7332414941479937, 0.6650113888021546, 0.7084047833112622, 0.6748300258697366, 0.6886005321066275, 0.7277042090376797, 0.6546624693987932]\n",
      "[0.76877387 0.75354027 0.77208731 ... 0.68860053 0.72770421 0.65466247]\n"
     ]
    },
    {
     "name": "stderr",
     "output_type": "stream",
     "text": [
      "QObject::moveToThread: Current thread (0x561f5e70e950) is not the object's thread (0x561f3ca154d0).\n",
      "Cannot move to target thread (0x561f5e70e950)\n",
      "\n",
      "QObject::moveToThread: Current thread (0x561f5e70e950) is not the object's thread (0x561f3ca154d0).\n",
      "Cannot move to target thread (0x561f5e70e950)\n",
      "\n",
      "QObject::moveToThread: Current thread (0x561f5e70e950) is not the object's thread (0x561f3ca154d0).\n",
      "Cannot move to target thread (0x561f5e70e950)\n",
      "\n",
      "QObject::moveToThread: Current thread (0x561f5e70e950) is not the object's thread (0x561f3ca154d0).\n",
      "Cannot move to target thread (0x561f5e70e950)\n",
      "\n",
      "QObject::moveToThread: Current thread (0x561f5e70e950) is not the object's thread (0x561f3ca154d0).\n",
      "Cannot move to target thread (0x561f5e70e950)\n",
      "\n",
      "QObject::moveToThread: Current thread (0x561f5e70e950) is not the object's thread (0x561f3ca154d0).\n",
      "Cannot move to target thread (0x561f5e70e950)\n",
      "\n",
      "QObject::moveToThread: Current thread (0x561f5e70e950) is not the object's thread (0x561f3ca154d0).\n",
      "Cannot move to target thread (0x561f5e70e950)\n",
      "\n",
      "QObject::moveToThread: Current thread (0x561f5e70e950) is not the object's thread (0x561f3ca154d0).\n",
      "Cannot move to target thread (0x561f5e70e950)\n",
      "\n",
      "QObject::moveToThread: Current thread (0x561f5e70e950) is not the object's thread (0x561f3ca154d0).\n",
      "Cannot move to target thread (0x561f5e70e950)\n",
      "\n",
      "QObject::moveToThread: Current thread (0x561f5e70e950) is not the object's thread (0x561f3ca154d0).\n",
      "Cannot move to target thread (0x561f5e70e950)\n",
      "\n",
      "QObject::moveToThread: Current thread (0x561f5e70e950) is not the object's thread (0x561f3ca154d0).\n",
      "Cannot move to target thread (0x561f5e70e950)\n",
      "\n",
      "QObject::moveToThread: Current thread (0x561f5e70e950) is not the object's thread (0x561f3ca154d0).\n",
      "Cannot move to target thread (0x561f5e70e950)\n",
      "\n",
      "QObject::moveToThread: Current thread (0x561f5e70e950) is not the object's thread (0x561f3ca154d0).\n",
      "Cannot move to target thread (0x561f5e70e950)\n",
      "\n",
      "QObject::moveToThread: Current thread (0x561f5e70e950) is not the object's thread (0x561f3ca154d0).\n",
      "Cannot move to target thread (0x561f5e70e950)\n",
      "\n",
      "QObject::moveToThread: Current thread (0x561f5e70e950) is not the object's thread (0x561f3ca154d0).\n",
      "Cannot move to target thread (0x561f5e70e950)\n",
      "\n",
      "QObject::moveToThread: Current thread (0x561f5e70e950) is not the object's thread (0x561f3ca154d0).\n",
      "Cannot move to target thread (0x561f5e70e950)\n",
      "\n",
      "QObject::moveToThread: Current thread (0x561f5e70e950) is not the object's thread (0x561f3ca154d0).\n",
      "Cannot move to target thread (0x561f5e70e950)\n",
      "\n",
      "QObject::moveToThread: Current thread (0x561f5e70e950) is not the object's thread (0x561f3ca154d0).\n",
      "Cannot move to target thread (0x561f5e70e950)\n",
      "\n",
      "QObject::moveToThread: Current thread (0x561f5e70e950) is not the object's thread (0x561f3ca154d0).\n",
      "Cannot move to target thread (0x561f5e70e950)\n",
      "\n",
      "QObject::moveToThread: Current thread (0x561f5e70e950) is not the object's thread (0x561f3ca154d0).\n",
      "Cannot move to target thread (0x561f5e70e950)\n",
      "\n",
      "QObject::moveToThread: Current thread (0x561f5e70e950) is not the object's thread (0x561f3ca154d0).\n",
      "Cannot move to target thread (0x561f5e70e950)\n",
      "\n",
      "QObject::moveToThread: Current thread (0x561f5e70e950) is not the object's thread (0x561f3ca154d0).\n",
      "Cannot move to target thread (0x561f5e70e950)\n",
      "\n",
      "QObject::moveToThread: Current thread (0x561f5e70e950) is not the object's thread (0x561f3ca154d0).\n",
      "Cannot move to target thread (0x561f5e70e950)\n",
      "\n",
      "QObject::moveToThread: Current thread (0x561f5e70e950) is not the object's thread (0x561f3ca154d0).\n",
      "Cannot move to target thread (0x561f5e70e950)\n",
      "\n",
      "QObject::moveToThread: Current thread (0x561f5e70e950) is not the object's thread (0x561f3ca154d0).\n",
      "Cannot move to target thread (0x561f5e70e950)\n",
      "\n",
      "QObject::moveToThread: Current thread (0x561f5e70e950) is not the object's thread (0x561f3ca154d0).\n",
      "Cannot move to target thread (0x561f5e70e950)\n",
      "\n",
      "QObject::moveToThread: Current thread (0x561f5e70e950) is not the object's thread (0x561f3ca154d0).\n",
      "Cannot move to target thread (0x561f5e70e950)\n",
      "\n",
      "QObject::moveToThread: Current thread (0x561f5e70e950) is not the object's thread (0x561f3ca154d0).\n",
      "Cannot move to target thread (0x561f5e70e950)\n",
      "\n",
      "QObject::moveToThread: Current thread (0x561f5e70e950) is not the object's thread (0x561f3ca154d0).\n",
      "Cannot move to target thread (0x561f5e70e950)\n",
      "\n",
      "QObject::moveToThread: Current thread (0x561f5e70e950) is not the object's thread (0x561f3ca154d0).\n",
      "Cannot move to target thread (0x561f5e70e950)\n",
      "\n",
      "QObject::moveToThread: Current thread (0x561f5e70e950) is not the object's thread (0x561f3ca154d0).\n",
      "Cannot move to target thread (0x561f5e70e950)\n",
      "\n",
      "QObject::moveToThread: Current thread (0x561f5e70e950) is not the object's thread (0x561f3ca154d0).\n",
      "Cannot move to target thread (0x561f5e70e950)\n",
      "\n",
      "QObject::moveToThread: Current thread (0x561f5e70e950) is not the object's thread (0x561f3ca154d0).\n",
      "Cannot move to target thread (0x561f5e70e950)\n",
      "\n",
      "QObject::moveToThread: Current thread (0x561f5e70e950) is not the object's thread (0x561f3ca154d0).\n",
      "Cannot move to target thread (0x561f5e70e950)\n",
      "\n",
      "QObject::moveToThread: Current thread (0x561f5e70e950) is not the object's thread (0x561f3ca154d0).\n",
      "Cannot move to target thread (0x561f5e70e950)\n",
      "\n",
      "QObject::moveToThread: Current thread (0x561f5e70e950) is not the object's thread (0x561f3ca154d0).\n",
      "Cannot move to target thread (0x561f5e70e950)\n",
      "\n",
      "QObject::moveToThread: Current thread (0x561f5e70e950) is not the object's thread (0x561f3ca154d0).\n",
      "Cannot move to target thread (0x561f5e70e950)\n",
      "\n",
      "QObject::moveToThread: Current thread (0x561f5e70e950) is not the object's thread (0x561f3ca154d0).\n",
      "Cannot move to target thread (0x561f5e70e950)\n",
      "\n",
      "QObject::moveToThread: Current thread (0x561f5e70e950) is not the object's thread (0x561f3ca154d0).\n",
      "Cannot move to target thread (0x561f5e70e950)\n",
      "\n",
      "QObject::moveToThread: Current thread (0x561f5e70e950) is not the object's thread (0x561f3ca154d0).\n",
      "Cannot move to target thread (0x561f5e70e950)\n",
      "\n",
      "QObject::moveToThread: Current thread (0x561f5e70e950) is not the object's thread (0x561f3ca154d0).\n",
      "Cannot move to target thread (0x561f5e70e950)\n",
      "\n",
      "QObject::moveToThread: Current thread (0x561f5e70e950) is not the object's thread (0x561f3ca154d0).\n",
      "Cannot move to target thread (0x561f5e70e950)\n",
      "\n",
      "QObject::moveToThread: Current thread (0x561f5e70e950) is not the object's thread (0x561f3ca154d0).\n",
      "Cannot move to target thread (0x561f5e70e950)\n",
      "\n",
      "QObject::moveToThread: Current thread (0x561f5e70e950) is not the object's thread (0x561f3ca154d0).\n",
      "Cannot move to target thread (0x561f5e70e950)\n",
      "\n",
      "QObject::moveToThread: Current thread (0x561f5e70e950) is not the object's thread (0x561f3ca154d0).\n",
      "Cannot move to target thread (0x561f5e70e950)\n",
      "\n",
      "QObject::moveToThread: Current thread (0x561f5e70e950) is not the object's thread (0x561f3ca154d0).\n",
      "Cannot move to target thread (0x561f5e70e950)\n",
      "\n",
      "QObject::moveToThread: Current thread (0x561f5e70e950) is not the object's thread (0x561f3ca154d0).\n",
      "Cannot move to target thread (0x561f5e70e950)\n",
      "\n",
      "QObject::moveToThread: Current thread (0x561f5e70e950) is not the object's thread (0x561f3ca154d0).\n",
      "Cannot move to target thread (0x561f5e70e950)\n",
      "\n",
      "QObject::moveToThread: Current thread (0x561f5e70e950) is not the object's thread (0x561f3ca154d0).\n",
      "Cannot move to target thread (0x561f5e70e950)\n",
      "\n",
      "QObject::moveToThread: Current thread (0x561f5e70e950) is not the object's thread (0x561f3ca154d0).\n",
      "Cannot move to target thread (0x561f5e70e950)\n",
      "\n",
      "QObject::moveToThread: Current thread (0x561f5e70e950) is not the object's thread (0x561f3ca154d0).\n",
      "Cannot move to target thread (0x561f5e70e950)\n",
      "\n",
      "QObject::moveToThread: Current thread (0x561f5e70e950) is not the object's thread (0x561f3ca154d0).\n",
      "Cannot move to target thread (0x561f5e70e950)\n",
      "\n",
      "QObject::moveToThread: Current thread (0x561f5e70e950) is not the object's thread (0x561f3ca154d0).\n",
      "Cannot move to target thread (0x561f5e70e950)\n",
      "\n",
      "QObject::moveToThread: Current thread (0x561f5e70e950) is not the object's thread (0x561f3ca154d0).\n",
      "Cannot move to target thread (0x561f5e70e950)\n",
      "\n",
      "QObject::moveToThread: Current thread (0x561f5e70e950) is not the object's thread (0x561f3ca154d0).\n",
      "Cannot move to target thread (0x561f5e70e950)\n",
      "\n",
      "QObject::moveToThread: Current thread (0x561f5e70e950) is not the object's thread (0x561f3ca154d0).\n",
      "Cannot move to target thread (0x561f5e70e950)\n",
      "\n",
      "QObject::moveToThread: Current thread (0x561f5e70e950) is not the object's thread (0x561f3ca154d0).\n",
      "Cannot move to target thread (0x561f5e70e950)\n",
      "\n",
      "QObject::moveToThread: Current thread (0x561f5e70e950) is not the object's thread (0x561f3ca154d0).\n",
      "Cannot move to target thread (0x561f5e70e950)\n",
      "\n",
      "QObject::moveToThread: Current thread (0x561f5e70e950) is not the object's thread (0x561f3ca154d0).\n",
      "Cannot move to target thread (0x561f5e70e950)\n",
      "\n",
      "QObject::moveToThread: Current thread (0x561f5e70e950) is not the object's thread (0x561f3ca154d0).\n",
      "Cannot move to target thread (0x561f5e70e950)\n",
      "\n",
      "QObject::moveToThread: Current thread (0x561f5e70e950) is not the object's thread (0x561f3ca154d0).\n",
      "Cannot move to target thread (0x561f5e70e950)\n",
      "\n",
      "QObject::moveToThread: Current thread (0x561f5e70e950) is not the object's thread (0x561f3ca154d0).\n",
      "Cannot move to target thread (0x561f5e70e950)\n",
      "\n",
      "QObject::moveToThread: Current thread (0x561f5e70e950) is not the object's thread (0x561f3ca154d0).\n",
      "Cannot move to target thread (0x561f5e70e950)\n",
      "\n",
      "QObject::moveToThread: Current thread (0x561f5e70e950) is not the object's thread (0x561f3ca154d0).\n",
      "Cannot move to target thread (0x561f5e70e950)\n",
      "\n",
      "QObject::moveToThread: Current thread (0x561f5e70e950) is not the object's thread (0x561f3ca154d0).\n",
      "Cannot move to target thread (0x561f5e70e950)\n",
      "\n",
      "QObject::moveToThread: Current thread (0x561f5e70e950) is not the object's thread (0x561f3ca154d0).\n",
      "Cannot move to target thread (0x561f5e70e950)\n",
      "\n",
      "QObject::moveToThread: Current thread (0x561f5e70e950) is not the object's thread (0x561f3ca154d0).\n",
      "Cannot move to target thread (0x561f5e70e950)\n",
      "\n",
      "QObject::moveToThread: Current thread (0x561f5e70e950) is not the object's thread (0x561f3ca154d0).\n",
      "Cannot move to target thread (0x561f5e70e950)\n",
      "\n",
      "QObject::moveToThread: Current thread (0x561f5e70e950) is not the object's thread (0x561f3ca154d0).\n",
      "Cannot move to target thread (0x561f5e70e950)\n",
      "\n",
      "QObject::moveToThread: Current thread (0x561f5e70e950) is not the object's thread (0x561f3ca154d0).\n",
      "Cannot move to target thread (0x561f5e70e950)\n",
      "\n",
      "QObject::moveToThread: Current thread (0x561f5e70e950) is not the object's thread (0x561f3ca154d0).\n",
      "Cannot move to target thread (0x561f5e70e950)\n",
      "\n",
      "QObject::moveToThread: Current thread (0x561f5e70e950) is not the object's thread (0x561f3ca154d0).\n",
      "Cannot move to target thread (0x561f5e70e950)\n",
      "\n",
      "QObject::moveToThread: Current thread (0x561f5e70e950) is not the object's thread (0x561f3ca154d0).\n",
      "Cannot move to target thread (0x561f5e70e950)\n",
      "\n",
      "QObject::moveToThread: Current thread (0x561f5e70e950) is not the object's thread (0x561f3ca154d0).\n",
      "Cannot move to target thread (0x561f5e70e950)\n",
      "\n",
      "QObject::moveToThread: Current thread (0x561f5e70e950) is not the object's thread (0x561f3ca154d0).\n",
      "Cannot move to target thread (0x561f5e70e950)\n",
      "\n",
      "QObject::moveToThread: Current thread (0x561f5e70e950) is not the object's thread (0x561f3ca154d0).\n",
      "Cannot move to target thread (0x561f5e70e950)\n",
      "\n",
      "QObject::moveToThread: Current thread (0x561f5e70e950) is not the object's thread (0x561f3ca154d0).\n",
      "Cannot move to target thread (0x561f5e70e950)\n",
      "\n",
      "QObject::moveToThread: Current thread (0x561f5e70e950) is not the object's thread (0x561f3ca154d0).\n",
      "Cannot move to target thread (0x561f5e70e950)\n",
      "\n",
      "QObject::moveToThread: Current thread (0x561f5e70e950) is not the object's thread (0x561f3ca154d0).\n",
      "Cannot move to target thread (0x561f5e70e950)\n",
      "\n",
      "QObject::moveToThread: Current thread (0x561f5e70e950) is not the object's thread (0x561f3ca154d0).\n",
      "Cannot move to target thread (0x561f5e70e950)\n",
      "\n",
      "QObject::moveToThread: Current thread (0x561f5e70e950) is not the object's thread (0x561f3ca154d0).\n",
      "Cannot move to target thread (0x561f5e70e950)\n",
      "\n",
      "QObject::moveToThread: Current thread (0x561f5e70e950) is not the object's thread (0x561f3ca154d0).\n",
      "Cannot move to target thread (0x561f5e70e950)\n",
      "\n",
      "QObject::moveToThread: Current thread (0x561f5e70e950) is not the object's thread (0x561f3ca154d0).\n",
      "Cannot move to target thread (0x561f5e70e950)\n",
      "\n",
      "QObject::moveToThread: Current thread (0x561f5e70e950) is not the object's thread (0x561f3ca154d0).\n",
      "Cannot move to target thread (0x561f5e70e950)\n",
      "\n",
      "QObject::moveToThread: Current thread (0x561f5e70e950) is not the object's thread (0x561f3ca154d0).\n",
      "Cannot move to target thread (0x561f5e70e950)\n",
      "\n",
      "QObject::moveToThread: Current thread (0x561f5e70e950) is not the object's thread (0x561f3ca154d0).\n",
      "Cannot move to target thread (0x561f5e70e950)\n",
      "\n",
      "QObject::moveToThread: Current thread (0x561f5e70e950) is not the object's thread (0x561f3ca154d0).\n",
      "Cannot move to target thread (0x561f5e70e950)\n",
      "\n",
      "QObject::moveToThread: Current thread (0x561f5e70e950) is not the object's thread (0x561f3ca154d0).\n",
      "Cannot move to target thread (0x561f5e70e950)\n",
      "\n",
      "QObject::moveToThread: Current thread (0x561f5e70e950) is not the object's thread (0x561f3ca154d0).\n",
      "Cannot move to target thread (0x561f5e70e950)\n",
      "\n",
      "QObject::moveToThread: Current thread (0x561f5e70e950) is not the object's thread (0x561f3ca154d0).\n",
      "Cannot move to target thread (0x561f5e70e950)\n",
      "\n",
      "QObject::moveToThread: Current thread (0x561f5e70e950) is not the object's thread (0x561f3ca154d0).\n",
      "Cannot move to target thread (0x561f5e70e950)\n",
      "\n",
      "QObject::moveToThread: Current thread (0x561f5e70e950) is not the object's thread (0x561f3ca154d0).\n",
      "Cannot move to target thread (0x561f5e70e950)\n",
      "\n",
      "QObject::moveToThread: Current thread (0x561f5e70e950) is not the object's thread (0x561f3ca154d0).\n",
      "Cannot move to target thread (0x561f5e70e950)\n",
      "\n",
      "QObject::moveToThread: Current thread (0x561f5e70e950) is not the object's thread (0x561f3ca154d0).\n",
      "Cannot move to target thread (0x561f5e70e950)\n",
      "\n",
      "QObject::moveToThread: Current thread (0x561f5e70e950) is not the object's thread (0x561f3ca154d0).\n",
      "Cannot move to target thread (0x561f5e70e950)\n",
      "\n",
      "QObject::moveToThread: Current thread (0x561f5e70e950) is not the object's thread (0x561f3ca154d0).\n",
      "Cannot move to target thread (0x561f5e70e950)\n",
      "\n",
      "QObject::moveToThread: Current thread (0x561f5e70e950) is not the object's thread (0x561f3ca154d0).\n",
      "Cannot move to target thread (0x561f5e70e950)\n",
      "\n",
      "QObject::moveToThread: Current thread (0x561f5e70e950) is not the object's thread (0x561f3ca154d0).\n",
      "Cannot move to target thread (0x561f5e70e950)\n",
      "\n",
      "QObject::moveToThread: Current thread (0x561f5e70e950) is not the object's thread (0x561f3ca154d0).\n",
      "Cannot move to target thread (0x561f5e70e950)\n",
      "\n",
      "QObject::moveToThread: Current thread (0x561f5e70e950) is not the object's thread (0x561f3ca154d0).\n",
      "Cannot move to target thread (0x561f5e70e950)\n",
      "\n",
      "QObject::moveToThread: Current thread (0x561f5e70e950) is not the object's thread (0x561f3ca154d0).\n",
      "Cannot move to target thread (0x561f5e70e950)\n",
      "\n",
      "QObject::moveToThread: Current thread (0x561f5e70e950) is not the object's thread (0x561f3ca154d0).\n",
      "Cannot move to target thread (0x561f5e70e950)\n",
      "\n",
      "QObject::moveToThread: Current thread (0x561f5e70e950) is not the object's thread (0x561f3ca154d0).\n",
      "Cannot move to target thread (0x561f5e70e950)\n",
      "\n",
      "QObject::moveToThread: Current thread (0x561f5e70e950) is not the object's thread (0x561f3ca154d0).\n",
      "Cannot move to target thread (0x561f5e70e950)\n",
      "\n",
      "QObject::moveToThread: Current thread (0x561f5e70e950) is not the object's thread (0x561f3ca154d0).\n",
      "Cannot move to target thread (0x561f5e70e950)\n",
      "\n",
      "QObject::moveToThread: Current thread (0x561f5e70e950) is not the object's thread (0x561f3ca154d0).\n",
      "Cannot move to target thread (0x561f5e70e950)\n",
      "\n",
      "QObject::moveToThread: Current thread (0x561f5e70e950) is not the object's thread (0x561f3ca154d0).\n",
      "Cannot move to target thread (0x561f5e70e950)\n",
      "\n",
      "QObject::moveToThread: Current thread (0x561f5e70e950) is not the object's thread (0x561f3ca154d0).\n",
      "Cannot move to target thread (0x561f5e70e950)\n",
      "\n",
      "QObject::moveToThread: Current thread (0x561f5e70e950) is not the object's thread (0x561f3ca154d0).\n",
      "Cannot move to target thread (0x561f5e70e950)\n",
      "\n",
      "QObject::moveToThread: Current thread (0x561f5e70e950) is not the object's thread (0x561f3ca154d0).\n",
      "Cannot move to target thread (0x561f5e70e950)\n",
      "\n",
      "QObject::moveToThread: Current thread (0x561f5e70e950) is not the object's thread (0x561f3ca154d0).\n",
      "Cannot move to target thread (0x561f5e70e950)\n",
      "\n",
      "QObject::moveToThread: Current thread (0x561f5e70e950) is not the object's thread (0x561f3ca154d0).\n",
      "Cannot move to target thread (0x561f5e70e950)\n",
      "\n",
      "QObject::moveToThread: Current thread (0x561f5e70e950) is not the object's thread (0x561f3ca154d0).\n",
      "Cannot move to target thread (0x561f5e70e950)\n",
      "\n",
      "QObject::moveToThread: Current thread (0x561f5e70e950) is not the object's thread (0x561f3ca154d0).\n",
      "Cannot move to target thread (0x561f5e70e950)\n",
      "\n",
      "QObject::moveToThread: Current thread (0x561f5e70e950) is not the object's thread (0x561f3ca154d0).\n",
      "Cannot move to target thread (0x561f5e70e950)\n",
      "\n",
      "QObject::moveToThread: Current thread (0x561f5e70e950) is not the object's thread (0x561f3ca154d0).\n",
      "Cannot move to target thread (0x561f5e70e950)\n",
      "\n",
      "QObject::moveToThread: Current thread (0x561f5e70e950) is not the object's thread (0x561f3ca154d0).\n",
      "Cannot move to target thread (0x561f5e70e950)\n",
      "\n",
      "QObject::moveToThread: Current thread (0x561f5e70e950) is not the object's thread (0x561f3ca154d0).\n",
      "Cannot move to target thread (0x561f5e70e950)\n",
      "\n",
      "QObject::moveToThread: Current thread (0x561f5e70e950) is not the object's thread (0x561f3ca154d0).\n",
      "Cannot move to target thread (0x561f5e70e950)\n",
      "\n",
      "QObject::moveToThread: Current thread (0x561f5e70e950) is not the object's thread (0x561f3ca154d0).\n",
      "Cannot move to target thread (0x561f5e70e950)\n",
      "\n",
      "QObject::moveToThread: Current thread (0x561f5e70e950) is not the object's thread (0x561f3ca154d0).\n",
      "Cannot move to target thread (0x561f5e70e950)\n",
      "\n",
      "QObject::moveToThread: Current thread (0x561f5e70e950) is not the object's thread (0x561f3ca154d0).\n",
      "Cannot move to target thread (0x561f5e70e950)\n",
      "\n",
      "QObject::moveToThread: Current thread (0x561f5e70e950) is not the object's thread (0x561f3ca154d0).\n",
      "Cannot move to target thread (0x561f5e70e950)\n",
      "\n",
      "QObject::moveToThread: Current thread (0x561f5e70e950) is not the object's thread (0x561f3ca154d0).\n",
      "Cannot move to target thread (0x561f5e70e950)\n",
      "\n",
      "QObject::moveToThread: Current thread (0x561f5e70e950) is not the object's thread (0x561f3ca154d0).\n",
      "Cannot move to target thread (0x561f5e70e950)\n",
      "\n",
      "QObject::moveToThread: Current thread (0x561f5e70e950) is not the object's thread (0x561f3ca154d0).\n",
      "Cannot move to target thread (0x561f5e70e950)\n",
      "\n",
      "QObject::moveToThread: Current thread (0x561f5e70e950) is not the object's thread (0x561f3ca154d0).\n",
      "Cannot move to target thread (0x561f5e70e950)\n",
      "\n",
      "QObject::moveToThread: Current thread (0x561f5e70e950) is not the object's thread (0x561f3ca154d0).\n",
      "Cannot move to target thread (0x561f5e70e950)\n",
      "\n",
      "QObject::moveToThread: Current thread (0x561f5e70e950) is not the object's thread (0x561f3ca154d0).\n",
      "Cannot move to target thread (0x561f5e70e950)\n",
      "\n",
      "QObject::moveToThread: Current thread (0x561f5e70e950) is not the object's thread (0x561f3ca154d0).\n",
      "Cannot move to target thread (0x561f5e70e950)\n",
      "\n"
     ]
    }
   ],
   "source": [
    "from skimage.feature import hog\n",
    "from skimage.transform import pyramid_gaussian\n",
    "from skimage import color\n",
    "from imutils.object_detection import non_max_suppression\n",
    "import numpy as np\n",
    "import cv2\n",
    "import os\n",
    "import joblib\n",
    "\n",
    "#Define HOG Parameters\n",
    "# change them if necessary to orientations = 8, pixels per cell = (16,16), cells per block to (1,1) for weaker HOG\n",
    "orientations = 9\n",
    "pixels_per_cell = (8, 8)\n",
    "cells_per_block = (2, 2)\n",
    "threshold = .3\n",
    "\n",
    "# define the sliding window:\n",
    "def sliding_window(image, stepSize, windowSize):# image is the input, step size is the no.of pixels needed to skip and windowSize is the size of the actual window\n",
    "    # slide a window across the image\n",
    "    for y in range(0, image.shape[0], stepSize):# this line and the line below actually defines the sliding part and loops over the x and y coordinates\n",
    "        for x in range(0, image.shape[1], stepSize):\n",
    "            # yield the current window\n",
    "            yield (x, y, image[y: y + windowSize[1], x:x + windowSize[0]])\n",
    "#%%\n",
    "# Upload the saved svm model:\n",
    "model = joblib.load('model_name.npy')\n",
    "\n",
    "# Test the trained classifier on an image below!\n",
    "scale = 0\n",
    "detections = []\n",
    "# read the image you want to detect the object in:\n",
    "img= cv2.imread(\"9.jpeg\")\n",
    "\n",
    "# Try it with image resized if the image is too big\n",
    "# img= cv2.resize(img,(300,200)) # can change the size to default by commenting this code out our put in a random number\n",
    "\n",
    "# defining the size of the sliding window (has to be, same as the size of the image in the training data)\n",
    "(winW, winH)= (360,180)\n",
    "windowSize=(winW,winH)\n",
    "downscale=2\n",
    "# Apply sliding window:\n",
    "for resized in pyramid_gaussian(img, downscale=2,multichannel = True): # loop over each layer of the image that you take!\n",
    "    # loop over the sliding window for each layer of the pyramid\n",
    "    for (x,y,window) in sliding_window(resized, stepSize=20, windowSize=(winW,winH)):\n",
    "        # if the window does not meet our desired window size, ignore it!\n",
    "        if window.shape[0] != winH or window.shape[1] !=winW: # ensure the sliding window has met the minimum size requirement\n",
    "            continue\n",
    "        # window=color.rgb2gray(window)\n",
    "        fds, img_hog = hog(\n",
    "                window, pixels_per_cell=(8,8), \n",
    "                cells_per_block=(2, 2), \n",
    "                orientations=9, \n",
    "                visualize=True, \n",
    "                block_norm='L2', \n",
    "                multichannel=True)\n",
    "        fds = fds.reshape(1, -1) # re shape the image to make a silouhette of hog\n",
    "        pred = model.predict(fds) # use the SVM model to make a prediction on the HOG features extracted from the window\n",
    "        output = model.predict_proba(fds)\n",
    "        output = np.array([output])\n",
    "        # print(output.max())\n",
    "        if output.max() > 0.6:  # set a threshold value for the SVM prediction i.e. only firm the predictions above probability of 0.6\n",
    "            print(\"Detection:: Location -> ({}, {})\".format(x, y))\n",
    "            print(\"Scale ->  {} | Confidence Score {} \\n\".format(scale,output.max()))\n",
    "            detections.append((int(x * (downscale**scale)), int(y * (downscale**scale)), output.max(),\n",
    "                                int(windowSize[0]*(downscale**scale)), # create a list of all the predictions found\n",
    "                                    int(windowSize[1]*(downscale**scale))))\n",
    "    scale+=1\n",
    "    \n",
    "# clone = resized.copy()\n",
    "# for (x_tl, y_tl, _, w, h) in detections:\n",
    "#     cv2.rectangle(img, (x_tl, y_tl), (x_tl + w, y_tl + h), (0, 0, 255), thickness = 2)\n",
    "rects = np.array([[x, y, x + w, y + h] for (x, y, _, w, h) in detections]) # do nms on the detected bounding boxes\n",
    "sc = [score for (x, y, score, w, h) in detections]\n",
    "print(\"detection confidence score: \", sc)\n",
    "sc = np.array(sc)\n",
    "print(sc)\n",
    "pick = non_max_suppression(rects, probs = sc, overlapThresh = 0.5)\n",
    "\n",
    "# the peice of code above creates a raw bounding box prior to using NMS\n",
    "# the code below creates a bounding box after using nms on the detections\n",
    "# you can choose which one you want to visualise, as you deem fit... simply use the following function:\n",
    "# cv2.imshow in this right place (since python is procedural it will go through the code line by line).\n",
    "        \n",
    "for (xA, yA, xB, yB) in pick:\n",
    "    cv2.rectangle(img, (xA, yA), (xB, yB), (0,255,0), 2)\n",
    "cv2.imshow(\"Raw Detections after NMS\", img)\n",
    "#### Save the images below\n",
    "k = cv2.waitKey(0) & 0xFF \n",
    "if k == 27:             #wait for ESC key to exit\n",
    "    cv2.destroyAllWindows()\n",
    "elif k == ord('s'):\n",
    "    cv2.imwrite('saved_image_1.png',img)\n",
    "    cv2.destroyAllWindows()"
   ]
  },
  {
   "cell_type": "code",
   "execution_count": null,
   "metadata": {},
   "outputs": [
    {
     "name": "stdout",
     "output_type": "stream",
     "text": [
      "(995, 1280, 3)\n",
      "(498, 640, 3)\n",
      "(249, 320, 3)\n",
      "(125, 160, 3)\n",
      "(63, 80, 3)\n",
      "(32, 40, 3)\n",
      "(16, 20, 3)\n",
      "(8, 10, 3)\n",
      "(4, 5, 3)\n",
      "(2, 3, 3)\n",
      "(1, 2, 3)\n",
      "(1, 1, 3)\n",
      "detection confidence score:  []\n"
     ]
    },
    {
     "name": "stderr",
     "output_type": "stream",
     "text": [
      "/tmp/ipykernel_33190/439079968.py:13: FutureWarning: `multichannel` is a deprecated argument name for `pyramid_gaussian`. It will be removed in version 1.0. Please use `channel_axis` instead.\n",
      "  for resize in pyramid_gaussian(image=img, downscale=2, multichannel = True):\n"
     ]
    }
   ],
   "source": [
    "from slidingwindow import sliding_window\n",
    "from imutils.object_detection import non_max_suppression\n",
    "import cv2\n",
    "from skimage.transform import pyramid_gaussian\n",
    "\n",
    "\n",
    "img = cv2.imread('9.jpeg')\n",
    "(winW, winH)= (220,220)\n",
    "windowSize=(winW,winH)\n",
    "downscale=2\n",
    "scale = 0\n",
    "detections = []\n",
    "for resize in pyramid_gaussian(image=img, downscale=2, multichannel = True):\n",
    "    print(resize.shape)\n",
    "    for (x,y,window) in sliding_window(resize, stepSize = 20, windowSize=(winW,winH)):\n",
    "        if window.shape[0] != winH or window.shape[1] !=winW: # ensure the sliding window has met the minimum size requirement\n",
    "            continue\n",
    "        # image = tf.expand_dims(window, axis=0)\n",
    "        # input_arr = tf.keras.preprocessing.image.img_to_array(image)\n",
    "        # input_arr = np.array([input_arr])  # Convert single image to a batch.\n",
    "        # predictions = load_model.predict(image)\n",
    "        # print(predictions)\n",
    "        # predictions = np.array(predictions)\n",
    "        # output = softmax(predictions)\n",
    "        # print(output)\n",
    "        # window = color.rgb2gray(window)\n",
    "        # print(window)\n",
    "        # loss, = load_model(window)\n",
    "        # if output.max() > 0.9:  # set a threshold value for the SVM prediction i.e. only firm the predictions above probability of 0.6\n",
    "        #         print(\"Detection:: Location -> ({}, {})\".format(x, y))\n",
    "        #         print(\"Scale ->  {} | Confidence Score {} | Class {}\\n\".format(scale, output.max(), np.argmax(output)))\n",
    "        #         detections.append((int(x * (downscale**scale)), int(y * (downscale**scale)), output.max(),\n",
    "        #                            int(windowSize[0]*(downscale**scale)), # create a list of all the predictions found\n",
    "        #                               int(windowSize[1]*(downscale**scale))))\n",
    "       \n",
    "    scale+=1\n",
    "\n",
    "\n",
    "# for (x_tl, y_tl, _, w, h) in detections:\n",
    "#     cv2.rectangle(img, (x_tl, y_tl), (x_tl + w, y_tl + h), (0, 0, 255), thickness = 2)\n",
    "rects = np.array([[x, y, x + w, y + h] for (x, y, _, w, h) in detections]) # do nms on the detected bounding boxes\n",
    "sc = [score for (x, y, score, w, h) in detections]\n",
    "print(\"detection confidence score: \", sc)\n",
    "sc = np.array(sc)\n",
    "pick = non_max_suppression(rects, probs = sc, overlapThresh = 0.3)"
   ]
  }
 ],
 "metadata": {
  "interpreter": {
   "hash": "4f13735fdd0362bc7d760dde623846a8de6012db213e2c5f7cf90e3539ea15a3"
  },
  "kernelspec": {
   "display_name": "Python 3.9.12 ('tf')",
   "language": "python",
   "name": "python3"
  },
  "language_info": {
   "codemirror_mode": {
    "name": "ipython",
    "version": 3
   },
   "file_extension": ".py",
   "mimetype": "text/x-python",
   "name": "python",
   "nbconvert_exporter": "python",
   "pygments_lexer": "ipython3",
   "version": "3.9.12"
  },
  "orig_nbformat": 4
 },
 "nbformat": 4,
 "nbformat_minor": 2
}
